{
 "cells": [
  {
   "cell_type": "code",
   "execution_count": null,
   "metadata": {},
   "outputs": [],
   "source": [
    "from ccmm.utils.utils import average_models\n",
    "\n",
    "\n",
    "for ref_symbol in symbols:\n",
    "    ref_model = copy.deepcopy(models[ref_symbol])\n",
    "\n",
    "    all_models_permuted_to_ref = {symb: models_permuted_pairwise[ref_symbol][symb] for symb in symbols}\n",
    "\n",
    "    model_params = {symbol: model.state_dict() for symbol, model in all_models_permuted_to_ref.items()}\n",
    "\n",
    "    mean_params = average_models(model_params)\n",
    "\n",
    "    ref_model.load_state_dict(mean_params)\n",
    "\n",
    "    results = trainer.test(ref_model, test_loader, verbose=True)"
   ]
  }
 ],
 "metadata": {
  "language_info": {
   "name": "python"
  }
 },
 "nbformat": 4,
 "nbformat_minor": 2
}
