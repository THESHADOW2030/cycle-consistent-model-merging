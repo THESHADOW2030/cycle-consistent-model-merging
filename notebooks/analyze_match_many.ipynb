{
 "cells": [
  {
   "cell_type": "markdown",
   "metadata": {},
   "source": [
    "## Imports"
   ]
  },
  {
   "cell_type": "code",
   "execution_count": 1,
   "metadata": {},
   "outputs": [
    {
     "name": "stderr",
     "output_type": "stream",
     "text": [
      "/home/daniele/miniconda3/envs/ccmm/lib/python3.9/site-packages/tqdm/auto.py:21: TqdmWarning: IProgress not found. Please update jupyter and ipywidgets. See https://ipywidgets.readthedocs.io/en/stable/user_install.html\n",
      "  from .autonotebook import tqdm as notebook_tqdm\n",
      "/home/daniele/miniconda3/envs/ccmm/lib/python3.9/site-packages/torchvision/io/image.py:13: UserWarning: Failed to load image Python extension: '/home/daniele/miniconda3/envs/ccmm/lib/python3.9/site-packages/torchvision/image.so: undefined symbol: _ZNK3c107SymBool10guard_boolEPKcl'If you don't plan on using image functionality from `torchvision.io`, you can ignore this warning. Otherwise, there might be something wrong with your environment. Did you have `libjpeg` or `libpng` installed before building `torchvision` from source?\n",
      "  warn(\n"
     ]
    }
   ],
   "source": [
    "import copy\n",
    "import logging\n",
    "from pathlib import Path\n",
    "from typing import Dict\n",
    "import math\n",
    "\n",
    "import hydra\n",
    "import matplotlib\n",
    "import matplotlib.colors as colors\n",
    "import matplotlib.pyplot as plt\n",
    "import numpy as np\n",
    "import omegaconf\n",
    "import seaborn as sns\n",
    "import torch  # noqa\n",
    "import wandb\n",
    "from hydra.utils import instantiate\n",
    "from matplotlib import tri\n",
    "from matplotlib.offsetbox import AnnotationBbox, OffsetImage\n",
    "from omegaconf import DictConfig\n",
    "from pytorch_lightning import LightningModule\n",
    "from scipy.stats import qmc\n",
    "from torch.utils.data import DataLoader\n",
    "from tqdm import tqdm\n",
    "from ccmm.matching.utils import perm_indices_to_perm_matrix\n",
    "from ccmm.utils.utils import normalize_unit_norm, project_onto\n",
    "\n",
    "from nn_core.callbacks import NNTemplateCore\n",
    "from nn_core.common import PROJECT_ROOT\n",
    "from nn_core.common.utils import seed_index_everything\n",
    "from nn_core.model_logging import NNLogger\n",
    "from ccmm.utils.utils import fuse_batch_norm_into_conv\n",
    "from torch.utils.data import DataLoader, Subset, SubsetRandomSampler\n",
    "\n",
    "import ccmm  # noqa\n",
    "from ccmm.matching.utils import (\n",
    "    apply_permutation_to_statedict,\n",
    "    get_all_symbols_combinations,\n",
    "    plot_permutation_history_animation,\n",
    "    restore_original_weights,\n",
    ")\n",
    "from ccmm.utils.utils import (\n",
    "    linear_interpolate_state_dicts,\n",
    "    load_model_from_info,\n",
    "    map_model_seed_to_symbol,\n",
    "    save_factored_permutations,\n",
    ")\n",
    "\n",
    "from ccmm.matching.utils import load_permutations\n",
    "\n",
    "from ccmm.utils.utils import vector_to_state_dict\n",
    "import pytorch_lightning"
   ]
  },
  {
   "cell_type": "code",
   "execution_count": 2,
   "metadata": {},
   "outputs": [],
   "source": [
    "matplotlib.rcParams[\"font.family\"] = \"serif\"\n",
    "sns.set_context(\"talk\")\n",
    "matplotlib.rcParams[\"text.usetex\"] = True\n",
    "cmap_name = \"coolwarm_r\"\n",
    "\n",
    "logging.getLogger(\"lightning.pytorch\").setLevel(logging.WARNING)\n",
    "logging.getLogger(\"torch\").setLevel(logging.WARNING)\n",
    "logging.getLogger(\"pytorch_lightning.accelerators.cuda\").setLevel(logging.WARNING)\n",
    "pylogger = logging.getLogger(__name__)"
   ]
  },
  {
   "cell_type": "markdown",
   "metadata": {},
   "source": [
    "## Configuration"
   ]
  },
  {
   "cell_type": "code",
   "execution_count": 3,
   "metadata": {},
   "outputs": [
    {
     "data": {
      "text/plain": [
       "hydra.initialize()"
      ]
     },
     "execution_count": 3,
     "metadata": {},
     "output_type": "execute_result"
    }
   ],
   "source": [
    "%load_ext autoreload\n",
    "%autoreload 2\n",
    "\n",
    "import hydra\n",
    "from hydra import initialize, compose\n",
    "from typing import Dict, List\n",
    "\n",
    "hydra.core.global_hydra.GlobalHydra.instance().clear()\n",
    "initialize(version_base=None, config_path=str(\"../conf\"), job_name=\"matching_n_models\")"
   ]
  },
  {
   "cell_type": "code",
   "execution_count": 4,
   "metadata": {},
   "outputs": [],
   "source": [
    "cfg = compose(config_name=\"matching_n_models\", overrides=[])"
   ]
  },
  {
   "cell_type": "code",
   "execution_count": 5,
   "metadata": {},
   "outputs": [
    {
     "data": {
      "text/html": [
       "<pre style=\"white-space:pre;overflow-x:auto;line-height:normal;font-family:Menlo,'DejaVu Sans Mono',consolas,'Courier New',monospace\"><span style=\"color: #7fbfbf; text-decoration-color: #7fbfbf\">2024-02-01 16:36:51 </span><span style=\"color: #000080; text-decoration-color: #000080\">INFO    </span> Global seed set to <span style=\"color: #008080; text-decoration-color: #008080; font-weight: bold\">1608637542</span>                      <a href=\"file:///home/daniele/miniconda3/envs/ccmm/lib/python3.9/site-packages/pytorch_lightning/utilities/seed.py\" target=\"_blank\"><span style=\"color: #7f7f7f; text-decoration-color: #7f7f7f\">pytorch_lightning.utilities.seed</span></a><span style=\"color: #7f7f7f; text-decoration-color: #7f7f7f\">:</span><a href=\"file:///home/daniele/miniconda3/envs/ccmm/lib/python3.9/site-packages/pytorch_lightning/utilities/seed.py#71\" target=\"_blank\"><span style=\"color: #7f7f7f; text-decoration-color: #7f7f7f\">71</span></a>\n",
       "</pre>\n"
      ],
      "text/plain": [
       "\u001b[2;36m2024-02-01 16:36:51\u001b[0m\u001b[2;36m \u001b[0m\u001b[34mINFO    \u001b[0m Global seed set to \u001b[1;36m1608637542\u001b[0m                      \u001b]8;id=406315;file:///home/daniele/miniconda3/envs/ccmm/lib/python3.9/site-packages/pytorch_lightning/utilities/seed.py\u001b\\\u001b[2mpytorch_lightning.utilities.seed\u001b[0m\u001b]8;;\u001b\\\u001b[2m:\u001b[0m\u001b]8;id=562903;file:///home/daniele/miniconda3/envs/ccmm/lib/python3.9/site-packages/pytorch_lightning/utilities/seed.py#71\u001b\\\u001b[2m71\u001b[0m\u001b]8;;\u001b\\\n"
      ]
     },
     "metadata": {},
     "output_type": "display_data"
    },
    {
     "data": {
      "text/html": [
       "<pre style=\"white-space:pre;overflow-x:auto;line-height:normal;font-family:Menlo,'DejaVu Sans Mono',consolas,'Courier New',monospace\"><span style=\"color: #7fbfbf; text-decoration-color: #7fbfbf\">                    </span><span style=\"color: #000080; text-decoration-color: #000080\">INFO    </span> Setting seed <span style=\"color: #008080; text-decoration-color: #008080; font-weight: bold\">1608637542</span> from seeds<span style=\"font-weight: bold\">[</span><span style=\"color: #008080; text-decoration-color: #008080; font-weight: bold\">0</span><span style=\"font-weight: bold\">]</span>                         <a href=\"file:///home/daniele/miniconda3/envs/ccmm/lib/python3.9/site-packages/nn_core/common/utils.py\" target=\"_blank\"><span style=\"color: #7f7f7f; text-decoration-color: #7f7f7f\">nn_core.common.utils</span></a><span style=\"color: #7f7f7f; text-decoration-color: #7f7f7f\">:</span><a href=\"file:///home/daniele/miniconda3/envs/ccmm/lib/python3.9/site-packages/nn_core/common/utils.py#107\" target=\"_blank\"><span style=\"color: #7f7f7f; text-decoration-color: #7f7f7f\">107</span></a>\n",
       "</pre>\n"
      ],
      "text/plain": [
       "\u001b[2;36m                   \u001b[0m\u001b[2;36m \u001b[0m\u001b[34mINFO    \u001b[0m Setting seed \u001b[1;36m1608637542\u001b[0m from seeds\u001b[1m[\u001b[0m\u001b[1;36m0\u001b[0m\u001b[1m]\u001b[0m                         \u001b]8;id=506654;file:///home/daniele/miniconda3/envs/ccmm/lib/python3.9/site-packages/nn_core/common/utils.py\u001b\\\u001b[2mnn_core.common.utils\u001b[0m\u001b]8;;\u001b\\\u001b[2m:\u001b[0m\u001b]8;id=125355;file:///home/daniele/miniconda3/envs/ccmm/lib/python3.9/site-packages/nn_core/common/utils.py#107\u001b\\\u001b[2m107\u001b[0m\u001b]8;;\u001b\\\n"
      ]
     },
     "metadata": {},
     "output_type": "display_data"
    },
    {
     "data": {
      "text/plain": [
       "1608637542"
      ]
     },
     "execution_count": 5,
     "metadata": {},
     "output_type": "execute_result"
    }
   ],
   "source": [
    "core_cfg = cfg  # NOQA\n",
    "cfg = cfg.matching\n",
    "\n",
    "seed_index_everything(cfg)"
   ]
  },
  {
   "cell_type": "markdown",
   "metadata": {},
   "source": [
    "## Hyperparameters"
   ]
  },
  {
   "cell_type": "code",
   "execution_count": 6,
   "metadata": {},
   "outputs": [],
   "source": [
    "num_test_samples = 5000\n",
    "num_train_samples = 5000"
   ]
  },
  {
   "cell_type": "markdown",
   "metadata": {},
   "source": [
    "## Load dataset"
   ]
  },
  {
   "cell_type": "code",
   "execution_count": 7,
   "metadata": {},
   "outputs": [
    {
     "name": "stdout",
     "output_type": "stream",
     "text": [
      "Files already downloaded and verified\n",
      "Files already downloaded and verified\n"
     ]
    }
   ],
   "source": [
    "transform = instantiate(core_cfg.dataset.test.transform)\n",
    "\n",
    "train_dataset = instantiate(core_cfg.dataset.train, transform=transform)\n",
    "test_dataset = instantiate(core_cfg.dataset.test, transform=transform)\n",
    "\n",
    "train_subset = Subset(train_dataset, list(range(num_train_samples)))\n",
    "train_loader = DataLoader(train_subset, batch_size=5000, num_workers=cfg.num_workers)\n",
    "\n",
    "test_subset = Subset(test_dataset, list(range(num_test_samples)))\n",
    "\n",
    "test_loader = DataLoader(test_subset, batch_size=1000, num_workers=cfg.num_workers)"
   ]
  },
  {
   "cell_type": "code",
   "execution_count": 8,
   "metadata": {},
   "outputs": [
    {
     "name": "stderr",
     "output_type": "stream",
     "text": [
      "/home/daniele/miniconda3/envs/ccmm/lib/python3.9/site-packages/pytorch_lightning/trainer/connectors/accelerator_connector.py:447: LightningDeprecationWarning: Setting `Trainer(gpus=1)` is deprecated in v1.7 and will be removed in v2.0. Please use `Trainer(accelerator='gpu', devices=1)` instead.\n",
      "  rank_zero_deprecation(\n"
     ]
    },
    {
     "data": {
      "text/html": [
       "<pre style=\"white-space:pre;overflow-x:auto;line-height:normal;font-family:Menlo,'DejaVu Sans Mono',consolas,'Courier New',monospace\"><span style=\"color: #7fbfbf; text-decoration-color: #7fbfbf\">2024-02-01 16:36:53 </span><span style=\"color: #000080; text-decoration-color: #000080\">INFO    </span> GPU available: <span style=\"color: #00ff00; text-decoration-color: #00ff00; font-style: italic\">True</span> <span style=\"font-weight: bold\">(</span>cuda<span style=\"font-weight: bold\">)</span>, used: <span style=\"color: #00ff00; text-decoration-color: #00ff00; font-style: italic\">True</span>      <a href=\"file:///home/daniele/miniconda3/envs/ccmm/lib/python3.9/site-packages/pytorch_lightning/trainer/trainer.py\" target=\"_blank\"><span style=\"color: #7f7f7f; text-decoration-color: #7f7f7f\">pytorch_lightning.utilities.rank_zero</span></a><span style=\"color: #7f7f7f; text-decoration-color: #7f7f7f\">:</span><a href=\"file:///home/daniele/miniconda3/envs/ccmm/lib/python3.9/site-packages/pytorch_lightning/trainer/trainer.py#1751\" target=\"_blank\"><span style=\"color: #7f7f7f; text-decoration-color: #7f7f7f\">1751</span></a>\n",
       "</pre>\n"
      ],
      "text/plain": [
       "\u001b[2;36m2024-02-01 16:36:53\u001b[0m\u001b[2;36m \u001b[0m\u001b[34mINFO    \u001b[0m GPU available: \u001b[3;92mTrue\u001b[0m \u001b[1m(\u001b[0mcuda\u001b[1m)\u001b[0m, used: \u001b[3;92mTrue\u001b[0m      \u001b]8;id=552910;file:///home/daniele/miniconda3/envs/ccmm/lib/python3.9/site-packages/pytorch_lightning/trainer/trainer.py\u001b\\\u001b[2mpytorch_lightning.utilities.rank_zero\u001b[0m\u001b]8;;\u001b\\\u001b[2m:\u001b[0m\u001b]8;id=345024;file:///home/daniele/miniconda3/envs/ccmm/lib/python3.9/site-packages/pytorch_lightning/trainer/trainer.py#1751\u001b\\\u001b[2m1751\u001b[0m\u001b]8;;\u001b\\\n"
      ]
     },
     "metadata": {},
     "output_type": "display_data"
    },
    {
     "data": {
      "text/html": [
       "<pre style=\"white-space:pre;overflow-x:auto;line-height:normal;font-family:Menlo,'DejaVu Sans Mono',consolas,'Courier New',monospace\"><span style=\"color: #7fbfbf; text-decoration-color: #7fbfbf\">                    </span><span style=\"color: #000080; text-decoration-color: #000080\">INFO    </span> TPU available: <span style=\"color: #ff0000; text-decoration-color: #ff0000; font-style: italic\">False</span>, using: <span style=\"color: #008080; text-decoration-color: #008080; font-weight: bold\">0</span> TPU cores    <a href=\"file:///home/daniele/miniconda3/envs/ccmm/lib/python3.9/site-packages/pytorch_lightning/trainer/trainer.py\" target=\"_blank\"><span style=\"color: #7f7f7f; text-decoration-color: #7f7f7f\">pytorch_lightning.utilities.rank_zero</span></a><span style=\"color: #7f7f7f; text-decoration-color: #7f7f7f\">:</span><a href=\"file:///home/daniele/miniconda3/envs/ccmm/lib/python3.9/site-packages/pytorch_lightning/trainer/trainer.py#1754\" target=\"_blank\"><span style=\"color: #7f7f7f; text-decoration-color: #7f7f7f\">1754</span></a>\n",
       "</pre>\n"
      ],
      "text/plain": [
       "\u001b[2;36m                   \u001b[0m\u001b[2;36m \u001b[0m\u001b[34mINFO    \u001b[0m TPU available: \u001b[3;91mFalse\u001b[0m, using: \u001b[1;36m0\u001b[0m TPU cores    \u001b]8;id=346224;file:///home/daniele/miniconda3/envs/ccmm/lib/python3.9/site-packages/pytorch_lightning/trainer/trainer.py\u001b\\\u001b[2mpytorch_lightning.utilities.rank_zero\u001b[0m\u001b]8;;\u001b\\\u001b[2m:\u001b[0m\u001b]8;id=130475;file:///home/daniele/miniconda3/envs/ccmm/lib/python3.9/site-packages/pytorch_lightning/trainer/trainer.py#1754\u001b\\\u001b[2m1754\u001b[0m\u001b]8;;\u001b\\\n"
      ]
     },
     "metadata": {},
     "output_type": "display_data"
    },
    {
     "data": {
      "text/html": [
       "<pre style=\"white-space:pre;overflow-x:auto;line-height:normal;font-family:Menlo,'DejaVu Sans Mono',consolas,'Courier New',monospace\"><span style=\"color: #7fbfbf; text-decoration-color: #7fbfbf\">                    </span><span style=\"color: #000080; text-decoration-color: #000080\">INFO    </span> IPU available: <span style=\"color: #ff0000; text-decoration-color: #ff0000; font-style: italic\">False</span>, using: <span style=\"color: #008080; text-decoration-color: #008080; font-weight: bold\">0</span> IPUs         <a href=\"file:///home/daniele/miniconda3/envs/ccmm/lib/python3.9/site-packages/pytorch_lightning/trainer/trainer.py\" target=\"_blank\"><span style=\"color: #7f7f7f; text-decoration-color: #7f7f7f\">pytorch_lightning.utilities.rank_zero</span></a><span style=\"color: #7f7f7f; text-decoration-color: #7f7f7f\">:</span><a href=\"file:///home/daniele/miniconda3/envs/ccmm/lib/python3.9/site-packages/pytorch_lightning/trainer/trainer.py#1757\" target=\"_blank\"><span style=\"color: #7f7f7f; text-decoration-color: #7f7f7f\">1757</span></a>\n",
       "</pre>\n"
      ],
      "text/plain": [
       "\u001b[2;36m                   \u001b[0m\u001b[2;36m \u001b[0m\u001b[34mINFO    \u001b[0m IPU available: \u001b[3;91mFalse\u001b[0m, using: \u001b[1;36m0\u001b[0m IPUs         \u001b]8;id=224430;file:///home/daniele/miniconda3/envs/ccmm/lib/python3.9/site-packages/pytorch_lightning/trainer/trainer.py\u001b\\\u001b[2mpytorch_lightning.utilities.rank_zero\u001b[0m\u001b]8;;\u001b\\\u001b[2m:\u001b[0m\u001b]8;id=170108;file:///home/daniele/miniconda3/envs/ccmm/lib/python3.9/site-packages/pytorch_lightning/trainer/trainer.py#1757\u001b\\\u001b[2m1757\u001b[0m\u001b]8;;\u001b\\\n"
      ]
     },
     "metadata": {},
     "output_type": "display_data"
    },
    {
     "data": {
      "text/html": [
       "<pre style=\"white-space:pre;overflow-x:auto;line-height:normal;font-family:Menlo,'DejaVu Sans Mono',consolas,'Courier New',monospace\"><span style=\"color: #7fbfbf; text-decoration-color: #7fbfbf\">                    </span><span style=\"color: #000080; text-decoration-color: #000080\">INFO    </span> HPU available: <span style=\"color: #ff0000; text-decoration-color: #ff0000; font-style: italic\">False</span>, using: <span style=\"color: #008080; text-decoration-color: #008080; font-weight: bold\">0</span> HPUs         <a href=\"file:///home/daniele/miniconda3/envs/ccmm/lib/python3.9/site-packages/pytorch_lightning/trainer/trainer.py\" target=\"_blank\"><span style=\"color: #7f7f7f; text-decoration-color: #7f7f7f\">pytorch_lightning.utilities.rank_zero</span></a><span style=\"color: #7f7f7f; text-decoration-color: #7f7f7f\">:</span><a href=\"file:///home/daniele/miniconda3/envs/ccmm/lib/python3.9/site-packages/pytorch_lightning/trainer/trainer.py#1760\" target=\"_blank\"><span style=\"color: #7f7f7f; text-decoration-color: #7f7f7f\">1760</span></a>\n",
       "</pre>\n"
      ],
      "text/plain": [
       "\u001b[2;36m                   \u001b[0m\u001b[2;36m \u001b[0m\u001b[34mINFO    \u001b[0m HPU available: \u001b[3;91mFalse\u001b[0m, using: \u001b[1;36m0\u001b[0m HPUs         \u001b]8;id=500215;file:///home/daniele/miniconda3/envs/ccmm/lib/python3.9/site-packages/pytorch_lightning/trainer/trainer.py\u001b\\\u001b[2mpytorch_lightning.utilities.rank_zero\u001b[0m\u001b]8;;\u001b\\\u001b[2m:\u001b[0m\u001b]8;id=635995;file:///home/daniele/miniconda3/envs/ccmm/lib/python3.9/site-packages/pytorch_lightning/trainer/trainer.py#1760\u001b\\\u001b[2m1760\u001b[0m\u001b]8;;\u001b\\\n"
      ]
     },
     "metadata": {},
     "output_type": "display_data"
    }
   ],
   "source": [
    "trainer = instantiate(cfg.trainer, enable_progress_bar=False, enable_model_summary=False)"
   ]
  },
  {
   "cell_type": "markdown",
   "metadata": {},
   "source": [
    "## Load models"
   ]
  },
  {
   "cell_type": "code",
   "execution_count": 9,
   "metadata": {},
   "outputs": [
    {
     "data": {
      "text/html": [
       "<pre style=\"white-space:pre;overflow-x:auto;line-height:normal;font-family:Menlo,'DejaVu Sans Mono',consolas,'Courier New',monospace\"><span style=\"color: #7fbfbf; text-decoration-color: #7fbfbf\">                    </span><span style=\"color: #800000; text-decoration-color: #800000; font-weight: bold\">ERROR   </span> Failed to detect the name of this notebook, you can set it manually  <a href=\"file:///home/daniele/miniconda3/envs/ccmm/lib/python3.9/site-packages/wandb/jupyter.py\" target=\"_blank\"><span style=\"color: #7f7f7f; text-decoration-color: #7f7f7f\">wandb.jupyter</span></a><span style=\"color: #7f7f7f; text-decoration-color: #7f7f7f\">:</span><a href=\"file:///home/daniele/miniconda3/envs/ccmm/lib/python3.9/site-packages/wandb/jupyter.py#224\" target=\"_blank\"><span style=\"color: #7f7f7f; text-decoration-color: #7f7f7f\">224</span></a>\n",
       "<span style=\"color: #7fbfbf; text-decoration-color: #7fbfbf\">                    </span>         with the WANDB_NOTEBOOK_NAME environment variable to enable code     <span style=\"color: #7f7f7f; text-decoration-color: #7f7f7f\">                 </span>\n",
       "<span style=\"color: #7fbfbf; text-decoration-color: #7fbfbf\">                    </span>         saving.                                                              <span style=\"color: #7f7f7f; text-decoration-color: #7f7f7f\">                 </span>\n",
       "</pre>\n"
      ],
      "text/plain": [
       "\u001b[2;36m                   \u001b[0m\u001b[2;36m \u001b[0m\u001b[1;31mERROR   \u001b[0m Failed to detect the name of this notebook, you can set it manually  \u001b]8;id=524143;file:///home/daniele/miniconda3/envs/ccmm/lib/python3.9/site-packages/wandb/jupyter.py\u001b\\\u001b[2mwandb.jupyter\u001b[0m\u001b]8;;\u001b\\\u001b[2m:\u001b[0m\u001b]8;id=591644;file:///home/daniele/miniconda3/envs/ccmm/lib/python3.9/site-packages/wandb/jupyter.py#224\u001b\\\u001b[2m224\u001b[0m\u001b]8;;\u001b\\\n",
       "\u001b[2;36m                    \u001b[0m         with the WANDB_NOTEBOOK_NAME environment variable to enable code     \u001b[2m                 \u001b[0m\n",
       "\u001b[2;36m                    \u001b[0m         saving.                                                              \u001b[2m                 \u001b[0m\n"
      ]
     },
     "metadata": {},
     "output_type": "display_data"
    },
    {
     "name": "stderr",
     "output_type": "stream",
     "text": [
      "\u001b[34m\u001b[1mwandb\u001b[0m: Currently logged in as: \u001b[33mdbaieri\u001b[0m (\u001b[33mgladia\u001b[0m). Use \u001b[1m`wandb login --relogin`\u001b[0m to force relogin\n"
     ]
    },
    {
     "data": {
      "text/html": [
       "Tracking run with wandb version 0.16.2"
      ],
      "text/plain": [
       "<IPython.core.display.HTML object>"
      ]
     },
     "metadata": {},
     "output_type": "display_data"
    },
    {
     "data": {
      "text/html": [
       "Run data is saved locally in <code>/home/daniele/source/cycle-consistent-model-merging/notebooks/wandb/run-20240201_163654-649a4tgw</code>"
      ],
      "text/plain": [
       "<IPython.core.display.HTML object>"
      ]
     },
     "metadata": {},
     "output_type": "display_data"
    },
    {
     "data": {
      "text/html": [
       "Syncing run <strong><a href='https://wandb.ai/gladia/cycle-consistent-model-merging/runs/649a4tgw' target=\"_blank\">ruby-haze-1892</a></strong> to <a href='https://wandb.ai/gladia/cycle-consistent-model-merging' target=\"_blank\">Weights & Biases</a> (<a href='https://wandb.me/run' target=\"_blank\">docs</a>)<br/>"
      ],
      "text/plain": [
       "<IPython.core.display.HTML object>"
      ]
     },
     "metadata": {},
     "output_type": "display_data"
    },
    {
     "data": {
      "text/html": [
       " View project at <a href='https://wandb.ai/gladia/cycle-consistent-model-merging' target=\"_blank\">https://wandb.ai/gladia/cycle-consistent-model-merging</a>"
      ],
      "text/plain": [
       "<IPython.core.display.HTML object>"
      ]
     },
     "metadata": {},
     "output_type": "display_data"
    },
    {
     "data": {
      "text/html": [
       " View run at <a href='https://wandb.ai/gladia/cycle-consistent-model-merging/runs/649a4tgw' target=\"_blank\">https://wandb.ai/gladia/cycle-consistent-model-merging/runs/649a4tgw</a>"
      ],
      "text/plain": [
       "<IPython.core.display.HTML object>"
      ]
     },
     "metadata": {},
     "output_type": "display_data"
    },
    {
     "name": "stderr",
     "output_type": "stream",
     "text": [
      "\u001b[34m\u001b[1mwandb\u001b[0m: Downloading large artifact VGG16_1:v0, 54.17MB. 1 files... \n",
      "\u001b[34m\u001b[1mwandb\u001b[0m:   1 of 1 files downloaded.  \n",
      "Done. 0:0:0.4\n",
      "\u001b[34m\u001b[1mwandb\u001b[0m: Downloading large artifact VGG16_2:v0, 54.17MB. 1 files... \n",
      "\u001b[34m\u001b[1mwandb\u001b[0m:   1 of 1 files downloaded.  \n",
      "Done. 0:0:0.4\n",
      "\u001b[34m\u001b[1mwandb\u001b[0m: Downloading large artifact VGG16_3:v0, 54.17MB. 1 files... \n",
      "\u001b[34m\u001b[1mwandb\u001b[0m:   1 of 1 files downloaded.  \n",
      "Done. 0:0:0.4\n",
      "\u001b[34m\u001b[1mwandb\u001b[0m: Downloading large artifact VGG16_4:v0, 54.17MB. 1 files... \n",
      "\u001b[34m\u001b[1mwandb\u001b[0m:   1 of 1 files downloaded.  \n",
      "Done. 0:0:0.4\n",
      "\u001b[34m\u001b[1mwandb\u001b[0m: Downloading large artifact VGG16_5:v0, 54.17MB. 1 files... \n",
      "\u001b[34m\u001b[1mwandb\u001b[0m:   1 of 1 files downloaded.  \n",
      "Done. 0:0:0.4\n"
     ]
    },
    {
     "data": {
      "text/html": [
       "<pre style=\"white-space:pre;overflow-x:auto;line-height:normal;font-family:Menlo,'DejaVu Sans Mono',consolas,'Courier New',monospace\"><span style=\"color: #7fbfbf; text-decoration-color: #7fbfbf\">2024-02-01 16:37:12 </span><span style=\"color: #000080; text-decoration-color: #000080\">INFO    </span> Using <span style=\"color: #008080; text-decoration-color: #008080; font-weight: bold\">5</span> models with architecture VGG16                                     <a href=\"file:///tmp/ipykernel_26378/4016701784.py\" target=\"_blank\"><span style=\"color: #7f7f7f; text-decoration-color: #7f7f7f\">__main__</span></a><span style=\"color: #7f7f7f; text-decoration-color: #7f7f7f\">:</span><a href=\"file:///tmp/ipykernel_26378/4016701784.py#19\" target=\"_blank\"><span style=\"color: #7f7f7f; text-decoration-color: #7f7f7f\">19</span></a>\n",
       "</pre>\n"
      ],
      "text/plain": [
       "\u001b[2;36m2024-02-01 16:37:12\u001b[0m\u001b[2;36m \u001b[0m\u001b[34mINFO    \u001b[0m Using \u001b[1;36m5\u001b[0m models with architecture VGG16                                     \u001b]8;id=263442;file:///tmp/ipykernel_26378/4016701784.py\u001b\\\u001b[2m__main__\u001b[0m\u001b]8;;\u001b\\\u001b[2m:\u001b[0m\u001b]8;id=560796;file:///tmp/ipykernel_26378/4016701784.py#19\u001b\\\u001b[2m19\u001b[0m\u001b]8;;\u001b\\\n"
      ]
     },
     "metadata": {},
     "output_type": "display_data"
    }
   ],
   "source": [
    "from ccmm.utils.utils import load_model_from_artifact\n",
    "\n",
    "run = wandb.init(project=core_cfg.core.project_name, entity=core_cfg.core.entity, job_type=\"matching\")\n",
    "\n",
    "# {a: 1, b: 2, c: 3, ..}\n",
    "symbols_to_seed: Dict[int, str] = {map_model_seed_to_symbol(seed): seed for seed in cfg.model_seeds}\n",
    "\n",
    "artifact_path = (\n",
    "    lambda seed: f\"{core_cfg.core.entity}/{core_cfg.core.project_name}/{core_cfg.model.model_identifier}_{seed}:v0\"\n",
    ")\n",
    "\n",
    "# {a: model_a, b: model_b, c: model_c, ..}\n",
    "models: Dict[str, LightningModule] = {\n",
    "    map_model_seed_to_symbol(seed): load_model_from_artifact(run, artifact_path(seed)) for seed in cfg.model_seeds\n",
    "}\n",
    "\n",
    "num_models = len(models)\n",
    "\n",
    "pylogger.info(f\"Using {num_models} models with architecture {core_cfg.model.model_identifier}\")"
   ]
  },
  {
   "cell_type": "code",
   "execution_count": 10,
   "metadata": {},
   "outputs": [],
   "source": [
    "# always permute the model having larger character order, i.e. c -> b, b -> a and so on ...\n",
    "symbols = set(symbols_to_seed.keys())\n",
    "sorted_symbols = sorted(symbols, reverse=False)\n",
    "\n",
    "# (a, b), (a, c), (b, c), ...\n",
    "all_combinations = get_all_symbols_combinations(symbols)\n",
    "# combinations of the form (a, b), (a, c), (b, c), .. and not (b, a), (c, a) etc\n",
    "canonical_combinations = [(source, target) for (source, target) in all_combinations if source < target]"
   ]
  },
  {
   "cell_type": "markdown",
   "metadata": {},
   "source": [
    "## Matching"
   ]
  },
  {
   "cell_type": "code",
   "execution_count": 11,
   "metadata": {},
   "outputs": [
    {
     "data": {
      "text/html": [
       "<pre style=\"white-space:pre;overflow-x:auto;line-height:normal;font-family:Menlo,'DejaVu Sans Mono',consolas,'Courier New',monospace\"><span style=\"color: #7fbfbf; text-decoration-color: #7fbfbf\">                    </span><span style=\"color: #000080; text-decoration-color: #000080\">INFO    </span> Matching the following model pairs: <span style=\"font-weight: bold\">[(</span><span style=\"color: #008000; text-decoration-color: #008000\">'a'</span>, <span style=\"color: #008000; text-decoration-color: #008000\">'b'</span><span style=\"font-weight: bold\">)</span>, <span style=\"font-weight: bold\">(</span><span style=\"color: #008000; text-decoration-color: #008000\">'a'</span>, <span style=\"color: #008000; text-decoration-color: #008000\">'c'</span><span style=\"font-weight: bold\">)</span>, <span style=\"font-weight: bold\">(</span><span style=\"color: #008000; text-decoration-color: #008000\">'a'</span>, <span style=\"color: #008000; text-decoration-color: #008000\">'d'</span><span style=\"font-weight: bold\">)</span>,    <a href=\"file:///tmp/ipykernel_26378/3712436184.py\" target=\"_blank\"><span style=\"color: #7f7f7f; text-decoration-color: #7f7f7f\">__main__</span></a><span style=\"color: #7f7f7f; text-decoration-color: #7f7f7f\">:</span><a href=\"file:///tmp/ipykernel_26378/3712436184.py#1\" target=\"_blank\"><span style=\"color: #7f7f7f; text-decoration-color: #7f7f7f\">1</span></a>\n",
       "<span style=\"color: #7fbfbf; text-decoration-color: #7fbfbf\">                    </span>         <span style=\"font-weight: bold\">(</span><span style=\"color: #008000; text-decoration-color: #008000\">'a'</span>, <span style=\"color: #008000; text-decoration-color: #008000\">'e'</span><span style=\"font-weight: bold\">)</span>, <span style=\"font-weight: bold\">(</span><span style=\"color: #008000; text-decoration-color: #008000\">'b'</span>, <span style=\"color: #008000; text-decoration-color: #008000\">'c'</span><span style=\"font-weight: bold\">)</span>, <span style=\"font-weight: bold\">(</span><span style=\"color: #008000; text-decoration-color: #008000\">'b'</span>, <span style=\"color: #008000; text-decoration-color: #008000\">'d'</span><span style=\"font-weight: bold\">)</span>, <span style=\"font-weight: bold\">(</span><span style=\"color: #008000; text-decoration-color: #008000\">'b'</span>, <span style=\"color: #008000; text-decoration-color: #008000\">'e'</span><span style=\"font-weight: bold\">)</span>, <span style=\"font-weight: bold\">(</span><span style=\"color: #008000; text-decoration-color: #008000\">'c'</span>, <span style=\"color: #008000; text-decoration-color: #008000\">'d'</span><span style=\"font-weight: bold\">)</span>, <span style=\"font-weight: bold\">(</span><span style=\"color: #008000; text-decoration-color: #008000\">'c'</span>, <span style=\"color: #008000; text-decoration-color: #008000\">'e'</span><span style=\"font-weight: bold\">)</span>,     <span style=\"color: #7f7f7f; text-decoration-color: #7f7f7f\">          </span>\n",
       "<span style=\"color: #7fbfbf; text-decoration-color: #7fbfbf\">                    </span>         <span style=\"font-weight: bold\">(</span><span style=\"color: #008000; text-decoration-color: #008000\">'d'</span>, <span style=\"color: #008000; text-decoration-color: #008000\">'e'</span><span style=\"font-weight: bold\">)]</span>                                                                 <span style=\"color: #7f7f7f; text-decoration-color: #7f7f7f\">          </span>\n",
       "</pre>\n"
      ],
      "text/plain": [
       "\u001b[2;36m                   \u001b[0m\u001b[2;36m \u001b[0m\u001b[34mINFO    \u001b[0m Matching the following model pairs: \u001b[1m[\u001b[0m\u001b[1m(\u001b[0m\u001b[32m'a'\u001b[0m, \u001b[32m'b'\u001b[0m\u001b[1m)\u001b[0m, \u001b[1m(\u001b[0m\u001b[32m'a'\u001b[0m, \u001b[32m'c'\u001b[0m\u001b[1m)\u001b[0m, \u001b[1m(\u001b[0m\u001b[32m'a'\u001b[0m, \u001b[32m'd'\u001b[0m\u001b[1m)\u001b[0m,    \u001b]8;id=527597;file:///tmp/ipykernel_26378/3712436184.py\u001b\\\u001b[2m__main__\u001b[0m\u001b]8;;\u001b\\\u001b[2m:\u001b[0m\u001b]8;id=234146;file:///tmp/ipykernel_26378/3712436184.py#1\u001b\\\u001b[2m1\u001b[0m\u001b]8;;\u001b\\\n",
       "\u001b[2;36m                    \u001b[0m         \u001b[1m(\u001b[0m\u001b[32m'a'\u001b[0m, \u001b[32m'e'\u001b[0m\u001b[1m)\u001b[0m, \u001b[1m(\u001b[0m\u001b[32m'b'\u001b[0m, \u001b[32m'c'\u001b[0m\u001b[1m)\u001b[0m, \u001b[1m(\u001b[0m\u001b[32m'b'\u001b[0m, \u001b[32m'd'\u001b[0m\u001b[1m)\u001b[0m, \u001b[1m(\u001b[0m\u001b[32m'b'\u001b[0m, \u001b[32m'e'\u001b[0m\u001b[1m)\u001b[0m, \u001b[1m(\u001b[0m\u001b[32m'c'\u001b[0m, \u001b[32m'd'\u001b[0m\u001b[1m)\u001b[0m, \u001b[1m(\u001b[0m\u001b[32m'c'\u001b[0m, \u001b[32m'e'\u001b[0m\u001b[1m)\u001b[0m,     \u001b[2m          \u001b[0m\n",
       "\u001b[2;36m                    \u001b[0m         \u001b[1m(\u001b[0m\u001b[32m'd'\u001b[0m, \u001b[32m'e'\u001b[0m\u001b[1m)\u001b[0m\u001b[1m]\u001b[0m                                                                 \u001b[2m          \u001b[0m\n"
      ]
     },
     "metadata": {},
     "output_type": "display_data"
    }
   ],
   "source": [
    "pylogger.info(f\"Matching the following model pairs: {canonical_combinations}\")"
   ]
  },
  {
   "cell_type": "markdown",
   "metadata": {},
   "source": [
    "### Load permutation specification"
   ]
  },
  {
   "cell_type": "code",
   "execution_count": 12,
   "metadata": {},
   "outputs": [],
   "source": [
    "permutation_spec_builder = instantiate(core_cfg.model.permutation_spec_builder)\n",
    "permutation_spec = permutation_spec_builder.create_permutation()\n",
    "\n",
    "ref_model = list(models.values())[0]\n",
    "assert set(permutation_spec.layer_and_axes_to_perm.keys()) == set(ref_model.model.state_dict().keys())"
   ]
  },
  {
   "cell_type": "code",
   "execution_count": 13,
   "metadata": {},
   "outputs": [
    {
     "data": {
      "text/html": [
       "<pre style=\"white-space:pre;overflow-x:auto;line-height:normal;font-family:Menlo,'DejaVu Sans Mono',consolas,'Courier New',monospace\"><span style=\"color: #7fbfbf; text-decoration-color: #7fbfbf\">                    </span><span style=\"color: #000080; text-decoration-color: #000080\">INFO    </span> Matcher: frank_wolfe                                                        <a href=\"file:///tmp/ipykernel_26378/1001963601.py\" target=\"_blank\"><span style=\"color: #7f7f7f; text-decoration-color: #7f7f7f\">__main__</span></a><span style=\"color: #7f7f7f; text-decoration-color: #7f7f7f\">:</span><a href=\"file:///tmp/ipykernel_26378/1001963601.py#2\" target=\"_blank\"><span style=\"color: #7f7f7f; text-decoration-color: #7f7f7f\">2</span></a>\n",
       "</pre>\n"
      ],
      "text/plain": [
       "\u001b[2;36m                   \u001b[0m\u001b[2;36m \u001b[0m\u001b[34mINFO    \u001b[0m Matcher: frank_wolfe                                                        \u001b]8;id=303714;file:///tmp/ipykernel_26378/1001963601.py\u001b\\\u001b[2m__main__\u001b[0m\u001b]8;;\u001b\\\u001b[2m:\u001b[0m\u001b]8;id=944046;file:///tmp/ipykernel_26378/1001963601.py#2\u001b\\\u001b[2m2\u001b[0m\u001b]8;;\u001b\\\n"
      ]
     },
     "metadata": {},
     "output_type": "display_data"
    }
   ],
   "source": [
    "matcher = instantiate(cfg.matcher, permutation_spec=permutation_spec)\n",
    "pylogger.info(f\"Matcher: {matcher.name}\")"
   ]
  },
  {
   "cell_type": "code",
   "execution_count": 14,
   "metadata": {},
   "outputs": [
    {
     "name": "stderr",
     "output_type": "stream",
     "text": [
      "Weight matching: 100%|██████████| 200/200 [11:38<00:00,  3.49s/it]\n"
     ]
    }
   ],
   "source": [
    "permutations, perm_history = matcher(models, symbols=sorted_symbols, combinations=canonical_combinations)"
   ]
  },
  {
   "cell_type": "code",
   "execution_count": 15,
   "metadata": {},
   "outputs": [],
   "source": [
    "models = {symb: model.to(\"cpu\") for symb, model in models.items()}"
   ]
  },
  {
   "cell_type": "markdown",
   "metadata": {},
   "source": [
    "### Permute models to universe"
   ]
  },
  {
   "cell_type": "code",
   "execution_count": 16,
   "metadata": {},
   "outputs": [],
   "source": [
    "from ccmm.matching.utils import perm_matrix_to_perm_indices\n",
    "\n",
    "models_permuted_to_universe = {symbol: copy.deepcopy(model) for symbol, model in models.items()}\n",
    "\n",
    "for symbol, model in models_permuted_to_universe.items():\n",
    "    perms_to_universe = {}\n",
    "\n",
    "    for perm_name, perm in permutations[symbol].items():\n",
    "        perm = perm_indices_to_perm_matrix(perm)\n",
    "        perm_to_universe = perm.T\n",
    "        perm_to_universe = perm_matrix_to_perm_indices(perm_to_universe)\n",
    "        perms_to_universe[perm_name] = perm_to_universe\n",
    "\n",
    "    permuted_params = apply_permutation_to_statedict(permutation_spec, perms_to_universe, model.model.state_dict())\n",
    "    models_permuted_to_universe[symbol].model.load_state_dict(permuted_params)"
   ]
  },
  {
   "cell_type": "markdown",
   "metadata": {},
   "source": [
    "### Permute models pairwise"
   ]
  },
  {
   "cell_type": "code",
   "execution_count": 17,
   "metadata": {},
   "outputs": [
    {
     "name": "stderr",
     "output_type": "stream",
     "text": [
      "/home/daniele/source/cycle-consistent-model-merging/src/ccmm/matching/utils.py:202: UserWarning: To copy construct from a tensor, it is recommended to use sourceTensor.clone().detach() or sourceTensor.clone().detach().requires_grad_(True), rather than torch.tensor(sourceTensor).\n",
      "  permutations[symbol][perm_name] = torch.tensor(perm)\n"
     ]
    }
   ],
   "source": [
    "from ccmm.matching.utils import unfactor_permutations\n",
    "\n",
    "models_permuted_pairwise = {\n",
    "    symbol: {other_symb: None for other_symb in set(symbols).difference(symbol)} for symbol in symbols\n",
    "}\n",
    "pairwise_permutations = unfactor_permutations(permutations)\n",
    "\n",
    "for fixed, permutee in all_combinations:\n",
    "    ref_model = copy.deepcopy(models[\"a\"])\n",
    "\n",
    "    permuted_params = apply_permutation_to_statedict(\n",
    "        permutation_spec, pairwise_permutations[fixed][permutee], models[permutee].model.state_dict()\n",
    "    )\n",
    "\n",
    "    ref_model.model.load_state_dict(permuted_params)\n",
    "    models_permuted_pairwise[fixed][permutee] = ref_model"
   ]
  },
  {
   "cell_type": "markdown",
   "metadata": {},
   "source": [
    "### Check performance of models before and after permutation"
   ]
  },
  {
   "cell_type": "code",
   "execution_count": 18,
   "metadata": {},
   "outputs": [
    {
     "data": {
      "text/html": [
       "<pre style=\"white-space:pre;overflow-x:auto;line-height:normal;font-family:Menlo,'DejaVu Sans Mono',consolas,'Courier New',monospace\">┏━━━━━━━━━━━━━━━━━━━━━━━━━━━┳━━━━━━━━━━━━━━━━━━━━━━━━━━━┓\n",
       "┃<span style=\"font-weight: bold\">        Test metric        </span>┃<span style=\"font-weight: bold\">       DataLoader 0        </span>┃\n",
       "┡━━━━━━━━━━━━━━━━━━━━━━━━━━━╇━━━━━━━━━━━━━━━━━━━━━━━━━━━┩\n",
       "│<span style=\"color: #008080; text-decoration-color: #008080\">         acc/test          </span>│<span style=\"color: #800080; text-decoration-color: #800080\">    0.9043999910354614     </span>│\n",
       "│<span style=\"color: #008080; text-decoration-color: #008080\">         loss/test         </span>│<span style=\"color: #800080; text-decoration-color: #800080\">     0.466796338558197     </span>│\n",
       "└───────────────────────────┴───────────────────────────┘\n",
       "</pre>\n"
      ],
      "text/plain": [
       "┏━━━━━━━━━━━━━━━━━━━━━━━━━━━┳━━━━━━━━━━━━━━━━━━━━━━━━━━━┓\n",
       "┃\u001b[1m \u001b[0m\u001b[1m       Test metric       \u001b[0m\u001b[1m \u001b[0m┃\u001b[1m \u001b[0m\u001b[1m      DataLoader 0       \u001b[0m\u001b[1m \u001b[0m┃\n",
       "┡━━━━━━━━━━━━━━━━━━━━━━━━━━━╇━━━━━━━━━━━━━━━━━━━━━━━━━━━┩\n",
       "│\u001b[36m \u001b[0m\u001b[36m        acc/test         \u001b[0m\u001b[36m \u001b[0m│\u001b[35m \u001b[0m\u001b[35m   0.9043999910354614    \u001b[0m\u001b[35m \u001b[0m│\n",
       "│\u001b[36m \u001b[0m\u001b[36m        loss/test        \u001b[0m\u001b[36m \u001b[0m│\u001b[35m \u001b[0m\u001b[35m    0.466796338558197    \u001b[0m\u001b[35m \u001b[0m│\n",
       "└───────────────────────────┴───────────────────────────┘\n"
      ]
     },
     "metadata": {},
     "output_type": "display_data"
    },
    {
     "data": {
      "text/html": [
       "<pre style=\"white-space:pre;overflow-x:auto;line-height:normal;font-family:Menlo,'DejaVu Sans Mono',consolas,'Courier New',monospace\">┏━━━━━━━━━━━━━━━━━━━━━━━━━━━┳━━━━━━━━━━━━━━━━━━━━━━━━━━━┓\n",
       "┃<span style=\"font-weight: bold\">        Test metric        </span>┃<span style=\"font-weight: bold\">       DataLoader 0        </span>┃\n",
       "┡━━━━━━━━━━━━━━━━━━━━━━━━━━━╇━━━━━━━━━━━━━━━━━━━━━━━━━━━┩\n",
       "│<span style=\"color: #008080; text-decoration-color: #008080\">         acc/test          </span>│<span style=\"color: #800080; text-decoration-color: #800080\">    0.9043999910354614     </span>│\n",
       "│<span style=\"color: #008080; text-decoration-color: #008080\">         loss/test         </span>│<span style=\"color: #800080; text-decoration-color: #800080\">    0.46679627895355225    </span>│\n",
       "└───────────────────────────┴───────────────────────────┘\n",
       "</pre>\n"
      ],
      "text/plain": [
       "┏━━━━━━━━━━━━━━━━━━━━━━━━━━━┳━━━━━━━━━━━━━━━━━━━━━━━━━━━┓\n",
       "┃\u001b[1m \u001b[0m\u001b[1m       Test metric       \u001b[0m\u001b[1m \u001b[0m┃\u001b[1m \u001b[0m\u001b[1m      DataLoader 0       \u001b[0m\u001b[1m \u001b[0m┃\n",
       "┡━━━━━━━━━━━━━━━━━━━━━━━━━━━╇━━━━━━━━━━━━━━━━━━━━━━━━━━━┩\n",
       "│\u001b[36m \u001b[0m\u001b[36m        acc/test         \u001b[0m\u001b[36m \u001b[0m│\u001b[35m \u001b[0m\u001b[35m   0.9043999910354614    \u001b[0m\u001b[35m \u001b[0m│\n",
       "│\u001b[36m \u001b[0m\u001b[36m        loss/test        \u001b[0m\u001b[36m \u001b[0m│\u001b[35m \u001b[0m\u001b[35m   0.46679627895355225   \u001b[0m\u001b[35m \u001b[0m│\n",
       "└───────────────────────────┴───────────────────────────┘\n"
      ]
     },
     "metadata": {},
     "output_type": "display_data"
    },
    {
     "data": {
      "text/html": [
       "<pre style=\"white-space:pre;overflow-x:auto;line-height:normal;font-family:Menlo,'DejaVu Sans Mono',consolas,'Courier New',monospace\">┏━━━━━━━━━━━━━━━━━━━━━━━━━━━┳━━━━━━━━━━━━━━━━━━━━━━━━━━━┓\n",
       "┃<span style=\"font-weight: bold\">        Test metric        </span>┃<span style=\"font-weight: bold\">       DataLoader 0        </span>┃\n",
       "┡━━━━━━━━━━━━━━━━━━━━━━━━━━━╇━━━━━━━━━━━━━━━━━━━━━━━━━━━┩\n",
       "│<span style=\"color: #008080; text-decoration-color: #008080\">         acc/test          </span>│<span style=\"color: #800080; text-decoration-color: #800080\">     0.902400016784668     </span>│\n",
       "│<span style=\"color: #008080; text-decoration-color: #008080\">         loss/test         </span>│<span style=\"color: #800080; text-decoration-color: #800080\">    0.4800717234611511     </span>│\n",
       "└───────────────────────────┴───────────────────────────┘\n",
       "</pre>\n"
      ],
      "text/plain": [
       "┏━━━━━━━━━━━━━━━━━━━━━━━━━━━┳━━━━━━━━━━━━━━━━━━━━━━━━━━━┓\n",
       "┃\u001b[1m \u001b[0m\u001b[1m       Test metric       \u001b[0m\u001b[1m \u001b[0m┃\u001b[1m \u001b[0m\u001b[1m      DataLoader 0       \u001b[0m\u001b[1m \u001b[0m┃\n",
       "┡━━━━━━━━━━━━━━━━━━━━━━━━━━━╇━━━━━━━━━━━━━━━━━━━━━━━━━━━┩\n",
       "│\u001b[36m \u001b[0m\u001b[36m        acc/test         \u001b[0m\u001b[36m \u001b[0m│\u001b[35m \u001b[0m\u001b[35m    0.902400016784668    \u001b[0m\u001b[35m \u001b[0m│\n",
       "│\u001b[36m \u001b[0m\u001b[36m        loss/test        \u001b[0m\u001b[36m \u001b[0m│\u001b[35m \u001b[0m\u001b[35m   0.4800717234611511    \u001b[0m\u001b[35m \u001b[0m│\n",
       "└───────────────────────────┴───────────────────────────┘\n"
      ]
     },
     "metadata": {},
     "output_type": "display_data"
    },
    {
     "data": {
      "text/html": [
       "<pre style=\"white-space:pre;overflow-x:auto;line-height:normal;font-family:Menlo,'DejaVu Sans Mono',consolas,'Courier New',monospace\">┏━━━━━━━━━━━━━━━━━━━━━━━━━━━┳━━━━━━━━━━━━━━━━━━━━━━━━━━━┓\n",
       "┃<span style=\"font-weight: bold\">        Test metric        </span>┃<span style=\"font-weight: bold\">       DataLoader 0        </span>┃\n",
       "┡━━━━━━━━━━━━━━━━━━━━━━━━━━━╇━━━━━━━━━━━━━━━━━━━━━━━━━━━┩\n",
       "│<span style=\"color: #008080; text-decoration-color: #008080\">         acc/test          </span>│<span style=\"color: #800080; text-decoration-color: #800080\">     0.902400016784668     </span>│\n",
       "│<span style=\"color: #008080; text-decoration-color: #008080\">         loss/test         </span>│<span style=\"color: #800080; text-decoration-color: #800080\">    0.4800718128681183     </span>│\n",
       "└───────────────────────────┴───────────────────────────┘\n",
       "</pre>\n"
      ],
      "text/plain": [
       "┏━━━━━━━━━━━━━━━━━━━━━━━━━━━┳━━━━━━━━━━━━━━━━━━━━━━━━━━━┓\n",
       "┃\u001b[1m \u001b[0m\u001b[1m       Test metric       \u001b[0m\u001b[1m \u001b[0m┃\u001b[1m \u001b[0m\u001b[1m      DataLoader 0       \u001b[0m\u001b[1m \u001b[0m┃\n",
       "┡━━━━━━━━━━━━━━━━━━━━━━━━━━━╇━━━━━━━━━━━━━━━━━━━━━━━━━━━┩\n",
       "│\u001b[36m \u001b[0m\u001b[36m        acc/test         \u001b[0m\u001b[36m \u001b[0m│\u001b[35m \u001b[0m\u001b[35m    0.902400016784668    \u001b[0m\u001b[35m \u001b[0m│\n",
       "│\u001b[36m \u001b[0m\u001b[36m        loss/test        \u001b[0m\u001b[36m \u001b[0m│\u001b[35m \u001b[0m\u001b[35m   0.4800718128681183    \u001b[0m\u001b[35m \u001b[0m│\n",
       "└───────────────────────────┴───────────────────────────┘\n"
      ]
     },
     "metadata": {},
     "output_type": "display_data"
    },
    {
     "data": {
      "text/html": [
       "<pre style=\"white-space:pre;overflow-x:auto;line-height:normal;font-family:Menlo,'DejaVu Sans Mono',consolas,'Courier New',monospace\">┏━━━━━━━━━━━━━━━━━━━━━━━━━━━┳━━━━━━━━━━━━━━━━━━━━━━━━━━━┓\n",
       "┃<span style=\"font-weight: bold\">        Test metric        </span>┃<span style=\"font-weight: bold\">       DataLoader 0        </span>┃\n",
       "┡━━━━━━━━━━━━━━━━━━━━━━━━━━━╇━━━━━━━━━━━━━━━━━━━━━━━━━━━┩\n",
       "│<span style=\"color: #008080; text-decoration-color: #008080\">         acc/test          </span>│<span style=\"color: #800080; text-decoration-color: #800080\">    0.9034000039100647     </span>│\n",
       "│<span style=\"color: #008080; text-decoration-color: #008080\">         loss/test         </span>│<span style=\"color: #800080; text-decoration-color: #800080\">    0.4855421781539917     </span>│\n",
       "└───────────────────────────┴───────────────────────────┘\n",
       "</pre>\n"
      ],
      "text/plain": [
       "┏━━━━━━━━━━━━━━━━━━━━━━━━━━━┳━━━━━━━━━━━━━━━━━━━━━━━━━━━┓\n",
       "┃\u001b[1m \u001b[0m\u001b[1m       Test metric       \u001b[0m\u001b[1m \u001b[0m┃\u001b[1m \u001b[0m\u001b[1m      DataLoader 0       \u001b[0m\u001b[1m \u001b[0m┃\n",
       "┡━━━━━━━━━━━━━━━━━━━━━━━━━━━╇━━━━━━━━━━━━━━━━━━━━━━━━━━━┩\n",
       "│\u001b[36m \u001b[0m\u001b[36m        acc/test         \u001b[0m\u001b[36m \u001b[0m│\u001b[35m \u001b[0m\u001b[35m   0.9034000039100647    \u001b[0m\u001b[35m \u001b[0m│\n",
       "│\u001b[36m \u001b[0m\u001b[36m        loss/test        \u001b[0m\u001b[36m \u001b[0m│\u001b[35m \u001b[0m\u001b[35m   0.4855421781539917    \u001b[0m\u001b[35m \u001b[0m│\n",
       "└───────────────────────────┴───────────────────────────┘\n"
      ]
     },
     "metadata": {},
     "output_type": "display_data"
    },
    {
     "data": {
      "text/html": [
       "<pre style=\"white-space:pre;overflow-x:auto;line-height:normal;font-family:Menlo,'DejaVu Sans Mono',consolas,'Courier New',monospace\">┏━━━━━━━━━━━━━━━━━━━━━━━━━━━┳━━━━━━━━━━━━━━━━━━━━━━━━━━━┓\n",
       "┃<span style=\"font-weight: bold\">        Test metric        </span>┃<span style=\"font-weight: bold\">       DataLoader 0        </span>┃\n",
       "┡━━━━━━━━━━━━━━━━━━━━━━━━━━━╇━━━━━━━━━━━━━━━━━━━━━━━━━━━┩\n",
       "│<span style=\"color: #008080; text-decoration-color: #008080\">         acc/test          </span>│<span style=\"color: #800080; text-decoration-color: #800080\">    0.9034000039100647     </span>│\n",
       "│<span style=\"color: #008080; text-decoration-color: #008080\">         loss/test         </span>│<span style=\"color: #800080; text-decoration-color: #800080\">    0.4855422377586365     </span>│\n",
       "└───────────────────────────┴───────────────────────────┘\n",
       "</pre>\n"
      ],
      "text/plain": [
       "┏━━━━━━━━━━━━━━━━━━━━━━━━━━━┳━━━━━━━━━━━━━━━━━━━━━━━━━━━┓\n",
       "┃\u001b[1m \u001b[0m\u001b[1m       Test metric       \u001b[0m\u001b[1m \u001b[0m┃\u001b[1m \u001b[0m\u001b[1m      DataLoader 0       \u001b[0m\u001b[1m \u001b[0m┃\n",
       "┡━━━━━━━━━━━━━━━━━━━━━━━━━━━╇━━━━━━━━━━━━━━━━━━━━━━━━━━━┩\n",
       "│\u001b[36m \u001b[0m\u001b[36m        acc/test         \u001b[0m\u001b[36m \u001b[0m│\u001b[35m \u001b[0m\u001b[35m   0.9034000039100647    \u001b[0m\u001b[35m \u001b[0m│\n",
       "│\u001b[36m \u001b[0m\u001b[36m        loss/test        \u001b[0m\u001b[36m \u001b[0m│\u001b[35m \u001b[0m\u001b[35m   0.4855422377586365    \u001b[0m\u001b[35m \u001b[0m│\n",
       "└───────────────────────────┴───────────────────────────┘\n"
      ]
     },
     "metadata": {},
     "output_type": "display_data"
    },
    {
     "data": {
      "text/html": [
       "<pre style=\"white-space:pre;overflow-x:auto;line-height:normal;font-family:Menlo,'DejaVu Sans Mono',consolas,'Courier New',monospace\">┏━━━━━━━━━━━━━━━━━━━━━━━━━━━┳━━━━━━━━━━━━━━━━━━━━━━━━━━━┓\n",
       "┃<span style=\"font-weight: bold\">        Test metric        </span>┃<span style=\"font-weight: bold\">       DataLoader 0        </span>┃\n",
       "┡━━━━━━━━━━━━━━━━━━━━━━━━━━━╇━━━━━━━━━━━━━━━━━━━━━━━━━━━┩\n",
       "│<span style=\"color: #008080; text-decoration-color: #008080\">         acc/test          </span>│<span style=\"color: #800080; text-decoration-color: #800080\">    0.9053999781608582     </span>│\n",
       "│<span style=\"color: #008080; text-decoration-color: #008080\">         loss/test         </span>│<span style=\"color: #800080; text-decoration-color: #800080\">    0.4745422303676605     </span>│\n",
       "└───────────────────────────┴───────────────────────────┘\n",
       "</pre>\n"
      ],
      "text/plain": [
       "┏━━━━━━━━━━━━━━━━━━━━━━━━━━━┳━━━━━━━━━━━━━━━━━━━━━━━━━━━┓\n",
       "┃\u001b[1m \u001b[0m\u001b[1m       Test metric       \u001b[0m\u001b[1m \u001b[0m┃\u001b[1m \u001b[0m\u001b[1m      DataLoader 0       \u001b[0m\u001b[1m \u001b[0m┃\n",
       "┡━━━━━━━━━━━━━━━━━━━━━━━━━━━╇━━━━━━━━━━━━━━━━━━━━━━━━━━━┩\n",
       "│\u001b[36m \u001b[0m\u001b[36m        acc/test         \u001b[0m\u001b[36m \u001b[0m│\u001b[35m \u001b[0m\u001b[35m   0.9053999781608582    \u001b[0m\u001b[35m \u001b[0m│\n",
       "│\u001b[36m \u001b[0m\u001b[36m        loss/test        \u001b[0m\u001b[36m \u001b[0m│\u001b[35m \u001b[0m\u001b[35m   0.4745422303676605    \u001b[0m\u001b[35m \u001b[0m│\n",
       "└───────────────────────────┴───────────────────────────┘\n"
      ]
     },
     "metadata": {},
     "output_type": "display_data"
    },
    {
     "data": {
      "text/html": [
       "<pre style=\"white-space:pre;overflow-x:auto;line-height:normal;font-family:Menlo,'DejaVu Sans Mono',consolas,'Courier New',monospace\">┏━━━━━━━━━━━━━━━━━━━━━━━━━━━┳━━━━━━━━━━━━━━━━━━━━━━━━━━━┓\n",
       "┃<span style=\"font-weight: bold\">        Test metric        </span>┃<span style=\"font-weight: bold\">       DataLoader 0        </span>┃\n",
       "┡━━━━━━━━━━━━━━━━━━━━━━━━━━━╇━━━━━━━━━━━━━━━━━━━━━━━━━━━┩\n",
       "│<span style=\"color: #008080; text-decoration-color: #008080\">         acc/test          </span>│<span style=\"color: #800080; text-decoration-color: #800080\">    0.9053999781608582     </span>│\n",
       "│<span style=\"color: #008080; text-decoration-color: #008080\">         loss/test         </span>│<span style=\"color: #800080; text-decoration-color: #800080\">    0.4745422303676605     </span>│\n",
       "└───────────────────────────┴───────────────────────────┘\n",
       "</pre>\n"
      ],
      "text/plain": [
       "┏━━━━━━━━━━━━━━━━━━━━━━━━━━━┳━━━━━━━━━━━━━━━━━━━━━━━━━━━┓\n",
       "┃\u001b[1m \u001b[0m\u001b[1m       Test metric       \u001b[0m\u001b[1m \u001b[0m┃\u001b[1m \u001b[0m\u001b[1m      DataLoader 0       \u001b[0m\u001b[1m \u001b[0m┃\n",
       "┡━━━━━━━━━━━━━━━━━━━━━━━━━━━╇━━━━━━━━━━━━━━━━━━━━━━━━━━━┩\n",
       "│\u001b[36m \u001b[0m\u001b[36m        acc/test         \u001b[0m\u001b[36m \u001b[0m│\u001b[35m \u001b[0m\u001b[35m   0.9053999781608582    \u001b[0m\u001b[35m \u001b[0m│\n",
       "│\u001b[36m \u001b[0m\u001b[36m        loss/test        \u001b[0m\u001b[36m \u001b[0m│\u001b[35m \u001b[0m\u001b[35m   0.4745422303676605    \u001b[0m\u001b[35m \u001b[0m│\n",
       "└───────────────────────────┴───────────────────────────┘\n"
      ]
     },
     "metadata": {},
     "output_type": "display_data"
    },
    {
     "data": {
      "text/html": [
       "<pre style=\"white-space:pre;overflow-x:auto;line-height:normal;font-family:Menlo,'DejaVu Sans Mono',consolas,'Courier New',monospace\">┏━━━━━━━━━━━━━━━━━━━━━━━━━━━┳━━━━━━━━━━━━━━━━━━━━━━━━━━━┓\n",
       "┃<span style=\"font-weight: bold\">        Test metric        </span>┃<span style=\"font-weight: bold\">       DataLoader 0        </span>┃\n",
       "┡━━━━━━━━━━━━━━━━━━━━━━━━━━━╇━━━━━━━━━━━━━━━━━━━━━━━━━━━┩\n",
       "│<span style=\"color: #008080; text-decoration-color: #008080\">         acc/test          </span>│<span style=\"color: #800080; text-decoration-color: #800080\">     0.906000018119812     </span>│\n",
       "│<span style=\"color: #008080; text-decoration-color: #008080\">         loss/test         </span>│<span style=\"color: #800080; text-decoration-color: #800080\">    0.46581199765205383    </span>│\n",
       "└───────────────────────────┴───────────────────────────┘\n",
       "</pre>\n"
      ],
      "text/plain": [
       "┏━━━━━━━━━━━━━━━━━━━━━━━━━━━┳━━━━━━━━━━━━━━━━━━━━━━━━━━━┓\n",
       "┃\u001b[1m \u001b[0m\u001b[1m       Test metric       \u001b[0m\u001b[1m \u001b[0m┃\u001b[1m \u001b[0m\u001b[1m      DataLoader 0       \u001b[0m\u001b[1m \u001b[0m┃\n",
       "┡━━━━━━━━━━━━━━━━━━━━━━━━━━━╇━━━━━━━━━━━━━━━━━━━━━━━━━━━┩\n",
       "│\u001b[36m \u001b[0m\u001b[36m        acc/test         \u001b[0m\u001b[36m \u001b[0m│\u001b[35m \u001b[0m\u001b[35m    0.906000018119812    \u001b[0m\u001b[35m \u001b[0m│\n",
       "│\u001b[36m \u001b[0m\u001b[36m        loss/test        \u001b[0m\u001b[36m \u001b[0m│\u001b[35m \u001b[0m\u001b[35m   0.46581199765205383   \u001b[0m\u001b[35m \u001b[0m│\n",
       "└───────────────────────────┴───────────────────────────┘\n"
      ]
     },
     "metadata": {},
     "output_type": "display_data"
    },
    {
     "data": {
      "text/html": [
       "<pre style=\"white-space:pre;overflow-x:auto;line-height:normal;font-family:Menlo,'DejaVu Sans Mono',consolas,'Courier New',monospace\">┏━━━━━━━━━━━━━━━━━━━━━━━━━━━┳━━━━━━━━━━━━━━━━━━━━━━━━━━━┓\n",
       "┃<span style=\"font-weight: bold\">        Test metric        </span>┃<span style=\"font-weight: bold\">       DataLoader 0        </span>┃\n",
       "┡━━━━━━━━━━━━━━━━━━━━━━━━━━━╇━━━━━━━━━━━━━━━━━━━━━━━━━━━┩\n",
       "│<span style=\"color: #008080; text-decoration-color: #008080\">         acc/test          </span>│<span style=\"color: #800080; text-decoration-color: #800080\">     0.906000018119812     </span>│\n",
       "│<span style=\"color: #008080; text-decoration-color: #008080\">         loss/test         </span>│<span style=\"color: #800080; text-decoration-color: #800080\">    0.46581199765205383    </span>│\n",
       "└───────────────────────────┴───────────────────────────┘\n",
       "</pre>\n"
      ],
      "text/plain": [
       "┏━━━━━━━━━━━━━━━━━━━━━━━━━━━┳━━━━━━━━━━━━━━━━━━━━━━━━━━━┓\n",
       "┃\u001b[1m \u001b[0m\u001b[1m       Test metric       \u001b[0m\u001b[1m \u001b[0m┃\u001b[1m \u001b[0m\u001b[1m      DataLoader 0       \u001b[0m\u001b[1m \u001b[0m┃\n",
       "┡━━━━━━━━━━━━━━━━━━━━━━━━━━━╇━━━━━━━━━━━━━━━━━━━━━━━━━━━┩\n",
       "│\u001b[36m \u001b[0m\u001b[36m        acc/test         \u001b[0m\u001b[36m \u001b[0m│\u001b[35m \u001b[0m\u001b[35m    0.906000018119812    \u001b[0m\u001b[35m \u001b[0m│\n",
       "│\u001b[36m \u001b[0m\u001b[36m        loss/test        \u001b[0m\u001b[36m \u001b[0m│\u001b[35m \u001b[0m\u001b[35m   0.46581199765205383   \u001b[0m\u001b[35m \u001b[0m│\n",
       "└───────────────────────────┴───────────────────────────┘\n"
      ]
     },
     "metadata": {},
     "output_type": "display_data"
    }
   ],
   "source": [
    "for symbol, model in models_permuted_to_universe.items():\n",
    "    trainer.test(models_permuted_to_universe[symbol], test_loader)\n",
    "    trainer.test(models[symbol], test_loader)"
   ]
  },
  {
   "cell_type": "markdown",
   "metadata": {},
   "source": [
    "## Analyze models as vectors"
   ]
  },
  {
   "cell_type": "markdown",
   "metadata": {},
   "source": [
    "### Flatten models"
   ]
  },
  {
   "cell_type": "code",
   "execution_count": 19,
   "metadata": {},
   "outputs": [
    {
     "name": "stdout",
     "output_type": "stream",
     "text": [
      "{'a': {'c', 'b', 'e', 'd'}, 'c': {'a', 'b', 'e', 'd'}, 'e': {'a', 'c', 'b', 'd'}, 'd': {'a', 'c', 'b', 'e'}, 'b': {'a', 'c', 'e', 'd'}}\n"
     ]
    }
   ],
   "source": [
    "other_symbs = {symbol: set(symbols).difference(symbol) for symbol in symbols}\n",
    "print(other_symbs)"
   ]
  },
  {
   "cell_type": "code",
   "execution_count": 20,
   "metadata": {},
   "outputs": [],
   "source": [
    "flat_models = {symbol: torch.nn.utils.parameters_to_vector(model.parameters()) for symbol, model in models.items()}\n",
    "flat_models_permuted_to_universe = {\n",
    "    symbol: torch.nn.utils.parameters_to_vector(model.parameters())\n",
    "    for symbol, model in models_permuted_to_universe.items()\n",
    "}\n",
    "\n",
    "flat_models_permuted_pairwise = {\n",
    "    symbol: {\n",
    "        other_symb: torch.nn.utils.parameters_to_vector(models_permuted_pairwise[symbol][other_symb].parameters())\n",
    "        for other_symb in other_symbs[symbol]\n",
    "    }\n",
    "    for symbol in symbols\n",
    "}"
   ]
  },
  {
   "cell_type": "code",
   "execution_count": 21,
   "metadata": {},
   "outputs": [
    {
     "data": {
      "text/plain": [
       "dict_keys(['a', 'c', 'b', 'd'])"
      ]
     },
     "execution_count": 21,
     "metadata": {},
     "output_type": "execute_result"
    }
   ],
   "source": [
    "flat_models_permuted_pairwise[\"e\"].keys()"
   ]
  },
  {
   "cell_type": "code",
   "execution_count": 22,
   "metadata": {},
   "outputs": [],
   "source": [
    "for symbol in symbols:\n",
    "    flat_models_permuted_pairwise[symbol][symbol] = flat_models[symbol]\n",
    "    models_permuted_pairwise[symbol][symbol] = models[symbol]"
   ]
  },
  {
   "cell_type": "markdown",
   "metadata": {},
   "source": [
    "## Interpolation curves"
   ]
  },
  {
   "cell_type": "code",
   "execution_count": 23,
   "metadata": {},
   "outputs": [],
   "source": [
    "def linear_interpolation(model_a, model_b, lamb):\n",
    "    return (1 - lamb) * model_a + lamb * model_b\n",
    "\n",
    "\n",
    "def get_interp_curve(lambdas, model_a, model_b, ref_model):\n",
    "\n",
    "    interp_losses = []\n",
    "    interp_accs = []\n",
    "\n",
    "    for lamb in lambdas:\n",
    "        interp_params = linear_interpolation(model_a=model_a, model_b=model_b, lamb=lamb)\n",
    "\n",
    "        interp_params = vector_to_state_dict(interp_params, ref_model.model)\n",
    "\n",
    "        ref_model.model.load_state_dict(interp_params)\n",
    "        results = trainer.test(ref_model, test_loader, verbose=False)\n",
    "\n",
    "        interp_losses.append(results[0][f\"loss/test\"])\n",
    "        interp_accs.append(results[0][f\"acc/test\"])\n",
    "\n",
    "    return interp_losses, interp_accs"
   ]
  },
  {
   "cell_type": "code",
   "execution_count": 24,
   "metadata": {},
   "outputs": [],
   "source": [
    "lambdas = np.linspace(0, 1, 3)\n",
    "loss_curve_a_univ_c_univ, acc_curve_a_univ_c_univ = get_interp_curve(\n",
    "    lambdas=lambdas,\n",
    "    model_a=flat_models_permuted_to_universe[\"a\"],\n",
    "    model_b=flat_models_permuted_to_universe[\"c\"],\n",
    "    ref_model=ref_model,\n",
    ")\n",
    "loss_curve_a_univ_d_univ, acc_curve_a_univ_d_univ = get_interp_curve(\n",
    "    lambdas=lambdas,\n",
    "    model_a=flat_models_permuted_to_universe[\"a\"],\n",
    "    model_b=flat_models_permuted_to_universe[\"d\"],\n",
    "    ref_model=ref_model,\n",
    ")\n",
    "loss_curve_a_perm_c, acc_curve_a_perm_c = get_interp_curve(\n",
    "    lambdas=lambdas, model_a=flat_models[\"a\"], model_b=flat_models_permuted_pairwise[\"a\"][\"c\"], ref_model=ref_model\n",
    ")\n",
    "loss_curve_a_b, acc_curve_a_b = get_interp_curve(\n",
    "    lambdas=lambdas, model_a=flat_models[\"a\"], model_b=flat_models[\"c\"], ref_model=ref_model\n",
    ")"
   ]
  },
  {
   "cell_type": "code",
   "execution_count": 25,
   "metadata": {},
   "outputs": [],
   "source": [
    "# plt.plot(lambdas, loss_curve_a_b, label=r\"$A, B$\")\n",
    "# plt.plot(lambdas, loss_curve_a_univ_c_univ, label=r\"$P_{A}^\\top (A), P_{C}^\\top (C)$\")\n",
    "# plt.plot(lambdas, loss_curve_a_univ_d_univ, label=r\"$P_{A}^\\top (A), P_{D}^\\top (D)$\")\n",
    "# plt.plot(lambdas, loss_curve_a_perm_c, label=r\"$A, P_{A} P_{C}^\\top (C)$\")\n",
    "# plt.legend()"
   ]
  },
  {
   "cell_type": "code",
   "execution_count": 26,
   "metadata": {},
   "outputs": [],
   "source": [
    "# plt.plot(lambdas, acc_curve_a_b, label=r\"$A, B$\")\n",
    "# plt.plot(lambdas, acc_curve_a_univ_c_univ, label=r\"$P_{A}^\\top (A), P_{C}^\\top (C)$\")\n",
    "# plt.plot(lambdas, acc_curve_a_univ_d_univ, label=r\"$P_{A}^\\top (A), P_{D}^\\top (D)$\")\n",
    "# plt.plot(lambdas, acc_curve_a_perm_c, label=r\"$A, P_{A} P_{C}^\\top (C)$\")\n",
    "# plt.legend()"
   ]
  },
  {
   "cell_type": "code",
   "execution_count": 27,
   "metadata": {},
   "outputs": [
    {
     "data": {
      "text/plain": [
       "'\\nfrom ccmm.utils.utils import average_models\\n\\n\\nfor ref_symbol in symbols:\\n\\n    ref_model = copy.deepcopy(models[ref_symbol])\\n\\n    all_models_permuted_to_ref = {symb: models_permuted_pairwise[ref_symbol][symb] for symb in symbols}\\n\\n    model_params = {symbol: model.state_dict() for symbol, model in all_models_permuted_to_ref.items()}\\n\\n    mean_params = average_models(model_params)\\n\\n    ref_model.load_state_dict(mean_params)\\n\\n    results = trainer.test(ref_model, test_loader, verbose=True)\\n'"
      ]
     },
     "execution_count": 27,
     "metadata": {},
     "output_type": "execute_result"
    }
   ],
   "source": [
    "'''\n",
    "from ccmm.utils.utils import average_models\n",
    "\n",
    "\n",
    "for ref_symbol in symbols:\n",
    "\n",
    "    ref_model = copy.deepcopy(models[ref_symbol])\n",
    "\n",
    "    all_models_permuted_to_ref = {symb: models_permuted_pairwise[ref_symbol][symb] for symb in symbols}\n",
    "\n",
    "    model_params = {symbol: model.state_dict() for symbol, model in all_models_permuted_to_ref.items()}\n",
    "\n",
    "    mean_params = average_models(model_params)\n",
    "\n",
    "    ref_model.load_state_dict(mean_params)\n",
    "\n",
    "    results = trainer.test(ref_model, test_loader, verbose=True)\n",
    "'''"
   ]
  },
  {
   "cell_type": "code",
   "execution_count": 28,
   "metadata": {},
   "outputs": [],
   "source": [
    "%%capture\n",
    "\n",
    "from ccmm.matching.weight_matching import PermutationSpec, weight_matching\n",
    "from ccmm.matching.utils import get_inverse_permutations\n",
    "\n",
    "\n",
    "pairwise_perms_gitrebasin = {\n",
    " symb: {other_symb: None for other_symb in set(symbols).difference(symb)} for symb in symbols   \n",
    "}\n",
    "\n",
    "for fixed, permutee in canonical_combinations:\n",
    "    permutation = weight_matching(\n",
    "        permutation_spec,\n",
    "        fixed=models[fixed].model.state_dict(),\n",
    "        permutee=models[permutee].model.state_dict(),\n",
    "    )\n",
    "    pairwise_perms_gitrebasin[fixed][permutee] = permutation\n",
    "    pairwise_perms_gitrebasin[permutee][fixed] = get_inverse_permutations(permutation)\n",
    "    "
   ]
  },
  {
   "cell_type": "code",
   "execution_count": 30,
   "metadata": {},
   "outputs": [],
   "source": [
    "def cyclic_permute(pairwise_perms, symbols, models):\n",
    "    ordered_symbs = sorted(list(symbols))\n",
    "    model_current = models[ordered_symbs[0]].model.state_dict()\n",
    "    for i, symb in enumerate(ordered_symbs[1:] + [ordered_symbs[0]]):\n",
    "        # print(\"next: {} -- prev: {}\".format(symb, ordered_symbs[i]))\n",
    "        permutation = pairwise_perms[symb][ordered_symbs[i]]\n",
    "        model_current = apply_permutation_to_statedict(\n",
    "            permutation_spec, permutation, model_current\n",
    "        )\n",
    "    return model_current"
   ]
  },
  {
   "cell_type": "code",
   "execution_count": 31,
   "metadata": {},
   "outputs": [],
   "source": [
    "\n",
    "def evaluate_interpolated_model(lambd, model_a, model_b, ref_model):\n",
    "\n",
    "    interp_params = linear_interpolate_state_dicts(\n",
    "        t1=model_a.model.state_dict(), t2=model_b.model.state_dict(), lam=lambd\n",
    "    )\n",
    "\n",
    "    ref_model.model.load_state_dict(interp_params)\n",
    "\n",
    "    test_results = trainer.test(ref_model, test_loader, verbose=False)[0]\n",
    "\n",
    "    return test_results\n",
    "\n",
    "def get_interp_curve(lambdas, model_a, model_b, ref_model):\n",
    "\n",
    "    interp_losses = []\n",
    "    interp_accs = []\n",
    "\n",
    "    for lamb in lambdas:\n",
    "        interp_results = evaluate_interpolated_model(model_a=model_a, model_b=model_b, lambd=lamb, ref_model=ref_model)\n",
    "\n",
    "        interp_losses.append(interp_results[f\"loss/test\"])\n",
    "        interp_accs.append(interp_results[f\"acc/test\"])\n",
    "\n",
    "    return interp_losses, interp_accs\n",
    "\n",
    "def l2_norm_models(state_dict1, state_dict2):\n",
    "    \"\"\"Calculate the L2 norm of the difference between two state dictionaries.\"\"\"\n",
    "    diff_squared_sum = sum(torch.sum((state_dict1[key] - state_dict2[key]) ** 2) for key in state_dict1)\n",
    "    return torch.sqrt(diff_squared_sum)\n"
   ]
  },
  {
   "cell_type": "code",
   "execution_count": 32,
   "metadata": {},
   "outputs": [
    {
     "name": "stdout",
     "output_type": "stream",
     "text": [
      "Cycle: ('a', 'c', 'e')\n",
      "Model distance: 41.07636642456055\n"
     ]
    },
    {
     "data": {
      "text/html": [
       "<pre style=\"white-space:pre;overflow-x:auto;line-height:normal;font-family:Menlo,'DejaVu Sans Mono',consolas,'Courier New',monospace\"><span style=\"color: #7fbfbf; text-decoration-color: #7fbfbf\">2024-02-01 16:56:22 </span><span style=\"color: #000080; text-decoration-color: #000080\">INFO    </span> Evaluating interpolated model with lambda: <span style=\"color: #008080; text-decoration-color: #008080; font-weight: bold\">0.0</span>                    <a href=\"file:///home/daniele/source/cycle-consistent-model-merging/src/ccmm/utils/utils.py\" target=\"_blank\"><span style=\"color: #7f7f7f; text-decoration-color: #7f7f7f\">ccmm.utils.utils</span></a><span style=\"color: #7f7f7f; text-decoration-color: #7f7f7f\">:</span><a href=\"file:///home/daniele/source/cycle-consistent-model-merging/src/ccmm/utils/utils.py#141\" target=\"_blank\"><span style=\"color: #7f7f7f; text-decoration-color: #7f7f7f\">141</span></a>\n",
       "</pre>\n"
      ],
      "text/plain": [
       "\u001b[2;36m2024-02-01 16:56:22\u001b[0m\u001b[2;36m \u001b[0m\u001b[34mINFO    \u001b[0m Evaluating interpolated model with lambda: \u001b[1;36m0.0\u001b[0m                    \u001b]8;id=59572;file:///home/daniele/source/cycle-consistent-model-merging/src/ccmm/utils/utils.py\u001b\\\u001b[2mccmm.utils.utils\u001b[0m\u001b]8;;\u001b\\\u001b[2m:\u001b[0m\u001b]8;id=200819;file:///home/daniele/source/cycle-consistent-model-merging/src/ccmm/utils/utils.py#141\u001b\\\u001b[2m141\u001b[0m\u001b]8;;\u001b\\\n"
      ]
     },
     "metadata": {},
     "output_type": "display_data"
    },
    {
     "data": {
      "text/html": [
       "<pre style=\"white-space:pre;overflow-x:auto;line-height:normal;font-family:Menlo,'DejaVu Sans Mono',consolas,'Courier New',monospace\"><span style=\"color: #7fbfbf; text-decoration-color: #7fbfbf\">2024-02-01 16:56:25 </span><span style=\"color: #000080; text-decoration-color: #000080\">INFO    </span> Evaluating interpolated model with lambda: <span style=\"color: #008080; text-decoration-color: #008080; font-weight: bold\">0.0714285746216774</span>     <a href=\"file:///home/daniele/source/cycle-consistent-model-merging/src/ccmm/utils/utils.py\" target=\"_blank\"><span style=\"color: #7f7f7f; text-decoration-color: #7f7f7f\">ccmm.utils.utils</span></a><span style=\"color: #7f7f7f; text-decoration-color: #7f7f7f\">:</span><a href=\"file:///home/daniele/source/cycle-consistent-model-merging/src/ccmm/utils/utils.py#141\" target=\"_blank\"><span style=\"color: #7f7f7f; text-decoration-color: #7f7f7f\">141</span></a>\n",
       "</pre>\n"
      ],
      "text/plain": [
       "\u001b[2;36m2024-02-01 16:56:25\u001b[0m\u001b[2;36m \u001b[0m\u001b[34mINFO    \u001b[0m Evaluating interpolated model with lambda: \u001b[1;36m0.0714285746216774\u001b[0m     \u001b]8;id=291460;file:///home/daniele/source/cycle-consistent-model-merging/src/ccmm/utils/utils.py\u001b\\\u001b[2mccmm.utils.utils\u001b[0m\u001b]8;;\u001b\\\u001b[2m:\u001b[0m\u001b]8;id=438372;file:///home/daniele/source/cycle-consistent-model-merging/src/ccmm/utils/utils.py#141\u001b\\\u001b[2m141\u001b[0m\u001b]8;;\u001b\\\n"
      ]
     },
     "metadata": {},
     "output_type": "display_data"
    },
    {
     "data": {
      "text/html": [
       "<pre style=\"white-space:pre;overflow-x:auto;line-height:normal;font-family:Menlo,'DejaVu Sans Mono',consolas,'Courier New',monospace\"><span style=\"color: #7fbfbf; text-decoration-color: #7fbfbf\">2024-02-01 16:56:28 </span><span style=\"color: #000080; text-decoration-color: #000080\">INFO    </span> Evaluating interpolated model with lambda: <span style=\"color: #008080; text-decoration-color: #008080; font-weight: bold\">0.1428571492433548</span>     <a href=\"file:///home/daniele/source/cycle-consistent-model-merging/src/ccmm/utils/utils.py\" target=\"_blank\"><span style=\"color: #7f7f7f; text-decoration-color: #7f7f7f\">ccmm.utils.utils</span></a><span style=\"color: #7f7f7f; text-decoration-color: #7f7f7f\">:</span><a href=\"file:///home/daniele/source/cycle-consistent-model-merging/src/ccmm/utils/utils.py#141\" target=\"_blank\"><span style=\"color: #7f7f7f; text-decoration-color: #7f7f7f\">141</span></a>\n",
       "</pre>\n"
      ],
      "text/plain": [
       "\u001b[2;36m2024-02-01 16:56:28\u001b[0m\u001b[2;36m \u001b[0m\u001b[34mINFO    \u001b[0m Evaluating interpolated model with lambda: \u001b[1;36m0.1428571492433548\u001b[0m     \u001b]8;id=405934;file:///home/daniele/source/cycle-consistent-model-merging/src/ccmm/utils/utils.py\u001b\\\u001b[2mccmm.utils.utils\u001b[0m\u001b]8;;\u001b\\\u001b[2m:\u001b[0m\u001b]8;id=738346;file:///home/daniele/source/cycle-consistent-model-merging/src/ccmm/utils/utils.py#141\u001b\\\u001b[2m141\u001b[0m\u001b]8;;\u001b\\\n"
      ]
     },
     "metadata": {},
     "output_type": "display_data"
    },
    {
     "data": {
      "text/html": [
       "<pre style=\"white-space:pre;overflow-x:auto;line-height:normal;font-family:Menlo,'DejaVu Sans Mono',consolas,'Courier New',monospace\"><span style=\"color: #7fbfbf; text-decoration-color: #7fbfbf\">2024-02-01 16:56:32 </span><span style=\"color: #000080; text-decoration-color: #000080\">INFO    </span> Evaluating interpolated model with lambda: <span style=\"color: #008080; text-decoration-color: #008080; font-weight: bold\">0.2142857313156128</span>     <a href=\"file:///home/daniele/source/cycle-consistent-model-merging/src/ccmm/utils/utils.py\" target=\"_blank\"><span style=\"color: #7f7f7f; text-decoration-color: #7f7f7f\">ccmm.utils.utils</span></a><span style=\"color: #7f7f7f; text-decoration-color: #7f7f7f\">:</span><a href=\"file:///home/daniele/source/cycle-consistent-model-merging/src/ccmm/utils/utils.py#141\" target=\"_blank\"><span style=\"color: #7f7f7f; text-decoration-color: #7f7f7f\">141</span></a>\n",
       "</pre>\n"
      ],
      "text/plain": [
       "\u001b[2;36m2024-02-01 16:56:32\u001b[0m\u001b[2;36m \u001b[0m\u001b[34mINFO    \u001b[0m Evaluating interpolated model with lambda: \u001b[1;36m0.2142857313156128\u001b[0m     \u001b]8;id=242887;file:///home/daniele/source/cycle-consistent-model-merging/src/ccmm/utils/utils.py\u001b\\\u001b[2mccmm.utils.utils\u001b[0m\u001b]8;;\u001b\\\u001b[2m:\u001b[0m\u001b]8;id=438048;file:///home/daniele/source/cycle-consistent-model-merging/src/ccmm/utils/utils.py#141\u001b\\\u001b[2m141\u001b[0m\u001b]8;;\u001b\\\n"
      ]
     },
     "metadata": {},
     "output_type": "display_data"
    },
    {
     "data": {
      "text/html": [
       "<pre style=\"white-space:pre;overflow-x:auto;line-height:normal;font-family:Menlo,'DejaVu Sans Mono',consolas,'Courier New',monospace\"><span style=\"color: #7fbfbf; text-decoration-color: #7fbfbf\">2024-02-01 16:56:35 </span><span style=\"color: #000080; text-decoration-color: #000080\">INFO    </span> Evaluating interpolated model with lambda: <span style=\"color: #008080; text-decoration-color: #008080; font-weight: bold\">0.2857142984867096</span>     <a href=\"file:///home/daniele/source/cycle-consistent-model-merging/src/ccmm/utils/utils.py\" target=\"_blank\"><span style=\"color: #7f7f7f; text-decoration-color: #7f7f7f\">ccmm.utils.utils</span></a><span style=\"color: #7f7f7f; text-decoration-color: #7f7f7f\">:</span><a href=\"file:///home/daniele/source/cycle-consistent-model-merging/src/ccmm/utils/utils.py#141\" target=\"_blank\"><span style=\"color: #7f7f7f; text-decoration-color: #7f7f7f\">141</span></a>\n",
       "</pre>\n"
      ],
      "text/plain": [
       "\u001b[2;36m2024-02-01 16:56:35\u001b[0m\u001b[2;36m \u001b[0m\u001b[34mINFO    \u001b[0m Evaluating interpolated model with lambda: \u001b[1;36m0.2857142984867096\u001b[0m     \u001b]8;id=499370;file:///home/daniele/source/cycle-consistent-model-merging/src/ccmm/utils/utils.py\u001b\\\u001b[2mccmm.utils.utils\u001b[0m\u001b]8;;\u001b\\\u001b[2m:\u001b[0m\u001b]8;id=586518;file:///home/daniele/source/cycle-consistent-model-merging/src/ccmm/utils/utils.py#141\u001b\\\u001b[2m141\u001b[0m\u001b]8;;\u001b\\\n"
      ]
     },
     "metadata": {},
     "output_type": "display_data"
    },
    {
     "data": {
      "text/html": [
       "<pre style=\"white-space:pre;overflow-x:auto;line-height:normal;font-family:Menlo,'DejaVu Sans Mono',consolas,'Courier New',monospace\"><span style=\"color: #7fbfbf; text-decoration-color: #7fbfbf\">2024-02-01 16:56:38 </span><span style=\"color: #000080; text-decoration-color: #000080\">INFO    </span> Evaluating interpolated model with lambda: <span style=\"color: #008080; text-decoration-color: #008080; font-weight: bold\">0.3571428656578064</span>     <a href=\"file:///home/daniele/source/cycle-consistent-model-merging/src/ccmm/utils/utils.py\" target=\"_blank\"><span style=\"color: #7f7f7f; text-decoration-color: #7f7f7f\">ccmm.utils.utils</span></a><span style=\"color: #7f7f7f; text-decoration-color: #7f7f7f\">:</span><a href=\"file:///home/daniele/source/cycle-consistent-model-merging/src/ccmm/utils/utils.py#141\" target=\"_blank\"><span style=\"color: #7f7f7f; text-decoration-color: #7f7f7f\">141</span></a>\n",
       "</pre>\n"
      ],
      "text/plain": [
       "\u001b[2;36m2024-02-01 16:56:38\u001b[0m\u001b[2;36m \u001b[0m\u001b[34mINFO    \u001b[0m Evaluating interpolated model with lambda: \u001b[1;36m0.3571428656578064\u001b[0m     \u001b]8;id=671460;file:///home/daniele/source/cycle-consistent-model-merging/src/ccmm/utils/utils.py\u001b\\\u001b[2mccmm.utils.utils\u001b[0m\u001b]8;;\u001b\\\u001b[2m:\u001b[0m\u001b]8;id=425036;file:///home/daniele/source/cycle-consistent-model-merging/src/ccmm/utils/utils.py#141\u001b\\\u001b[2m141\u001b[0m\u001b]8;;\u001b\\\n"
      ]
     },
     "metadata": {},
     "output_type": "display_data"
    },
    {
     "data": {
      "text/html": [
       "<pre style=\"white-space:pre;overflow-x:auto;line-height:normal;font-family:Menlo,'DejaVu Sans Mono',consolas,'Courier New',monospace\"><span style=\"color: #7fbfbf; text-decoration-color: #7fbfbf\">2024-02-01 16:56:41 </span><span style=\"color: #000080; text-decoration-color: #000080\">INFO    </span> Evaluating interpolated model with lambda: <span style=\"color: #008080; text-decoration-color: #008080; font-weight: bold\">0.4285714626312256</span>     <a href=\"file:///home/daniele/source/cycle-consistent-model-merging/src/ccmm/utils/utils.py\" target=\"_blank\"><span style=\"color: #7f7f7f; text-decoration-color: #7f7f7f\">ccmm.utils.utils</span></a><span style=\"color: #7f7f7f; text-decoration-color: #7f7f7f\">:</span><a href=\"file:///home/daniele/source/cycle-consistent-model-merging/src/ccmm/utils/utils.py#141\" target=\"_blank\"><span style=\"color: #7f7f7f; text-decoration-color: #7f7f7f\">141</span></a>\n",
       "</pre>\n"
      ],
      "text/plain": [
       "\u001b[2;36m2024-02-01 16:56:41\u001b[0m\u001b[2;36m \u001b[0m\u001b[34mINFO    \u001b[0m Evaluating interpolated model with lambda: \u001b[1;36m0.4285714626312256\u001b[0m     \u001b]8;id=503286;file:///home/daniele/source/cycle-consistent-model-merging/src/ccmm/utils/utils.py\u001b\\\u001b[2mccmm.utils.utils\u001b[0m\u001b]8;;\u001b\\\u001b[2m:\u001b[0m\u001b]8;id=884875;file:///home/daniele/source/cycle-consistent-model-merging/src/ccmm/utils/utils.py#141\u001b\\\u001b[2m141\u001b[0m\u001b]8;;\u001b\\\n"
      ]
     },
     "metadata": {},
     "output_type": "display_data"
    },
    {
     "data": {
      "text/html": [
       "<pre style=\"white-space:pre;overflow-x:auto;line-height:normal;font-family:Menlo,'DejaVu Sans Mono',consolas,'Courier New',monospace\"><span style=\"color: #7fbfbf; text-decoration-color: #7fbfbf\">2024-02-01 16:56:45 </span><span style=\"color: #000080; text-decoration-color: #000080\">INFO    </span> Evaluating interpolated model with lambda: <span style=\"color: #008080; text-decoration-color: #008080; font-weight: bold\">0.4999999701976776</span>     <a href=\"file:///home/daniele/source/cycle-consistent-model-merging/src/ccmm/utils/utils.py\" target=\"_blank\"><span style=\"color: #7f7f7f; text-decoration-color: #7f7f7f\">ccmm.utils.utils</span></a><span style=\"color: #7f7f7f; text-decoration-color: #7f7f7f\">:</span><a href=\"file:///home/daniele/source/cycle-consistent-model-merging/src/ccmm/utils/utils.py#141\" target=\"_blank\"><span style=\"color: #7f7f7f; text-decoration-color: #7f7f7f\">141</span></a>\n",
       "</pre>\n"
      ],
      "text/plain": [
       "\u001b[2;36m2024-02-01 16:56:45\u001b[0m\u001b[2;36m \u001b[0m\u001b[34mINFO    \u001b[0m Evaluating interpolated model with lambda: \u001b[1;36m0.4999999701976776\u001b[0m     \u001b]8;id=297753;file:///home/daniele/source/cycle-consistent-model-merging/src/ccmm/utils/utils.py\u001b\\\u001b[2mccmm.utils.utils\u001b[0m\u001b]8;;\u001b\\\u001b[2m:\u001b[0m\u001b]8;id=502487;file:///home/daniele/source/cycle-consistent-model-merging/src/ccmm/utils/utils.py#141\u001b\\\u001b[2m141\u001b[0m\u001b]8;;\u001b\\\n"
      ]
     },
     "metadata": {},
     "output_type": "display_data"
    },
    {
     "data": {
      "text/html": [
       "<pre style=\"white-space:pre;overflow-x:auto;line-height:normal;font-family:Menlo,'DejaVu Sans Mono',consolas,'Courier New',monospace\"><span style=\"color: #7fbfbf; text-decoration-color: #7fbfbf\">2024-02-01 16:56:48 </span><span style=\"color: #000080; text-decoration-color: #000080\">INFO    </span> Evaluating interpolated model with lambda: <span style=\"color: #008080; text-decoration-color: #008080; font-weight: bold\">0.5714285373687744</span>     <a href=\"file:///home/daniele/source/cycle-consistent-model-merging/src/ccmm/utils/utils.py\" target=\"_blank\"><span style=\"color: #7f7f7f; text-decoration-color: #7f7f7f\">ccmm.utils.utils</span></a><span style=\"color: #7f7f7f; text-decoration-color: #7f7f7f\">:</span><a href=\"file:///home/daniele/source/cycle-consistent-model-merging/src/ccmm/utils/utils.py#141\" target=\"_blank\"><span style=\"color: #7f7f7f; text-decoration-color: #7f7f7f\">141</span></a>\n",
       "</pre>\n"
      ],
      "text/plain": [
       "\u001b[2;36m2024-02-01 16:56:48\u001b[0m\u001b[2;36m \u001b[0m\u001b[34mINFO    \u001b[0m Evaluating interpolated model with lambda: \u001b[1;36m0.5714285373687744\u001b[0m     \u001b]8;id=283811;file:///home/daniele/source/cycle-consistent-model-merging/src/ccmm/utils/utils.py\u001b\\\u001b[2mccmm.utils.utils\u001b[0m\u001b]8;;\u001b\\\u001b[2m:\u001b[0m\u001b]8;id=994577;file:///home/daniele/source/cycle-consistent-model-merging/src/ccmm/utils/utils.py#141\u001b\\\u001b[2m141\u001b[0m\u001b]8;;\u001b\\\n"
      ]
     },
     "metadata": {},
     "output_type": "display_data"
    },
    {
     "data": {
      "text/html": [
       "<pre style=\"white-space:pre;overflow-x:auto;line-height:normal;font-family:Menlo,'DejaVu Sans Mono',consolas,'Courier New',monospace\"><span style=\"color: #7fbfbf; text-decoration-color: #7fbfbf\">2024-02-01 16:56:51 </span><span style=\"color: #000080; text-decoration-color: #000080\">INFO    </span> Evaluating interpolated model with lambda: <span style=\"color: #008080; text-decoration-color: #008080; font-weight: bold\">0.6428571343421936</span>     <a href=\"file:///home/daniele/source/cycle-consistent-model-merging/src/ccmm/utils/utils.py\" target=\"_blank\"><span style=\"color: #7f7f7f; text-decoration-color: #7f7f7f\">ccmm.utils.utils</span></a><span style=\"color: #7f7f7f; text-decoration-color: #7f7f7f\">:</span><a href=\"file:///home/daniele/source/cycle-consistent-model-merging/src/ccmm/utils/utils.py#141\" target=\"_blank\"><span style=\"color: #7f7f7f; text-decoration-color: #7f7f7f\">141</span></a>\n",
       "</pre>\n"
      ],
      "text/plain": [
       "\u001b[2;36m2024-02-01 16:56:51\u001b[0m\u001b[2;36m \u001b[0m\u001b[34mINFO    \u001b[0m Evaluating interpolated model with lambda: \u001b[1;36m0.6428571343421936\u001b[0m     \u001b]8;id=728187;file:///home/daniele/source/cycle-consistent-model-merging/src/ccmm/utils/utils.py\u001b\\\u001b[2mccmm.utils.utils\u001b[0m\u001b]8;;\u001b\\\u001b[2m:\u001b[0m\u001b]8;id=910967;file:///home/daniele/source/cycle-consistent-model-merging/src/ccmm/utils/utils.py#141\u001b\\\u001b[2m141\u001b[0m\u001b]8;;\u001b\\\n"
      ]
     },
     "metadata": {},
     "output_type": "display_data"
    },
    {
     "data": {
      "text/html": [
       "<pre style=\"white-space:pre;overflow-x:auto;line-height:normal;font-family:Menlo,'DejaVu Sans Mono',consolas,'Courier New',monospace\"><span style=\"color: #7fbfbf; text-decoration-color: #7fbfbf\">2024-02-01 16:56:54 </span><span style=\"color: #000080; text-decoration-color: #000080\">INFO    </span> Evaluating interpolated model with lambda: <span style=\"color: #008080; text-decoration-color: #008080; font-weight: bold\">0.7142857313156128</span>     <a href=\"file:///home/daniele/source/cycle-consistent-model-merging/src/ccmm/utils/utils.py\" target=\"_blank\"><span style=\"color: #7f7f7f; text-decoration-color: #7f7f7f\">ccmm.utils.utils</span></a><span style=\"color: #7f7f7f; text-decoration-color: #7f7f7f\">:</span><a href=\"file:///home/daniele/source/cycle-consistent-model-merging/src/ccmm/utils/utils.py#141\" target=\"_blank\"><span style=\"color: #7f7f7f; text-decoration-color: #7f7f7f\">141</span></a>\n",
       "</pre>\n"
      ],
      "text/plain": [
       "\u001b[2;36m2024-02-01 16:56:54\u001b[0m\u001b[2;36m \u001b[0m\u001b[34mINFO    \u001b[0m Evaluating interpolated model with lambda: \u001b[1;36m0.7142857313156128\u001b[0m     \u001b]8;id=995685;file:///home/daniele/source/cycle-consistent-model-merging/src/ccmm/utils/utils.py\u001b\\\u001b[2mccmm.utils.utils\u001b[0m\u001b]8;;\u001b\\\u001b[2m:\u001b[0m\u001b]8;id=87978;file:///home/daniele/source/cycle-consistent-model-merging/src/ccmm/utils/utils.py#141\u001b\\\u001b[2m141\u001b[0m\u001b]8;;\u001b\\\n"
      ]
     },
     "metadata": {},
     "output_type": "display_data"
    },
    {
     "data": {
      "text/html": [
       "<pre style=\"white-space:pre;overflow-x:auto;line-height:normal;font-family:Menlo,'DejaVu Sans Mono',consolas,'Courier New',monospace\"><span style=\"color: #7fbfbf; text-decoration-color: #7fbfbf\">2024-02-01 16:56:58 </span><span style=\"color: #000080; text-decoration-color: #000080\">INFO    </span> Evaluating interpolated model with lambda: <span style=\"color: #008080; text-decoration-color: #008080; font-weight: bold\">0.7857142686843872</span>     <a href=\"file:///home/daniele/source/cycle-consistent-model-merging/src/ccmm/utils/utils.py\" target=\"_blank\"><span style=\"color: #7f7f7f; text-decoration-color: #7f7f7f\">ccmm.utils.utils</span></a><span style=\"color: #7f7f7f; text-decoration-color: #7f7f7f\">:</span><a href=\"file:///home/daniele/source/cycle-consistent-model-merging/src/ccmm/utils/utils.py#141\" target=\"_blank\"><span style=\"color: #7f7f7f; text-decoration-color: #7f7f7f\">141</span></a>\n",
       "</pre>\n"
      ],
      "text/plain": [
       "\u001b[2;36m2024-02-01 16:56:58\u001b[0m\u001b[2;36m \u001b[0m\u001b[34mINFO    \u001b[0m Evaluating interpolated model with lambda: \u001b[1;36m0.7857142686843872\u001b[0m     \u001b]8;id=840234;file:///home/daniele/source/cycle-consistent-model-merging/src/ccmm/utils/utils.py\u001b\\\u001b[2mccmm.utils.utils\u001b[0m\u001b]8;;\u001b\\\u001b[2m:\u001b[0m\u001b]8;id=177705;file:///home/daniele/source/cycle-consistent-model-merging/src/ccmm/utils/utils.py#141\u001b\\\u001b[2m141\u001b[0m\u001b]8;;\u001b\\\n"
      ]
     },
     "metadata": {},
     "output_type": "display_data"
    },
    {
     "data": {
      "text/html": [
       "<pre style=\"white-space:pre;overflow-x:auto;line-height:normal;font-family:Menlo,'DejaVu Sans Mono',consolas,'Courier New',monospace\"><span style=\"color: #7fbfbf; text-decoration-color: #7fbfbf\">2024-02-01 16:57:01 </span><span style=\"color: #000080; text-decoration-color: #000080\">INFO    </span> Evaluating interpolated model with lambda: <span style=\"color: #008080; text-decoration-color: #008080; font-weight: bold\">0.8571428656578064</span>     <a href=\"file:///home/daniele/source/cycle-consistent-model-merging/src/ccmm/utils/utils.py\" target=\"_blank\"><span style=\"color: #7f7f7f; text-decoration-color: #7f7f7f\">ccmm.utils.utils</span></a><span style=\"color: #7f7f7f; text-decoration-color: #7f7f7f\">:</span><a href=\"file:///home/daniele/source/cycle-consistent-model-merging/src/ccmm/utils/utils.py#141\" target=\"_blank\"><span style=\"color: #7f7f7f; text-decoration-color: #7f7f7f\">141</span></a>\n",
       "</pre>\n"
      ],
      "text/plain": [
       "\u001b[2;36m2024-02-01 16:57:01\u001b[0m\u001b[2;36m \u001b[0m\u001b[34mINFO    \u001b[0m Evaluating interpolated model with lambda: \u001b[1;36m0.8571428656578064\u001b[0m     \u001b]8;id=529489;file:///home/daniele/source/cycle-consistent-model-merging/src/ccmm/utils/utils.py\u001b\\\u001b[2mccmm.utils.utils\u001b[0m\u001b]8;;\u001b\\\u001b[2m:\u001b[0m\u001b]8;id=723058;file:///home/daniele/source/cycle-consistent-model-merging/src/ccmm/utils/utils.py#141\u001b\\\u001b[2m141\u001b[0m\u001b]8;;\u001b\\\n"
      ]
     },
     "metadata": {},
     "output_type": "display_data"
    },
    {
     "data": {
      "text/html": [
       "<pre style=\"white-space:pre;overflow-x:auto;line-height:normal;font-family:Menlo,'DejaVu Sans Mono',consolas,'Courier New',monospace\"><span style=\"color: #7fbfbf; text-decoration-color: #7fbfbf\">2024-02-01 16:57:04 </span><span style=\"color: #000080; text-decoration-color: #000080\">INFO    </span> Evaluating interpolated model with lambda: <span style=\"color: #008080; text-decoration-color: #008080; font-weight: bold\">0.9285714030265808</span>     <a href=\"file:///home/daniele/source/cycle-consistent-model-merging/src/ccmm/utils/utils.py\" target=\"_blank\"><span style=\"color: #7f7f7f; text-decoration-color: #7f7f7f\">ccmm.utils.utils</span></a><span style=\"color: #7f7f7f; text-decoration-color: #7f7f7f\">:</span><a href=\"file:///home/daniele/source/cycle-consistent-model-merging/src/ccmm/utils/utils.py#141\" target=\"_blank\"><span style=\"color: #7f7f7f; text-decoration-color: #7f7f7f\">141</span></a>\n",
       "</pre>\n"
      ],
      "text/plain": [
       "\u001b[2;36m2024-02-01 16:57:04\u001b[0m\u001b[2;36m \u001b[0m\u001b[34mINFO    \u001b[0m Evaluating interpolated model with lambda: \u001b[1;36m0.9285714030265808\u001b[0m     \u001b]8;id=921059;file:///home/daniele/source/cycle-consistent-model-merging/src/ccmm/utils/utils.py\u001b\\\u001b[2mccmm.utils.utils\u001b[0m\u001b]8;;\u001b\\\u001b[2m:\u001b[0m\u001b]8;id=407997;file:///home/daniele/source/cycle-consistent-model-merging/src/ccmm/utils/utils.py#141\u001b\\\u001b[2m141\u001b[0m\u001b]8;;\u001b\\\n"
      ]
     },
     "metadata": {},
     "output_type": "display_data"
    },
    {
     "data": {
      "text/html": [
       "<pre style=\"white-space:pre;overflow-x:auto;line-height:normal;font-family:Menlo,'DejaVu Sans Mono',consolas,'Courier New',monospace\"><span style=\"color: #7fbfbf; text-decoration-color: #7fbfbf\">2024-02-01 16:57:07 </span><span style=\"color: #000080; text-decoration-color: #000080\">INFO    </span> Evaluating interpolated model with lambda: <span style=\"color: #008080; text-decoration-color: #008080; font-weight: bold\">1.0</span>                    <a href=\"file:///home/daniele/source/cycle-consistent-model-merging/src/ccmm/utils/utils.py\" target=\"_blank\"><span style=\"color: #7f7f7f; text-decoration-color: #7f7f7f\">ccmm.utils.utils</span></a><span style=\"color: #7f7f7f; text-decoration-color: #7f7f7f\">:</span><a href=\"file:///home/daniele/source/cycle-consistent-model-merging/src/ccmm/utils/utils.py#141\" target=\"_blank\"><span style=\"color: #7f7f7f; text-decoration-color: #7f7f7f\">141</span></a>\n",
       "</pre>\n"
      ],
      "text/plain": [
       "\u001b[2;36m2024-02-01 16:57:07\u001b[0m\u001b[2;36m \u001b[0m\u001b[34mINFO    \u001b[0m Evaluating interpolated model with lambda: \u001b[1;36m1.0\u001b[0m                    \u001b]8;id=477488;file:///home/daniele/source/cycle-consistent-model-merging/src/ccmm/utils/utils.py\u001b\\\u001b[2mccmm.utils.utils\u001b[0m\u001b]8;;\u001b\\\u001b[2m:\u001b[0m\u001b]8;id=261405;file:///home/daniele/source/cycle-consistent-model-merging/src/ccmm/utils/utils.py#141\u001b\\\u001b[2m141\u001b[0m\u001b]8;;\u001b\\\n"
      ]
     },
     "metadata": {},
     "output_type": "display_data"
    },
    {
     "name": "stdout",
     "output_type": "stream",
     "text": [
      "Cycle: ('a', 'c', 'd')\n",
      "Model distance: 41.22671127319336\n"
     ]
    },
    {
     "data": {
      "text/html": [
       "<pre style=\"white-space:pre;overflow-x:auto;line-height:normal;font-family:Menlo,'DejaVu Sans Mono',consolas,'Courier New',monospace\"><span style=\"color: #7fbfbf; text-decoration-color: #7fbfbf\">2024-02-01 16:57:11 </span><span style=\"color: #000080; text-decoration-color: #000080\">INFO    </span> Evaluating interpolated model with lambda: <span style=\"color: #008080; text-decoration-color: #008080; font-weight: bold\">0.0</span>                    <a href=\"file:///home/daniele/source/cycle-consistent-model-merging/src/ccmm/utils/utils.py\" target=\"_blank\"><span style=\"color: #7f7f7f; text-decoration-color: #7f7f7f\">ccmm.utils.utils</span></a><span style=\"color: #7f7f7f; text-decoration-color: #7f7f7f\">:</span><a href=\"file:///home/daniele/source/cycle-consistent-model-merging/src/ccmm/utils/utils.py#141\" target=\"_blank\"><span style=\"color: #7f7f7f; text-decoration-color: #7f7f7f\">141</span></a>\n",
       "</pre>\n"
      ],
      "text/plain": [
       "\u001b[2;36m2024-02-01 16:57:11\u001b[0m\u001b[2;36m \u001b[0m\u001b[34mINFO    \u001b[0m Evaluating interpolated model with lambda: \u001b[1;36m0.0\u001b[0m                    \u001b]8;id=252920;file:///home/daniele/source/cycle-consistent-model-merging/src/ccmm/utils/utils.py\u001b\\\u001b[2mccmm.utils.utils\u001b[0m\u001b]8;;\u001b\\\u001b[2m:\u001b[0m\u001b]8;id=927249;file:///home/daniele/source/cycle-consistent-model-merging/src/ccmm/utils/utils.py#141\u001b\\\u001b[2m141\u001b[0m\u001b]8;;\u001b\\\n"
      ]
     },
     "metadata": {},
     "output_type": "display_data"
    },
    {
     "data": {
      "text/html": [
       "<pre style=\"white-space:pre;overflow-x:auto;line-height:normal;font-family:Menlo,'DejaVu Sans Mono',consolas,'Courier New',monospace\"><span style=\"color: #7fbfbf; text-decoration-color: #7fbfbf\">2024-02-01 16:57:14 </span><span style=\"color: #000080; text-decoration-color: #000080\">INFO    </span> Evaluating interpolated model with lambda: <span style=\"color: #008080; text-decoration-color: #008080; font-weight: bold\">0.0714285746216774</span>     <a href=\"file:///home/daniele/source/cycle-consistent-model-merging/src/ccmm/utils/utils.py\" target=\"_blank\"><span style=\"color: #7f7f7f; text-decoration-color: #7f7f7f\">ccmm.utils.utils</span></a><span style=\"color: #7f7f7f; text-decoration-color: #7f7f7f\">:</span><a href=\"file:///home/daniele/source/cycle-consistent-model-merging/src/ccmm/utils/utils.py#141\" target=\"_blank\"><span style=\"color: #7f7f7f; text-decoration-color: #7f7f7f\">141</span></a>\n",
       "</pre>\n"
      ],
      "text/plain": [
       "\u001b[2;36m2024-02-01 16:57:14\u001b[0m\u001b[2;36m \u001b[0m\u001b[34mINFO    \u001b[0m Evaluating interpolated model with lambda: \u001b[1;36m0.0714285746216774\u001b[0m     \u001b]8;id=12113;file:///home/daniele/source/cycle-consistent-model-merging/src/ccmm/utils/utils.py\u001b\\\u001b[2mccmm.utils.utils\u001b[0m\u001b]8;;\u001b\\\u001b[2m:\u001b[0m\u001b]8;id=406669;file:///home/daniele/source/cycle-consistent-model-merging/src/ccmm/utils/utils.py#141\u001b\\\u001b[2m141\u001b[0m\u001b]8;;\u001b\\\n"
      ]
     },
     "metadata": {},
     "output_type": "display_data"
    },
    {
     "data": {
      "text/html": [
       "<pre style=\"white-space:pre;overflow-x:auto;line-height:normal;font-family:Menlo,'DejaVu Sans Mono',consolas,'Courier New',monospace\"><span style=\"color: #7fbfbf; text-decoration-color: #7fbfbf\">2024-02-01 16:57:17 </span><span style=\"color: #000080; text-decoration-color: #000080\">INFO    </span> Evaluating interpolated model with lambda: <span style=\"color: #008080; text-decoration-color: #008080; font-weight: bold\">0.1428571492433548</span>     <a href=\"file:///home/daniele/source/cycle-consistent-model-merging/src/ccmm/utils/utils.py\" target=\"_blank\"><span style=\"color: #7f7f7f; text-decoration-color: #7f7f7f\">ccmm.utils.utils</span></a><span style=\"color: #7f7f7f; text-decoration-color: #7f7f7f\">:</span><a href=\"file:///home/daniele/source/cycle-consistent-model-merging/src/ccmm/utils/utils.py#141\" target=\"_blank\"><span style=\"color: #7f7f7f; text-decoration-color: #7f7f7f\">141</span></a>\n",
       "</pre>\n"
      ],
      "text/plain": [
       "\u001b[2;36m2024-02-01 16:57:17\u001b[0m\u001b[2;36m \u001b[0m\u001b[34mINFO    \u001b[0m Evaluating interpolated model with lambda: \u001b[1;36m0.1428571492433548\u001b[0m     \u001b]8;id=847746;file:///home/daniele/source/cycle-consistent-model-merging/src/ccmm/utils/utils.py\u001b\\\u001b[2mccmm.utils.utils\u001b[0m\u001b]8;;\u001b\\\u001b[2m:\u001b[0m\u001b]8;id=829915;file:///home/daniele/source/cycle-consistent-model-merging/src/ccmm/utils/utils.py#141\u001b\\\u001b[2m141\u001b[0m\u001b]8;;\u001b\\\n"
      ]
     },
     "metadata": {},
     "output_type": "display_data"
    },
    {
     "data": {
      "text/html": [
       "<pre style=\"white-space:pre;overflow-x:auto;line-height:normal;font-family:Menlo,'DejaVu Sans Mono',consolas,'Courier New',monospace\"><span style=\"color: #7fbfbf; text-decoration-color: #7fbfbf\">2024-02-01 16:57:20 </span><span style=\"color: #000080; text-decoration-color: #000080\">INFO    </span> Evaluating interpolated model with lambda: <span style=\"color: #008080; text-decoration-color: #008080; font-weight: bold\">0.2142857313156128</span>     <a href=\"file:///home/daniele/source/cycle-consistent-model-merging/src/ccmm/utils/utils.py\" target=\"_blank\"><span style=\"color: #7f7f7f; text-decoration-color: #7f7f7f\">ccmm.utils.utils</span></a><span style=\"color: #7f7f7f; text-decoration-color: #7f7f7f\">:</span><a href=\"file:///home/daniele/source/cycle-consistent-model-merging/src/ccmm/utils/utils.py#141\" target=\"_blank\"><span style=\"color: #7f7f7f; text-decoration-color: #7f7f7f\">141</span></a>\n",
       "</pre>\n"
      ],
      "text/plain": [
       "\u001b[2;36m2024-02-01 16:57:20\u001b[0m\u001b[2;36m \u001b[0m\u001b[34mINFO    \u001b[0m Evaluating interpolated model with lambda: \u001b[1;36m0.2142857313156128\u001b[0m     \u001b]8;id=990293;file:///home/daniele/source/cycle-consistent-model-merging/src/ccmm/utils/utils.py\u001b\\\u001b[2mccmm.utils.utils\u001b[0m\u001b]8;;\u001b\\\u001b[2m:\u001b[0m\u001b]8;id=83912;file:///home/daniele/source/cycle-consistent-model-merging/src/ccmm/utils/utils.py#141\u001b\\\u001b[2m141\u001b[0m\u001b]8;;\u001b\\\n"
      ]
     },
     "metadata": {},
     "output_type": "display_data"
    },
    {
     "data": {
      "text/html": [
       "<pre style=\"white-space:pre;overflow-x:auto;line-height:normal;font-family:Menlo,'DejaVu Sans Mono',consolas,'Courier New',monospace\"><span style=\"color: #7fbfbf; text-decoration-color: #7fbfbf\">2024-02-01 16:57:24 </span><span style=\"color: #000080; text-decoration-color: #000080\">INFO    </span> Evaluating interpolated model with lambda: <span style=\"color: #008080; text-decoration-color: #008080; font-weight: bold\">0.2857142984867096</span>     <a href=\"file:///home/daniele/source/cycle-consistent-model-merging/src/ccmm/utils/utils.py\" target=\"_blank\"><span style=\"color: #7f7f7f; text-decoration-color: #7f7f7f\">ccmm.utils.utils</span></a><span style=\"color: #7f7f7f; text-decoration-color: #7f7f7f\">:</span><a href=\"file:///home/daniele/source/cycle-consistent-model-merging/src/ccmm/utils/utils.py#141\" target=\"_blank\"><span style=\"color: #7f7f7f; text-decoration-color: #7f7f7f\">141</span></a>\n",
       "</pre>\n"
      ],
      "text/plain": [
       "\u001b[2;36m2024-02-01 16:57:24\u001b[0m\u001b[2;36m \u001b[0m\u001b[34mINFO    \u001b[0m Evaluating interpolated model with lambda: \u001b[1;36m0.2857142984867096\u001b[0m     \u001b]8;id=465359;file:///home/daniele/source/cycle-consistent-model-merging/src/ccmm/utils/utils.py\u001b\\\u001b[2mccmm.utils.utils\u001b[0m\u001b]8;;\u001b\\\u001b[2m:\u001b[0m\u001b]8;id=700565;file:///home/daniele/source/cycle-consistent-model-merging/src/ccmm/utils/utils.py#141\u001b\\\u001b[2m141\u001b[0m\u001b]8;;\u001b\\\n"
      ]
     },
     "metadata": {},
     "output_type": "display_data"
    },
    {
     "data": {
      "text/html": [
       "<pre style=\"white-space:pre;overflow-x:auto;line-height:normal;font-family:Menlo,'DejaVu Sans Mono',consolas,'Courier New',monospace\"><span style=\"color: #7fbfbf; text-decoration-color: #7fbfbf\">2024-02-01 16:57:27 </span><span style=\"color: #000080; text-decoration-color: #000080\">INFO    </span> Evaluating interpolated model with lambda: <span style=\"color: #008080; text-decoration-color: #008080; font-weight: bold\">0.3571428656578064</span>     <a href=\"file:///home/daniele/source/cycle-consistent-model-merging/src/ccmm/utils/utils.py\" target=\"_blank\"><span style=\"color: #7f7f7f; text-decoration-color: #7f7f7f\">ccmm.utils.utils</span></a><span style=\"color: #7f7f7f; text-decoration-color: #7f7f7f\">:</span><a href=\"file:///home/daniele/source/cycle-consistent-model-merging/src/ccmm/utils/utils.py#141\" target=\"_blank\"><span style=\"color: #7f7f7f; text-decoration-color: #7f7f7f\">141</span></a>\n",
       "</pre>\n"
      ],
      "text/plain": [
       "\u001b[2;36m2024-02-01 16:57:27\u001b[0m\u001b[2;36m \u001b[0m\u001b[34mINFO    \u001b[0m Evaluating interpolated model with lambda: \u001b[1;36m0.3571428656578064\u001b[0m     \u001b]8;id=24129;file:///home/daniele/source/cycle-consistent-model-merging/src/ccmm/utils/utils.py\u001b\\\u001b[2mccmm.utils.utils\u001b[0m\u001b]8;;\u001b\\\u001b[2m:\u001b[0m\u001b]8;id=268556;file:///home/daniele/source/cycle-consistent-model-merging/src/ccmm/utils/utils.py#141\u001b\\\u001b[2m141\u001b[0m\u001b]8;;\u001b\\\n"
      ]
     },
     "metadata": {},
     "output_type": "display_data"
    },
    {
     "data": {
      "text/html": [
       "<pre style=\"white-space:pre;overflow-x:auto;line-height:normal;font-family:Menlo,'DejaVu Sans Mono',consolas,'Courier New',monospace\"><span style=\"color: #7fbfbf; text-decoration-color: #7fbfbf\">2024-02-01 16:57:30 </span><span style=\"color: #000080; text-decoration-color: #000080\">INFO    </span> Evaluating interpolated model with lambda: <span style=\"color: #008080; text-decoration-color: #008080; font-weight: bold\">0.4285714626312256</span>     <a href=\"file:///home/daniele/source/cycle-consistent-model-merging/src/ccmm/utils/utils.py\" target=\"_blank\"><span style=\"color: #7f7f7f; text-decoration-color: #7f7f7f\">ccmm.utils.utils</span></a><span style=\"color: #7f7f7f; text-decoration-color: #7f7f7f\">:</span><a href=\"file:///home/daniele/source/cycle-consistent-model-merging/src/ccmm/utils/utils.py#141\" target=\"_blank\"><span style=\"color: #7f7f7f; text-decoration-color: #7f7f7f\">141</span></a>\n",
       "</pre>\n"
      ],
      "text/plain": [
       "\u001b[2;36m2024-02-01 16:57:30\u001b[0m\u001b[2;36m \u001b[0m\u001b[34mINFO    \u001b[0m Evaluating interpolated model with lambda: \u001b[1;36m0.4285714626312256\u001b[0m     \u001b]8;id=601805;file:///home/daniele/source/cycle-consistent-model-merging/src/ccmm/utils/utils.py\u001b\\\u001b[2mccmm.utils.utils\u001b[0m\u001b]8;;\u001b\\\u001b[2m:\u001b[0m\u001b]8;id=137540;file:///home/daniele/source/cycle-consistent-model-merging/src/ccmm/utils/utils.py#141\u001b\\\u001b[2m141\u001b[0m\u001b]8;;\u001b\\\n"
      ]
     },
     "metadata": {},
     "output_type": "display_data"
    },
    {
     "data": {
      "text/html": [
       "<pre style=\"white-space:pre;overflow-x:auto;line-height:normal;font-family:Menlo,'DejaVu Sans Mono',consolas,'Courier New',monospace\"><span style=\"color: #7fbfbf; text-decoration-color: #7fbfbf\">2024-02-01 16:57:33 </span><span style=\"color: #000080; text-decoration-color: #000080\">INFO    </span> Evaluating interpolated model with lambda: <span style=\"color: #008080; text-decoration-color: #008080; font-weight: bold\">0.4999999701976776</span>     <a href=\"file:///home/daniele/source/cycle-consistent-model-merging/src/ccmm/utils/utils.py\" target=\"_blank\"><span style=\"color: #7f7f7f; text-decoration-color: #7f7f7f\">ccmm.utils.utils</span></a><span style=\"color: #7f7f7f; text-decoration-color: #7f7f7f\">:</span><a href=\"file:///home/daniele/source/cycle-consistent-model-merging/src/ccmm/utils/utils.py#141\" target=\"_blank\"><span style=\"color: #7f7f7f; text-decoration-color: #7f7f7f\">141</span></a>\n",
       "</pre>\n"
      ],
      "text/plain": [
       "\u001b[2;36m2024-02-01 16:57:33\u001b[0m\u001b[2;36m \u001b[0m\u001b[34mINFO    \u001b[0m Evaluating interpolated model with lambda: \u001b[1;36m0.4999999701976776\u001b[0m     \u001b]8;id=360641;file:///home/daniele/source/cycle-consistent-model-merging/src/ccmm/utils/utils.py\u001b\\\u001b[2mccmm.utils.utils\u001b[0m\u001b]8;;\u001b\\\u001b[2m:\u001b[0m\u001b]8;id=526551;file:///home/daniele/source/cycle-consistent-model-merging/src/ccmm/utils/utils.py#141\u001b\\\u001b[2m141\u001b[0m\u001b]8;;\u001b\\\n"
      ]
     },
     "metadata": {},
     "output_type": "display_data"
    },
    {
     "data": {
      "text/html": [
       "<pre style=\"white-space:pre;overflow-x:auto;line-height:normal;font-family:Menlo,'DejaVu Sans Mono',consolas,'Courier New',monospace\"><span style=\"color: #7fbfbf; text-decoration-color: #7fbfbf\">2024-02-01 16:57:37 </span><span style=\"color: #000080; text-decoration-color: #000080\">INFO    </span> Evaluating interpolated model with lambda: <span style=\"color: #008080; text-decoration-color: #008080; font-weight: bold\">0.5714285373687744</span>     <a href=\"file:///home/daniele/source/cycle-consistent-model-merging/src/ccmm/utils/utils.py\" target=\"_blank\"><span style=\"color: #7f7f7f; text-decoration-color: #7f7f7f\">ccmm.utils.utils</span></a><span style=\"color: #7f7f7f; text-decoration-color: #7f7f7f\">:</span><a href=\"file:///home/daniele/source/cycle-consistent-model-merging/src/ccmm/utils/utils.py#141\" target=\"_blank\"><span style=\"color: #7f7f7f; text-decoration-color: #7f7f7f\">141</span></a>\n",
       "</pre>\n"
      ],
      "text/plain": [
       "\u001b[2;36m2024-02-01 16:57:37\u001b[0m\u001b[2;36m \u001b[0m\u001b[34mINFO    \u001b[0m Evaluating interpolated model with lambda: \u001b[1;36m0.5714285373687744\u001b[0m     \u001b]8;id=779772;file:///home/daniele/source/cycle-consistent-model-merging/src/ccmm/utils/utils.py\u001b\\\u001b[2mccmm.utils.utils\u001b[0m\u001b]8;;\u001b\\\u001b[2m:\u001b[0m\u001b]8;id=258046;file:///home/daniele/source/cycle-consistent-model-merging/src/ccmm/utils/utils.py#141\u001b\\\u001b[2m141\u001b[0m\u001b]8;;\u001b\\\n"
      ]
     },
     "metadata": {},
     "output_type": "display_data"
    },
    {
     "data": {
      "text/html": [
       "<pre style=\"white-space:pre;overflow-x:auto;line-height:normal;font-family:Menlo,'DejaVu Sans Mono',consolas,'Courier New',monospace\"><span style=\"color: #7fbfbf; text-decoration-color: #7fbfbf\">2024-02-01 16:57:40 </span><span style=\"color: #000080; text-decoration-color: #000080\">INFO    </span> Evaluating interpolated model with lambda: <span style=\"color: #008080; text-decoration-color: #008080; font-weight: bold\">0.6428571343421936</span>     <a href=\"file:///home/daniele/source/cycle-consistent-model-merging/src/ccmm/utils/utils.py\" target=\"_blank\"><span style=\"color: #7f7f7f; text-decoration-color: #7f7f7f\">ccmm.utils.utils</span></a><span style=\"color: #7f7f7f; text-decoration-color: #7f7f7f\">:</span><a href=\"file:///home/daniele/source/cycle-consistent-model-merging/src/ccmm/utils/utils.py#141\" target=\"_blank\"><span style=\"color: #7f7f7f; text-decoration-color: #7f7f7f\">141</span></a>\n",
       "</pre>\n"
      ],
      "text/plain": [
       "\u001b[2;36m2024-02-01 16:57:40\u001b[0m\u001b[2;36m \u001b[0m\u001b[34mINFO    \u001b[0m Evaluating interpolated model with lambda: \u001b[1;36m0.6428571343421936\u001b[0m     \u001b]8;id=395694;file:///home/daniele/source/cycle-consistent-model-merging/src/ccmm/utils/utils.py\u001b\\\u001b[2mccmm.utils.utils\u001b[0m\u001b]8;;\u001b\\\u001b[2m:\u001b[0m\u001b]8;id=804724;file:///home/daniele/source/cycle-consistent-model-merging/src/ccmm/utils/utils.py#141\u001b\\\u001b[2m141\u001b[0m\u001b]8;;\u001b\\\n"
      ]
     },
     "metadata": {},
     "output_type": "display_data"
    },
    {
     "data": {
      "text/html": [
       "<pre style=\"white-space:pre;overflow-x:auto;line-height:normal;font-family:Menlo,'DejaVu Sans Mono',consolas,'Courier New',monospace\"><span style=\"color: #7fbfbf; text-decoration-color: #7fbfbf\">2024-02-01 16:57:43 </span><span style=\"color: #000080; text-decoration-color: #000080\">INFO    </span> Evaluating interpolated model with lambda: <span style=\"color: #008080; text-decoration-color: #008080; font-weight: bold\">0.7142857313156128</span>     <a href=\"file:///home/daniele/source/cycle-consistent-model-merging/src/ccmm/utils/utils.py\" target=\"_blank\"><span style=\"color: #7f7f7f; text-decoration-color: #7f7f7f\">ccmm.utils.utils</span></a><span style=\"color: #7f7f7f; text-decoration-color: #7f7f7f\">:</span><a href=\"file:///home/daniele/source/cycle-consistent-model-merging/src/ccmm/utils/utils.py#141\" target=\"_blank\"><span style=\"color: #7f7f7f; text-decoration-color: #7f7f7f\">141</span></a>\n",
       "</pre>\n"
      ],
      "text/plain": [
       "\u001b[2;36m2024-02-01 16:57:43\u001b[0m\u001b[2;36m \u001b[0m\u001b[34mINFO    \u001b[0m Evaluating interpolated model with lambda: \u001b[1;36m0.7142857313156128\u001b[0m     \u001b]8;id=301845;file:///home/daniele/source/cycle-consistent-model-merging/src/ccmm/utils/utils.py\u001b\\\u001b[2mccmm.utils.utils\u001b[0m\u001b]8;;\u001b\\\u001b[2m:\u001b[0m\u001b]8;id=304138;file:///home/daniele/source/cycle-consistent-model-merging/src/ccmm/utils/utils.py#141\u001b\\\u001b[2m141\u001b[0m\u001b]8;;\u001b\\\n"
      ]
     },
     "metadata": {},
     "output_type": "display_data"
    },
    {
     "data": {
      "text/html": [
       "<pre style=\"white-space:pre;overflow-x:auto;line-height:normal;font-family:Menlo,'DejaVu Sans Mono',consolas,'Courier New',monospace\"><span style=\"color: #7fbfbf; text-decoration-color: #7fbfbf\">2024-02-01 16:57:46 </span><span style=\"color: #000080; text-decoration-color: #000080\">INFO    </span> Evaluating interpolated model with lambda: <span style=\"color: #008080; text-decoration-color: #008080; font-weight: bold\">0.7857142686843872</span>     <a href=\"file:///home/daniele/source/cycle-consistent-model-merging/src/ccmm/utils/utils.py\" target=\"_blank\"><span style=\"color: #7f7f7f; text-decoration-color: #7f7f7f\">ccmm.utils.utils</span></a><span style=\"color: #7f7f7f; text-decoration-color: #7f7f7f\">:</span><a href=\"file:///home/daniele/source/cycle-consistent-model-merging/src/ccmm/utils/utils.py#141\" target=\"_blank\"><span style=\"color: #7f7f7f; text-decoration-color: #7f7f7f\">141</span></a>\n",
       "</pre>\n"
      ],
      "text/plain": [
       "\u001b[2;36m2024-02-01 16:57:46\u001b[0m\u001b[2;36m \u001b[0m\u001b[34mINFO    \u001b[0m Evaluating interpolated model with lambda: \u001b[1;36m0.7857142686843872\u001b[0m     \u001b]8;id=812472;file:///home/daniele/source/cycle-consistent-model-merging/src/ccmm/utils/utils.py\u001b\\\u001b[2mccmm.utils.utils\u001b[0m\u001b]8;;\u001b\\\u001b[2m:\u001b[0m\u001b]8;id=728869;file:///home/daniele/source/cycle-consistent-model-merging/src/ccmm/utils/utils.py#141\u001b\\\u001b[2m141\u001b[0m\u001b]8;;\u001b\\\n"
      ]
     },
     "metadata": {},
     "output_type": "display_data"
    },
    {
     "data": {
      "text/html": [
       "<pre style=\"white-space:pre;overflow-x:auto;line-height:normal;font-family:Menlo,'DejaVu Sans Mono',consolas,'Courier New',monospace\"><span style=\"color: #7fbfbf; text-decoration-color: #7fbfbf\">2024-02-01 16:57:50 </span><span style=\"color: #000080; text-decoration-color: #000080\">INFO    </span> Evaluating interpolated model with lambda: <span style=\"color: #008080; text-decoration-color: #008080; font-weight: bold\">0.8571428656578064</span>     <a href=\"file:///home/daniele/source/cycle-consistent-model-merging/src/ccmm/utils/utils.py\" target=\"_blank\"><span style=\"color: #7f7f7f; text-decoration-color: #7f7f7f\">ccmm.utils.utils</span></a><span style=\"color: #7f7f7f; text-decoration-color: #7f7f7f\">:</span><a href=\"file:///home/daniele/source/cycle-consistent-model-merging/src/ccmm/utils/utils.py#141\" target=\"_blank\"><span style=\"color: #7f7f7f; text-decoration-color: #7f7f7f\">141</span></a>\n",
       "</pre>\n"
      ],
      "text/plain": [
       "\u001b[2;36m2024-02-01 16:57:50\u001b[0m\u001b[2;36m \u001b[0m\u001b[34mINFO    \u001b[0m Evaluating interpolated model with lambda: \u001b[1;36m0.8571428656578064\u001b[0m     \u001b]8;id=723685;file:///home/daniele/source/cycle-consistent-model-merging/src/ccmm/utils/utils.py\u001b\\\u001b[2mccmm.utils.utils\u001b[0m\u001b]8;;\u001b\\\u001b[2m:\u001b[0m\u001b]8;id=519682;file:///home/daniele/source/cycle-consistent-model-merging/src/ccmm/utils/utils.py#141\u001b\\\u001b[2m141\u001b[0m\u001b]8;;\u001b\\\n"
      ]
     },
     "metadata": {},
     "output_type": "display_data"
    },
    {
     "data": {
      "text/html": [
       "<pre style=\"white-space:pre;overflow-x:auto;line-height:normal;font-family:Menlo,'DejaVu Sans Mono',consolas,'Courier New',monospace\"><span style=\"color: #7fbfbf; text-decoration-color: #7fbfbf\">2024-02-01 16:57:53 </span><span style=\"color: #000080; text-decoration-color: #000080\">INFO    </span> Evaluating interpolated model with lambda: <span style=\"color: #008080; text-decoration-color: #008080; font-weight: bold\">0.9285714030265808</span>     <a href=\"file:///home/daniele/source/cycle-consistent-model-merging/src/ccmm/utils/utils.py\" target=\"_blank\"><span style=\"color: #7f7f7f; text-decoration-color: #7f7f7f\">ccmm.utils.utils</span></a><span style=\"color: #7f7f7f; text-decoration-color: #7f7f7f\">:</span><a href=\"file:///home/daniele/source/cycle-consistent-model-merging/src/ccmm/utils/utils.py#141\" target=\"_blank\"><span style=\"color: #7f7f7f; text-decoration-color: #7f7f7f\">141</span></a>\n",
       "</pre>\n"
      ],
      "text/plain": [
       "\u001b[2;36m2024-02-01 16:57:53\u001b[0m\u001b[2;36m \u001b[0m\u001b[34mINFO    \u001b[0m Evaluating interpolated model with lambda: \u001b[1;36m0.9285714030265808\u001b[0m     \u001b]8;id=743634;file:///home/daniele/source/cycle-consistent-model-merging/src/ccmm/utils/utils.py\u001b\\\u001b[2mccmm.utils.utils\u001b[0m\u001b]8;;\u001b\\\u001b[2m:\u001b[0m\u001b]8;id=404310;file:///home/daniele/source/cycle-consistent-model-merging/src/ccmm/utils/utils.py#141\u001b\\\u001b[2m141\u001b[0m\u001b]8;;\u001b\\\n"
      ]
     },
     "metadata": {},
     "output_type": "display_data"
    },
    {
     "data": {
      "text/html": [
       "<pre style=\"white-space:pre;overflow-x:auto;line-height:normal;font-family:Menlo,'DejaVu Sans Mono',consolas,'Courier New',monospace\"><span style=\"color: #7fbfbf; text-decoration-color: #7fbfbf\">2024-02-01 16:57:56 </span><span style=\"color: #000080; text-decoration-color: #000080\">INFO    </span> Evaluating interpolated model with lambda: <span style=\"color: #008080; text-decoration-color: #008080; font-weight: bold\">1.0</span>                    <a href=\"file:///home/daniele/source/cycle-consistent-model-merging/src/ccmm/utils/utils.py\" target=\"_blank\"><span style=\"color: #7f7f7f; text-decoration-color: #7f7f7f\">ccmm.utils.utils</span></a><span style=\"color: #7f7f7f; text-decoration-color: #7f7f7f\">:</span><a href=\"file:///home/daniele/source/cycle-consistent-model-merging/src/ccmm/utils/utils.py#141\" target=\"_blank\"><span style=\"color: #7f7f7f; text-decoration-color: #7f7f7f\">141</span></a>\n",
       "</pre>\n"
      ],
      "text/plain": [
       "\u001b[2;36m2024-02-01 16:57:56\u001b[0m\u001b[2;36m \u001b[0m\u001b[34mINFO    \u001b[0m Evaluating interpolated model with lambda: \u001b[1;36m1.0\u001b[0m                    \u001b]8;id=244223;file:///home/daniele/source/cycle-consistent-model-merging/src/ccmm/utils/utils.py\u001b\\\u001b[2mccmm.utils.utils\u001b[0m\u001b]8;;\u001b\\\u001b[2m:\u001b[0m\u001b]8;id=328289;file:///home/daniele/source/cycle-consistent-model-merging/src/ccmm/utils/utils.py#141\u001b\\\u001b[2m141\u001b[0m\u001b]8;;\u001b\\\n"
      ]
     },
     "metadata": {},
     "output_type": "display_data"
    },
    {
     "name": "stdout",
     "output_type": "stream",
     "text": [
      "Cycle: ('a', 'e', 'd')\n",
      "Model distance: 41.2719612121582\n"
     ]
    },
    {
     "data": {
      "text/html": [
       "<pre style=\"white-space:pre;overflow-x:auto;line-height:normal;font-family:Menlo,'DejaVu Sans Mono',consolas,'Courier New',monospace\"><span style=\"color: #7fbfbf; text-decoration-color: #7fbfbf\">2024-02-01 16:57:59 </span><span style=\"color: #000080; text-decoration-color: #000080\">INFO    </span> Evaluating interpolated model with lambda: <span style=\"color: #008080; text-decoration-color: #008080; font-weight: bold\">0.0</span>                    <a href=\"file:///home/daniele/source/cycle-consistent-model-merging/src/ccmm/utils/utils.py\" target=\"_blank\"><span style=\"color: #7f7f7f; text-decoration-color: #7f7f7f\">ccmm.utils.utils</span></a><span style=\"color: #7f7f7f; text-decoration-color: #7f7f7f\">:</span><a href=\"file:///home/daniele/source/cycle-consistent-model-merging/src/ccmm/utils/utils.py#141\" target=\"_blank\"><span style=\"color: #7f7f7f; text-decoration-color: #7f7f7f\">141</span></a>\n",
       "</pre>\n"
      ],
      "text/plain": [
       "\u001b[2;36m2024-02-01 16:57:59\u001b[0m\u001b[2;36m \u001b[0m\u001b[34mINFO    \u001b[0m Evaluating interpolated model with lambda: \u001b[1;36m0.0\u001b[0m                    \u001b]8;id=590226;file:///home/daniele/source/cycle-consistent-model-merging/src/ccmm/utils/utils.py\u001b\\\u001b[2mccmm.utils.utils\u001b[0m\u001b]8;;\u001b\\\u001b[2m:\u001b[0m\u001b]8;id=907784;file:///home/daniele/source/cycle-consistent-model-merging/src/ccmm/utils/utils.py#141\u001b\\\u001b[2m141\u001b[0m\u001b]8;;\u001b\\\n"
      ]
     },
     "metadata": {},
     "output_type": "display_data"
    },
    {
     "data": {
      "text/html": [
       "<pre style=\"white-space:pre;overflow-x:auto;line-height:normal;font-family:Menlo,'DejaVu Sans Mono',consolas,'Courier New',monospace\"><span style=\"color: #7fbfbf; text-decoration-color: #7fbfbf\">2024-02-01 16:58:03 </span><span style=\"color: #000080; text-decoration-color: #000080\">INFO    </span> Evaluating interpolated model with lambda: <span style=\"color: #008080; text-decoration-color: #008080; font-weight: bold\">0.0714285746216774</span>     <a href=\"file:///home/daniele/source/cycle-consistent-model-merging/src/ccmm/utils/utils.py\" target=\"_blank\"><span style=\"color: #7f7f7f; text-decoration-color: #7f7f7f\">ccmm.utils.utils</span></a><span style=\"color: #7f7f7f; text-decoration-color: #7f7f7f\">:</span><a href=\"file:///home/daniele/source/cycle-consistent-model-merging/src/ccmm/utils/utils.py#141\" target=\"_blank\"><span style=\"color: #7f7f7f; text-decoration-color: #7f7f7f\">141</span></a>\n",
       "</pre>\n"
      ],
      "text/plain": [
       "\u001b[2;36m2024-02-01 16:58:03\u001b[0m\u001b[2;36m \u001b[0m\u001b[34mINFO    \u001b[0m Evaluating interpolated model with lambda: \u001b[1;36m0.0714285746216774\u001b[0m     \u001b]8;id=601449;file:///home/daniele/source/cycle-consistent-model-merging/src/ccmm/utils/utils.py\u001b\\\u001b[2mccmm.utils.utils\u001b[0m\u001b]8;;\u001b\\\u001b[2m:\u001b[0m\u001b]8;id=314248;file:///home/daniele/source/cycle-consistent-model-merging/src/ccmm/utils/utils.py#141\u001b\\\u001b[2m141\u001b[0m\u001b]8;;\u001b\\\n"
      ]
     },
     "metadata": {},
     "output_type": "display_data"
    },
    {
     "data": {
      "text/html": [
       "<pre style=\"white-space:pre;overflow-x:auto;line-height:normal;font-family:Menlo,'DejaVu Sans Mono',consolas,'Courier New',monospace\"><span style=\"color: #7fbfbf; text-decoration-color: #7fbfbf\">2024-02-01 16:58:06 </span><span style=\"color: #000080; text-decoration-color: #000080\">INFO    </span> Evaluating interpolated model with lambda: <span style=\"color: #008080; text-decoration-color: #008080; font-weight: bold\">0.1428571492433548</span>     <a href=\"file:///home/daniele/source/cycle-consistent-model-merging/src/ccmm/utils/utils.py\" target=\"_blank\"><span style=\"color: #7f7f7f; text-decoration-color: #7f7f7f\">ccmm.utils.utils</span></a><span style=\"color: #7f7f7f; text-decoration-color: #7f7f7f\">:</span><a href=\"file:///home/daniele/source/cycle-consistent-model-merging/src/ccmm/utils/utils.py#141\" target=\"_blank\"><span style=\"color: #7f7f7f; text-decoration-color: #7f7f7f\">141</span></a>\n",
       "</pre>\n"
      ],
      "text/plain": [
       "\u001b[2;36m2024-02-01 16:58:06\u001b[0m\u001b[2;36m \u001b[0m\u001b[34mINFO    \u001b[0m Evaluating interpolated model with lambda: \u001b[1;36m0.1428571492433548\u001b[0m     \u001b]8;id=940605;file:///home/daniele/source/cycle-consistent-model-merging/src/ccmm/utils/utils.py\u001b\\\u001b[2mccmm.utils.utils\u001b[0m\u001b]8;;\u001b\\\u001b[2m:\u001b[0m\u001b]8;id=177481;file:///home/daniele/source/cycle-consistent-model-merging/src/ccmm/utils/utils.py#141\u001b\\\u001b[2m141\u001b[0m\u001b]8;;\u001b\\\n"
      ]
     },
     "metadata": {},
     "output_type": "display_data"
    },
    {
     "data": {
      "text/html": [
       "<pre style=\"white-space:pre;overflow-x:auto;line-height:normal;font-family:Menlo,'DejaVu Sans Mono',consolas,'Courier New',monospace\"><span style=\"color: #7fbfbf; text-decoration-color: #7fbfbf\">2024-02-01 16:58:09 </span><span style=\"color: #000080; text-decoration-color: #000080\">INFO    </span> Evaluating interpolated model with lambda: <span style=\"color: #008080; text-decoration-color: #008080; font-weight: bold\">0.2142857313156128</span>     <a href=\"file:///home/daniele/source/cycle-consistent-model-merging/src/ccmm/utils/utils.py\" target=\"_blank\"><span style=\"color: #7f7f7f; text-decoration-color: #7f7f7f\">ccmm.utils.utils</span></a><span style=\"color: #7f7f7f; text-decoration-color: #7f7f7f\">:</span><a href=\"file:///home/daniele/source/cycle-consistent-model-merging/src/ccmm/utils/utils.py#141\" target=\"_blank\"><span style=\"color: #7f7f7f; text-decoration-color: #7f7f7f\">141</span></a>\n",
       "</pre>\n"
      ],
      "text/plain": [
       "\u001b[2;36m2024-02-01 16:58:09\u001b[0m\u001b[2;36m \u001b[0m\u001b[34mINFO    \u001b[0m Evaluating interpolated model with lambda: \u001b[1;36m0.2142857313156128\u001b[0m     \u001b]8;id=106563;file:///home/daniele/source/cycle-consistent-model-merging/src/ccmm/utils/utils.py\u001b\\\u001b[2mccmm.utils.utils\u001b[0m\u001b]8;;\u001b\\\u001b[2m:\u001b[0m\u001b]8;id=246329;file:///home/daniele/source/cycle-consistent-model-merging/src/ccmm/utils/utils.py#141\u001b\\\u001b[2m141\u001b[0m\u001b]8;;\u001b\\\n"
      ]
     },
     "metadata": {},
     "output_type": "display_data"
    },
    {
     "data": {
      "text/html": [
       "<pre style=\"white-space:pre;overflow-x:auto;line-height:normal;font-family:Menlo,'DejaVu Sans Mono',consolas,'Courier New',monospace\"><span style=\"color: #7fbfbf; text-decoration-color: #7fbfbf\">2024-02-01 16:58:13 </span><span style=\"color: #000080; text-decoration-color: #000080\">INFO    </span> Evaluating interpolated model with lambda: <span style=\"color: #008080; text-decoration-color: #008080; font-weight: bold\">0.2857142984867096</span>     <a href=\"file:///home/daniele/source/cycle-consistent-model-merging/src/ccmm/utils/utils.py\" target=\"_blank\"><span style=\"color: #7f7f7f; text-decoration-color: #7f7f7f\">ccmm.utils.utils</span></a><span style=\"color: #7f7f7f; text-decoration-color: #7f7f7f\">:</span><a href=\"file:///home/daniele/source/cycle-consistent-model-merging/src/ccmm/utils/utils.py#141\" target=\"_blank\"><span style=\"color: #7f7f7f; text-decoration-color: #7f7f7f\">141</span></a>\n",
       "</pre>\n"
      ],
      "text/plain": [
       "\u001b[2;36m2024-02-01 16:58:13\u001b[0m\u001b[2;36m \u001b[0m\u001b[34mINFO    \u001b[0m Evaluating interpolated model with lambda: \u001b[1;36m0.2857142984867096\u001b[0m     \u001b]8;id=740202;file:///home/daniele/source/cycle-consistent-model-merging/src/ccmm/utils/utils.py\u001b\\\u001b[2mccmm.utils.utils\u001b[0m\u001b]8;;\u001b\\\u001b[2m:\u001b[0m\u001b]8;id=1148;file:///home/daniele/source/cycle-consistent-model-merging/src/ccmm/utils/utils.py#141\u001b\\\u001b[2m141\u001b[0m\u001b]8;;\u001b\\\n"
      ]
     },
     "metadata": {},
     "output_type": "display_data"
    },
    {
     "data": {
      "text/html": [
       "<pre style=\"white-space:pre;overflow-x:auto;line-height:normal;font-family:Menlo,'DejaVu Sans Mono',consolas,'Courier New',monospace\"><span style=\"color: #7fbfbf; text-decoration-color: #7fbfbf\">2024-02-01 16:58:16 </span><span style=\"color: #000080; text-decoration-color: #000080\">INFO    </span> Evaluating interpolated model with lambda: <span style=\"color: #008080; text-decoration-color: #008080; font-weight: bold\">0.3571428656578064</span>     <a href=\"file:///home/daniele/source/cycle-consistent-model-merging/src/ccmm/utils/utils.py\" target=\"_blank\"><span style=\"color: #7f7f7f; text-decoration-color: #7f7f7f\">ccmm.utils.utils</span></a><span style=\"color: #7f7f7f; text-decoration-color: #7f7f7f\">:</span><a href=\"file:///home/daniele/source/cycle-consistent-model-merging/src/ccmm/utils/utils.py#141\" target=\"_blank\"><span style=\"color: #7f7f7f; text-decoration-color: #7f7f7f\">141</span></a>\n",
       "</pre>\n"
      ],
      "text/plain": [
       "\u001b[2;36m2024-02-01 16:58:16\u001b[0m\u001b[2;36m \u001b[0m\u001b[34mINFO    \u001b[0m Evaluating interpolated model with lambda: \u001b[1;36m0.3571428656578064\u001b[0m     \u001b]8;id=596291;file:///home/daniele/source/cycle-consistent-model-merging/src/ccmm/utils/utils.py\u001b\\\u001b[2mccmm.utils.utils\u001b[0m\u001b]8;;\u001b\\\u001b[2m:\u001b[0m\u001b]8;id=463171;file:///home/daniele/source/cycle-consistent-model-merging/src/ccmm/utils/utils.py#141\u001b\\\u001b[2m141\u001b[0m\u001b]8;;\u001b\\\n"
      ]
     },
     "metadata": {},
     "output_type": "display_data"
    },
    {
     "data": {
      "text/html": [
       "<pre style=\"white-space:pre;overflow-x:auto;line-height:normal;font-family:Menlo,'DejaVu Sans Mono',consolas,'Courier New',monospace\"><span style=\"color: #7fbfbf; text-decoration-color: #7fbfbf\">2024-02-01 16:58:19 </span><span style=\"color: #000080; text-decoration-color: #000080\">INFO    </span> Evaluating interpolated model with lambda: <span style=\"color: #008080; text-decoration-color: #008080; font-weight: bold\">0.4285714626312256</span>     <a href=\"file:///home/daniele/source/cycle-consistent-model-merging/src/ccmm/utils/utils.py\" target=\"_blank\"><span style=\"color: #7f7f7f; text-decoration-color: #7f7f7f\">ccmm.utils.utils</span></a><span style=\"color: #7f7f7f; text-decoration-color: #7f7f7f\">:</span><a href=\"file:///home/daniele/source/cycle-consistent-model-merging/src/ccmm/utils/utils.py#141\" target=\"_blank\"><span style=\"color: #7f7f7f; text-decoration-color: #7f7f7f\">141</span></a>\n",
       "</pre>\n"
      ],
      "text/plain": [
       "\u001b[2;36m2024-02-01 16:58:19\u001b[0m\u001b[2;36m \u001b[0m\u001b[34mINFO    \u001b[0m Evaluating interpolated model with lambda: \u001b[1;36m0.4285714626312256\u001b[0m     \u001b]8;id=401733;file:///home/daniele/source/cycle-consistent-model-merging/src/ccmm/utils/utils.py\u001b\\\u001b[2mccmm.utils.utils\u001b[0m\u001b]8;;\u001b\\\u001b[2m:\u001b[0m\u001b]8;id=54409;file:///home/daniele/source/cycle-consistent-model-merging/src/ccmm/utils/utils.py#141\u001b\\\u001b[2m141\u001b[0m\u001b]8;;\u001b\\\n"
      ]
     },
     "metadata": {},
     "output_type": "display_data"
    },
    {
     "data": {
      "text/html": [
       "<pre style=\"white-space:pre;overflow-x:auto;line-height:normal;font-family:Menlo,'DejaVu Sans Mono',consolas,'Courier New',monospace\"><span style=\"color: #7fbfbf; text-decoration-color: #7fbfbf\">2024-02-01 16:58:22 </span><span style=\"color: #000080; text-decoration-color: #000080\">INFO    </span> Evaluating interpolated model with lambda: <span style=\"color: #008080; text-decoration-color: #008080; font-weight: bold\">0.4999999701976776</span>     <a href=\"file:///home/daniele/source/cycle-consistent-model-merging/src/ccmm/utils/utils.py\" target=\"_blank\"><span style=\"color: #7f7f7f; text-decoration-color: #7f7f7f\">ccmm.utils.utils</span></a><span style=\"color: #7f7f7f; text-decoration-color: #7f7f7f\">:</span><a href=\"file:///home/daniele/source/cycle-consistent-model-merging/src/ccmm/utils/utils.py#141\" target=\"_blank\"><span style=\"color: #7f7f7f; text-decoration-color: #7f7f7f\">141</span></a>\n",
       "</pre>\n"
      ],
      "text/plain": [
       "\u001b[2;36m2024-02-01 16:58:22\u001b[0m\u001b[2;36m \u001b[0m\u001b[34mINFO    \u001b[0m Evaluating interpolated model with lambda: \u001b[1;36m0.4999999701976776\u001b[0m     \u001b]8;id=24673;file:///home/daniele/source/cycle-consistent-model-merging/src/ccmm/utils/utils.py\u001b\\\u001b[2mccmm.utils.utils\u001b[0m\u001b]8;;\u001b\\\u001b[2m:\u001b[0m\u001b]8;id=858421;file:///home/daniele/source/cycle-consistent-model-merging/src/ccmm/utils/utils.py#141\u001b\\\u001b[2m141\u001b[0m\u001b]8;;\u001b\\\n"
      ]
     },
     "metadata": {},
     "output_type": "display_data"
    },
    {
     "data": {
      "text/html": [
       "<pre style=\"white-space:pre;overflow-x:auto;line-height:normal;font-family:Menlo,'DejaVu Sans Mono',consolas,'Courier New',monospace\"><span style=\"color: #7fbfbf; text-decoration-color: #7fbfbf\">2024-02-01 16:58:25 </span><span style=\"color: #000080; text-decoration-color: #000080\">INFO    </span> Evaluating interpolated model with lambda: <span style=\"color: #008080; text-decoration-color: #008080; font-weight: bold\">0.5714285373687744</span>     <a href=\"file:///home/daniele/source/cycle-consistent-model-merging/src/ccmm/utils/utils.py\" target=\"_blank\"><span style=\"color: #7f7f7f; text-decoration-color: #7f7f7f\">ccmm.utils.utils</span></a><span style=\"color: #7f7f7f; text-decoration-color: #7f7f7f\">:</span><a href=\"file:///home/daniele/source/cycle-consistent-model-merging/src/ccmm/utils/utils.py#141\" target=\"_blank\"><span style=\"color: #7f7f7f; text-decoration-color: #7f7f7f\">141</span></a>\n",
       "</pre>\n"
      ],
      "text/plain": [
       "\u001b[2;36m2024-02-01 16:58:25\u001b[0m\u001b[2;36m \u001b[0m\u001b[34mINFO    \u001b[0m Evaluating interpolated model with lambda: \u001b[1;36m0.5714285373687744\u001b[0m     \u001b]8;id=618828;file:///home/daniele/source/cycle-consistent-model-merging/src/ccmm/utils/utils.py\u001b\\\u001b[2mccmm.utils.utils\u001b[0m\u001b]8;;\u001b\\\u001b[2m:\u001b[0m\u001b]8;id=507865;file:///home/daniele/source/cycle-consistent-model-merging/src/ccmm/utils/utils.py#141\u001b\\\u001b[2m141\u001b[0m\u001b]8;;\u001b\\\n"
      ]
     },
     "metadata": {},
     "output_type": "display_data"
    },
    {
     "data": {
      "text/html": [
       "<pre style=\"white-space:pre;overflow-x:auto;line-height:normal;font-family:Menlo,'DejaVu Sans Mono',consolas,'Courier New',monospace\"><span style=\"color: #7fbfbf; text-decoration-color: #7fbfbf\">2024-02-01 16:58:29 </span><span style=\"color: #000080; text-decoration-color: #000080\">INFO    </span> Evaluating interpolated model with lambda: <span style=\"color: #008080; text-decoration-color: #008080; font-weight: bold\">0.6428571343421936</span>     <a href=\"file:///home/daniele/source/cycle-consistent-model-merging/src/ccmm/utils/utils.py\" target=\"_blank\"><span style=\"color: #7f7f7f; text-decoration-color: #7f7f7f\">ccmm.utils.utils</span></a><span style=\"color: #7f7f7f; text-decoration-color: #7f7f7f\">:</span><a href=\"file:///home/daniele/source/cycle-consistent-model-merging/src/ccmm/utils/utils.py#141\" target=\"_blank\"><span style=\"color: #7f7f7f; text-decoration-color: #7f7f7f\">141</span></a>\n",
       "</pre>\n"
      ],
      "text/plain": [
       "\u001b[2;36m2024-02-01 16:58:29\u001b[0m\u001b[2;36m \u001b[0m\u001b[34mINFO    \u001b[0m Evaluating interpolated model with lambda: \u001b[1;36m0.6428571343421936\u001b[0m     \u001b]8;id=251463;file:///home/daniele/source/cycle-consistent-model-merging/src/ccmm/utils/utils.py\u001b\\\u001b[2mccmm.utils.utils\u001b[0m\u001b]8;;\u001b\\\u001b[2m:\u001b[0m\u001b]8;id=632933;file:///home/daniele/source/cycle-consistent-model-merging/src/ccmm/utils/utils.py#141\u001b\\\u001b[2m141\u001b[0m\u001b]8;;\u001b\\\n"
      ]
     },
     "metadata": {},
     "output_type": "display_data"
    },
    {
     "data": {
      "text/html": [
       "<pre style=\"white-space:pre;overflow-x:auto;line-height:normal;font-family:Menlo,'DejaVu Sans Mono',consolas,'Courier New',monospace\"><span style=\"color: #7fbfbf; text-decoration-color: #7fbfbf\">2024-02-01 16:58:32 </span><span style=\"color: #000080; text-decoration-color: #000080\">INFO    </span> Evaluating interpolated model with lambda: <span style=\"color: #008080; text-decoration-color: #008080; font-weight: bold\">0.7142857313156128</span>     <a href=\"file:///home/daniele/source/cycle-consistent-model-merging/src/ccmm/utils/utils.py\" target=\"_blank\"><span style=\"color: #7f7f7f; text-decoration-color: #7f7f7f\">ccmm.utils.utils</span></a><span style=\"color: #7f7f7f; text-decoration-color: #7f7f7f\">:</span><a href=\"file:///home/daniele/source/cycle-consistent-model-merging/src/ccmm/utils/utils.py#141\" target=\"_blank\"><span style=\"color: #7f7f7f; text-decoration-color: #7f7f7f\">141</span></a>\n",
       "</pre>\n"
      ],
      "text/plain": [
       "\u001b[2;36m2024-02-01 16:58:32\u001b[0m\u001b[2;36m \u001b[0m\u001b[34mINFO    \u001b[0m Evaluating interpolated model with lambda: \u001b[1;36m0.7142857313156128\u001b[0m     \u001b]8;id=39035;file:///home/daniele/source/cycle-consistent-model-merging/src/ccmm/utils/utils.py\u001b\\\u001b[2mccmm.utils.utils\u001b[0m\u001b]8;;\u001b\\\u001b[2m:\u001b[0m\u001b]8;id=546284;file:///home/daniele/source/cycle-consistent-model-merging/src/ccmm/utils/utils.py#141\u001b\\\u001b[2m141\u001b[0m\u001b]8;;\u001b\\\n"
      ]
     },
     "metadata": {},
     "output_type": "display_data"
    },
    {
     "data": {
      "text/html": [
       "<pre style=\"white-space:pre;overflow-x:auto;line-height:normal;font-family:Menlo,'DejaVu Sans Mono',consolas,'Courier New',monospace\"><span style=\"color: #7fbfbf; text-decoration-color: #7fbfbf\">2024-02-01 16:58:35 </span><span style=\"color: #000080; text-decoration-color: #000080\">INFO    </span> Evaluating interpolated model with lambda: <span style=\"color: #008080; text-decoration-color: #008080; font-weight: bold\">0.7857142686843872</span>     <a href=\"file:///home/daniele/source/cycle-consistent-model-merging/src/ccmm/utils/utils.py\" target=\"_blank\"><span style=\"color: #7f7f7f; text-decoration-color: #7f7f7f\">ccmm.utils.utils</span></a><span style=\"color: #7f7f7f; text-decoration-color: #7f7f7f\">:</span><a href=\"file:///home/daniele/source/cycle-consistent-model-merging/src/ccmm/utils/utils.py#141\" target=\"_blank\"><span style=\"color: #7f7f7f; text-decoration-color: #7f7f7f\">141</span></a>\n",
       "</pre>\n"
      ],
      "text/plain": [
       "\u001b[2;36m2024-02-01 16:58:35\u001b[0m\u001b[2;36m \u001b[0m\u001b[34mINFO    \u001b[0m Evaluating interpolated model with lambda: \u001b[1;36m0.7857142686843872\u001b[0m     \u001b]8;id=503508;file:///home/daniele/source/cycle-consistent-model-merging/src/ccmm/utils/utils.py\u001b\\\u001b[2mccmm.utils.utils\u001b[0m\u001b]8;;\u001b\\\u001b[2m:\u001b[0m\u001b]8;id=752608;file:///home/daniele/source/cycle-consistent-model-merging/src/ccmm/utils/utils.py#141\u001b\\\u001b[2m141\u001b[0m\u001b]8;;\u001b\\\n"
      ]
     },
     "metadata": {},
     "output_type": "display_data"
    },
    {
     "data": {
      "text/html": [
       "<pre style=\"white-space:pre;overflow-x:auto;line-height:normal;font-family:Menlo,'DejaVu Sans Mono',consolas,'Courier New',monospace\"><span style=\"color: #7fbfbf; text-decoration-color: #7fbfbf\">2024-02-01 16:58:38 </span><span style=\"color: #000080; text-decoration-color: #000080\">INFO    </span> Evaluating interpolated model with lambda: <span style=\"color: #008080; text-decoration-color: #008080; font-weight: bold\">0.8571428656578064</span>     <a href=\"file:///home/daniele/source/cycle-consistent-model-merging/src/ccmm/utils/utils.py\" target=\"_blank\"><span style=\"color: #7f7f7f; text-decoration-color: #7f7f7f\">ccmm.utils.utils</span></a><span style=\"color: #7f7f7f; text-decoration-color: #7f7f7f\">:</span><a href=\"file:///home/daniele/source/cycle-consistent-model-merging/src/ccmm/utils/utils.py#141\" target=\"_blank\"><span style=\"color: #7f7f7f; text-decoration-color: #7f7f7f\">141</span></a>\n",
       "</pre>\n"
      ],
      "text/plain": [
       "\u001b[2;36m2024-02-01 16:58:38\u001b[0m\u001b[2;36m \u001b[0m\u001b[34mINFO    \u001b[0m Evaluating interpolated model with lambda: \u001b[1;36m0.8571428656578064\u001b[0m     \u001b]8;id=975693;file:///home/daniele/source/cycle-consistent-model-merging/src/ccmm/utils/utils.py\u001b\\\u001b[2mccmm.utils.utils\u001b[0m\u001b]8;;\u001b\\\u001b[2m:\u001b[0m\u001b]8;id=843884;file:///home/daniele/source/cycle-consistent-model-merging/src/ccmm/utils/utils.py#141\u001b\\\u001b[2m141\u001b[0m\u001b]8;;\u001b\\\n"
      ]
     },
     "metadata": {},
     "output_type": "display_data"
    },
    {
     "data": {
      "text/html": [
       "<pre style=\"white-space:pre;overflow-x:auto;line-height:normal;font-family:Menlo,'DejaVu Sans Mono',consolas,'Courier New',monospace\"><span style=\"color: #7fbfbf; text-decoration-color: #7fbfbf\">2024-02-01 16:58:42 </span><span style=\"color: #000080; text-decoration-color: #000080\">INFO    </span> Evaluating interpolated model with lambda: <span style=\"color: #008080; text-decoration-color: #008080; font-weight: bold\">0.9285714030265808</span>     <a href=\"file:///home/daniele/source/cycle-consistent-model-merging/src/ccmm/utils/utils.py\" target=\"_blank\"><span style=\"color: #7f7f7f; text-decoration-color: #7f7f7f\">ccmm.utils.utils</span></a><span style=\"color: #7f7f7f; text-decoration-color: #7f7f7f\">:</span><a href=\"file:///home/daniele/source/cycle-consistent-model-merging/src/ccmm/utils/utils.py#141\" target=\"_blank\"><span style=\"color: #7f7f7f; text-decoration-color: #7f7f7f\">141</span></a>\n",
       "</pre>\n"
      ],
      "text/plain": [
       "\u001b[2;36m2024-02-01 16:58:42\u001b[0m\u001b[2;36m \u001b[0m\u001b[34mINFO    \u001b[0m Evaluating interpolated model with lambda: \u001b[1;36m0.9285714030265808\u001b[0m     \u001b]8;id=683126;file:///home/daniele/source/cycle-consistent-model-merging/src/ccmm/utils/utils.py\u001b\\\u001b[2mccmm.utils.utils\u001b[0m\u001b]8;;\u001b\\\u001b[2m:\u001b[0m\u001b]8;id=79410;file:///home/daniele/source/cycle-consistent-model-merging/src/ccmm/utils/utils.py#141\u001b\\\u001b[2m141\u001b[0m\u001b]8;;\u001b\\\n"
      ]
     },
     "metadata": {},
     "output_type": "display_data"
    },
    {
     "data": {
      "text/html": [
       "<pre style=\"white-space:pre;overflow-x:auto;line-height:normal;font-family:Menlo,'DejaVu Sans Mono',consolas,'Courier New',monospace\"><span style=\"color: #7fbfbf; text-decoration-color: #7fbfbf\">2024-02-01 16:58:45 </span><span style=\"color: #000080; text-decoration-color: #000080\">INFO    </span> Evaluating interpolated model with lambda: <span style=\"color: #008080; text-decoration-color: #008080; font-weight: bold\">1.0</span>                    <a href=\"file:///home/daniele/source/cycle-consistent-model-merging/src/ccmm/utils/utils.py\" target=\"_blank\"><span style=\"color: #7f7f7f; text-decoration-color: #7f7f7f\">ccmm.utils.utils</span></a><span style=\"color: #7f7f7f; text-decoration-color: #7f7f7f\">:</span><a href=\"file:///home/daniele/source/cycle-consistent-model-merging/src/ccmm/utils/utils.py#141\" target=\"_blank\"><span style=\"color: #7f7f7f; text-decoration-color: #7f7f7f\">141</span></a>\n",
       "</pre>\n"
      ],
      "text/plain": [
       "\u001b[2;36m2024-02-01 16:58:45\u001b[0m\u001b[2;36m \u001b[0m\u001b[34mINFO    \u001b[0m Evaluating interpolated model with lambda: \u001b[1;36m1.0\u001b[0m                    \u001b]8;id=60346;file:///home/daniele/source/cycle-consistent-model-merging/src/ccmm/utils/utils.py\u001b\\\u001b[2mccmm.utils.utils\u001b[0m\u001b]8;;\u001b\\\u001b[2m:\u001b[0m\u001b]8;id=305388;file:///home/daniele/source/cycle-consistent-model-merging/src/ccmm/utils/utils.py#141\u001b\\\u001b[2m141\u001b[0m\u001b]8;;\u001b\\\n"
      ]
     },
     "metadata": {},
     "output_type": "display_data"
    },
    {
     "name": "stdout",
     "output_type": "stream",
     "text": [
      "Cycle: ('c', 'e', 'd')\n",
      "Model distance: 40.73612976074219\n"
     ]
    },
    {
     "data": {
      "text/html": [
       "<pre style=\"white-space:pre;overflow-x:auto;line-height:normal;font-family:Menlo,'DejaVu Sans Mono',consolas,'Courier New',monospace\"><span style=\"color: #7fbfbf; text-decoration-color: #7fbfbf\">2024-02-01 16:58:48 </span><span style=\"color: #000080; text-decoration-color: #000080\">INFO    </span> Evaluating interpolated model with lambda: <span style=\"color: #008080; text-decoration-color: #008080; font-weight: bold\">0.0</span>                    <a href=\"file:///home/daniele/source/cycle-consistent-model-merging/src/ccmm/utils/utils.py\" target=\"_blank\"><span style=\"color: #7f7f7f; text-decoration-color: #7f7f7f\">ccmm.utils.utils</span></a><span style=\"color: #7f7f7f; text-decoration-color: #7f7f7f\">:</span><a href=\"file:///home/daniele/source/cycle-consistent-model-merging/src/ccmm/utils/utils.py#141\" target=\"_blank\"><span style=\"color: #7f7f7f; text-decoration-color: #7f7f7f\">141</span></a>\n",
       "</pre>\n"
      ],
      "text/plain": [
       "\u001b[2;36m2024-02-01 16:58:48\u001b[0m\u001b[2;36m \u001b[0m\u001b[34mINFO    \u001b[0m Evaluating interpolated model with lambda: \u001b[1;36m0.0\u001b[0m                    \u001b]8;id=531705;file:///home/daniele/source/cycle-consistent-model-merging/src/ccmm/utils/utils.py\u001b\\\u001b[2mccmm.utils.utils\u001b[0m\u001b]8;;\u001b\\\u001b[2m:\u001b[0m\u001b]8;id=977678;file:///home/daniele/source/cycle-consistent-model-merging/src/ccmm/utils/utils.py#141\u001b\\\u001b[2m141\u001b[0m\u001b]8;;\u001b\\\n"
      ]
     },
     "metadata": {},
     "output_type": "display_data"
    },
    {
     "data": {
      "text/html": [
       "<pre style=\"white-space:pre;overflow-x:auto;line-height:normal;font-family:Menlo,'DejaVu Sans Mono',consolas,'Courier New',monospace\"><span style=\"color: #7fbfbf; text-decoration-color: #7fbfbf\">2024-02-01 16:58:51 </span><span style=\"color: #000080; text-decoration-color: #000080\">INFO    </span> Evaluating interpolated model with lambda: <span style=\"color: #008080; text-decoration-color: #008080; font-weight: bold\">0.0714285746216774</span>     <a href=\"file:///home/daniele/source/cycle-consistent-model-merging/src/ccmm/utils/utils.py\" target=\"_blank\"><span style=\"color: #7f7f7f; text-decoration-color: #7f7f7f\">ccmm.utils.utils</span></a><span style=\"color: #7f7f7f; text-decoration-color: #7f7f7f\">:</span><a href=\"file:///home/daniele/source/cycle-consistent-model-merging/src/ccmm/utils/utils.py#141\" target=\"_blank\"><span style=\"color: #7f7f7f; text-decoration-color: #7f7f7f\">141</span></a>\n",
       "</pre>\n"
      ],
      "text/plain": [
       "\u001b[2;36m2024-02-01 16:58:51\u001b[0m\u001b[2;36m \u001b[0m\u001b[34mINFO    \u001b[0m Evaluating interpolated model with lambda: \u001b[1;36m0.0714285746216774\u001b[0m     \u001b]8;id=790118;file:///home/daniele/source/cycle-consistent-model-merging/src/ccmm/utils/utils.py\u001b\\\u001b[2mccmm.utils.utils\u001b[0m\u001b]8;;\u001b\\\u001b[2m:\u001b[0m\u001b]8;id=599646;file:///home/daniele/source/cycle-consistent-model-merging/src/ccmm/utils/utils.py#141\u001b\\\u001b[2m141\u001b[0m\u001b]8;;\u001b\\\n"
      ]
     },
     "metadata": {},
     "output_type": "display_data"
    },
    {
     "data": {
      "text/html": [
       "<pre style=\"white-space:pre;overflow-x:auto;line-height:normal;font-family:Menlo,'DejaVu Sans Mono',consolas,'Courier New',monospace\"><span style=\"color: #7fbfbf; text-decoration-color: #7fbfbf\">2024-02-01 16:58:55 </span><span style=\"color: #000080; text-decoration-color: #000080\">INFO    </span> Evaluating interpolated model with lambda: <span style=\"color: #008080; text-decoration-color: #008080; font-weight: bold\">0.1428571492433548</span>     <a href=\"file:///home/daniele/source/cycle-consistent-model-merging/src/ccmm/utils/utils.py\" target=\"_blank\"><span style=\"color: #7f7f7f; text-decoration-color: #7f7f7f\">ccmm.utils.utils</span></a><span style=\"color: #7f7f7f; text-decoration-color: #7f7f7f\">:</span><a href=\"file:///home/daniele/source/cycle-consistent-model-merging/src/ccmm/utils/utils.py#141\" target=\"_blank\"><span style=\"color: #7f7f7f; text-decoration-color: #7f7f7f\">141</span></a>\n",
       "</pre>\n"
      ],
      "text/plain": [
       "\u001b[2;36m2024-02-01 16:58:55\u001b[0m\u001b[2;36m \u001b[0m\u001b[34mINFO    \u001b[0m Evaluating interpolated model with lambda: \u001b[1;36m0.1428571492433548\u001b[0m     \u001b]8;id=961620;file:///home/daniele/source/cycle-consistent-model-merging/src/ccmm/utils/utils.py\u001b\\\u001b[2mccmm.utils.utils\u001b[0m\u001b]8;;\u001b\\\u001b[2m:\u001b[0m\u001b]8;id=215536;file:///home/daniele/source/cycle-consistent-model-merging/src/ccmm/utils/utils.py#141\u001b\\\u001b[2m141\u001b[0m\u001b]8;;\u001b\\\n"
      ]
     },
     "metadata": {},
     "output_type": "display_data"
    },
    {
     "data": {
      "text/html": [
       "<pre style=\"white-space:pre;overflow-x:auto;line-height:normal;font-family:Menlo,'DejaVu Sans Mono',consolas,'Courier New',monospace\"><span style=\"color: #7fbfbf; text-decoration-color: #7fbfbf\">2024-02-01 16:58:58 </span><span style=\"color: #000080; text-decoration-color: #000080\">INFO    </span> Evaluating interpolated model with lambda: <span style=\"color: #008080; text-decoration-color: #008080; font-weight: bold\">0.2142857313156128</span>     <a href=\"file:///home/daniele/source/cycle-consistent-model-merging/src/ccmm/utils/utils.py\" target=\"_blank\"><span style=\"color: #7f7f7f; text-decoration-color: #7f7f7f\">ccmm.utils.utils</span></a><span style=\"color: #7f7f7f; text-decoration-color: #7f7f7f\">:</span><a href=\"file:///home/daniele/source/cycle-consistent-model-merging/src/ccmm/utils/utils.py#141\" target=\"_blank\"><span style=\"color: #7f7f7f; text-decoration-color: #7f7f7f\">141</span></a>\n",
       "</pre>\n"
      ],
      "text/plain": [
       "\u001b[2;36m2024-02-01 16:58:58\u001b[0m\u001b[2;36m \u001b[0m\u001b[34mINFO    \u001b[0m Evaluating interpolated model with lambda: \u001b[1;36m0.2142857313156128\u001b[0m     \u001b]8;id=372629;file:///home/daniele/source/cycle-consistent-model-merging/src/ccmm/utils/utils.py\u001b\\\u001b[2mccmm.utils.utils\u001b[0m\u001b]8;;\u001b\\\u001b[2m:\u001b[0m\u001b]8;id=454074;file:///home/daniele/source/cycle-consistent-model-merging/src/ccmm/utils/utils.py#141\u001b\\\u001b[2m141\u001b[0m\u001b]8;;\u001b\\\n"
      ]
     },
     "metadata": {},
     "output_type": "display_data"
    },
    {
     "data": {
      "text/html": [
       "<pre style=\"white-space:pre;overflow-x:auto;line-height:normal;font-family:Menlo,'DejaVu Sans Mono',consolas,'Courier New',monospace\"><span style=\"color: #7fbfbf; text-decoration-color: #7fbfbf\">2024-02-01 16:59:01 </span><span style=\"color: #000080; text-decoration-color: #000080\">INFO    </span> Evaluating interpolated model with lambda: <span style=\"color: #008080; text-decoration-color: #008080; font-weight: bold\">0.2857142984867096</span>     <a href=\"file:///home/daniele/source/cycle-consistent-model-merging/src/ccmm/utils/utils.py\" target=\"_blank\"><span style=\"color: #7f7f7f; text-decoration-color: #7f7f7f\">ccmm.utils.utils</span></a><span style=\"color: #7f7f7f; text-decoration-color: #7f7f7f\">:</span><a href=\"file:///home/daniele/source/cycle-consistent-model-merging/src/ccmm/utils/utils.py#141\" target=\"_blank\"><span style=\"color: #7f7f7f; text-decoration-color: #7f7f7f\">141</span></a>\n",
       "</pre>\n"
      ],
      "text/plain": [
       "\u001b[2;36m2024-02-01 16:59:01\u001b[0m\u001b[2;36m \u001b[0m\u001b[34mINFO    \u001b[0m Evaluating interpolated model with lambda: \u001b[1;36m0.2857142984867096\u001b[0m     \u001b]8;id=843543;file:///home/daniele/source/cycle-consistent-model-merging/src/ccmm/utils/utils.py\u001b\\\u001b[2mccmm.utils.utils\u001b[0m\u001b]8;;\u001b\\\u001b[2m:\u001b[0m\u001b]8;id=639044;file:///home/daniele/source/cycle-consistent-model-merging/src/ccmm/utils/utils.py#141\u001b\\\u001b[2m141\u001b[0m\u001b]8;;\u001b\\\n"
      ]
     },
     "metadata": {},
     "output_type": "display_data"
    },
    {
     "data": {
      "text/html": [
       "<pre style=\"white-space:pre;overflow-x:auto;line-height:normal;font-family:Menlo,'DejaVu Sans Mono',consolas,'Courier New',monospace\"><span style=\"color: #7fbfbf; text-decoration-color: #7fbfbf\">2024-02-01 16:59:05 </span><span style=\"color: #000080; text-decoration-color: #000080\">INFO    </span> Evaluating interpolated model with lambda: <span style=\"color: #008080; text-decoration-color: #008080; font-weight: bold\">0.3571428656578064</span>     <a href=\"file:///home/daniele/source/cycle-consistent-model-merging/src/ccmm/utils/utils.py\" target=\"_blank\"><span style=\"color: #7f7f7f; text-decoration-color: #7f7f7f\">ccmm.utils.utils</span></a><span style=\"color: #7f7f7f; text-decoration-color: #7f7f7f\">:</span><a href=\"file:///home/daniele/source/cycle-consistent-model-merging/src/ccmm/utils/utils.py#141\" target=\"_blank\"><span style=\"color: #7f7f7f; text-decoration-color: #7f7f7f\">141</span></a>\n",
       "</pre>\n"
      ],
      "text/plain": [
       "\u001b[2;36m2024-02-01 16:59:05\u001b[0m\u001b[2;36m \u001b[0m\u001b[34mINFO    \u001b[0m Evaluating interpolated model with lambda: \u001b[1;36m0.3571428656578064\u001b[0m     \u001b]8;id=200048;file:///home/daniele/source/cycle-consistent-model-merging/src/ccmm/utils/utils.py\u001b\\\u001b[2mccmm.utils.utils\u001b[0m\u001b]8;;\u001b\\\u001b[2m:\u001b[0m\u001b]8;id=374218;file:///home/daniele/source/cycle-consistent-model-merging/src/ccmm/utils/utils.py#141\u001b\\\u001b[2m141\u001b[0m\u001b]8;;\u001b\\\n"
      ]
     },
     "metadata": {},
     "output_type": "display_data"
    },
    {
     "data": {
      "text/html": [
       "<pre style=\"white-space:pre;overflow-x:auto;line-height:normal;font-family:Menlo,'DejaVu Sans Mono',consolas,'Courier New',monospace\"><span style=\"color: #7fbfbf; text-decoration-color: #7fbfbf\">2024-02-01 16:59:08 </span><span style=\"color: #000080; text-decoration-color: #000080\">INFO    </span> Evaluating interpolated model with lambda: <span style=\"color: #008080; text-decoration-color: #008080; font-weight: bold\">0.4285714626312256</span>     <a href=\"file:///home/daniele/source/cycle-consistent-model-merging/src/ccmm/utils/utils.py\" target=\"_blank\"><span style=\"color: #7f7f7f; text-decoration-color: #7f7f7f\">ccmm.utils.utils</span></a><span style=\"color: #7f7f7f; text-decoration-color: #7f7f7f\">:</span><a href=\"file:///home/daniele/source/cycle-consistent-model-merging/src/ccmm/utils/utils.py#141\" target=\"_blank\"><span style=\"color: #7f7f7f; text-decoration-color: #7f7f7f\">141</span></a>\n",
       "</pre>\n"
      ],
      "text/plain": [
       "\u001b[2;36m2024-02-01 16:59:08\u001b[0m\u001b[2;36m \u001b[0m\u001b[34mINFO    \u001b[0m Evaluating interpolated model with lambda: \u001b[1;36m0.4285714626312256\u001b[0m     \u001b]8;id=2928;file:///home/daniele/source/cycle-consistent-model-merging/src/ccmm/utils/utils.py\u001b\\\u001b[2mccmm.utils.utils\u001b[0m\u001b]8;;\u001b\\\u001b[2m:\u001b[0m\u001b]8;id=663122;file:///home/daniele/source/cycle-consistent-model-merging/src/ccmm/utils/utils.py#141\u001b\\\u001b[2m141\u001b[0m\u001b]8;;\u001b\\\n"
      ]
     },
     "metadata": {},
     "output_type": "display_data"
    },
    {
     "data": {
      "text/html": [
       "<pre style=\"white-space:pre;overflow-x:auto;line-height:normal;font-family:Menlo,'DejaVu Sans Mono',consolas,'Courier New',monospace\"><span style=\"color: #7fbfbf; text-decoration-color: #7fbfbf\">2024-02-01 16:59:11 </span><span style=\"color: #000080; text-decoration-color: #000080\">INFO    </span> Evaluating interpolated model with lambda: <span style=\"color: #008080; text-decoration-color: #008080; font-weight: bold\">0.4999999701976776</span>     <a href=\"file:///home/daniele/source/cycle-consistent-model-merging/src/ccmm/utils/utils.py\" target=\"_blank\"><span style=\"color: #7f7f7f; text-decoration-color: #7f7f7f\">ccmm.utils.utils</span></a><span style=\"color: #7f7f7f; text-decoration-color: #7f7f7f\">:</span><a href=\"file:///home/daniele/source/cycle-consistent-model-merging/src/ccmm/utils/utils.py#141\" target=\"_blank\"><span style=\"color: #7f7f7f; text-decoration-color: #7f7f7f\">141</span></a>\n",
       "</pre>\n"
      ],
      "text/plain": [
       "\u001b[2;36m2024-02-01 16:59:11\u001b[0m\u001b[2;36m \u001b[0m\u001b[34mINFO    \u001b[0m Evaluating interpolated model with lambda: \u001b[1;36m0.4999999701976776\u001b[0m     \u001b]8;id=344382;file:///home/daniele/source/cycle-consistent-model-merging/src/ccmm/utils/utils.py\u001b\\\u001b[2mccmm.utils.utils\u001b[0m\u001b]8;;\u001b\\\u001b[2m:\u001b[0m\u001b]8;id=966143;file:///home/daniele/source/cycle-consistent-model-merging/src/ccmm/utils/utils.py#141\u001b\\\u001b[2m141\u001b[0m\u001b]8;;\u001b\\\n"
      ]
     },
     "metadata": {},
     "output_type": "display_data"
    },
    {
     "data": {
      "text/html": [
       "<pre style=\"white-space:pre;overflow-x:auto;line-height:normal;font-family:Menlo,'DejaVu Sans Mono',consolas,'Courier New',monospace\"><span style=\"color: #7fbfbf; text-decoration-color: #7fbfbf\">2024-02-01 16:59:14 </span><span style=\"color: #000080; text-decoration-color: #000080\">INFO    </span> Evaluating interpolated model with lambda: <span style=\"color: #008080; text-decoration-color: #008080; font-weight: bold\">0.5714285373687744</span>     <a href=\"file:///home/daniele/source/cycle-consistent-model-merging/src/ccmm/utils/utils.py\" target=\"_blank\"><span style=\"color: #7f7f7f; text-decoration-color: #7f7f7f\">ccmm.utils.utils</span></a><span style=\"color: #7f7f7f; text-decoration-color: #7f7f7f\">:</span><a href=\"file:///home/daniele/source/cycle-consistent-model-merging/src/ccmm/utils/utils.py#141\" target=\"_blank\"><span style=\"color: #7f7f7f; text-decoration-color: #7f7f7f\">141</span></a>\n",
       "</pre>\n"
      ],
      "text/plain": [
       "\u001b[2;36m2024-02-01 16:59:14\u001b[0m\u001b[2;36m \u001b[0m\u001b[34mINFO    \u001b[0m Evaluating interpolated model with lambda: \u001b[1;36m0.5714285373687744\u001b[0m     \u001b]8;id=449344;file:///home/daniele/source/cycle-consistent-model-merging/src/ccmm/utils/utils.py\u001b\\\u001b[2mccmm.utils.utils\u001b[0m\u001b]8;;\u001b\\\u001b[2m:\u001b[0m\u001b]8;id=68289;file:///home/daniele/source/cycle-consistent-model-merging/src/ccmm/utils/utils.py#141\u001b\\\u001b[2m141\u001b[0m\u001b]8;;\u001b\\\n"
      ]
     },
     "metadata": {},
     "output_type": "display_data"
    },
    {
     "data": {
      "text/html": [
       "<pre style=\"white-space:pre;overflow-x:auto;line-height:normal;font-family:Menlo,'DejaVu Sans Mono',consolas,'Courier New',monospace\"><span style=\"color: #7fbfbf; text-decoration-color: #7fbfbf\">2024-02-01 16:59:18 </span><span style=\"color: #000080; text-decoration-color: #000080\">INFO    </span> Evaluating interpolated model with lambda: <span style=\"color: #008080; text-decoration-color: #008080; font-weight: bold\">0.6428571343421936</span>     <a href=\"file:///home/daniele/source/cycle-consistent-model-merging/src/ccmm/utils/utils.py\" target=\"_blank\"><span style=\"color: #7f7f7f; text-decoration-color: #7f7f7f\">ccmm.utils.utils</span></a><span style=\"color: #7f7f7f; text-decoration-color: #7f7f7f\">:</span><a href=\"file:///home/daniele/source/cycle-consistent-model-merging/src/ccmm/utils/utils.py#141\" target=\"_blank\"><span style=\"color: #7f7f7f; text-decoration-color: #7f7f7f\">141</span></a>\n",
       "</pre>\n"
      ],
      "text/plain": [
       "\u001b[2;36m2024-02-01 16:59:18\u001b[0m\u001b[2;36m \u001b[0m\u001b[34mINFO    \u001b[0m Evaluating interpolated model with lambda: \u001b[1;36m0.6428571343421936\u001b[0m     \u001b]8;id=447942;file:///home/daniele/source/cycle-consistent-model-merging/src/ccmm/utils/utils.py\u001b\\\u001b[2mccmm.utils.utils\u001b[0m\u001b]8;;\u001b\\\u001b[2m:\u001b[0m\u001b]8;id=149171;file:///home/daniele/source/cycle-consistent-model-merging/src/ccmm/utils/utils.py#141\u001b\\\u001b[2m141\u001b[0m\u001b]8;;\u001b\\\n"
      ]
     },
     "metadata": {},
     "output_type": "display_data"
    },
    {
     "data": {
      "text/html": [
       "<pre style=\"white-space:pre;overflow-x:auto;line-height:normal;font-family:Menlo,'DejaVu Sans Mono',consolas,'Courier New',monospace\"><span style=\"color: #7fbfbf; text-decoration-color: #7fbfbf\">2024-02-01 16:59:21 </span><span style=\"color: #000080; text-decoration-color: #000080\">INFO    </span> Evaluating interpolated model with lambda: <span style=\"color: #008080; text-decoration-color: #008080; font-weight: bold\">0.7142857313156128</span>     <a href=\"file:///home/daniele/source/cycle-consistent-model-merging/src/ccmm/utils/utils.py\" target=\"_blank\"><span style=\"color: #7f7f7f; text-decoration-color: #7f7f7f\">ccmm.utils.utils</span></a><span style=\"color: #7f7f7f; text-decoration-color: #7f7f7f\">:</span><a href=\"file:///home/daniele/source/cycle-consistent-model-merging/src/ccmm/utils/utils.py#141\" target=\"_blank\"><span style=\"color: #7f7f7f; text-decoration-color: #7f7f7f\">141</span></a>\n",
       "</pre>\n"
      ],
      "text/plain": [
       "\u001b[2;36m2024-02-01 16:59:21\u001b[0m\u001b[2;36m \u001b[0m\u001b[34mINFO    \u001b[0m Evaluating interpolated model with lambda: \u001b[1;36m0.7142857313156128\u001b[0m     \u001b]8;id=470965;file:///home/daniele/source/cycle-consistent-model-merging/src/ccmm/utils/utils.py\u001b\\\u001b[2mccmm.utils.utils\u001b[0m\u001b]8;;\u001b\\\u001b[2m:\u001b[0m\u001b]8;id=104235;file:///home/daniele/source/cycle-consistent-model-merging/src/ccmm/utils/utils.py#141\u001b\\\u001b[2m141\u001b[0m\u001b]8;;\u001b\\\n"
      ]
     },
     "metadata": {},
     "output_type": "display_data"
    },
    {
     "data": {
      "text/html": [
       "<pre style=\"white-space:pre;overflow-x:auto;line-height:normal;font-family:Menlo,'DejaVu Sans Mono',consolas,'Courier New',monospace\"><span style=\"color: #7fbfbf; text-decoration-color: #7fbfbf\">2024-02-01 16:59:24 </span><span style=\"color: #000080; text-decoration-color: #000080\">INFO    </span> Evaluating interpolated model with lambda: <span style=\"color: #008080; text-decoration-color: #008080; font-weight: bold\">0.7857142686843872</span>     <a href=\"file:///home/daniele/source/cycle-consistent-model-merging/src/ccmm/utils/utils.py\" target=\"_blank\"><span style=\"color: #7f7f7f; text-decoration-color: #7f7f7f\">ccmm.utils.utils</span></a><span style=\"color: #7f7f7f; text-decoration-color: #7f7f7f\">:</span><a href=\"file:///home/daniele/source/cycle-consistent-model-merging/src/ccmm/utils/utils.py#141\" target=\"_blank\"><span style=\"color: #7f7f7f; text-decoration-color: #7f7f7f\">141</span></a>\n",
       "</pre>\n"
      ],
      "text/plain": [
       "\u001b[2;36m2024-02-01 16:59:24\u001b[0m\u001b[2;36m \u001b[0m\u001b[34mINFO    \u001b[0m Evaluating interpolated model with lambda: \u001b[1;36m0.7857142686843872\u001b[0m     \u001b]8;id=700481;file:///home/daniele/source/cycle-consistent-model-merging/src/ccmm/utils/utils.py\u001b\\\u001b[2mccmm.utils.utils\u001b[0m\u001b]8;;\u001b\\\u001b[2m:\u001b[0m\u001b]8;id=118594;file:///home/daniele/source/cycle-consistent-model-merging/src/ccmm/utils/utils.py#141\u001b\\\u001b[2m141\u001b[0m\u001b]8;;\u001b\\\n"
      ]
     },
     "metadata": {},
     "output_type": "display_data"
    },
    {
     "data": {
      "text/html": [
       "<pre style=\"white-space:pre;overflow-x:auto;line-height:normal;font-family:Menlo,'DejaVu Sans Mono',consolas,'Courier New',monospace\"><span style=\"color: #7fbfbf; text-decoration-color: #7fbfbf\">2024-02-01 16:59:28 </span><span style=\"color: #000080; text-decoration-color: #000080\">INFO    </span> Evaluating interpolated model with lambda: <span style=\"color: #008080; text-decoration-color: #008080; font-weight: bold\">0.8571428656578064</span>     <a href=\"file:///home/daniele/source/cycle-consistent-model-merging/src/ccmm/utils/utils.py\" target=\"_blank\"><span style=\"color: #7f7f7f; text-decoration-color: #7f7f7f\">ccmm.utils.utils</span></a><span style=\"color: #7f7f7f; text-decoration-color: #7f7f7f\">:</span><a href=\"file:///home/daniele/source/cycle-consistent-model-merging/src/ccmm/utils/utils.py#141\" target=\"_blank\"><span style=\"color: #7f7f7f; text-decoration-color: #7f7f7f\">141</span></a>\n",
       "</pre>\n"
      ],
      "text/plain": [
       "\u001b[2;36m2024-02-01 16:59:28\u001b[0m\u001b[2;36m \u001b[0m\u001b[34mINFO    \u001b[0m Evaluating interpolated model with lambda: \u001b[1;36m0.8571428656578064\u001b[0m     \u001b]8;id=767376;file:///home/daniele/source/cycle-consistent-model-merging/src/ccmm/utils/utils.py\u001b\\\u001b[2mccmm.utils.utils\u001b[0m\u001b]8;;\u001b\\\u001b[2m:\u001b[0m\u001b]8;id=953657;file:///home/daniele/source/cycle-consistent-model-merging/src/ccmm/utils/utils.py#141\u001b\\\u001b[2m141\u001b[0m\u001b]8;;\u001b\\\n"
      ]
     },
     "metadata": {},
     "output_type": "display_data"
    },
    {
     "data": {
      "text/html": [
       "<pre style=\"white-space:pre;overflow-x:auto;line-height:normal;font-family:Menlo,'DejaVu Sans Mono',consolas,'Courier New',monospace\"><span style=\"color: #7fbfbf; text-decoration-color: #7fbfbf\">2024-02-01 16:59:31 </span><span style=\"color: #000080; text-decoration-color: #000080\">INFO    </span> Evaluating interpolated model with lambda: <span style=\"color: #008080; text-decoration-color: #008080; font-weight: bold\">0.9285714030265808</span>     <a href=\"file:///home/daniele/source/cycle-consistent-model-merging/src/ccmm/utils/utils.py\" target=\"_blank\"><span style=\"color: #7f7f7f; text-decoration-color: #7f7f7f\">ccmm.utils.utils</span></a><span style=\"color: #7f7f7f; text-decoration-color: #7f7f7f\">:</span><a href=\"file:///home/daniele/source/cycle-consistent-model-merging/src/ccmm/utils/utils.py#141\" target=\"_blank\"><span style=\"color: #7f7f7f; text-decoration-color: #7f7f7f\">141</span></a>\n",
       "</pre>\n"
      ],
      "text/plain": [
       "\u001b[2;36m2024-02-01 16:59:31\u001b[0m\u001b[2;36m \u001b[0m\u001b[34mINFO    \u001b[0m Evaluating interpolated model with lambda: \u001b[1;36m0.9285714030265808\u001b[0m     \u001b]8;id=649717;file:///home/daniele/source/cycle-consistent-model-merging/src/ccmm/utils/utils.py\u001b\\\u001b[2mccmm.utils.utils\u001b[0m\u001b]8;;\u001b\\\u001b[2m:\u001b[0m\u001b]8;id=319382;file:///home/daniele/source/cycle-consistent-model-merging/src/ccmm/utils/utils.py#141\u001b\\\u001b[2m141\u001b[0m\u001b]8;;\u001b\\\n"
      ]
     },
     "metadata": {},
     "output_type": "display_data"
    },
    {
     "data": {
      "text/html": [
       "<pre style=\"white-space:pre;overflow-x:auto;line-height:normal;font-family:Menlo,'DejaVu Sans Mono',consolas,'Courier New',monospace\"><span style=\"color: #7fbfbf; text-decoration-color: #7fbfbf\">2024-02-01 16:59:34 </span><span style=\"color: #000080; text-decoration-color: #000080\">INFO    </span> Evaluating interpolated model with lambda: <span style=\"color: #008080; text-decoration-color: #008080; font-weight: bold\">1.0</span>                    <a href=\"file:///home/daniele/source/cycle-consistent-model-merging/src/ccmm/utils/utils.py\" target=\"_blank\"><span style=\"color: #7f7f7f; text-decoration-color: #7f7f7f\">ccmm.utils.utils</span></a><span style=\"color: #7f7f7f; text-decoration-color: #7f7f7f\">:</span><a href=\"file:///home/daniele/source/cycle-consistent-model-merging/src/ccmm/utils/utils.py#141\" target=\"_blank\"><span style=\"color: #7f7f7f; text-decoration-color: #7f7f7f\">141</span></a>\n",
       "</pre>\n"
      ],
      "text/plain": [
       "\u001b[2;36m2024-02-01 16:59:34\u001b[0m\u001b[2;36m \u001b[0m\u001b[34mINFO    \u001b[0m Evaluating interpolated model with lambda: \u001b[1;36m1.0\u001b[0m                    \u001b]8;id=235507;file:///home/daniele/source/cycle-consistent-model-merging/src/ccmm/utils/utils.py\u001b\\\u001b[2mccmm.utils.utils\u001b[0m\u001b]8;;\u001b\\\u001b[2m:\u001b[0m\u001b]8;id=240512;file:///home/daniele/source/cycle-consistent-model-merging/src/ccmm/utils/utils.py#141\u001b\\\u001b[2m141\u001b[0m\u001b]8;;\u001b\\\n"
      ]
     },
     "metadata": {},
     "output_type": "display_data"
    },
    {
     "ename": "FileNotFoundError",
     "evalue": "[Errno 2] No such file or directory: './results/git_rebasin_subcycles.npz'",
     "output_type": "error",
     "traceback": [
      "\u001b[0;31m---------------------------------------------------------------------------\u001b[0m",
      "\u001b[0;31mFileNotFoundError\u001b[0m                         Traceback (most recent call last)",
      "Cell \u001b[0;32mIn[32], line 26\u001b[0m\n\u001b[1;32m     22\u001b[0m     losses, accs \u001b[38;5;241m=\u001b[39m get_interp_curve(lambdas, initial_model, permuted_model, ref_model)\n\u001b[1;32m     24\u001b[0m     output[key] \u001b[38;5;241m=\u001b[39m {\u001b[38;5;124m'\u001b[39m\u001b[38;5;124mx\u001b[39m\u001b[38;5;124m'\u001b[39m: lambdas\u001b[38;5;241m.\u001b[39mnumpy(), \u001b[38;5;124m'\u001b[39m\u001b[38;5;124mloss\u001b[39m\u001b[38;5;124m'\u001b[39m: np\u001b[38;5;241m.\u001b[39marray(losses), \u001b[38;5;124m'\u001b[39m\u001b[38;5;124macc\u001b[39m\u001b[38;5;124m'\u001b[39m: np\u001b[38;5;241m.\u001b[39marray(accs)}\n\u001b[0;32m---> 26\u001b[0m \u001b[43mnp\u001b[49m\u001b[38;5;241;43m.\u001b[39;49m\u001b[43msavez\u001b[49m\u001b[43m(\u001b[49m\u001b[38;5;124;43m'\u001b[39;49m\u001b[38;5;124;43m./results/git_rebasin_subcycles.npz\u001b[39;49m\u001b[38;5;124;43m'\u001b[39;49m\u001b[43m,\u001b[49m\u001b[43m \u001b[49m\u001b[38;5;241;43m*\u001b[39;49m\u001b[38;5;241;43m*\u001b[39;49m\u001b[43moutput\u001b[49m\u001b[43m)\u001b[49m\n",
      "File \u001b[0;32m~/miniconda3/envs/ccmm/lib/python3.9/site-packages/numpy/lib/npyio.py:639\u001b[0m, in \u001b[0;36msavez\u001b[0;34m(file, *args, **kwds)\u001b[0m\n\u001b[1;32m    555\u001b[0m \u001b[38;5;129m@array_function_dispatch\u001b[39m(_savez_dispatcher)\n\u001b[1;32m    556\u001b[0m \u001b[38;5;28;01mdef\u001b[39;00m \u001b[38;5;21msavez\u001b[39m(file, \u001b[38;5;241m*\u001b[39margs, \u001b[38;5;241m*\u001b[39m\u001b[38;5;241m*\u001b[39mkwds):\n\u001b[1;32m    557\u001b[0m \u001b[38;5;250m    \u001b[39m\u001b[38;5;124;03m\"\"\"Save several arrays into a single file in uncompressed ``.npz`` format.\u001b[39;00m\n\u001b[1;32m    558\u001b[0m \n\u001b[1;32m    559\u001b[0m \u001b[38;5;124;03m    Provide arrays as keyword arguments to store them under the\u001b[39;00m\n\u001b[0;32m   (...)\u001b[0m\n\u001b[1;32m    637\u001b[0m \n\u001b[1;32m    638\u001b[0m \u001b[38;5;124;03m    \"\"\"\u001b[39;00m\n\u001b[0;32m--> 639\u001b[0m     \u001b[43m_savez\u001b[49m\u001b[43m(\u001b[49m\u001b[43mfile\u001b[49m\u001b[43m,\u001b[49m\u001b[43m \u001b[49m\u001b[43margs\u001b[49m\u001b[43m,\u001b[49m\u001b[43m \u001b[49m\u001b[43mkwds\u001b[49m\u001b[43m,\u001b[49m\u001b[43m \u001b[49m\u001b[38;5;28;43;01mFalse\u001b[39;49;00m\u001b[43m)\u001b[49m\n",
      "File \u001b[0;32m~/miniconda3/envs/ccmm/lib/python3.9/site-packages/numpy/lib/npyio.py:736\u001b[0m, in \u001b[0;36m_savez\u001b[0;34m(file, args, kwds, compress, allow_pickle, pickle_kwargs)\u001b[0m\n\u001b[1;32m    733\u001b[0m \u001b[38;5;28;01melse\u001b[39;00m:\n\u001b[1;32m    734\u001b[0m     compression \u001b[38;5;241m=\u001b[39m zipfile\u001b[38;5;241m.\u001b[39mZIP_STORED\n\u001b[0;32m--> 736\u001b[0m zipf \u001b[38;5;241m=\u001b[39m \u001b[43mzipfile_factory\u001b[49m\u001b[43m(\u001b[49m\u001b[43mfile\u001b[49m\u001b[43m,\u001b[49m\u001b[43m \u001b[49m\u001b[43mmode\u001b[49m\u001b[38;5;241;43m=\u001b[39;49m\u001b[38;5;124;43m\"\u001b[39;49m\u001b[38;5;124;43mw\u001b[39;49m\u001b[38;5;124;43m\"\u001b[39;49m\u001b[43m,\u001b[49m\u001b[43m \u001b[49m\u001b[43mcompression\u001b[49m\u001b[38;5;241;43m=\u001b[39;49m\u001b[43mcompression\u001b[49m\u001b[43m)\u001b[49m\n\u001b[1;32m    738\u001b[0m \u001b[38;5;28;01mfor\u001b[39;00m key, val \u001b[38;5;129;01min\u001b[39;00m namedict\u001b[38;5;241m.\u001b[39mitems():\n\u001b[1;32m    739\u001b[0m     fname \u001b[38;5;241m=\u001b[39m key \u001b[38;5;241m+\u001b[39m \u001b[38;5;124m'\u001b[39m\u001b[38;5;124m.npy\u001b[39m\u001b[38;5;124m'\u001b[39m\n",
      "File \u001b[0;32m~/miniconda3/envs/ccmm/lib/python3.9/site-packages/numpy/lib/npyio.py:103\u001b[0m, in \u001b[0;36mzipfile_factory\u001b[0;34m(file, *args, **kwargs)\u001b[0m\n\u001b[1;32m    101\u001b[0m \u001b[38;5;28;01mimport\u001b[39;00m \u001b[38;5;21;01mzipfile\u001b[39;00m\n\u001b[1;32m    102\u001b[0m kwargs[\u001b[38;5;124m'\u001b[39m\u001b[38;5;124mallowZip64\u001b[39m\u001b[38;5;124m'\u001b[39m] \u001b[38;5;241m=\u001b[39m \u001b[38;5;28;01mTrue\u001b[39;00m\n\u001b[0;32m--> 103\u001b[0m \u001b[38;5;28;01mreturn\u001b[39;00m \u001b[43mzipfile\u001b[49m\u001b[38;5;241;43m.\u001b[39;49m\u001b[43mZipFile\u001b[49m\u001b[43m(\u001b[49m\u001b[43mfile\u001b[49m\u001b[43m,\u001b[49m\u001b[43m \u001b[49m\u001b[38;5;241;43m*\u001b[39;49m\u001b[43margs\u001b[49m\u001b[43m,\u001b[49m\u001b[43m \u001b[49m\u001b[38;5;241;43m*\u001b[39;49m\u001b[38;5;241;43m*\u001b[39;49m\u001b[43mkwargs\u001b[49m\u001b[43m)\u001b[49m\n",
      "File \u001b[0;32m~/miniconda3/envs/ccmm/lib/python3.9/zipfile.py:1248\u001b[0m, in \u001b[0;36mZipFile.__init__\u001b[0;34m(self, file, mode, compression, allowZip64, compresslevel, strict_timestamps)\u001b[0m\n\u001b[1;32m   1246\u001b[0m \u001b[38;5;28;01mwhile\u001b[39;00m \u001b[38;5;28;01mTrue\u001b[39;00m:\n\u001b[1;32m   1247\u001b[0m     \u001b[38;5;28;01mtry\u001b[39;00m:\n\u001b[0;32m-> 1248\u001b[0m         \u001b[38;5;28mself\u001b[39m\u001b[38;5;241m.\u001b[39mfp \u001b[38;5;241m=\u001b[39m \u001b[43mio\u001b[49m\u001b[38;5;241;43m.\u001b[39;49m\u001b[43mopen\u001b[49m\u001b[43m(\u001b[49m\u001b[43mfile\u001b[49m\u001b[43m,\u001b[49m\u001b[43m \u001b[49m\u001b[43mfilemode\u001b[49m\u001b[43m)\u001b[49m\n\u001b[1;32m   1249\u001b[0m     \u001b[38;5;28;01mexcept\u001b[39;00m \u001b[38;5;167;01mOSError\u001b[39;00m:\n\u001b[1;32m   1250\u001b[0m         \u001b[38;5;28;01mif\u001b[39;00m filemode \u001b[38;5;129;01min\u001b[39;00m modeDict:\n",
      "\u001b[0;31mFileNotFoundError\u001b[0m: [Errno 2] No such file or directory: './results/git_rebasin_subcycles.npz'"
     ]
    }
   ],
   "source": [
    "import itertools\n",
    "\n",
    "n = 4\n",
    "steps = 15\n",
    "cycles = list(itertools.combinations(list(symbols)[:-1], n-1))\n",
    "\n",
    "output = {}\n",
    "\n",
    "for c in cycles:\n",
    "    print(f\"Cycle: {c}\")\n",
    "    key = ''.join(c)\n",
    "    model_c = cyclic_permute(pairwise_perms_gitrebasin, list(c), models)\n",
    "    ordered_cycle = sorted(list(c))\n",
    "\n",
    "    initial_model = models[ordered_cycle[0]]\n",
    "    permuted_model = copy.deepcopy(initial_model)\n",
    "    permuted_model.model.load_state_dict(model_c)\n",
    "\n",
    "    print(f\"Model distance: {l2_norm_models(model_c, initial_model.model.state_dict())}\")\n",
    "\n",
    "    lambdas = torch.linspace(0, 1, steps, device='cpu')\n",
    "    losses, accs = get_interp_curve(lambdas, initial_model, permuted_model, ref_model)\n",
    "\n",
    "    output[key] = {'x': lambdas.numpy(), 'loss': np.array(losses), 'acc': np.array(accs)}\n",
    "\n",
    "np.savez('../results/git_rebasin_subcycles.npz', **output)\n",
    "    "
   ]
  },
  {
   "cell_type": "code",
   "execution_count": 35,
   "metadata": {},
   "outputs": [
    {
     "name": "stdout",
     "output_type": "stream",
     "text": [
      "Cycle: ('a', 'c', 'e')\n",
      "Model distance: 0.0\n"
     ]
    },
    {
     "data": {
      "text/html": [
       "<pre style=\"white-space:pre;overflow-x:auto;line-height:normal;font-family:Menlo,'DejaVu Sans Mono',consolas,'Courier New',monospace\"><span style=\"color: #7fbfbf; text-decoration-color: #7fbfbf\">2024-02-01 17:05:10 </span><span style=\"color: #000080; text-decoration-color: #000080\">INFO    </span> Evaluating interpolated model with lambda: <span style=\"color: #008080; text-decoration-color: #008080; font-weight: bold\">0.0</span>                    <a href=\"file:///home/daniele/source/cycle-consistent-model-merging/src/ccmm/utils/utils.py\" target=\"_blank\"><span style=\"color: #7f7f7f; text-decoration-color: #7f7f7f\">ccmm.utils.utils</span></a><span style=\"color: #7f7f7f; text-decoration-color: #7f7f7f\">:</span><a href=\"file:///home/daniele/source/cycle-consistent-model-merging/src/ccmm/utils/utils.py#141\" target=\"_blank\"><span style=\"color: #7f7f7f; text-decoration-color: #7f7f7f\">141</span></a>\n",
       "</pre>\n"
      ],
      "text/plain": [
       "\u001b[2;36m2024-02-01 17:05:10\u001b[0m\u001b[2;36m \u001b[0m\u001b[34mINFO    \u001b[0m Evaluating interpolated model with lambda: \u001b[1;36m0.0\u001b[0m                    \u001b]8;id=452015;file:///home/daniele/source/cycle-consistent-model-merging/src/ccmm/utils/utils.py\u001b\\\u001b[2mccmm.utils.utils\u001b[0m\u001b]8;;\u001b\\\u001b[2m:\u001b[0m\u001b]8;id=359054;file:///home/daniele/source/cycle-consistent-model-merging/src/ccmm/utils/utils.py#141\u001b\\\u001b[2m141\u001b[0m\u001b]8;;\u001b\\\n"
      ]
     },
     "metadata": {},
     "output_type": "display_data"
    },
    {
     "data": {
      "text/html": [
       "<pre style=\"white-space:pre;overflow-x:auto;line-height:normal;font-family:Menlo,'DejaVu Sans Mono',consolas,'Courier New',monospace\"><span style=\"color: #7fbfbf; text-decoration-color: #7fbfbf\">2024-02-01 17:05:13 </span><span style=\"color: #000080; text-decoration-color: #000080\">INFO    </span> Evaluating interpolated model with lambda: <span style=\"color: #008080; text-decoration-color: #008080; font-weight: bold\">0.0714285746216774</span>     <a href=\"file:///home/daniele/source/cycle-consistent-model-merging/src/ccmm/utils/utils.py\" target=\"_blank\"><span style=\"color: #7f7f7f; text-decoration-color: #7f7f7f\">ccmm.utils.utils</span></a><span style=\"color: #7f7f7f; text-decoration-color: #7f7f7f\">:</span><a href=\"file:///home/daniele/source/cycle-consistent-model-merging/src/ccmm/utils/utils.py#141\" target=\"_blank\"><span style=\"color: #7f7f7f; text-decoration-color: #7f7f7f\">141</span></a>\n",
       "</pre>\n"
      ],
      "text/plain": [
       "\u001b[2;36m2024-02-01 17:05:13\u001b[0m\u001b[2;36m \u001b[0m\u001b[34mINFO    \u001b[0m Evaluating interpolated model with lambda: \u001b[1;36m0.0714285746216774\u001b[0m     \u001b]8;id=601265;file:///home/daniele/source/cycle-consistent-model-merging/src/ccmm/utils/utils.py\u001b\\\u001b[2mccmm.utils.utils\u001b[0m\u001b]8;;\u001b\\\u001b[2m:\u001b[0m\u001b]8;id=730102;file:///home/daniele/source/cycle-consistent-model-merging/src/ccmm/utils/utils.py#141\u001b\\\u001b[2m141\u001b[0m\u001b]8;;\u001b\\\n"
      ]
     },
     "metadata": {},
     "output_type": "display_data"
    },
    {
     "data": {
      "text/html": [
       "<pre style=\"white-space:pre;overflow-x:auto;line-height:normal;font-family:Menlo,'DejaVu Sans Mono',consolas,'Courier New',monospace\"><span style=\"color: #7fbfbf; text-decoration-color: #7fbfbf\">2024-02-01 17:05:16 </span><span style=\"color: #000080; text-decoration-color: #000080\">INFO    </span> Evaluating interpolated model with lambda: <span style=\"color: #008080; text-decoration-color: #008080; font-weight: bold\">0.1428571492433548</span>     <a href=\"file:///home/daniele/source/cycle-consistent-model-merging/src/ccmm/utils/utils.py\" target=\"_blank\"><span style=\"color: #7f7f7f; text-decoration-color: #7f7f7f\">ccmm.utils.utils</span></a><span style=\"color: #7f7f7f; text-decoration-color: #7f7f7f\">:</span><a href=\"file:///home/daniele/source/cycle-consistent-model-merging/src/ccmm/utils/utils.py#141\" target=\"_blank\"><span style=\"color: #7f7f7f; text-decoration-color: #7f7f7f\">141</span></a>\n",
       "</pre>\n"
      ],
      "text/plain": [
       "\u001b[2;36m2024-02-01 17:05:16\u001b[0m\u001b[2;36m \u001b[0m\u001b[34mINFO    \u001b[0m Evaluating interpolated model with lambda: \u001b[1;36m0.1428571492433548\u001b[0m     \u001b]8;id=664614;file:///home/daniele/source/cycle-consistent-model-merging/src/ccmm/utils/utils.py\u001b\\\u001b[2mccmm.utils.utils\u001b[0m\u001b]8;;\u001b\\\u001b[2m:\u001b[0m\u001b]8;id=712033;file:///home/daniele/source/cycle-consistent-model-merging/src/ccmm/utils/utils.py#141\u001b\\\u001b[2m141\u001b[0m\u001b]8;;\u001b\\\n"
      ]
     },
     "metadata": {},
     "output_type": "display_data"
    },
    {
     "data": {
      "text/html": [
       "<pre style=\"white-space:pre;overflow-x:auto;line-height:normal;font-family:Menlo,'DejaVu Sans Mono',consolas,'Courier New',monospace\"><span style=\"color: #7fbfbf; text-decoration-color: #7fbfbf\">2024-02-01 17:05:20 </span><span style=\"color: #000080; text-decoration-color: #000080\">INFO    </span> Evaluating interpolated model with lambda: <span style=\"color: #008080; text-decoration-color: #008080; font-weight: bold\">0.2142857313156128</span>     <a href=\"file:///home/daniele/source/cycle-consistent-model-merging/src/ccmm/utils/utils.py\" target=\"_blank\"><span style=\"color: #7f7f7f; text-decoration-color: #7f7f7f\">ccmm.utils.utils</span></a><span style=\"color: #7f7f7f; text-decoration-color: #7f7f7f\">:</span><a href=\"file:///home/daniele/source/cycle-consistent-model-merging/src/ccmm/utils/utils.py#141\" target=\"_blank\"><span style=\"color: #7f7f7f; text-decoration-color: #7f7f7f\">141</span></a>\n",
       "</pre>\n"
      ],
      "text/plain": [
       "\u001b[2;36m2024-02-01 17:05:20\u001b[0m\u001b[2;36m \u001b[0m\u001b[34mINFO    \u001b[0m Evaluating interpolated model with lambda: \u001b[1;36m0.2142857313156128\u001b[0m     \u001b]8;id=134589;file:///home/daniele/source/cycle-consistent-model-merging/src/ccmm/utils/utils.py\u001b\\\u001b[2mccmm.utils.utils\u001b[0m\u001b]8;;\u001b\\\u001b[2m:\u001b[0m\u001b]8;id=514352;file:///home/daniele/source/cycle-consistent-model-merging/src/ccmm/utils/utils.py#141\u001b\\\u001b[2m141\u001b[0m\u001b]8;;\u001b\\\n"
      ]
     },
     "metadata": {},
     "output_type": "display_data"
    },
    {
     "data": {
      "text/html": [
       "<pre style=\"white-space:pre;overflow-x:auto;line-height:normal;font-family:Menlo,'DejaVu Sans Mono',consolas,'Courier New',monospace\"><span style=\"color: #7fbfbf; text-decoration-color: #7fbfbf\">2024-02-01 17:05:23 </span><span style=\"color: #000080; text-decoration-color: #000080\">INFO    </span> Evaluating interpolated model with lambda: <span style=\"color: #008080; text-decoration-color: #008080; font-weight: bold\">0.2857142984867096</span>     <a href=\"file:///home/daniele/source/cycle-consistent-model-merging/src/ccmm/utils/utils.py\" target=\"_blank\"><span style=\"color: #7f7f7f; text-decoration-color: #7f7f7f\">ccmm.utils.utils</span></a><span style=\"color: #7f7f7f; text-decoration-color: #7f7f7f\">:</span><a href=\"file:///home/daniele/source/cycle-consistent-model-merging/src/ccmm/utils/utils.py#141\" target=\"_blank\"><span style=\"color: #7f7f7f; text-decoration-color: #7f7f7f\">141</span></a>\n",
       "</pre>\n"
      ],
      "text/plain": [
       "\u001b[2;36m2024-02-01 17:05:23\u001b[0m\u001b[2;36m \u001b[0m\u001b[34mINFO    \u001b[0m Evaluating interpolated model with lambda: \u001b[1;36m0.2857142984867096\u001b[0m     \u001b]8;id=248295;file:///home/daniele/source/cycle-consistent-model-merging/src/ccmm/utils/utils.py\u001b\\\u001b[2mccmm.utils.utils\u001b[0m\u001b]8;;\u001b\\\u001b[2m:\u001b[0m\u001b]8;id=183477;file:///home/daniele/source/cycle-consistent-model-merging/src/ccmm/utils/utils.py#141\u001b\\\u001b[2m141\u001b[0m\u001b]8;;\u001b\\\n"
      ]
     },
     "metadata": {},
     "output_type": "display_data"
    },
    {
     "data": {
      "text/html": [
       "<pre style=\"white-space:pre;overflow-x:auto;line-height:normal;font-family:Menlo,'DejaVu Sans Mono',consolas,'Courier New',monospace\"><span style=\"color: #7fbfbf; text-decoration-color: #7fbfbf\">2024-02-01 17:05:27 </span><span style=\"color: #000080; text-decoration-color: #000080\">INFO    </span> Evaluating interpolated model with lambda: <span style=\"color: #008080; text-decoration-color: #008080; font-weight: bold\">0.3571428656578064</span>     <a href=\"file:///home/daniele/source/cycle-consistent-model-merging/src/ccmm/utils/utils.py\" target=\"_blank\"><span style=\"color: #7f7f7f; text-decoration-color: #7f7f7f\">ccmm.utils.utils</span></a><span style=\"color: #7f7f7f; text-decoration-color: #7f7f7f\">:</span><a href=\"file:///home/daniele/source/cycle-consistent-model-merging/src/ccmm/utils/utils.py#141\" target=\"_blank\"><span style=\"color: #7f7f7f; text-decoration-color: #7f7f7f\">141</span></a>\n",
       "</pre>\n"
      ],
      "text/plain": [
       "\u001b[2;36m2024-02-01 17:05:27\u001b[0m\u001b[2;36m \u001b[0m\u001b[34mINFO    \u001b[0m Evaluating interpolated model with lambda: \u001b[1;36m0.3571428656578064\u001b[0m     \u001b]8;id=767226;file:///home/daniele/source/cycle-consistent-model-merging/src/ccmm/utils/utils.py\u001b\\\u001b[2mccmm.utils.utils\u001b[0m\u001b]8;;\u001b\\\u001b[2m:\u001b[0m\u001b]8;id=211791;file:///home/daniele/source/cycle-consistent-model-merging/src/ccmm/utils/utils.py#141\u001b\\\u001b[2m141\u001b[0m\u001b]8;;\u001b\\\n"
      ]
     },
     "metadata": {},
     "output_type": "display_data"
    },
    {
     "data": {
      "text/html": [
       "<pre style=\"white-space:pre;overflow-x:auto;line-height:normal;font-family:Menlo,'DejaVu Sans Mono',consolas,'Courier New',monospace\"><span style=\"color: #7fbfbf; text-decoration-color: #7fbfbf\">2024-02-01 17:05:30 </span><span style=\"color: #000080; text-decoration-color: #000080\">INFO    </span> Evaluating interpolated model with lambda: <span style=\"color: #008080; text-decoration-color: #008080; font-weight: bold\">0.4285714626312256</span>     <a href=\"file:///home/daniele/source/cycle-consistent-model-merging/src/ccmm/utils/utils.py\" target=\"_blank\"><span style=\"color: #7f7f7f; text-decoration-color: #7f7f7f\">ccmm.utils.utils</span></a><span style=\"color: #7f7f7f; text-decoration-color: #7f7f7f\">:</span><a href=\"file:///home/daniele/source/cycle-consistent-model-merging/src/ccmm/utils/utils.py#141\" target=\"_blank\"><span style=\"color: #7f7f7f; text-decoration-color: #7f7f7f\">141</span></a>\n",
       "</pre>\n"
      ],
      "text/plain": [
       "\u001b[2;36m2024-02-01 17:05:30\u001b[0m\u001b[2;36m \u001b[0m\u001b[34mINFO    \u001b[0m Evaluating interpolated model with lambda: \u001b[1;36m0.4285714626312256\u001b[0m     \u001b]8;id=830387;file:///home/daniele/source/cycle-consistent-model-merging/src/ccmm/utils/utils.py\u001b\\\u001b[2mccmm.utils.utils\u001b[0m\u001b]8;;\u001b\\\u001b[2m:\u001b[0m\u001b]8;id=995462;file:///home/daniele/source/cycle-consistent-model-merging/src/ccmm/utils/utils.py#141\u001b\\\u001b[2m141\u001b[0m\u001b]8;;\u001b\\\n"
      ]
     },
     "metadata": {},
     "output_type": "display_data"
    },
    {
     "data": {
      "text/html": [
       "<pre style=\"white-space:pre;overflow-x:auto;line-height:normal;font-family:Menlo,'DejaVu Sans Mono',consolas,'Courier New',monospace\"><span style=\"color: #7fbfbf; text-decoration-color: #7fbfbf\">2024-02-01 17:05:33 </span><span style=\"color: #000080; text-decoration-color: #000080\">INFO    </span> Evaluating interpolated model with lambda: <span style=\"color: #008080; text-decoration-color: #008080; font-weight: bold\">0.4999999701976776</span>     <a href=\"file:///home/daniele/source/cycle-consistent-model-merging/src/ccmm/utils/utils.py\" target=\"_blank\"><span style=\"color: #7f7f7f; text-decoration-color: #7f7f7f\">ccmm.utils.utils</span></a><span style=\"color: #7f7f7f; text-decoration-color: #7f7f7f\">:</span><a href=\"file:///home/daniele/source/cycle-consistent-model-merging/src/ccmm/utils/utils.py#141\" target=\"_blank\"><span style=\"color: #7f7f7f; text-decoration-color: #7f7f7f\">141</span></a>\n",
       "</pre>\n"
      ],
      "text/plain": [
       "\u001b[2;36m2024-02-01 17:05:33\u001b[0m\u001b[2;36m \u001b[0m\u001b[34mINFO    \u001b[0m Evaluating interpolated model with lambda: \u001b[1;36m0.4999999701976776\u001b[0m     \u001b]8;id=88857;file:///home/daniele/source/cycle-consistent-model-merging/src/ccmm/utils/utils.py\u001b\\\u001b[2mccmm.utils.utils\u001b[0m\u001b]8;;\u001b\\\u001b[2m:\u001b[0m\u001b]8;id=643752;file:///home/daniele/source/cycle-consistent-model-merging/src/ccmm/utils/utils.py#141\u001b\\\u001b[2m141\u001b[0m\u001b]8;;\u001b\\\n"
      ]
     },
     "metadata": {},
     "output_type": "display_data"
    },
    {
     "data": {
      "text/html": [
       "<pre style=\"white-space:pre;overflow-x:auto;line-height:normal;font-family:Menlo,'DejaVu Sans Mono',consolas,'Courier New',monospace\"><span style=\"color: #7fbfbf; text-decoration-color: #7fbfbf\">2024-02-01 17:05:37 </span><span style=\"color: #000080; text-decoration-color: #000080\">INFO    </span> Evaluating interpolated model with lambda: <span style=\"color: #008080; text-decoration-color: #008080; font-weight: bold\">0.5714285373687744</span>     <a href=\"file:///home/daniele/source/cycle-consistent-model-merging/src/ccmm/utils/utils.py\" target=\"_blank\"><span style=\"color: #7f7f7f; text-decoration-color: #7f7f7f\">ccmm.utils.utils</span></a><span style=\"color: #7f7f7f; text-decoration-color: #7f7f7f\">:</span><a href=\"file:///home/daniele/source/cycle-consistent-model-merging/src/ccmm/utils/utils.py#141\" target=\"_blank\"><span style=\"color: #7f7f7f; text-decoration-color: #7f7f7f\">141</span></a>\n",
       "</pre>\n"
      ],
      "text/plain": [
       "\u001b[2;36m2024-02-01 17:05:37\u001b[0m\u001b[2;36m \u001b[0m\u001b[34mINFO    \u001b[0m Evaluating interpolated model with lambda: \u001b[1;36m0.5714285373687744\u001b[0m     \u001b]8;id=252208;file:///home/daniele/source/cycle-consistent-model-merging/src/ccmm/utils/utils.py\u001b\\\u001b[2mccmm.utils.utils\u001b[0m\u001b]8;;\u001b\\\u001b[2m:\u001b[0m\u001b]8;id=425423;file:///home/daniele/source/cycle-consistent-model-merging/src/ccmm/utils/utils.py#141\u001b\\\u001b[2m141\u001b[0m\u001b]8;;\u001b\\\n"
      ]
     },
     "metadata": {},
     "output_type": "display_data"
    },
    {
     "data": {
      "text/html": [
       "<pre style=\"white-space:pre;overflow-x:auto;line-height:normal;font-family:Menlo,'DejaVu Sans Mono',consolas,'Courier New',monospace\"><span style=\"color: #7fbfbf; text-decoration-color: #7fbfbf\">2024-02-01 17:05:40 </span><span style=\"color: #000080; text-decoration-color: #000080\">INFO    </span> Evaluating interpolated model with lambda: <span style=\"color: #008080; text-decoration-color: #008080; font-weight: bold\">0.6428571343421936</span>     <a href=\"file:///home/daniele/source/cycle-consistent-model-merging/src/ccmm/utils/utils.py\" target=\"_blank\"><span style=\"color: #7f7f7f; text-decoration-color: #7f7f7f\">ccmm.utils.utils</span></a><span style=\"color: #7f7f7f; text-decoration-color: #7f7f7f\">:</span><a href=\"file:///home/daniele/source/cycle-consistent-model-merging/src/ccmm/utils/utils.py#141\" target=\"_blank\"><span style=\"color: #7f7f7f; text-decoration-color: #7f7f7f\">141</span></a>\n",
       "</pre>\n"
      ],
      "text/plain": [
       "\u001b[2;36m2024-02-01 17:05:40\u001b[0m\u001b[2;36m \u001b[0m\u001b[34mINFO    \u001b[0m Evaluating interpolated model with lambda: \u001b[1;36m0.6428571343421936\u001b[0m     \u001b]8;id=491938;file:///home/daniele/source/cycle-consistent-model-merging/src/ccmm/utils/utils.py\u001b\\\u001b[2mccmm.utils.utils\u001b[0m\u001b]8;;\u001b\\\u001b[2m:\u001b[0m\u001b]8;id=369055;file:///home/daniele/source/cycle-consistent-model-merging/src/ccmm/utils/utils.py#141\u001b\\\u001b[2m141\u001b[0m\u001b]8;;\u001b\\\n"
      ]
     },
     "metadata": {},
     "output_type": "display_data"
    },
    {
     "data": {
      "text/html": [
       "<pre style=\"white-space:pre;overflow-x:auto;line-height:normal;font-family:Menlo,'DejaVu Sans Mono',consolas,'Courier New',monospace\"><span style=\"color: #7fbfbf; text-decoration-color: #7fbfbf\">2024-02-01 17:05:43 </span><span style=\"color: #000080; text-decoration-color: #000080\">INFO    </span> Evaluating interpolated model with lambda: <span style=\"color: #008080; text-decoration-color: #008080; font-weight: bold\">0.7142857313156128</span>     <a href=\"file:///home/daniele/source/cycle-consistent-model-merging/src/ccmm/utils/utils.py\" target=\"_blank\"><span style=\"color: #7f7f7f; text-decoration-color: #7f7f7f\">ccmm.utils.utils</span></a><span style=\"color: #7f7f7f; text-decoration-color: #7f7f7f\">:</span><a href=\"file:///home/daniele/source/cycle-consistent-model-merging/src/ccmm/utils/utils.py#141\" target=\"_blank\"><span style=\"color: #7f7f7f; text-decoration-color: #7f7f7f\">141</span></a>\n",
       "</pre>\n"
      ],
      "text/plain": [
       "\u001b[2;36m2024-02-01 17:05:43\u001b[0m\u001b[2;36m \u001b[0m\u001b[34mINFO    \u001b[0m Evaluating interpolated model with lambda: \u001b[1;36m0.7142857313156128\u001b[0m     \u001b]8;id=391543;file:///home/daniele/source/cycle-consistent-model-merging/src/ccmm/utils/utils.py\u001b\\\u001b[2mccmm.utils.utils\u001b[0m\u001b]8;;\u001b\\\u001b[2m:\u001b[0m\u001b]8;id=550396;file:///home/daniele/source/cycle-consistent-model-merging/src/ccmm/utils/utils.py#141\u001b\\\u001b[2m141\u001b[0m\u001b]8;;\u001b\\\n"
      ]
     },
     "metadata": {},
     "output_type": "display_data"
    },
    {
     "data": {
      "text/html": [
       "<pre style=\"white-space:pre;overflow-x:auto;line-height:normal;font-family:Menlo,'DejaVu Sans Mono',consolas,'Courier New',monospace\"><span style=\"color: #7fbfbf; text-decoration-color: #7fbfbf\">2024-02-01 17:05:47 </span><span style=\"color: #000080; text-decoration-color: #000080\">INFO    </span> Evaluating interpolated model with lambda: <span style=\"color: #008080; text-decoration-color: #008080; font-weight: bold\">0.7857142686843872</span>     <a href=\"file:///home/daniele/source/cycle-consistent-model-merging/src/ccmm/utils/utils.py\" target=\"_blank\"><span style=\"color: #7f7f7f; text-decoration-color: #7f7f7f\">ccmm.utils.utils</span></a><span style=\"color: #7f7f7f; text-decoration-color: #7f7f7f\">:</span><a href=\"file:///home/daniele/source/cycle-consistent-model-merging/src/ccmm/utils/utils.py#141\" target=\"_blank\"><span style=\"color: #7f7f7f; text-decoration-color: #7f7f7f\">141</span></a>\n",
       "</pre>\n"
      ],
      "text/plain": [
       "\u001b[2;36m2024-02-01 17:05:47\u001b[0m\u001b[2;36m \u001b[0m\u001b[34mINFO    \u001b[0m Evaluating interpolated model with lambda: \u001b[1;36m0.7857142686843872\u001b[0m     \u001b]8;id=821745;file:///home/daniele/source/cycle-consistent-model-merging/src/ccmm/utils/utils.py\u001b\\\u001b[2mccmm.utils.utils\u001b[0m\u001b]8;;\u001b\\\u001b[2m:\u001b[0m\u001b]8;id=537774;file:///home/daniele/source/cycle-consistent-model-merging/src/ccmm/utils/utils.py#141\u001b\\\u001b[2m141\u001b[0m\u001b]8;;\u001b\\\n"
      ]
     },
     "metadata": {},
     "output_type": "display_data"
    },
    {
     "data": {
      "text/html": [
       "<pre style=\"white-space:pre;overflow-x:auto;line-height:normal;font-family:Menlo,'DejaVu Sans Mono',consolas,'Courier New',monospace\"><span style=\"color: #7fbfbf; text-decoration-color: #7fbfbf\">2024-02-01 17:05:50 </span><span style=\"color: #000080; text-decoration-color: #000080\">INFO    </span> Evaluating interpolated model with lambda: <span style=\"color: #008080; text-decoration-color: #008080; font-weight: bold\">0.8571428656578064</span>     <a href=\"file:///home/daniele/source/cycle-consistent-model-merging/src/ccmm/utils/utils.py\" target=\"_blank\"><span style=\"color: #7f7f7f; text-decoration-color: #7f7f7f\">ccmm.utils.utils</span></a><span style=\"color: #7f7f7f; text-decoration-color: #7f7f7f\">:</span><a href=\"file:///home/daniele/source/cycle-consistent-model-merging/src/ccmm/utils/utils.py#141\" target=\"_blank\"><span style=\"color: #7f7f7f; text-decoration-color: #7f7f7f\">141</span></a>\n",
       "</pre>\n"
      ],
      "text/plain": [
       "\u001b[2;36m2024-02-01 17:05:50\u001b[0m\u001b[2;36m \u001b[0m\u001b[34mINFO    \u001b[0m Evaluating interpolated model with lambda: \u001b[1;36m0.8571428656578064\u001b[0m     \u001b]8;id=570715;file:///home/daniele/source/cycle-consistent-model-merging/src/ccmm/utils/utils.py\u001b\\\u001b[2mccmm.utils.utils\u001b[0m\u001b]8;;\u001b\\\u001b[2m:\u001b[0m\u001b]8;id=419483;file:///home/daniele/source/cycle-consistent-model-merging/src/ccmm/utils/utils.py#141\u001b\\\u001b[2m141\u001b[0m\u001b]8;;\u001b\\\n"
      ]
     },
     "metadata": {},
     "output_type": "display_data"
    },
    {
     "data": {
      "text/html": [
       "<pre style=\"white-space:pre;overflow-x:auto;line-height:normal;font-family:Menlo,'DejaVu Sans Mono',consolas,'Courier New',monospace\"><span style=\"color: #7fbfbf; text-decoration-color: #7fbfbf\">2024-02-01 17:05:53 </span><span style=\"color: #000080; text-decoration-color: #000080\">INFO    </span> Evaluating interpolated model with lambda: <span style=\"color: #008080; text-decoration-color: #008080; font-weight: bold\">0.9285714030265808</span>     <a href=\"file:///home/daniele/source/cycle-consistent-model-merging/src/ccmm/utils/utils.py\" target=\"_blank\"><span style=\"color: #7f7f7f; text-decoration-color: #7f7f7f\">ccmm.utils.utils</span></a><span style=\"color: #7f7f7f; text-decoration-color: #7f7f7f\">:</span><a href=\"file:///home/daniele/source/cycle-consistent-model-merging/src/ccmm/utils/utils.py#141\" target=\"_blank\"><span style=\"color: #7f7f7f; text-decoration-color: #7f7f7f\">141</span></a>\n",
       "</pre>\n"
      ],
      "text/plain": [
       "\u001b[2;36m2024-02-01 17:05:53\u001b[0m\u001b[2;36m \u001b[0m\u001b[34mINFO    \u001b[0m Evaluating interpolated model with lambda: \u001b[1;36m0.9285714030265808\u001b[0m     \u001b]8;id=616275;file:///home/daniele/source/cycle-consistent-model-merging/src/ccmm/utils/utils.py\u001b\\\u001b[2mccmm.utils.utils\u001b[0m\u001b]8;;\u001b\\\u001b[2m:\u001b[0m\u001b]8;id=74456;file:///home/daniele/source/cycle-consistent-model-merging/src/ccmm/utils/utils.py#141\u001b\\\u001b[2m141\u001b[0m\u001b]8;;\u001b\\\n"
      ]
     },
     "metadata": {},
     "output_type": "display_data"
    },
    {
     "name": "stderr",
     "output_type": "stream",
     "text": [
      "/home/daniele/miniconda3/envs/ccmm/lib/python3.9/site-packages/pytorch_lightning/trainer/trainer.py:653: UserWarning: Detected KeyboardInterrupt, attempting graceful shutdown...\n",
      "  rank_zero_warn(\"Detected KeyboardInterrupt, attempting graceful shutdown...\")\n"
     ]
    },
    {
     "ename": "TypeError",
     "evalue": "'NoneType' object is not subscriptable",
     "output_type": "error",
     "traceback": [
      "\u001b[0;31m---------------------------------------------------------------------------\u001b[0m",
      "\u001b[0;31mTypeError\u001b[0m                                 Traceback (most recent call last)",
      "Cell \u001b[0;32mIn[35], line 16\u001b[0m\n\u001b[1;32m     13\u001b[0m     \u001b[38;5;28mprint\u001b[39m(\u001b[38;5;124mf\u001b[39m\u001b[38;5;124m\"\u001b[39m\u001b[38;5;124mModel distance: \u001b[39m\u001b[38;5;132;01m{\u001b[39;00ml2_norm_models(model_c,\u001b[38;5;250m \u001b[39minitial_model\u001b[38;5;241m.\u001b[39mmodel\u001b[38;5;241m.\u001b[39mstate_dict())\u001b[38;5;132;01m}\u001b[39;00m\u001b[38;5;124m\"\u001b[39m)\n\u001b[1;32m     15\u001b[0m     lambdas \u001b[38;5;241m=\u001b[39m torch\u001b[38;5;241m.\u001b[39mlinspace(\u001b[38;5;241m0\u001b[39m, \u001b[38;5;241m1\u001b[39m, steps, device\u001b[38;5;241m=\u001b[39m\u001b[38;5;124m'\u001b[39m\u001b[38;5;124mcpu\u001b[39m\u001b[38;5;124m'\u001b[39m)\n\u001b[0;32m---> 16\u001b[0m     losses, accs \u001b[38;5;241m=\u001b[39m \u001b[43mget_interp_curve\u001b[49m\u001b[43m(\u001b[49m\u001b[43mlambdas\u001b[49m\u001b[43m,\u001b[49m\u001b[43m \u001b[49m\u001b[43minitial_model\u001b[49m\u001b[43m,\u001b[49m\u001b[43m \u001b[49m\u001b[43mpermuted_model\u001b[49m\u001b[43m,\u001b[49m\u001b[43m \u001b[49m\u001b[43mref_model\u001b[49m\u001b[43m)\u001b[49m\n\u001b[1;32m     18\u001b[0m     output[key] \u001b[38;5;241m=\u001b[39m {\u001b[38;5;124m'\u001b[39m\u001b[38;5;124mx\u001b[39m\u001b[38;5;124m'\u001b[39m: lambdas\u001b[38;5;241m.\u001b[39mnumpy(), \u001b[38;5;124m'\u001b[39m\u001b[38;5;124mloss\u001b[39m\u001b[38;5;124m'\u001b[39m: np\u001b[38;5;241m.\u001b[39marray(losses), \u001b[38;5;124m'\u001b[39m\u001b[38;5;124macc\u001b[39m\u001b[38;5;124m'\u001b[39m: np\u001b[38;5;241m.\u001b[39marray(accs)}\n\u001b[1;32m     20\u001b[0m np\u001b[38;5;241m.\u001b[39msavez(\u001b[38;5;124m'\u001b[39m\u001b[38;5;124m../results/frank_wolfe_subcycles.npz\u001b[39m\u001b[38;5;124m'\u001b[39m, \u001b[38;5;241m*\u001b[39m\u001b[38;5;241m*\u001b[39moutput)\n",
      "Cell \u001b[0;32mIn[31], line 19\u001b[0m, in \u001b[0;36mget_interp_curve\u001b[0;34m(lambdas, model_a, model_b, ref_model)\u001b[0m\n\u001b[1;32m     16\u001b[0m interp_accs \u001b[38;5;241m=\u001b[39m []\n\u001b[1;32m     18\u001b[0m \u001b[38;5;28;01mfor\u001b[39;00m lamb \u001b[38;5;129;01min\u001b[39;00m lambdas:\n\u001b[0;32m---> 19\u001b[0m     interp_results \u001b[38;5;241m=\u001b[39m \u001b[43mevaluate_interpolated_model\u001b[49m\u001b[43m(\u001b[49m\u001b[43mmodel_a\u001b[49m\u001b[38;5;241;43m=\u001b[39;49m\u001b[43mmodel_a\u001b[49m\u001b[43m,\u001b[49m\u001b[43m \u001b[49m\u001b[43mmodel_b\u001b[49m\u001b[38;5;241;43m=\u001b[39;49m\u001b[43mmodel_b\u001b[49m\u001b[43m,\u001b[49m\u001b[43m \u001b[49m\u001b[43mlambd\u001b[49m\u001b[38;5;241;43m=\u001b[39;49m\u001b[43mlamb\u001b[49m\u001b[43m,\u001b[49m\u001b[43m \u001b[49m\u001b[43mref_model\u001b[49m\u001b[38;5;241;43m=\u001b[39;49m\u001b[43mref_model\u001b[49m\u001b[43m)\u001b[49m\n\u001b[1;32m     21\u001b[0m     interp_losses\u001b[38;5;241m.\u001b[39mappend(interp_results[\u001b[38;5;124mf\u001b[39m\u001b[38;5;124m\"\u001b[39m\u001b[38;5;124mloss/test\u001b[39m\u001b[38;5;124m\"\u001b[39m])\n\u001b[1;32m     22\u001b[0m     interp_accs\u001b[38;5;241m.\u001b[39mappend(interp_results[\u001b[38;5;124mf\u001b[39m\u001b[38;5;124m\"\u001b[39m\u001b[38;5;124macc/test\u001b[39m\u001b[38;5;124m\"\u001b[39m])\n",
      "Cell \u001b[0;32mIn[31], line 9\u001b[0m, in \u001b[0;36mevaluate_interpolated_model\u001b[0;34m(lambd, model_a, model_b, ref_model)\u001b[0m\n\u001b[1;32m      3\u001b[0m interp_params \u001b[38;5;241m=\u001b[39m linear_interpolate_state_dicts(\n\u001b[1;32m      4\u001b[0m     t1\u001b[38;5;241m=\u001b[39mmodel_a\u001b[38;5;241m.\u001b[39mmodel\u001b[38;5;241m.\u001b[39mstate_dict(), t2\u001b[38;5;241m=\u001b[39mmodel_b\u001b[38;5;241m.\u001b[39mmodel\u001b[38;5;241m.\u001b[39mstate_dict(), lam\u001b[38;5;241m=\u001b[39mlambd\n\u001b[1;32m      5\u001b[0m )\n\u001b[1;32m      7\u001b[0m ref_model\u001b[38;5;241m.\u001b[39mmodel\u001b[38;5;241m.\u001b[39mload_state_dict(interp_params)\n\u001b[0;32m----> 9\u001b[0m test_results \u001b[38;5;241m=\u001b[39m \u001b[43mtrainer\u001b[49m\u001b[38;5;241;43m.\u001b[39;49m\u001b[43mtest\u001b[49m\u001b[43m(\u001b[49m\u001b[43mref_model\u001b[49m\u001b[43m,\u001b[49m\u001b[43m \u001b[49m\u001b[43mtest_loader\u001b[49m\u001b[43m,\u001b[49m\u001b[43m \u001b[49m\u001b[43mverbose\u001b[49m\u001b[38;5;241;43m=\u001b[39;49m\u001b[38;5;28;43;01mFalse\u001b[39;49;00m\u001b[43m)\u001b[49m\u001b[43m[\u001b[49m\u001b[38;5;241;43m0\u001b[39;49m\u001b[43m]\u001b[49m\n\u001b[1;32m     11\u001b[0m \u001b[38;5;28;01mreturn\u001b[39;00m test_results\n",
      "\u001b[0;31mTypeError\u001b[0m: 'NoneType' object is not subscriptable"
     ]
    }
   ],
   "source": [
    "output = {}\n",
    "\n",
    "for c in cycles:\n",
    "    print(f\"Cycle: {c}\")\n",
    "    key = ''.join(c)\n",
    "    model_c = cyclic_permute(pairwise_permutations, list(c), models)\n",
    "    ordered_cycle = sorted(list(c))\n",
    "\n",
    "    initial_model = models[ordered_cycle[0]]\n",
    "    permuted_model = copy.deepcopy(initial_model)\n",
    "    permuted_model.model.load_state_dict(model_c)\n",
    "\n",
    "    print(f\"Model distance: {l2_norm_models(model_c, initial_model.model.state_dict())}\")\n",
    "\n",
    "    lambdas = torch.linspace(0, 1, steps, device='cpu')\n",
    "    losses, accs = get_interp_curve(lambdas, initial_model, permuted_model, ref_model)\n",
    "\n",
    "    output[key] = {'x': lambdas.numpy(), 'loss': np.array(losses), 'acc': np.array(accs)}\n",
    "\n",
    "np.savez('../results/frank_wolfe_subcycles.npz', **output)"
   ]
  },
  {
   "cell_type": "code",
   "execution_count": 76,
   "metadata": {},
   "outputs": [
    {
     "name": "stdout",
     "output_type": "stream",
     "text": [
      "next: b -- prev: a\n",
      "next: c -- prev: b\n",
      "next: d -- prev: c\n",
      "next: e -- prev: d\n",
      "next: a -- prev: e\n"
     ]
    }
   ],
   "source": [
    "'''\n",
    "ordered_symbs = sorted(list(symbols))\n",
    "model_current = models[ordered_symbs[0]].model.state_dict()\n",
    "\n",
    "for i, symb in enumerate(ordered_symbs[1:] + [ordered_symbs[0]]):\n",
    "    print(\"next: {} -- prev: {}\".format(symb, ordered_symbs[i]))\n",
    "    permutation = pairwise_perms_gitrebasin[symb][ordered_symbs[i]]\n",
    "    model_current = apply_permutation_to_statedict(\n",
    "        permutation_spec, permutation, model_current\n",
    "    )\n",
    "'''\n",
    "model_current = cyclic_permute(pairwise_perms_gitrebasin, symbols, models)"
   ]
  },
  {
   "cell_type": "code",
   "execution_count": 77,
   "metadata": {},
   "outputs": [
    {
     "name": "stdout",
     "output_type": "stream",
     "text": [
      "Model distance: 41.915000915527344\n"
     ]
    },
    {
     "data": {
      "text/html": [
       "<pre style=\"white-space:pre;overflow-x:auto;line-height:normal;font-family:Menlo,'DejaVu Sans Mono',consolas,'Courier New',monospace\"><span style=\"color: #7fbfbf; text-decoration-color: #7fbfbf\">2024-01-30 16:59:52 </span><span style=\"color: #000080; text-decoration-color: #000080\">INFO    </span> Evaluating interpolated model with lambda: <span style=\"color: #008080; text-decoration-color: #008080; font-weight: bold\">0.0</span>                    <a href=\"file:///home/daniele/source/cycle-consistent-model-merging/src/ccmm/utils/utils.py\" target=\"_blank\"><span style=\"color: #7f7f7f; text-decoration-color: #7f7f7f\">ccmm.utils.utils</span></a><span style=\"color: #7f7f7f; text-decoration-color: #7f7f7f\">:</span><a href=\"file:///home/daniele/source/cycle-consistent-model-merging/src/ccmm/utils/utils.py#141\" target=\"_blank\"><span style=\"color: #7f7f7f; text-decoration-color: #7f7f7f\">141</span></a>\n",
       "</pre>\n"
      ],
      "text/plain": [
       "\u001b[2;36m2024-01-30 16:59:52\u001b[0m\u001b[2;36m \u001b[0m\u001b[34mINFO    \u001b[0m Evaluating interpolated model with lambda: \u001b[1;36m0.0\u001b[0m                    \u001b]8;id=961620;file:///home/daniele/source/cycle-consistent-model-merging/src/ccmm/utils/utils.py\u001b\\\u001b[2mccmm.utils.utils\u001b[0m\u001b]8;;\u001b\\\u001b[2m:\u001b[0m\u001b]8;id=215536;file:///home/daniele/source/cycle-consistent-model-merging/src/ccmm/utils/utils.py#141\u001b\\\u001b[2m141\u001b[0m\u001b]8;;\u001b\\\n"
      ]
     },
     "metadata": {},
     "output_type": "display_data"
    },
    {
     "data": {
      "text/html": [
       "<pre style=\"white-space:pre;overflow-x:auto;line-height:normal;font-family:Menlo,'DejaVu Sans Mono',consolas,'Courier New',monospace\"><span style=\"color: #7fbfbf; text-decoration-color: #7fbfbf\">2024-01-30 16:59:54 </span><span style=\"color: #000080; text-decoration-color: #000080\">INFO    </span> Evaluating interpolated model with lambda: <span style=\"color: #008080; text-decoration-color: #008080; font-weight: bold\">0.25</span>                   <a href=\"file:///home/daniele/source/cycle-consistent-model-merging/src/ccmm/utils/utils.py\" target=\"_blank\"><span style=\"color: #7f7f7f; text-decoration-color: #7f7f7f\">ccmm.utils.utils</span></a><span style=\"color: #7f7f7f; text-decoration-color: #7f7f7f\">:</span><a href=\"file:///home/daniele/source/cycle-consistent-model-merging/src/ccmm/utils/utils.py#141\" target=\"_blank\"><span style=\"color: #7f7f7f; text-decoration-color: #7f7f7f\">141</span></a>\n",
       "</pre>\n"
      ],
      "text/plain": [
       "\u001b[2;36m2024-01-30 16:59:54\u001b[0m\u001b[2;36m \u001b[0m\u001b[34mINFO    \u001b[0m Evaluating interpolated model with lambda: \u001b[1;36m0.25\u001b[0m                   \u001b]8;id=372629;file:///home/daniele/source/cycle-consistent-model-merging/src/ccmm/utils/utils.py\u001b\\\u001b[2mccmm.utils.utils\u001b[0m\u001b]8;;\u001b\\\u001b[2m:\u001b[0m\u001b]8;id=454074;file:///home/daniele/source/cycle-consistent-model-merging/src/ccmm/utils/utils.py#141\u001b\\\u001b[2m141\u001b[0m\u001b]8;;\u001b\\\n"
      ]
     },
     "metadata": {},
     "output_type": "display_data"
    },
    {
     "data": {
      "text/html": [
       "<pre style=\"white-space:pre;overflow-x:auto;line-height:normal;font-family:Menlo,'DejaVu Sans Mono',consolas,'Courier New',monospace\"><span style=\"color: #7fbfbf; text-decoration-color: #7fbfbf\">2024-01-30 16:59:55 </span><span style=\"color: #000080; text-decoration-color: #000080\">INFO    </span> Evaluating interpolated model with lambda: <span style=\"color: #008080; text-decoration-color: #008080; font-weight: bold\">0.5</span>                    <a href=\"file:///home/daniele/source/cycle-consistent-model-merging/src/ccmm/utils/utils.py\" target=\"_blank\"><span style=\"color: #7f7f7f; text-decoration-color: #7f7f7f\">ccmm.utils.utils</span></a><span style=\"color: #7f7f7f; text-decoration-color: #7f7f7f\">:</span><a href=\"file:///home/daniele/source/cycle-consistent-model-merging/src/ccmm/utils/utils.py#141\" target=\"_blank\"><span style=\"color: #7f7f7f; text-decoration-color: #7f7f7f\">141</span></a>\n",
       "</pre>\n"
      ],
      "text/plain": [
       "\u001b[2;36m2024-01-30 16:59:55\u001b[0m\u001b[2;36m \u001b[0m\u001b[34mINFO    \u001b[0m Evaluating interpolated model with lambda: \u001b[1;36m0.5\u001b[0m                    \u001b]8;id=843543;file:///home/daniele/source/cycle-consistent-model-merging/src/ccmm/utils/utils.py\u001b\\\u001b[2mccmm.utils.utils\u001b[0m\u001b]8;;\u001b\\\u001b[2m:\u001b[0m\u001b]8;id=639044;file:///home/daniele/source/cycle-consistent-model-merging/src/ccmm/utils/utils.py#141\u001b\\\u001b[2m141\u001b[0m\u001b]8;;\u001b\\\n"
      ]
     },
     "metadata": {},
     "output_type": "display_data"
    },
    {
     "data": {
      "text/html": [
       "<pre style=\"white-space:pre;overflow-x:auto;line-height:normal;font-family:Menlo,'DejaVu Sans Mono',consolas,'Courier New',monospace\"><span style=\"color: #7fbfbf; text-decoration-color: #7fbfbf\">2024-01-30 16:59:57 </span><span style=\"color: #000080; text-decoration-color: #000080\">INFO    </span> Evaluating interpolated model with lambda: <span style=\"color: #008080; text-decoration-color: #008080; font-weight: bold\">0.75</span>                   <a href=\"file:///home/daniele/source/cycle-consistent-model-merging/src/ccmm/utils/utils.py\" target=\"_blank\"><span style=\"color: #7f7f7f; text-decoration-color: #7f7f7f\">ccmm.utils.utils</span></a><span style=\"color: #7f7f7f; text-decoration-color: #7f7f7f\">:</span><a href=\"file:///home/daniele/source/cycle-consistent-model-merging/src/ccmm/utils/utils.py#141\" target=\"_blank\"><span style=\"color: #7f7f7f; text-decoration-color: #7f7f7f\">141</span></a>\n",
       "</pre>\n"
      ],
      "text/plain": [
       "\u001b[2;36m2024-01-30 16:59:57\u001b[0m\u001b[2;36m \u001b[0m\u001b[34mINFO    \u001b[0m Evaluating interpolated model with lambda: \u001b[1;36m0.75\u001b[0m                   \u001b]8;id=200048;file:///home/daniele/source/cycle-consistent-model-merging/src/ccmm/utils/utils.py\u001b\\\u001b[2mccmm.utils.utils\u001b[0m\u001b]8;;\u001b\\\u001b[2m:\u001b[0m\u001b]8;id=374218;file:///home/daniele/source/cycle-consistent-model-merging/src/ccmm/utils/utils.py#141\u001b\\\u001b[2m141\u001b[0m\u001b]8;;\u001b\\\n"
      ]
     },
     "metadata": {},
     "output_type": "display_data"
    },
    {
     "data": {
      "text/html": [
       "<pre style=\"white-space:pre;overflow-x:auto;line-height:normal;font-family:Menlo,'DejaVu Sans Mono',consolas,'Courier New',monospace\"><span style=\"color: #7fbfbf; text-decoration-color: #7fbfbf\">2024-01-30 16:59:58 </span><span style=\"color: #000080; text-decoration-color: #000080\">INFO    </span> Evaluating interpolated model with lambda: <span style=\"color: #008080; text-decoration-color: #008080; font-weight: bold\">1.0</span>                    <a href=\"file:///home/daniele/source/cycle-consistent-model-merging/src/ccmm/utils/utils.py\" target=\"_blank\"><span style=\"color: #7f7f7f; text-decoration-color: #7f7f7f\">ccmm.utils.utils</span></a><span style=\"color: #7f7f7f; text-decoration-color: #7f7f7f\">:</span><a href=\"file:///home/daniele/source/cycle-consistent-model-merging/src/ccmm/utils/utils.py#141\" target=\"_blank\"><span style=\"color: #7f7f7f; text-decoration-color: #7f7f7f\">141</span></a>\n",
       "</pre>\n"
      ],
      "text/plain": [
       "\u001b[2;36m2024-01-30 16:59:58\u001b[0m\u001b[2;36m \u001b[0m\u001b[34mINFO    \u001b[0m Evaluating interpolated model with lambda: \u001b[1;36m1.0\u001b[0m                    \u001b]8;id=2928;file:///home/daniele/source/cycle-consistent-model-merging/src/ccmm/utils/utils.py\u001b\\\u001b[2mccmm.utils.utils\u001b[0m\u001b]8;;\u001b\\\u001b[2m:\u001b[0m\u001b]8;id=663122;file:///home/daniele/source/cycle-consistent-model-merging/src/ccmm/utils/utils.py#141\u001b\\\u001b[2m141\u001b[0m\u001b]8;;\u001b\\\n"
      ]
     },
     "metadata": {},
     "output_type": "display_data"
    },
    {
     "name": "stdout",
     "output_type": "stream",
     "text": [
      "tensor([0.0000, 0.2500, 0.5000, 0.7500, 1.0000])\n",
      "[0.46679627895355225, 0.4383860230445862, 2.2594735622406006, 0.45566055178642273, 0.46679627895355225]\n",
      "[0.9043999910354614, 0.8659999966621399, 0.1273999959230423, 0.8679999709129333, 0.9043999910354614]\n"
     ]
    }
   ],
   "source": [
    "permuted_model = copy.deepcopy(models[ordered_symbs[0]])\n",
    "permuted_model.model.load_state_dict(model_current)\n",
    "initial_model = models[ordered_symbs[0]]\n",
    "\n",
    "print(f\"Model distance: {l2_norm_models(permuted_model.model.state_dict(), initial_model.model.state_dict())}\")\n",
    "\n",
    "lambdas = torch.linspace(0, 1, 5, device='cpu')\n",
    "losses, accs = get_interp_curve(lambdas, initial_model, permuted_model, ref_model)\n",
    "\n",
    "print(lambdas)\n",
    "print(losses)\n",
    "print(accs)"
   ]
  },
  {
   "cell_type": "code",
   "execution_count": 63,
   "metadata": {},
   "outputs": [
    {
     "name": "stdout",
     "output_type": "stream",
     "text": [
      "[tensor(0.), tensor(0.), tensor(0.), tensor(0.), tensor(0.), tensor(0.), tensor(0.), tensor(0.), tensor(0.), tensor(0.), tensor(0.), tensor(0.), tensor(0.), tensor(0.), tensor(0.)]\n"
     ]
    }
   ],
   "source": [
    "errs=[]\n",
    "# errs2=[]\n",
    "for v in pairwise_permutations['a']['b'].keys():\n",
    "    P1=perm_indices_to_perm_matrix(pairwise_permutations['a']['b'][v])\n",
    "    P2=perm_indices_to_perm_matrix(pairwise_permutations['b']['c'][v])\n",
    "    P3=perm_indices_to_perm_matrix(pairwise_permutations['c']['d'][v])\n",
    "    P4=perm_indices_to_perm_matrix(pairwise_permutations['d']['e'][v])\n",
    "    P5=perm_indices_to_perm_matrix(pairwise_permutations['e']['a'][v])\n",
    "\n",
    "    # P5=perm_indices_to_perm_matrix(pairwise_permutations['c']['a'][v])\n",
    "    # P6=perm_indices_to_perm_matrix(pairwise_permutations['c']['b'][v])\n",
    "    #P7=perm_indices_to_perm_matrix(pairwise_permutations['a']['c'][v])\n",
    "    errs.append(((P1@P2@P3@P4@P5)-torch.eye(P4.shape[0])).abs().sum())\n",
    "    # errs2.append(((P5@P1)-P6).abs().sum())\n",
    "\n",
    "print(errs) # , print(errs2)"
   ]
  },
  {
   "cell_type": "code",
   "execution_count": null,
   "metadata": {},
   "outputs": [],
   "source": []
  }
 ],
 "metadata": {
  "kernelspec": {
   "display_name": "ccmm",
   "language": "python",
   "name": "python3"
  },
  "language_info": {
   "codemirror_mode": {
    "name": "ipython",
    "version": 3
   },
   "file_extension": ".py",
   "mimetype": "text/x-python",
   "name": "python",
   "nbconvert_exporter": "python",
   "pygments_lexer": "ipython3",
   "version": "3.9.18"
  }
 },
 "nbformat": 4,
 "nbformat_minor": 2
}
