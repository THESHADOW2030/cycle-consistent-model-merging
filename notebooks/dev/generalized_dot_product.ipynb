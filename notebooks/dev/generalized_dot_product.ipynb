{
 "cells": [
  {
   "cell_type": "code",
   "execution_count": null,
   "metadata": {},
   "outputs": [],
   "source": [
    "import torch"
   ]
  },
  {
   "cell_type": "code",
   "execution_count": null,
   "metadata": {},
   "outputs": [],
   "source": [
    "# (c_in, c_out, k1, k2)\n",
    "\n",
    "x = torch.randn(2, 3, 2, 2)\n",
    "y = torch.randn(2, 3, 2, 2)"
   ]
  },
  {
   "cell_type": "code",
   "execution_count": null,
   "metadata": {},
   "outputs": [],
   "source": [
    "x @ y"
   ]
  },
  {
   "cell_type": "code",
   "execution_count": null,
   "metadata": {},
   "outputs": [],
   "source": [
    "A = torch.arange(3 * 2).reshape(3, 2)\n",
    "B = torch.arange(3 * 2).reshape(3, 2)"
   ]
  },
  {
   "cell_type": "code",
   "execution_count": null,
   "metadata": {},
   "outputs": [],
   "source": [
    "At = A.t()\n",
    "matrix_prod = torch.zeros(At.shape[0], B.shape[1])\n",
    "\n",
    "# for each row of A.T\n",
    "for i in range(At.shape[0]):\n",
    "    # for each column of B\n",
    "    for j in range(B.shape[1]):\n",
    "        result = 0\n",
    "        # for each element of the row of A.T\n",
    "        for k in range(At.shape[1]):\n",
    "            result += At[i, k] * B[k, j]\n",
    "        matrix_prod[i, j] = result"
   ]
  },
  {
   "cell_type": "code",
   "execution_count": null,
   "metadata": {},
   "outputs": [],
   "source": [
    "matrix_prod"
   ]
  },
  {
   "cell_type": "code",
   "execution_count": null,
   "metadata": {},
   "outputs": [],
   "source": [
    "torch.einsum(\"ij,jk->ik\", At, B)"
   ]
  },
  {
   "cell_type": "markdown",
   "metadata": {},
   "source": [
    "### 3 dimensions"
   ]
  },
  {
   "cell_type": "code",
   "execution_count": null,
   "metadata": {},
   "outputs": [],
   "source": [
    "A = torch.arange(3 * 2 * 2).reshape(3, 2, 2)\n",
    "B = torch.arange(3 * 2 * 2).reshape(3, 2, 2)"
   ]
  },
  {
   "cell_type": "code",
   "execution_count": null,
   "metadata": {},
   "outputs": [],
   "source": [
    "At = A.transpose(1, 0)\n",
    "matrix_prod = torch.zeros(At.shape[0], B.shape[1])\n",
    "\n",
    "# for each row of A.T\n",
    "for i in range(At.shape[0]):\n",
    "    # for each column of B\n",
    "    for j in range(B.shape[1]):\n",
    "        result = 0\n",
    "        # for each element of the row of A.T\n",
    "        for k in range(At.shape[1]):\n",
    "            result += At[i, k].flatten() @ B[k, j].flatten()\n",
    "        matrix_prod[i, j] = result"
   ]
  },
  {
   "cell_type": "code",
   "execution_count": null,
   "metadata": {},
   "outputs": [],
   "source": [
    "matrix_prod"
   ]
  },
  {
   "cell_type": "code",
   "execution_count": null,
   "metadata": {},
   "outputs": [],
   "source": [
    "ein_matrix_prod = torch.einsum(\"ijk,jnk->in\", At, B)"
   ]
  },
  {
   "cell_type": "code",
   "execution_count": null,
   "metadata": {},
   "outputs": [],
   "source": [
    "ein_matrix_prod"
   ]
  },
  {
   "cell_type": "markdown",
   "metadata": {},
   "source": [
    "#### 4D"
   ]
  },
  {
   "cell_type": "code",
   "execution_count": null,
   "metadata": {},
   "outputs": [],
   "source": [
    "A = torch.arange(3 * 2 * 2 * 2).reshape(3, 2, 2, 2)\n",
    "B = torch.arange(3 * 2 * 2 * 2).reshape(3, 2, 2, 2)"
   ]
  },
  {
   "cell_type": "code",
   "execution_count": null,
   "metadata": {},
   "outputs": [],
   "source": [
    "At = A.transpose(1, 0)\n",
    "matrix_prod = torch.zeros(At.shape[0], B.shape[1])\n",
    "\n",
    "# for each row of A.T\n",
    "for i in range(At.shape[0]):\n",
    "    # for each column of B\n",
    "    for j in range(B.shape[1]):\n",
    "        result = 0\n",
    "        # for each element of the row of A.T\n",
    "        for k in range(At.shape[1]):\n",
    "            result += At[i, k].flatten() @ B[k, j].flatten()\n",
    "        matrix_prod[i, j] = result"
   ]
  },
  {
   "cell_type": "code",
   "execution_count": null,
   "metadata": {},
   "outputs": [],
   "source": [
    "matrix_prod"
   ]
  },
  {
   "cell_type": "code",
   "execution_count": null,
   "metadata": {},
   "outputs": [],
   "source": [
    "ein_matrix_prod = torch.einsum(\"ijkl,jnkl->in\", At, B)"
   ]
  },
  {
   "cell_type": "code",
   "execution_count": null,
   "metadata": {},
   "outputs": [],
   "source": []
  }
 ],
 "metadata": {
  "kernelspec": {
   "display_name": "ccmm",
   "language": "python",
   "name": "python3"
  },
  "language_info": {
   "codemirror_mode": {
    "name": "ipython",
    "version": 3
   },
   "file_extension": ".py",
   "mimetype": "text/x-python",
   "name": "python",
   "nbconvert_exporter": "python",
   "pygments_lexer": "ipython3",
   "version": "3.9.17"
  }
 },
 "nbformat": 4,
 "nbformat_minor": 2
}
