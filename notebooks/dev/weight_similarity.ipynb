{
 "cells": [
  {
   "cell_type": "code",
   "execution_count": null,
   "metadata": {},
   "outputs": [],
   "source": [
    "from ccmm.utils.matching_utils import (\n",
    "    PermutationMatrix,\n",
    "    parse_three_models_sync_matrix,\n",
    "    perm_indices_to_perm_matrix,\n",
    "    perm_matrix_to_perm_indices,\n",
    "    three_models_uber_matrix,\n",
    ")\n",
    "import torch\n",
    "\n",
    "\n",
    "def compute_weights_similarity(similarity_matrix, perm_indices):\n",
    "    \"\"\" \"\"\"\n",
    "\n",
    "    perm_matrix = perm_indices_to_perm_matrix(perm_indices)\n",
    "\n",
    "    similarity = similarity_matrix.reshape(-1) @ perm_matrix.reshape(-1)\n",
    "\n",
    "    n = len(perm_indices)\n",
    "    sim2 = torch.sum(similarity_matrix[torch.arange(n), perm_indices])\n",
    "\n",
    "    assert similarity == sim2\n",
    "\n",
    "    return similarity"
   ]
  },
  {
   "cell_type": "code",
   "execution_count": null,
   "metadata": {},
   "outputs": [],
   "source": [
    "# n: num_neurons\n",
    "# d: dim\n",
    "\n",
    "n = 4\n",
    "d = 3\n",
    "\n",
    "A = torch.arange(n * d).reshape(n, d)\n",
    "print(A)"
   ]
  },
  {
   "cell_type": "code",
   "execution_count": null,
   "metadata": {},
   "outputs": [],
   "source": [
    "P_BA_indices = torch.tensor([1, 2, 0, 3])"
   ]
  },
  {
   "cell_type": "code",
   "execution_count": null,
   "metadata": {},
   "outputs": [],
   "source": [
    "P_BA = perm_indices_to_perm_matrix(P_BA_indices).long()\n",
    "P_BA"
   ]
  },
  {
   "cell_type": "code",
   "execution_count": null,
   "metadata": {},
   "outputs": [],
   "source": [
    "B = P_BA @ A\n",
    "B"
   ]
  },
  {
   "cell_type": "code",
   "execution_count": null,
   "metadata": {},
   "outputs": [],
   "source": [
    "P_AB = P_BA.T\n",
    "P_AB"
   ]
  },
  {
   "cell_type": "code",
   "execution_count": null,
   "metadata": {},
   "outputs": [],
   "source": [
    "P_AB_noisy = P_AB[:, [0, 1, 3, 2]]\n",
    "P_AB_noisy"
   ]
  },
  {
   "cell_type": "code",
   "execution_count": null,
   "metadata": {},
   "outputs": [],
   "source": [
    "W_AB = P_AB_noisy.float() @ B.float()\n",
    "S_AB = A.float() @ W_AB.T\n",
    "S_AB"
   ]
  },
  {
   "cell_type": "code",
   "execution_count": null,
   "metadata": {},
   "outputs": [],
   "source": [
    "sim = compute_weights_similarity(S_AB, torch.tensor([0, 1, 2, 3]))\n",
    "print(sim)\n",
    "sim = compute_weights_similarity(S_AB, torch.tensor([0, 2, 1, 3]))\n",
    "print(sim)\n",
    "sim = compute_weights_similarity(S_AB, torch.tensor([0, 2, 3, 1]))\n",
    "print(sim)"
   ]
  },
  {
   "cell_type": "code",
   "execution_count": null,
   "metadata": {},
   "outputs": [],
   "source": [
    "sim = compute_weights_similarity(S_AB, P_BA_indices)\n",
    "print(sim)"
   ]
  },
  {
   "cell_type": "code",
   "execution_count": null,
   "metadata": {},
   "outputs": [],
   "source": []
  },
  {
   "cell_type": "code",
   "execution_count": null,
   "metadata": {},
   "outputs": [],
   "source": []
  }
 ],
 "metadata": {
  "kernelspec": {
   "display_name": "ccmm",
   "language": "python",
   "name": "python3"
  },
  "language_info": {
   "codemirror_mode": {
    "name": "ipython",
    "version": 3
   },
   "file_extension": ".py",
   "mimetype": "text/x-python",
   "name": "python",
   "nbconvert_exporter": "python",
   "pygments_lexer": "ipython3",
   "version": "3.9.17"
  }
 },
 "nbformat": 4,
 "nbformat_minor": 2
}
