{
 "cells": [
  {
   "cell_type": "markdown",
   "metadata": {},
   "source": [
    "## Imports"
   ]
  },
  {
   "cell_type": "code",
   "execution_count": 1,
   "metadata": {},
   "outputs": [
    {
     "name": "stderr",
     "output_type": "stream",
     "text": [
      "/home/donato/miniconda3/envs/ccmm/lib/python3.9/site-packages/tqdm/auto.py:21: TqdmWarning: IProgress not found. Please update jupyter and ipywidgets. See https://ipywidgets.readthedocs.io/en/stable/user_install.html\n",
      "  from .autonotebook import tqdm as notebook_tqdm\n",
      "/home/donato/miniconda3/envs/ccmm/lib/python3.9/site-packages/torchvision/io/image.py:13: UserWarning: Failed to load image Python extension: '/home/donato/miniconda3/envs/ccmm/lib/python3.9/site-packages/torchvision/image.so: undefined symbol: _ZN3c104warnERKNS_7WarningE'If you don't plan on using image functionality from `torchvision.io`, you can ignore this warning. Otherwise, there might be something wrong with your environment. Did you have `libjpeg` or `libpng` installed before building `torchvision` from source?\n",
      "  warn(\n"
     ]
    }
   ],
   "source": [
    "import copy\n",
    "import itertools\n",
    "import logging\n",
    "import math\n",
    "from functools import partial\n",
    "from pathlib import Path\n",
    "from typing import Dict\n",
    "import json\n",
    "\n",
    "import hydra\n",
    "import matplotlib\n",
    "import matplotlib.colors as colors\n",
    "import matplotlib.pyplot as plt\n",
    "import numpy as np\n",
    "import omegaconf\n",
    "import pytorch_lightning\n",
    "import seaborn as sns\n",
    "import torch  # noqa\n",
    "import wandb\n",
    "from hydra.utils import instantiate\n",
    "from matplotlib import tri\n",
    "from matplotlib.offsetbox import AnnotationBbox, OffsetImage\n",
    "from omegaconf import DictConfig\n",
    "from pytorch_lightning import LightningModule\n",
    "from scipy.stats import qmc\n",
    "from torch.utils.data import DataLoader, Subset, SubsetRandomSampler\n",
    "from tqdm import tqdm\n",
    "\n",
    "from nn_core.callbacks import NNTemplateCore\n",
    "from nn_core.common import PROJECT_ROOT\n",
    "from nn_core.common.utils import seed_index_everything\n",
    "from nn_core.model_logging import NNLogger\n",
    "\n",
    "import ccmm  # noqa\n",
    "from ccmm.matching.utils import (\n",
    "    apply_permutation_to_statedict,\n",
    "    get_all_symbols_combinations,\n",
    "    load_permutations,\n",
    "    perm_indices_to_perm_matrix,\n",
    "    plot_permutation_history_animation,\n",
    "    restore_original_weights,\n",
    ")\n",
    "from ccmm.utils.utils import (\n",
    "    fuse_batch_norm_into_conv,\n",
    "    get_interpolated_loss_acc_curves,\n",
    "    l2_norm_models,\n",
    "    linear_interpolate,\n",
    "    load_model_from_info,\n",
    "    map_model_seed_to_symbol,\n",
    "    normalize_unit_norm,\n",
    "    project_onto,\n",
    "    save_factored_permutations,\n",
    "    vector_to_state_dict,\n",
    ")"
   ]
  },
  {
   "cell_type": "code",
   "execution_count": 2,
   "metadata": {},
   "outputs": [
    {
     "data": {
      "text/plain": [
       "{'light red': '#c05761',\n",
       " 'green': '#2a9d8f',\n",
       " 'yellow': '#e9c46a',\n",
       " 'dark blue': '#264653',\n",
       " 'red': '#941c2f',\n",
       " 'orange': '#e76f51',\n",
       " 'violet': '#734f5a',\n",
       " 'light orange': '#f4a261'}"
      ]
     },
     "execution_count": 2,
     "metadata": {},
     "output_type": "execute_result"
    }
   ],
   "source": [
    "plt.rcParams.update(\n",
    "    {\n",
    "        \"text.usetex\": True,\n",
    "        \"font.family\": \"serif\",\n",
    "    }\n",
    ")\n",
    "sns.set_context(\"talk\")\n",
    "\n",
    "cmap_name = \"coolwarm_r\"\n",
    "\n",
    "from ccmm.utils.plot import Palette\n",
    "\n",
    "palette = Palette(f\"{PROJECT_ROOT}/misc/palette2.json\")\n",
    "palette"
   ]
  },
  {
   "cell_type": "code",
   "execution_count": 3,
   "metadata": {},
   "outputs": [],
   "source": [
    "logging.getLogger(\"lightning.pytorch\").setLevel(logging.WARNING)\n",
    "logging.getLogger(\"torch\").setLevel(logging.WARNING)\n",
    "logging.getLogger(\"pytorch_lightning.accelerators.cuda\").setLevel(logging.WARNING)\n",
    "pylogger = logging.getLogger(__name__)"
   ]
  },
  {
   "cell_type": "markdown",
   "metadata": {},
   "source": [
    "## Configuration"
   ]
  },
  {
   "cell_type": "code",
   "execution_count": 4,
   "metadata": {},
   "outputs": [
    {
     "data": {
      "text/plain": [
       "hydra.initialize()"
      ]
     },
     "execution_count": 4,
     "metadata": {},
     "output_type": "execute_result"
    }
   ],
   "source": [
    "%load_ext autoreload\n",
    "%autoreload 2\n",
    "\n",
    "import hydra\n",
    "from hydra import initialize, compose\n",
    "from typing import Dict, List\n",
    "\n",
    "hydra.core.global_hydra.GlobalHydra.instance().clear()\n",
    "initialize(version_base=None, config_path=str(\"../conf\"), job_name=\"matching\")"
   ]
  },
  {
   "cell_type": "code",
   "execution_count": 5,
   "metadata": {},
   "outputs": [],
   "source": [
    "cfg = compose(config_name=\"matching\", overrides=[\"model=mlp\", \"dataset=emnist\"])"
   ]
  },
  {
   "cell_type": "code",
   "execution_count": 6,
   "metadata": {},
   "outputs": [
    {
     "data": {
      "text/html": [
       "<pre style=\"white-space:pre;overflow-x:auto;line-height:normal;font-family:Menlo,'DejaVu Sans Mono',consolas,'Courier New',monospace\"><span style=\"color: #7fbfbf; text-decoration-color: #7fbfbf\">2025-01-07 14:34:38 </span><span style=\"color: #000080; text-decoration-color: #000080\">INFO    </span> Global seed set to <span style=\"color: #008080; text-decoration-color: #008080; font-weight: bold\">1273642419</span>                      <a href=\"file:///home/donato/miniconda3/envs/ccmm/lib/python3.9/site-packages/pytorch_lightning/utilities/seed.py\" target=\"_blank\"><span style=\"color: #7f7f7f; text-decoration-color: #7f7f7f\">pytorch_lightning.utilities.seed</span></a><span style=\"color: #7f7f7f; text-decoration-color: #7f7f7f\">:</span><a href=\"file:///home/donato/miniconda3/envs/ccmm/lib/python3.9/site-packages/pytorch_lightning/utilities/seed.py#71\" target=\"_blank\"><span style=\"color: #7f7f7f; text-decoration-color: #7f7f7f\">71</span></a>\n",
       "</pre>\n"
      ],
      "text/plain": [
       "\u001b[2;36m2025-01-07 14:34:38\u001b[0m\u001b[2;36m \u001b[0m\u001b[34mINFO    \u001b[0m Global seed set to \u001b[1;36m1273642419\u001b[0m                      \u001b]8;id=824445;file:///home/donato/miniconda3/envs/ccmm/lib/python3.9/site-packages/pytorch_lightning/utilities/seed.py\u001b\\\u001b[2mpytorch_lightning.utilities.seed\u001b[0m\u001b]8;;\u001b\\\u001b[2m:\u001b[0m\u001b]8;id=752914;file:///home/donato/miniconda3/envs/ccmm/lib/python3.9/site-packages/pytorch_lightning/utilities/seed.py#71\u001b\\\u001b[2m71\u001b[0m\u001b]8;;\u001b\\\n"
      ]
     },
     "metadata": {},
     "output_type": "display_data"
    },
    {
     "data": {
      "text/html": [
       "<pre style=\"white-space:pre;overflow-x:auto;line-height:normal;font-family:Menlo,'DejaVu Sans Mono',consolas,'Courier New',monospace\"><span style=\"color: #7fbfbf; text-decoration-color: #7fbfbf\">                    </span><span style=\"color: #000080; text-decoration-color: #000080\">INFO    </span> Setting seed <span style=\"color: #008080; text-decoration-color: #008080; font-weight: bold\">1273642419</span> from seeds<span style=\"font-weight: bold\">[</span><span style=\"color: #008080; text-decoration-color: #008080; font-weight: bold\">1</span><span style=\"font-weight: bold\">]</span>                         <a href=\"file:///home/donato/miniconda3/envs/ccmm/lib/python3.9/site-packages/nn_core/common/utils.py\" target=\"_blank\"><span style=\"color: #7f7f7f; text-decoration-color: #7f7f7f\">nn_core.common.utils</span></a><span style=\"color: #7f7f7f; text-decoration-color: #7f7f7f\">:</span><a href=\"file:///home/donato/miniconda3/envs/ccmm/lib/python3.9/site-packages/nn_core/common/utils.py#107\" target=\"_blank\"><span style=\"color: #7f7f7f; text-decoration-color: #7f7f7f\">107</span></a>\n",
       "</pre>\n"
      ],
      "text/plain": [
       "\u001b[2;36m                   \u001b[0m\u001b[2;36m \u001b[0m\u001b[34mINFO    \u001b[0m Setting seed \u001b[1;36m1273642419\u001b[0m from seeds\u001b[1m[\u001b[0m\u001b[1;36m1\u001b[0m\u001b[1m]\u001b[0m                         \u001b]8;id=904482;file:///home/donato/miniconda3/envs/ccmm/lib/python3.9/site-packages/nn_core/common/utils.py\u001b\\\u001b[2mnn_core.common.utils\u001b[0m\u001b]8;;\u001b\\\u001b[2m:\u001b[0m\u001b]8;id=488394;file:///home/donato/miniconda3/envs/ccmm/lib/python3.9/site-packages/nn_core/common/utils.py#107\u001b\\\u001b[2m107\u001b[0m\u001b]8;;\u001b\\\n"
      ]
     },
     "metadata": {},
     "output_type": "display_data"
    },
    {
     "data": {
      "text/plain": [
       "1273642419"
      ]
     },
     "execution_count": 6,
     "metadata": {},
     "output_type": "execute_result"
    }
   ],
   "source": [
    "core_cfg = cfg  # NOQA\n",
    "cfg = cfg.matching\n",
    "\n",
    "seed_index_everything(cfg)"
   ]
  },
  {
   "cell_type": "markdown",
   "metadata": {},
   "source": [
    "## Hyperparameters"
   ]
  },
  {
   "cell_type": "code",
   "execution_count": 7,
   "metadata": {},
   "outputs": [],
   "source": [
    "num_test_samples = 5000\n",
    "num_train_samples = 10000"
   ]
  },
  {
   "cell_type": "markdown",
   "metadata": {},
   "source": [
    "## Load dataset"
   ]
  },
  {
   "cell_type": "code",
   "execution_count": 8,
   "metadata": {},
   "outputs": [
    {
     "name": "stdout",
     "output_type": "stream",
     "text": [
      "/media/donato/Extra-storage/Code/model-merging/cycle-consistent-model-merging/data/EMNIST/raw/emnist-letters-train-images-idx3-ubyte /media/donato/Extra-storage/Code/model-merging/cycle-consistent-model-merging/data/EMNIST/raw/emnist-letters-train-labels-idx1-ubyte\n",
      "/media/donato/Extra-storage/Code/model-merging/cycle-consistent-model-merging/data/EMNIST/raw/emnist-letters-test-images-idx3-ubyte /media/donato/Extra-storage/Code/model-merging/cycle-consistent-model-merging/data/EMNIST/raw/emnist-letters-test-labels-idx1-ubyte\n"
     ]
    }
   ],
   "source": [
    "transform = instantiate(core_cfg.dataset.test.transform)\n",
    "\n",
    "train_dataset = instantiate(core_cfg.dataset.train, transform=transform)\n",
    "test_dataset = instantiate(core_cfg.dataset.test, transform=transform)\n",
    "\n",
    "train_subset = Subset(train_dataset, list(range(num_train_samples)))\n",
    "train_loader = DataLoader(train_subset, batch_size=5000, num_workers=cfg.num_workers)\n",
    "\n",
    "test_subset = Subset(test_dataset, list(range(num_test_samples)))\n",
    "\n",
    "test_loader = DataLoader(test_subset, batch_size=1000, num_workers=cfg.num_workers)"
   ]
  },
  {
   "cell_type": "code",
   "execution_count": 9,
   "metadata": {},
   "outputs": [
    {
     "name": "stderr",
     "output_type": "stream",
     "text": [
      "/home/donato/miniconda3/envs/ccmm/lib/python3.9/site-packages/pytorch_lightning/trainer/connectors/accelerator_connector.py:447: LightningDeprecationWarning: Setting `Trainer(gpus=1)` is deprecated in v1.7 and will be removed in v2.0. Please use `Trainer(accelerator='gpu', devices=1)` instead.\n",
      "  rank_zero_deprecation(\n"
     ]
    },
    {
     "data": {
      "text/html": [
       "<pre style=\"white-space:pre;overflow-x:auto;line-height:normal;font-family:Menlo,'DejaVu Sans Mono',consolas,'Courier New',monospace\"><span style=\"color: #7fbfbf; text-decoration-color: #7fbfbf\">                    </span><span style=\"color: #000080; text-decoration-color: #000080\">INFO    </span> GPU available: <span style=\"color: #00ff00; text-decoration-color: #00ff00; font-style: italic\">True</span> <span style=\"font-weight: bold\">(</span>cuda<span style=\"font-weight: bold\">)</span>, used: <span style=\"color: #00ff00; text-decoration-color: #00ff00; font-style: italic\">True</span>      <a href=\"file:///home/donato/miniconda3/envs/ccmm/lib/python3.9/site-packages/pytorch_lightning/trainer/trainer.py\" target=\"_blank\"><span style=\"color: #7f7f7f; text-decoration-color: #7f7f7f\">pytorch_lightning.utilities.rank_zero</span></a><span style=\"color: #7f7f7f; text-decoration-color: #7f7f7f\">:</span><a href=\"file:///home/donato/miniconda3/envs/ccmm/lib/python3.9/site-packages/pytorch_lightning/trainer/trainer.py#1751\" target=\"_blank\"><span style=\"color: #7f7f7f; text-decoration-color: #7f7f7f\">1751</span></a>\n",
       "</pre>\n"
      ],
      "text/plain": [
       "\u001b[2;36m                   \u001b[0m\u001b[2;36m \u001b[0m\u001b[34mINFO    \u001b[0m GPU available: \u001b[3;92mTrue\u001b[0m \u001b[1m(\u001b[0mcuda\u001b[1m)\u001b[0m, used: \u001b[3;92mTrue\u001b[0m      \u001b]8;id=118512;file:///home/donato/miniconda3/envs/ccmm/lib/python3.9/site-packages/pytorch_lightning/trainer/trainer.py\u001b\\\u001b[2mpytorch_lightning.utilities.rank_zero\u001b[0m\u001b]8;;\u001b\\\u001b[2m:\u001b[0m\u001b]8;id=499288;file:///home/donato/miniconda3/envs/ccmm/lib/python3.9/site-packages/pytorch_lightning/trainer/trainer.py#1751\u001b\\\u001b[2m1751\u001b[0m\u001b]8;;\u001b\\\n"
      ]
     },
     "metadata": {},
     "output_type": "display_data"
    },
    {
     "data": {
      "text/html": [
       "<pre style=\"white-space:pre;overflow-x:auto;line-height:normal;font-family:Menlo,'DejaVu Sans Mono',consolas,'Courier New',monospace\"><span style=\"color: #7fbfbf; text-decoration-color: #7fbfbf\">                    </span><span style=\"color: #000080; text-decoration-color: #000080\">INFO    </span> TPU available: <span style=\"color: #ff0000; text-decoration-color: #ff0000; font-style: italic\">False</span>, using: <span style=\"color: #008080; text-decoration-color: #008080; font-weight: bold\">0</span> TPU cores    <a href=\"file:///home/donato/miniconda3/envs/ccmm/lib/python3.9/site-packages/pytorch_lightning/trainer/trainer.py\" target=\"_blank\"><span style=\"color: #7f7f7f; text-decoration-color: #7f7f7f\">pytorch_lightning.utilities.rank_zero</span></a><span style=\"color: #7f7f7f; text-decoration-color: #7f7f7f\">:</span><a href=\"file:///home/donato/miniconda3/envs/ccmm/lib/python3.9/site-packages/pytorch_lightning/trainer/trainer.py#1754\" target=\"_blank\"><span style=\"color: #7f7f7f; text-decoration-color: #7f7f7f\">1754</span></a>\n",
       "</pre>\n"
      ],
      "text/plain": [
       "\u001b[2;36m                   \u001b[0m\u001b[2;36m \u001b[0m\u001b[34mINFO    \u001b[0m TPU available: \u001b[3;91mFalse\u001b[0m, using: \u001b[1;36m0\u001b[0m TPU cores    \u001b]8;id=215118;file:///home/donato/miniconda3/envs/ccmm/lib/python3.9/site-packages/pytorch_lightning/trainer/trainer.py\u001b\\\u001b[2mpytorch_lightning.utilities.rank_zero\u001b[0m\u001b]8;;\u001b\\\u001b[2m:\u001b[0m\u001b]8;id=143249;file:///home/donato/miniconda3/envs/ccmm/lib/python3.9/site-packages/pytorch_lightning/trainer/trainer.py#1754\u001b\\\u001b[2m1754\u001b[0m\u001b]8;;\u001b\\\n"
      ]
     },
     "metadata": {},
     "output_type": "display_data"
    },
    {
     "data": {
      "text/html": [
       "<pre style=\"white-space:pre;overflow-x:auto;line-height:normal;font-family:Menlo,'DejaVu Sans Mono',consolas,'Courier New',monospace\"><span style=\"color: #7fbfbf; text-decoration-color: #7fbfbf\">                    </span><span style=\"color: #000080; text-decoration-color: #000080\">INFO    </span> IPU available: <span style=\"color: #ff0000; text-decoration-color: #ff0000; font-style: italic\">False</span>, using: <span style=\"color: #008080; text-decoration-color: #008080; font-weight: bold\">0</span> IPUs         <a href=\"file:///home/donato/miniconda3/envs/ccmm/lib/python3.9/site-packages/pytorch_lightning/trainer/trainer.py\" target=\"_blank\"><span style=\"color: #7f7f7f; text-decoration-color: #7f7f7f\">pytorch_lightning.utilities.rank_zero</span></a><span style=\"color: #7f7f7f; text-decoration-color: #7f7f7f\">:</span><a href=\"file:///home/donato/miniconda3/envs/ccmm/lib/python3.9/site-packages/pytorch_lightning/trainer/trainer.py#1757\" target=\"_blank\"><span style=\"color: #7f7f7f; text-decoration-color: #7f7f7f\">1757</span></a>\n",
       "</pre>\n"
      ],
      "text/plain": [
       "\u001b[2;36m                   \u001b[0m\u001b[2;36m \u001b[0m\u001b[34mINFO    \u001b[0m IPU available: \u001b[3;91mFalse\u001b[0m, using: \u001b[1;36m0\u001b[0m IPUs         \u001b]8;id=768303;file:///home/donato/miniconda3/envs/ccmm/lib/python3.9/site-packages/pytorch_lightning/trainer/trainer.py\u001b\\\u001b[2mpytorch_lightning.utilities.rank_zero\u001b[0m\u001b]8;;\u001b\\\u001b[2m:\u001b[0m\u001b]8;id=365854;file:///home/donato/miniconda3/envs/ccmm/lib/python3.9/site-packages/pytorch_lightning/trainer/trainer.py#1757\u001b\\\u001b[2m1757\u001b[0m\u001b]8;;\u001b\\\n"
      ]
     },
     "metadata": {},
     "output_type": "display_data"
    },
    {
     "data": {
      "text/html": [
       "<pre style=\"white-space:pre;overflow-x:auto;line-height:normal;font-family:Menlo,'DejaVu Sans Mono',consolas,'Courier New',monospace\"><span style=\"color: #7fbfbf; text-decoration-color: #7fbfbf\">                    </span><span style=\"color: #000080; text-decoration-color: #000080\">INFO    </span> HPU available: <span style=\"color: #ff0000; text-decoration-color: #ff0000; font-style: italic\">False</span>, using: <span style=\"color: #008080; text-decoration-color: #008080; font-weight: bold\">0</span> HPUs         <a href=\"file:///home/donato/miniconda3/envs/ccmm/lib/python3.9/site-packages/pytorch_lightning/trainer/trainer.py\" target=\"_blank\"><span style=\"color: #7f7f7f; text-decoration-color: #7f7f7f\">pytorch_lightning.utilities.rank_zero</span></a><span style=\"color: #7f7f7f; text-decoration-color: #7f7f7f\">:</span><a href=\"file:///home/donato/miniconda3/envs/ccmm/lib/python3.9/site-packages/pytorch_lightning/trainer/trainer.py#1760\" target=\"_blank\"><span style=\"color: #7f7f7f; text-decoration-color: #7f7f7f\">1760</span></a>\n",
       "</pre>\n"
      ],
      "text/plain": [
       "\u001b[2;36m                   \u001b[0m\u001b[2;36m \u001b[0m\u001b[34mINFO    \u001b[0m HPU available: \u001b[3;91mFalse\u001b[0m, using: \u001b[1;36m0\u001b[0m HPUs         \u001b]8;id=464800;file:///home/donato/miniconda3/envs/ccmm/lib/python3.9/site-packages/pytorch_lightning/trainer/trainer.py\u001b\\\u001b[2mpytorch_lightning.utilities.rank_zero\u001b[0m\u001b]8;;\u001b\\\u001b[2m:\u001b[0m\u001b]8;id=343238;file:///home/donato/miniconda3/envs/ccmm/lib/python3.9/site-packages/pytorch_lightning/trainer/trainer.py#1760\u001b\\\u001b[2m1760\u001b[0m\u001b]8;;\u001b\\\n"
      ]
     },
     "metadata": {},
     "output_type": "display_data"
    }
   ],
   "source": [
    "trainer = instantiate(cfg.trainer, enable_progress_bar=False, enable_model_summary=False)"
   ]
  },
  {
   "cell_type": "markdown",
   "metadata": {},
   "source": [
    "## Load models"
   ]
  },
  {
   "cell_type": "code",
   "execution_count": 10,
   "metadata": {},
   "outputs": [
    {
     "data": {
      "text/html": [
       "<pre style=\"white-space:pre;overflow-x:auto;line-height:normal;font-family:Menlo,'DejaVu Sans Mono',consolas,'Courier New',monospace\"><span style=\"color: #7fbfbf; text-decoration-color: #7fbfbf\">                    </span><span style=\"color: #800000; text-decoration-color: #800000; font-weight: bold\">ERROR   </span> Failed to detect the name of this notebook, you can set it manually  <a href=\"file:///home/donato/miniconda3/envs/ccmm/lib/python3.9/site-packages/wandb/jupyter.py\" target=\"_blank\"><span style=\"color: #7f7f7f; text-decoration-color: #7f7f7f\">wandb.jupyter</span></a><span style=\"color: #7f7f7f; text-decoration-color: #7f7f7f\">:</span><a href=\"file:///home/donato/miniconda3/envs/ccmm/lib/python3.9/site-packages/wandb/jupyter.py#224\" target=\"_blank\"><span style=\"color: #7f7f7f; text-decoration-color: #7f7f7f\">224</span></a>\n",
       "<span style=\"color: #7fbfbf; text-decoration-color: #7fbfbf\">                    </span>         with the WANDB_NOTEBOOK_NAME environment variable to enable code     <span style=\"color: #7f7f7f; text-decoration-color: #7f7f7f\">                 </span>\n",
       "<span style=\"color: #7fbfbf; text-decoration-color: #7fbfbf\">                    </span>         saving.                                                              <span style=\"color: #7f7f7f; text-decoration-color: #7f7f7f\">                 </span>\n",
       "</pre>\n"
      ],
      "text/plain": [
       "\u001b[2;36m                   \u001b[0m\u001b[2;36m \u001b[0m\u001b[1;31mERROR   \u001b[0m Failed to detect the name of this notebook, you can set it manually  \u001b]8;id=700264;file:///home/donato/miniconda3/envs/ccmm/lib/python3.9/site-packages/wandb/jupyter.py\u001b\\\u001b[2mwandb.jupyter\u001b[0m\u001b]8;;\u001b\\\u001b[2m:\u001b[0m\u001b]8;id=645850;file:///home/donato/miniconda3/envs/ccmm/lib/python3.9/site-packages/wandb/jupyter.py#224\u001b\\\u001b[2m224\u001b[0m\u001b]8;;\u001b\\\n",
       "\u001b[2;36m                    \u001b[0m         with the WANDB_NOTEBOOK_NAME environment variable to enable code     \u001b[2m                 \u001b[0m\n",
       "\u001b[2;36m                    \u001b[0m         saving.                                                              \u001b[2m                 \u001b[0m\n"
      ]
     },
     "metadata": {},
     "output_type": "display_data"
    },
    {
     "name": "stderr",
     "output_type": "stream",
     "text": [
      "\u001b[34m\u001b[1mwandb\u001b[0m: Currently logged in as: \u001b[33mcrisostomi\u001b[0m (\u001b[33mgladia\u001b[0m). Use \u001b[1m`wandb login --relogin`\u001b[0m to force relogin\n"
     ]
    },
    {
     "data": {
      "text/html": [
       "wandb version 0.19.1 is available!  To upgrade, please run:\n",
       " $ pip install wandb --upgrade"
      ],
      "text/plain": [
       "<IPython.core.display.HTML object>"
      ]
     },
     "metadata": {},
     "output_type": "display_data"
    },
    {
     "data": {
      "text/html": [
       "Tracking run with wandb version 0.16.6"
      ],
      "text/plain": [
       "<IPython.core.display.HTML object>"
      ]
     },
     "metadata": {},
     "output_type": "display_data"
    },
    {
     "data": {
      "text/html": [
       "Run data is saved locally in <code>/media/donato/Extra-storage/Code/model-merging/cycle-consistent-model-merging/notebooks/wandb/run-20250107_143439-4mtp8cpk</code>"
      ],
      "text/plain": [
       "<IPython.core.display.HTML object>"
      ]
     },
     "metadata": {},
     "output_type": "display_data"
    },
    {
     "data": {
      "text/html": [
       "Syncing run <strong><a href='https://wandb.ai/gladia/cycle-consistent-model-merging/runs/4mtp8cpk' target=\"_blank\">sleek-sponge-3627</a></strong> to <a href='https://wandb.ai/gladia/cycle-consistent-model-merging' target=\"_blank\">Weights & Biases</a> (<a href='https://wandb.me/run' target=\"_blank\">docs</a>)<br/>"
      ],
      "text/plain": [
       "<IPython.core.display.HTML object>"
      ]
     },
     "metadata": {},
     "output_type": "display_data"
    },
    {
     "data": {
      "text/html": [
       " View project at <a href='https://wandb.ai/gladia/cycle-consistent-model-merging' target=\"_blank\">https://wandb.ai/gladia/cycle-consistent-model-merging</a>"
      ],
      "text/plain": [
       "<IPython.core.display.HTML object>"
      ]
     },
     "metadata": {},
     "output_type": "display_data"
    },
    {
     "data": {
      "text/html": [
       " View run at <a href='https://wandb.ai/gladia/cycle-consistent-model-merging/runs/4mtp8cpk' target=\"_blank\">https://wandb.ai/gladia/cycle-consistent-model-merging/runs/4mtp8cpk</a>"
      ],
      "text/plain": [
       "<IPython.core.display.HTML object>"
      ]
     },
     "metadata": {},
     "output_type": "display_data"
    },
    {
     "data": {
      "text/html": [
       "<pre style=\"white-space:pre;overflow-x:auto;line-height:normal;font-family:Menlo,'DejaVu Sans Mono',consolas,'Courier New',monospace\"><span style=\"color: #7fbfbf; text-decoration-color: #7fbfbf\">2025-01-07 14:34:42 </span><span style=\"color: #000080; text-decoration-color: #000080\">INFO    </span> Trying to load                                                    <a href=\"file:///media/donato/Extra-storage/Code/model-merging/cycle-consistent-model-merging/src/ccmm/utils/utils.py\" target=\"_blank\"><span style=\"color: #7f7f7f; text-decoration-color: #7f7f7f\">ccmm.utils.utils</span></a><span style=\"color: #7f7f7f; text-decoration-color: #7f7f7f\">:</span><a href=\"file:///media/donato/Extra-storage/Code/model-merging/cycle-consistent-model-merging/src/ccmm/utils/utils.py#264\" target=\"_blank\"><span style=\"color: #7f7f7f; text-decoration-color: #7f7f7f\">264</span></a>\n",
       "<span style=\"color: #7fbfbf; text-decoration-color: #7fbfbf\">                    </span>         gladia/cycle-consistent-model-merging/EMNIST_MLP_1:latest         <span style=\"color: #7f7f7f; text-decoration-color: #7f7f7f\">                    </span>\n",
       "</pre>\n"
      ],
      "text/plain": [
       "\u001b[2;36m2025-01-07 14:34:42\u001b[0m\u001b[2;36m \u001b[0m\u001b[34mINFO    \u001b[0m Trying to load                                                    \u001b]8;id=260230;file:///media/donato/Extra-storage/Code/model-merging/cycle-consistent-model-merging/src/ccmm/utils/utils.py\u001b\\\u001b[2mccmm.utils.utils\u001b[0m\u001b]8;;\u001b\\\u001b[2m:\u001b[0m\u001b]8;id=131413;file:///media/donato/Extra-storage/Code/model-merging/cycle-consistent-model-merging/src/ccmm/utils/utils.py#264\u001b\\\u001b[2m264\u001b[0m\u001b]8;;\u001b\\\n",
       "\u001b[2;36m                    \u001b[0m         gladia/cycle-consistent-model-merging/EMNIST_MLP_1:latest         \u001b[2m                    \u001b[0m\n"
      ]
     },
     "metadata": {},
     "output_type": "display_data"
    },
    {
     "name": "stderr",
     "output_type": "stream",
     "text": [
      "\u001b[34m\u001b[1mwandb\u001b[0m:   1 of 1 files downloaded.  \n"
     ]
    },
    {
     "data": {
      "text/html": [
       "<pre style=\"white-space:pre;overflow-x:auto;line-height:normal;font-family:Menlo,'DejaVu Sans Mono',consolas,'Courier New',monospace\"><span style=\"color: #7fbfbf; text-decoration-color: #7fbfbf\">2025-01-07 14:34:44 </span><span style=\"color: #000080; text-decoration-color: #000080\">INFO    </span> Trying to load                                                    <a href=\"file:///media/donato/Extra-storage/Code/model-merging/cycle-consistent-model-merging/src/ccmm/utils/utils.py\" target=\"_blank\"><span style=\"color: #7f7f7f; text-decoration-color: #7f7f7f\">ccmm.utils.utils</span></a><span style=\"color: #7f7f7f; text-decoration-color: #7f7f7f\">:</span><a href=\"file:///media/donato/Extra-storage/Code/model-merging/cycle-consistent-model-merging/src/ccmm/utils/utils.py#264\" target=\"_blank\"><span style=\"color: #7f7f7f; text-decoration-color: #7f7f7f\">264</span></a>\n",
       "<span style=\"color: #7fbfbf; text-decoration-color: #7fbfbf\">                    </span>         gladia/cycle-consistent-model-merging/EMNIST_MLP_2:latest         <span style=\"color: #7f7f7f; text-decoration-color: #7f7f7f\">                    </span>\n",
       "</pre>\n"
      ],
      "text/plain": [
       "\u001b[2;36m2025-01-07 14:34:44\u001b[0m\u001b[2;36m \u001b[0m\u001b[34mINFO    \u001b[0m Trying to load                                                    \u001b]8;id=682161;file:///media/donato/Extra-storage/Code/model-merging/cycle-consistent-model-merging/src/ccmm/utils/utils.py\u001b\\\u001b[2mccmm.utils.utils\u001b[0m\u001b]8;;\u001b\\\u001b[2m:\u001b[0m\u001b]8;id=77612;file:///media/donato/Extra-storage/Code/model-merging/cycle-consistent-model-merging/src/ccmm/utils/utils.py#264\u001b\\\u001b[2m264\u001b[0m\u001b]8;;\u001b\\\n",
       "\u001b[2;36m                    \u001b[0m         gladia/cycle-consistent-model-merging/EMNIST_MLP_2:latest         \u001b[2m                    \u001b[0m\n"
      ]
     },
     "metadata": {},
     "output_type": "display_data"
    },
    {
     "name": "stderr",
     "output_type": "stream",
     "text": [
      "\u001b[34m\u001b[1mwandb\u001b[0m:   1 of 1 files downloaded.  \n"
     ]
    },
    {
     "data": {
      "text/html": [
       "<pre style=\"white-space:pre;overflow-x:auto;line-height:normal;font-family:Menlo,'DejaVu Sans Mono',consolas,'Courier New',monospace\"><span style=\"color: #7fbfbf; text-decoration-color: #7fbfbf\">2025-01-07 14:34:45 </span><span style=\"color: #000080; text-decoration-color: #000080\">INFO    </span> Using <span style=\"color: #008080; text-decoration-color: #008080; font-weight: bold\">2</span> models with architecture MLP                                       <a href=\"file:///tmp/ipykernel_132860/4100191972.py\" target=\"_blank\"><span style=\"color: #7f7f7f; text-decoration-color: #7f7f7f\">__main__</span></a><span style=\"color: #7f7f7f; text-decoration-color: #7f7f7f\">:</span><a href=\"file:///tmp/ipykernel_132860/4100191972.py#20\" target=\"_blank\"><span style=\"color: #7f7f7f; text-decoration-color: #7f7f7f\">20</span></a>\n",
       "</pre>\n"
      ],
      "text/plain": [
       "\u001b[2;36m2025-01-07 14:34:45\u001b[0m\u001b[2;36m \u001b[0m\u001b[34mINFO    \u001b[0m Using \u001b[1;36m2\u001b[0m models with architecture MLP                                       \u001b]8;id=679197;file:///tmp/ipykernel_132860/4100191972.py\u001b\\\u001b[2m__main__\u001b[0m\u001b]8;;\u001b\\\u001b[2m:\u001b[0m\u001b]8;id=551854;file:///tmp/ipykernel_132860/4100191972.py#20\u001b\\\u001b[2m20\u001b[0m\u001b]8;;\u001b\\\n"
      ]
     },
     "metadata": {},
     "output_type": "display_data"
    }
   ],
   "source": [
    "from ccmm.utils.utils import load_model_from_artifact\n",
    "\n",
    "run = wandb.init(project=core_cfg.core.project_name, entity=core_cfg.core.entity, job_type=\"matching\")\n",
    "\n",
    "# {a: 1, b: 2, c: 3, ..}\n",
    "symbols_to_seed: Dict[int, str] = {map_model_seed_to_symbol(seed): seed for seed in cfg.model_seeds}\n",
    "\n",
    "artifact_path = (\n",
    "    lambda seed: f\"{core_cfg.core.entity}/{core_cfg.core.project_name}/{core_cfg.dataset.name}_{core_cfg.model.model_identifier}_{seed}:latest\"\n",
    ")\n",
    "\n",
    "# {a: model_a, b: model_b, c: model_c, ..}\n",
    "models: Dict[str, LightningModule] = {\n",
    "    map_model_seed_to_symbol(seed): load_model_from_artifact(run, artifact_path(seed)) for seed in cfg.model_seeds\n",
    "}\n",
    "model_orig_weights = {symbol: copy.deepcopy(model.model.state_dict()) for symbol, model in models.items()}\n",
    "\n",
    "num_models = len(models)\n",
    "\n",
    "pylogger.info(f\"Using {num_models} models with architecture {core_cfg.model.model_identifier}\")"
   ]
  },
  {
   "cell_type": "markdown",
   "metadata": {},
   "source": [
    "## Match models"
   ]
  },
  {
   "cell_type": "code",
   "execution_count": 11,
   "metadata": {},
   "outputs": [],
   "source": [
    "# always permute the model having larger character order, i.e. c -> b, b -> a and so on ...\n",
    "from ccmm.matching.matcher import GitRebasinMatcher\n",
    "from ccmm.matching.utils import get_inverse_permutations\n",
    "\n",
    "symbols = set(symbols_to_seed.keys())\n",
    "sorted_symbols = sorted(symbols, reverse=False)\n",
    "fixed_symbol, permutee_symbol = \"a\", \"b\"\n",
    "fixed_model, permutee_model = models[fixed_symbol].cpu(), models[permutee_symbol].cpu()"
   ]
  },
  {
   "cell_type": "code",
   "execution_count": 12,
   "metadata": {},
   "outputs": [],
   "source": [
    "from ccmm.matching.permutation_spec import MLPPermutationSpecBuilder, CNNPermutationSpecBuilder\n",
    "\n",
    "permutation_spec_builder = MLPPermutationSpecBuilder(num_hidden_layers=4)\n",
    "# permutation_spec_builder = CNNPermutationSpecBuilder()\n",
    "permutation_spec = permutation_spec_builder.create_permutation_spec()\n",
    "\n",
    "ref_model = list(models.values())[0]\n",
    "assert set(permutation_spec.layer_and_axes_to_perm.keys()) == set(ref_model.model.state_dict().keys())"
   ]
  },
  {
   "cell_type": "markdown",
   "metadata": {},
   "source": [
    "### Func maps Weight matching"
   ]
  },
  {
   "cell_type": "code",
   "execution_count": 13,
   "metadata": {},
   "outputs": [],
   "source": [
    "restore_original_weights(models, model_orig_weights)"
   ]
  },
  {
   "cell_type": "code",
   "execution_count": 14,
   "metadata": {},
   "outputs": [],
   "source": [
    "from ccmm.matching.func_maps import FM_to_p2p, graph_zoomout_refine\n",
    "\n",
    "w_descrs = 0.5\n",
    "w_laps = 1\n",
    "w_dcomms = 1\n",
    "\n",
    "num_neighbors = 5\n",
    "\n",
    "InitFM_mode = \"identity\"\n",
    "\n",
    "num_zoomout_iters = 20\n",
    "step = 1\n",
    "opt_descriptor_type = \"weights\"  # \"weights\", \"features\", \"features_denoised\", \"eigenneurons\", \"spectral\"\n",
    "mode = \"connectivity\"  # connectivity, distance"
   ]
  },
  {
   "cell_type": "code",
   "execution_count": 15,
   "metadata": {},
   "outputs": [],
   "source": [
    "# dicts for permutations and permuted params, D[a][b] refers to the permutation/params to map b -> a\n",
    "func_permutations = {symb: {other_symb: None for other_symb in symbols.difference(symb)} for symb in symbols}"
   ]
  },
  {
   "cell_type": "code",
   "execution_count": 16,
   "metadata": {},
   "outputs": [],
   "source": [
    "from typing import Tuple\n",
    "from ccmm.matching.func_maps import compute_eigenvectors, fit_func_map\n",
    "from ccmm.matching.permutation_spec import PermutationSpec\n",
    "from ccmm.matching.utils import get_permuted_param, perm_cols, perm_matrix_to_perm_indices, perm_rows\n",
    "from ccmm.matching.weight_matching import (\n",
    "    LayerIterationOrder,\n",
    "    compute_weights_similarity,\n",
    "    get_layer_iteration_order,\n",
    "    solve_linear_assignment_problem,\n",
    ")\n",
    "\n",
    "\n",
    "def func_weight_matching(\n",
    "    ps: PermutationSpec,\n",
    "    fixed,\n",
    "    permutee,\n",
    "    max_iter=100,\n",
    "    init_perm=None,\n",
    "    layer_iteration_order: LayerIterationOrder = LayerIterationOrder.RANDOM,\n",
    "    verbose=False,\n",
    "    method=\"func\",\n",
    "):\n",
    "    \"\"\"\n",
    "    Find a permutation of params_b to make them match params_a.\n",
    "\n",
    "    :param ps: PermutationSpec\n",
    "    :param target: the parameters to match\n",
    "    :param to_permute: the parameters to permute\n",
    "    \"\"\"\n",
    "\n",
    "    if not verbose:\n",
    "        pylogger.setLevel(logging.WARNING)\n",
    "\n",
    "    params_a, params_b = fixed, permutee\n",
    "\n",
    "    perm_sizes = {}\n",
    "\n",
    "    for p, params_and_axes in ps.perm_to_layers_and_axes.items():\n",
    "\n",
    "        # p is the permutation matrix name, e.g. P_0, P_1, ..\n",
    "        # params_and_axes is a list of tuples, each tuple contains the name of the parameter and the axis on which the permutation matrix acts\n",
    "\n",
    "        # it is enough to select a single parameter and axis, since all the parameters permuted by the same matrix have the same shape\n",
    "        ref_tuple = params_and_axes[0]\n",
    "        ref_param_name = ref_tuple[0]\n",
    "        ref_axis = ref_tuple[1]\n",
    "\n",
    "        perm_sizes[p] = params_a[ref_param_name].shape[ref_axis]\n",
    "\n",
    "    # initialize with identity permutation if none given\n",
    "    all_perm_indices = {p: torch.arange(n) for p, n in perm_sizes.items()} if init_perm is None else init_perm\n",
    "    # e.g. P0, P1, ..\n",
    "    perm_names = list(all_perm_indices.keys())\n",
    "\n",
    "    num_layers = len(perm_names)\n",
    "\n",
    "    for iteration in tqdm(range(max_iter), desc=\"Weight matching\"):\n",
    "        progress = False\n",
    "\n",
    "        perm_order = get_layer_iteration_order(layer_iteration_order, num_layers)\n",
    "\n",
    "        for p_ix in perm_order:\n",
    "            print(f\"Permuting {perm_names[p_ix]}\")\n",
    "\n",
    "            p = perm_names[p_ix]\n",
    "            num_neurons = perm_sizes[p]\n",
    "\n",
    "            # all the params that are permuted by this permutation matrix, together with the axis on which it acts\n",
    "            # e.g. ('layer_0.weight', 0), ('layer_0.bias', 0), ('layer_1.weight', 0)..\n",
    "            params_and_axes: List[Tuple[str, int]] = ps.perm_to_layers_and_axes[p]\n",
    "            # sort by axis, so that we can permute the columns of the weight matrices first\n",
    "            params_and_axes = sorted(params_and_axes, key=lambda x: x[1])\n",
    "            # filter out bias\n",
    "            params_and_axes = [x for x in params_and_axes if \"bias\" not in x[0]]\n",
    "\n",
    "            # TODO: check if this is true in more complex architectures (probably not)\n",
    "            assert len(params_and_axes) == 2, f\"Expected 2 params, got {len(params_and_axes)}: {params_and_axes}\"\n",
    "\n",
    "            # AXES 0, CURRENT LAYER\n",
    "            curr_params_name = params_and_axes[0][0]\n",
    "            assert params_and_axes[0][1] == 0\n",
    "\n",
    "            # (num_neurons, neuron_dim)\n",
    "            w_a = copy.deepcopy(params_a[curr_params_name])\n",
    "            w_b = copy.deepcopy(params_b[curr_params_name])\n",
    "            assert w_a.shape == w_b.shape\n",
    "\n",
    "            perms_to_apply = ps.layer_and_axes_to_perm[curr_params_name]\n",
    "\n",
    "            col_perm_to_apply = perms_to_apply[1]\n",
    "\n",
    "            if col_perm_to_apply is not None:\n",
    "                # apply the tranpose of the previous permutation to the columns of the current layer\n",
    "                perm_matrix = perm_indices_to_perm_matrix(all_perm_indices[col_perm_to_apply])\n",
    "                print(\n",
    "                    f\"Permuting the columns of {curr_params_name} with {col_perm_to_apply}, shape: {perm_matrix.shape}\"\n",
    "                )\n",
    "\n",
    "                w_b = perm_cols(w_b, perm_matrix.T)\n",
    "\n",
    "            # AXES 1, NEXT LAYER\n",
    "            next_params_name = params_and_axes[1][0]\n",
    "            w_a_next = copy.deepcopy(params_a[next_params_name])\n",
    "            w_b_next = copy.deepcopy(params_b[next_params_name])\n",
    "\n",
    "            assert w_a_next.shape == w_b_next.shape\n",
    "\n",
    "            perms_to_apply = ps.layer_and_axes_to_perm[next_params_name]\n",
    "            perm_row_next_layer = perms_to_apply[0]\n",
    "\n",
    "            if perm_row_next_layer is not None:\n",
    "                # permute the rows of the next layer by its permutation matrix\n",
    "                w_b_next = perm_rows(w_b_next, perm_indices_to_perm_matrix(all_perm_indices[perm_row_next_layer]))\n",
    "\n",
    "            w_a_next = torch.moveaxis(w_a_next, 1, 0).reshape((num_neurons, -1))\n",
    "            w_b_next = torch.moveaxis(w_b_next, 1, 0).reshape((num_neurons, -1))\n",
    "\n",
    "            w_a = torch.cat((w_a, w_a_next), dim=1)\n",
    "            w_b = torch.cat((w_b, w_b_next), dim=1)\n",
    "\n",
    "            print(f\"w_a shape: {w_a.shape}, w_b shape: {w_b.shape}\")\n",
    "\n",
    "            sim_matrix = w_a @ w_b.T\n",
    "\n",
    "            if method == \"func\":\n",
    "\n",
    "                w_b_evecs, w_a_evecs, w_b_evals, w_a_evals = compute_eigenvectors(\n",
    "                    w_b.numpy(), w_a.numpy(), radius=None, num_neighbors=num_neighbors, mode=mode, normalize_lap=True\n",
    "                )\n",
    "\n",
    "                k1, k2 = int(0.5 * num_neurons), int(0.5 * num_neurons)\n",
    "                print(f\"k1: {k1}, k2: {k2}\")\n",
    "\n",
    "                FM_opt, FM_loss = fit_func_map(\n",
    "                    w_b.numpy(),\n",
    "                    w_a.numpy(),\n",
    "                    w_b_evecs,\n",
    "                    w_a_evecs,\n",
    "                    w_b_evals,\n",
    "                    w_a_evals,\n",
    "                    k1,\n",
    "                    k2,\n",
    "                    InitFM_mode,\n",
    "                    w_descrs,\n",
    "                    w_lap=w_laps,\n",
    "                    w_dcomm=w_dcomms,\n",
    "                    method=\"optimize\",\n",
    "                )\n",
    "\n",
    "                FM_opt_zo = graph_zoomout_refine(FM_opt, w_b_evecs, w_a_evecs, num_iters=num_zoomout_iters, step=step)\n",
    "\n",
    "                perm = FM_to_p2p(FM_opt_zo, w_b_evecs, w_a_evecs, n_jobs=1)\n",
    "\n",
    "            elif method == \"lap\":\n",
    "                perm = solve_linear_assignment_problem(sim_matrix, return_matrix=True)\n",
    "\n",
    "            # plt.imshow(perm, cmap=\"coolwarm\")\n",
    "            # plt.show()\n",
    "\n",
    "            old_similarity = compute_weights_similarity(sim_matrix, all_perm_indices[p])\n",
    "\n",
    "            all_perm_indices[p] = perm_matrix_to_perm_indices(perm)\n",
    "\n",
    "            new_similarity = compute_weights_similarity(sim_matrix, all_perm_indices[p])\n",
    "\n",
    "            pylogger.info(f\"Iteration {iteration}, Permutation {p}: {new_similarity - old_similarity}\")\n",
    "\n",
    "            progress = progress or new_similarity > old_similarity + 1e-12\n",
    "            # loss_decrease = loss[p] - FM_loss\n",
    "            # progress = progress or loss_decrease > 1e-6\n",
    "            # pylogger.info(f\"Loss decrease for {p}: {loss_decrease}\")\n",
    "\n",
    "            # loss[p] = FM_loss\n",
    "\n",
    "        if not progress:\n",
    "            break\n",
    "\n",
    "    return all_perm_indices"
   ]
  },
  {
   "cell_type": "code",
   "execution_count": 17,
   "metadata": {},
   "outputs": [
    {
     "name": "stderr",
     "output_type": "stream",
     "text": [
      "Weight matching:   0%|          | 0/100 [00:00<?, ?it/s]"
     ]
    },
    {
     "name": "stdout",
     "output_type": "stream",
     "text": [
      "Permuting P_0\n",
      "w_a shape: torch.Size([512, 1296]), w_b shape: torch.Size([512, 1296])\n",
      "k1: 256, k2: 256\n",
      "Optimization terminated successfully.\n",
      "         Current function value: 339.217122\n",
      "         Iterations: 86\n",
      "         Function evaluations: 139\n",
      "         Gradient evaluations: 139\n"
     ]
    },
    {
     "data": {
      "text/html": [
       "<pre style=\"white-space:pre;overflow-x:auto;line-height:normal;font-family:Menlo,'DejaVu Sans Mono',consolas,'Courier New',monospace\"><span style=\"color: #7fbfbf; text-decoration-color: #7fbfbf\">2025-01-07 14:35:03 </span><span style=\"color: #000080; text-decoration-color: #000080\">INFO    </span> Iteration <span style=\"color: #008080; text-decoration-color: #008080; font-weight: bold\">0</span>, Permutation P_0: <span style=\"color: #008080; text-decoration-color: #008080; font-weight: bold\">413.10369873046875</span>                          <a href=\"file:///tmp/ipykernel_132860/1970187617.py\" target=\"_blank\"><span style=\"color: #7f7f7f; text-decoration-color: #7f7f7f\">__main__</span></a><span style=\"color: #7f7f7f; text-decoration-color: #7f7f7f\">:</span><a href=\"file:///tmp/ipykernel_132860/1970187617.py#142\" target=\"_blank\"><span style=\"color: #7f7f7f; text-decoration-color: #7f7f7f\">142</span></a>\n",
       "</pre>\n"
      ],
      "text/plain": [
       "\u001b[2;36m2025-01-07 14:35:03\u001b[0m\u001b[2;36m \u001b[0m\u001b[34mINFO    \u001b[0m Iteration \u001b[1;36m0\u001b[0m, Permutation P_0: \u001b[1;36m413.10369873046875\u001b[0m                          \u001b]8;id=556350;file:///tmp/ipykernel_132860/1970187617.py\u001b\\\u001b[2m__main__\u001b[0m\u001b]8;;\u001b\\\u001b[2m:\u001b[0m\u001b]8;id=630242;file:///tmp/ipykernel_132860/1970187617.py#142\u001b\\\u001b[2m142\u001b[0m\u001b]8;;\u001b\\\n"
      ]
     },
     "metadata": {},
     "output_type": "display_data"
    },
    {
     "name": "stdout",
     "output_type": "stream",
     "text": [
      "Permuting P_1\n",
      "Permuting the columns of layer1.weight with P_0, shape: torch.Size([512, 512])\n",
      "w_a shape: torch.Size([512, 1024]), w_b shape: torch.Size([512, 1024])\n",
      "k1: 256, k2: 256\n",
      "Optimization terminated successfully.\n",
      "         Current function value: 305.449487\n",
      "         Iterations: 72\n",
      "         Function evaluations: 123\n",
      "         Gradient evaluations: 123\n"
     ]
    },
    {
     "data": {
      "text/html": [
       "<pre style=\"white-space:pre;overflow-x:auto;line-height:normal;font-family:Menlo,'DejaVu Sans Mono',consolas,'Courier New',monospace\"><span style=\"color: #7fbfbf; text-decoration-color: #7fbfbf\">2025-01-07 14:35:18 </span><span style=\"color: #000080; text-decoration-color: #000080\">INFO    </span> Iteration <span style=\"color: #008080; text-decoration-color: #008080; font-weight: bold\">0</span>, Permutation P_1: <span style=\"color: #008080; text-decoration-color: #008080; font-weight: bold\">42.87742614746094</span>                           <a href=\"file:///tmp/ipykernel_132860/1970187617.py\" target=\"_blank\"><span style=\"color: #7f7f7f; text-decoration-color: #7f7f7f\">__main__</span></a><span style=\"color: #7f7f7f; text-decoration-color: #7f7f7f\">:</span><a href=\"file:///tmp/ipykernel_132860/1970187617.py#142\" target=\"_blank\"><span style=\"color: #7f7f7f; text-decoration-color: #7f7f7f\">142</span></a>\n",
       "</pre>\n"
      ],
      "text/plain": [
       "\u001b[2;36m2025-01-07 14:35:18\u001b[0m\u001b[2;36m \u001b[0m\u001b[34mINFO    \u001b[0m Iteration \u001b[1;36m0\u001b[0m, Permutation P_1: \u001b[1;36m42.87742614746094\u001b[0m                           \u001b]8;id=695568;file:///tmp/ipykernel_132860/1970187617.py\u001b\\\u001b[2m__main__\u001b[0m\u001b]8;;\u001b\\\u001b[2m:\u001b[0m\u001b]8;id=388715;file:///tmp/ipykernel_132860/1970187617.py#142\u001b\\\u001b[2m142\u001b[0m\u001b]8;;\u001b\\\n"
      ]
     },
     "metadata": {},
     "output_type": "display_data"
    },
    {
     "name": "stdout",
     "output_type": "stream",
     "text": [
      "Permuting P_2\n",
      "Permuting the columns of layer2.weight with P_1, shape: torch.Size([512, 512])\n",
      "w_a shape: torch.Size([512, 768]), w_b shape: torch.Size([512, 768])\n",
      "k1: 256, k2: 256\n",
      "Optimization terminated successfully.\n",
      "         Current function value: 186.202733\n",
      "         Iterations: 113\n",
      "         Function evaluations: 170\n",
      "         Gradient evaluations: 170\n"
     ]
    },
    {
     "data": {
      "text/html": [
       "<pre style=\"white-space:pre;overflow-x:auto;line-height:normal;font-family:Menlo,'DejaVu Sans Mono',consolas,'Courier New',monospace\"><span style=\"color: #7fbfbf; text-decoration-color: #7fbfbf\">2025-01-07 14:35:34 </span><span style=\"color: #000080; text-decoration-color: #000080\">INFO    </span> Iteration <span style=\"color: #008080; text-decoration-color: #008080; font-weight: bold\">0</span>, Permutation P_2: <span style=\"color: #008080; text-decoration-color: #008080; font-weight: bold\">27.159881591796875</span>                          <a href=\"file:///tmp/ipykernel_132860/1970187617.py\" target=\"_blank\"><span style=\"color: #7f7f7f; text-decoration-color: #7f7f7f\">__main__</span></a><span style=\"color: #7f7f7f; text-decoration-color: #7f7f7f\">:</span><a href=\"file:///tmp/ipykernel_132860/1970187617.py#142\" target=\"_blank\"><span style=\"color: #7f7f7f; text-decoration-color: #7f7f7f\">142</span></a>\n",
       "</pre>\n"
      ],
      "text/plain": [
       "\u001b[2;36m2025-01-07 14:35:34\u001b[0m\u001b[2;36m \u001b[0m\u001b[34mINFO    \u001b[0m Iteration \u001b[1;36m0\u001b[0m, Permutation P_2: \u001b[1;36m27.159881591796875\u001b[0m                          \u001b]8;id=648379;file:///tmp/ipykernel_132860/1970187617.py\u001b\\\u001b[2m__main__\u001b[0m\u001b]8;;\u001b\\\u001b[2m:\u001b[0m\u001b]8;id=721919;file:///tmp/ipykernel_132860/1970187617.py#142\u001b\\\u001b[2m142\u001b[0m\u001b]8;;\u001b\\\n"
      ]
     },
     "metadata": {},
     "output_type": "display_data"
    },
    {
     "name": "stdout",
     "output_type": "stream",
     "text": [
      "Permuting P_3\n",
      "Permuting the columns of layer3.weight with P_2, shape: torch.Size([512, 512])\n",
      "w_a shape: torch.Size([256, 539]), w_b shape: torch.Size([256, 539])\n",
      "k1: 128, k2: 128\n",
      "Optimization terminated successfully.\n",
      "         Current function value: 62.626193\n",
      "         Iterations: 59\n",
      "         Function evaluations: 96\n",
      "         Gradient evaluations: 96\n"
     ]
    },
    {
     "data": {
      "text/html": [
       "<pre style=\"white-space:pre;overflow-x:auto;line-height:normal;font-family:Menlo,'DejaVu Sans Mono',consolas,'Courier New',monospace\"><span style=\"color: #7fbfbf; text-decoration-color: #7fbfbf\">2025-01-07 14:35:39 </span><span style=\"color: #000080; text-decoration-color: #000080\">INFO    </span> Iteration <span style=\"color: #008080; text-decoration-color: #008080; font-weight: bold\">0</span>, Permutation P_3: <span style=\"color: #008080; text-decoration-color: #008080; font-weight: bold\">8.753828048706055</span>                           <a href=\"file:///tmp/ipykernel_132860/1970187617.py\" target=\"_blank\"><span style=\"color: #7f7f7f; text-decoration-color: #7f7f7f\">__main__</span></a><span style=\"color: #7f7f7f; text-decoration-color: #7f7f7f\">:</span><a href=\"file:///tmp/ipykernel_132860/1970187617.py#142\" target=\"_blank\"><span style=\"color: #7f7f7f; text-decoration-color: #7f7f7f\">142</span></a>\n",
       "</pre>\n"
      ],
      "text/plain": [
       "\u001b[2;36m2025-01-07 14:35:39\u001b[0m\u001b[2;36m \u001b[0m\u001b[34mINFO    \u001b[0m Iteration \u001b[1;36m0\u001b[0m, Permutation P_3: \u001b[1;36m8.753828048706055\u001b[0m                           \u001b]8;id=643718;file:///tmp/ipykernel_132860/1970187617.py\u001b\\\u001b[2m__main__\u001b[0m\u001b]8;;\u001b\\\u001b[2m:\u001b[0m\u001b]8;id=66844;file:///tmp/ipykernel_132860/1970187617.py#142\u001b\\\u001b[2m142\u001b[0m\u001b]8;;\u001b\\\n"
      ]
     },
     "metadata": {},
     "output_type": "display_data"
    },
    {
     "name": "stderr",
     "output_type": "stream",
     "text": [
      "Weight matching:   1%|          | 1/100 [00:53<1:27:58, 53.32s/it]"
     ]
    },
    {
     "name": "stdout",
     "output_type": "stream",
     "text": [
      "Permuting P_1\n",
      "Permuting the columns of layer1.weight with P_0, shape: torch.Size([512, 512])\n",
      "w_a shape: torch.Size([512, 1024]), w_b shape: torch.Size([512, 1024])\n",
      "k1: 256, k2: 256\n",
      "Optimization terminated successfully.\n",
      "         Current function value: 304.926965\n",
      "         Iterations: 72\n",
      "         Function evaluations: 121\n",
      "         Gradient evaluations: 121\n"
     ]
    },
    {
     "data": {
      "text/html": [
       "<pre style=\"white-space:pre;overflow-x:auto;line-height:normal;font-family:Menlo,'DejaVu Sans Mono',consolas,'Courier New',monospace\"><span style=\"color: #7fbfbf; text-decoration-color: #7fbfbf\">2025-01-07 14:35:50 </span><span style=\"color: #000080; text-decoration-color: #000080\">INFO    </span> Iteration <span style=\"color: #008080; text-decoration-color: #008080; font-weight: bold\">1</span>, Permutation P_1: <span style=\"color: #008080; text-decoration-color: #008080; font-weight: bold\">-12.074813842773438</span>                         <a href=\"file:///tmp/ipykernel_132860/1970187617.py\" target=\"_blank\"><span style=\"color: #7f7f7f; text-decoration-color: #7f7f7f\">__main__</span></a><span style=\"color: #7f7f7f; text-decoration-color: #7f7f7f\">:</span><a href=\"file:///tmp/ipykernel_132860/1970187617.py#142\" target=\"_blank\"><span style=\"color: #7f7f7f; text-decoration-color: #7f7f7f\">142</span></a>\n",
       "</pre>\n"
      ],
      "text/plain": [
       "\u001b[2;36m2025-01-07 14:35:50\u001b[0m\u001b[2;36m \u001b[0m\u001b[34mINFO    \u001b[0m Iteration \u001b[1;36m1\u001b[0m, Permutation P_1: \u001b[1;36m-12.074813842773438\u001b[0m                         \u001b]8;id=296678;file:///tmp/ipykernel_132860/1970187617.py\u001b\\\u001b[2m__main__\u001b[0m\u001b]8;;\u001b\\\u001b[2m:\u001b[0m\u001b]8;id=508184;file:///tmp/ipykernel_132860/1970187617.py#142\u001b\\\u001b[2m142\u001b[0m\u001b]8;;\u001b\\\n"
      ]
     },
     "metadata": {},
     "output_type": "display_data"
    },
    {
     "name": "stdout",
     "output_type": "stream",
     "text": [
      "Permuting P_0\n",
      "w_a shape: torch.Size([512, 1296]), w_b shape: torch.Size([512, 1296])\n",
      "k1: 256, k2: 256\n",
      "Optimization terminated successfully.\n",
      "         Current function value: 334.274548\n",
      "         Iterations: 95\n",
      "         Function evaluations: 158\n",
      "         Gradient evaluations: 158\n"
     ]
    },
    {
     "data": {
      "text/html": [
       "<pre style=\"white-space:pre;overflow-x:auto;line-height:normal;font-family:Menlo,'DejaVu Sans Mono',consolas,'Courier New',monospace\"><span style=\"color: #7fbfbf; text-decoration-color: #7fbfbf\">2025-01-07 14:36:03 </span><span style=\"color: #000080; text-decoration-color: #000080\">INFO    </span> Iteration <span style=\"color: #008080; text-decoration-color: #008080; font-weight: bold\">1</span>, Permutation P_0: <span style=\"color: #008080; text-decoration-color: #008080; font-weight: bold\">19.00506591796875</span>                           <a href=\"file:///tmp/ipykernel_132860/1970187617.py\" target=\"_blank\"><span style=\"color: #7f7f7f; text-decoration-color: #7f7f7f\">__main__</span></a><span style=\"color: #7f7f7f; text-decoration-color: #7f7f7f\">:</span><a href=\"file:///tmp/ipykernel_132860/1970187617.py#142\" target=\"_blank\"><span style=\"color: #7f7f7f; text-decoration-color: #7f7f7f\">142</span></a>\n",
       "</pre>\n"
      ],
      "text/plain": [
       "\u001b[2;36m2025-01-07 14:36:03\u001b[0m\u001b[2;36m \u001b[0m\u001b[34mINFO    \u001b[0m Iteration \u001b[1;36m1\u001b[0m, Permutation P_0: \u001b[1;36m19.00506591796875\u001b[0m                           \u001b]8;id=286662;file:///tmp/ipykernel_132860/1970187617.py\u001b\\\u001b[2m__main__\u001b[0m\u001b]8;;\u001b\\\u001b[2m:\u001b[0m\u001b]8;id=454140;file:///tmp/ipykernel_132860/1970187617.py#142\u001b\\\u001b[2m142\u001b[0m\u001b]8;;\u001b\\\n"
      ]
     },
     "metadata": {},
     "output_type": "display_data"
    },
    {
     "name": "stdout",
     "output_type": "stream",
     "text": [
      "Permuting P_3\n",
      "Permuting the columns of layer3.weight with P_2, shape: torch.Size([512, 512])\n",
      "w_a shape: torch.Size([256, 539]), w_b shape: torch.Size([256, 539])\n",
      "k1: 128, k2: 128\n",
      "Optimization terminated successfully.\n",
      "         Current function value: 62.626193\n",
      "         Iterations: 59\n",
      "         Function evaluations: 96\n",
      "         Gradient evaluations: 96\n"
     ]
    },
    {
     "data": {
      "text/html": [
       "<pre style=\"white-space:pre;overflow-x:auto;line-height:normal;font-family:Menlo,'DejaVu Sans Mono',consolas,'Courier New',monospace\"><span style=\"color: #7fbfbf; text-decoration-color: #7fbfbf\">2025-01-07 14:36:07 </span><span style=\"color: #000080; text-decoration-color: #000080\">INFO    </span> Iteration <span style=\"color: #008080; text-decoration-color: #008080; font-weight: bold\">1</span>, Permutation P_3: <span style=\"color: #008080; text-decoration-color: #008080; font-weight: bold\">0.0</span>                                         <a href=\"file:///tmp/ipykernel_132860/1970187617.py\" target=\"_blank\"><span style=\"color: #7f7f7f; text-decoration-color: #7f7f7f\">__main__</span></a><span style=\"color: #7f7f7f; text-decoration-color: #7f7f7f\">:</span><a href=\"file:///tmp/ipykernel_132860/1970187617.py#142\" target=\"_blank\"><span style=\"color: #7f7f7f; text-decoration-color: #7f7f7f\">142</span></a>\n",
       "</pre>\n"
      ],
      "text/plain": [
       "\u001b[2;36m2025-01-07 14:36:07\u001b[0m\u001b[2;36m \u001b[0m\u001b[34mINFO    \u001b[0m Iteration \u001b[1;36m1\u001b[0m, Permutation P_3: \u001b[1;36m0.0\u001b[0m                                         \u001b]8;id=5499;file:///tmp/ipykernel_132860/1970187617.py\u001b\\\u001b[2m__main__\u001b[0m\u001b]8;;\u001b\\\u001b[2m:\u001b[0m\u001b]8;id=393881;file:///tmp/ipykernel_132860/1970187617.py#142\u001b\\\u001b[2m142\u001b[0m\u001b]8;;\u001b\\\n"
      ]
     },
     "metadata": {},
     "output_type": "display_data"
    },
    {
     "name": "stdout",
     "output_type": "stream",
     "text": [
      "Permuting P_2\n",
      "Permuting the columns of layer2.weight with P_1, shape: torch.Size([512, 512])\n",
      "w_a shape: torch.Size([512, 768]), w_b shape: torch.Size([512, 768])\n",
      "k1: 256, k2: 256\n",
      "Optimization terminated successfully.\n",
      "         Current function value: 188.192853\n",
      "         Iterations: 108\n",
      "         Function evaluations: 172\n",
      "         Gradient evaluations: 172\n"
     ]
    },
    {
     "data": {
      "text/html": [
       "<pre style=\"white-space:pre;overflow-x:auto;line-height:normal;font-family:Menlo,'DejaVu Sans Mono',consolas,'Courier New',monospace\"><span style=\"color: #7fbfbf; text-decoration-color: #7fbfbf\">2025-01-07 14:36:17 </span><span style=\"color: #000080; text-decoration-color: #000080\">INFO    </span> Iteration <span style=\"color: #008080; text-decoration-color: #008080; font-weight: bold\">1</span>, Permutation P_2: <span style=\"color: #008080; text-decoration-color: #008080; font-weight: bold\">10.537078857421875</span>                          <a href=\"file:///tmp/ipykernel_132860/1970187617.py\" target=\"_blank\"><span style=\"color: #7f7f7f; text-decoration-color: #7f7f7f\">__main__</span></a><span style=\"color: #7f7f7f; text-decoration-color: #7f7f7f\">:</span><a href=\"file:///tmp/ipykernel_132860/1970187617.py#142\" target=\"_blank\"><span style=\"color: #7f7f7f; text-decoration-color: #7f7f7f\">142</span></a>\n",
       "</pre>\n"
      ],
      "text/plain": [
       "\u001b[2;36m2025-01-07 14:36:17\u001b[0m\u001b[2;36m \u001b[0m\u001b[34mINFO    \u001b[0m Iteration \u001b[1;36m1\u001b[0m, Permutation P_2: \u001b[1;36m10.537078857421875\u001b[0m                          \u001b]8;id=358314;file:///tmp/ipykernel_132860/1970187617.py\u001b\\\u001b[2m__main__\u001b[0m\u001b]8;;\u001b\\\u001b[2m:\u001b[0m\u001b]8;id=14710;file:///tmp/ipykernel_132860/1970187617.py#142\u001b\\\u001b[2m142\u001b[0m\u001b]8;;\u001b\\\n"
      ]
     },
     "metadata": {},
     "output_type": "display_data"
    },
    {
     "name": "stderr",
     "output_type": "stream",
     "text": [
      "Weight matching:   2%|▏         | 2/100 [01:31<1:12:38, 44.47s/it]"
     ]
    },
    {
     "name": "stdout",
     "output_type": "stream",
     "text": [
      "Permuting P_0\n",
      "w_a shape: torch.Size([512, 1296]), w_b shape: torch.Size([512, 1296])\n",
      "k1: 256, k2: 256\n",
      "Optimization terminated successfully.\n",
      "         Current function value: 334.274548\n",
      "         Iterations: 95\n",
      "         Function evaluations: 158\n",
      "         Gradient evaluations: 158\n"
     ]
    },
    {
     "data": {
      "text/html": [
       "<pre style=\"white-space:pre;overflow-x:auto;line-height:normal;font-family:Menlo,'DejaVu Sans Mono',consolas,'Courier New',monospace\"><span style=\"color: #7fbfbf; text-decoration-color: #7fbfbf\">2025-01-07 14:36:29 </span><span style=\"color: #000080; text-decoration-color: #000080\">INFO    </span> Iteration <span style=\"color: #008080; text-decoration-color: #008080; font-weight: bold\">2</span>, Permutation P_0: <span style=\"color: #008080; text-decoration-color: #008080; font-weight: bold\">0.0</span>                                         <a href=\"file:///tmp/ipykernel_132860/1970187617.py\" target=\"_blank\"><span style=\"color: #7f7f7f; text-decoration-color: #7f7f7f\">__main__</span></a><span style=\"color: #7f7f7f; text-decoration-color: #7f7f7f\">:</span><a href=\"file:///tmp/ipykernel_132860/1970187617.py#142\" target=\"_blank\"><span style=\"color: #7f7f7f; text-decoration-color: #7f7f7f\">142</span></a>\n",
       "</pre>\n"
      ],
      "text/plain": [
       "\u001b[2;36m2025-01-07 14:36:29\u001b[0m\u001b[2;36m \u001b[0m\u001b[34mINFO    \u001b[0m Iteration \u001b[1;36m2\u001b[0m, Permutation P_0: \u001b[1;36m0.0\u001b[0m                                         \u001b]8;id=89882;file:///tmp/ipykernel_132860/1970187617.py\u001b\\\u001b[2m__main__\u001b[0m\u001b]8;;\u001b\\\u001b[2m:\u001b[0m\u001b]8;id=934345;file:///tmp/ipykernel_132860/1970187617.py#142\u001b\\\u001b[2m142\u001b[0m\u001b]8;;\u001b\\\n"
      ]
     },
     "metadata": {},
     "output_type": "display_data"
    },
    {
     "name": "stdout",
     "output_type": "stream",
     "text": [
      "Permuting P_3\n",
      "Permuting the columns of layer3.weight with P_2, shape: torch.Size([512, 512])\n",
      "w_a shape: torch.Size([256, 539]), w_b shape: torch.Size([256, 539])\n",
      "k1: 128, k2: 128\n",
      "Optimization terminated successfully.\n",
      "         Current function value: 61.712802\n",
      "         Iterations: 58\n",
      "         Function evaluations: 95\n",
      "         Gradient evaluations: 95\n"
     ]
    },
    {
     "data": {
      "text/html": [
       "<pre style=\"white-space:pre;overflow-x:auto;line-height:normal;font-family:Menlo,'DejaVu Sans Mono',consolas,'Courier New',monospace\"><span style=\"color: #7fbfbf; text-decoration-color: #7fbfbf\">2025-01-07 14:36:34 </span><span style=\"color: #000080; text-decoration-color: #000080\">INFO    </span> Iteration <span style=\"color: #008080; text-decoration-color: #008080; font-weight: bold\">2</span>, Permutation P_3: <span style=\"color: #008080; text-decoration-color: #008080; font-weight: bold\">3.4029808044433594</span>                          <a href=\"file:///tmp/ipykernel_132860/1970187617.py\" target=\"_blank\"><span style=\"color: #7f7f7f; text-decoration-color: #7f7f7f\">__main__</span></a><span style=\"color: #7f7f7f; text-decoration-color: #7f7f7f\">:</span><a href=\"file:///tmp/ipykernel_132860/1970187617.py#142\" target=\"_blank\"><span style=\"color: #7f7f7f; text-decoration-color: #7f7f7f\">142</span></a>\n",
       "</pre>\n"
      ],
      "text/plain": [
       "\u001b[2;36m2025-01-07 14:36:34\u001b[0m\u001b[2;36m \u001b[0m\u001b[34mINFO    \u001b[0m Iteration \u001b[1;36m2\u001b[0m, Permutation P_3: \u001b[1;36m3.4029808044433594\u001b[0m                          \u001b]8;id=711381;file:///tmp/ipykernel_132860/1970187617.py\u001b\\\u001b[2m__main__\u001b[0m\u001b]8;;\u001b\\\u001b[2m:\u001b[0m\u001b]8;id=254212;file:///tmp/ipykernel_132860/1970187617.py#142\u001b\\\u001b[2m142\u001b[0m\u001b]8;;\u001b\\\n"
      ]
     },
     "metadata": {},
     "output_type": "display_data"
    },
    {
     "name": "stdout",
     "output_type": "stream",
     "text": [
      "Permuting P_1\n",
      "Permuting the columns of layer1.weight with P_0, shape: torch.Size([512, 512])\n",
      "w_a shape: torch.Size([512, 1024]), w_b shape: torch.Size([512, 1024])\n",
      "k1: 256, k2: 256\n",
      "Optimization terminated successfully.\n",
      "         Current function value: 305.999540\n",
      "         Iterations: 72\n",
      "         Function evaluations: 122\n",
      "         Gradient evaluations: 122\n"
     ]
    },
    {
     "data": {
      "text/html": [
       "<pre style=\"white-space:pre;overflow-x:auto;line-height:normal;font-family:Menlo,'DejaVu Sans Mono',consolas,'Courier New',monospace\"><span style=\"color: #7fbfbf; text-decoration-color: #7fbfbf\">2025-01-07 14:36:41 </span><span style=\"color: #000080; text-decoration-color: #000080\">INFO    </span> Iteration <span style=\"color: #008080; text-decoration-color: #008080; font-weight: bold\">2</span>, Permutation P_1: <span style=\"color: #008080; text-decoration-color: #008080; font-weight: bold\">-15.08282470703125</span>                          <a href=\"file:///tmp/ipykernel_132860/1970187617.py\" target=\"_blank\"><span style=\"color: #7f7f7f; text-decoration-color: #7f7f7f\">__main__</span></a><span style=\"color: #7f7f7f; text-decoration-color: #7f7f7f\">:</span><a href=\"file:///tmp/ipykernel_132860/1970187617.py#142\" target=\"_blank\"><span style=\"color: #7f7f7f; text-decoration-color: #7f7f7f\">142</span></a>\n",
       "</pre>\n"
      ],
      "text/plain": [
       "\u001b[2;36m2025-01-07 14:36:41\u001b[0m\u001b[2;36m \u001b[0m\u001b[34mINFO    \u001b[0m Iteration \u001b[1;36m2\u001b[0m, Permutation P_1: \u001b[1;36m-15.08282470703125\u001b[0m                          \u001b]8;id=841135;file:///tmp/ipykernel_132860/1970187617.py\u001b\\\u001b[2m__main__\u001b[0m\u001b]8;;\u001b\\\u001b[2m:\u001b[0m\u001b]8;id=949821;file:///tmp/ipykernel_132860/1970187617.py#142\u001b\\\u001b[2m142\u001b[0m\u001b]8;;\u001b\\\n"
      ]
     },
     "metadata": {},
     "output_type": "display_data"
    },
    {
     "name": "stdout",
     "output_type": "stream",
     "text": [
      "Permuting P_2\n",
      "Permuting the columns of layer2.weight with P_1, shape: torch.Size([512, 512])\n",
      "w_a shape: torch.Size([512, 768]), w_b shape: torch.Size([512, 768])\n",
      "k1: 256, k2: 256\n",
      "Optimization terminated successfully.\n",
      "         Current function value: 188.079437\n",
      "         Iterations: 109\n",
      "         Function evaluations: 168\n",
      "         Gradient evaluations: 168\n"
     ]
    },
    {
     "data": {
      "text/html": [
       "<pre style=\"white-space:pre;overflow-x:auto;line-height:normal;font-family:Menlo,'DejaVu Sans Mono',consolas,'Courier New',monospace\"><span style=\"color: #7fbfbf; text-decoration-color: #7fbfbf\">2025-01-07 14:36:50 </span><span style=\"color: #000080; text-decoration-color: #000080\">INFO    </span> Iteration <span style=\"color: #008080; text-decoration-color: #008080; font-weight: bold\">2</span>, Permutation P_2: <span style=\"color: #008080; text-decoration-color: #008080; font-weight: bold\">-2.0957412719726562</span>                         <a href=\"file:///tmp/ipykernel_132860/1970187617.py\" target=\"_blank\"><span style=\"color: #7f7f7f; text-decoration-color: #7f7f7f\">__main__</span></a><span style=\"color: #7f7f7f; text-decoration-color: #7f7f7f\">:</span><a href=\"file:///tmp/ipykernel_132860/1970187617.py#142\" target=\"_blank\"><span style=\"color: #7f7f7f; text-decoration-color: #7f7f7f\">142</span></a>\n",
       "</pre>\n"
      ],
      "text/plain": [
       "\u001b[2;36m2025-01-07 14:36:50\u001b[0m\u001b[2;36m \u001b[0m\u001b[34mINFO    \u001b[0m Iteration \u001b[1;36m2\u001b[0m, Permutation P_2: \u001b[1;36m-2.0957412719726562\u001b[0m                         \u001b]8;id=923776;file:///tmp/ipykernel_132860/1970187617.py\u001b\\\u001b[2m__main__\u001b[0m\u001b]8;;\u001b\\\u001b[2m:\u001b[0m\u001b]8;id=172101;file:///tmp/ipykernel_132860/1970187617.py#142\u001b\\\u001b[2m142\u001b[0m\u001b]8;;\u001b\\\n"
      ]
     },
     "metadata": {},
     "output_type": "display_data"
    },
    {
     "name": "stderr",
     "output_type": "stream",
     "text": [
      "Weight matching:   3%|▎         | 3/100 [02:04<1:03:21, 39.19s/it]"
     ]
    },
    {
     "name": "stdout",
     "output_type": "stream",
     "text": [
      "Permuting P_0\n",
      "w_a shape: torch.Size([512, 1296]), w_b shape: torch.Size([512, 1296])\n",
      "k1: 256, k2: 256\n",
      "Optimization terminated successfully.\n",
      "         Current function value: 336.957906\n",
      "         Iterations: 100\n",
      "         Function evaluations: 159\n",
      "         Gradient evaluations: 159\n"
     ]
    },
    {
     "data": {
      "text/html": [
       "<pre style=\"white-space:pre;overflow-x:auto;line-height:normal;font-family:Menlo,'DejaVu Sans Mono',consolas,'Courier New',monospace\"><span style=\"color: #7fbfbf; text-decoration-color: #7fbfbf\">2025-01-07 14:37:03 </span><span style=\"color: #000080; text-decoration-color: #000080\">INFO    </span> Iteration <span style=\"color: #008080; text-decoration-color: #008080; font-weight: bold\">3</span>, Permutation P_0: <span style=\"color: #008080; text-decoration-color: #008080; font-weight: bold\">6.612548828125</span>                              <a href=\"file:///tmp/ipykernel_132860/1970187617.py\" target=\"_blank\"><span style=\"color: #7f7f7f; text-decoration-color: #7f7f7f\">__main__</span></a><span style=\"color: #7f7f7f; text-decoration-color: #7f7f7f\">:</span><a href=\"file:///tmp/ipykernel_132860/1970187617.py#142\" target=\"_blank\"><span style=\"color: #7f7f7f; text-decoration-color: #7f7f7f\">142</span></a>\n",
       "</pre>\n"
      ],
      "text/plain": [
       "\u001b[2;36m2025-01-07 14:37:03\u001b[0m\u001b[2;36m \u001b[0m\u001b[34mINFO    \u001b[0m Iteration \u001b[1;36m3\u001b[0m, Permutation P_0: \u001b[1;36m6.612548828125\u001b[0m                              \u001b]8;id=739053;file:///tmp/ipykernel_132860/1970187617.py\u001b\\\u001b[2m__main__\u001b[0m\u001b]8;;\u001b\\\u001b[2m:\u001b[0m\u001b]8;id=26163;file:///tmp/ipykernel_132860/1970187617.py#142\u001b\\\u001b[2m142\u001b[0m\u001b]8;;\u001b\\\n"
      ]
     },
     "metadata": {},
     "output_type": "display_data"
    },
    {
     "name": "stdout",
     "output_type": "stream",
     "text": [
      "Permuting P_2\n",
      "Permuting the columns of layer2.weight with P_1, shape: torch.Size([512, 512])\n",
      "w_a shape: torch.Size([512, 768]), w_b shape: torch.Size([512, 768])\n",
      "k1: 256, k2: 256\n",
      "Optimization terminated successfully.\n",
      "         Current function value: 188.079437\n",
      "         Iterations: 109\n",
      "         Function evaluations: 168\n",
      "         Gradient evaluations: 168\n"
     ]
    },
    {
     "data": {
      "text/html": [
       "<pre style=\"white-space:pre;overflow-x:auto;line-height:normal;font-family:Menlo,'DejaVu Sans Mono',consolas,'Courier New',monospace\"><span style=\"color: #7fbfbf; text-decoration-color: #7fbfbf\">2025-01-07 14:37:14 </span><span style=\"color: #000080; text-decoration-color: #000080\">INFO    </span> Iteration <span style=\"color: #008080; text-decoration-color: #008080; font-weight: bold\">3</span>, Permutation P_2: <span style=\"color: #008080; text-decoration-color: #008080; font-weight: bold\">0.0</span>                                         <a href=\"file:///tmp/ipykernel_132860/1970187617.py\" target=\"_blank\"><span style=\"color: #7f7f7f; text-decoration-color: #7f7f7f\">__main__</span></a><span style=\"color: #7f7f7f; text-decoration-color: #7f7f7f\">:</span><a href=\"file:///tmp/ipykernel_132860/1970187617.py#142\" target=\"_blank\"><span style=\"color: #7f7f7f; text-decoration-color: #7f7f7f\">142</span></a>\n",
       "</pre>\n"
      ],
      "text/plain": [
       "\u001b[2;36m2025-01-07 14:37:14\u001b[0m\u001b[2;36m \u001b[0m\u001b[34mINFO    \u001b[0m Iteration \u001b[1;36m3\u001b[0m, Permutation P_2: \u001b[1;36m0.0\u001b[0m                                         \u001b]8;id=631409;file:///tmp/ipykernel_132860/1970187617.py\u001b\\\u001b[2m__main__\u001b[0m\u001b]8;;\u001b\\\u001b[2m:\u001b[0m\u001b]8;id=643318;file:///tmp/ipykernel_132860/1970187617.py#142\u001b\\\u001b[2m142\u001b[0m\u001b]8;;\u001b\\\n"
      ]
     },
     "metadata": {},
     "output_type": "display_data"
    },
    {
     "name": "stdout",
     "output_type": "stream",
     "text": [
      "Permuting P_3\n",
      "Permuting the columns of layer3.weight with P_2, shape: torch.Size([512, 512])\n",
      "w_a shape: torch.Size([256, 539]), w_b shape: torch.Size([256, 539])\n",
      "k1: 128, k2: 128\n",
      "Optimization terminated successfully.\n",
      "         Current function value: 62.277176\n",
      "         Iterations: 60\n",
      "         Function evaluations: 95\n",
      "         Gradient evaluations: 95\n"
     ]
    },
    {
     "data": {
      "text/html": [
       "<pre style=\"white-space:pre;overflow-x:auto;line-height:normal;font-family:Menlo,'DejaVu Sans Mono',consolas,'Courier New',monospace\"><span style=\"color: #7fbfbf; text-decoration-color: #7fbfbf\">2025-01-07 14:37:19 </span><span style=\"color: #000080; text-decoration-color: #000080\">INFO    </span> Iteration <span style=\"color: #008080; text-decoration-color: #008080; font-weight: bold\">3</span>, Permutation P_3: <span style=\"color: #008080; text-decoration-color: #008080; font-weight: bold\">2.5245513916015625</span>                          <a href=\"file:///tmp/ipykernel_132860/1970187617.py\" target=\"_blank\"><span style=\"color: #7f7f7f; text-decoration-color: #7f7f7f\">__main__</span></a><span style=\"color: #7f7f7f; text-decoration-color: #7f7f7f\">:</span><a href=\"file:///tmp/ipykernel_132860/1970187617.py#142\" target=\"_blank\"><span style=\"color: #7f7f7f; text-decoration-color: #7f7f7f\">142</span></a>\n",
       "</pre>\n"
      ],
      "text/plain": [
       "\u001b[2;36m2025-01-07 14:37:19\u001b[0m\u001b[2;36m \u001b[0m\u001b[34mINFO    \u001b[0m Iteration \u001b[1;36m3\u001b[0m, Permutation P_3: \u001b[1;36m2.5245513916015625\u001b[0m                          \u001b]8;id=433994;file:///tmp/ipykernel_132860/1970187617.py\u001b\\\u001b[2m__main__\u001b[0m\u001b]8;;\u001b\\\u001b[2m:\u001b[0m\u001b]8;id=168818;file:///tmp/ipykernel_132860/1970187617.py#142\u001b\\\u001b[2m142\u001b[0m\u001b]8;;\u001b\\\n"
      ]
     },
     "metadata": {},
     "output_type": "display_data"
    },
    {
     "name": "stdout",
     "output_type": "stream",
     "text": [
      "Permuting P_1\n",
      "Permuting the columns of layer1.weight with P_0, shape: torch.Size([512, 512])\n",
      "w_a shape: torch.Size([512, 1024]), w_b shape: torch.Size([512, 1024])\n",
      "k1: 256, k2: 256\n",
      "Optimization terminated successfully.\n",
      "         Current function value: 304.077247\n",
      "         Iterations: 66\n",
      "         Function evaluations: 117\n",
      "         Gradient evaluations: 117\n"
     ]
    },
    {
     "data": {
      "text/html": [
       "<pre style=\"white-space:pre;overflow-x:auto;line-height:normal;font-family:Menlo,'DejaVu Sans Mono',consolas,'Courier New',monospace\"><span style=\"color: #7fbfbf; text-decoration-color: #7fbfbf\">2025-01-07 14:37:28 </span><span style=\"color: #000080; text-decoration-color: #000080\">INFO    </span> Iteration <span style=\"color: #008080; text-decoration-color: #008080; font-weight: bold\">3</span>, Permutation P_1: <span style=\"color: #008080; text-decoration-color: #008080; font-weight: bold\">9.987136840820312</span>                           <a href=\"file:///tmp/ipykernel_132860/1970187617.py\" target=\"_blank\"><span style=\"color: #7f7f7f; text-decoration-color: #7f7f7f\">__main__</span></a><span style=\"color: #7f7f7f; text-decoration-color: #7f7f7f\">:</span><a href=\"file:///tmp/ipykernel_132860/1970187617.py#142\" target=\"_blank\"><span style=\"color: #7f7f7f; text-decoration-color: #7f7f7f\">142</span></a>\n",
       "</pre>\n"
      ],
      "text/plain": [
       "\u001b[2;36m2025-01-07 14:37:28\u001b[0m\u001b[2;36m \u001b[0m\u001b[34mINFO    \u001b[0m Iteration \u001b[1;36m3\u001b[0m, Permutation P_1: \u001b[1;36m9.987136840820312\u001b[0m                           \u001b]8;id=342732;file:///tmp/ipykernel_132860/1970187617.py\u001b\\\u001b[2m__main__\u001b[0m\u001b]8;;\u001b\\\u001b[2m:\u001b[0m\u001b]8;id=18319;file:///tmp/ipykernel_132860/1970187617.py#142\u001b\\\u001b[2m142\u001b[0m\u001b]8;;\u001b\\\n"
      ]
     },
     "metadata": {},
     "output_type": "display_data"
    },
    {
     "name": "stderr",
     "output_type": "stream",
     "text": [
      "Weight matching:   4%|▍         | 4/100 [02:42<1:01:41, 38.55s/it]"
     ]
    },
    {
     "name": "stdout",
     "output_type": "stream",
     "text": [
      "Permuting P_0\n",
      "w_a shape: torch.Size([512, 1296]), w_b shape: torch.Size([512, 1296])\n",
      "k1: 256, k2: 256\n",
      "Optimization terminated successfully.\n",
      "         Current function value: 336.655666\n",
      "         Iterations: 92\n",
      "         Function evaluations: 147\n",
      "         Gradient evaluations: 147\n"
     ]
    },
    {
     "data": {
      "text/html": [
       "<pre style=\"white-space:pre;overflow-x:auto;line-height:normal;font-family:Menlo,'DejaVu Sans Mono',consolas,'Courier New',monospace\"><span style=\"color: #7fbfbf; text-decoration-color: #7fbfbf\">2025-01-07 14:37:39 </span><span style=\"color: #000080; text-decoration-color: #000080\">INFO    </span> Iteration <span style=\"color: #008080; text-decoration-color: #008080; font-weight: bold\">4</span>, Permutation P_0: <span style=\"color: #008080; text-decoration-color: #008080; font-weight: bold\">-25.79266357421875</span>                          <a href=\"file:///tmp/ipykernel_132860/1970187617.py\" target=\"_blank\"><span style=\"color: #7f7f7f; text-decoration-color: #7f7f7f\">__main__</span></a><span style=\"color: #7f7f7f; text-decoration-color: #7f7f7f\">:</span><a href=\"file:///tmp/ipykernel_132860/1970187617.py#142\" target=\"_blank\"><span style=\"color: #7f7f7f; text-decoration-color: #7f7f7f\">142</span></a>\n",
       "</pre>\n"
      ],
      "text/plain": [
       "\u001b[2;36m2025-01-07 14:37:39\u001b[0m\u001b[2;36m \u001b[0m\u001b[34mINFO    \u001b[0m Iteration \u001b[1;36m4\u001b[0m, Permutation P_0: \u001b[1;36m-25.79266357421875\u001b[0m                          \u001b]8;id=580561;file:///tmp/ipykernel_132860/1970187617.py\u001b\\\u001b[2m__main__\u001b[0m\u001b]8;;\u001b\\\u001b[2m:\u001b[0m\u001b]8;id=266566;file:///tmp/ipykernel_132860/1970187617.py#142\u001b\\\u001b[2m142\u001b[0m\u001b]8;;\u001b\\\n"
      ]
     },
     "metadata": {},
     "output_type": "display_data"
    },
    {
     "name": "stdout",
     "output_type": "stream",
     "text": [
      "Permuting P_1\n",
      "Permuting the columns of layer1.weight with P_0, shape: torch.Size([512, 512])\n",
      "w_a shape: torch.Size([512, 1024]), w_b shape: torch.Size([512, 1024])\n",
      "k1: 256, k2: 256\n",
      "Optimization terminated successfully.\n",
      "         Current function value: 303.823273\n",
      "         Iterations: 71\n",
      "         Function evaluations: 124\n",
      "         Gradient evaluations: 124\n"
     ]
    },
    {
     "data": {
      "text/html": [
       "<pre style=\"white-space:pre;overflow-x:auto;line-height:normal;font-family:Menlo,'DejaVu Sans Mono',consolas,'Courier New',monospace\"><span style=\"color: #7fbfbf; text-decoration-color: #7fbfbf\">2025-01-07 14:37:46 </span><span style=\"color: #000080; text-decoration-color: #000080\">INFO    </span> Iteration <span style=\"color: #008080; text-decoration-color: #008080; font-weight: bold\">4</span>, Permutation P_1: <span style=\"color: #008080; text-decoration-color: #008080; font-weight: bold\">-6.33319091796875</span>                           <a href=\"file:///tmp/ipykernel_132860/1970187617.py\" target=\"_blank\"><span style=\"color: #7f7f7f; text-decoration-color: #7f7f7f\">__main__</span></a><span style=\"color: #7f7f7f; text-decoration-color: #7f7f7f\">:</span><a href=\"file:///tmp/ipykernel_132860/1970187617.py#142\" target=\"_blank\"><span style=\"color: #7f7f7f; text-decoration-color: #7f7f7f\">142</span></a>\n",
       "</pre>\n"
      ],
      "text/plain": [
       "\u001b[2;36m2025-01-07 14:37:46\u001b[0m\u001b[2;36m \u001b[0m\u001b[34mINFO    \u001b[0m Iteration \u001b[1;36m4\u001b[0m, Permutation P_1: \u001b[1;36m-6.33319091796875\u001b[0m                           \u001b]8;id=377127;file:///tmp/ipykernel_132860/1970187617.py\u001b\\\u001b[2m__main__\u001b[0m\u001b]8;;\u001b\\\u001b[2m:\u001b[0m\u001b]8;id=360201;file:///tmp/ipykernel_132860/1970187617.py#142\u001b\\\u001b[2m142\u001b[0m\u001b]8;;\u001b\\\n"
      ]
     },
     "metadata": {},
     "output_type": "display_data"
    },
    {
     "name": "stdout",
     "output_type": "stream",
     "text": [
      "Permuting P_2\n",
      "Permuting the columns of layer2.weight with P_1, shape: torch.Size([512, 512])\n",
      "w_a shape: torch.Size([512, 768]), w_b shape: torch.Size([512, 768])\n",
      "k1: 256, k2: 256\n",
      "Optimization terminated successfully.\n",
      "         Current function value: 188.023118\n",
      "         Iterations: 102\n",
      "         Function evaluations: 166\n",
      "         Gradient evaluations: 166\n"
     ]
    },
    {
     "data": {
      "text/html": [
       "<pre style=\"white-space:pre;overflow-x:auto;line-height:normal;font-family:Menlo,'DejaVu Sans Mono',consolas,'Courier New',monospace\"><span style=\"color: #7fbfbf; text-decoration-color: #7fbfbf\">2025-01-07 14:37:56 </span><span style=\"color: #000080; text-decoration-color: #000080\">INFO    </span> Iteration <span style=\"color: #008080; text-decoration-color: #008080; font-weight: bold\">4</span>, Permutation P_2: <span style=\"color: #008080; text-decoration-color: #008080; font-weight: bold\">10.961936950683594</span>                          <a href=\"file:///tmp/ipykernel_132860/1970187617.py\" target=\"_blank\"><span style=\"color: #7f7f7f; text-decoration-color: #7f7f7f\">__main__</span></a><span style=\"color: #7f7f7f; text-decoration-color: #7f7f7f\">:</span><a href=\"file:///tmp/ipykernel_132860/1970187617.py#142\" target=\"_blank\"><span style=\"color: #7f7f7f; text-decoration-color: #7f7f7f\">142</span></a>\n",
       "</pre>\n"
      ],
      "text/plain": [
       "\u001b[2;36m2025-01-07 14:37:56\u001b[0m\u001b[2;36m \u001b[0m\u001b[34mINFO    \u001b[0m Iteration \u001b[1;36m4\u001b[0m, Permutation P_2: \u001b[1;36m10.961936950683594\u001b[0m                          \u001b]8;id=686864;file:///tmp/ipykernel_132860/1970187617.py\u001b\\\u001b[2m__main__\u001b[0m\u001b]8;;\u001b\\\u001b[2m:\u001b[0m\u001b]8;id=159576;file:///tmp/ipykernel_132860/1970187617.py#142\u001b\\\u001b[2m142\u001b[0m\u001b]8;;\u001b\\\n"
      ]
     },
     "metadata": {},
     "output_type": "display_data"
    },
    {
     "name": "stdout",
     "output_type": "stream",
     "text": [
      "Permuting P_3\n",
      "Permuting the columns of layer3.weight with P_2, shape: torch.Size([512, 512])\n",
      "w_a shape: torch.Size([256, 539]), w_b shape: torch.Size([256, 539])\n",
      "k1: 128, k2: 128\n",
      "Optimization terminated successfully.\n",
      "         Current function value: 61.991016\n",
      "         Iterations: 61\n",
      "         Function evaluations: 102\n",
      "         Gradient evaluations: 102\n"
     ]
    },
    {
     "data": {
      "text/html": [
       "<pre style=\"white-space:pre;overflow-x:auto;line-height:normal;font-family:Menlo,'DejaVu Sans Mono',consolas,'Courier New',monospace\"><span style=\"color: #7fbfbf; text-decoration-color: #7fbfbf\">2025-01-07 14:38:01 </span><span style=\"color: #000080; text-decoration-color: #000080\">INFO    </span> Iteration <span style=\"color: #008080; text-decoration-color: #008080; font-weight: bold\">4</span>, Permutation P_3: <span style=\"color: #008080; text-decoration-color: #008080; font-weight: bold\">4.917839050292969</span>                           <a href=\"file:///tmp/ipykernel_132860/1970187617.py\" target=\"_blank\"><span style=\"color: #7f7f7f; text-decoration-color: #7f7f7f\">__main__</span></a><span style=\"color: #7f7f7f; text-decoration-color: #7f7f7f\">:</span><a href=\"file:///tmp/ipykernel_132860/1970187617.py#142\" target=\"_blank\"><span style=\"color: #7f7f7f; text-decoration-color: #7f7f7f\">142</span></a>\n",
       "</pre>\n"
      ],
      "text/plain": [
       "\u001b[2;36m2025-01-07 14:38:01\u001b[0m\u001b[2;36m \u001b[0m\u001b[34mINFO    \u001b[0m Iteration \u001b[1;36m4\u001b[0m, Permutation P_3: \u001b[1;36m4.917839050292969\u001b[0m                           \u001b]8;id=941767;file:///tmp/ipykernel_132860/1970187617.py\u001b\\\u001b[2m__main__\u001b[0m\u001b]8;;\u001b\\\u001b[2m:\u001b[0m\u001b]8;id=146346;file:///tmp/ipykernel_132860/1970187617.py#142\u001b\\\u001b[2m142\u001b[0m\u001b]8;;\u001b\\\n"
      ]
     },
     "metadata": {},
     "output_type": "display_data"
    },
    {
     "name": "stderr",
     "output_type": "stream",
     "text": [
      "Weight matching:   5%|▌         | 5/100 [03:14<57:44, 36.47s/it]  "
     ]
    },
    {
     "name": "stdout",
     "output_type": "stream",
     "text": [
      "Permuting P_1\n",
      "Permuting the columns of layer1.weight with P_0, shape: torch.Size([512, 512])\n",
      "w_a shape: torch.Size([512, 1024]), w_b shape: torch.Size([512, 1024])\n",
      "k1: 256, k2: 256\n",
      "Optimization terminated successfully.\n",
      "         Current function value: 303.773754\n",
      "         Iterations: 76\n",
      "         Function evaluations: 126\n",
      "         Gradient evaluations: 126\n"
     ]
    },
    {
     "data": {
      "text/html": [
       "<pre style=\"white-space:pre;overflow-x:auto;line-height:normal;font-family:Menlo,'DejaVu Sans Mono',consolas,'Courier New',monospace\"><span style=\"color: #7fbfbf; text-decoration-color: #7fbfbf\">2025-01-07 14:38:11 </span><span style=\"color: #000080; text-decoration-color: #000080\">INFO    </span> Iteration <span style=\"color: #008080; text-decoration-color: #008080; font-weight: bold\">5</span>, Permutation P_1: <span style=\"color: #008080; text-decoration-color: #008080; font-weight: bold\">-11.2166748046875</span>                           <a href=\"file:///tmp/ipykernel_132860/1970187617.py\" target=\"_blank\"><span style=\"color: #7f7f7f; text-decoration-color: #7f7f7f\">__main__</span></a><span style=\"color: #7f7f7f; text-decoration-color: #7f7f7f\">:</span><a href=\"file:///tmp/ipykernel_132860/1970187617.py#142\" target=\"_blank\"><span style=\"color: #7f7f7f; text-decoration-color: #7f7f7f\">142</span></a>\n",
       "</pre>\n"
      ],
      "text/plain": [
       "\u001b[2;36m2025-01-07 14:38:11\u001b[0m\u001b[2;36m \u001b[0m\u001b[34mINFO    \u001b[0m Iteration \u001b[1;36m5\u001b[0m, Permutation P_1: \u001b[1;36m-11.2166748046875\u001b[0m                           \u001b]8;id=70434;file:///tmp/ipykernel_132860/1970187617.py\u001b\\\u001b[2m__main__\u001b[0m\u001b]8;;\u001b\\\u001b[2m:\u001b[0m\u001b]8;id=415740;file:///tmp/ipykernel_132860/1970187617.py#142\u001b\\\u001b[2m142\u001b[0m\u001b]8;;\u001b\\\n"
      ]
     },
     "metadata": {},
     "output_type": "display_data"
    },
    {
     "name": "stdout",
     "output_type": "stream",
     "text": [
      "Permuting P_3\n",
      "Permuting the columns of layer3.weight with P_2, shape: torch.Size([512, 512])\n",
      "w_a shape: torch.Size([256, 539]), w_b shape: torch.Size([256, 539])\n",
      "k1: 128, k2: 128\n",
      "Optimization terminated successfully.\n",
      "         Current function value: 61.991016\n",
      "         Iterations: 61\n",
      "         Function evaluations: 102\n",
      "         Gradient evaluations: 102\n"
     ]
    },
    {
     "data": {
      "text/html": [
       "<pre style=\"white-space:pre;overflow-x:auto;line-height:normal;font-family:Menlo,'DejaVu Sans Mono',consolas,'Courier New',monospace\"><span style=\"color: #7fbfbf; text-decoration-color: #7fbfbf\">2025-01-07 14:38:17 </span><span style=\"color: #000080; text-decoration-color: #000080\">INFO    </span> Iteration <span style=\"color: #008080; text-decoration-color: #008080; font-weight: bold\">5</span>, Permutation P_3: <span style=\"color: #008080; text-decoration-color: #008080; font-weight: bold\">0.0</span>                                         <a href=\"file:///tmp/ipykernel_132860/1970187617.py\" target=\"_blank\"><span style=\"color: #7f7f7f; text-decoration-color: #7f7f7f\">__main__</span></a><span style=\"color: #7f7f7f; text-decoration-color: #7f7f7f\">:</span><a href=\"file:///tmp/ipykernel_132860/1970187617.py#142\" target=\"_blank\"><span style=\"color: #7f7f7f; text-decoration-color: #7f7f7f\">142</span></a>\n",
       "</pre>\n"
      ],
      "text/plain": [
       "\u001b[2;36m2025-01-07 14:38:17\u001b[0m\u001b[2;36m \u001b[0m\u001b[34mINFO    \u001b[0m Iteration \u001b[1;36m5\u001b[0m, Permutation P_3: \u001b[1;36m0.0\u001b[0m                                         \u001b]8;id=606959;file:///tmp/ipykernel_132860/1970187617.py\u001b\\\u001b[2m__main__\u001b[0m\u001b]8;;\u001b\\\u001b[2m:\u001b[0m\u001b]8;id=623422;file:///tmp/ipykernel_132860/1970187617.py#142\u001b\\\u001b[2m142\u001b[0m\u001b]8;;\u001b\\\n"
      ]
     },
     "metadata": {},
     "output_type": "display_data"
    },
    {
     "name": "stdout",
     "output_type": "stream",
     "text": [
      "Permuting P_2\n",
      "Permuting the columns of layer2.weight with P_1, shape: torch.Size([512, 512])\n",
      "w_a shape: torch.Size([512, 768]), w_b shape: torch.Size([512, 768])\n",
      "k1: 256, k2: 256\n",
      "Optimization terminated successfully.\n",
      "         Current function value: 187.215994\n",
      "         Iterations: 117\n",
      "         Function evaluations: 180\n",
      "         Gradient evaluations: 180\n"
     ]
    },
    {
     "data": {
      "text/html": [
       "<pre style=\"white-space:pre;overflow-x:auto;line-height:normal;font-family:Menlo,'DejaVu Sans Mono',consolas,'Courier New',monospace\"><span style=\"color: #7fbfbf; text-decoration-color: #7fbfbf\">2025-01-07 14:38:29 </span><span style=\"color: #000080; text-decoration-color: #000080\">INFO    </span> Iteration <span style=\"color: #008080; text-decoration-color: #008080; font-weight: bold\">5</span>, Permutation P_2: <span style=\"color: #008080; text-decoration-color: #008080; font-weight: bold\">3.9071426391601562</span>                          <a href=\"file:///tmp/ipykernel_132860/1970187617.py\" target=\"_blank\"><span style=\"color: #7f7f7f; text-decoration-color: #7f7f7f\">__main__</span></a><span style=\"color: #7f7f7f; text-decoration-color: #7f7f7f\">:</span><a href=\"file:///tmp/ipykernel_132860/1970187617.py#142\" target=\"_blank\"><span style=\"color: #7f7f7f; text-decoration-color: #7f7f7f\">142</span></a>\n",
       "</pre>\n"
      ],
      "text/plain": [
       "\u001b[2;36m2025-01-07 14:38:29\u001b[0m\u001b[2;36m \u001b[0m\u001b[34mINFO    \u001b[0m Iteration \u001b[1;36m5\u001b[0m, Permutation P_2: \u001b[1;36m3.9071426391601562\u001b[0m                          \u001b]8;id=168233;file:///tmp/ipykernel_132860/1970187617.py\u001b\\\u001b[2m__main__\u001b[0m\u001b]8;;\u001b\\\u001b[2m:\u001b[0m\u001b]8;id=43505;file:///tmp/ipykernel_132860/1970187617.py#142\u001b\\\u001b[2m142\u001b[0m\u001b]8;;\u001b\\\n"
      ]
     },
     "metadata": {},
     "output_type": "display_data"
    },
    {
     "name": "stdout",
     "output_type": "stream",
     "text": [
      "Permuting P_0\n",
      "w_a shape: torch.Size([512, 1296]), w_b shape: torch.Size([512, 1296])\n",
      "k1: 256, k2: 256\n",
      "Optimization terminated successfully.\n",
      "         Current function value: 336.183655\n",
      "         Iterations: 93\n",
      "         Function evaluations: 152\n",
      "         Gradient evaluations: 152\n"
     ]
    },
    {
     "data": {
      "text/html": [
       "<pre style=\"white-space:pre;overflow-x:auto;line-height:normal;font-family:Menlo,'DejaVu Sans Mono',consolas,'Courier New',monospace\"><span style=\"color: #7fbfbf; text-decoration-color: #7fbfbf\">2025-01-07 14:38:39 </span><span style=\"color: #000080; text-decoration-color: #000080\">INFO    </span> Iteration <span style=\"color: #008080; text-decoration-color: #008080; font-weight: bold\">5</span>, Permutation P_0: <span style=\"color: #008080; text-decoration-color: #008080; font-weight: bold\">16.32586669921875</span>                           <a href=\"file:///tmp/ipykernel_132860/1970187617.py\" target=\"_blank\"><span style=\"color: #7f7f7f; text-decoration-color: #7f7f7f\">__main__</span></a><span style=\"color: #7f7f7f; text-decoration-color: #7f7f7f\">:</span><a href=\"file:///tmp/ipykernel_132860/1970187617.py#142\" target=\"_blank\"><span style=\"color: #7f7f7f; text-decoration-color: #7f7f7f\">142</span></a>\n",
       "</pre>\n"
      ],
      "text/plain": [
       "\u001b[2;36m2025-01-07 14:38:39\u001b[0m\u001b[2;36m \u001b[0m\u001b[34mINFO    \u001b[0m Iteration \u001b[1;36m5\u001b[0m, Permutation P_0: \u001b[1;36m16.32586669921875\u001b[0m                           \u001b]8;id=349189;file:///tmp/ipykernel_132860/1970187617.py\u001b\\\u001b[2m__main__\u001b[0m\u001b]8;;\u001b\\\u001b[2m:\u001b[0m\u001b]8;id=679221;file:///tmp/ipykernel_132860/1970187617.py#142\u001b\\\u001b[2m142\u001b[0m\u001b]8;;\u001b\\\n"
      ]
     },
     "metadata": {},
     "output_type": "display_data"
    },
    {
     "name": "stderr",
     "output_type": "stream",
     "text": [
      "Weight matching:   6%|▌         | 6/100 [03:53<58:12, 37.15s/it]"
     ]
    },
    {
     "name": "stdout",
     "output_type": "stream",
     "text": [
      "Permuting P_2\n",
      "Permuting the columns of layer2.weight with P_1, shape: torch.Size([512, 512])\n",
      "w_a shape: torch.Size([512, 768]), w_b shape: torch.Size([512, 768])\n",
      "k1: 256, k2: 256\n",
      "Optimization terminated successfully.\n",
      "         Current function value: 187.215994\n",
      "         Iterations: 117\n",
      "         Function evaluations: 180\n",
      "         Gradient evaluations: 180\n"
     ]
    },
    {
     "data": {
      "text/html": [
       "<pre style=\"white-space:pre;overflow-x:auto;line-height:normal;font-family:Menlo,'DejaVu Sans Mono',consolas,'Courier New',monospace\"><span style=\"color: #7fbfbf; text-decoration-color: #7fbfbf\">2025-01-07 14:38:51 </span><span style=\"color: #000080; text-decoration-color: #000080\">INFO    </span> Iteration <span style=\"color: #008080; text-decoration-color: #008080; font-weight: bold\">6</span>, Permutation P_2: <span style=\"color: #008080; text-decoration-color: #008080; font-weight: bold\">0.0</span>                                         <a href=\"file:///tmp/ipykernel_132860/1970187617.py\" target=\"_blank\"><span style=\"color: #7f7f7f; text-decoration-color: #7f7f7f\">__main__</span></a><span style=\"color: #7f7f7f; text-decoration-color: #7f7f7f\">:</span><a href=\"file:///tmp/ipykernel_132860/1970187617.py#142\" target=\"_blank\"><span style=\"color: #7f7f7f; text-decoration-color: #7f7f7f\">142</span></a>\n",
       "</pre>\n"
      ],
      "text/plain": [
       "\u001b[2;36m2025-01-07 14:38:51\u001b[0m\u001b[2;36m \u001b[0m\u001b[34mINFO    \u001b[0m Iteration \u001b[1;36m6\u001b[0m, Permutation P_2: \u001b[1;36m0.0\u001b[0m                                         \u001b]8;id=377560;file:///tmp/ipykernel_132860/1970187617.py\u001b\\\u001b[2m__main__\u001b[0m\u001b]8;;\u001b\\\u001b[2m:\u001b[0m\u001b]8;id=746240;file:///tmp/ipykernel_132860/1970187617.py#142\u001b\\\u001b[2m142\u001b[0m\u001b]8;;\u001b\\\n"
      ]
     },
     "metadata": {},
     "output_type": "display_data"
    },
    {
     "name": "stdout",
     "output_type": "stream",
     "text": [
      "Permuting P_1\n",
      "Permuting the columns of layer1.weight with P_0, shape: torch.Size([512, 512])\n",
      "w_a shape: torch.Size([512, 1024]), w_b shape: torch.Size([512, 1024])\n",
      "k1: 256, k2: 256\n",
      "Optimization terminated successfully.\n",
      "         Current function value: 304.361681\n",
      "         Iterations: 65\n",
      "         Function evaluations: 114\n",
      "         Gradient evaluations: 114\n"
     ]
    },
    {
     "data": {
      "text/html": [
       "<pre style=\"white-space:pre;overflow-x:auto;line-height:normal;font-family:Menlo,'DejaVu Sans Mono',consolas,'Courier New',monospace\"><span style=\"color: #7fbfbf; text-decoration-color: #7fbfbf\">2025-01-07 14:38:59 </span><span style=\"color: #000080; text-decoration-color: #000080\">INFO    </span> Iteration <span style=\"color: #008080; text-decoration-color: #008080; font-weight: bold\">6</span>, Permutation P_1: <span style=\"color: #008080; text-decoration-color: #008080; font-weight: bold\">-10.999267578125</span>                            <a href=\"file:///tmp/ipykernel_132860/1970187617.py\" target=\"_blank\"><span style=\"color: #7f7f7f; text-decoration-color: #7f7f7f\">__main__</span></a><span style=\"color: #7f7f7f; text-decoration-color: #7f7f7f\">:</span><a href=\"file:///tmp/ipykernel_132860/1970187617.py#142\" target=\"_blank\"><span style=\"color: #7f7f7f; text-decoration-color: #7f7f7f\">142</span></a>\n",
       "</pre>\n"
      ],
      "text/plain": [
       "\u001b[2;36m2025-01-07 14:38:59\u001b[0m\u001b[2;36m \u001b[0m\u001b[34mINFO    \u001b[0m Iteration \u001b[1;36m6\u001b[0m, Permutation P_1: \u001b[1;36m-10.999267578125\u001b[0m                            \u001b]8;id=144772;file:///tmp/ipykernel_132860/1970187617.py\u001b\\\u001b[2m__main__\u001b[0m\u001b]8;;\u001b\\\u001b[2m:\u001b[0m\u001b]8;id=14136;file:///tmp/ipykernel_132860/1970187617.py#142\u001b\\\u001b[2m142\u001b[0m\u001b]8;;\u001b\\\n"
      ]
     },
     "metadata": {},
     "output_type": "display_data"
    },
    {
     "name": "stdout",
     "output_type": "stream",
     "text": [
      "Permuting P_0\n",
      "w_a shape: torch.Size([512, 1296]), w_b shape: torch.Size([512, 1296])\n",
      "k1: 256, k2: 256\n",
      "Optimization terminated successfully.\n",
      "         Current function value: 336.146582\n",
      "         Iterations: 85\n",
      "         Function evaluations: 137\n",
      "         Gradient evaluations: 137\n"
     ]
    },
    {
     "data": {
      "text/html": [
       "<pre style=\"white-space:pre;overflow-x:auto;line-height:normal;font-family:Menlo,'DejaVu Sans Mono',consolas,'Courier New',monospace\"><span style=\"color: #7fbfbf; text-decoration-color: #7fbfbf\">2025-01-07 14:39:10 </span><span style=\"color: #000080; text-decoration-color: #000080\">INFO    </span> Iteration <span style=\"color: #008080; text-decoration-color: #008080; font-weight: bold\">6</span>, Permutation P_0: <span style=\"color: #008080; text-decoration-color: #008080; font-weight: bold\">7.41168212890625</span>                            <a href=\"file:///tmp/ipykernel_132860/1970187617.py\" target=\"_blank\"><span style=\"color: #7f7f7f; text-decoration-color: #7f7f7f\">__main__</span></a><span style=\"color: #7f7f7f; text-decoration-color: #7f7f7f\">:</span><a href=\"file:///tmp/ipykernel_132860/1970187617.py#142\" target=\"_blank\"><span style=\"color: #7f7f7f; text-decoration-color: #7f7f7f\">142</span></a>\n",
       "</pre>\n"
      ],
      "text/plain": [
       "\u001b[2;36m2025-01-07 14:39:10\u001b[0m\u001b[2;36m \u001b[0m\u001b[34mINFO    \u001b[0m Iteration \u001b[1;36m6\u001b[0m, Permutation P_0: \u001b[1;36m7.41168212890625\u001b[0m                            \u001b]8;id=943707;file:///tmp/ipykernel_132860/1970187617.py\u001b\\\u001b[2m__main__\u001b[0m\u001b]8;;\u001b\\\u001b[2m:\u001b[0m\u001b]8;id=942094;file:///tmp/ipykernel_132860/1970187617.py#142\u001b\\\u001b[2m142\u001b[0m\u001b]8;;\u001b\\\n"
      ]
     },
     "metadata": {},
     "output_type": "display_data"
    },
    {
     "name": "stdout",
     "output_type": "stream",
     "text": [
      "Permuting P_3\n",
      "Permuting the columns of layer3.weight with P_2, shape: torch.Size([512, 512])\n",
      "w_a shape: torch.Size([256, 539]), w_b shape: torch.Size([256, 539])\n",
      "k1: 128, k2: 128\n",
      "Optimization terminated successfully.\n",
      "         Current function value: 61.461471\n",
      "         Iterations: 63\n",
      "         Function evaluations: 104\n",
      "         Gradient evaluations: 104\n"
     ]
    },
    {
     "data": {
      "text/html": [
       "<pre style=\"white-space:pre;overflow-x:auto;line-height:normal;font-family:Menlo,'DejaVu Sans Mono',consolas,'Courier New',monospace\"><span style=\"color: #7fbfbf; text-decoration-color: #7fbfbf\">2025-01-07 14:39:15 </span><span style=\"color: #000080; text-decoration-color: #000080\">INFO    </span> Iteration <span style=\"color: #008080; text-decoration-color: #008080; font-weight: bold\">6</span>, Permutation P_3: <span style=\"color: #008080; text-decoration-color: #008080; font-weight: bold\">2.698030471801758</span>                           <a href=\"file:///tmp/ipykernel_132860/1970187617.py\" target=\"_blank\"><span style=\"color: #7f7f7f; text-decoration-color: #7f7f7f\">__main__</span></a><span style=\"color: #7f7f7f; text-decoration-color: #7f7f7f\">:</span><a href=\"file:///tmp/ipykernel_132860/1970187617.py#142\" target=\"_blank\"><span style=\"color: #7f7f7f; text-decoration-color: #7f7f7f\">142</span></a>\n",
       "</pre>\n"
      ],
      "text/plain": [
       "\u001b[2;36m2025-01-07 14:39:15\u001b[0m\u001b[2;36m \u001b[0m\u001b[34mINFO    \u001b[0m Iteration \u001b[1;36m6\u001b[0m, Permutation P_3: \u001b[1;36m2.698030471801758\u001b[0m                           \u001b]8;id=44526;file:///tmp/ipykernel_132860/1970187617.py\u001b\\\u001b[2m__main__\u001b[0m\u001b]8;;\u001b\\\u001b[2m:\u001b[0m\u001b]8;id=695794;file:///tmp/ipykernel_132860/1970187617.py#142\u001b\\\u001b[2m142\u001b[0m\u001b]8;;\u001b\\\n"
      ]
     },
     "metadata": {},
     "output_type": "display_data"
    },
    {
     "name": "stderr",
     "output_type": "stream",
     "text": [
      "Weight matching:   7%|▋         | 7/100 [04:29<57:04, 36.82s/it]"
     ]
    },
    {
     "name": "stdout",
     "output_type": "stream",
     "text": [
      "Permuting P_3\n",
      "Permuting the columns of layer3.weight with P_2, shape: torch.Size([512, 512])\n",
      "w_a shape: torch.Size([256, 539]), w_b shape: torch.Size([256, 539])\n",
      "k1: 128, k2: 128\n",
      "Optimization terminated successfully.\n",
      "         Current function value: 61.461471\n",
      "         Iterations: 63\n",
      "         Function evaluations: 104\n",
      "         Gradient evaluations: 104\n"
     ]
    },
    {
     "data": {
      "text/html": [
       "<pre style=\"white-space:pre;overflow-x:auto;line-height:normal;font-family:Menlo,'DejaVu Sans Mono',consolas,'Courier New',monospace\"><span style=\"color: #7fbfbf; text-decoration-color: #7fbfbf\">2025-01-07 14:39:21 </span><span style=\"color: #000080; text-decoration-color: #000080\">INFO    </span> Iteration <span style=\"color: #008080; text-decoration-color: #008080; font-weight: bold\">7</span>, Permutation P_3: <span style=\"color: #008080; text-decoration-color: #008080; font-weight: bold\">0.0</span>                                         <a href=\"file:///tmp/ipykernel_132860/1970187617.py\" target=\"_blank\"><span style=\"color: #7f7f7f; text-decoration-color: #7f7f7f\">__main__</span></a><span style=\"color: #7f7f7f; text-decoration-color: #7f7f7f\">:</span><a href=\"file:///tmp/ipykernel_132860/1970187617.py#142\" target=\"_blank\"><span style=\"color: #7f7f7f; text-decoration-color: #7f7f7f\">142</span></a>\n",
       "</pre>\n"
      ],
      "text/plain": [
       "\u001b[2;36m2025-01-07 14:39:21\u001b[0m\u001b[2;36m \u001b[0m\u001b[34mINFO    \u001b[0m Iteration \u001b[1;36m7\u001b[0m, Permutation P_3: \u001b[1;36m0.0\u001b[0m                                         \u001b]8;id=617693;file:///tmp/ipykernel_132860/1970187617.py\u001b\\\u001b[2m__main__\u001b[0m\u001b]8;;\u001b\\\u001b[2m:\u001b[0m\u001b]8;id=668131;file:///tmp/ipykernel_132860/1970187617.py#142\u001b\\\u001b[2m142\u001b[0m\u001b]8;;\u001b\\\n"
      ]
     },
     "metadata": {},
     "output_type": "display_data"
    },
    {
     "name": "stdout",
     "output_type": "stream",
     "text": [
      "Permuting P_0\n",
      "w_a shape: torch.Size([512, 1296]), w_b shape: torch.Size([512, 1296])\n",
      "k1: 256, k2: 256\n",
      "Optimization terminated successfully.\n",
      "         Current function value: 336.146582\n",
      "         Iterations: 85\n",
      "         Function evaluations: 137\n",
      "         Gradient evaluations: 137\n"
     ]
    },
    {
     "data": {
      "text/html": [
       "<pre style=\"white-space:pre;overflow-x:auto;line-height:normal;font-family:Menlo,'DejaVu Sans Mono',consolas,'Courier New',monospace\"><span style=\"color: #7fbfbf; text-decoration-color: #7fbfbf\">2025-01-07 14:39:32 </span><span style=\"color: #000080; text-decoration-color: #000080\">INFO    </span> Iteration <span style=\"color: #008080; text-decoration-color: #008080; font-weight: bold\">7</span>, Permutation P_0: <span style=\"color: #008080; text-decoration-color: #008080; font-weight: bold\">0.0</span>                                         <a href=\"file:///tmp/ipykernel_132860/1970187617.py\" target=\"_blank\"><span style=\"color: #7f7f7f; text-decoration-color: #7f7f7f\">__main__</span></a><span style=\"color: #7f7f7f; text-decoration-color: #7f7f7f\">:</span><a href=\"file:///tmp/ipykernel_132860/1970187617.py#142\" target=\"_blank\"><span style=\"color: #7f7f7f; text-decoration-color: #7f7f7f\">142</span></a>\n",
       "</pre>\n"
      ],
      "text/plain": [
       "\u001b[2;36m2025-01-07 14:39:32\u001b[0m\u001b[2;36m \u001b[0m\u001b[34mINFO    \u001b[0m Iteration \u001b[1;36m7\u001b[0m, Permutation P_0: \u001b[1;36m0.0\u001b[0m                                         \u001b]8;id=729913;file:///tmp/ipykernel_132860/1970187617.py\u001b\\\u001b[2m__main__\u001b[0m\u001b]8;;\u001b\\\u001b[2m:\u001b[0m\u001b]8;id=61351;file:///tmp/ipykernel_132860/1970187617.py#142\u001b\\\u001b[2m142\u001b[0m\u001b]8;;\u001b\\\n"
      ]
     },
     "metadata": {},
     "output_type": "display_data"
    },
    {
     "name": "stdout",
     "output_type": "stream",
     "text": [
      "Permuting P_2\n",
      "Permuting the columns of layer2.weight with P_1, shape: torch.Size([512, 512])\n",
      "w_a shape: torch.Size([512, 768]), w_b shape: torch.Size([512, 768])\n",
      "k1: 256, k2: 256\n",
      "Optimization terminated successfully.\n",
      "         Current function value: 187.045847\n",
      "         Iterations: 107\n",
      "         Function evaluations: 161\n",
      "         Gradient evaluations: 161\n"
     ]
    },
    {
     "data": {
      "text/html": [
       "<pre style=\"white-space:pre;overflow-x:auto;line-height:normal;font-family:Menlo,'DejaVu Sans Mono',consolas,'Courier New',monospace\"><span style=\"color: #7fbfbf; text-decoration-color: #7fbfbf\">2025-01-07 14:39:45 </span><span style=\"color: #000080; text-decoration-color: #000080\">INFO    </span> Iteration <span style=\"color: #008080; text-decoration-color: #008080; font-weight: bold\">7</span>, Permutation P_2: <span style=\"color: #008080; text-decoration-color: #008080; font-weight: bold\">12.617958068847656</span>                          <a href=\"file:///tmp/ipykernel_132860/1970187617.py\" target=\"_blank\"><span style=\"color: #7f7f7f; text-decoration-color: #7f7f7f\">__main__</span></a><span style=\"color: #7f7f7f; text-decoration-color: #7f7f7f\">:</span><a href=\"file:///tmp/ipykernel_132860/1970187617.py#142\" target=\"_blank\"><span style=\"color: #7f7f7f; text-decoration-color: #7f7f7f\">142</span></a>\n",
       "</pre>\n"
      ],
      "text/plain": [
       "\u001b[2;36m2025-01-07 14:39:45\u001b[0m\u001b[2;36m \u001b[0m\u001b[34mINFO    \u001b[0m Iteration \u001b[1;36m7\u001b[0m, Permutation P_2: \u001b[1;36m12.617958068847656\u001b[0m                          \u001b]8;id=871223;file:///tmp/ipykernel_132860/1970187617.py\u001b\\\u001b[2m__main__\u001b[0m\u001b]8;;\u001b\\\u001b[2m:\u001b[0m\u001b]8;id=603440;file:///tmp/ipykernel_132860/1970187617.py#142\u001b\\\u001b[2m142\u001b[0m\u001b]8;;\u001b\\\n"
      ]
     },
     "metadata": {},
     "output_type": "display_data"
    },
    {
     "name": "stdout",
     "output_type": "stream",
     "text": [
      "Permuting P_1\n",
      "Permuting the columns of layer1.weight with P_0, shape: torch.Size([512, 512])\n",
      "w_a shape: torch.Size([512, 1024]), w_b shape: torch.Size([512, 1024])\n",
      "k1: 256, k2: 256\n",
      "Optimization terminated successfully.\n",
      "         Current function value: 304.970843\n",
      "         Iterations: 71\n",
      "         Function evaluations: 127\n",
      "         Gradient evaluations: 127\n"
     ]
    },
    {
     "data": {
      "text/html": [
       "<pre style=\"white-space:pre;overflow-x:auto;line-height:normal;font-family:Menlo,'DejaVu Sans Mono',consolas,'Courier New',monospace\"><span style=\"color: #7fbfbf; text-decoration-color: #7fbfbf\">2025-01-07 14:39:56 </span><span style=\"color: #000080; text-decoration-color: #000080\">INFO    </span> Iteration <span style=\"color: #008080; text-decoration-color: #008080; font-weight: bold\">7</span>, Permutation P_1: <span style=\"color: #008080; text-decoration-color: #008080; font-weight: bold\">-19.485214233398438</span>                         <a href=\"file:///tmp/ipykernel_132860/1970187617.py\" target=\"_blank\"><span style=\"color: #7f7f7f; text-decoration-color: #7f7f7f\">__main__</span></a><span style=\"color: #7f7f7f; text-decoration-color: #7f7f7f\">:</span><a href=\"file:///tmp/ipykernel_132860/1970187617.py#142\" target=\"_blank\"><span style=\"color: #7f7f7f; text-decoration-color: #7f7f7f\">142</span></a>\n",
       "</pre>\n"
      ],
      "text/plain": [
       "\u001b[2;36m2025-01-07 14:39:56\u001b[0m\u001b[2;36m \u001b[0m\u001b[34mINFO    \u001b[0m Iteration \u001b[1;36m7\u001b[0m, Permutation P_1: \u001b[1;36m-19.485214233398438\u001b[0m                         \u001b]8;id=946905;file:///tmp/ipykernel_132860/1970187617.py\u001b\\\u001b[2m__main__\u001b[0m\u001b]8;;\u001b\\\u001b[2m:\u001b[0m\u001b]8;id=366748;file:///tmp/ipykernel_132860/1970187617.py#142\u001b\\\u001b[2m142\u001b[0m\u001b]8;;\u001b\\\n"
      ]
     },
     "metadata": {},
     "output_type": "display_data"
    },
    {
     "name": "stderr",
     "output_type": "stream",
     "text": [
      "Weight matching:   8%|▊         | 8/100 [05:10<58:23, 38.08s/it]"
     ]
    },
    {
     "name": "stdout",
     "output_type": "stream",
     "text": [
      "Permuting P_3\n",
      "Permuting the columns of layer3.weight with P_2, shape: torch.Size([512, 512])\n",
      "w_a shape: torch.Size([256, 539]), w_b shape: torch.Size([256, 539])\n",
      "k1: 128, k2: 128\n",
      "Optimization terminated successfully.\n",
      "         Current function value: 61.663346\n",
      "         Iterations: 59\n",
      "         Function evaluations: 99\n",
      "         Gradient evaluations: 99\n"
     ]
    },
    {
     "data": {
      "text/html": [
       "<pre style=\"white-space:pre;overflow-x:auto;line-height:normal;font-family:Menlo,'DejaVu Sans Mono',consolas,'Courier New',monospace\"><span style=\"color: #7fbfbf; text-decoration-color: #7fbfbf\">2025-01-07 14:40:02 </span><span style=\"color: #000080; text-decoration-color: #000080\">INFO    </span> Iteration <span style=\"color: #008080; text-decoration-color: #008080; font-weight: bold\">8</span>, Permutation P_3: <span style=\"color: #008080; text-decoration-color: #008080; font-weight: bold\">6.535400390625</span>                              <a href=\"file:///tmp/ipykernel_132860/1970187617.py\" target=\"_blank\"><span style=\"color: #7f7f7f; text-decoration-color: #7f7f7f\">__main__</span></a><span style=\"color: #7f7f7f; text-decoration-color: #7f7f7f\">:</span><a href=\"file:///tmp/ipykernel_132860/1970187617.py#142\" target=\"_blank\"><span style=\"color: #7f7f7f; text-decoration-color: #7f7f7f\">142</span></a>\n",
       "</pre>\n"
      ],
      "text/plain": [
       "\u001b[2;36m2025-01-07 14:40:02\u001b[0m\u001b[2;36m \u001b[0m\u001b[34mINFO    \u001b[0m Iteration \u001b[1;36m8\u001b[0m, Permutation P_3: \u001b[1;36m6.535400390625\u001b[0m                              \u001b]8;id=116437;file:///tmp/ipykernel_132860/1970187617.py\u001b\\\u001b[2m__main__\u001b[0m\u001b]8;;\u001b\\\u001b[2m:\u001b[0m\u001b]8;id=445676;file:///tmp/ipykernel_132860/1970187617.py#142\u001b\\\u001b[2m142\u001b[0m\u001b]8;;\u001b\\\n"
      ]
     },
     "metadata": {},
     "output_type": "display_data"
    },
    {
     "name": "stdout",
     "output_type": "stream",
     "text": [
      "Permuting P_0\n",
      "w_a shape: torch.Size([512, 1296]), w_b shape: torch.Size([512, 1296])\n",
      "k1: 256, k2: 256\n",
      "Optimization terminated successfully.\n",
      "         Current function value: 335.934322\n",
      "         Iterations: 100\n",
      "         Function evaluations: 157\n",
      "         Gradient evaluations: 157\n"
     ]
    },
    {
     "data": {
      "text/html": [
       "<pre style=\"white-space:pre;overflow-x:auto;line-height:normal;font-family:Menlo,'DejaVu Sans Mono',consolas,'Courier New',monospace\"><span style=\"color: #7fbfbf; text-decoration-color: #7fbfbf\">2025-01-07 14:40:16 </span><span style=\"color: #000080; text-decoration-color: #000080\">INFO    </span> Iteration <span style=\"color: #008080; text-decoration-color: #008080; font-weight: bold\">8</span>, Permutation P_0: <span style=\"color: #008080; text-decoration-color: #008080; font-weight: bold\">-20.5855712890625</span>                           <a href=\"file:///tmp/ipykernel_132860/1970187617.py\" target=\"_blank\"><span style=\"color: #7f7f7f; text-decoration-color: #7f7f7f\">__main__</span></a><span style=\"color: #7f7f7f; text-decoration-color: #7f7f7f\">:</span><a href=\"file:///tmp/ipykernel_132860/1970187617.py#142\" target=\"_blank\"><span style=\"color: #7f7f7f; text-decoration-color: #7f7f7f\">142</span></a>\n",
       "</pre>\n"
      ],
      "text/plain": [
       "\u001b[2;36m2025-01-07 14:40:16\u001b[0m\u001b[2;36m \u001b[0m\u001b[34mINFO    \u001b[0m Iteration \u001b[1;36m8\u001b[0m, Permutation P_0: \u001b[1;36m-20.5855712890625\u001b[0m                           \u001b]8;id=872299;file:///tmp/ipykernel_132860/1970187617.py\u001b\\\u001b[2m__main__\u001b[0m\u001b]8;;\u001b\\\u001b[2m:\u001b[0m\u001b]8;id=888398;file:///tmp/ipykernel_132860/1970187617.py#142\u001b\\\u001b[2m142\u001b[0m\u001b]8;;\u001b\\\n"
      ]
     },
     "metadata": {},
     "output_type": "display_data"
    },
    {
     "name": "stdout",
     "output_type": "stream",
     "text": [
      "Permuting P_1\n",
      "Permuting the columns of layer1.weight with P_0, shape: torch.Size([512, 512])\n",
      "w_a shape: torch.Size([512, 1024]), w_b shape: torch.Size([512, 1024])\n",
      "k1: 256, k2: 256\n",
      "Optimization terminated successfully.\n",
      "         Current function value: 306.071027\n",
      "         Iterations: 77\n",
      "         Function evaluations: 133\n",
      "         Gradient evaluations: 133\n"
     ]
    },
    {
     "data": {
      "text/html": [
       "<pre style=\"white-space:pre;overflow-x:auto;line-height:normal;font-family:Menlo,'DejaVu Sans Mono',consolas,'Courier New',monospace\"><span style=\"color: #7fbfbf; text-decoration-color: #7fbfbf\">2025-01-07 14:40:29 </span><span style=\"color: #000080; text-decoration-color: #000080\">INFO    </span> Iteration <span style=\"color: #008080; text-decoration-color: #008080; font-weight: bold\">8</span>, Permutation P_1: <span style=\"color: #008080; text-decoration-color: #008080; font-weight: bold\">9.6370849609375</span>                             <a href=\"file:///tmp/ipykernel_132860/1970187617.py\" target=\"_blank\"><span style=\"color: #7f7f7f; text-decoration-color: #7f7f7f\">__main__</span></a><span style=\"color: #7f7f7f; text-decoration-color: #7f7f7f\">:</span><a href=\"file:///tmp/ipykernel_132860/1970187617.py#142\" target=\"_blank\"><span style=\"color: #7f7f7f; text-decoration-color: #7f7f7f\">142</span></a>\n",
       "</pre>\n"
      ],
      "text/plain": [
       "\u001b[2;36m2025-01-07 14:40:29\u001b[0m\u001b[2;36m \u001b[0m\u001b[34mINFO    \u001b[0m Iteration \u001b[1;36m8\u001b[0m, Permutation P_1: \u001b[1;36m9.6370849609375\u001b[0m                             \u001b]8;id=345316;file:///tmp/ipykernel_132860/1970187617.py\u001b\\\u001b[2m__main__\u001b[0m\u001b]8;;\u001b\\\u001b[2m:\u001b[0m\u001b]8;id=426040;file:///tmp/ipykernel_132860/1970187617.py#142\u001b\\\u001b[2m142\u001b[0m\u001b]8;;\u001b\\\n"
      ]
     },
     "metadata": {},
     "output_type": "display_data"
    },
    {
     "name": "stdout",
     "output_type": "stream",
     "text": [
      "Permuting P_2\n",
      "Permuting the columns of layer2.weight with P_1, shape: torch.Size([512, 512])\n",
      "w_a shape: torch.Size([512, 768]), w_b shape: torch.Size([512, 768])\n",
      "k1: 256, k2: 256\n",
      "Optimization terminated successfully.\n",
      "         Current function value: 187.439505\n",
      "         Iterations: 104\n",
      "         Function evaluations: 163\n",
      "         Gradient evaluations: 163\n"
     ]
    },
    {
     "data": {
      "text/html": [
       "<pre style=\"white-space:pre;overflow-x:auto;line-height:normal;font-family:Menlo,'DejaVu Sans Mono',consolas,'Courier New',monospace\"><span style=\"color: #7fbfbf; text-decoration-color: #7fbfbf\">2025-01-07 14:40:38 </span><span style=\"color: #000080; text-decoration-color: #000080\">INFO    </span> Iteration <span style=\"color: #008080; text-decoration-color: #008080; font-weight: bold\">8</span>, Permutation P_2: <span style=\"color: #008080; text-decoration-color: #008080; font-weight: bold\">7.759735107421875</span>                           <a href=\"file:///tmp/ipykernel_132860/1970187617.py\" target=\"_blank\"><span style=\"color: #7f7f7f; text-decoration-color: #7f7f7f\">__main__</span></a><span style=\"color: #7f7f7f; text-decoration-color: #7f7f7f\">:</span><a href=\"file:///tmp/ipykernel_132860/1970187617.py#142\" target=\"_blank\"><span style=\"color: #7f7f7f; text-decoration-color: #7f7f7f\">142</span></a>\n",
       "</pre>\n"
      ],
      "text/plain": [
       "\u001b[2;36m2025-01-07 14:40:38\u001b[0m\u001b[2;36m \u001b[0m\u001b[34mINFO    \u001b[0m Iteration \u001b[1;36m8\u001b[0m, Permutation P_2: \u001b[1;36m7.759735107421875\u001b[0m                           \u001b]8;id=896729;file:///tmp/ipykernel_132860/1970187617.py\u001b\\\u001b[2m__main__\u001b[0m\u001b]8;;\u001b\\\u001b[2m:\u001b[0m\u001b]8;id=843835;file:///tmp/ipykernel_132860/1970187617.py#142\u001b\\\u001b[2m142\u001b[0m\u001b]8;;\u001b\\\n"
      ]
     },
     "metadata": {},
     "output_type": "display_data"
    },
    {
     "name": "stderr",
     "output_type": "stream",
     "text": [
      "Weight matching:   9%|▉         | 9/100 [05:52<59:30, 39.23s/it]"
     ]
    },
    {
     "name": "stdout",
     "output_type": "stream",
     "text": [
      "Permuting P_0\n",
      "w_a shape: torch.Size([512, 1296]), w_b shape: torch.Size([512, 1296])\n",
      "k1: 256, k2: 256\n",
      "Optimization terminated successfully.\n",
      "         Current function value: 335.465379\n",
      "         Iterations: 93\n",
      "         Function evaluations: 147\n",
      "         Gradient evaluations: 147\n"
     ]
    },
    {
     "data": {
      "text/html": [
       "<pre style=\"white-space:pre;overflow-x:auto;line-height:normal;font-family:Menlo,'DejaVu Sans Mono',consolas,'Courier New',monospace\"><span style=\"color: #7fbfbf; text-decoration-color: #7fbfbf\">2025-01-07 14:40:47 </span><span style=\"color: #000080; text-decoration-color: #000080\">INFO    </span> Iteration <span style=\"color: #008080; text-decoration-color: #008080; font-weight: bold\">9</span>, Permutation P_0: <span style=\"color: #008080; text-decoration-color: #008080; font-weight: bold\">2.1842041015625</span>                             <a href=\"file:///tmp/ipykernel_132860/1970187617.py\" target=\"_blank\"><span style=\"color: #7f7f7f; text-decoration-color: #7f7f7f\">__main__</span></a><span style=\"color: #7f7f7f; text-decoration-color: #7f7f7f\">:</span><a href=\"file:///tmp/ipykernel_132860/1970187617.py#142\" target=\"_blank\"><span style=\"color: #7f7f7f; text-decoration-color: #7f7f7f\">142</span></a>\n",
       "</pre>\n"
      ],
      "text/plain": [
       "\u001b[2;36m2025-01-07 14:40:47\u001b[0m\u001b[2;36m \u001b[0m\u001b[34mINFO    \u001b[0m Iteration \u001b[1;36m9\u001b[0m, Permutation P_0: \u001b[1;36m2.1842041015625\u001b[0m                             \u001b]8;id=888473;file:///tmp/ipykernel_132860/1970187617.py\u001b\\\u001b[2m__main__\u001b[0m\u001b]8;;\u001b\\\u001b[2m:\u001b[0m\u001b]8;id=965110;file:///tmp/ipykernel_132860/1970187617.py#142\u001b\\\u001b[2m142\u001b[0m\u001b]8;;\u001b\\\n"
      ]
     },
     "metadata": {},
     "output_type": "display_data"
    },
    {
     "name": "stdout",
     "output_type": "stream",
     "text": [
      "Permuting P_3\n",
      "Permuting the columns of layer3.weight with P_2, shape: torch.Size([512, 512])\n",
      "w_a shape: torch.Size([256, 539]), w_b shape: torch.Size([256, 539])\n",
      "k1: 128, k2: 128\n",
      "Optimization terminated successfully.\n",
      "         Current function value: 62.001415\n",
      "         Iterations: 62\n",
      "         Function evaluations: 100\n",
      "         Gradient evaluations: 100\n"
     ]
    },
    {
     "data": {
      "text/html": [
       "<pre style=\"white-space:pre;overflow-x:auto;line-height:normal;font-family:Menlo,'DejaVu Sans Mono',consolas,'Courier New',monospace\"><span style=\"color: #7fbfbf; text-decoration-color: #7fbfbf\">2025-01-07 14:40:52 </span><span style=\"color: #000080; text-decoration-color: #000080\">INFO    </span> Iteration <span style=\"color: #008080; text-decoration-color: #008080; font-weight: bold\">9</span>, Permutation P_3: <span style=\"color: #008080; text-decoration-color: #008080; font-weight: bold\">4.87055778503418</span>                            <a href=\"file:///tmp/ipykernel_132860/1970187617.py\" target=\"_blank\"><span style=\"color: #7f7f7f; text-decoration-color: #7f7f7f\">__main__</span></a><span style=\"color: #7f7f7f; text-decoration-color: #7f7f7f\">:</span><a href=\"file:///tmp/ipykernel_132860/1970187617.py#142\" target=\"_blank\"><span style=\"color: #7f7f7f; text-decoration-color: #7f7f7f\">142</span></a>\n",
       "</pre>\n"
      ],
      "text/plain": [
       "\u001b[2;36m2025-01-07 14:40:52\u001b[0m\u001b[2;36m \u001b[0m\u001b[34mINFO    \u001b[0m Iteration \u001b[1;36m9\u001b[0m, Permutation P_3: \u001b[1;36m4.87055778503418\u001b[0m                            \u001b]8;id=101438;file:///tmp/ipykernel_132860/1970187617.py\u001b\\\u001b[2m__main__\u001b[0m\u001b]8;;\u001b\\\u001b[2m:\u001b[0m\u001b]8;id=61467;file:///tmp/ipykernel_132860/1970187617.py#142\u001b\\\u001b[2m142\u001b[0m\u001b]8;;\u001b\\\n"
      ]
     },
     "metadata": {},
     "output_type": "display_data"
    },
    {
     "name": "stdout",
     "output_type": "stream",
     "text": [
      "Permuting P_2\n",
      "Permuting the columns of layer2.weight with P_1, shape: torch.Size([512, 512])\n",
      "w_a shape: torch.Size([512, 768]), w_b shape: torch.Size([512, 768])\n",
      "k1: 256, k2: 256\n",
      "Optimization terminated successfully.\n",
      "         Current function value: 186.690267\n",
      "         Iterations: 113\n",
      "         Function evaluations: 183\n",
      "         Gradient evaluations: 183\n"
     ]
    },
    {
     "data": {
      "text/html": [
       "<pre style=\"white-space:pre;overflow-x:auto;line-height:normal;font-family:Menlo,'DejaVu Sans Mono',consolas,'Courier New',monospace\"><span style=\"color: #7fbfbf; text-decoration-color: #7fbfbf\">2025-01-07 14:41:03 </span><span style=\"color: #000080; text-decoration-color: #000080\">INFO    </span> Iteration <span style=\"color: #008080; text-decoration-color: #008080; font-weight: bold\">9</span>, Permutation P_2: <span style=\"color: #008080; text-decoration-color: #008080; font-weight: bold\">-1.819854736328125</span>                          <a href=\"file:///tmp/ipykernel_132860/1970187617.py\" target=\"_blank\"><span style=\"color: #7f7f7f; text-decoration-color: #7f7f7f\">__main__</span></a><span style=\"color: #7f7f7f; text-decoration-color: #7f7f7f\">:</span><a href=\"file:///tmp/ipykernel_132860/1970187617.py#142\" target=\"_blank\"><span style=\"color: #7f7f7f; text-decoration-color: #7f7f7f\">142</span></a>\n",
       "</pre>\n"
      ],
      "text/plain": [
       "\u001b[2;36m2025-01-07 14:41:03\u001b[0m\u001b[2;36m \u001b[0m\u001b[34mINFO    \u001b[0m Iteration \u001b[1;36m9\u001b[0m, Permutation P_2: \u001b[1;36m-1.819854736328125\u001b[0m                          \u001b]8;id=232950;file:///tmp/ipykernel_132860/1970187617.py\u001b\\\u001b[2m__main__\u001b[0m\u001b]8;;\u001b\\\u001b[2m:\u001b[0m\u001b]8;id=318271;file:///tmp/ipykernel_132860/1970187617.py#142\u001b\\\u001b[2m142\u001b[0m\u001b]8;;\u001b\\\n"
      ]
     },
     "metadata": {},
     "output_type": "display_data"
    },
    {
     "name": "stdout",
     "output_type": "stream",
     "text": [
      "Permuting P_1\n",
      "Permuting the columns of layer1.weight with P_0, shape: torch.Size([512, 512])\n",
      "w_a shape: torch.Size([512, 1024]), w_b shape: torch.Size([512, 1024])\n",
      "k1: 256, k2: 256\n",
      "Optimization terminated successfully.\n",
      "         Current function value: 304.489784\n",
      "         Iterations: 68\n",
      "         Function evaluations: 119\n",
      "         Gradient evaluations: 119\n"
     ]
    },
    {
     "data": {
      "text/html": [
       "<pre style=\"white-space:pre;overflow-x:auto;line-height:normal;font-family:Menlo,'DejaVu Sans Mono',consolas,'Courier New',monospace\"><span style=\"color: #7fbfbf; text-decoration-color: #7fbfbf\">2025-01-07 14:41:12 </span><span style=\"color: #000080; text-decoration-color: #000080\">INFO    </span> Iteration <span style=\"color: #008080; text-decoration-color: #008080; font-weight: bold\">9</span>, Permutation P_1: <span style=\"color: #008080; text-decoration-color: #008080; font-weight: bold\">-1.5474853515625</span>                            <a href=\"file:///tmp/ipykernel_132860/1970187617.py\" target=\"_blank\"><span style=\"color: #7f7f7f; text-decoration-color: #7f7f7f\">__main__</span></a><span style=\"color: #7f7f7f; text-decoration-color: #7f7f7f\">:</span><a href=\"file:///tmp/ipykernel_132860/1970187617.py#142\" target=\"_blank\"><span style=\"color: #7f7f7f; text-decoration-color: #7f7f7f\">142</span></a>\n",
       "</pre>\n"
      ],
      "text/plain": [
       "\u001b[2;36m2025-01-07 14:41:12\u001b[0m\u001b[2;36m \u001b[0m\u001b[34mINFO    \u001b[0m Iteration \u001b[1;36m9\u001b[0m, Permutation P_1: \u001b[1;36m-1.5474853515625\u001b[0m                            \u001b]8;id=540961;file:///tmp/ipykernel_132860/1970187617.py\u001b\\\u001b[2m__main__\u001b[0m\u001b]8;;\u001b\\\u001b[2m:\u001b[0m\u001b]8;id=407720;file:///tmp/ipykernel_132860/1970187617.py#142\u001b\\\u001b[2m142\u001b[0m\u001b]8;;\u001b\\\n"
      ]
     },
     "metadata": {},
     "output_type": "display_data"
    },
    {
     "name": "stderr",
     "output_type": "stream",
     "text": [
      "Weight matching:  10%|█         | 10/100 [06:26<56:42, 37.80s/it]"
     ]
    },
    {
     "name": "stdout",
     "output_type": "stream",
     "text": [
      "Permuting P_1\n",
      "Permuting the columns of layer1.weight with P_0, shape: torch.Size([512, 512])\n",
      "w_a shape: torch.Size([512, 1024]), w_b shape: torch.Size([512, 1024])\n",
      "k1: 256, k2: 256\n",
      "Optimization terminated successfully.\n",
      "         Current function value: 304.489784\n",
      "         Iterations: 68\n",
      "         Function evaluations: 119\n",
      "         Gradient evaluations: 119\n"
     ]
    },
    {
     "data": {
      "text/html": [
       "<pre style=\"white-space:pre;overflow-x:auto;line-height:normal;font-family:Menlo,'DejaVu Sans Mono',consolas,'Courier New',monospace\"><span style=\"color: #7fbfbf; text-decoration-color: #7fbfbf\">2025-01-07 14:41:20 </span><span style=\"color: #000080; text-decoration-color: #000080\">INFO    </span> Iteration <span style=\"color: #008080; text-decoration-color: #008080; font-weight: bold\">10</span>, Permutation P_1: <span style=\"color: #008080; text-decoration-color: #008080; font-weight: bold\">0.0</span>                                        <a href=\"file:///tmp/ipykernel_132860/1970187617.py\" target=\"_blank\"><span style=\"color: #7f7f7f; text-decoration-color: #7f7f7f\">__main__</span></a><span style=\"color: #7f7f7f; text-decoration-color: #7f7f7f\">:</span><a href=\"file:///tmp/ipykernel_132860/1970187617.py#142\" target=\"_blank\"><span style=\"color: #7f7f7f; text-decoration-color: #7f7f7f\">142</span></a>\n",
       "</pre>\n"
      ],
      "text/plain": [
       "\u001b[2;36m2025-01-07 14:41:20\u001b[0m\u001b[2;36m \u001b[0m\u001b[34mINFO    \u001b[0m Iteration \u001b[1;36m10\u001b[0m, Permutation P_1: \u001b[1;36m0.0\u001b[0m                                        \u001b]8;id=368317;file:///tmp/ipykernel_132860/1970187617.py\u001b\\\u001b[2m__main__\u001b[0m\u001b]8;;\u001b\\\u001b[2m:\u001b[0m\u001b]8;id=505007;file:///tmp/ipykernel_132860/1970187617.py#142\u001b\\\u001b[2m142\u001b[0m\u001b]8;;\u001b\\\n"
      ]
     },
     "metadata": {},
     "output_type": "display_data"
    },
    {
     "name": "stdout",
     "output_type": "stream",
     "text": [
      "Permuting P_3\n",
      "Permuting the columns of layer3.weight with P_2, shape: torch.Size([512, 512])\n",
      "w_a shape: torch.Size([256, 539]), w_b shape: torch.Size([256, 539])\n",
      "k1: 128, k2: 128\n",
      "Optimization terminated successfully.\n",
      "         Current function value: 61.479828\n",
      "         Iterations: 67\n",
      "         Function evaluations: 111\n",
      "         Gradient evaluations: 111\n"
     ]
    },
    {
     "data": {
      "text/html": [
       "<pre style=\"white-space:pre;overflow-x:auto;line-height:normal;font-family:Menlo,'DejaVu Sans Mono',consolas,'Courier New',monospace\"><span style=\"color: #7fbfbf; text-decoration-color: #7fbfbf\">2025-01-07 14:41:25 </span><span style=\"color: #000080; text-decoration-color: #000080\">INFO    </span> Iteration <span style=\"color: #008080; text-decoration-color: #008080; font-weight: bold\">10</span>, Permutation P_3: <span style=\"color: #008080; text-decoration-color: #008080; font-weight: bold\">0.19131851196289062</span>                        <a href=\"file:///tmp/ipykernel_132860/1970187617.py\" target=\"_blank\"><span style=\"color: #7f7f7f; text-decoration-color: #7f7f7f\">__main__</span></a><span style=\"color: #7f7f7f; text-decoration-color: #7f7f7f\">:</span><a href=\"file:///tmp/ipykernel_132860/1970187617.py#142\" target=\"_blank\"><span style=\"color: #7f7f7f; text-decoration-color: #7f7f7f\">142</span></a>\n",
       "</pre>\n"
      ],
      "text/plain": [
       "\u001b[2;36m2025-01-07 14:41:25\u001b[0m\u001b[2;36m \u001b[0m\u001b[34mINFO    \u001b[0m Iteration \u001b[1;36m10\u001b[0m, Permutation P_3: \u001b[1;36m0.19131851196289062\u001b[0m                        \u001b]8;id=408780;file:///tmp/ipykernel_132860/1970187617.py\u001b\\\u001b[2m__main__\u001b[0m\u001b]8;;\u001b\\\u001b[2m:\u001b[0m\u001b]8;id=938867;file:///tmp/ipykernel_132860/1970187617.py#142\u001b\\\u001b[2m142\u001b[0m\u001b]8;;\u001b\\\n"
      ]
     },
     "metadata": {},
     "output_type": "display_data"
    },
    {
     "name": "stdout",
     "output_type": "stream",
     "text": [
      "Permuting P_0\n",
      "w_a shape: torch.Size([512, 1296]), w_b shape: torch.Size([512, 1296])\n",
      "k1: 256, k2: 256\n",
      "Optimization terminated successfully.\n",
      "         Current function value: 336.789194\n",
      "         Iterations: 100\n",
      "         Function evaluations: 155\n",
      "         Gradient evaluations: 155\n"
     ]
    },
    {
     "data": {
      "text/html": [
       "<pre style=\"white-space:pre;overflow-x:auto;line-height:normal;font-family:Menlo,'DejaVu Sans Mono',consolas,'Courier New',monospace\"><span style=\"color: #7fbfbf; text-decoration-color: #7fbfbf\">2025-01-07 14:41:34 </span><span style=\"color: #000080; text-decoration-color: #000080\">INFO    </span> Iteration <span style=\"color: #008080; text-decoration-color: #008080; font-weight: bold\">10</span>, Permutation P_0: <span style=\"color: #008080; text-decoration-color: #008080; font-weight: bold\">-5.9615478515625</span>                           <a href=\"file:///tmp/ipykernel_132860/1970187617.py\" target=\"_blank\"><span style=\"color: #7f7f7f; text-decoration-color: #7f7f7f\">__main__</span></a><span style=\"color: #7f7f7f; text-decoration-color: #7f7f7f\">:</span><a href=\"file:///tmp/ipykernel_132860/1970187617.py#142\" target=\"_blank\"><span style=\"color: #7f7f7f; text-decoration-color: #7f7f7f\">142</span></a>\n",
       "</pre>\n"
      ],
      "text/plain": [
       "\u001b[2;36m2025-01-07 14:41:34\u001b[0m\u001b[2;36m \u001b[0m\u001b[34mINFO    \u001b[0m Iteration \u001b[1;36m10\u001b[0m, Permutation P_0: \u001b[1;36m-5.9615478515625\u001b[0m                           \u001b]8;id=999640;file:///tmp/ipykernel_132860/1970187617.py\u001b\\\u001b[2m__main__\u001b[0m\u001b]8;;\u001b\\\u001b[2m:\u001b[0m\u001b]8;id=595862;file:///tmp/ipykernel_132860/1970187617.py#142\u001b\\\u001b[2m142\u001b[0m\u001b]8;;\u001b\\\n"
      ]
     },
     "metadata": {},
     "output_type": "display_data"
    },
    {
     "name": "stdout",
     "output_type": "stream",
     "text": [
      "Permuting P_2\n",
      "Permuting the columns of layer2.weight with P_1, shape: torch.Size([512, 512])\n",
      "w_a shape: torch.Size([512, 768]), w_b shape: torch.Size([512, 768])\n",
      "k1: 256, k2: 256\n",
      "Optimization terminated successfully.\n",
      "         Current function value: 187.964599\n",
      "         Iterations: 109\n",
      "         Function evaluations: 174\n",
      "         Gradient evaluations: 174\n"
     ]
    },
    {
     "data": {
      "text/html": [
       "<pre style=\"white-space:pre;overflow-x:auto;line-height:normal;font-family:Menlo,'DejaVu Sans Mono',consolas,'Courier New',monospace\"><span style=\"color: #7fbfbf; text-decoration-color: #7fbfbf\">2025-01-07 14:41:42 </span><span style=\"color: #000080; text-decoration-color: #000080\">INFO    </span> Iteration <span style=\"color: #008080; text-decoration-color: #008080; font-weight: bold\">10</span>, Permutation P_2: <span style=\"color: #008080; text-decoration-color: #008080; font-weight: bold\">4.967048645019531</span>                          <a href=\"file:///tmp/ipykernel_132860/1970187617.py\" target=\"_blank\"><span style=\"color: #7f7f7f; text-decoration-color: #7f7f7f\">__main__</span></a><span style=\"color: #7f7f7f; text-decoration-color: #7f7f7f\">:</span><a href=\"file:///tmp/ipykernel_132860/1970187617.py#142\" target=\"_blank\"><span style=\"color: #7f7f7f; text-decoration-color: #7f7f7f\">142</span></a>\n",
       "</pre>\n"
      ],
      "text/plain": [
       "\u001b[2;36m2025-01-07 14:41:42\u001b[0m\u001b[2;36m \u001b[0m\u001b[34mINFO    \u001b[0m Iteration \u001b[1;36m10\u001b[0m, Permutation P_2: \u001b[1;36m4.967048645019531\u001b[0m                          \u001b]8;id=713589;file:///tmp/ipykernel_132860/1970187617.py\u001b\\\u001b[2m__main__\u001b[0m\u001b]8;;\u001b\\\u001b[2m:\u001b[0m\u001b]8;id=128341;file:///tmp/ipykernel_132860/1970187617.py#142\u001b\\\u001b[2m142\u001b[0m\u001b]8;;\u001b\\\n"
      ]
     },
     "metadata": {},
     "output_type": "display_data"
    },
    {
     "name": "stderr",
     "output_type": "stream",
     "text": [
      "Weight matching:  11%|█         | 11/100 [06:56<52:17, 35.25s/it]"
     ]
    },
    {
     "name": "stdout",
     "output_type": "stream",
     "text": [
      "Permuting P_3\n",
      "Permuting the columns of layer3.weight with P_2, shape: torch.Size([512, 512])\n",
      "w_a shape: torch.Size([256, 539]), w_b shape: torch.Size([256, 539])\n",
      "k1: 128, k2: 128\n",
      "Optimization terminated successfully.\n",
      "         Current function value: 61.656435\n",
      "         Iterations: 67\n",
      "         Function evaluations: 105\n",
      "         Gradient evaluations: 105\n"
     ]
    },
    {
     "data": {
      "text/html": [
       "<pre style=\"white-space:pre;overflow-x:auto;line-height:normal;font-family:Menlo,'DejaVu Sans Mono',consolas,'Courier New',monospace\"><span style=\"color: #7fbfbf; text-decoration-color: #7fbfbf\">2025-01-07 14:41:47 </span><span style=\"color: #000080; text-decoration-color: #000080\">INFO    </span> Iteration <span style=\"color: #008080; text-decoration-color: #008080; font-weight: bold\">11</span>, Permutation P_3: <span style=\"color: #008080; text-decoration-color: #008080; font-weight: bold\">5.495391845703125</span>                          <a href=\"file:///tmp/ipykernel_132860/1970187617.py\" target=\"_blank\"><span style=\"color: #7f7f7f; text-decoration-color: #7f7f7f\">__main__</span></a><span style=\"color: #7f7f7f; text-decoration-color: #7f7f7f\">:</span><a href=\"file:///tmp/ipykernel_132860/1970187617.py#142\" target=\"_blank\"><span style=\"color: #7f7f7f; text-decoration-color: #7f7f7f\">142</span></a>\n",
       "</pre>\n"
      ],
      "text/plain": [
       "\u001b[2;36m2025-01-07 14:41:47\u001b[0m\u001b[2;36m \u001b[0m\u001b[34mINFO    \u001b[0m Iteration \u001b[1;36m11\u001b[0m, Permutation P_3: \u001b[1;36m5.495391845703125\u001b[0m                          \u001b]8;id=498584;file:///tmp/ipykernel_132860/1970187617.py\u001b\\\u001b[2m__main__\u001b[0m\u001b]8;;\u001b\\\u001b[2m:\u001b[0m\u001b]8;id=724754;file:///tmp/ipykernel_132860/1970187617.py#142\u001b\\\u001b[2m142\u001b[0m\u001b]8;;\u001b\\\n"
      ]
     },
     "metadata": {},
     "output_type": "display_data"
    },
    {
     "name": "stdout",
     "output_type": "stream",
     "text": [
      "Permuting P_1\n",
      "Permuting the columns of layer1.weight with P_0, shape: torch.Size([512, 512])\n",
      "w_a shape: torch.Size([512, 1024]), w_b shape: torch.Size([512, 1024])\n",
      "k1: 256, k2: 256\n",
      "Optimization terminated successfully.\n",
      "         Current function value: 305.944887\n",
      "         Iterations: 65\n",
      "         Function evaluations: 112\n",
      "         Gradient evaluations: 112\n"
     ]
    },
    {
     "data": {
      "text/html": [
       "<pre style=\"white-space:pre;overflow-x:auto;line-height:normal;font-family:Menlo,'DejaVu Sans Mono',consolas,'Courier New',monospace\"><span style=\"color: #7fbfbf; text-decoration-color: #7fbfbf\">2025-01-07 14:41:54 </span><span style=\"color: #000080; text-decoration-color: #000080\">INFO    </span> Iteration <span style=\"color: #008080; text-decoration-color: #008080; font-weight: bold\">11</span>, Permutation P_1: <span style=\"color: #008080; text-decoration-color: #008080; font-weight: bold\">-17.09906005859375</span>                         <a href=\"file:///tmp/ipykernel_132860/1970187617.py\" target=\"_blank\"><span style=\"color: #7f7f7f; text-decoration-color: #7f7f7f\">__main__</span></a><span style=\"color: #7f7f7f; text-decoration-color: #7f7f7f\">:</span><a href=\"file:///tmp/ipykernel_132860/1970187617.py#142\" target=\"_blank\"><span style=\"color: #7f7f7f; text-decoration-color: #7f7f7f\">142</span></a>\n",
       "</pre>\n"
      ],
      "text/plain": [
       "\u001b[2;36m2025-01-07 14:41:54\u001b[0m\u001b[2;36m \u001b[0m\u001b[34mINFO    \u001b[0m Iteration \u001b[1;36m11\u001b[0m, Permutation P_1: \u001b[1;36m-17.09906005859375\u001b[0m                         \u001b]8;id=345948;file:///tmp/ipykernel_132860/1970187617.py\u001b\\\u001b[2m__main__\u001b[0m\u001b]8;;\u001b\\\u001b[2m:\u001b[0m\u001b]8;id=621377;file:///tmp/ipykernel_132860/1970187617.py#142\u001b\\\u001b[2m142\u001b[0m\u001b]8;;\u001b\\\n"
      ]
     },
     "metadata": {},
     "output_type": "display_data"
    },
    {
     "name": "stdout",
     "output_type": "stream",
     "text": [
      "Permuting P_2\n",
      "Permuting the columns of layer2.weight with P_1, shape: torch.Size([512, 512])\n",
      "w_a shape: torch.Size([512, 768]), w_b shape: torch.Size([512, 768])\n",
      "k1: 256, k2: 256\n",
      "Optimization terminated successfully.\n",
      "         Current function value: 188.587875\n",
      "         Iterations: 118\n",
      "         Function evaluations: 176\n",
      "         Gradient evaluations: 176\n"
     ]
    },
    {
     "data": {
      "text/html": [
       "<pre style=\"white-space:pre;overflow-x:auto;line-height:normal;font-family:Menlo,'DejaVu Sans Mono',consolas,'Courier New',monospace\"><span style=\"color: #7fbfbf; text-decoration-color: #7fbfbf\">2025-01-07 14:42:03 </span><span style=\"color: #000080; text-decoration-color: #000080\">INFO    </span> Iteration <span style=\"color: #008080; text-decoration-color: #008080; font-weight: bold\">11</span>, Permutation P_2: <span style=\"color: #008080; text-decoration-color: #008080; font-weight: bold\">10.434028625488281</span>                         <a href=\"file:///tmp/ipykernel_132860/1970187617.py\" target=\"_blank\"><span style=\"color: #7f7f7f; text-decoration-color: #7f7f7f\">__main__</span></a><span style=\"color: #7f7f7f; text-decoration-color: #7f7f7f\">:</span><a href=\"file:///tmp/ipykernel_132860/1970187617.py#142\" target=\"_blank\"><span style=\"color: #7f7f7f; text-decoration-color: #7f7f7f\">142</span></a>\n",
       "</pre>\n"
      ],
      "text/plain": [
       "\u001b[2;36m2025-01-07 14:42:03\u001b[0m\u001b[2;36m \u001b[0m\u001b[34mINFO    \u001b[0m Iteration \u001b[1;36m11\u001b[0m, Permutation P_2: \u001b[1;36m10.434028625488281\u001b[0m                         \u001b]8;id=834082;file:///tmp/ipykernel_132860/1970187617.py\u001b\\\u001b[2m__main__\u001b[0m\u001b]8;;\u001b\\\u001b[2m:\u001b[0m\u001b]8;id=915251;file:///tmp/ipykernel_132860/1970187617.py#142\u001b\\\u001b[2m142\u001b[0m\u001b]8;;\u001b\\\n"
      ]
     },
     "metadata": {},
     "output_type": "display_data"
    },
    {
     "name": "stdout",
     "output_type": "stream",
     "text": [
      "Permuting P_0\n",
      "w_a shape: torch.Size([512, 1296]), w_b shape: torch.Size([512, 1296])\n",
      "k1: 256, k2: 256\n",
      "Optimization terminated successfully.\n",
      "         Current function value: 337.459376\n",
      "         Iterations: 104\n",
      "         Function evaluations: 169\n",
      "         Gradient evaluations: 169\n"
     ]
    },
    {
     "data": {
      "text/html": [
       "<pre style=\"white-space:pre;overflow-x:auto;line-height:normal;font-family:Menlo,'DejaVu Sans Mono',consolas,'Courier New',monospace\"><span style=\"color: #7fbfbf; text-decoration-color: #7fbfbf\">2025-01-07 14:42:12 </span><span style=\"color: #000080; text-decoration-color: #000080\">INFO    </span> Iteration <span style=\"color: #008080; text-decoration-color: #008080; font-weight: bold\">11</span>, Permutation P_0: <span style=\"color: #008080; text-decoration-color: #008080; font-weight: bold\">-0.97454833984375</span>                          <a href=\"file:///tmp/ipykernel_132860/1970187617.py\" target=\"_blank\"><span style=\"color: #7f7f7f; text-decoration-color: #7f7f7f\">__main__</span></a><span style=\"color: #7f7f7f; text-decoration-color: #7f7f7f\">:</span><a href=\"file:///tmp/ipykernel_132860/1970187617.py#142\" target=\"_blank\"><span style=\"color: #7f7f7f; text-decoration-color: #7f7f7f\">142</span></a>\n",
       "</pre>\n"
      ],
      "text/plain": [
       "\u001b[2;36m2025-01-07 14:42:12\u001b[0m\u001b[2;36m \u001b[0m\u001b[34mINFO    \u001b[0m Iteration \u001b[1;36m11\u001b[0m, Permutation P_0: \u001b[1;36m-0.97454833984375\u001b[0m                          \u001b]8;id=390032;file:///tmp/ipykernel_132860/1970187617.py\u001b\\\u001b[2m__main__\u001b[0m\u001b]8;;\u001b\\\u001b[2m:\u001b[0m\u001b]8;id=320284;file:///tmp/ipykernel_132860/1970187617.py#142\u001b\\\u001b[2m142\u001b[0m\u001b]8;;\u001b\\\n"
      ]
     },
     "metadata": {},
     "output_type": "display_data"
    },
    {
     "name": "stderr",
     "output_type": "stream",
     "text": [
      "Weight matching:  12%|█▏        | 12/100 [07:25<49:09, 33.52s/it]"
     ]
    },
    {
     "name": "stdout",
     "output_type": "stream",
     "text": [
      "Permuting P_0\n",
      "w_a shape: torch.Size([512, 1296]), w_b shape: torch.Size([512, 1296])\n",
      "k1: 256, k2: 256\n",
      "Optimization terminated successfully.\n",
      "         Current function value: 337.459376\n",
      "         Iterations: 104\n",
      "         Function evaluations: 169\n",
      "         Gradient evaluations: 169\n"
     ]
    },
    {
     "data": {
      "text/html": [
       "<pre style=\"white-space:pre;overflow-x:auto;line-height:normal;font-family:Menlo,'DejaVu Sans Mono',consolas,'Courier New',monospace\"><span style=\"color: #7fbfbf; text-decoration-color: #7fbfbf\">2025-01-07 14:42:20 </span><span style=\"color: #000080; text-decoration-color: #000080\">INFO    </span> Iteration <span style=\"color: #008080; text-decoration-color: #008080; font-weight: bold\">12</span>, Permutation P_0: <span style=\"color: #008080; text-decoration-color: #008080; font-weight: bold\">0.0</span>                                        <a href=\"file:///tmp/ipykernel_132860/1970187617.py\" target=\"_blank\"><span style=\"color: #7f7f7f; text-decoration-color: #7f7f7f\">__main__</span></a><span style=\"color: #7f7f7f; text-decoration-color: #7f7f7f\">:</span><a href=\"file:///tmp/ipykernel_132860/1970187617.py#142\" target=\"_blank\"><span style=\"color: #7f7f7f; text-decoration-color: #7f7f7f\">142</span></a>\n",
       "</pre>\n"
      ],
      "text/plain": [
       "\u001b[2;36m2025-01-07 14:42:20\u001b[0m\u001b[2;36m \u001b[0m\u001b[34mINFO    \u001b[0m Iteration \u001b[1;36m12\u001b[0m, Permutation P_0: \u001b[1;36m0.0\u001b[0m                                        \u001b]8;id=471191;file:///tmp/ipykernel_132860/1970187617.py\u001b\\\u001b[2m__main__\u001b[0m\u001b]8;;\u001b\\\u001b[2m:\u001b[0m\u001b]8;id=654568;file:///tmp/ipykernel_132860/1970187617.py#142\u001b\\\u001b[2m142\u001b[0m\u001b]8;;\u001b\\\n"
      ]
     },
     "metadata": {},
     "output_type": "display_data"
    },
    {
     "name": "stdout",
     "output_type": "stream",
     "text": [
      "Permuting P_2\n",
      "Permuting the columns of layer2.weight with P_1, shape: torch.Size([512, 512])\n",
      "w_a shape: torch.Size([512, 768]), w_b shape: torch.Size([512, 768])\n",
      "k1: 256, k2: 256\n",
      "Optimization terminated successfully.\n",
      "         Current function value: 188.587875\n",
      "         Iterations: 118\n",
      "         Function evaluations: 176\n",
      "         Gradient evaluations: 176\n"
     ]
    },
    {
     "data": {
      "text/html": [
       "<pre style=\"white-space:pre;overflow-x:auto;line-height:normal;font-family:Menlo,'DejaVu Sans Mono',consolas,'Courier New',monospace\"><span style=\"color: #7fbfbf; text-decoration-color: #7fbfbf\">2025-01-07 14:42:29 </span><span style=\"color: #000080; text-decoration-color: #000080\">INFO    </span> Iteration <span style=\"color: #008080; text-decoration-color: #008080; font-weight: bold\">12</span>, Permutation P_2: <span style=\"color: #008080; text-decoration-color: #008080; font-weight: bold\">0.0</span>                                        <a href=\"file:///tmp/ipykernel_132860/1970187617.py\" target=\"_blank\"><span style=\"color: #7f7f7f; text-decoration-color: #7f7f7f\">__main__</span></a><span style=\"color: #7f7f7f; text-decoration-color: #7f7f7f\">:</span><a href=\"file:///tmp/ipykernel_132860/1970187617.py#142\" target=\"_blank\"><span style=\"color: #7f7f7f; text-decoration-color: #7f7f7f\">142</span></a>\n",
       "</pre>\n"
      ],
      "text/plain": [
       "\u001b[2;36m2025-01-07 14:42:29\u001b[0m\u001b[2;36m \u001b[0m\u001b[34mINFO    \u001b[0m Iteration \u001b[1;36m12\u001b[0m, Permutation P_2: \u001b[1;36m0.0\u001b[0m                                        \u001b]8;id=217385;file:///tmp/ipykernel_132860/1970187617.py\u001b\\\u001b[2m__main__\u001b[0m\u001b]8;;\u001b\\\u001b[2m:\u001b[0m\u001b]8;id=47054;file:///tmp/ipykernel_132860/1970187617.py#142\u001b\\\u001b[2m142\u001b[0m\u001b]8;;\u001b\\\n"
      ]
     },
     "metadata": {},
     "output_type": "display_data"
    },
    {
     "name": "stdout",
     "output_type": "stream",
     "text": [
      "Permuting P_3\n",
      "Permuting the columns of layer3.weight with P_2, shape: torch.Size([512, 512])\n",
      "w_a shape: torch.Size([256, 539]), w_b shape: torch.Size([256, 539])\n",
      "k1: 128, k2: 128\n",
      "Optimization terminated successfully.\n",
      "         Current function value: 61.725219\n",
      "         Iterations: 63\n",
      "         Function evaluations: 105\n",
      "         Gradient evaluations: 105\n"
     ]
    },
    {
     "data": {
      "text/html": [
       "<pre style=\"white-space:pre;overflow-x:auto;line-height:normal;font-family:Menlo,'DejaVu Sans Mono',consolas,'Courier New',monospace\"><span style=\"color: #7fbfbf; text-decoration-color: #7fbfbf\">2025-01-07 14:42:34 </span><span style=\"color: #000080; text-decoration-color: #000080\">INFO    </span> Iteration <span style=\"color: #008080; text-decoration-color: #008080; font-weight: bold\">12</span>, Permutation P_3: <span style=\"color: #008080; text-decoration-color: #008080; font-weight: bold\">9.725135803222656</span>                          <a href=\"file:///tmp/ipykernel_132860/1970187617.py\" target=\"_blank\"><span style=\"color: #7f7f7f; text-decoration-color: #7f7f7f\">__main__</span></a><span style=\"color: #7f7f7f; text-decoration-color: #7f7f7f\">:</span><a href=\"file:///tmp/ipykernel_132860/1970187617.py#142\" target=\"_blank\"><span style=\"color: #7f7f7f; text-decoration-color: #7f7f7f\">142</span></a>\n",
       "</pre>\n"
      ],
      "text/plain": [
       "\u001b[2;36m2025-01-07 14:42:34\u001b[0m\u001b[2;36m \u001b[0m\u001b[34mINFO    \u001b[0m Iteration \u001b[1;36m12\u001b[0m, Permutation P_3: \u001b[1;36m9.725135803222656\u001b[0m                          \u001b]8;id=646065;file:///tmp/ipykernel_132860/1970187617.py\u001b\\\u001b[2m__main__\u001b[0m\u001b]8;;\u001b\\\u001b[2m:\u001b[0m\u001b]8;id=550411;file:///tmp/ipykernel_132860/1970187617.py#142\u001b\\\u001b[2m142\u001b[0m\u001b]8;;\u001b\\\n"
      ]
     },
     "metadata": {},
     "output_type": "display_data"
    },
    {
     "name": "stdout",
     "output_type": "stream",
     "text": [
      "Permuting P_1\n",
      "Permuting the columns of layer1.weight with P_0, shape: torch.Size([512, 512])\n",
      "w_a shape: torch.Size([512, 1024]), w_b shape: torch.Size([512, 1024])\n",
      "k1: 256, k2: 256\n",
      "Optimization terminated successfully.\n",
      "         Current function value: 305.445808\n",
      "         Iterations: 67\n",
      "         Function evaluations: 120\n",
      "         Gradient evaluations: 120\n"
     ]
    },
    {
     "data": {
      "text/html": [
       "<pre style=\"white-space:pre;overflow-x:auto;line-height:normal;font-family:Menlo,'DejaVu Sans Mono',consolas,'Courier New',monospace\"><span style=\"color: #7fbfbf; text-decoration-color: #7fbfbf\">2025-01-07 14:42:42 </span><span style=\"color: #000080; text-decoration-color: #000080\">INFO    </span> Iteration <span style=\"color: #008080; text-decoration-color: #008080; font-weight: bold\">12</span>, Permutation P_1: <span style=\"color: #008080; text-decoration-color: #008080; font-weight: bold\">-22.938308715820312</span>                        <a href=\"file:///tmp/ipykernel_132860/1970187617.py\" target=\"_blank\"><span style=\"color: #7f7f7f; text-decoration-color: #7f7f7f\">__main__</span></a><span style=\"color: #7f7f7f; text-decoration-color: #7f7f7f\">:</span><a href=\"file:///tmp/ipykernel_132860/1970187617.py#142\" target=\"_blank\"><span style=\"color: #7f7f7f; text-decoration-color: #7f7f7f\">142</span></a>\n",
       "</pre>\n"
      ],
      "text/plain": [
       "\u001b[2;36m2025-01-07 14:42:42\u001b[0m\u001b[2;36m \u001b[0m\u001b[34mINFO    \u001b[0m Iteration \u001b[1;36m12\u001b[0m, Permutation P_1: \u001b[1;36m-22.938308715820312\u001b[0m                        \u001b]8;id=291530;file:///tmp/ipykernel_132860/1970187617.py\u001b\\\u001b[2m__main__\u001b[0m\u001b]8;;\u001b\\\u001b[2m:\u001b[0m\u001b]8;id=606949;file:///tmp/ipykernel_132860/1970187617.py#142\u001b\\\u001b[2m142\u001b[0m\u001b]8;;\u001b\\\n"
      ]
     },
     "metadata": {},
     "output_type": "display_data"
    },
    {
     "name": "stderr",
     "output_type": "stream",
     "text": [
      "Weight matching:  13%|█▎        | 13/100 [07:55<47:11, 32.55s/it]"
     ]
    },
    {
     "name": "stdout",
     "output_type": "stream",
     "text": [
      "Permuting P_0\n",
      "w_a shape: torch.Size([512, 1296]), w_b shape: torch.Size([512, 1296])\n",
      "k1: 256, k2: 256\n",
      "Optimization terminated successfully.\n",
      "         Current function value: 337.225558\n",
      "         Iterations: 92\n",
      "         Function evaluations: 150\n",
      "         Gradient evaluations: 150\n"
     ]
    },
    {
     "data": {
      "text/html": [
       "<pre style=\"white-space:pre;overflow-x:auto;line-height:normal;font-family:Menlo,'DejaVu Sans Mono',consolas,'Courier New',monospace\"><span style=\"color: #7fbfbf; text-decoration-color: #7fbfbf\">2025-01-07 14:42:53 </span><span style=\"color: #000080; text-decoration-color: #000080\">INFO    </span> Iteration <span style=\"color: #008080; text-decoration-color: #008080; font-weight: bold\">13</span>, Permutation P_0: <span style=\"color: #008080; text-decoration-color: #008080; font-weight: bold\">3.75927734375</span>                              <a href=\"file:///tmp/ipykernel_132860/1970187617.py\" target=\"_blank\"><span style=\"color: #7f7f7f; text-decoration-color: #7f7f7f\">__main__</span></a><span style=\"color: #7f7f7f; text-decoration-color: #7f7f7f\">:</span><a href=\"file:///tmp/ipykernel_132860/1970187617.py#142\" target=\"_blank\"><span style=\"color: #7f7f7f; text-decoration-color: #7f7f7f\">142</span></a>\n",
       "</pre>\n"
      ],
      "text/plain": [
       "\u001b[2;36m2025-01-07 14:42:53\u001b[0m\u001b[2;36m \u001b[0m\u001b[34mINFO    \u001b[0m Iteration \u001b[1;36m13\u001b[0m, Permutation P_0: \u001b[1;36m3.75927734375\u001b[0m                              \u001b]8;id=771389;file:///tmp/ipykernel_132860/1970187617.py\u001b\\\u001b[2m__main__\u001b[0m\u001b]8;;\u001b\\\u001b[2m:\u001b[0m\u001b]8;id=504666;file:///tmp/ipykernel_132860/1970187617.py#142\u001b\\\u001b[2m142\u001b[0m\u001b]8;;\u001b\\\n"
      ]
     },
     "metadata": {},
     "output_type": "display_data"
    },
    {
     "name": "stdout",
     "output_type": "stream",
     "text": [
      "Permuting P_3\n",
      "Permuting the columns of layer3.weight with P_2, shape: torch.Size([512, 512])\n",
      "w_a shape: torch.Size([256, 539]), w_b shape: torch.Size([256, 539])\n",
      "k1: 128, k2: 128\n",
      "Optimization terminated successfully.\n",
      "         Current function value: 61.725219\n",
      "         Iterations: 63\n",
      "         Function evaluations: 105\n",
      "         Gradient evaluations: 105\n"
     ]
    },
    {
     "data": {
      "text/html": [
       "<pre style=\"white-space:pre;overflow-x:auto;line-height:normal;font-family:Menlo,'DejaVu Sans Mono',consolas,'Courier New',monospace\"><span style=\"color: #7fbfbf; text-decoration-color: #7fbfbf\">2025-01-07 14:42:57 </span><span style=\"color: #000080; text-decoration-color: #000080\">INFO    </span> Iteration <span style=\"color: #008080; text-decoration-color: #008080; font-weight: bold\">13</span>, Permutation P_3: <span style=\"color: #008080; text-decoration-color: #008080; font-weight: bold\">0.0</span>                                        <a href=\"file:///tmp/ipykernel_132860/1970187617.py\" target=\"_blank\"><span style=\"color: #7f7f7f; text-decoration-color: #7f7f7f\">__main__</span></a><span style=\"color: #7f7f7f; text-decoration-color: #7f7f7f\">:</span><a href=\"file:///tmp/ipykernel_132860/1970187617.py#142\" target=\"_blank\"><span style=\"color: #7f7f7f; text-decoration-color: #7f7f7f\">142</span></a>\n",
       "</pre>\n"
      ],
      "text/plain": [
       "\u001b[2;36m2025-01-07 14:42:57\u001b[0m\u001b[2;36m \u001b[0m\u001b[34mINFO    \u001b[0m Iteration \u001b[1;36m13\u001b[0m, Permutation P_3: \u001b[1;36m0.0\u001b[0m                                        \u001b]8;id=595160;file:///tmp/ipykernel_132860/1970187617.py\u001b\\\u001b[2m__main__\u001b[0m\u001b]8;;\u001b\\\u001b[2m:\u001b[0m\u001b]8;id=397144;file:///tmp/ipykernel_132860/1970187617.py#142\u001b\\\u001b[2m142\u001b[0m\u001b]8;;\u001b\\\n"
      ]
     },
     "metadata": {},
     "output_type": "display_data"
    },
    {
     "name": "stdout",
     "output_type": "stream",
     "text": [
      "Permuting P_2\n",
      "Permuting the columns of layer2.weight with P_1, shape: torch.Size([512, 512])\n",
      "w_a shape: torch.Size([512, 768]), w_b shape: torch.Size([512, 768])\n",
      "k1: 256, k2: 256\n",
      "Optimization terminated successfully.\n",
      "         Current function value: 188.738909\n",
      "         Iterations: 100\n",
      "         Function evaluations: 160\n",
      "         Gradient evaluations: 160\n"
     ]
    },
    {
     "data": {
      "text/html": [
       "<pre style=\"white-space:pre;overflow-x:auto;line-height:normal;font-family:Menlo,'DejaVu Sans Mono',consolas,'Courier New',monospace\"><span style=\"color: #7fbfbf; text-decoration-color: #7fbfbf\">2025-01-07 14:43:04 </span><span style=\"color: #000080; text-decoration-color: #000080\">INFO    </span> Iteration <span style=\"color: #008080; text-decoration-color: #008080; font-weight: bold\">13</span>, Permutation P_2: <span style=\"color: #008080; text-decoration-color: #008080; font-weight: bold\">8.160812377929688</span>                          <a href=\"file:///tmp/ipykernel_132860/1970187617.py\" target=\"_blank\"><span style=\"color: #7f7f7f; text-decoration-color: #7f7f7f\">__main__</span></a><span style=\"color: #7f7f7f; text-decoration-color: #7f7f7f\">:</span><a href=\"file:///tmp/ipykernel_132860/1970187617.py#142\" target=\"_blank\"><span style=\"color: #7f7f7f; text-decoration-color: #7f7f7f\">142</span></a>\n",
       "</pre>\n"
      ],
      "text/plain": [
       "\u001b[2;36m2025-01-07 14:43:04\u001b[0m\u001b[2;36m \u001b[0m\u001b[34mINFO    \u001b[0m Iteration \u001b[1;36m13\u001b[0m, Permutation P_2: \u001b[1;36m8.160812377929688\u001b[0m                          \u001b]8;id=284692;file:///tmp/ipykernel_132860/1970187617.py\u001b\\\u001b[2m__main__\u001b[0m\u001b]8;;\u001b\\\u001b[2m:\u001b[0m\u001b]8;id=234538;file:///tmp/ipykernel_132860/1970187617.py#142\u001b\\\u001b[2m142\u001b[0m\u001b]8;;\u001b\\\n"
      ]
     },
     "metadata": {},
     "output_type": "display_data"
    },
    {
     "name": "stdout",
     "output_type": "stream",
     "text": [
      "Permuting P_1\n",
      "Permuting the columns of layer1.weight with P_0, shape: torch.Size([512, 512])\n",
      "w_a shape: torch.Size([512, 1024]), w_b shape: torch.Size([512, 1024])\n",
      "k1: 256, k2: 256\n",
      "Optimization terminated successfully.\n",
      "         Current function value: 304.888149\n",
      "         Iterations: 71\n",
      "         Function evaluations: 125\n",
      "         Gradient evaluations: 125\n"
     ]
    },
    {
     "data": {
      "text/html": [
       "<pre style=\"white-space:pre;overflow-x:auto;line-height:normal;font-family:Menlo,'DejaVu Sans Mono',consolas,'Courier New',monospace\"><span style=\"color: #7fbfbf; text-decoration-color: #7fbfbf\">2025-01-07 14:43:12 </span><span style=\"color: #000080; text-decoration-color: #000080\">INFO    </span> Iteration <span style=\"color: #008080; text-decoration-color: #008080; font-weight: bold\">13</span>, Permutation P_1: <span style=\"color: #008080; text-decoration-color: #008080; font-weight: bold\">-13.561508178710938</span>                        <a href=\"file:///tmp/ipykernel_132860/1970187617.py\" target=\"_blank\"><span style=\"color: #7f7f7f; text-decoration-color: #7f7f7f\">__main__</span></a><span style=\"color: #7f7f7f; text-decoration-color: #7f7f7f\">:</span><a href=\"file:///tmp/ipykernel_132860/1970187617.py#142\" target=\"_blank\"><span style=\"color: #7f7f7f; text-decoration-color: #7f7f7f\">142</span></a>\n",
       "</pre>\n"
      ],
      "text/plain": [
       "\u001b[2;36m2025-01-07 14:43:12\u001b[0m\u001b[2;36m \u001b[0m\u001b[34mINFO    \u001b[0m Iteration \u001b[1;36m13\u001b[0m, Permutation P_1: \u001b[1;36m-13.561508178710938\u001b[0m                        \u001b]8;id=690606;file:///tmp/ipykernel_132860/1970187617.py\u001b\\\u001b[2m__main__\u001b[0m\u001b]8;;\u001b\\\u001b[2m:\u001b[0m\u001b]8;id=638376;file:///tmp/ipykernel_132860/1970187617.py#142\u001b\\\u001b[2m142\u001b[0m\u001b]8;;\u001b\\\n"
      ]
     },
     "metadata": {},
     "output_type": "display_data"
    },
    {
     "name": "stderr",
     "output_type": "stream",
     "text": [
      "Weight matching:  14%|█▍        | 14/100 [08:26<45:43, 31.91s/it]"
     ]
    },
    {
     "name": "stdout",
     "output_type": "stream",
     "text": [
      "Permuting P_3\n",
      "Permuting the columns of layer3.weight with P_2, shape: torch.Size([512, 512])\n",
      "w_a shape: torch.Size([256, 539]), w_b shape: torch.Size([256, 539])\n",
      "k1: 128, k2: 128\n",
      "Optimization terminated successfully.\n",
      "         Current function value: 62.269784\n",
      "         Iterations: 63\n",
      "         Function evaluations: 102\n",
      "         Gradient evaluations: 102\n"
     ]
    },
    {
     "data": {
      "text/html": [
       "<pre style=\"white-space:pre;overflow-x:auto;line-height:normal;font-family:Menlo,'DejaVu Sans Mono',consolas,'Courier New',monospace\"><span style=\"color: #7fbfbf; text-decoration-color: #7fbfbf\">2025-01-07 14:43:19 </span><span style=\"color: #000080; text-decoration-color: #000080\">INFO    </span> Iteration <span style=\"color: #008080; text-decoration-color: #008080; font-weight: bold\">14</span>, Permutation P_3: <span style=\"color: #008080; text-decoration-color: #008080; font-weight: bold\">6.714649200439453</span>                          <a href=\"file:///tmp/ipykernel_132860/1970187617.py\" target=\"_blank\"><span style=\"color: #7f7f7f; text-decoration-color: #7f7f7f\">__main__</span></a><span style=\"color: #7f7f7f; text-decoration-color: #7f7f7f\">:</span><a href=\"file:///tmp/ipykernel_132860/1970187617.py#142\" target=\"_blank\"><span style=\"color: #7f7f7f; text-decoration-color: #7f7f7f\">142</span></a>\n",
       "</pre>\n"
      ],
      "text/plain": [
       "\u001b[2;36m2025-01-07 14:43:19\u001b[0m\u001b[2;36m \u001b[0m\u001b[34mINFO    \u001b[0m Iteration \u001b[1;36m14\u001b[0m, Permutation P_3: \u001b[1;36m6.714649200439453\u001b[0m                          \u001b]8;id=406465;file:///tmp/ipykernel_132860/1970187617.py\u001b\\\u001b[2m__main__\u001b[0m\u001b]8;;\u001b\\\u001b[2m:\u001b[0m\u001b]8;id=400010;file:///tmp/ipykernel_132860/1970187617.py#142\u001b\\\u001b[2m142\u001b[0m\u001b]8;;\u001b\\\n"
      ]
     },
     "metadata": {},
     "output_type": "display_data"
    },
    {
     "name": "stdout",
     "output_type": "stream",
     "text": [
      "Permuting P_0\n",
      "w_a shape: torch.Size([512, 1296]), w_b shape: torch.Size([512, 1296])\n",
      "k1: 256, k2: 256\n",
      "Optimization terminated successfully.\n",
      "         Current function value: 336.151500\n",
      "         Iterations: 95\n",
      "         Function evaluations: 154\n",
      "         Gradient evaluations: 154\n"
     ]
    },
    {
     "data": {
      "text/html": [
       "<pre style=\"white-space:pre;overflow-x:auto;line-height:normal;font-family:Menlo,'DejaVu Sans Mono',consolas,'Courier New',monospace\"><span style=\"color: #7fbfbf; text-decoration-color: #7fbfbf\">2025-01-07 14:43:30 </span><span style=\"color: #000080; text-decoration-color: #000080\">INFO    </span> Iteration <span style=\"color: #008080; text-decoration-color: #008080; font-weight: bold\">14</span>, Permutation P_0: <span style=\"color: #008080; text-decoration-color: #008080; font-weight: bold\">3.00067138671875</span>                           <a href=\"file:///tmp/ipykernel_132860/1970187617.py\" target=\"_blank\"><span style=\"color: #7f7f7f; text-decoration-color: #7f7f7f\">__main__</span></a><span style=\"color: #7f7f7f; text-decoration-color: #7f7f7f\">:</span><a href=\"file:///tmp/ipykernel_132860/1970187617.py#142\" target=\"_blank\"><span style=\"color: #7f7f7f; text-decoration-color: #7f7f7f\">142</span></a>\n",
       "</pre>\n"
      ],
      "text/plain": [
       "\u001b[2;36m2025-01-07 14:43:30\u001b[0m\u001b[2;36m \u001b[0m\u001b[34mINFO    \u001b[0m Iteration \u001b[1;36m14\u001b[0m, Permutation P_0: \u001b[1;36m3.00067138671875\u001b[0m                           \u001b]8;id=886527;file:///tmp/ipykernel_132860/1970187617.py\u001b\\\u001b[2m__main__\u001b[0m\u001b]8;;\u001b\\\u001b[2m:\u001b[0m\u001b]8;id=365219;file:///tmp/ipykernel_132860/1970187617.py#142\u001b\\\u001b[2m142\u001b[0m\u001b]8;;\u001b\\\n"
      ]
     },
     "metadata": {},
     "output_type": "display_data"
    },
    {
     "name": "stdout",
     "output_type": "stream",
     "text": [
      "Permuting P_1\n",
      "Permuting the columns of layer1.weight with P_0, shape: torch.Size([512, 512])\n",
      "w_a shape: torch.Size([512, 1024]), w_b shape: torch.Size([512, 1024])\n",
      "k1: 256, k2: 256\n",
      "Optimization terminated successfully.\n",
      "         Current function value: 306.007590\n",
      "         Iterations: 77\n",
      "         Function evaluations: 125\n",
      "         Gradient evaluations: 125\n"
     ]
    },
    {
     "data": {
      "text/html": [
       "<pre style=\"white-space:pre;overflow-x:auto;line-height:normal;font-family:Menlo,'DejaVu Sans Mono',consolas,'Courier New',monospace\"><span style=\"color: #7fbfbf; text-decoration-color: #7fbfbf\">2025-01-07 14:43:40 </span><span style=\"color: #000080; text-decoration-color: #000080\">INFO    </span> Iteration <span style=\"color: #008080; text-decoration-color: #008080; font-weight: bold\">14</span>, Permutation P_1: <span style=\"color: #008080; text-decoration-color: #008080; font-weight: bold\">4.32891845703125</span>                           <a href=\"file:///tmp/ipykernel_132860/1970187617.py\" target=\"_blank\"><span style=\"color: #7f7f7f; text-decoration-color: #7f7f7f\">__main__</span></a><span style=\"color: #7f7f7f; text-decoration-color: #7f7f7f\">:</span><a href=\"file:///tmp/ipykernel_132860/1970187617.py#142\" target=\"_blank\"><span style=\"color: #7f7f7f; text-decoration-color: #7f7f7f\">142</span></a>\n",
       "</pre>\n"
      ],
      "text/plain": [
       "\u001b[2;36m2025-01-07 14:43:40\u001b[0m\u001b[2;36m \u001b[0m\u001b[34mINFO    \u001b[0m Iteration \u001b[1;36m14\u001b[0m, Permutation P_1: \u001b[1;36m4.32891845703125\u001b[0m                           \u001b]8;id=570097;file:///tmp/ipykernel_132860/1970187617.py\u001b\\\u001b[2m__main__\u001b[0m\u001b]8;;\u001b\\\u001b[2m:\u001b[0m\u001b]8;id=357761;file:///tmp/ipykernel_132860/1970187617.py#142\u001b\\\u001b[2m142\u001b[0m\u001b]8;;\u001b\\\n"
      ]
     },
     "metadata": {},
     "output_type": "display_data"
    },
    {
     "name": "stdout",
     "output_type": "stream",
     "text": [
      "Permuting P_2\n",
      "Permuting the columns of layer2.weight with P_1, shape: torch.Size([512, 512])\n",
      "w_a shape: torch.Size([512, 768]), w_b shape: torch.Size([512, 768])\n",
      "k1: 256, k2: 256\n",
      "Optimization terminated successfully.\n",
      "         Current function value: 187.021263\n",
      "         Iterations: 116\n",
      "         Function evaluations: 177\n",
      "         Gradient evaluations: 177\n"
     ]
    },
    {
     "data": {
      "text/html": [
       "<pre style=\"white-space:pre;overflow-x:auto;line-height:normal;font-family:Menlo,'DejaVu Sans Mono',consolas,'Courier New',monospace\"><span style=\"color: #7fbfbf; text-decoration-color: #7fbfbf\">2025-01-07 14:43:50 </span><span style=\"color: #000080; text-decoration-color: #000080\">INFO    </span> Iteration <span style=\"color: #008080; text-decoration-color: #008080; font-weight: bold\">14</span>, Permutation P_2: <span style=\"color: #008080; text-decoration-color: #008080; font-weight: bold\">11.227706909179688</span>                         <a href=\"file:///tmp/ipykernel_132860/1970187617.py\" target=\"_blank\"><span style=\"color: #7f7f7f; text-decoration-color: #7f7f7f\">__main__</span></a><span style=\"color: #7f7f7f; text-decoration-color: #7f7f7f\">:</span><a href=\"file:///tmp/ipykernel_132860/1970187617.py#142\" target=\"_blank\"><span style=\"color: #7f7f7f; text-decoration-color: #7f7f7f\">142</span></a>\n",
       "</pre>\n"
      ],
      "text/plain": [
       "\u001b[2;36m2025-01-07 14:43:50\u001b[0m\u001b[2;36m \u001b[0m\u001b[34mINFO    \u001b[0m Iteration \u001b[1;36m14\u001b[0m, Permutation P_2: \u001b[1;36m11.227706909179688\u001b[0m                         \u001b]8;id=408364;file:///tmp/ipykernel_132860/1970187617.py\u001b\\\u001b[2m__main__\u001b[0m\u001b]8;;\u001b\\\u001b[2m:\u001b[0m\u001b]8;id=56934;file:///tmp/ipykernel_132860/1970187617.py#142\u001b\\\u001b[2m142\u001b[0m\u001b]8;;\u001b\\\n"
      ]
     },
     "metadata": {},
     "output_type": "display_data"
    },
    {
     "name": "stderr",
     "output_type": "stream",
     "text": [
      "Weight matching:  15%|█▌        | 15/100 [09:04<47:42, 33.67s/it]"
     ]
    },
    {
     "name": "stdout",
     "output_type": "stream",
     "text": [
      "Permuting P_2\n",
      "Permuting the columns of layer2.weight with P_1, shape: torch.Size([512, 512])\n",
      "w_a shape: torch.Size([512, 768]), w_b shape: torch.Size([512, 768])\n",
      "k1: 256, k2: 256\n",
      "Optimization terminated successfully.\n",
      "         Current function value: 187.021263\n",
      "         Iterations: 116\n",
      "         Function evaluations: 177\n",
      "         Gradient evaluations: 177\n"
     ]
    },
    {
     "data": {
      "text/html": [
       "<pre style=\"white-space:pre;overflow-x:auto;line-height:normal;font-family:Menlo,'DejaVu Sans Mono',consolas,'Courier New',monospace\"><span style=\"color: #7fbfbf; text-decoration-color: #7fbfbf\">2025-01-07 14:44:02 </span><span style=\"color: #000080; text-decoration-color: #000080\">INFO    </span> Iteration <span style=\"color: #008080; text-decoration-color: #008080; font-weight: bold\">15</span>, Permutation P_2: <span style=\"color: #008080; text-decoration-color: #008080; font-weight: bold\">0.0</span>                                        <a href=\"file:///tmp/ipykernel_132860/1970187617.py\" target=\"_blank\"><span style=\"color: #7f7f7f; text-decoration-color: #7f7f7f\">__main__</span></a><span style=\"color: #7f7f7f; text-decoration-color: #7f7f7f\">:</span><a href=\"file:///tmp/ipykernel_132860/1970187617.py#142\" target=\"_blank\"><span style=\"color: #7f7f7f; text-decoration-color: #7f7f7f\">142</span></a>\n",
       "</pre>\n"
      ],
      "text/plain": [
       "\u001b[2;36m2025-01-07 14:44:02\u001b[0m\u001b[2;36m \u001b[0m\u001b[34mINFO    \u001b[0m Iteration \u001b[1;36m15\u001b[0m, Permutation P_2: \u001b[1;36m0.0\u001b[0m                                        \u001b]8;id=434747;file:///tmp/ipykernel_132860/1970187617.py\u001b\\\u001b[2m__main__\u001b[0m\u001b]8;;\u001b\\\u001b[2m:\u001b[0m\u001b]8;id=459938;file:///tmp/ipykernel_132860/1970187617.py#142\u001b\\\u001b[2m142\u001b[0m\u001b]8;;\u001b\\\n"
      ]
     },
     "metadata": {},
     "output_type": "display_data"
    },
    {
     "name": "stdout",
     "output_type": "stream",
     "text": [
      "Permuting P_0\n",
      "w_a shape: torch.Size([512, 1296]), w_b shape: torch.Size([512, 1296])\n",
      "k1: 256, k2: 256\n",
      "Optimization terminated successfully.\n",
      "         Current function value: 335.902986\n",
      "         Iterations: 86\n",
      "         Function evaluations: 140\n",
      "         Gradient evaluations: 140\n"
     ]
    },
    {
     "data": {
      "text/html": [
       "<pre style=\"white-space:pre;overflow-x:auto;line-height:normal;font-family:Menlo,'DejaVu Sans Mono',consolas,'Courier New',monospace\"><span style=\"color: #7fbfbf; text-decoration-color: #7fbfbf\">2025-01-07 14:44:12 </span><span style=\"color: #000080; text-decoration-color: #000080\">INFO    </span> Iteration <span style=\"color: #008080; text-decoration-color: #008080; font-weight: bold\">15</span>, Permutation P_0: <span style=\"color: #008080; text-decoration-color: #008080; font-weight: bold\">9.4735107421875</span>                            <a href=\"file:///tmp/ipykernel_132860/1970187617.py\" target=\"_blank\"><span style=\"color: #7f7f7f; text-decoration-color: #7f7f7f\">__main__</span></a><span style=\"color: #7f7f7f; text-decoration-color: #7f7f7f\">:</span><a href=\"file:///tmp/ipykernel_132860/1970187617.py#142\" target=\"_blank\"><span style=\"color: #7f7f7f; text-decoration-color: #7f7f7f\">142</span></a>\n",
       "</pre>\n"
      ],
      "text/plain": [
       "\u001b[2;36m2025-01-07 14:44:12\u001b[0m\u001b[2;36m \u001b[0m\u001b[34mINFO    \u001b[0m Iteration \u001b[1;36m15\u001b[0m, Permutation P_0: \u001b[1;36m9.4735107421875\u001b[0m                            \u001b]8;id=122927;file:///tmp/ipykernel_132860/1970187617.py\u001b\\\u001b[2m__main__\u001b[0m\u001b]8;;\u001b\\\u001b[2m:\u001b[0m\u001b]8;id=271006;file:///tmp/ipykernel_132860/1970187617.py#142\u001b\\\u001b[2m142\u001b[0m\u001b]8;;\u001b\\\n"
      ]
     },
     "metadata": {},
     "output_type": "display_data"
    },
    {
     "name": "stdout",
     "output_type": "stream",
     "text": [
      "Permuting P_3\n",
      "Permuting the columns of layer3.weight with P_2, shape: torch.Size([512, 512])\n",
      "w_a shape: torch.Size([256, 539]), w_b shape: torch.Size([256, 539])\n",
      "k1: 128, k2: 128\n",
      "Optimization terminated successfully.\n",
      "         Current function value: 62.150904\n",
      "         Iterations: 61\n",
      "         Function evaluations: 100\n",
      "         Gradient evaluations: 100\n"
     ]
    },
    {
     "data": {
      "text/html": [
       "<pre style=\"white-space:pre;overflow-x:auto;line-height:normal;font-family:Menlo,'DejaVu Sans Mono',consolas,'Courier New',monospace\"><span style=\"color: #7fbfbf; text-decoration-color: #7fbfbf\">2025-01-07 14:44:17 </span><span style=\"color: #000080; text-decoration-color: #000080\">INFO    </span> Iteration <span style=\"color: #008080; text-decoration-color: #008080; font-weight: bold\">15</span>, Permutation P_3: <span style=\"color: #008080; text-decoration-color: #008080; font-weight: bold\">2.6545677185058594</span>                         <a href=\"file:///tmp/ipykernel_132860/1970187617.py\" target=\"_blank\"><span style=\"color: #7f7f7f; text-decoration-color: #7f7f7f\">__main__</span></a><span style=\"color: #7f7f7f; text-decoration-color: #7f7f7f\">:</span><a href=\"file:///tmp/ipykernel_132860/1970187617.py#142\" target=\"_blank\"><span style=\"color: #7f7f7f; text-decoration-color: #7f7f7f\">142</span></a>\n",
       "</pre>\n"
      ],
      "text/plain": [
       "\u001b[2;36m2025-01-07 14:44:17\u001b[0m\u001b[2;36m \u001b[0m\u001b[34mINFO    \u001b[0m Iteration \u001b[1;36m15\u001b[0m, Permutation P_3: \u001b[1;36m2.6545677185058594\u001b[0m                         \u001b]8;id=314866;file:///tmp/ipykernel_132860/1970187617.py\u001b\\\u001b[2m__main__\u001b[0m\u001b]8;;\u001b\\\u001b[2m:\u001b[0m\u001b]8;id=828417;file:///tmp/ipykernel_132860/1970187617.py#142\u001b\\\u001b[2m142\u001b[0m\u001b]8;;\u001b\\\n"
      ]
     },
     "metadata": {},
     "output_type": "display_data"
    },
    {
     "name": "stdout",
     "output_type": "stream",
     "text": [
      "Permuting P_1\n",
      "Permuting the columns of layer1.weight with P_0, shape: torch.Size([512, 512])\n",
      "w_a shape: torch.Size([512, 1024]), w_b shape: torch.Size([512, 1024])\n",
      "k1: 256, k2: 256\n",
      "Optimization terminated successfully.\n",
      "         Current function value: 305.635818\n",
      "         Iterations: 73\n",
      "         Function evaluations: 122\n",
      "         Gradient evaluations: 122\n"
     ]
    },
    {
     "data": {
      "text/html": [
       "<pre style=\"white-space:pre;overflow-x:auto;line-height:normal;font-family:Menlo,'DejaVu Sans Mono',consolas,'Courier New',monospace\"><span style=\"color: #7fbfbf; text-decoration-color: #7fbfbf\">2025-01-07 14:44:25 </span><span style=\"color: #000080; text-decoration-color: #000080\">INFO    </span> Iteration <span style=\"color: #008080; text-decoration-color: #008080; font-weight: bold\">15</span>, Permutation P_1: <span style=\"color: #008080; text-decoration-color: #008080; font-weight: bold\">-14.485763549804688</span>                        <a href=\"file:///tmp/ipykernel_132860/1970187617.py\" target=\"_blank\"><span style=\"color: #7f7f7f; text-decoration-color: #7f7f7f\">__main__</span></a><span style=\"color: #7f7f7f; text-decoration-color: #7f7f7f\">:</span><a href=\"file:///tmp/ipykernel_132860/1970187617.py#142\" target=\"_blank\"><span style=\"color: #7f7f7f; text-decoration-color: #7f7f7f\">142</span></a>\n",
       "</pre>\n"
      ],
      "text/plain": [
       "\u001b[2;36m2025-01-07 14:44:25\u001b[0m\u001b[2;36m \u001b[0m\u001b[34mINFO    \u001b[0m Iteration \u001b[1;36m15\u001b[0m, Permutation P_1: \u001b[1;36m-14.485763549804688\u001b[0m                        \u001b]8;id=592074;file:///tmp/ipykernel_132860/1970187617.py\u001b\\\u001b[2m__main__\u001b[0m\u001b]8;;\u001b\\\u001b[2m:\u001b[0m\u001b]8;id=469354;file:///tmp/ipykernel_132860/1970187617.py#142\u001b\\\u001b[2m142\u001b[0m\u001b]8;;\u001b\\\n"
      ]
     },
     "metadata": {},
     "output_type": "display_data"
    },
    {
     "name": "stderr",
     "output_type": "stream",
     "text": [
      "Weight matching:  16%|█▌        | 16/100 [09:39<47:51, 34.19s/it]"
     ]
    },
    {
     "name": "stdout",
     "output_type": "stream",
     "text": [
      "Permuting P_0\n",
      "w_a shape: torch.Size([512, 1296]), w_b shape: torch.Size([512, 1296])\n",
      "k1: 256, k2: 256\n",
      "Optimization terminated successfully.\n",
      "         Current function value: 335.341511\n",
      "         Iterations: 97\n",
      "         Function evaluations: 159\n",
      "         Gradient evaluations: 159\n"
     ]
    },
    {
     "data": {
      "text/html": [
       "<pre style=\"white-space:pre;overflow-x:auto;line-height:normal;font-family:Menlo,'DejaVu Sans Mono',consolas,'Courier New',monospace\"><span style=\"color: #7fbfbf; text-decoration-color: #7fbfbf\">2025-01-07 14:44:37 </span><span style=\"color: #000080; text-decoration-color: #000080\">INFO    </span> Iteration <span style=\"color: #008080; text-decoration-color: #008080; font-weight: bold\">16</span>, Permutation P_0: <span style=\"color: #008080; text-decoration-color: #008080; font-weight: bold\">-20.786865234375</span>                           <a href=\"file:///tmp/ipykernel_132860/1970187617.py\" target=\"_blank\"><span style=\"color: #7f7f7f; text-decoration-color: #7f7f7f\">__main__</span></a><span style=\"color: #7f7f7f; text-decoration-color: #7f7f7f\">:</span><a href=\"file:///tmp/ipykernel_132860/1970187617.py#142\" target=\"_blank\"><span style=\"color: #7f7f7f; text-decoration-color: #7f7f7f\">142</span></a>\n",
       "</pre>\n"
      ],
      "text/plain": [
       "\u001b[2;36m2025-01-07 14:44:37\u001b[0m\u001b[2;36m \u001b[0m\u001b[34mINFO    \u001b[0m Iteration \u001b[1;36m16\u001b[0m, Permutation P_0: \u001b[1;36m-20.786865234375\u001b[0m                           \u001b]8;id=829444;file:///tmp/ipykernel_132860/1970187617.py\u001b\\\u001b[2m__main__\u001b[0m\u001b]8;;\u001b\\\u001b[2m:\u001b[0m\u001b]8;id=117734;file:///tmp/ipykernel_132860/1970187617.py#142\u001b\\\u001b[2m142\u001b[0m\u001b]8;;\u001b\\\n"
      ]
     },
     "metadata": {},
     "output_type": "display_data"
    },
    {
     "name": "stdout",
     "output_type": "stream",
     "text": [
      "Permuting P_2\n",
      "Permuting the columns of layer2.weight with P_1, shape: torch.Size([512, 512])\n",
      "w_a shape: torch.Size([512, 768]), w_b shape: torch.Size([512, 768])\n",
      "k1: 256, k2: 256\n",
      "Optimization terminated successfully.\n",
      "         Current function value: 187.573844\n",
      "         Iterations: 113\n",
      "         Function evaluations: 179\n",
      "         Gradient evaluations: 179\n"
     ]
    },
    {
     "data": {
      "text/html": [
       "<pre style=\"white-space:pre;overflow-x:auto;line-height:normal;font-family:Menlo,'DejaVu Sans Mono',consolas,'Courier New',monospace\"><span style=\"color: #7fbfbf; text-decoration-color: #7fbfbf\">2025-01-07 14:44:48 </span><span style=\"color: #000080; text-decoration-color: #000080\">INFO    </span> Iteration <span style=\"color: #008080; text-decoration-color: #008080; font-weight: bold\">16</span>, Permutation P_2: <span style=\"color: #008080; text-decoration-color: #008080; font-weight: bold\">10.703712463378906</span>                         <a href=\"file:///tmp/ipykernel_132860/1970187617.py\" target=\"_blank\"><span style=\"color: #7f7f7f; text-decoration-color: #7f7f7f\">__main__</span></a><span style=\"color: #7f7f7f; text-decoration-color: #7f7f7f\">:</span><a href=\"file:///tmp/ipykernel_132860/1970187617.py#142\" target=\"_blank\"><span style=\"color: #7f7f7f; text-decoration-color: #7f7f7f\">142</span></a>\n",
       "</pre>\n"
      ],
      "text/plain": [
       "\u001b[2;36m2025-01-07 14:44:48\u001b[0m\u001b[2;36m \u001b[0m\u001b[34mINFO    \u001b[0m Iteration \u001b[1;36m16\u001b[0m, Permutation P_2: \u001b[1;36m10.703712463378906\u001b[0m                         \u001b]8;id=120026;file:///tmp/ipykernel_132860/1970187617.py\u001b\\\u001b[2m__main__\u001b[0m\u001b]8;;\u001b\\\u001b[2m:\u001b[0m\u001b]8;id=505004;file:///tmp/ipykernel_132860/1970187617.py#142\u001b\\\u001b[2m142\u001b[0m\u001b]8;;\u001b\\\n"
      ]
     },
     "metadata": {},
     "output_type": "display_data"
    },
    {
     "name": "stdout",
     "output_type": "stream",
     "text": [
      "Permuting P_1\n",
      "Permuting the columns of layer1.weight with P_0, shape: torch.Size([512, 512])\n",
      "w_a shape: torch.Size([512, 1024]), w_b shape: torch.Size([512, 1024])\n",
      "k1: 256, k2: 256\n",
      "Optimization terminated successfully.\n",
      "         Current function value: 304.751932\n",
      "         Iterations: 65\n",
      "         Function evaluations: 116\n",
      "         Gradient evaluations: 116\n"
     ]
    },
    {
     "data": {
      "text/html": [
       "<pre style=\"white-space:pre;overflow-x:auto;line-height:normal;font-family:Menlo,'DejaVu Sans Mono',consolas,'Courier New',monospace\"><span style=\"color: #7fbfbf; text-decoration-color: #7fbfbf\">2025-01-07 14:45:00 </span><span style=\"color: #000080; text-decoration-color: #000080\">INFO    </span> Iteration <span style=\"color: #008080; text-decoration-color: #008080; font-weight: bold\">16</span>, Permutation P_1: <span style=\"color: #008080; text-decoration-color: #008080; font-weight: bold\">-2.800323486328125</span>                         <a href=\"file:///tmp/ipykernel_132860/1970187617.py\" target=\"_blank\"><span style=\"color: #7f7f7f; text-decoration-color: #7f7f7f\">__main__</span></a><span style=\"color: #7f7f7f; text-decoration-color: #7f7f7f\">:</span><a href=\"file:///tmp/ipykernel_132860/1970187617.py#142\" target=\"_blank\"><span style=\"color: #7f7f7f; text-decoration-color: #7f7f7f\">142</span></a>\n",
       "</pre>\n"
      ],
      "text/plain": [
       "\u001b[2;36m2025-01-07 14:45:00\u001b[0m\u001b[2;36m \u001b[0m\u001b[34mINFO    \u001b[0m Iteration \u001b[1;36m16\u001b[0m, Permutation P_1: \u001b[1;36m-2.800323486328125\u001b[0m                         \u001b]8;id=863839;file:///tmp/ipykernel_132860/1970187617.py\u001b\\\u001b[2m__main__\u001b[0m\u001b]8;;\u001b\\\u001b[2m:\u001b[0m\u001b]8;id=536852;file:///tmp/ipykernel_132860/1970187617.py#142\u001b\\\u001b[2m142\u001b[0m\u001b]8;;\u001b\\\n"
      ]
     },
     "metadata": {},
     "output_type": "display_data"
    },
    {
     "name": "stdout",
     "output_type": "stream",
     "text": [
      "Permuting P_3\n",
      "Permuting the columns of layer3.weight with P_2, shape: torch.Size([512, 512])\n",
      "w_a shape: torch.Size([256, 539]), w_b shape: torch.Size([256, 539])\n",
      "k1: 128, k2: 128\n",
      "Optimization terminated successfully.\n",
      "         Current function value: 61.128401\n",
      "         Iterations: 60\n",
      "         Function evaluations: 102\n",
      "         Gradient evaluations: 102\n"
     ]
    },
    {
     "data": {
      "text/html": [
       "<pre style=\"white-space:pre;overflow-x:auto;line-height:normal;font-family:Menlo,'DejaVu Sans Mono',consolas,'Courier New',monospace\"><span style=\"color: #7fbfbf; text-decoration-color: #7fbfbf\">2025-01-07 14:45:07 </span><span style=\"color: #000080; text-decoration-color: #000080\">INFO    </span> Iteration <span style=\"color: #008080; text-decoration-color: #008080; font-weight: bold\">16</span>, Permutation P_3: <span style=\"color: #008080; text-decoration-color: #008080; font-weight: bold\">6.495401382446289</span>                          <a href=\"file:///tmp/ipykernel_132860/1970187617.py\" target=\"_blank\"><span style=\"color: #7f7f7f; text-decoration-color: #7f7f7f\">__main__</span></a><span style=\"color: #7f7f7f; text-decoration-color: #7f7f7f\">:</span><a href=\"file:///tmp/ipykernel_132860/1970187617.py#142\" target=\"_blank\"><span style=\"color: #7f7f7f; text-decoration-color: #7f7f7f\">142</span></a>\n",
       "</pre>\n"
      ],
      "text/plain": [
       "\u001b[2;36m2025-01-07 14:45:07\u001b[0m\u001b[2;36m \u001b[0m\u001b[34mINFO    \u001b[0m Iteration \u001b[1;36m16\u001b[0m, Permutation P_3: \u001b[1;36m6.495401382446289\u001b[0m                          \u001b]8;id=357191;file:///tmp/ipykernel_132860/1970187617.py\u001b\\\u001b[2m__main__\u001b[0m\u001b]8;;\u001b\\\u001b[2m:\u001b[0m\u001b]8;id=364337;file:///tmp/ipykernel_132860/1970187617.py#142\u001b\\\u001b[2m142\u001b[0m\u001b]8;;\u001b\\\n"
      ]
     },
     "metadata": {},
     "output_type": "display_data"
    },
    {
     "name": "stderr",
     "output_type": "stream",
     "text": [
      "Weight matching:  17%|█▋        | 17/100 [10:21<50:27, 36.47s/it]"
     ]
    },
    {
     "name": "stdout",
     "output_type": "stream",
     "text": [
      "Permuting P_3\n",
      "Permuting the columns of layer3.weight with P_2, shape: torch.Size([512, 512])\n",
      "w_a shape: torch.Size([256, 539]), w_b shape: torch.Size([256, 539])\n",
      "k1: 128, k2: 128\n",
      "Optimization terminated successfully.\n",
      "         Current function value: 61.128401\n",
      "         Iterations: 60\n",
      "         Function evaluations: 102\n",
      "         Gradient evaluations: 102\n"
     ]
    },
    {
     "data": {
      "text/html": [
       "<pre style=\"white-space:pre;overflow-x:auto;line-height:normal;font-family:Menlo,'DejaVu Sans Mono',consolas,'Courier New',monospace\"><span style=\"color: #7fbfbf; text-decoration-color: #7fbfbf\">2025-01-07 14:45:12 </span><span style=\"color: #000080; text-decoration-color: #000080\">INFO    </span> Iteration <span style=\"color: #008080; text-decoration-color: #008080; font-weight: bold\">17</span>, Permutation P_3: <span style=\"color: #008080; text-decoration-color: #008080; font-weight: bold\">0.0</span>                                        <a href=\"file:///tmp/ipykernel_132860/1970187617.py\" target=\"_blank\"><span style=\"color: #7f7f7f; text-decoration-color: #7f7f7f\">__main__</span></a><span style=\"color: #7f7f7f; text-decoration-color: #7f7f7f\">:</span><a href=\"file:///tmp/ipykernel_132860/1970187617.py#142\" target=\"_blank\"><span style=\"color: #7f7f7f; text-decoration-color: #7f7f7f\">142</span></a>\n",
       "</pre>\n"
      ],
      "text/plain": [
       "\u001b[2;36m2025-01-07 14:45:12\u001b[0m\u001b[2;36m \u001b[0m\u001b[34mINFO    \u001b[0m Iteration \u001b[1;36m17\u001b[0m, Permutation P_3: \u001b[1;36m0.0\u001b[0m                                        \u001b]8;id=396473;file:///tmp/ipykernel_132860/1970187617.py\u001b\\\u001b[2m__main__\u001b[0m\u001b]8;;\u001b\\\u001b[2m:\u001b[0m\u001b]8;id=929225;file:///tmp/ipykernel_132860/1970187617.py#142\u001b\\\u001b[2m142\u001b[0m\u001b]8;;\u001b\\\n"
      ]
     },
     "metadata": {},
     "output_type": "display_data"
    },
    {
     "name": "stdout",
     "output_type": "stream",
     "text": [
      "Permuting P_0\n",
      "w_a shape: torch.Size([512, 1296]), w_b shape: torch.Size([512, 1296])\n",
      "k1: 256, k2: 256\n",
      "Optimization terminated successfully.\n",
      "         Current function value: 334.336430\n",
      "         Iterations: 111\n",
      "         Function evaluations: 172\n",
      "         Gradient evaluations: 172\n"
     ]
    },
    {
     "data": {
      "text/html": [
       "<pre style=\"white-space:pre;overflow-x:auto;line-height:normal;font-family:Menlo,'DejaVu Sans Mono',consolas,'Courier New',monospace\"><span style=\"color: #7fbfbf; text-decoration-color: #7fbfbf\">2025-01-07 14:45:25 </span><span style=\"color: #000080; text-decoration-color: #000080\">INFO    </span> Iteration <span style=\"color: #008080; text-decoration-color: #008080; font-weight: bold\">17</span>, Permutation P_0: <span style=\"color: #008080; text-decoration-color: #008080; font-weight: bold\">3.0582275390625</span>                            <a href=\"file:///tmp/ipykernel_132860/1970187617.py\" target=\"_blank\"><span style=\"color: #7f7f7f; text-decoration-color: #7f7f7f\">__main__</span></a><span style=\"color: #7f7f7f; text-decoration-color: #7f7f7f\">:</span><a href=\"file:///tmp/ipykernel_132860/1970187617.py#142\" target=\"_blank\"><span style=\"color: #7f7f7f; text-decoration-color: #7f7f7f\">142</span></a>\n",
       "</pre>\n"
      ],
      "text/plain": [
       "\u001b[2;36m2025-01-07 14:45:25\u001b[0m\u001b[2;36m \u001b[0m\u001b[34mINFO    \u001b[0m Iteration \u001b[1;36m17\u001b[0m, Permutation P_0: \u001b[1;36m3.0582275390625\u001b[0m                            \u001b]8;id=604365;file:///tmp/ipykernel_132860/1970187617.py\u001b\\\u001b[2m__main__\u001b[0m\u001b]8;;\u001b\\\u001b[2m:\u001b[0m\u001b]8;id=388764;file:///tmp/ipykernel_132860/1970187617.py#142\u001b\\\u001b[2m142\u001b[0m\u001b]8;;\u001b\\\n"
      ]
     },
     "metadata": {},
     "output_type": "display_data"
    },
    {
     "name": "stdout",
     "output_type": "stream",
     "text": [
      "Permuting P_1\n",
      "Permuting the columns of layer1.weight with P_0, shape: torch.Size([512, 512])\n",
      "w_a shape: torch.Size([512, 1024]), w_b shape: torch.Size([512, 1024])\n",
      "k1: 256, k2: 256\n",
      "Optimization terminated successfully.\n",
      "         Current function value: 304.363160\n",
      "         Iterations: 71\n",
      "         Function evaluations: 122\n",
      "         Gradient evaluations: 122\n"
     ]
    },
    {
     "data": {
      "text/html": [
       "<pre style=\"white-space:pre;overflow-x:auto;line-height:normal;font-family:Menlo,'DejaVu Sans Mono',consolas,'Courier New',monospace\"><span style=\"color: #7fbfbf; text-decoration-color: #7fbfbf\">2025-01-07 14:45:33 </span><span style=\"color: #000080; text-decoration-color: #000080\">INFO    </span> Iteration <span style=\"color: #008080; text-decoration-color: #008080; font-weight: bold\">17</span>, Permutation P_1: <span style=\"color: #008080; text-decoration-color: #008080; font-weight: bold\">-10.237060546875</span>                           <a href=\"file:///tmp/ipykernel_132860/1970187617.py\" target=\"_blank\"><span style=\"color: #7f7f7f; text-decoration-color: #7f7f7f\">__main__</span></a><span style=\"color: #7f7f7f; text-decoration-color: #7f7f7f\">:</span><a href=\"file:///tmp/ipykernel_132860/1970187617.py#142\" target=\"_blank\"><span style=\"color: #7f7f7f; text-decoration-color: #7f7f7f\">142</span></a>\n",
       "</pre>\n"
      ],
      "text/plain": [
       "\u001b[2;36m2025-01-07 14:45:33\u001b[0m\u001b[2;36m \u001b[0m\u001b[34mINFO    \u001b[0m Iteration \u001b[1;36m17\u001b[0m, Permutation P_1: \u001b[1;36m-10.237060546875\u001b[0m                           \u001b]8;id=171295;file:///tmp/ipykernel_132860/1970187617.py\u001b\\\u001b[2m__main__\u001b[0m\u001b]8;;\u001b\\\u001b[2m:\u001b[0m\u001b]8;id=375555;file:///tmp/ipykernel_132860/1970187617.py#142\u001b\\\u001b[2m142\u001b[0m\u001b]8;;\u001b\\\n"
      ]
     },
     "metadata": {},
     "output_type": "display_data"
    },
    {
     "name": "stdout",
     "output_type": "stream",
     "text": [
      "Permuting P_2\n",
      "Permuting the columns of layer2.weight with P_1, shape: torch.Size([512, 512])\n",
      "w_a shape: torch.Size([512, 768]), w_b shape: torch.Size([512, 768])\n",
      "k1: 256, k2: 256\n",
      "Optimization terminated successfully.\n",
      "         Current function value: 187.026856\n",
      "         Iterations: 112\n",
      "         Function evaluations: 174\n",
      "         Gradient evaluations: 174\n"
     ]
    },
    {
     "data": {
      "text/html": [
       "<pre style=\"white-space:pre;overflow-x:auto;line-height:normal;font-family:Menlo,'DejaVu Sans Mono',consolas,'Courier New',monospace\"><span style=\"color: #7fbfbf; text-decoration-color: #7fbfbf\">2025-01-07 14:45:41 </span><span style=\"color: #000080; text-decoration-color: #000080\">INFO    </span> Iteration <span style=\"color: #008080; text-decoration-color: #008080; font-weight: bold\">17</span>, Permutation P_2: <span style=\"color: #008080; text-decoration-color: #008080; font-weight: bold\">4.025398254394531</span>                          <a href=\"file:///tmp/ipykernel_132860/1970187617.py\" target=\"_blank\"><span style=\"color: #7f7f7f; text-decoration-color: #7f7f7f\">__main__</span></a><span style=\"color: #7f7f7f; text-decoration-color: #7f7f7f\">:</span><a href=\"file:///tmp/ipykernel_132860/1970187617.py#142\" target=\"_blank\"><span style=\"color: #7f7f7f; text-decoration-color: #7f7f7f\">142</span></a>\n",
       "</pre>\n"
      ],
      "text/plain": [
       "\u001b[2;36m2025-01-07 14:45:41\u001b[0m\u001b[2;36m \u001b[0m\u001b[34mINFO    \u001b[0m Iteration \u001b[1;36m17\u001b[0m, Permutation P_2: \u001b[1;36m4.025398254394531\u001b[0m                          \u001b]8;id=910202;file:///tmp/ipykernel_132860/1970187617.py\u001b\\\u001b[2m__main__\u001b[0m\u001b]8;;\u001b\\\u001b[2m:\u001b[0m\u001b]8;id=111837;file:///tmp/ipykernel_132860/1970187617.py#142\u001b\\\u001b[2m142\u001b[0m\u001b]8;;\u001b\\\n"
      ]
     },
     "metadata": {},
     "output_type": "display_data"
    },
    {
     "name": "stderr",
     "output_type": "stream",
     "text": [
      "Weight matching:  18%|█▊        | 18/100 [10:55<48:43, 35.66s/it]"
     ]
    },
    {
     "name": "stdout",
     "output_type": "stream",
     "text": [
      "Permuting P_0\n",
      "w_a shape: torch.Size([512, 1296]), w_b shape: torch.Size([512, 1296])\n",
      "k1: 256, k2: 256\n",
      "Optimization terminated successfully.\n",
      "         Current function value: 333.777992\n",
      "         Iterations: 105\n",
      "         Function evaluations: 172\n",
      "         Gradient evaluations: 172\n"
     ]
    },
    {
     "data": {
      "text/html": [
       "<pre style=\"white-space:pre;overflow-x:auto;line-height:normal;font-family:Menlo,'DejaVu Sans Mono',consolas,'Courier New',monospace\"><span style=\"color: #7fbfbf; text-decoration-color: #7fbfbf\">2025-01-07 14:45:52 </span><span style=\"color: #000080; text-decoration-color: #000080\">INFO    </span> Iteration <span style=\"color: #008080; text-decoration-color: #008080; font-weight: bold\">18</span>, Permutation P_0: <span style=\"color: #008080; text-decoration-color: #008080; font-weight: bold\">17.12200927734375</span>                          <a href=\"file:///tmp/ipykernel_132860/1970187617.py\" target=\"_blank\"><span style=\"color: #7f7f7f; text-decoration-color: #7f7f7f\">__main__</span></a><span style=\"color: #7f7f7f; text-decoration-color: #7f7f7f\">:</span><a href=\"file:///tmp/ipykernel_132860/1970187617.py#142\" target=\"_blank\"><span style=\"color: #7f7f7f; text-decoration-color: #7f7f7f\">142</span></a>\n",
       "</pre>\n"
      ],
      "text/plain": [
       "\u001b[2;36m2025-01-07 14:45:52\u001b[0m\u001b[2;36m \u001b[0m\u001b[34mINFO    \u001b[0m Iteration \u001b[1;36m18\u001b[0m, Permutation P_0: \u001b[1;36m17.12200927734375\u001b[0m                          \u001b]8;id=337624;file:///tmp/ipykernel_132860/1970187617.py\u001b\\\u001b[2m__main__\u001b[0m\u001b]8;;\u001b\\\u001b[2m:\u001b[0m\u001b]8;id=725662;file:///tmp/ipykernel_132860/1970187617.py#142\u001b\\\u001b[2m142\u001b[0m\u001b]8;;\u001b\\\n"
      ]
     },
     "metadata": {},
     "output_type": "display_data"
    },
    {
     "name": "stdout",
     "output_type": "stream",
     "text": [
      "Permuting P_3\n",
      "Permuting the columns of layer3.weight with P_2, shape: torch.Size([512, 512])\n",
      "w_a shape: torch.Size([256, 539]), w_b shape: torch.Size([256, 539])\n",
      "k1: 128, k2: 128\n",
      "Optimization terminated successfully.\n",
      "         Current function value: 61.842708\n",
      "         Iterations: 61\n",
      "         Function evaluations: 101\n",
      "         Gradient evaluations: 101\n"
     ]
    },
    {
     "data": {
      "text/html": [
       "<pre style=\"white-space:pre;overflow-x:auto;line-height:normal;font-family:Menlo,'DejaVu Sans Mono',consolas,'Courier New',monospace\"><span style=\"color: #7fbfbf; text-decoration-color: #7fbfbf\">2025-01-07 14:45:56 </span><span style=\"color: #000080; text-decoration-color: #000080\">INFO    </span> Iteration <span style=\"color: #008080; text-decoration-color: #008080; font-weight: bold\">18</span>, Permutation P_3: <span style=\"color: #008080; text-decoration-color: #008080; font-weight: bold\">7.468069076538086</span>                          <a href=\"file:///tmp/ipykernel_132860/1970187617.py\" target=\"_blank\"><span style=\"color: #7f7f7f; text-decoration-color: #7f7f7f\">__main__</span></a><span style=\"color: #7f7f7f; text-decoration-color: #7f7f7f\">:</span><a href=\"file:///tmp/ipykernel_132860/1970187617.py#142\" target=\"_blank\"><span style=\"color: #7f7f7f; text-decoration-color: #7f7f7f\">142</span></a>\n",
       "</pre>\n"
      ],
      "text/plain": [
       "\u001b[2;36m2025-01-07 14:45:56\u001b[0m\u001b[2;36m \u001b[0m\u001b[34mINFO    \u001b[0m Iteration \u001b[1;36m18\u001b[0m, Permutation P_3: \u001b[1;36m7.468069076538086\u001b[0m                          \u001b]8;id=826330;file:///tmp/ipykernel_132860/1970187617.py\u001b\\\u001b[2m__main__\u001b[0m\u001b]8;;\u001b\\\u001b[2m:\u001b[0m\u001b]8;id=929720;file:///tmp/ipykernel_132860/1970187617.py#142\u001b\\\u001b[2m142\u001b[0m\u001b]8;;\u001b\\\n"
      ]
     },
     "metadata": {},
     "output_type": "display_data"
    },
    {
     "name": "stdout",
     "output_type": "stream",
     "text": [
      "Permuting P_2\n",
      "Permuting the columns of layer2.weight with P_1, shape: torch.Size([512, 512])\n",
      "w_a shape: torch.Size([512, 768]), w_b shape: torch.Size([512, 768])\n",
      "k1: 256, k2: 256\n",
      "Optimization terminated successfully.\n",
      "         Current function value: 184.981588\n",
      "         Iterations: 111\n",
      "         Function evaluations: 175\n",
      "         Gradient evaluations: 175\n"
     ]
    },
    {
     "data": {
      "text/html": [
       "<pre style=\"white-space:pre;overflow-x:auto;line-height:normal;font-family:Menlo,'DejaVu Sans Mono',consolas,'Courier New',monospace\"><span style=\"color: #7fbfbf; text-decoration-color: #7fbfbf\">2025-01-07 14:46:06 </span><span style=\"color: #000080; text-decoration-color: #000080\">INFO    </span> Iteration <span style=\"color: #008080; text-decoration-color: #008080; font-weight: bold\">18</span>, Permutation P_2: <span style=\"color: #008080; text-decoration-color: #008080; font-weight: bold\">2.148590087890625</span>                          <a href=\"file:///tmp/ipykernel_132860/1970187617.py\" target=\"_blank\"><span style=\"color: #7f7f7f; text-decoration-color: #7f7f7f\">__main__</span></a><span style=\"color: #7f7f7f; text-decoration-color: #7f7f7f\">:</span><a href=\"file:///tmp/ipykernel_132860/1970187617.py#142\" target=\"_blank\"><span style=\"color: #7f7f7f; text-decoration-color: #7f7f7f\">142</span></a>\n",
       "</pre>\n"
      ],
      "text/plain": [
       "\u001b[2;36m2025-01-07 14:46:06\u001b[0m\u001b[2;36m \u001b[0m\u001b[34mINFO    \u001b[0m Iteration \u001b[1;36m18\u001b[0m, Permutation P_2: \u001b[1;36m2.148590087890625\u001b[0m                          \u001b]8;id=895905;file:///tmp/ipykernel_132860/1970187617.py\u001b\\\u001b[2m__main__\u001b[0m\u001b]8;;\u001b\\\u001b[2m:\u001b[0m\u001b]8;id=453685;file:///tmp/ipykernel_132860/1970187617.py#142\u001b\\\u001b[2m142\u001b[0m\u001b]8;;\u001b\\\n"
      ]
     },
     "metadata": {},
     "output_type": "display_data"
    },
    {
     "name": "stdout",
     "output_type": "stream",
     "text": [
      "Permuting P_1\n",
      "Permuting the columns of layer1.weight with P_0, shape: torch.Size([512, 512])\n",
      "w_a shape: torch.Size([512, 1024]), w_b shape: torch.Size([512, 1024])\n",
      "k1: 256, k2: 256\n",
      "Optimization terminated successfully.\n",
      "         Current function value: 303.251981\n",
      "         Iterations: 72\n",
      "         Function evaluations: 124\n",
      "         Gradient evaluations: 124\n"
     ]
    },
    {
     "data": {
      "text/html": [
       "<pre style=\"white-space:pre;overflow-x:auto;line-height:normal;font-family:Menlo,'DejaVu Sans Mono',consolas,'Courier New',monospace\"><span style=\"color: #7fbfbf; text-decoration-color: #7fbfbf\">2025-01-07 14:46:16 </span><span style=\"color: #000080; text-decoration-color: #000080\">INFO    </span> Iteration <span style=\"color: #008080; text-decoration-color: #008080; font-weight: bold\">18</span>, Permutation P_1: <span style=\"color: #008080; text-decoration-color: #008080; font-weight: bold\">-18.588226318359375</span>                        <a href=\"file:///tmp/ipykernel_132860/1970187617.py\" target=\"_blank\"><span style=\"color: #7f7f7f; text-decoration-color: #7f7f7f\">__main__</span></a><span style=\"color: #7f7f7f; text-decoration-color: #7f7f7f\">:</span><a href=\"file:///tmp/ipykernel_132860/1970187617.py#142\" target=\"_blank\"><span style=\"color: #7f7f7f; text-decoration-color: #7f7f7f\">142</span></a>\n",
       "</pre>\n"
      ],
      "text/plain": [
       "\u001b[2;36m2025-01-07 14:46:16\u001b[0m\u001b[2;36m \u001b[0m\u001b[34mINFO    \u001b[0m Iteration \u001b[1;36m18\u001b[0m, Permutation P_1: \u001b[1;36m-18.588226318359375\u001b[0m                        \u001b]8;id=65235;file:///tmp/ipykernel_132860/1970187617.py\u001b\\\u001b[2m__main__\u001b[0m\u001b]8;;\u001b\\\u001b[2m:\u001b[0m\u001b]8;id=821909;file:///tmp/ipykernel_132860/1970187617.py#142\u001b\\\u001b[2m142\u001b[0m\u001b]8;;\u001b\\\n"
      ]
     },
     "metadata": {},
     "output_type": "display_data"
    },
    {
     "name": "stderr",
     "output_type": "stream",
     "text": [
      "Weight matching:  19%|█▉        | 19/100 [11:29<47:43, 35.35s/it]"
     ]
    },
    {
     "name": "stdout",
     "output_type": "stream",
     "text": [
      "Permuting P_2\n",
      "Permuting the columns of layer2.weight with P_1, shape: torch.Size([512, 512])\n",
      "w_a shape: torch.Size([512, 768]), w_b shape: torch.Size([512, 768])\n",
      "k1: 256, k2: 256\n",
      "Optimization terminated successfully.\n",
      "         Current function value: 186.277099\n",
      "         Iterations: 109\n",
      "         Function evaluations: 173\n",
      "         Gradient evaluations: 173\n"
     ]
    },
    {
     "data": {
      "text/html": [
       "<pre style=\"white-space:pre;overflow-x:auto;line-height:normal;font-family:Menlo,'DejaVu Sans Mono',consolas,'Courier New',monospace\"><span style=\"color: #7fbfbf; text-decoration-color: #7fbfbf\">2025-01-07 14:46:26 </span><span style=\"color: #000080; text-decoration-color: #000080\">INFO    </span> Iteration <span style=\"color: #008080; text-decoration-color: #008080; font-weight: bold\">19</span>, Permutation P_2: <span style=\"color: #008080; text-decoration-color: #008080; font-weight: bold\">6.505462646484375</span>                          <a href=\"file:///tmp/ipykernel_132860/1970187617.py\" target=\"_blank\"><span style=\"color: #7f7f7f; text-decoration-color: #7f7f7f\">__main__</span></a><span style=\"color: #7f7f7f; text-decoration-color: #7f7f7f\">:</span><a href=\"file:///tmp/ipykernel_132860/1970187617.py#142\" target=\"_blank\"><span style=\"color: #7f7f7f; text-decoration-color: #7f7f7f\">142</span></a>\n",
       "</pre>\n"
      ],
      "text/plain": [
       "\u001b[2;36m2025-01-07 14:46:26\u001b[0m\u001b[2;36m \u001b[0m\u001b[34mINFO    \u001b[0m Iteration \u001b[1;36m19\u001b[0m, Permutation P_2: \u001b[1;36m6.505462646484375\u001b[0m                          \u001b]8;id=843654;file:///tmp/ipykernel_132860/1970187617.py\u001b\\\u001b[2m__main__\u001b[0m\u001b]8;;\u001b\\\u001b[2m:\u001b[0m\u001b]8;id=210501;file:///tmp/ipykernel_132860/1970187617.py#142\u001b\\\u001b[2m142\u001b[0m\u001b]8;;\u001b\\\n"
      ]
     },
     "metadata": {},
     "output_type": "display_data"
    },
    {
     "name": "stdout",
     "output_type": "stream",
     "text": [
      "Permuting P_0\n",
      "w_a shape: torch.Size([512, 1296]), w_b shape: torch.Size([512, 1296])\n",
      "k1: 256, k2: 256\n",
      "Optimization terminated successfully.\n",
      "         Current function value: 335.134608\n",
      "         Iterations: 102\n",
      "         Function evaluations: 164\n",
      "         Gradient evaluations: 164\n"
     ]
    },
    {
     "data": {
      "text/html": [
       "<pre style=\"white-space:pre;overflow-x:auto;line-height:normal;font-family:Menlo,'DejaVu Sans Mono',consolas,'Courier New',monospace\"><span style=\"color: #7fbfbf; text-decoration-color: #7fbfbf\">2025-01-07 14:46:35 </span><span style=\"color: #000080; text-decoration-color: #000080\">INFO    </span> Iteration <span style=\"color: #008080; text-decoration-color: #008080; font-weight: bold\">19</span>, Permutation P_0: <span style=\"color: #008080; text-decoration-color: #008080; font-weight: bold\">7.6014404296875</span>                            <a href=\"file:///tmp/ipykernel_132860/1970187617.py\" target=\"_blank\"><span style=\"color: #7f7f7f; text-decoration-color: #7f7f7f\">__main__</span></a><span style=\"color: #7f7f7f; text-decoration-color: #7f7f7f\">:</span><a href=\"file:///tmp/ipykernel_132860/1970187617.py#142\" target=\"_blank\"><span style=\"color: #7f7f7f; text-decoration-color: #7f7f7f\">142</span></a>\n",
       "</pre>\n"
      ],
      "text/plain": [
       "\u001b[2;36m2025-01-07 14:46:35\u001b[0m\u001b[2;36m \u001b[0m\u001b[34mINFO    \u001b[0m Iteration \u001b[1;36m19\u001b[0m, Permutation P_0: \u001b[1;36m7.6014404296875\u001b[0m                            \u001b]8;id=588472;file:///tmp/ipykernel_132860/1970187617.py\u001b\\\u001b[2m__main__\u001b[0m\u001b]8;;\u001b\\\u001b[2m:\u001b[0m\u001b]8;id=697742;file:///tmp/ipykernel_132860/1970187617.py#142\u001b\\\u001b[2m142\u001b[0m\u001b]8;;\u001b\\\n"
      ]
     },
     "metadata": {},
     "output_type": "display_data"
    },
    {
     "name": "stdout",
     "output_type": "stream",
     "text": [
      "Permuting P_3\n",
      "Permuting the columns of layer3.weight with P_2, shape: torch.Size([512, 512])\n",
      "w_a shape: torch.Size([256, 539]), w_b shape: torch.Size([256, 539])\n",
      "k1: 128, k2: 128\n",
      "Optimization terminated successfully.\n",
      "         Current function value: 61.723106\n",
      "         Iterations: 73\n",
      "         Function evaluations: 112\n",
      "         Gradient evaluations: 112\n"
     ]
    },
    {
     "data": {
      "text/html": [
       "<pre style=\"white-space:pre;overflow-x:auto;line-height:normal;font-family:Menlo,'DejaVu Sans Mono',consolas,'Courier New',monospace\"><span style=\"color: #7fbfbf; text-decoration-color: #7fbfbf\">2025-01-07 14:46:39 </span><span style=\"color: #000080; text-decoration-color: #000080\">INFO    </span> Iteration <span style=\"color: #008080; text-decoration-color: #008080; font-weight: bold\">19</span>, Permutation P_3: <span style=\"color: #008080; text-decoration-color: #008080; font-weight: bold\">6.502527236938477</span>                          <a href=\"file:///tmp/ipykernel_132860/1970187617.py\" target=\"_blank\"><span style=\"color: #7f7f7f; text-decoration-color: #7f7f7f\">__main__</span></a><span style=\"color: #7f7f7f; text-decoration-color: #7f7f7f\">:</span><a href=\"file:///tmp/ipykernel_132860/1970187617.py#142\" target=\"_blank\"><span style=\"color: #7f7f7f; text-decoration-color: #7f7f7f\">142</span></a>\n",
       "</pre>\n"
      ],
      "text/plain": [
       "\u001b[2;36m2025-01-07 14:46:39\u001b[0m\u001b[2;36m \u001b[0m\u001b[34mINFO    \u001b[0m Iteration \u001b[1;36m19\u001b[0m, Permutation P_3: \u001b[1;36m6.502527236938477\u001b[0m                          \u001b]8;id=510501;file:///tmp/ipykernel_132860/1970187617.py\u001b\\\u001b[2m__main__\u001b[0m\u001b]8;;\u001b\\\u001b[2m:\u001b[0m\u001b]8;id=342393;file:///tmp/ipykernel_132860/1970187617.py#142\u001b\\\u001b[2m142\u001b[0m\u001b]8;;\u001b\\\n"
      ]
     },
     "metadata": {},
     "output_type": "display_data"
    },
    {
     "name": "stdout",
     "output_type": "stream",
     "text": [
      "Permuting P_1\n",
      "Permuting the columns of layer1.weight with P_0, shape: torch.Size([512, 512])\n",
      "w_a shape: torch.Size([512, 1024]), w_b shape: torch.Size([512, 1024])\n",
      "k1: 256, k2: 256\n",
      "Optimization terminated successfully.\n",
      "         Current function value: 302.882442\n",
      "         Iterations: 71\n",
      "         Function evaluations: 124\n",
      "         Gradient evaluations: 124\n"
     ]
    },
    {
     "data": {
      "text/html": [
       "<pre style=\"white-space:pre;overflow-x:auto;line-height:normal;font-family:Menlo,'DejaVu Sans Mono',consolas,'Courier New',monospace\"><span style=\"color: #7fbfbf; text-decoration-color: #7fbfbf\">2025-01-07 14:46:47 </span><span style=\"color: #000080; text-decoration-color: #000080\">INFO    </span> Iteration <span style=\"color: #008080; text-decoration-color: #008080; font-weight: bold\">19</span>, Permutation P_1: <span style=\"color: #008080; text-decoration-color: #008080; font-weight: bold\">-16.504135131835938</span>                        <a href=\"file:///tmp/ipykernel_132860/1970187617.py\" target=\"_blank\"><span style=\"color: #7f7f7f; text-decoration-color: #7f7f7f\">__main__</span></a><span style=\"color: #7f7f7f; text-decoration-color: #7f7f7f\">:</span><a href=\"file:///tmp/ipykernel_132860/1970187617.py#142\" target=\"_blank\"><span style=\"color: #7f7f7f; text-decoration-color: #7f7f7f\">142</span></a>\n",
       "</pre>\n"
      ],
      "text/plain": [
       "\u001b[2;36m2025-01-07 14:46:47\u001b[0m\u001b[2;36m \u001b[0m\u001b[34mINFO    \u001b[0m Iteration \u001b[1;36m19\u001b[0m, Permutation P_1: \u001b[1;36m-16.504135131835938\u001b[0m                        \u001b]8;id=938844;file:///tmp/ipykernel_132860/1970187617.py\u001b\\\u001b[2m__main__\u001b[0m\u001b]8;;\u001b\\\u001b[2m:\u001b[0m\u001b]8;id=799808;file:///tmp/ipykernel_132860/1970187617.py#142\u001b\\\u001b[2m142\u001b[0m\u001b]8;;\u001b\\\n"
      ]
     },
     "metadata": {},
     "output_type": "display_data"
    },
    {
     "name": "stderr",
     "output_type": "stream",
     "text": [
      "Weight matching:  20%|██        | 20/100 [12:01<45:45, 34.32s/it]"
     ]
    },
    {
     "name": "stdout",
     "output_type": "stream",
     "text": [
      "Permuting P_3\n",
      "Permuting the columns of layer3.weight with P_2, shape: torch.Size([512, 512])\n",
      "w_a shape: torch.Size([256, 539]), w_b shape: torch.Size([256, 539])\n",
      "k1: 128, k2: 128\n",
      "Optimization terminated successfully.\n",
      "         Current function value: 61.723106\n",
      "         Iterations: 73\n",
      "         Function evaluations: 112\n",
      "         Gradient evaluations: 112\n"
     ]
    },
    {
     "data": {
      "text/html": [
       "<pre style=\"white-space:pre;overflow-x:auto;line-height:normal;font-family:Menlo,'DejaVu Sans Mono',consolas,'Courier New',monospace\"><span style=\"color: #7fbfbf; text-decoration-color: #7fbfbf\">2025-01-07 14:46:52 </span><span style=\"color: #000080; text-decoration-color: #000080\">INFO    </span> Iteration <span style=\"color: #008080; text-decoration-color: #008080; font-weight: bold\">20</span>, Permutation P_3: <span style=\"color: #008080; text-decoration-color: #008080; font-weight: bold\">0.0</span>                                        <a href=\"file:///tmp/ipykernel_132860/1970187617.py\" target=\"_blank\"><span style=\"color: #7f7f7f; text-decoration-color: #7f7f7f\">__main__</span></a><span style=\"color: #7f7f7f; text-decoration-color: #7f7f7f\">:</span><a href=\"file:///tmp/ipykernel_132860/1970187617.py#142\" target=\"_blank\"><span style=\"color: #7f7f7f; text-decoration-color: #7f7f7f\">142</span></a>\n",
       "</pre>\n"
      ],
      "text/plain": [
       "\u001b[2;36m2025-01-07 14:46:52\u001b[0m\u001b[2;36m \u001b[0m\u001b[34mINFO    \u001b[0m Iteration \u001b[1;36m20\u001b[0m, Permutation P_3: \u001b[1;36m0.0\u001b[0m                                        \u001b]8;id=517219;file:///tmp/ipykernel_132860/1970187617.py\u001b\\\u001b[2m__main__\u001b[0m\u001b]8;;\u001b\\\u001b[2m:\u001b[0m\u001b]8;id=620898;file:///tmp/ipykernel_132860/1970187617.py#142\u001b\\\u001b[2m142\u001b[0m\u001b]8;;\u001b\\\n"
      ]
     },
     "metadata": {},
     "output_type": "display_data"
    },
    {
     "name": "stdout",
     "output_type": "stream",
     "text": [
      "Permuting P_2\n",
      "Permuting the columns of layer2.weight with P_1, shape: torch.Size([512, 512])\n",
      "w_a shape: torch.Size([512, 768]), w_b shape: torch.Size([512, 768])\n",
      "k1: 256, k2: 256\n",
      "Optimization terminated successfully.\n",
      "         Current function value: 189.597832\n",
      "         Iterations: 109\n",
      "         Function evaluations: 173\n",
      "         Gradient evaluations: 173\n"
     ]
    },
    {
     "data": {
      "text/html": [
       "<pre style=\"white-space:pre;overflow-x:auto;line-height:normal;font-family:Menlo,'DejaVu Sans Mono',consolas,'Courier New',monospace\"><span style=\"color: #7fbfbf; text-decoration-color: #7fbfbf\">2025-01-07 14:47:02 </span><span style=\"color: #000080; text-decoration-color: #000080\">INFO    </span> Iteration <span style=\"color: #008080; text-decoration-color: #008080; font-weight: bold\">20</span>, Permutation P_2: <span style=\"color: #008080; text-decoration-color: #008080; font-weight: bold\">7.068122863769531</span>                          <a href=\"file:///tmp/ipykernel_132860/1970187617.py\" target=\"_blank\"><span style=\"color: #7f7f7f; text-decoration-color: #7f7f7f\">__main__</span></a><span style=\"color: #7f7f7f; text-decoration-color: #7f7f7f\">:</span><a href=\"file:///tmp/ipykernel_132860/1970187617.py#142\" target=\"_blank\"><span style=\"color: #7f7f7f; text-decoration-color: #7f7f7f\">142</span></a>\n",
       "</pre>\n"
      ],
      "text/plain": [
       "\u001b[2;36m2025-01-07 14:47:02\u001b[0m\u001b[2;36m \u001b[0m\u001b[34mINFO    \u001b[0m Iteration \u001b[1;36m20\u001b[0m, Permutation P_2: \u001b[1;36m7.068122863769531\u001b[0m                          \u001b]8;id=108003;file:///tmp/ipykernel_132860/1970187617.py\u001b\\\u001b[2m__main__\u001b[0m\u001b]8;;\u001b\\\u001b[2m:\u001b[0m\u001b]8;id=677502;file:///tmp/ipykernel_132860/1970187617.py#142\u001b\\\u001b[2m142\u001b[0m\u001b]8;;\u001b\\\n"
      ]
     },
     "metadata": {},
     "output_type": "display_data"
    },
    {
     "name": "stdout",
     "output_type": "stream",
     "text": [
      "Permuting P_1\n",
      "Permuting the columns of layer1.weight with P_0, shape: torch.Size([512, 512])\n",
      "w_a shape: torch.Size([512, 1024]), w_b shape: torch.Size([512, 1024])\n",
      "k1: 256, k2: 256\n",
      "Optimization terminated successfully.\n",
      "         Current function value: 303.351559\n",
      "         Iterations: 71\n",
      "         Function evaluations: 123\n",
      "         Gradient evaluations: 123\n"
     ]
    },
    {
     "data": {
      "text/html": [
       "<pre style=\"white-space:pre;overflow-x:auto;line-height:normal;font-family:Menlo,'DejaVu Sans Mono',consolas,'Courier New',monospace\"><span style=\"color: #7fbfbf; text-decoration-color: #7fbfbf\">2025-01-07 14:47:11 </span><span style=\"color: #000080; text-decoration-color: #000080\">INFO    </span> Iteration <span style=\"color: #008080; text-decoration-color: #008080; font-weight: bold\">20</span>, Permutation P_1: <span style=\"color: #008080; text-decoration-color: #008080; font-weight: bold\">-0.566741943359375</span>                         <a href=\"file:///tmp/ipykernel_132860/1970187617.py\" target=\"_blank\"><span style=\"color: #7f7f7f; text-decoration-color: #7f7f7f\">__main__</span></a><span style=\"color: #7f7f7f; text-decoration-color: #7f7f7f\">:</span><a href=\"file:///tmp/ipykernel_132860/1970187617.py#142\" target=\"_blank\"><span style=\"color: #7f7f7f; text-decoration-color: #7f7f7f\">142</span></a>\n",
       "</pre>\n"
      ],
      "text/plain": [
       "\u001b[2;36m2025-01-07 14:47:11\u001b[0m\u001b[2;36m \u001b[0m\u001b[34mINFO    \u001b[0m Iteration \u001b[1;36m20\u001b[0m, Permutation P_1: \u001b[1;36m-0.566741943359375\u001b[0m                         \u001b]8;id=222412;file:///tmp/ipykernel_132860/1970187617.py\u001b\\\u001b[2m__main__\u001b[0m\u001b]8;;\u001b\\\u001b[2m:\u001b[0m\u001b]8;id=483304;file:///tmp/ipykernel_132860/1970187617.py#142\u001b\\\u001b[2m142\u001b[0m\u001b]8;;\u001b\\\n"
      ]
     },
     "metadata": {},
     "output_type": "display_data"
    },
    {
     "name": "stdout",
     "output_type": "stream",
     "text": [
      "Permuting P_0\n",
      "w_a shape: torch.Size([512, 1296]), w_b shape: torch.Size([512, 1296])\n",
      "k1: 256, k2: 256\n",
      "Optimization terminated successfully.\n",
      "         Current function value: 334.019915\n",
      "         Iterations: 91\n",
      "         Function evaluations: 144\n",
      "         Gradient evaluations: 144\n"
     ]
    },
    {
     "data": {
      "text/html": [
       "<pre style=\"white-space:pre;overflow-x:auto;line-height:normal;font-family:Menlo,'DejaVu Sans Mono',consolas,'Courier New',monospace\"><span style=\"color: #7fbfbf; text-decoration-color: #7fbfbf\">2025-01-07 14:47:23 </span><span style=\"color: #000080; text-decoration-color: #000080\">INFO    </span> Iteration <span style=\"color: #008080; text-decoration-color: #008080; font-weight: bold\">20</span>, Permutation P_0: <span style=\"color: #008080; text-decoration-color: #008080; font-weight: bold\">-30.55859375</span>                               <a href=\"file:///tmp/ipykernel_132860/1970187617.py\" target=\"_blank\"><span style=\"color: #7f7f7f; text-decoration-color: #7f7f7f\">__main__</span></a><span style=\"color: #7f7f7f; text-decoration-color: #7f7f7f\">:</span><a href=\"file:///tmp/ipykernel_132860/1970187617.py#142\" target=\"_blank\"><span style=\"color: #7f7f7f; text-decoration-color: #7f7f7f\">142</span></a>\n",
       "</pre>\n"
      ],
      "text/plain": [
       "\u001b[2;36m2025-01-07 14:47:23\u001b[0m\u001b[2;36m \u001b[0m\u001b[34mINFO    \u001b[0m Iteration \u001b[1;36m20\u001b[0m, Permutation P_0: \u001b[1;36m-30.55859375\u001b[0m                               \u001b]8;id=844080;file:///tmp/ipykernel_132860/1970187617.py\u001b\\\u001b[2m__main__\u001b[0m\u001b]8;;\u001b\\\u001b[2m:\u001b[0m\u001b]8;id=504851;file:///tmp/ipykernel_132860/1970187617.py#142\u001b\\\u001b[2m142\u001b[0m\u001b]8;;\u001b\\\n"
      ]
     },
     "metadata": {},
     "output_type": "display_data"
    },
    {
     "name": "stderr",
     "output_type": "stream",
     "text": [
      "Weight matching:  21%|██        | 21/100 [12:36<45:34, 34.61s/it]"
     ]
    },
    {
     "name": "stdout",
     "output_type": "stream",
     "text": [
      "Permuting P_1\n",
      "Permuting the columns of layer1.weight with P_0, shape: torch.Size([512, 512])\n",
      "w_a shape: torch.Size([512, 1024]), w_b shape: torch.Size([512, 1024])\n",
      "k1: 256, k2: 256\n",
      "Optimization terminated successfully.\n",
      "         Current function value: 303.815514\n",
      "         Iterations: 78\n",
      "         Function evaluations: 136\n",
      "         Gradient evaluations: 136\n"
     ]
    },
    {
     "data": {
      "text/html": [
       "<pre style=\"white-space:pre;overflow-x:auto;line-height:normal;font-family:Menlo,'DejaVu Sans Mono',consolas,'Courier New',monospace\"><span style=\"color: #7fbfbf; text-decoration-color: #7fbfbf\">2025-01-07 14:47:33 </span><span style=\"color: #000080; text-decoration-color: #000080\">INFO    </span> Iteration <span style=\"color: #008080; text-decoration-color: #008080; font-weight: bold\">21</span>, Permutation P_1: <span style=\"color: #008080; text-decoration-color: #008080; font-weight: bold\">-5.6045074462890625</span>                        <a href=\"file:///tmp/ipykernel_132860/1970187617.py\" target=\"_blank\"><span style=\"color: #7f7f7f; text-decoration-color: #7f7f7f\">__main__</span></a><span style=\"color: #7f7f7f; text-decoration-color: #7f7f7f\">:</span><a href=\"file:///tmp/ipykernel_132860/1970187617.py#142\" target=\"_blank\"><span style=\"color: #7f7f7f; text-decoration-color: #7f7f7f\">142</span></a>\n",
       "</pre>\n"
      ],
      "text/plain": [
       "\u001b[2;36m2025-01-07 14:47:33\u001b[0m\u001b[2;36m \u001b[0m\u001b[34mINFO    \u001b[0m Iteration \u001b[1;36m21\u001b[0m, Permutation P_1: \u001b[1;36m-5.6045074462890625\u001b[0m                        \u001b]8;id=976691;file:///tmp/ipykernel_132860/1970187617.py\u001b\\\u001b[2m__main__\u001b[0m\u001b]8;;\u001b\\\u001b[2m:\u001b[0m\u001b]8;id=947548;file:///tmp/ipykernel_132860/1970187617.py#142\u001b\\\u001b[2m142\u001b[0m\u001b]8;;\u001b\\\n"
      ]
     },
     "metadata": {},
     "output_type": "display_data"
    },
    {
     "name": "stdout",
     "output_type": "stream",
     "text": [
      "Permuting P_3\n",
      "Permuting the columns of layer3.weight with P_2, shape: torch.Size([512, 512])\n",
      "w_a shape: torch.Size([256, 539]), w_b shape: torch.Size([256, 539])\n",
      "k1: 128, k2: 128\n",
      "Optimization terminated successfully.\n",
      "         Current function value: 61.292379\n",
      "         Iterations: 72\n",
      "         Function evaluations: 115\n",
      "         Gradient evaluations: 115\n"
     ]
    },
    {
     "data": {
      "text/html": [
       "<pre style=\"white-space:pre;overflow-x:auto;line-height:normal;font-family:Menlo,'DejaVu Sans Mono',consolas,'Courier New',monospace\"><span style=\"color: #7fbfbf; text-decoration-color: #7fbfbf\">2025-01-07 14:47:37 </span><span style=\"color: #000080; text-decoration-color: #000080\">INFO    </span> Iteration <span style=\"color: #008080; text-decoration-color: #008080; font-weight: bold\">21</span>, Permutation P_3: <span style=\"color: #008080; text-decoration-color: #008080; font-weight: bold\">4.109428405761719</span>                          <a href=\"file:///tmp/ipykernel_132860/1970187617.py\" target=\"_blank\"><span style=\"color: #7f7f7f; text-decoration-color: #7f7f7f\">__main__</span></a><span style=\"color: #7f7f7f; text-decoration-color: #7f7f7f\">:</span><a href=\"file:///tmp/ipykernel_132860/1970187617.py#142\" target=\"_blank\"><span style=\"color: #7f7f7f; text-decoration-color: #7f7f7f\">142</span></a>\n",
       "</pre>\n"
      ],
      "text/plain": [
       "\u001b[2;36m2025-01-07 14:47:37\u001b[0m\u001b[2;36m \u001b[0m\u001b[34mINFO    \u001b[0m Iteration \u001b[1;36m21\u001b[0m, Permutation P_3: \u001b[1;36m4.109428405761719\u001b[0m                          \u001b]8;id=184909;file:///tmp/ipykernel_132860/1970187617.py\u001b\\\u001b[2m__main__\u001b[0m\u001b]8;;\u001b\\\u001b[2m:\u001b[0m\u001b]8;id=405691;file:///tmp/ipykernel_132860/1970187617.py#142\u001b\\\u001b[2m142\u001b[0m\u001b]8;;\u001b\\\n"
      ]
     },
     "metadata": {},
     "output_type": "display_data"
    },
    {
     "name": "stdout",
     "output_type": "stream",
     "text": [
      "Permuting P_0\n",
      "w_a shape: torch.Size([512, 1296]), w_b shape: torch.Size([512, 1296])\n",
      "k1: 256, k2: 256\n",
      "Optimization terminated successfully.\n",
      "         Current function value: 335.532441\n",
      "         Iterations: 93\n",
      "         Function evaluations: 155\n",
      "         Gradient evaluations: 155\n"
     ]
    },
    {
     "data": {
      "text/html": [
       "<pre style=\"white-space:pre;overflow-x:auto;line-height:normal;font-family:Menlo,'DejaVu Sans Mono',consolas,'Courier New',monospace\"><span style=\"color: #7fbfbf; text-decoration-color: #7fbfbf\">2025-01-07 14:47:51 </span><span style=\"color: #000080; text-decoration-color: #000080\">INFO    </span> Iteration <span style=\"color: #008080; text-decoration-color: #008080; font-weight: bold\">21</span>, Permutation P_0: <span style=\"color: #008080; text-decoration-color: #008080; font-weight: bold\">-5.400634765625</span>                            <a href=\"file:///tmp/ipykernel_132860/1970187617.py\" target=\"_blank\"><span style=\"color: #7f7f7f; text-decoration-color: #7f7f7f\">__main__</span></a><span style=\"color: #7f7f7f; text-decoration-color: #7f7f7f\">:</span><a href=\"file:///tmp/ipykernel_132860/1970187617.py#142\" target=\"_blank\"><span style=\"color: #7f7f7f; text-decoration-color: #7f7f7f\">142</span></a>\n",
       "</pre>\n"
      ],
      "text/plain": [
       "\u001b[2;36m2025-01-07 14:47:51\u001b[0m\u001b[2;36m \u001b[0m\u001b[34mINFO    \u001b[0m Iteration \u001b[1;36m21\u001b[0m, Permutation P_0: \u001b[1;36m-5.400634765625\u001b[0m                            \u001b]8;id=327838;file:///tmp/ipykernel_132860/1970187617.py\u001b\\\u001b[2m__main__\u001b[0m\u001b]8;;\u001b\\\u001b[2m:\u001b[0m\u001b]8;id=309423;file:///tmp/ipykernel_132860/1970187617.py#142\u001b\\\u001b[2m142\u001b[0m\u001b]8;;\u001b\\\n"
      ]
     },
     "metadata": {},
     "output_type": "display_data"
    },
    {
     "name": "stdout",
     "output_type": "stream",
     "text": [
      "Permuting P_2\n",
      "Permuting the columns of layer2.weight with P_1, shape: torch.Size([512, 512])\n",
      "w_a shape: torch.Size([512, 768]), w_b shape: torch.Size([512, 768])\n",
      "k1: 256, k2: 256\n",
      "Optimization terminated successfully.\n",
      "         Current function value: 187.024217\n",
      "         Iterations: 106\n",
      "         Function evaluations: 159\n",
      "         Gradient evaluations: 159\n"
     ]
    },
    {
     "data": {
      "text/html": [
       "<pre style=\"white-space:pre;overflow-x:auto;line-height:normal;font-family:Menlo,'DejaVu Sans Mono',consolas,'Courier New',monospace\"><span style=\"color: #7fbfbf; text-decoration-color: #7fbfbf\">2025-01-07 14:48:03 </span><span style=\"color: #000080; text-decoration-color: #000080\">INFO    </span> Iteration <span style=\"color: #008080; text-decoration-color: #008080; font-weight: bold\">21</span>, Permutation P_2: <span style=\"color: #008080; text-decoration-color: #008080; font-weight: bold\">11.898719787597656</span>                         <a href=\"file:///tmp/ipykernel_132860/1970187617.py\" target=\"_blank\"><span style=\"color: #7f7f7f; text-decoration-color: #7f7f7f\">__main__</span></a><span style=\"color: #7f7f7f; text-decoration-color: #7f7f7f\">:</span><a href=\"file:///tmp/ipykernel_132860/1970187617.py#142\" target=\"_blank\"><span style=\"color: #7f7f7f; text-decoration-color: #7f7f7f\">142</span></a>\n",
       "</pre>\n"
      ],
      "text/plain": [
       "\u001b[2;36m2025-01-07 14:48:03\u001b[0m\u001b[2;36m \u001b[0m\u001b[34mINFO    \u001b[0m Iteration \u001b[1;36m21\u001b[0m, Permutation P_2: \u001b[1;36m11.898719787597656\u001b[0m                         \u001b]8;id=404850;file:///tmp/ipykernel_132860/1970187617.py\u001b\\\u001b[2m__main__\u001b[0m\u001b]8;;\u001b\\\u001b[2m:\u001b[0m\u001b]8;id=833116;file:///tmp/ipykernel_132860/1970187617.py#142\u001b\\\u001b[2m142\u001b[0m\u001b]8;;\u001b\\\n"
      ]
     },
     "metadata": {},
     "output_type": "display_data"
    },
    {
     "name": "stderr",
     "output_type": "stream",
     "text": [
      "Weight matching:  22%|██▏       | 22/100 [13:16<47:01, 36.18s/it]"
     ]
    },
    {
     "name": "stdout",
     "output_type": "stream",
     "text": [
      "Permuting P_2\n",
      "Permuting the columns of layer2.weight with P_1, shape: torch.Size([512, 512])\n",
      "w_a shape: torch.Size([512, 768]), w_b shape: torch.Size([512, 768])\n",
      "k1: 256, k2: 256\n",
      "Optimization terminated successfully.\n",
      "         Current function value: 187.024217\n",
      "         Iterations: 106\n",
      "         Function evaluations: 159\n",
      "         Gradient evaluations: 159\n"
     ]
    },
    {
     "data": {
      "text/html": [
       "<pre style=\"white-space:pre;overflow-x:auto;line-height:normal;font-family:Menlo,'DejaVu Sans Mono',consolas,'Courier New',monospace\"><span style=\"color: #7fbfbf; text-decoration-color: #7fbfbf\">2025-01-07 14:48:13 </span><span style=\"color: #000080; text-decoration-color: #000080\">INFO    </span> Iteration <span style=\"color: #008080; text-decoration-color: #008080; font-weight: bold\">22</span>, Permutation P_2: <span style=\"color: #008080; text-decoration-color: #008080; font-weight: bold\">0.0</span>                                        <a href=\"file:///tmp/ipykernel_132860/1970187617.py\" target=\"_blank\"><span style=\"color: #7f7f7f; text-decoration-color: #7f7f7f\">__main__</span></a><span style=\"color: #7f7f7f; text-decoration-color: #7f7f7f\">:</span><a href=\"file:///tmp/ipykernel_132860/1970187617.py#142\" target=\"_blank\"><span style=\"color: #7f7f7f; text-decoration-color: #7f7f7f\">142</span></a>\n",
       "</pre>\n"
      ],
      "text/plain": [
       "\u001b[2;36m2025-01-07 14:48:13\u001b[0m\u001b[2;36m \u001b[0m\u001b[34mINFO    \u001b[0m Iteration \u001b[1;36m22\u001b[0m, Permutation P_2: \u001b[1;36m0.0\u001b[0m                                        \u001b]8;id=461206;file:///tmp/ipykernel_132860/1970187617.py\u001b\\\u001b[2m__main__\u001b[0m\u001b]8;;\u001b\\\u001b[2m:\u001b[0m\u001b]8;id=132194;file:///tmp/ipykernel_132860/1970187617.py#142\u001b\\\u001b[2m142\u001b[0m\u001b]8;;\u001b\\\n"
      ]
     },
     "metadata": {},
     "output_type": "display_data"
    },
    {
     "name": "stdout",
     "output_type": "stream",
     "text": [
      "Permuting P_0\n",
      "w_a shape: torch.Size([512, 1296]), w_b shape: torch.Size([512, 1296])\n",
      "k1: 256, k2: 256\n",
      "Optimization terminated successfully.\n",
      "         Current function value: 335.532441\n",
      "         Iterations: 93\n",
      "         Function evaluations: 155\n",
      "         Gradient evaluations: 155\n"
     ]
    },
    {
     "data": {
      "text/html": [
       "<pre style=\"white-space:pre;overflow-x:auto;line-height:normal;font-family:Menlo,'DejaVu Sans Mono',consolas,'Courier New',monospace\"><span style=\"color: #7fbfbf; text-decoration-color: #7fbfbf\">2025-01-07 14:48:24 </span><span style=\"color: #000080; text-decoration-color: #000080\">INFO    </span> Iteration <span style=\"color: #008080; text-decoration-color: #008080; font-weight: bold\">22</span>, Permutation P_0: <span style=\"color: #008080; text-decoration-color: #008080; font-weight: bold\">0.0</span>                                        <a href=\"file:///tmp/ipykernel_132860/1970187617.py\" target=\"_blank\"><span style=\"color: #7f7f7f; text-decoration-color: #7f7f7f\">__main__</span></a><span style=\"color: #7f7f7f; text-decoration-color: #7f7f7f\">:</span><a href=\"file:///tmp/ipykernel_132860/1970187617.py#142\" target=\"_blank\"><span style=\"color: #7f7f7f; text-decoration-color: #7f7f7f\">142</span></a>\n",
       "</pre>\n"
      ],
      "text/plain": [
       "\u001b[2;36m2025-01-07 14:48:24\u001b[0m\u001b[2;36m \u001b[0m\u001b[34mINFO    \u001b[0m Iteration \u001b[1;36m22\u001b[0m, Permutation P_0: \u001b[1;36m0.0\u001b[0m                                        \u001b]8;id=469142;file:///tmp/ipykernel_132860/1970187617.py\u001b\\\u001b[2m__main__\u001b[0m\u001b]8;;\u001b\\\u001b[2m:\u001b[0m\u001b]8;id=264944;file:///tmp/ipykernel_132860/1970187617.py#142\u001b\\\u001b[2m142\u001b[0m\u001b]8;;\u001b\\\n"
      ]
     },
     "metadata": {},
     "output_type": "display_data"
    },
    {
     "name": "stdout",
     "output_type": "stream",
     "text": [
      "Permuting P_1\n",
      "Permuting the columns of layer1.weight with P_0, shape: torch.Size([512, 512])\n",
      "w_a shape: torch.Size([512, 1024]), w_b shape: torch.Size([512, 1024])\n",
      "k1: 256, k2: 256\n",
      "Optimization terminated successfully.\n",
      "         Current function value: 304.751526\n",
      "         Iterations: 72\n",
      "         Function evaluations: 121\n",
      "         Gradient evaluations: 121\n"
     ]
    },
    {
     "data": {
      "text/html": [
       "<pre style=\"white-space:pre;overflow-x:auto;line-height:normal;font-family:Menlo,'DejaVu Sans Mono',consolas,'Courier New',monospace\"><span style=\"color: #7fbfbf; text-decoration-color: #7fbfbf\">2025-01-07 14:48:36 </span><span style=\"color: #000080; text-decoration-color: #000080\">INFO    </span> Iteration <span style=\"color: #008080; text-decoration-color: #008080; font-weight: bold\">22</span>, Permutation P_1: <span style=\"color: #008080; text-decoration-color: #008080; font-weight: bold\">-17.69189453125</span>                            <a href=\"file:///tmp/ipykernel_132860/1970187617.py\" target=\"_blank\"><span style=\"color: #7f7f7f; text-decoration-color: #7f7f7f\">__main__</span></a><span style=\"color: #7f7f7f; text-decoration-color: #7f7f7f\">:</span><a href=\"file:///tmp/ipykernel_132860/1970187617.py#142\" target=\"_blank\"><span style=\"color: #7f7f7f; text-decoration-color: #7f7f7f\">142</span></a>\n",
       "</pre>\n"
      ],
      "text/plain": [
       "\u001b[2;36m2025-01-07 14:48:36\u001b[0m\u001b[2;36m \u001b[0m\u001b[34mINFO    \u001b[0m Iteration \u001b[1;36m22\u001b[0m, Permutation P_1: \u001b[1;36m-17.69189453125\u001b[0m                            \u001b]8;id=336608;file:///tmp/ipykernel_132860/1970187617.py\u001b\\\u001b[2m__main__\u001b[0m\u001b]8;;\u001b\\\u001b[2m:\u001b[0m\u001b]8;id=273187;file:///tmp/ipykernel_132860/1970187617.py#142\u001b\\\u001b[2m142\u001b[0m\u001b]8;;\u001b\\\n"
      ]
     },
     "metadata": {},
     "output_type": "display_data"
    },
    {
     "name": "stdout",
     "output_type": "stream",
     "text": [
      "Permuting P_3\n",
      "Permuting the columns of layer3.weight with P_2, shape: torch.Size([512, 512])\n",
      "w_a shape: torch.Size([256, 539]), w_b shape: torch.Size([256, 539])\n",
      "k1: 128, k2: 128\n",
      "Optimization terminated successfully.\n",
      "         Current function value: 61.498557\n",
      "         Iterations: 63\n",
      "         Function evaluations: 106\n",
      "         Gradient evaluations: 106\n"
     ]
    },
    {
     "data": {
      "text/html": [
       "<pre style=\"white-space:pre;overflow-x:auto;line-height:normal;font-family:Menlo,'DejaVu Sans Mono',consolas,'Courier New',monospace\"><span style=\"color: #7fbfbf; text-decoration-color: #7fbfbf\">2025-01-07 14:48:42 </span><span style=\"color: #000080; text-decoration-color: #000080\">INFO    </span> Iteration <span style=\"color: #008080; text-decoration-color: #008080; font-weight: bold\">22</span>, Permutation P_3: <span style=\"color: #008080; text-decoration-color: #008080; font-weight: bold\">6.152498245239258</span>                          <a href=\"file:///tmp/ipykernel_132860/1970187617.py\" target=\"_blank\"><span style=\"color: #7f7f7f; text-decoration-color: #7f7f7f\">__main__</span></a><span style=\"color: #7f7f7f; text-decoration-color: #7f7f7f\">:</span><a href=\"file:///tmp/ipykernel_132860/1970187617.py#142\" target=\"_blank\"><span style=\"color: #7f7f7f; text-decoration-color: #7f7f7f\">142</span></a>\n",
       "</pre>\n"
      ],
      "text/plain": [
       "\u001b[2;36m2025-01-07 14:48:42\u001b[0m\u001b[2;36m \u001b[0m\u001b[34mINFO    \u001b[0m Iteration \u001b[1;36m22\u001b[0m, Permutation P_3: \u001b[1;36m6.152498245239258\u001b[0m                          \u001b]8;id=314767;file:///tmp/ipykernel_132860/1970187617.py\u001b\\\u001b[2m__main__\u001b[0m\u001b]8;;\u001b\\\u001b[2m:\u001b[0m\u001b]8;id=250905;file:///tmp/ipykernel_132860/1970187617.py#142\u001b\\\u001b[2m142\u001b[0m\u001b]8;;\u001b\\\n"
      ]
     },
     "metadata": {},
     "output_type": "display_data"
    },
    {
     "name": "stderr",
     "output_type": "stream",
     "text": [
      "Weight matching:  23%|██▎       | 23/100 [13:56<47:43, 37.18s/it]"
     ]
    },
    {
     "name": "stdout",
     "output_type": "stream",
     "text": [
      "Permuting P_3\n",
      "Permuting the columns of layer3.weight with P_2, shape: torch.Size([512, 512])\n",
      "w_a shape: torch.Size([256, 539]), w_b shape: torch.Size([256, 539])\n",
      "k1: 128, k2: 128\n",
      "Optimization terminated successfully.\n",
      "         Current function value: 61.498557\n",
      "         Iterations: 63\n",
      "         Function evaluations: 106\n",
      "         Gradient evaluations: 106\n"
     ]
    },
    {
     "data": {
      "text/html": [
       "<pre style=\"white-space:pre;overflow-x:auto;line-height:normal;font-family:Menlo,'DejaVu Sans Mono',consolas,'Courier New',monospace\"><span style=\"color: #7fbfbf; text-decoration-color: #7fbfbf\">2025-01-07 14:48:48 </span><span style=\"color: #000080; text-decoration-color: #000080\">INFO    </span> Iteration <span style=\"color: #008080; text-decoration-color: #008080; font-weight: bold\">23</span>, Permutation P_3: <span style=\"color: #008080; text-decoration-color: #008080; font-weight: bold\">0.0</span>                                        <a href=\"file:///tmp/ipykernel_132860/1970187617.py\" target=\"_blank\"><span style=\"color: #7f7f7f; text-decoration-color: #7f7f7f\">__main__</span></a><span style=\"color: #7f7f7f; text-decoration-color: #7f7f7f\">:</span><a href=\"file:///tmp/ipykernel_132860/1970187617.py#142\" target=\"_blank\"><span style=\"color: #7f7f7f; text-decoration-color: #7f7f7f\">142</span></a>\n",
       "</pre>\n"
      ],
      "text/plain": [
       "\u001b[2;36m2025-01-07 14:48:48\u001b[0m\u001b[2;36m \u001b[0m\u001b[34mINFO    \u001b[0m Iteration \u001b[1;36m23\u001b[0m, Permutation P_3: \u001b[1;36m0.0\u001b[0m                                        \u001b]8;id=554590;file:///tmp/ipykernel_132860/1970187617.py\u001b\\\u001b[2m__main__\u001b[0m\u001b]8;;\u001b\\\u001b[2m:\u001b[0m\u001b]8;id=753865;file:///tmp/ipykernel_132860/1970187617.py#142\u001b\\\u001b[2m142\u001b[0m\u001b]8;;\u001b\\\n"
      ]
     },
     "metadata": {},
     "output_type": "display_data"
    },
    {
     "name": "stdout",
     "output_type": "stream",
     "text": [
      "Permuting P_0\n",
      "w_a shape: torch.Size([512, 1296]), w_b shape: torch.Size([512, 1296])\n",
      "k1: 256, k2: 256\n",
      "Optimization terminated successfully.\n",
      "         Current function value: 337.656019\n",
      "         Iterations: 87\n",
      "         Function evaluations: 144\n",
      "         Gradient evaluations: 144\n"
     ]
    },
    {
     "data": {
      "text/html": [
       "<pre style=\"white-space:pre;overflow-x:auto;line-height:normal;font-family:Menlo,'DejaVu Sans Mono',consolas,'Courier New',monospace\"><span style=\"color: #7fbfbf; text-decoration-color: #7fbfbf\">2025-01-07 14:49:01 </span><span style=\"color: #000080; text-decoration-color: #000080\">INFO    </span> Iteration <span style=\"color: #008080; text-decoration-color: #008080; font-weight: bold\">23</span>, Permutation P_0: <span style=\"color: #008080; text-decoration-color: #008080; font-weight: bold\">21.55157470703125</span>                          <a href=\"file:///tmp/ipykernel_132860/1970187617.py\" target=\"_blank\"><span style=\"color: #7f7f7f; text-decoration-color: #7f7f7f\">__main__</span></a><span style=\"color: #7f7f7f; text-decoration-color: #7f7f7f\">:</span><a href=\"file:///tmp/ipykernel_132860/1970187617.py#142\" target=\"_blank\"><span style=\"color: #7f7f7f; text-decoration-color: #7f7f7f\">142</span></a>\n",
       "</pre>\n"
      ],
      "text/plain": [
       "\u001b[2;36m2025-01-07 14:49:01\u001b[0m\u001b[2;36m \u001b[0m\u001b[34mINFO    \u001b[0m Iteration \u001b[1;36m23\u001b[0m, Permutation P_0: \u001b[1;36m21.55157470703125\u001b[0m                          \u001b]8;id=552187;file:///tmp/ipykernel_132860/1970187617.py\u001b\\\u001b[2m__main__\u001b[0m\u001b]8;;\u001b\\\u001b[2m:\u001b[0m\u001b]8;id=298539;file:///tmp/ipykernel_132860/1970187617.py#142\u001b\\\u001b[2m142\u001b[0m\u001b]8;;\u001b\\\n"
      ]
     },
     "metadata": {},
     "output_type": "display_data"
    },
    {
     "name": "stdout",
     "output_type": "stream",
     "text": [
      "Permuting P_2\n",
      "Permuting the columns of layer2.weight with P_1, shape: torch.Size([512, 512])\n",
      "w_a shape: torch.Size([512, 768]), w_b shape: torch.Size([512, 768])\n",
      "k1: 256, k2: 256\n",
      "Optimization terminated successfully.\n",
      "         Current function value: 186.773738\n",
      "         Iterations: 127\n",
      "         Function evaluations: 202\n",
      "         Gradient evaluations: 202\n"
     ]
    },
    {
     "data": {
      "text/html": [
       "<pre style=\"white-space:pre;overflow-x:auto;line-height:normal;font-family:Menlo,'DejaVu Sans Mono',consolas,'Courier New',monospace\"><span style=\"color: #7fbfbf; text-decoration-color: #7fbfbf\">2025-01-07 14:49:15 </span><span style=\"color: #000080; text-decoration-color: #000080\">INFO    </span> Iteration <span style=\"color: #008080; text-decoration-color: #008080; font-weight: bold\">23</span>, Permutation P_2: <span style=\"color: #008080; text-decoration-color: #008080; font-weight: bold\">10.45123291015625</span>                          <a href=\"file:///tmp/ipykernel_132860/1970187617.py\" target=\"_blank\"><span style=\"color: #7f7f7f; text-decoration-color: #7f7f7f\">__main__</span></a><span style=\"color: #7f7f7f; text-decoration-color: #7f7f7f\">:</span><a href=\"file:///tmp/ipykernel_132860/1970187617.py#142\" target=\"_blank\"><span style=\"color: #7f7f7f; text-decoration-color: #7f7f7f\">142</span></a>\n",
       "</pre>\n"
      ],
      "text/plain": [
       "\u001b[2;36m2025-01-07 14:49:15\u001b[0m\u001b[2;36m \u001b[0m\u001b[34mINFO    \u001b[0m Iteration \u001b[1;36m23\u001b[0m, Permutation P_2: \u001b[1;36m10.45123291015625\u001b[0m                          \u001b]8;id=301120;file:///tmp/ipykernel_132860/1970187617.py\u001b\\\u001b[2m__main__\u001b[0m\u001b]8;;\u001b\\\u001b[2m:\u001b[0m\u001b]8;id=677988;file:///tmp/ipykernel_132860/1970187617.py#142\u001b\\\u001b[2m142\u001b[0m\u001b]8;;\u001b\\\n"
      ]
     },
     "metadata": {},
     "output_type": "display_data"
    },
    {
     "name": "stdout",
     "output_type": "stream",
     "text": [
      "Permuting P_1\n",
      "Permuting the columns of layer1.weight with P_0, shape: torch.Size([512, 512])\n",
      "w_a shape: torch.Size([512, 1024]), w_b shape: torch.Size([512, 1024])\n",
      "k1: 256, k2: 256\n",
      "Optimization terminated successfully.\n",
      "         Current function value: 305.774361\n",
      "         Iterations: 66\n",
      "         Function evaluations: 115\n",
      "         Gradient evaluations: 115\n"
     ]
    },
    {
     "data": {
      "text/html": [
       "<pre style=\"white-space:pre;overflow-x:auto;line-height:normal;font-family:Menlo,'DejaVu Sans Mono',consolas,'Courier New',monospace\"><span style=\"color: #7fbfbf; text-decoration-color: #7fbfbf\">2025-01-07 14:49:27 </span><span style=\"color: #000080; text-decoration-color: #000080\">INFO    </span> Iteration <span style=\"color: #008080; text-decoration-color: #008080; font-weight: bold\">23</span>, Permutation P_1: <span style=\"color: #008080; text-decoration-color: #008080; font-weight: bold\">-22.101287841796875</span>                        <a href=\"file:///tmp/ipykernel_132860/1970187617.py\" target=\"_blank\"><span style=\"color: #7f7f7f; text-decoration-color: #7f7f7f\">__main__</span></a><span style=\"color: #7f7f7f; text-decoration-color: #7f7f7f\">:</span><a href=\"file:///tmp/ipykernel_132860/1970187617.py#142\" target=\"_blank\"><span style=\"color: #7f7f7f; text-decoration-color: #7f7f7f\">142</span></a>\n",
       "</pre>\n"
      ],
      "text/plain": [
       "\u001b[2;36m2025-01-07 14:49:27\u001b[0m\u001b[2;36m \u001b[0m\u001b[34mINFO    \u001b[0m Iteration \u001b[1;36m23\u001b[0m, Permutation P_1: \u001b[1;36m-22.101287841796875\u001b[0m                        \u001b]8;id=735401;file:///tmp/ipykernel_132860/1970187617.py\u001b\\\u001b[2m__main__\u001b[0m\u001b]8;;\u001b\\\u001b[2m:\u001b[0m\u001b]8;id=986396;file:///tmp/ipykernel_132860/1970187617.py#142\u001b\\\u001b[2m142\u001b[0m\u001b]8;;\u001b\\\n"
      ]
     },
     "metadata": {},
     "output_type": "display_data"
    },
    {
     "name": "stderr",
     "output_type": "stream",
     "text": [
      "Weight matching:  24%|██▍       | 24/100 [14:40<49:53, 39.39s/it]"
     ]
    },
    {
     "name": "stdout",
     "output_type": "stream",
     "text": [
      "Permuting P_1\n",
      "Permuting the columns of layer1.weight with P_0, shape: torch.Size([512, 512])\n",
      "w_a shape: torch.Size([512, 1024]), w_b shape: torch.Size([512, 1024])\n",
      "k1: 256, k2: 256\n",
      "Optimization terminated successfully.\n",
      "         Current function value: 305.774361\n",
      "         Iterations: 66\n",
      "         Function evaluations: 115\n",
      "         Gradient evaluations: 115\n"
     ]
    },
    {
     "data": {
      "text/html": [
       "<pre style=\"white-space:pre;overflow-x:auto;line-height:normal;font-family:Menlo,'DejaVu Sans Mono',consolas,'Courier New',monospace\"><span style=\"color: #7fbfbf; text-decoration-color: #7fbfbf\">2025-01-07 14:49:36 </span><span style=\"color: #000080; text-decoration-color: #000080\">INFO    </span> Iteration <span style=\"color: #008080; text-decoration-color: #008080; font-weight: bold\">24</span>, Permutation P_1: <span style=\"color: #008080; text-decoration-color: #008080; font-weight: bold\">0.0</span>                                        <a href=\"file:///tmp/ipykernel_132860/1970187617.py\" target=\"_blank\"><span style=\"color: #7f7f7f; text-decoration-color: #7f7f7f\">__main__</span></a><span style=\"color: #7f7f7f; text-decoration-color: #7f7f7f\">:</span><a href=\"file:///tmp/ipykernel_132860/1970187617.py#142\" target=\"_blank\"><span style=\"color: #7f7f7f; text-decoration-color: #7f7f7f\">142</span></a>\n",
       "</pre>\n"
      ],
      "text/plain": [
       "\u001b[2;36m2025-01-07 14:49:36\u001b[0m\u001b[2;36m \u001b[0m\u001b[34mINFO    \u001b[0m Iteration \u001b[1;36m24\u001b[0m, Permutation P_1: \u001b[1;36m0.0\u001b[0m                                        \u001b]8;id=716250;file:///tmp/ipykernel_132860/1970187617.py\u001b\\\u001b[2m__main__\u001b[0m\u001b]8;;\u001b\\\u001b[2m:\u001b[0m\u001b]8;id=255437;file:///tmp/ipykernel_132860/1970187617.py#142\u001b\\\u001b[2m142\u001b[0m\u001b]8;;\u001b\\\n"
      ]
     },
     "metadata": {},
     "output_type": "display_data"
    },
    {
     "name": "stdout",
     "output_type": "stream",
     "text": [
      "Permuting P_0\n",
      "w_a shape: torch.Size([512, 1296]), w_b shape: torch.Size([512, 1296])\n",
      "k1: 256, k2: 256\n",
      "Optimization terminated successfully.\n",
      "         Current function value: 337.396826\n",
      "         Iterations: 93\n",
      "         Function evaluations: 150\n",
      "         Gradient evaluations: 150\n"
     ]
    },
    {
     "data": {
      "text/html": [
       "<pre style=\"white-space:pre;overflow-x:auto;line-height:normal;font-family:Menlo,'DejaVu Sans Mono',consolas,'Courier New',monospace\"><span style=\"color: #7fbfbf; text-decoration-color: #7fbfbf\">2025-01-07 14:49:44 </span><span style=\"color: #000080; text-decoration-color: #000080\">INFO    </span> Iteration <span style=\"color: #008080; text-decoration-color: #008080; font-weight: bold\">24</span>, Permutation P_0: <span style=\"color: #008080; text-decoration-color: #008080; font-weight: bold\">-10.11871337890625</span>                         <a href=\"file:///tmp/ipykernel_132860/1970187617.py\" target=\"_blank\"><span style=\"color: #7f7f7f; text-decoration-color: #7f7f7f\">__main__</span></a><span style=\"color: #7f7f7f; text-decoration-color: #7f7f7f\">:</span><a href=\"file:///tmp/ipykernel_132860/1970187617.py#142\" target=\"_blank\"><span style=\"color: #7f7f7f; text-decoration-color: #7f7f7f\">142</span></a>\n",
       "</pre>\n"
      ],
      "text/plain": [
       "\u001b[2;36m2025-01-07 14:49:44\u001b[0m\u001b[2;36m \u001b[0m\u001b[34mINFO    \u001b[0m Iteration \u001b[1;36m24\u001b[0m, Permutation P_0: \u001b[1;36m-10.11871337890625\u001b[0m                         \u001b]8;id=388196;file:///tmp/ipykernel_132860/1970187617.py\u001b\\\u001b[2m__main__\u001b[0m\u001b]8;;\u001b\\\u001b[2m:\u001b[0m\u001b]8;id=940009;file:///tmp/ipykernel_132860/1970187617.py#142\u001b\\\u001b[2m142\u001b[0m\u001b]8;;\u001b\\\n"
      ]
     },
     "metadata": {},
     "output_type": "display_data"
    },
    {
     "name": "stdout",
     "output_type": "stream",
     "text": [
      "Permuting P_3\n",
      "Permuting the columns of layer3.weight with P_2, shape: torch.Size([512, 512])\n",
      "w_a shape: torch.Size([256, 539]), w_b shape: torch.Size([256, 539])\n",
      "k1: 128, k2: 128\n",
      "Optimization terminated successfully.\n",
      "         Current function value: 62.073457\n",
      "         Iterations: 57\n",
      "         Function evaluations: 94\n",
      "         Gradient evaluations: 94\n"
     ]
    },
    {
     "data": {
      "text/html": [
       "<pre style=\"white-space:pre;overflow-x:auto;line-height:normal;font-family:Menlo,'DejaVu Sans Mono',consolas,'Courier New',monospace\"><span style=\"color: #7fbfbf; text-decoration-color: #7fbfbf\">2025-01-07 14:49:48 </span><span style=\"color: #000080; text-decoration-color: #000080\">INFO    </span> Iteration <span style=\"color: #008080; text-decoration-color: #008080; font-weight: bold\">24</span>, Permutation P_3: <span style=\"color: #008080; text-decoration-color: #008080; font-weight: bold\">2.2212562561035156</span>                         <a href=\"file:///tmp/ipykernel_132860/1970187617.py\" target=\"_blank\"><span style=\"color: #7f7f7f; text-decoration-color: #7f7f7f\">__main__</span></a><span style=\"color: #7f7f7f; text-decoration-color: #7f7f7f\">:</span><a href=\"file:///tmp/ipykernel_132860/1970187617.py#142\" target=\"_blank\"><span style=\"color: #7f7f7f; text-decoration-color: #7f7f7f\">142</span></a>\n",
       "</pre>\n"
      ],
      "text/plain": [
       "\u001b[2;36m2025-01-07 14:49:48\u001b[0m\u001b[2;36m \u001b[0m\u001b[34mINFO    \u001b[0m Iteration \u001b[1;36m24\u001b[0m, Permutation P_3: \u001b[1;36m2.2212562561035156\u001b[0m                         \u001b]8;id=722878;file:///tmp/ipykernel_132860/1970187617.py\u001b\\\u001b[2m__main__\u001b[0m\u001b]8;;\u001b\\\u001b[2m:\u001b[0m\u001b]8;id=54454;file:///tmp/ipykernel_132860/1970187617.py#142\u001b\\\u001b[2m142\u001b[0m\u001b]8;;\u001b\\\n"
      ]
     },
     "metadata": {},
     "output_type": "display_data"
    },
    {
     "name": "stdout",
     "output_type": "stream",
     "text": [
      "Permuting P_2\n",
      "Permuting the columns of layer2.weight with P_1, shape: torch.Size([512, 512])\n",
      "w_a shape: torch.Size([512, 768]), w_b shape: torch.Size([512, 768])\n",
      "k1: 256, k2: 256\n",
      "Optimization terminated successfully.\n",
      "         Current function value: 187.817833\n",
      "         Iterations: 100\n",
      "         Function evaluations: 155\n",
      "         Gradient evaluations: 155\n"
     ]
    },
    {
     "data": {
      "text/html": [
       "<pre style=\"white-space:pre;overflow-x:auto;line-height:normal;font-family:Menlo,'DejaVu Sans Mono',consolas,'Courier New',monospace\"><span style=\"color: #7fbfbf; text-decoration-color: #7fbfbf\">2025-01-07 14:49:54 </span><span style=\"color: #000080; text-decoration-color: #000080\">INFO    </span> Iteration <span style=\"color: #008080; text-decoration-color: #008080; font-weight: bold\">24</span>, Permutation P_2: <span style=\"color: #008080; text-decoration-color: #008080; font-weight: bold\">7.017120361328125</span>                          <a href=\"file:///tmp/ipykernel_132860/1970187617.py\" target=\"_blank\"><span style=\"color: #7f7f7f; text-decoration-color: #7f7f7f\">__main__</span></a><span style=\"color: #7f7f7f; text-decoration-color: #7f7f7f\">:</span><a href=\"file:///tmp/ipykernel_132860/1970187617.py#142\" target=\"_blank\"><span style=\"color: #7f7f7f; text-decoration-color: #7f7f7f\">142</span></a>\n",
       "</pre>\n"
      ],
      "text/plain": [
       "\u001b[2;36m2025-01-07 14:49:54\u001b[0m\u001b[2;36m \u001b[0m\u001b[34mINFO    \u001b[0m Iteration \u001b[1;36m24\u001b[0m, Permutation P_2: \u001b[1;36m7.017120361328125\u001b[0m                          \u001b]8;id=17603;file:///tmp/ipykernel_132860/1970187617.py\u001b\\\u001b[2m__main__\u001b[0m\u001b]8;;\u001b\\\u001b[2m:\u001b[0m\u001b]8;id=251667;file:///tmp/ipykernel_132860/1970187617.py#142\u001b\\\u001b[2m142\u001b[0m\u001b]8;;\u001b\\\n"
      ]
     },
     "metadata": {},
     "output_type": "display_data"
    },
    {
     "name": "stderr",
     "output_type": "stream",
     "text": [
      "Weight matching:  25%|██▌       | 25/100 [15:08<44:47, 35.83s/it]"
     ]
    },
    {
     "name": "stdout",
     "output_type": "stream",
     "text": [
      "Permuting P_3\n",
      "Permuting the columns of layer3.weight with P_2, shape: torch.Size([512, 512])\n",
      "w_a shape: torch.Size([256, 539]), w_b shape: torch.Size([256, 539])\n",
      "k1: 128, k2: 128\n",
      "Optimization terminated successfully.\n",
      "         Current function value: 62.098201\n",
      "         Iterations: 63\n",
      "         Function evaluations: 102\n",
      "         Gradient evaluations: 102\n"
     ]
    },
    {
     "data": {
      "text/html": [
       "<pre style=\"white-space:pre;overflow-x:auto;line-height:normal;font-family:Menlo,'DejaVu Sans Mono',consolas,'Courier New',monospace\"><span style=\"color: #7fbfbf; text-decoration-color: #7fbfbf\">2025-01-07 14:49:59 </span><span style=\"color: #000080; text-decoration-color: #000080\">INFO    </span> Iteration <span style=\"color: #008080; text-decoration-color: #008080; font-weight: bold\">25</span>, Permutation P_3: <span style=\"color: #008080; text-decoration-color: #008080; font-weight: bold\">2.2502174377441406</span>                         <a href=\"file:///tmp/ipykernel_132860/1970187617.py\" target=\"_blank\"><span style=\"color: #7f7f7f; text-decoration-color: #7f7f7f\">__main__</span></a><span style=\"color: #7f7f7f; text-decoration-color: #7f7f7f\">:</span><a href=\"file:///tmp/ipykernel_132860/1970187617.py#142\" target=\"_blank\"><span style=\"color: #7f7f7f; text-decoration-color: #7f7f7f\">142</span></a>\n",
       "</pre>\n"
      ],
      "text/plain": [
       "\u001b[2;36m2025-01-07 14:49:59\u001b[0m\u001b[2;36m \u001b[0m\u001b[34mINFO    \u001b[0m Iteration \u001b[1;36m25\u001b[0m, Permutation P_3: \u001b[1;36m2.2502174377441406\u001b[0m                         \u001b]8;id=220504;file:///tmp/ipykernel_132860/1970187617.py\u001b\\\u001b[2m__main__\u001b[0m\u001b]8;;\u001b\\\u001b[2m:\u001b[0m\u001b]8;id=562368;file:///tmp/ipykernel_132860/1970187617.py#142\u001b\\\u001b[2m142\u001b[0m\u001b]8;;\u001b\\\n"
      ]
     },
     "metadata": {},
     "output_type": "display_data"
    },
    {
     "name": "stdout",
     "output_type": "stream",
     "text": [
      "Permuting P_0\n",
      "w_a shape: torch.Size([512, 1296]), w_b shape: torch.Size([512, 1296])\n",
      "k1: 256, k2: 256\n",
      "Optimization terminated successfully.\n",
      "         Current function value: 337.396826\n",
      "         Iterations: 93\n",
      "         Function evaluations: 150\n",
      "         Gradient evaluations: 150\n"
     ]
    },
    {
     "data": {
      "text/html": [
       "<pre style=\"white-space:pre;overflow-x:auto;line-height:normal;font-family:Menlo,'DejaVu Sans Mono',consolas,'Courier New',monospace\"><span style=\"color: #7fbfbf; text-decoration-color: #7fbfbf\">2025-01-07 14:50:07 </span><span style=\"color: #000080; text-decoration-color: #000080\">INFO    </span> Iteration <span style=\"color: #008080; text-decoration-color: #008080; font-weight: bold\">25</span>, Permutation P_0: <span style=\"color: #008080; text-decoration-color: #008080; font-weight: bold\">0.0</span>                                        <a href=\"file:///tmp/ipykernel_132860/1970187617.py\" target=\"_blank\"><span style=\"color: #7f7f7f; text-decoration-color: #7f7f7f\">__main__</span></a><span style=\"color: #7f7f7f; text-decoration-color: #7f7f7f\">:</span><a href=\"file:///tmp/ipykernel_132860/1970187617.py#142\" target=\"_blank\"><span style=\"color: #7f7f7f; text-decoration-color: #7f7f7f\">142</span></a>\n",
       "</pre>\n"
      ],
      "text/plain": [
       "\u001b[2;36m2025-01-07 14:50:07\u001b[0m\u001b[2;36m \u001b[0m\u001b[34mINFO    \u001b[0m Iteration \u001b[1;36m25\u001b[0m, Permutation P_0: \u001b[1;36m0.0\u001b[0m                                        \u001b]8;id=156381;file:///tmp/ipykernel_132860/1970187617.py\u001b\\\u001b[2m__main__\u001b[0m\u001b]8;;\u001b\\\u001b[2m:\u001b[0m\u001b]8;id=948339;file:///tmp/ipykernel_132860/1970187617.py#142\u001b\\\u001b[2m142\u001b[0m\u001b]8;;\u001b\\\n"
      ]
     },
     "metadata": {},
     "output_type": "display_data"
    },
    {
     "name": "stdout",
     "output_type": "stream",
     "text": [
      "Permuting P_2\n",
      "Permuting the columns of layer2.weight with P_1, shape: torch.Size([512, 512])\n",
      "w_a shape: torch.Size([512, 768]), w_b shape: torch.Size([512, 768])\n",
      "k1: 256, k2: 256\n",
      "Optimization terminated successfully.\n",
      "         Current function value: 187.037434\n",
      "         Iterations: 111\n",
      "         Function evaluations: 169\n",
      "         Gradient evaluations: 169\n"
     ]
    },
    {
     "data": {
      "text/html": [
       "<pre style=\"white-space:pre;overflow-x:auto;line-height:normal;font-family:Menlo,'DejaVu Sans Mono',consolas,'Courier New',monospace\"><span style=\"color: #7fbfbf; text-decoration-color: #7fbfbf\">2025-01-07 14:50:16 </span><span style=\"color: #000080; text-decoration-color: #000080\">INFO    </span> Iteration <span style=\"color: #008080; text-decoration-color: #008080; font-weight: bold\">25</span>, Permutation P_2: <span style=\"color: #008080; text-decoration-color: #008080; font-weight: bold\">4.250984191894531</span>                          <a href=\"file:///tmp/ipykernel_132860/1970187617.py\" target=\"_blank\"><span style=\"color: #7f7f7f; text-decoration-color: #7f7f7f\">__main__</span></a><span style=\"color: #7f7f7f; text-decoration-color: #7f7f7f\">:</span><a href=\"file:///tmp/ipykernel_132860/1970187617.py#142\" target=\"_blank\"><span style=\"color: #7f7f7f; text-decoration-color: #7f7f7f\">142</span></a>\n",
       "</pre>\n"
      ],
      "text/plain": [
       "\u001b[2;36m2025-01-07 14:50:16\u001b[0m\u001b[2;36m \u001b[0m\u001b[34mINFO    \u001b[0m Iteration \u001b[1;36m25\u001b[0m, Permutation P_2: \u001b[1;36m4.250984191894531\u001b[0m                          \u001b]8;id=138632;file:///tmp/ipykernel_132860/1970187617.py\u001b\\\u001b[2m__main__\u001b[0m\u001b]8;;\u001b\\\u001b[2m:\u001b[0m\u001b]8;id=420655;file:///tmp/ipykernel_132860/1970187617.py#142\u001b\\\u001b[2m142\u001b[0m\u001b]8;;\u001b\\\n"
      ]
     },
     "metadata": {},
     "output_type": "display_data"
    },
    {
     "name": "stdout",
     "output_type": "stream",
     "text": [
      "Permuting P_1\n",
      "Permuting the columns of layer1.weight with P_0, shape: torch.Size([512, 512])\n",
      "w_a shape: torch.Size([512, 1024]), w_b shape: torch.Size([512, 1024])\n",
      "k1: 256, k2: 256\n",
      "Optimization terminated successfully.\n",
      "         Current function value: 305.048221\n",
      "         Iterations: 69\n",
      "         Function evaluations: 124\n",
      "         Gradient evaluations: 124\n"
     ]
    },
    {
     "data": {
      "text/html": [
       "<pre style=\"white-space:pre;overflow-x:auto;line-height:normal;font-family:Menlo,'DejaVu Sans Mono',consolas,'Courier New',monospace\"><span style=\"color: #7fbfbf; text-decoration-color: #7fbfbf\">2025-01-07 14:50:24 </span><span style=\"color: #000080; text-decoration-color: #000080\">INFO    </span> Iteration <span style=\"color: #008080; text-decoration-color: #008080; font-weight: bold\">25</span>, Permutation P_1: <span style=\"color: #008080; text-decoration-color: #008080; font-weight: bold\">-4.8798828125</span>                              <a href=\"file:///tmp/ipykernel_132860/1970187617.py\" target=\"_blank\"><span style=\"color: #7f7f7f; text-decoration-color: #7f7f7f\">__main__</span></a><span style=\"color: #7f7f7f; text-decoration-color: #7f7f7f\">:</span><a href=\"file:///tmp/ipykernel_132860/1970187617.py#142\" target=\"_blank\"><span style=\"color: #7f7f7f; text-decoration-color: #7f7f7f\">142</span></a>\n",
       "</pre>\n"
      ],
      "text/plain": [
       "\u001b[2;36m2025-01-07 14:50:24\u001b[0m\u001b[2;36m \u001b[0m\u001b[34mINFO    \u001b[0m Iteration \u001b[1;36m25\u001b[0m, Permutation P_1: \u001b[1;36m-4.8798828125\u001b[0m                              \u001b]8;id=418697;file:///tmp/ipykernel_132860/1970187617.py\u001b\\\u001b[2m__main__\u001b[0m\u001b]8;;\u001b\\\u001b[2m:\u001b[0m\u001b]8;id=267232;file:///tmp/ipykernel_132860/1970187617.py#142\u001b\\\u001b[2m142\u001b[0m\u001b]8;;\u001b\\\n"
      ]
     },
     "metadata": {},
     "output_type": "display_data"
    },
    {
     "name": "stderr",
     "output_type": "stream",
     "text": [
      "Weight matching:  26%|██▌       | 26/100 [15:38<41:59, 34.04s/it]"
     ]
    },
    {
     "name": "stdout",
     "output_type": "stream",
     "text": [
      "Permuting P_0\n",
      "w_a shape: torch.Size([512, 1296]), w_b shape: torch.Size([512, 1296])\n",
      "k1: 256, k2: 256\n",
      "Optimization terminated successfully.\n",
      "         Current function value: 336.389513\n",
      "         Iterations: 100\n",
      "         Function evaluations: 161\n",
      "         Gradient evaluations: 161\n"
     ]
    },
    {
     "data": {
      "text/html": [
       "<pre style=\"white-space:pre;overflow-x:auto;line-height:normal;font-family:Menlo,'DejaVu Sans Mono',consolas,'Courier New',monospace\"><span style=\"color: #7fbfbf; text-decoration-color: #7fbfbf\">2025-01-07 14:50:35 </span><span style=\"color: #000080; text-decoration-color: #000080\">INFO    </span> Iteration <span style=\"color: #008080; text-decoration-color: #008080; font-weight: bold\">26</span>, Permutation P_0: <span style=\"color: #008080; text-decoration-color: #008080; font-weight: bold\">12.72735595703125</span>                          <a href=\"file:///tmp/ipykernel_132860/1970187617.py\" target=\"_blank\"><span style=\"color: #7f7f7f; text-decoration-color: #7f7f7f\">__main__</span></a><span style=\"color: #7f7f7f; text-decoration-color: #7f7f7f\">:</span><a href=\"file:///tmp/ipykernel_132860/1970187617.py#142\" target=\"_blank\"><span style=\"color: #7f7f7f; text-decoration-color: #7f7f7f\">142</span></a>\n",
       "</pre>\n"
      ],
      "text/plain": [
       "\u001b[2;36m2025-01-07 14:50:35\u001b[0m\u001b[2;36m \u001b[0m\u001b[34mINFO    \u001b[0m Iteration \u001b[1;36m26\u001b[0m, Permutation P_0: \u001b[1;36m12.72735595703125\u001b[0m                          \u001b]8;id=761023;file:///tmp/ipykernel_132860/1970187617.py\u001b\\\u001b[2m__main__\u001b[0m\u001b]8;;\u001b\\\u001b[2m:\u001b[0m\u001b]8;id=635969;file:///tmp/ipykernel_132860/1970187617.py#142\u001b\\\u001b[2m142\u001b[0m\u001b]8;;\u001b\\\n"
      ]
     },
     "metadata": {},
     "output_type": "display_data"
    },
    {
     "name": "stdout",
     "output_type": "stream",
     "text": [
      "Permuting P_2\n",
      "Permuting the columns of layer2.weight with P_1, shape: torch.Size([512, 512])\n",
      "w_a shape: torch.Size([512, 768]), w_b shape: torch.Size([512, 768])\n",
      "k1: 256, k2: 256\n",
      "Optimization terminated successfully.\n",
      "         Current function value: 187.386763\n",
      "         Iterations: 111\n",
      "         Function evaluations: 166\n",
      "         Gradient evaluations: 166\n"
     ]
    },
    {
     "data": {
      "text/html": [
       "<pre style=\"white-space:pre;overflow-x:auto;line-height:normal;font-family:Menlo,'DejaVu Sans Mono',consolas,'Courier New',monospace\"><span style=\"color: #7fbfbf; text-decoration-color: #7fbfbf\">2025-01-07 14:50:45 </span><span style=\"color: #000080; text-decoration-color: #000080\">INFO    </span> Iteration <span style=\"color: #008080; text-decoration-color: #008080; font-weight: bold\">26</span>, Permutation P_2: <span style=\"color: #008080; text-decoration-color: #008080; font-weight: bold\">11.182693481445312</span>                         <a href=\"file:///tmp/ipykernel_132860/1970187617.py\" target=\"_blank\"><span style=\"color: #7f7f7f; text-decoration-color: #7f7f7f\">__main__</span></a><span style=\"color: #7f7f7f; text-decoration-color: #7f7f7f\">:</span><a href=\"file:///tmp/ipykernel_132860/1970187617.py#142\" target=\"_blank\"><span style=\"color: #7f7f7f; text-decoration-color: #7f7f7f\">142</span></a>\n",
       "</pre>\n"
      ],
      "text/plain": [
       "\u001b[2;36m2025-01-07 14:50:45\u001b[0m\u001b[2;36m \u001b[0m\u001b[34mINFO    \u001b[0m Iteration \u001b[1;36m26\u001b[0m, Permutation P_2: \u001b[1;36m11.182693481445312\u001b[0m                         \u001b]8;id=479640;file:///tmp/ipykernel_132860/1970187617.py\u001b\\\u001b[2m__main__\u001b[0m\u001b]8;;\u001b\\\u001b[2m:\u001b[0m\u001b]8;id=272087;file:///tmp/ipykernel_132860/1970187617.py#142\u001b\\\u001b[2m142\u001b[0m\u001b]8;;\u001b\\\n"
      ]
     },
     "metadata": {},
     "output_type": "display_data"
    },
    {
     "name": "stdout",
     "output_type": "stream",
     "text": [
      "Permuting P_1\n",
      "Permuting the columns of layer1.weight with P_0, shape: torch.Size([512, 512])\n",
      "w_a shape: torch.Size([512, 1024]), w_b shape: torch.Size([512, 1024])\n",
      "k1: 256, k2: 256\n",
      "Optimization terminated successfully.\n",
      "         Current function value: 305.035042\n",
      "         Iterations: 70\n",
      "         Function evaluations: 114\n",
      "         Gradient evaluations: 114\n"
     ]
    },
    {
     "data": {
      "text/html": [
       "<pre style=\"white-space:pre;overflow-x:auto;line-height:normal;font-family:Menlo,'DejaVu Sans Mono',consolas,'Courier New',monospace\"><span style=\"color: #7fbfbf; text-decoration-color: #7fbfbf\">2025-01-07 14:50:55 </span><span style=\"color: #000080; text-decoration-color: #000080\">INFO    </span> Iteration <span style=\"color: #008080; text-decoration-color: #008080; font-weight: bold\">26</span>, Permutation P_1: <span style=\"color: #008080; text-decoration-color: #008080; font-weight: bold\">-4.9873199462890625</span>                        <a href=\"file:///tmp/ipykernel_132860/1970187617.py\" target=\"_blank\"><span style=\"color: #7f7f7f; text-decoration-color: #7f7f7f\">__main__</span></a><span style=\"color: #7f7f7f; text-decoration-color: #7f7f7f\">:</span><a href=\"file:///tmp/ipykernel_132860/1970187617.py#142\" target=\"_blank\"><span style=\"color: #7f7f7f; text-decoration-color: #7f7f7f\">142</span></a>\n",
       "</pre>\n"
      ],
      "text/plain": [
       "\u001b[2;36m2025-01-07 14:50:55\u001b[0m\u001b[2;36m \u001b[0m\u001b[34mINFO    \u001b[0m Iteration \u001b[1;36m26\u001b[0m, Permutation P_1: \u001b[1;36m-4.9873199462890625\u001b[0m                        \u001b]8;id=611174;file:///tmp/ipykernel_132860/1970187617.py\u001b\\\u001b[2m__main__\u001b[0m\u001b]8;;\u001b\\\u001b[2m:\u001b[0m\u001b]8;id=183056;file:///tmp/ipykernel_132860/1970187617.py#142\u001b\\\u001b[2m142\u001b[0m\u001b]8;;\u001b\\\n"
      ]
     },
     "metadata": {},
     "output_type": "display_data"
    },
    {
     "name": "stdout",
     "output_type": "stream",
     "text": [
      "Permuting P_3\n",
      "Permuting the columns of layer3.weight with P_2, shape: torch.Size([512, 512])\n",
      "w_a shape: torch.Size([256, 539]), w_b shape: torch.Size([256, 539])\n",
      "k1: 128, k2: 128\n",
      "Optimization terminated successfully.\n",
      "         Current function value: 61.828934\n",
      "         Iterations: 62\n",
      "         Function evaluations: 104\n",
      "         Gradient evaluations: 104\n"
     ]
    },
    {
     "data": {
      "text/html": [
       "<pre style=\"white-space:pre;overflow-x:auto;line-height:normal;font-family:Menlo,'DejaVu Sans Mono',consolas,'Courier New',monospace\"><span style=\"color: #7fbfbf; text-decoration-color: #7fbfbf\">2025-01-07 14:51:00 </span><span style=\"color: #000080; text-decoration-color: #000080\">INFO    </span> Iteration <span style=\"color: #008080; text-decoration-color: #008080; font-weight: bold\">26</span>, Permutation P_3: <span style=\"color: #008080; text-decoration-color: #008080; font-weight: bold\">4.303043365478516</span>                          <a href=\"file:///tmp/ipykernel_132860/1970187617.py\" target=\"_blank\"><span style=\"color: #7f7f7f; text-decoration-color: #7f7f7f\">__main__</span></a><span style=\"color: #7f7f7f; text-decoration-color: #7f7f7f\">:</span><a href=\"file:///tmp/ipykernel_132860/1970187617.py#142\" target=\"_blank\"><span style=\"color: #7f7f7f; text-decoration-color: #7f7f7f\">142</span></a>\n",
       "</pre>\n"
      ],
      "text/plain": [
       "\u001b[2;36m2025-01-07 14:51:00\u001b[0m\u001b[2;36m \u001b[0m\u001b[34mINFO    \u001b[0m Iteration \u001b[1;36m26\u001b[0m, Permutation P_3: \u001b[1;36m4.303043365478516\u001b[0m                          \u001b]8;id=959477;file:///tmp/ipykernel_132860/1970187617.py\u001b\\\u001b[2m__main__\u001b[0m\u001b]8;;\u001b\\\u001b[2m:\u001b[0m\u001b]8;id=629270;file:///tmp/ipykernel_132860/1970187617.py#142\u001b\\\u001b[2m142\u001b[0m\u001b]8;;\u001b\\\n"
      ]
     },
     "metadata": {},
     "output_type": "display_data"
    },
    {
     "name": "stderr",
     "output_type": "stream",
     "text": [
      "Weight matching:  27%|██▋       | 27/100 [16:14<42:03, 34.57s/it]"
     ]
    },
    {
     "name": "stdout",
     "output_type": "stream",
     "text": [
      "Permuting P_1\n",
      "Permuting the columns of layer1.weight with P_0, shape: torch.Size([512, 512])\n",
      "w_a shape: torch.Size([512, 1024]), w_b shape: torch.Size([512, 1024])\n",
      "k1: 256, k2: 256\n",
      "Optimization terminated successfully.\n",
      "         Current function value: 305.035042\n",
      "         Iterations: 70\n",
      "         Function evaluations: 114\n",
      "         Gradient evaluations: 114\n"
     ]
    },
    {
     "data": {
      "text/html": [
       "<pre style=\"white-space:pre;overflow-x:auto;line-height:normal;font-family:Menlo,'DejaVu Sans Mono',consolas,'Courier New',monospace\"><span style=\"color: #7fbfbf; text-decoration-color: #7fbfbf\">2025-01-07 14:51:09 </span><span style=\"color: #000080; text-decoration-color: #000080\">INFO    </span> Iteration <span style=\"color: #008080; text-decoration-color: #008080; font-weight: bold\">27</span>, Permutation P_1: <span style=\"color: #008080; text-decoration-color: #008080; font-weight: bold\">0.0</span>                                        <a href=\"file:///tmp/ipykernel_132860/1970187617.py\" target=\"_blank\"><span style=\"color: #7f7f7f; text-decoration-color: #7f7f7f\">__main__</span></a><span style=\"color: #7f7f7f; text-decoration-color: #7f7f7f\">:</span><a href=\"file:///tmp/ipykernel_132860/1970187617.py#142\" target=\"_blank\"><span style=\"color: #7f7f7f; text-decoration-color: #7f7f7f\">142</span></a>\n",
       "</pre>\n"
      ],
      "text/plain": [
       "\u001b[2;36m2025-01-07 14:51:09\u001b[0m\u001b[2;36m \u001b[0m\u001b[34mINFO    \u001b[0m Iteration \u001b[1;36m27\u001b[0m, Permutation P_1: \u001b[1;36m0.0\u001b[0m                                        \u001b]8;id=904583;file:///tmp/ipykernel_132860/1970187617.py\u001b\\\u001b[2m__main__\u001b[0m\u001b]8;;\u001b\\\u001b[2m:\u001b[0m\u001b]8;id=436136;file:///tmp/ipykernel_132860/1970187617.py#142\u001b\\\u001b[2m142\u001b[0m\u001b]8;;\u001b\\\n"
      ]
     },
     "metadata": {},
     "output_type": "display_data"
    },
    {
     "name": "stdout",
     "output_type": "stream",
     "text": [
      "Permuting P_3\n",
      "Permuting the columns of layer3.weight with P_2, shape: torch.Size([512, 512])\n",
      "w_a shape: torch.Size([256, 539]), w_b shape: torch.Size([256, 539])\n",
      "k1: 128, k2: 128\n",
      "Optimization terminated successfully.\n",
      "         Current function value: 61.828934\n",
      "         Iterations: 62\n",
      "         Function evaluations: 104\n",
      "         Gradient evaluations: 104\n"
     ]
    },
    {
     "data": {
      "text/html": [
       "<pre style=\"white-space:pre;overflow-x:auto;line-height:normal;font-family:Menlo,'DejaVu Sans Mono',consolas,'Courier New',monospace\"><span style=\"color: #7fbfbf; text-decoration-color: #7fbfbf\">2025-01-07 14:51:14 </span><span style=\"color: #000080; text-decoration-color: #000080\">INFO    </span> Iteration <span style=\"color: #008080; text-decoration-color: #008080; font-weight: bold\">27</span>, Permutation P_3: <span style=\"color: #008080; text-decoration-color: #008080; font-weight: bold\">0.0</span>                                        <a href=\"file:///tmp/ipykernel_132860/1970187617.py\" target=\"_blank\"><span style=\"color: #7f7f7f; text-decoration-color: #7f7f7f\">__main__</span></a><span style=\"color: #7f7f7f; text-decoration-color: #7f7f7f\">:</span><a href=\"file:///tmp/ipykernel_132860/1970187617.py#142\" target=\"_blank\"><span style=\"color: #7f7f7f; text-decoration-color: #7f7f7f\">142</span></a>\n",
       "</pre>\n"
      ],
      "text/plain": [
       "\u001b[2;36m2025-01-07 14:51:14\u001b[0m\u001b[2;36m \u001b[0m\u001b[34mINFO    \u001b[0m Iteration \u001b[1;36m27\u001b[0m, Permutation P_3: \u001b[1;36m0.0\u001b[0m                                        \u001b]8;id=673170;file:///tmp/ipykernel_132860/1970187617.py\u001b\\\u001b[2m__main__\u001b[0m\u001b]8;;\u001b\\\u001b[2m:\u001b[0m\u001b]8;id=455616;file:///tmp/ipykernel_132860/1970187617.py#142\u001b\\\u001b[2m142\u001b[0m\u001b]8;;\u001b\\\n"
      ]
     },
     "metadata": {},
     "output_type": "display_data"
    },
    {
     "name": "stdout",
     "output_type": "stream",
     "text": [
      "Permuting P_2\n",
      "Permuting the columns of layer2.weight with P_1, shape: torch.Size([512, 512])\n",
      "w_a shape: torch.Size([512, 768]), w_b shape: torch.Size([512, 768])\n",
      "k1: 256, k2: 256\n",
      "Optimization terminated successfully.\n",
      "         Current function value: 187.348528\n",
      "         Iterations: 114\n",
      "         Function evaluations: 176\n",
      "         Gradient evaluations: 176\n"
     ]
    },
    {
     "data": {
      "text/html": [
       "<pre style=\"white-space:pre;overflow-x:auto;line-height:normal;font-family:Menlo,'DejaVu Sans Mono',consolas,'Courier New',monospace\"><span style=\"color: #7fbfbf; text-decoration-color: #7fbfbf\">2025-01-07 14:51:24 </span><span style=\"color: #000080; text-decoration-color: #000080\">INFO    </span> Iteration <span style=\"color: #008080; text-decoration-color: #008080; font-weight: bold\">27</span>, Permutation P_2: <span style=\"color: #008080; text-decoration-color: #008080; font-weight: bold\">9.84478759765625</span>                           <a href=\"file:///tmp/ipykernel_132860/1970187617.py\" target=\"_blank\"><span style=\"color: #7f7f7f; text-decoration-color: #7f7f7f\">__main__</span></a><span style=\"color: #7f7f7f; text-decoration-color: #7f7f7f\">:</span><a href=\"file:///tmp/ipykernel_132860/1970187617.py#142\" target=\"_blank\"><span style=\"color: #7f7f7f; text-decoration-color: #7f7f7f\">142</span></a>\n",
       "</pre>\n"
      ],
      "text/plain": [
       "\u001b[2;36m2025-01-07 14:51:24\u001b[0m\u001b[2;36m \u001b[0m\u001b[34mINFO    \u001b[0m Iteration \u001b[1;36m27\u001b[0m, Permutation P_2: \u001b[1;36m9.84478759765625\u001b[0m                           \u001b]8;id=500144;file:///tmp/ipykernel_132860/1970187617.py\u001b\\\u001b[2m__main__\u001b[0m\u001b]8;;\u001b\\\u001b[2m:\u001b[0m\u001b]8;id=585694;file:///tmp/ipykernel_132860/1970187617.py#142\u001b\\\u001b[2m142\u001b[0m\u001b]8;;\u001b\\\n"
      ]
     },
     "metadata": {},
     "output_type": "display_data"
    },
    {
     "name": "stdout",
     "output_type": "stream",
     "text": [
      "Permuting P_0\n",
      "w_a shape: torch.Size([512, 1296]), w_b shape: torch.Size([512, 1296])\n",
      "k1: 256, k2: 256\n",
      "Optimization terminated successfully.\n",
      "         Current function value: 334.720650\n",
      "         Iterations: 95\n",
      "         Function evaluations: 150\n",
      "         Gradient evaluations: 150\n"
     ]
    },
    {
     "data": {
      "text/html": [
       "<pre style=\"white-space:pre;overflow-x:auto;line-height:normal;font-family:Menlo,'DejaVu Sans Mono',consolas,'Courier New',monospace\"><span style=\"color: #7fbfbf; text-decoration-color: #7fbfbf\">2025-01-07 14:51:36 </span><span style=\"color: #000080; text-decoration-color: #000080\">INFO    </span> Iteration <span style=\"color: #008080; text-decoration-color: #008080; font-weight: bold\">27</span>, Permutation P_0: <span style=\"color: #008080; text-decoration-color: #008080; font-weight: bold\">-7.1080322265625</span>                           <a href=\"file:///tmp/ipykernel_132860/1970187617.py\" target=\"_blank\"><span style=\"color: #7f7f7f; text-decoration-color: #7f7f7f\">__main__</span></a><span style=\"color: #7f7f7f; text-decoration-color: #7f7f7f\">:</span><a href=\"file:///tmp/ipykernel_132860/1970187617.py#142\" target=\"_blank\"><span style=\"color: #7f7f7f; text-decoration-color: #7f7f7f\">142</span></a>\n",
       "</pre>\n"
      ],
      "text/plain": [
       "\u001b[2;36m2025-01-07 14:51:36\u001b[0m\u001b[2;36m \u001b[0m\u001b[34mINFO    \u001b[0m Iteration \u001b[1;36m27\u001b[0m, Permutation P_0: \u001b[1;36m-7.1080322265625\u001b[0m                           \u001b]8;id=294243;file:///tmp/ipykernel_132860/1970187617.py\u001b\\\u001b[2m__main__\u001b[0m\u001b]8;;\u001b\\\u001b[2m:\u001b[0m\u001b]8;id=563565;file:///tmp/ipykernel_132860/1970187617.py#142\u001b\\\u001b[2m142\u001b[0m\u001b]8;;\u001b\\\n"
      ]
     },
     "metadata": {},
     "output_type": "display_data"
    },
    {
     "name": "stderr",
     "output_type": "stream",
     "text": [
      "Weight matching:  28%|██▊       | 28/100 [16:50<42:08, 35.12s/it]"
     ]
    },
    {
     "name": "stdout",
     "output_type": "stream",
     "text": [
      "Permuting P_2\n",
      "Permuting the columns of layer2.weight with P_1, shape: torch.Size([512, 512])\n",
      "w_a shape: torch.Size([512, 768]), w_b shape: torch.Size([512, 768])\n",
      "k1: 256, k2: 256\n",
      "Optimization terminated successfully.\n",
      "         Current function value: 187.348528\n",
      "         Iterations: 114\n",
      "         Function evaluations: 176\n",
      "         Gradient evaluations: 176\n"
     ]
    },
    {
     "data": {
      "text/html": [
       "<pre style=\"white-space:pre;overflow-x:auto;line-height:normal;font-family:Menlo,'DejaVu Sans Mono',consolas,'Courier New',monospace\"><span style=\"color: #7fbfbf; text-decoration-color: #7fbfbf\">2025-01-07 14:51:49 </span><span style=\"color: #000080; text-decoration-color: #000080\">INFO    </span> Iteration <span style=\"color: #008080; text-decoration-color: #008080; font-weight: bold\">28</span>, Permutation P_2: <span style=\"color: #008080; text-decoration-color: #008080; font-weight: bold\">0.0</span>                                        <a href=\"file:///tmp/ipykernel_132860/1970187617.py\" target=\"_blank\"><span style=\"color: #7f7f7f; text-decoration-color: #7f7f7f\">__main__</span></a><span style=\"color: #7f7f7f; text-decoration-color: #7f7f7f\">:</span><a href=\"file:///tmp/ipykernel_132860/1970187617.py#142\" target=\"_blank\"><span style=\"color: #7f7f7f; text-decoration-color: #7f7f7f\">142</span></a>\n",
       "</pre>\n"
      ],
      "text/plain": [
       "\u001b[2;36m2025-01-07 14:51:49\u001b[0m\u001b[2;36m \u001b[0m\u001b[34mINFO    \u001b[0m Iteration \u001b[1;36m28\u001b[0m, Permutation P_2: \u001b[1;36m0.0\u001b[0m                                        \u001b]8;id=412179;file:///tmp/ipykernel_132860/1970187617.py\u001b\\\u001b[2m__main__\u001b[0m\u001b]8;;\u001b\\\u001b[2m:\u001b[0m\u001b]8;id=700308;file:///tmp/ipykernel_132860/1970187617.py#142\u001b\\\u001b[2m142\u001b[0m\u001b]8;;\u001b\\\n"
      ]
     },
     "metadata": {},
     "output_type": "display_data"
    },
    {
     "name": "stdout",
     "output_type": "stream",
     "text": [
      "Permuting P_1\n",
      "Permuting the columns of layer1.weight with P_0, shape: torch.Size([512, 512])\n",
      "w_a shape: torch.Size([512, 1024]), w_b shape: torch.Size([512, 1024])\n",
      "k1: 256, k2: 256\n",
      "Optimization terminated successfully.\n",
      "         Current function value: 304.089937\n",
      "         Iterations: 71\n",
      "         Function evaluations: 120\n",
      "         Gradient evaluations: 120\n"
     ]
    },
    {
     "data": {
      "text/html": [
       "<pre style=\"white-space:pre;overflow-x:auto;line-height:normal;font-family:Menlo,'DejaVu Sans Mono',consolas,'Courier New',monospace\"><span style=\"color: #7fbfbf; text-decoration-color: #7fbfbf\">2025-01-07 14:51:59 </span><span style=\"color: #000080; text-decoration-color: #000080\">INFO    </span> Iteration <span style=\"color: #008080; text-decoration-color: #008080; font-weight: bold\">28</span>, Permutation P_1: <span style=\"color: #008080; text-decoration-color: #008080; font-weight: bold\">-11.307342529296875</span>                        <a href=\"file:///tmp/ipykernel_132860/1970187617.py\" target=\"_blank\"><span style=\"color: #7f7f7f; text-decoration-color: #7f7f7f\">__main__</span></a><span style=\"color: #7f7f7f; text-decoration-color: #7f7f7f\">:</span><a href=\"file:///tmp/ipykernel_132860/1970187617.py#142\" target=\"_blank\"><span style=\"color: #7f7f7f; text-decoration-color: #7f7f7f\">142</span></a>\n",
       "</pre>\n"
      ],
      "text/plain": [
       "\u001b[2;36m2025-01-07 14:51:59\u001b[0m\u001b[2;36m \u001b[0m\u001b[34mINFO    \u001b[0m Iteration \u001b[1;36m28\u001b[0m, Permutation P_1: \u001b[1;36m-11.307342529296875\u001b[0m                        \u001b]8;id=627471;file:///tmp/ipykernel_132860/1970187617.py\u001b\\\u001b[2m__main__\u001b[0m\u001b]8;;\u001b\\\u001b[2m:\u001b[0m\u001b]8;id=650226;file:///tmp/ipykernel_132860/1970187617.py#142\u001b\\\u001b[2m142\u001b[0m\u001b]8;;\u001b\\\n"
      ]
     },
     "metadata": {},
     "output_type": "display_data"
    },
    {
     "name": "stdout",
     "output_type": "stream",
     "text": [
      "Permuting P_0\n",
      "w_a shape: torch.Size([512, 1296]), w_b shape: torch.Size([512, 1296])\n",
      "k1: 256, k2: 256\n",
      "Optimization terminated successfully.\n",
      "         Current function value: 337.338180\n",
      "         Iterations: 96\n",
      "         Function evaluations: 150\n",
      "         Gradient evaluations: 150\n"
     ]
    },
    {
     "data": {
      "text/html": [
       "<pre style=\"white-space:pre;overflow-x:auto;line-height:normal;font-family:Menlo,'DejaVu Sans Mono',consolas,'Courier New',monospace\"><span style=\"color: #7fbfbf; text-decoration-color: #7fbfbf\">2025-01-07 14:52:10 </span><span style=\"color: #000080; text-decoration-color: #000080\">INFO    </span> Iteration <span style=\"color: #008080; text-decoration-color: #008080; font-weight: bold\">28</span>, Permutation P_0: <span style=\"color: #008080; text-decoration-color: #008080; font-weight: bold\">-17.51446533203125</span>                         <a href=\"file:///tmp/ipykernel_132860/1970187617.py\" target=\"_blank\"><span style=\"color: #7f7f7f; text-decoration-color: #7f7f7f\">__main__</span></a><span style=\"color: #7f7f7f; text-decoration-color: #7f7f7f\">:</span><a href=\"file:///tmp/ipykernel_132860/1970187617.py#142\" target=\"_blank\"><span style=\"color: #7f7f7f; text-decoration-color: #7f7f7f\">142</span></a>\n",
       "</pre>\n"
      ],
      "text/plain": [
       "\u001b[2;36m2025-01-07 14:52:10\u001b[0m\u001b[2;36m \u001b[0m\u001b[34mINFO    \u001b[0m Iteration \u001b[1;36m28\u001b[0m, Permutation P_0: \u001b[1;36m-17.51446533203125\u001b[0m                         \u001b]8;id=306283;file:///tmp/ipykernel_132860/1970187617.py\u001b\\\u001b[2m__main__\u001b[0m\u001b]8;;\u001b\\\u001b[2m:\u001b[0m\u001b]8;id=204117;file:///tmp/ipykernel_132860/1970187617.py#142\u001b\\\u001b[2m142\u001b[0m\u001b]8;;\u001b\\\n"
      ]
     },
     "metadata": {},
     "output_type": "display_data"
    },
    {
     "name": "stdout",
     "output_type": "stream",
     "text": [
      "Permuting P_3\n",
      "Permuting the columns of layer3.weight with P_2, shape: torch.Size([512, 512])\n",
      "w_a shape: torch.Size([256, 539]), w_b shape: torch.Size([256, 539])\n",
      "k1: 128, k2: 128\n",
      "Optimization terminated successfully.\n",
      "         Current function value: 62.011112\n",
      "         Iterations: 60\n",
      "         Function evaluations: 97\n",
      "         Gradient evaluations: 97\n"
     ]
    },
    {
     "data": {
      "text/html": [
       "<pre style=\"white-space:pre;overflow-x:auto;line-height:normal;font-family:Menlo,'DejaVu Sans Mono',consolas,'Courier New',monospace\"><span style=\"color: #7fbfbf; text-decoration-color: #7fbfbf\">2025-01-07 14:52:14 </span><span style=\"color: #000080; text-decoration-color: #000080\">INFO    </span> Iteration <span style=\"color: #008080; text-decoration-color: #008080; font-weight: bold\">28</span>, Permutation P_3: <span style=\"color: #008080; text-decoration-color: #008080; font-weight: bold\">5.736354827880859</span>                          <a href=\"file:///tmp/ipykernel_132860/1970187617.py\" target=\"_blank\"><span style=\"color: #7f7f7f; text-decoration-color: #7f7f7f\">__main__</span></a><span style=\"color: #7f7f7f; text-decoration-color: #7f7f7f\">:</span><a href=\"file:///tmp/ipykernel_132860/1970187617.py#142\" target=\"_blank\"><span style=\"color: #7f7f7f; text-decoration-color: #7f7f7f\">142</span></a>\n",
       "</pre>\n"
      ],
      "text/plain": [
       "\u001b[2;36m2025-01-07 14:52:14\u001b[0m\u001b[2;36m \u001b[0m\u001b[34mINFO    \u001b[0m Iteration \u001b[1;36m28\u001b[0m, Permutation P_3: \u001b[1;36m5.736354827880859\u001b[0m                          \u001b]8;id=207382;file:///tmp/ipykernel_132860/1970187617.py\u001b\\\u001b[2m__main__\u001b[0m\u001b]8;;\u001b\\\u001b[2m:\u001b[0m\u001b]8;id=92203;file:///tmp/ipykernel_132860/1970187617.py#142\u001b\\\u001b[2m142\u001b[0m\u001b]8;;\u001b\\\n"
      ]
     },
     "metadata": {},
     "output_type": "display_data"
    },
    {
     "name": "stderr",
     "output_type": "stream",
     "text": [
      "Weight matching:  29%|██▉       | 29/100 [17:28<42:36, 36.01s/it]"
     ]
    },
    {
     "name": "stdout",
     "output_type": "stream",
     "text": [
      "Permuting P_0\n",
      "w_a shape: torch.Size([512, 1296]), w_b shape: torch.Size([512, 1296])\n",
      "k1: 256, k2: 256\n",
      "Optimization terminated successfully.\n",
      "         Current function value: 337.338180\n",
      "         Iterations: 96\n",
      "         Function evaluations: 150\n",
      "         Gradient evaluations: 150\n"
     ]
    },
    {
     "data": {
      "text/html": [
       "<pre style=\"white-space:pre;overflow-x:auto;line-height:normal;font-family:Menlo,'DejaVu Sans Mono',consolas,'Courier New',monospace\"><span style=\"color: #7fbfbf; text-decoration-color: #7fbfbf\">2025-01-07 14:52:28 </span><span style=\"color: #000080; text-decoration-color: #000080\">INFO    </span> Iteration <span style=\"color: #008080; text-decoration-color: #008080; font-weight: bold\">29</span>, Permutation P_0: <span style=\"color: #008080; text-decoration-color: #008080; font-weight: bold\">0.0</span>                                        <a href=\"file:///tmp/ipykernel_132860/1970187617.py\" target=\"_blank\"><span style=\"color: #7f7f7f; text-decoration-color: #7f7f7f\">__main__</span></a><span style=\"color: #7f7f7f; text-decoration-color: #7f7f7f\">:</span><a href=\"file:///tmp/ipykernel_132860/1970187617.py#142\" target=\"_blank\"><span style=\"color: #7f7f7f; text-decoration-color: #7f7f7f\">142</span></a>\n",
       "</pre>\n"
      ],
      "text/plain": [
       "\u001b[2;36m2025-01-07 14:52:28\u001b[0m\u001b[2;36m \u001b[0m\u001b[34mINFO    \u001b[0m Iteration \u001b[1;36m29\u001b[0m, Permutation P_0: \u001b[1;36m0.0\u001b[0m                                        \u001b]8;id=900101;file:///tmp/ipykernel_132860/1970187617.py\u001b\\\u001b[2m__main__\u001b[0m\u001b]8;;\u001b\\\u001b[2m:\u001b[0m\u001b]8;id=828010;file:///tmp/ipykernel_132860/1970187617.py#142\u001b\\\u001b[2m142\u001b[0m\u001b]8;;\u001b\\\n"
      ]
     },
     "metadata": {},
     "output_type": "display_data"
    },
    {
     "name": "stdout",
     "output_type": "stream",
     "text": [
      "Permuting P_2\n",
      "Permuting the columns of layer2.weight with P_1, shape: torch.Size([512, 512])\n",
      "w_a shape: torch.Size([512, 768]), w_b shape: torch.Size([512, 768])\n",
      "k1: 256, k2: 256\n",
      "Optimization terminated successfully.\n",
      "         Current function value: 186.040029\n",
      "         Iterations: 121\n",
      "         Function evaluations: 187\n",
      "         Gradient evaluations: 187\n"
     ]
    },
    {
     "data": {
      "text/html": [
       "<pre style=\"white-space:pre;overflow-x:auto;line-height:normal;font-family:Menlo,'DejaVu Sans Mono',consolas,'Courier New',monospace\"><span style=\"color: #7fbfbf; text-decoration-color: #7fbfbf\">2025-01-07 14:52:40 </span><span style=\"color: #000080; text-decoration-color: #000080\">INFO    </span> Iteration <span style=\"color: #008080; text-decoration-color: #008080; font-weight: bold\">29</span>, Permutation P_2: <span style=\"color: #008080; text-decoration-color: #008080; font-weight: bold\">9.65478515625</span>                              <a href=\"file:///tmp/ipykernel_132860/1970187617.py\" target=\"_blank\"><span style=\"color: #7f7f7f; text-decoration-color: #7f7f7f\">__main__</span></a><span style=\"color: #7f7f7f; text-decoration-color: #7f7f7f\">:</span><a href=\"file:///tmp/ipykernel_132860/1970187617.py#142\" target=\"_blank\"><span style=\"color: #7f7f7f; text-decoration-color: #7f7f7f\">142</span></a>\n",
       "</pre>\n"
      ],
      "text/plain": [
       "\u001b[2;36m2025-01-07 14:52:40\u001b[0m\u001b[2;36m \u001b[0m\u001b[34mINFO    \u001b[0m Iteration \u001b[1;36m29\u001b[0m, Permutation P_2: \u001b[1;36m9.65478515625\u001b[0m                              \u001b]8;id=104215;file:///tmp/ipykernel_132860/1970187617.py\u001b\\\u001b[2m__main__\u001b[0m\u001b]8;;\u001b\\\u001b[2m:\u001b[0m\u001b]8;id=200085;file:///tmp/ipykernel_132860/1970187617.py#142\u001b\\\u001b[2m142\u001b[0m\u001b]8;;\u001b\\\n"
      ]
     },
     "metadata": {},
     "output_type": "display_data"
    },
    {
     "name": "stdout",
     "output_type": "stream",
     "text": [
      "Permuting P_3\n",
      "Permuting the columns of layer3.weight with P_2, shape: torch.Size([512, 512])\n",
      "w_a shape: torch.Size([256, 539]), w_b shape: torch.Size([256, 539])\n",
      "k1: 128, k2: 128\n",
      "Optimization terminated successfully.\n",
      "         Current function value: 61.071115\n",
      "         Iterations: 63\n",
      "         Function evaluations: 107\n",
      "         Gradient evaluations: 107\n"
     ]
    },
    {
     "data": {
      "text/html": [
       "<pre style=\"white-space:pre;overflow-x:auto;line-height:normal;font-family:Menlo,'DejaVu Sans Mono',consolas,'Courier New',monospace\"><span style=\"color: #7fbfbf; text-decoration-color: #7fbfbf\">2025-01-07 14:52:45 </span><span style=\"color: #000080; text-decoration-color: #000080\">INFO    </span> Iteration <span style=\"color: #008080; text-decoration-color: #008080; font-weight: bold\">29</span>, Permutation P_3: <span style=\"color: #008080; text-decoration-color: #008080; font-weight: bold\">5.261772155761719</span>                          <a href=\"file:///tmp/ipykernel_132860/1970187617.py\" target=\"_blank\"><span style=\"color: #7f7f7f; text-decoration-color: #7f7f7f\">__main__</span></a><span style=\"color: #7f7f7f; text-decoration-color: #7f7f7f\">:</span><a href=\"file:///tmp/ipykernel_132860/1970187617.py#142\" target=\"_blank\"><span style=\"color: #7f7f7f; text-decoration-color: #7f7f7f\">142</span></a>\n",
       "</pre>\n"
      ],
      "text/plain": [
       "\u001b[2;36m2025-01-07 14:52:45\u001b[0m\u001b[2;36m \u001b[0m\u001b[34mINFO    \u001b[0m Iteration \u001b[1;36m29\u001b[0m, Permutation P_3: \u001b[1;36m5.261772155761719\u001b[0m                          \u001b]8;id=600903;file:///tmp/ipykernel_132860/1970187617.py\u001b\\\u001b[2m__main__\u001b[0m\u001b]8;;\u001b\\\u001b[2m:\u001b[0m\u001b]8;id=174557;file:///tmp/ipykernel_132860/1970187617.py#142\u001b\\\u001b[2m142\u001b[0m\u001b]8;;\u001b\\\n"
      ]
     },
     "metadata": {},
     "output_type": "display_data"
    },
    {
     "name": "stdout",
     "output_type": "stream",
     "text": [
      "Permuting P_1\n",
      "Permuting the columns of layer1.weight with P_0, shape: torch.Size([512, 512])\n",
      "w_a shape: torch.Size([512, 1024]), w_b shape: torch.Size([512, 1024])\n",
      "k1: 256, k2: 256\n",
      "Optimization terminated successfully.\n",
      "         Current function value: 302.743670\n",
      "         Iterations: 73\n",
      "         Function evaluations: 126\n",
      "         Gradient evaluations: 126\n"
     ]
    },
    {
     "data": {
      "text/html": [
       "<pre style=\"white-space:pre;overflow-x:auto;line-height:normal;font-family:Menlo,'DejaVu Sans Mono',consolas,'Courier New',monospace\"><span style=\"color: #7fbfbf; text-decoration-color: #7fbfbf\">2025-01-07 14:52:55 </span><span style=\"color: #000080; text-decoration-color: #000080\">INFO    </span> Iteration <span style=\"color: #008080; text-decoration-color: #008080; font-weight: bold\">29</span>, Permutation P_1: <span style=\"color: #008080; text-decoration-color: #008080; font-weight: bold\">-10.804855346679688</span>                        <a href=\"file:///tmp/ipykernel_132860/1970187617.py\" target=\"_blank\"><span style=\"color: #7f7f7f; text-decoration-color: #7f7f7f\">__main__</span></a><span style=\"color: #7f7f7f; text-decoration-color: #7f7f7f\">:</span><a href=\"file:///tmp/ipykernel_132860/1970187617.py#142\" target=\"_blank\"><span style=\"color: #7f7f7f; text-decoration-color: #7f7f7f\">142</span></a>\n",
       "</pre>\n"
      ],
      "text/plain": [
       "\u001b[2;36m2025-01-07 14:52:55\u001b[0m\u001b[2;36m \u001b[0m\u001b[34mINFO    \u001b[0m Iteration \u001b[1;36m29\u001b[0m, Permutation P_1: \u001b[1;36m-10.804855346679688\u001b[0m                        \u001b]8;id=790927;file:///tmp/ipykernel_132860/1970187617.py\u001b\\\u001b[2m__main__\u001b[0m\u001b]8;;\u001b\\\u001b[2m:\u001b[0m\u001b]8;id=554832;file:///tmp/ipykernel_132860/1970187617.py#142\u001b\\\u001b[2m142\u001b[0m\u001b]8;;\u001b\\\n"
      ]
     },
     "metadata": {},
     "output_type": "display_data"
    },
    {
     "name": "stderr",
     "output_type": "stream",
     "text": [
      "Weight matching:  30%|███       | 30/100 [18:09<43:43, 37.48s/it]"
     ]
    },
    {
     "name": "stdout",
     "output_type": "stream",
     "text": [
      "Permuting P_3\n",
      "Permuting the columns of layer3.weight with P_2, shape: torch.Size([512, 512])\n",
      "w_a shape: torch.Size([256, 539]), w_b shape: torch.Size([256, 539])\n",
      "k1: 128, k2: 128\n",
      "Optimization terminated successfully.\n",
      "         Current function value: 61.071115\n",
      "         Iterations: 63\n",
      "         Function evaluations: 107\n",
      "         Gradient evaluations: 107\n"
     ]
    },
    {
     "data": {
      "text/html": [
       "<pre style=\"white-space:pre;overflow-x:auto;line-height:normal;font-family:Menlo,'DejaVu Sans Mono',consolas,'Courier New',monospace\"><span style=\"color: #7fbfbf; text-decoration-color: #7fbfbf\">2025-01-07 14:53:01 </span><span style=\"color: #000080; text-decoration-color: #000080\">INFO    </span> Iteration <span style=\"color: #008080; text-decoration-color: #008080; font-weight: bold\">30</span>, Permutation P_3: <span style=\"color: #008080; text-decoration-color: #008080; font-weight: bold\">0.0</span>                                        <a href=\"file:///tmp/ipykernel_132860/1970187617.py\" target=\"_blank\"><span style=\"color: #7f7f7f; text-decoration-color: #7f7f7f\">__main__</span></a><span style=\"color: #7f7f7f; text-decoration-color: #7f7f7f\">:</span><a href=\"file:///tmp/ipykernel_132860/1970187617.py#142\" target=\"_blank\"><span style=\"color: #7f7f7f; text-decoration-color: #7f7f7f\">142</span></a>\n",
       "</pre>\n"
      ],
      "text/plain": [
       "\u001b[2;36m2025-01-07 14:53:01\u001b[0m\u001b[2;36m \u001b[0m\u001b[34mINFO    \u001b[0m Iteration \u001b[1;36m30\u001b[0m, Permutation P_3: \u001b[1;36m0.0\u001b[0m                                        \u001b]8;id=50875;file:///tmp/ipykernel_132860/1970187617.py\u001b\\\u001b[2m__main__\u001b[0m\u001b]8;;\u001b\\\u001b[2m:\u001b[0m\u001b]8;id=67740;file:///tmp/ipykernel_132860/1970187617.py#142\u001b\\\u001b[2m142\u001b[0m\u001b]8;;\u001b\\\n"
      ]
     },
     "metadata": {},
     "output_type": "display_data"
    },
    {
     "name": "stdout",
     "output_type": "stream",
     "text": [
      "Permuting P_2\n",
      "Permuting the columns of layer2.weight with P_1, shape: torch.Size([512, 512])\n",
      "w_a shape: torch.Size([512, 768]), w_b shape: torch.Size([512, 768])\n",
      "k1: 256, k2: 256\n",
      "Optimization terminated successfully.\n",
      "         Current function value: 186.703644\n",
      "         Iterations: 113\n",
      "         Function evaluations: 172\n",
      "         Gradient evaluations: 172\n"
     ]
    },
    {
     "data": {
      "text/html": [
       "<pre style=\"white-space:pre;overflow-x:auto;line-height:normal;font-family:Menlo,'DejaVu Sans Mono',consolas,'Courier New',monospace\"><span style=\"color: #7fbfbf; text-decoration-color: #7fbfbf\">2025-01-07 14:53:11 </span><span style=\"color: #000080; text-decoration-color: #000080\">INFO    </span> Iteration <span style=\"color: #008080; text-decoration-color: #008080; font-weight: bold\">30</span>, Permutation P_2: <span style=\"color: #008080; text-decoration-color: #008080; font-weight: bold\">3.932464599609375</span>                          <a href=\"file:///tmp/ipykernel_132860/1970187617.py\" target=\"_blank\"><span style=\"color: #7f7f7f; text-decoration-color: #7f7f7f\">__main__</span></a><span style=\"color: #7f7f7f; text-decoration-color: #7f7f7f\">:</span><a href=\"file:///tmp/ipykernel_132860/1970187617.py#142\" target=\"_blank\"><span style=\"color: #7f7f7f; text-decoration-color: #7f7f7f\">142</span></a>\n",
       "</pre>\n"
      ],
      "text/plain": [
       "\u001b[2;36m2025-01-07 14:53:11\u001b[0m\u001b[2;36m \u001b[0m\u001b[34mINFO    \u001b[0m Iteration \u001b[1;36m30\u001b[0m, Permutation P_2: \u001b[1;36m3.932464599609375\u001b[0m                          \u001b]8;id=925380;file:///tmp/ipykernel_132860/1970187617.py\u001b\\\u001b[2m__main__\u001b[0m\u001b]8;;\u001b\\\u001b[2m:\u001b[0m\u001b]8;id=717172;file:///tmp/ipykernel_132860/1970187617.py#142\u001b\\\u001b[2m142\u001b[0m\u001b]8;;\u001b\\\n"
      ]
     },
     "metadata": {},
     "output_type": "display_data"
    },
    {
     "name": "stdout",
     "output_type": "stream",
     "text": [
      "Permuting P_1\n",
      "Permuting the columns of layer1.weight with P_0, shape: torch.Size([512, 512])\n",
      "w_a shape: torch.Size([512, 1024]), w_b shape: torch.Size([512, 1024])\n",
      "k1: 256, k2: 256\n",
      "Optimization terminated successfully.\n",
      "         Current function value: 303.767163\n",
      "         Iterations: 72\n",
      "         Function evaluations: 121\n",
      "         Gradient evaluations: 121\n"
     ]
    },
    {
     "data": {
      "text/html": [
       "<pre style=\"white-space:pre;overflow-x:auto;line-height:normal;font-family:Menlo,'DejaVu Sans Mono',consolas,'Courier New',monospace\"><span style=\"color: #7fbfbf; text-decoration-color: #7fbfbf\">2025-01-07 14:53:22 </span><span style=\"color: #000080; text-decoration-color: #000080\">INFO    </span> Iteration <span style=\"color: #008080; text-decoration-color: #008080; font-weight: bold\">30</span>, Permutation P_1: <span style=\"color: #008080; text-decoration-color: #008080; font-weight: bold\">-8.853988647460938</span>                         <a href=\"file:///tmp/ipykernel_132860/1970187617.py\" target=\"_blank\"><span style=\"color: #7f7f7f; text-decoration-color: #7f7f7f\">__main__</span></a><span style=\"color: #7f7f7f; text-decoration-color: #7f7f7f\">:</span><a href=\"file:///tmp/ipykernel_132860/1970187617.py#142\" target=\"_blank\"><span style=\"color: #7f7f7f; text-decoration-color: #7f7f7f\">142</span></a>\n",
       "</pre>\n"
      ],
      "text/plain": [
       "\u001b[2;36m2025-01-07 14:53:22\u001b[0m\u001b[2;36m \u001b[0m\u001b[34mINFO    \u001b[0m Iteration \u001b[1;36m30\u001b[0m, Permutation P_1: \u001b[1;36m-8.853988647460938\u001b[0m                         \u001b]8;id=771384;file:///tmp/ipykernel_132860/1970187617.py\u001b\\\u001b[2m__main__\u001b[0m\u001b]8;;\u001b\\\u001b[2m:\u001b[0m\u001b]8;id=600486;file:///tmp/ipykernel_132860/1970187617.py#142\u001b\\\u001b[2m142\u001b[0m\u001b]8;;\u001b\\\n"
      ]
     },
     "metadata": {},
     "output_type": "display_data"
    },
    {
     "name": "stdout",
     "output_type": "stream",
     "text": [
      "Permuting P_0\n",
      "w_a shape: torch.Size([512, 1296]), w_b shape: torch.Size([512, 1296])\n",
      "k1: 256, k2: 256\n",
      "Optimization terminated successfully.\n",
      "         Current function value: 337.129184\n",
      "         Iterations: 92\n",
      "         Function evaluations: 152\n",
      "         Gradient evaluations: 152\n"
     ]
    },
    {
     "data": {
      "text/html": [
       "<pre style=\"white-space:pre;overflow-x:auto;line-height:normal;font-family:Menlo,'DejaVu Sans Mono',consolas,'Courier New',monospace\"><span style=\"color: #7fbfbf; text-decoration-color: #7fbfbf\">2025-01-07 14:53:35 </span><span style=\"color: #000080; text-decoration-color: #000080\">INFO    </span> Iteration <span style=\"color: #008080; text-decoration-color: #008080; font-weight: bold\">30</span>, Permutation P_0: <span style=\"color: #008080; text-decoration-color: #008080; font-weight: bold\">19.00653076171875</span>                          <a href=\"file:///tmp/ipykernel_132860/1970187617.py\" target=\"_blank\"><span style=\"color: #7f7f7f; text-decoration-color: #7f7f7f\">__main__</span></a><span style=\"color: #7f7f7f; text-decoration-color: #7f7f7f\">:</span><a href=\"file:///tmp/ipykernel_132860/1970187617.py#142\" target=\"_blank\"><span style=\"color: #7f7f7f; text-decoration-color: #7f7f7f\">142</span></a>\n",
       "</pre>\n"
      ],
      "text/plain": [
       "\u001b[2;36m2025-01-07 14:53:35\u001b[0m\u001b[2;36m \u001b[0m\u001b[34mINFO    \u001b[0m Iteration \u001b[1;36m30\u001b[0m, Permutation P_0: \u001b[1;36m19.00653076171875\u001b[0m                          \u001b]8;id=53057;file:///tmp/ipykernel_132860/1970187617.py\u001b\\\u001b[2m__main__\u001b[0m\u001b]8;;\u001b\\\u001b[2m:\u001b[0m\u001b]8;id=951882;file:///tmp/ipykernel_132860/1970187617.py#142\u001b\\\u001b[2m142\u001b[0m\u001b]8;;\u001b\\\n"
      ]
     },
     "metadata": {},
     "output_type": "display_data"
    },
    {
     "name": "stderr",
     "output_type": "stream",
     "text": [
      "Weight matching:  31%|███       | 31/100 [18:48<43:44, 38.03s/it]"
     ]
    },
    {
     "name": "stdout",
     "output_type": "stream",
     "text": [
      "Permuting P_3\n",
      "Permuting the columns of layer3.weight with P_2, shape: torch.Size([512, 512])\n",
      "w_a shape: torch.Size([256, 539]), w_b shape: torch.Size([256, 539])\n",
      "k1: 128, k2: 128\n",
      "Optimization terminated successfully.\n",
      "         Current function value: 61.965857\n",
      "         Iterations: 55\n",
      "         Function evaluations: 97\n",
      "         Gradient evaluations: 97\n"
     ]
    },
    {
     "data": {
      "text/html": [
       "<pre style=\"white-space:pre;overflow-x:auto;line-height:normal;font-family:Menlo,'DejaVu Sans Mono',consolas,'Courier New',monospace\"><span style=\"color: #7fbfbf; text-decoration-color: #7fbfbf\">2025-01-07 14:53:39 </span><span style=\"color: #000080; text-decoration-color: #000080\">INFO    </span> Iteration <span style=\"color: #008080; text-decoration-color: #008080; font-weight: bold\">31</span>, Permutation P_3: <span style=\"color: #008080; text-decoration-color: #008080; font-weight: bold\">5.136497497558594</span>                          <a href=\"file:///tmp/ipykernel_132860/1970187617.py\" target=\"_blank\"><span style=\"color: #7f7f7f; text-decoration-color: #7f7f7f\">__main__</span></a><span style=\"color: #7f7f7f; text-decoration-color: #7f7f7f\">:</span><a href=\"file:///tmp/ipykernel_132860/1970187617.py#142\" target=\"_blank\"><span style=\"color: #7f7f7f; text-decoration-color: #7f7f7f\">142</span></a>\n",
       "</pre>\n"
      ],
      "text/plain": [
       "\u001b[2;36m2025-01-07 14:53:39\u001b[0m\u001b[2;36m \u001b[0m\u001b[34mINFO    \u001b[0m Iteration \u001b[1;36m31\u001b[0m, Permutation P_3: \u001b[1;36m5.136497497558594\u001b[0m                          \u001b]8;id=125841;file:///tmp/ipykernel_132860/1970187617.py\u001b\\\u001b[2m__main__\u001b[0m\u001b]8;;\u001b\\\u001b[2m:\u001b[0m\u001b]8;id=162529;file:///tmp/ipykernel_132860/1970187617.py#142\u001b\\\u001b[2m142\u001b[0m\u001b]8;;\u001b\\\n"
      ]
     },
     "metadata": {},
     "output_type": "display_data"
    },
    {
     "name": "stdout",
     "output_type": "stream",
     "text": [
      "Permuting P_1\n",
      "Permuting the columns of layer1.weight with P_0, shape: torch.Size([512, 512])\n",
      "w_a shape: torch.Size([512, 1024]), w_b shape: torch.Size([512, 1024])\n",
      "k1: 256, k2: 256\n",
      "Optimization terminated successfully.\n",
      "         Current function value: 305.353634\n",
      "         Iterations: 76\n",
      "         Function evaluations: 132\n",
      "         Gradient evaluations: 132\n"
     ]
    },
    {
     "data": {
      "text/html": [
       "<pre style=\"white-space:pre;overflow-x:auto;line-height:normal;font-family:Menlo,'DejaVu Sans Mono',consolas,'Courier New',monospace\"><span style=\"color: #7fbfbf; text-decoration-color: #7fbfbf\">2025-01-07 14:53:47 </span><span style=\"color: #000080; text-decoration-color: #000080\">INFO    </span> Iteration <span style=\"color: #008080; text-decoration-color: #008080; font-weight: bold\">31</span>, Permutation P_1: <span style=\"color: #008080; text-decoration-color: #008080; font-weight: bold\">-4.213470458984375</span>                         <a href=\"file:///tmp/ipykernel_132860/1970187617.py\" target=\"_blank\"><span style=\"color: #7f7f7f; text-decoration-color: #7f7f7f\">__main__</span></a><span style=\"color: #7f7f7f; text-decoration-color: #7f7f7f\">:</span><a href=\"file:///tmp/ipykernel_132860/1970187617.py#142\" target=\"_blank\"><span style=\"color: #7f7f7f; text-decoration-color: #7f7f7f\">142</span></a>\n",
       "</pre>\n"
      ],
      "text/plain": [
       "\u001b[2;36m2025-01-07 14:53:47\u001b[0m\u001b[2;36m \u001b[0m\u001b[34mINFO    \u001b[0m Iteration \u001b[1;36m31\u001b[0m, Permutation P_1: \u001b[1;36m-4.213470458984375\u001b[0m                         \u001b]8;id=202935;file:///tmp/ipykernel_132860/1970187617.py\u001b\\\u001b[2m__main__\u001b[0m\u001b]8;;\u001b\\\u001b[2m:\u001b[0m\u001b]8;id=5415;file:///tmp/ipykernel_132860/1970187617.py#142\u001b\\\u001b[2m142\u001b[0m\u001b]8;;\u001b\\\n"
      ]
     },
     "metadata": {},
     "output_type": "display_data"
    },
    {
     "name": "stdout",
     "output_type": "stream",
     "text": [
      "Permuting P_2\n",
      "Permuting the columns of layer2.weight with P_1, shape: torch.Size([512, 512])\n",
      "w_a shape: torch.Size([512, 768]), w_b shape: torch.Size([512, 768])\n",
      "k1: 256, k2: 256\n",
      "Optimization terminated successfully.\n",
      "         Current function value: 186.369162\n",
      "         Iterations: 117\n",
      "         Function evaluations: 179\n",
      "         Gradient evaluations: 179\n"
     ]
    },
    {
     "data": {
      "text/html": [
       "<pre style=\"white-space:pre;overflow-x:auto;line-height:normal;font-family:Menlo,'DejaVu Sans Mono',consolas,'Courier New',monospace\"><span style=\"color: #7fbfbf; text-decoration-color: #7fbfbf\">2025-01-07 14:53:57 </span><span style=\"color: #000080; text-decoration-color: #000080\">INFO    </span> Iteration <span style=\"color: #008080; text-decoration-color: #008080; font-weight: bold\">31</span>, Permutation P_2: <span style=\"color: #008080; text-decoration-color: #008080; font-weight: bold\">10.021209716796875</span>                         <a href=\"file:///tmp/ipykernel_132860/1970187617.py\" target=\"_blank\"><span style=\"color: #7f7f7f; text-decoration-color: #7f7f7f\">__main__</span></a><span style=\"color: #7f7f7f; text-decoration-color: #7f7f7f\">:</span><a href=\"file:///tmp/ipykernel_132860/1970187617.py#142\" target=\"_blank\"><span style=\"color: #7f7f7f; text-decoration-color: #7f7f7f\">142</span></a>\n",
       "</pre>\n"
      ],
      "text/plain": [
       "\u001b[2;36m2025-01-07 14:53:57\u001b[0m\u001b[2;36m \u001b[0m\u001b[34mINFO    \u001b[0m Iteration \u001b[1;36m31\u001b[0m, Permutation P_2: \u001b[1;36m10.021209716796875\u001b[0m                         \u001b]8;id=150065;file:///tmp/ipykernel_132860/1970187617.py\u001b\\\u001b[2m__main__\u001b[0m\u001b]8;;\u001b\\\u001b[2m:\u001b[0m\u001b]8;id=272970;file:///tmp/ipykernel_132860/1970187617.py#142\u001b\\\u001b[2m142\u001b[0m\u001b]8;;\u001b\\\n"
      ]
     },
     "metadata": {},
     "output_type": "display_data"
    },
    {
     "name": "stdout",
     "output_type": "stream",
     "text": [
      "Permuting P_0\n",
      "w_a shape: torch.Size([512, 1296]), w_b shape: torch.Size([512, 1296])\n",
      "k1: 256, k2: 256\n",
      "Optimization terminated successfully.\n",
      "         Current function value: 335.961242\n",
      "         Iterations: 98\n",
      "         Function evaluations: 161\n",
      "         Gradient evaluations: 161\n"
     ]
    },
    {
     "data": {
      "text/html": [
       "<pre style=\"white-space:pre;overflow-x:auto;line-height:normal;font-family:Menlo,'DejaVu Sans Mono',consolas,'Courier New',monospace\"><span style=\"color: #7fbfbf; text-decoration-color: #7fbfbf\">2025-01-07 14:54:09 </span><span style=\"color: #000080; text-decoration-color: #000080\">INFO    </span> Iteration <span style=\"color: #008080; text-decoration-color: #008080; font-weight: bold\">31</span>, Permutation P_0: <span style=\"color: #008080; text-decoration-color: #008080; font-weight: bold\">-19.302490234375</span>                           <a href=\"file:///tmp/ipykernel_132860/1970187617.py\" target=\"_blank\"><span style=\"color: #7f7f7f; text-decoration-color: #7f7f7f\">__main__</span></a><span style=\"color: #7f7f7f; text-decoration-color: #7f7f7f\">:</span><a href=\"file:///tmp/ipykernel_132860/1970187617.py#142\" target=\"_blank\"><span style=\"color: #7f7f7f; text-decoration-color: #7f7f7f\">142</span></a>\n",
       "</pre>\n"
      ],
      "text/plain": [
       "\u001b[2;36m2025-01-07 14:54:09\u001b[0m\u001b[2;36m \u001b[0m\u001b[34mINFO    \u001b[0m Iteration \u001b[1;36m31\u001b[0m, Permutation P_0: \u001b[1;36m-19.302490234375\u001b[0m                           \u001b]8;id=28891;file:///tmp/ipykernel_132860/1970187617.py\u001b\\\u001b[2m__main__\u001b[0m\u001b]8;;\u001b\\\u001b[2m:\u001b[0m\u001b]8;id=108811;file:///tmp/ipykernel_132860/1970187617.py#142\u001b\\\u001b[2m142\u001b[0m\u001b]8;;\u001b\\\n"
      ]
     },
     "metadata": {},
     "output_type": "display_data"
    },
    {
     "name": "stderr",
     "output_type": "stream",
     "text": [
      "Weight matching:  32%|███▏      | 32/100 [19:23<41:54, 36.98s/it]"
     ]
    },
    {
     "name": "stdout",
     "output_type": "stream",
     "text": [
      "Permuting P_2\n",
      "Permuting the columns of layer2.weight with P_1, shape: torch.Size([512, 512])\n",
      "w_a shape: torch.Size([512, 768]), w_b shape: torch.Size([512, 768])\n",
      "k1: 256, k2: 256\n",
      "Optimization terminated successfully.\n",
      "         Current function value: 186.369162\n",
      "         Iterations: 117\n",
      "         Function evaluations: 179\n",
      "         Gradient evaluations: 179\n"
     ]
    },
    {
     "data": {
      "text/html": [
       "<pre style=\"white-space:pre;overflow-x:auto;line-height:normal;font-family:Menlo,'DejaVu Sans Mono',consolas,'Courier New',monospace\"><span style=\"color: #7fbfbf; text-decoration-color: #7fbfbf\">2025-01-07 14:54:19 </span><span style=\"color: #000080; text-decoration-color: #000080\">INFO    </span> Iteration <span style=\"color: #008080; text-decoration-color: #008080; font-weight: bold\">32</span>, Permutation P_2: <span style=\"color: #008080; text-decoration-color: #008080; font-weight: bold\">0.0</span>                                        <a href=\"file:///tmp/ipykernel_132860/1970187617.py\" target=\"_blank\"><span style=\"color: #7f7f7f; text-decoration-color: #7f7f7f\">__main__</span></a><span style=\"color: #7f7f7f; text-decoration-color: #7f7f7f\">:</span><a href=\"file:///tmp/ipykernel_132860/1970187617.py#142\" target=\"_blank\"><span style=\"color: #7f7f7f; text-decoration-color: #7f7f7f\">142</span></a>\n",
       "</pre>\n"
      ],
      "text/plain": [
       "\u001b[2;36m2025-01-07 14:54:19\u001b[0m\u001b[2;36m \u001b[0m\u001b[34mINFO    \u001b[0m Iteration \u001b[1;36m32\u001b[0m, Permutation P_2: \u001b[1;36m0.0\u001b[0m                                        \u001b]8;id=725614;file:///tmp/ipykernel_132860/1970187617.py\u001b\\\u001b[2m__main__\u001b[0m\u001b]8;;\u001b\\\u001b[2m:\u001b[0m\u001b]8;id=7360;file:///tmp/ipykernel_132860/1970187617.py#142\u001b\\\u001b[2m142\u001b[0m\u001b]8;;\u001b\\\n"
      ]
     },
     "metadata": {},
     "output_type": "display_data"
    },
    {
     "name": "stdout",
     "output_type": "stream",
     "text": [
      "Permuting P_0\n",
      "w_a shape: torch.Size([512, 1296]), w_b shape: torch.Size([512, 1296])\n",
      "k1: 256, k2: 256\n",
      "Optimization terminated successfully.\n",
      "         Current function value: 335.961242\n",
      "         Iterations: 98\n",
      "         Function evaluations: 161\n",
      "         Gradient evaluations: 161\n"
     ]
    },
    {
     "data": {
      "text/html": [
       "<pre style=\"white-space:pre;overflow-x:auto;line-height:normal;font-family:Menlo,'DejaVu Sans Mono',consolas,'Courier New',monospace\"><span style=\"color: #7fbfbf; text-decoration-color: #7fbfbf\">2025-01-07 14:54:29 </span><span style=\"color: #000080; text-decoration-color: #000080\">INFO    </span> Iteration <span style=\"color: #008080; text-decoration-color: #008080; font-weight: bold\">32</span>, Permutation P_0: <span style=\"color: #008080; text-decoration-color: #008080; font-weight: bold\">0.0</span>                                        <a href=\"file:///tmp/ipykernel_132860/1970187617.py\" target=\"_blank\"><span style=\"color: #7f7f7f; text-decoration-color: #7f7f7f\">__main__</span></a><span style=\"color: #7f7f7f; text-decoration-color: #7f7f7f\">:</span><a href=\"file:///tmp/ipykernel_132860/1970187617.py#142\" target=\"_blank\"><span style=\"color: #7f7f7f; text-decoration-color: #7f7f7f\">142</span></a>\n",
       "</pre>\n"
      ],
      "text/plain": [
       "\u001b[2;36m2025-01-07 14:54:29\u001b[0m\u001b[2;36m \u001b[0m\u001b[34mINFO    \u001b[0m Iteration \u001b[1;36m32\u001b[0m, Permutation P_0: \u001b[1;36m0.0\u001b[0m                                        \u001b]8;id=412029;file:///tmp/ipykernel_132860/1970187617.py\u001b\\\u001b[2m__main__\u001b[0m\u001b]8;;\u001b\\\u001b[2m:\u001b[0m\u001b]8;id=776479;file:///tmp/ipykernel_132860/1970187617.py#142\u001b\\\u001b[2m142\u001b[0m\u001b]8;;\u001b\\\n"
      ]
     },
     "metadata": {},
     "output_type": "display_data"
    },
    {
     "name": "stdout",
     "output_type": "stream",
     "text": [
      "Permuting P_3\n",
      "Permuting the columns of layer3.weight with P_2, shape: torch.Size([512, 512])\n",
      "w_a shape: torch.Size([256, 539]), w_b shape: torch.Size([256, 539])\n",
      "k1: 128, k2: 128\n",
      "Optimization terminated successfully.\n",
      "         Current function value: 61.921589\n",
      "         Iterations: 59\n",
      "         Function evaluations: 100\n",
      "         Gradient evaluations: 100\n"
     ]
    },
    {
     "data": {
      "text/html": [
       "<pre style=\"white-space:pre;overflow-x:auto;line-height:normal;font-family:Menlo,'DejaVu Sans Mono',consolas,'Courier New',monospace\"><span style=\"color: #7fbfbf; text-decoration-color: #7fbfbf\">2025-01-07 14:54:34 </span><span style=\"color: #000080; text-decoration-color: #000080\">INFO    </span> Iteration <span style=\"color: #008080; text-decoration-color: #008080; font-weight: bold\">32</span>, Permutation P_3: <span style=\"color: #008080; text-decoration-color: #008080; font-weight: bold\">8.71484375</span>                                 <a href=\"file:///tmp/ipykernel_132860/1970187617.py\" target=\"_blank\"><span style=\"color: #7f7f7f; text-decoration-color: #7f7f7f\">__main__</span></a><span style=\"color: #7f7f7f; text-decoration-color: #7f7f7f\">:</span><a href=\"file:///tmp/ipykernel_132860/1970187617.py#142\" target=\"_blank\"><span style=\"color: #7f7f7f; text-decoration-color: #7f7f7f\">142</span></a>\n",
       "</pre>\n"
      ],
      "text/plain": [
       "\u001b[2;36m2025-01-07 14:54:34\u001b[0m\u001b[2;36m \u001b[0m\u001b[34mINFO    \u001b[0m Iteration \u001b[1;36m32\u001b[0m, Permutation P_3: \u001b[1;36m8.71484375\u001b[0m                                 \u001b]8;id=44706;file:///tmp/ipykernel_132860/1970187617.py\u001b\\\u001b[2m__main__\u001b[0m\u001b]8;;\u001b\\\u001b[2m:\u001b[0m\u001b]8;id=670371;file:///tmp/ipykernel_132860/1970187617.py#142\u001b\\\u001b[2m142\u001b[0m\u001b]8;;\u001b\\\n"
      ]
     },
     "metadata": {},
     "output_type": "display_data"
    },
    {
     "name": "stdout",
     "output_type": "stream",
     "text": [
      "Permuting P_1\n",
      "Permuting the columns of layer1.weight with P_0, shape: torch.Size([512, 512])\n",
      "w_a shape: torch.Size([512, 1024]), w_b shape: torch.Size([512, 1024])\n",
      "k1: 256, k2: 256\n",
      "Optimization terminated successfully.\n",
      "         Current function value: 304.169396\n",
      "         Iterations: 72\n",
      "         Function evaluations: 126\n",
      "         Gradient evaluations: 126\n"
     ]
    },
    {
     "data": {
      "text/html": [
       "<pre style=\"white-space:pre;overflow-x:auto;line-height:normal;font-family:Menlo,'DejaVu Sans Mono',consolas,'Courier New',monospace\"><span style=\"color: #7fbfbf; text-decoration-color: #7fbfbf\">2025-01-07 14:54:44 </span><span style=\"color: #000080; text-decoration-color: #000080\">INFO    </span> Iteration <span style=\"color: #008080; text-decoration-color: #008080; font-weight: bold\">32</span>, Permutation P_1: <span style=\"color: #008080; text-decoration-color: #008080; font-weight: bold\">-15.354995727539062</span>                        <a href=\"file:///tmp/ipykernel_132860/1970187617.py\" target=\"_blank\"><span style=\"color: #7f7f7f; text-decoration-color: #7f7f7f\">__main__</span></a><span style=\"color: #7f7f7f; text-decoration-color: #7f7f7f\">:</span><a href=\"file:///tmp/ipykernel_132860/1970187617.py#142\" target=\"_blank\"><span style=\"color: #7f7f7f; text-decoration-color: #7f7f7f\">142</span></a>\n",
       "</pre>\n"
      ],
      "text/plain": [
       "\u001b[2;36m2025-01-07 14:54:44\u001b[0m\u001b[2;36m \u001b[0m\u001b[34mINFO    \u001b[0m Iteration \u001b[1;36m32\u001b[0m, Permutation P_1: \u001b[1;36m-15.354995727539062\u001b[0m                        \u001b]8;id=723663;file:///tmp/ipykernel_132860/1970187617.py\u001b\\\u001b[2m__main__\u001b[0m\u001b]8;;\u001b\\\u001b[2m:\u001b[0m\u001b]8;id=647548;file:///tmp/ipykernel_132860/1970187617.py#142\u001b\\\u001b[2m142\u001b[0m\u001b]8;;\u001b\\\n"
      ]
     },
     "metadata": {},
     "output_type": "display_data"
    },
    {
     "name": "stderr",
     "output_type": "stream",
     "text": [
      "Weight matching:  33%|███▎      | 33/100 [19:58<40:33, 36.32s/it]"
     ]
    },
    {
     "name": "stdout",
     "output_type": "stream",
     "text": [
      "Permuting P_1\n",
      "Permuting the columns of layer1.weight with P_0, shape: torch.Size([512, 512])\n",
      "w_a shape: torch.Size([512, 1024]), w_b shape: torch.Size([512, 1024])\n",
      "k1: 256, k2: 256\n",
      "Optimization terminated successfully.\n",
      "         Current function value: 304.169396\n",
      "         Iterations: 72\n",
      "         Function evaluations: 126\n",
      "         Gradient evaluations: 126\n"
     ]
    },
    {
     "data": {
      "text/html": [
       "<pre style=\"white-space:pre;overflow-x:auto;line-height:normal;font-family:Menlo,'DejaVu Sans Mono',consolas,'Courier New',monospace\"><span style=\"color: #7fbfbf; text-decoration-color: #7fbfbf\">2025-01-07 14:54:54 </span><span style=\"color: #000080; text-decoration-color: #000080\">INFO    </span> Iteration <span style=\"color: #008080; text-decoration-color: #008080; font-weight: bold\">33</span>, Permutation P_1: <span style=\"color: #008080; text-decoration-color: #008080; font-weight: bold\">0.0</span>                                        <a href=\"file:///tmp/ipykernel_132860/1970187617.py\" target=\"_blank\"><span style=\"color: #7f7f7f; text-decoration-color: #7f7f7f\">__main__</span></a><span style=\"color: #7f7f7f; text-decoration-color: #7f7f7f\">:</span><a href=\"file:///tmp/ipykernel_132860/1970187617.py#142\" target=\"_blank\"><span style=\"color: #7f7f7f; text-decoration-color: #7f7f7f\">142</span></a>\n",
       "</pre>\n"
      ],
      "text/plain": [
       "\u001b[2;36m2025-01-07 14:54:54\u001b[0m\u001b[2;36m \u001b[0m\u001b[34mINFO    \u001b[0m Iteration \u001b[1;36m33\u001b[0m, Permutation P_1: \u001b[1;36m0.0\u001b[0m                                        \u001b]8;id=644015;file:///tmp/ipykernel_132860/1970187617.py\u001b\\\u001b[2m__main__\u001b[0m\u001b]8;;\u001b\\\u001b[2m:\u001b[0m\u001b]8;id=186999;file:///tmp/ipykernel_132860/1970187617.py#142\u001b\\\u001b[2m142\u001b[0m\u001b]8;;\u001b\\\n"
      ]
     },
     "metadata": {},
     "output_type": "display_data"
    },
    {
     "name": "stdout",
     "output_type": "stream",
     "text": [
      "Permuting P_3\n",
      "Permuting the columns of layer3.weight with P_2, shape: torch.Size([512, 512])\n",
      "w_a shape: torch.Size([256, 539]), w_b shape: torch.Size([256, 539])\n",
      "k1: 128, k2: 128\n",
      "Optimization terminated successfully.\n",
      "         Current function value: 61.921589\n",
      "         Iterations: 59\n",
      "         Function evaluations: 100\n",
      "         Gradient evaluations: 100\n"
     ]
    },
    {
     "data": {
      "text/html": [
       "<pre style=\"white-space:pre;overflow-x:auto;line-height:normal;font-family:Menlo,'DejaVu Sans Mono',consolas,'Courier New',monospace\"><span style=\"color: #7fbfbf; text-decoration-color: #7fbfbf\">2025-01-07 14:54:59 </span><span style=\"color: #000080; text-decoration-color: #000080\">INFO    </span> Iteration <span style=\"color: #008080; text-decoration-color: #008080; font-weight: bold\">33</span>, Permutation P_3: <span style=\"color: #008080; text-decoration-color: #008080; font-weight: bold\">0.0</span>                                        <a href=\"file:///tmp/ipykernel_132860/1970187617.py\" target=\"_blank\"><span style=\"color: #7f7f7f; text-decoration-color: #7f7f7f\">__main__</span></a><span style=\"color: #7f7f7f; text-decoration-color: #7f7f7f\">:</span><a href=\"file:///tmp/ipykernel_132860/1970187617.py#142\" target=\"_blank\"><span style=\"color: #7f7f7f; text-decoration-color: #7f7f7f\">142</span></a>\n",
       "</pre>\n"
      ],
      "text/plain": [
       "\u001b[2;36m2025-01-07 14:54:59\u001b[0m\u001b[2;36m \u001b[0m\u001b[34mINFO    \u001b[0m Iteration \u001b[1;36m33\u001b[0m, Permutation P_3: \u001b[1;36m0.0\u001b[0m                                        \u001b]8;id=352203;file:///tmp/ipykernel_132860/1970187617.py\u001b\\\u001b[2m__main__\u001b[0m\u001b]8;;\u001b\\\u001b[2m:\u001b[0m\u001b]8;id=406864;file:///tmp/ipykernel_132860/1970187617.py#142\u001b\\\u001b[2m142\u001b[0m\u001b]8;;\u001b\\\n"
      ]
     },
     "metadata": {},
     "output_type": "display_data"
    },
    {
     "name": "stdout",
     "output_type": "stream",
     "text": [
      "Permuting P_2\n",
      "Permuting the columns of layer2.weight with P_1, shape: torch.Size([512, 512])\n",
      "w_a shape: torch.Size([512, 768]), w_b shape: torch.Size([512, 768])\n",
      "k1: 256, k2: 256\n",
      "Optimization terminated successfully.\n",
      "         Current function value: 187.157275\n",
      "         Iterations: 112\n",
      "         Function evaluations: 171\n",
      "         Gradient evaluations: 171\n"
     ]
    },
    {
     "data": {
      "text/html": [
       "<pre style=\"white-space:pre;overflow-x:auto;line-height:normal;font-family:Menlo,'DejaVu Sans Mono',consolas,'Courier New',monospace\"><span style=\"color: #7fbfbf; text-decoration-color: #7fbfbf\">2025-01-07 14:55:08 </span><span style=\"color: #000080; text-decoration-color: #000080\">INFO    </span> Iteration <span style=\"color: #008080; text-decoration-color: #008080; font-weight: bold\">33</span>, Permutation P_2: <span style=\"color: #008080; text-decoration-color: #008080; font-weight: bold\">4.201873779296875</span>                          <a href=\"file:///tmp/ipykernel_132860/1970187617.py\" target=\"_blank\"><span style=\"color: #7f7f7f; text-decoration-color: #7f7f7f\">__main__</span></a><span style=\"color: #7f7f7f; text-decoration-color: #7f7f7f\">:</span><a href=\"file:///tmp/ipykernel_132860/1970187617.py#142\" target=\"_blank\"><span style=\"color: #7f7f7f; text-decoration-color: #7f7f7f\">142</span></a>\n",
       "</pre>\n"
      ],
      "text/plain": [
       "\u001b[2;36m2025-01-07 14:55:08\u001b[0m\u001b[2;36m \u001b[0m\u001b[34mINFO    \u001b[0m Iteration \u001b[1;36m33\u001b[0m, Permutation P_2: \u001b[1;36m4.201873779296875\u001b[0m                          \u001b]8;id=306917;file:///tmp/ipykernel_132860/1970187617.py\u001b\\\u001b[2m__main__\u001b[0m\u001b]8;;\u001b\\\u001b[2m:\u001b[0m\u001b]8;id=998623;file:///tmp/ipykernel_132860/1970187617.py#142\u001b\\\u001b[2m142\u001b[0m\u001b]8;;\u001b\\\n"
      ]
     },
     "metadata": {},
     "output_type": "display_data"
    },
    {
     "name": "stdout",
     "output_type": "stream",
     "text": [
      "Permuting P_0\n",
      "w_a shape: torch.Size([512, 1296]), w_b shape: torch.Size([512, 1296])\n",
      "k1: 256, k2: 256\n"
     ]
    }
   ],
   "source": [
    "restore_original_weights(models, model_orig_weights)\n",
    "\n",
    "perm_indices = func_weight_matching(\n",
    "    permutation_spec,\n",
    "    fixed_model.model.cpu().state_dict(),\n",
    "    permutee_model.model.cpu().state_dict(),\n",
    "    max_iter=100,\n",
    "    verbose=True,\n",
    "    method=\"func\",\n",
    ")\n",
    "\n",
    "func_permutations[fixed_symbol][permutee_symbol] = perm_indices\n",
    "\n",
    "func_permutations[permutee_symbol][fixed_symbol] = get_inverse_permutations(perm_indices)"
   ]
  },
  {
   "cell_type": "code",
   "execution_count": null,
   "metadata": {},
   "outputs": [
    {
     "data": {
      "text/html": [
       "<pre style=\"white-space:pre;overflow-x:auto;line-height:normal;font-family:Menlo,'DejaVu Sans Mono',consolas,'Courier New',monospace\"><span style=\"color: #7fbfbf; text-decoration-color: #7fbfbf\">                    </span><span style=\"color: #000080; text-decoration-color: #000080\">INFO    </span> Permuting model b into a.                                                   <a href=\"file:///tmp/ipykernel_119418/3037261413.py\" target=\"_blank\"><span style=\"color: #7f7f7f; text-decoration-color: #7f7f7f\">__main__</span></a><span style=\"color: #7f7f7f; text-decoration-color: #7f7f7f\">:</span><a href=\"file:///tmp/ipykernel_119418/3037261413.py#7\" target=\"_blank\"><span style=\"color: #7f7f7f; text-decoration-color: #7f7f7f\">7</span></a>\n",
       "</pre>\n"
      ],
      "text/plain": [
       "\u001b[2;36m                   \u001b[0m\u001b[2;36m \u001b[0m\u001b[34mINFO    \u001b[0m Permuting model b into a.                                                   \u001b]8;id=271698;file:///tmp/ipykernel_119418/3037261413.py\u001b\\\u001b[2m__main__\u001b[0m\u001b]8;;\u001b\\\u001b[2m:\u001b[0m\u001b]8;id=930578;file:///tmp/ipykernel_119418/3037261413.py#7\u001b\\\u001b[2m7\u001b[0m\u001b]8;;\u001b\\\n"
      ]
     },
     "metadata": {},
     "output_type": "display_data"
    },
    {
     "name": "stderr",
     "output_type": "stream",
     "text": [
      "/home/donato/miniconda3/envs/ccmm/lib/python3.9/site-packages/pytorch_lightning/trainer/connectors/accelerator_connector.py:447: LightningDeprecationWarning: Setting `Trainer(gpus=1)` is deprecated in v1.7 and will be removed in v2.0. Please use `Trainer(accelerator='gpu', devices=1)` instead.\n",
      "  rank_zero_deprecation(\n"
     ]
    },
    {
     "data": {
      "text/html": [
       "<pre style=\"white-space:pre;overflow-x:auto;line-height:normal;font-family:Menlo,'DejaVu Sans Mono',consolas,'Courier New',monospace\"><span style=\"color: #7fbfbf; text-decoration-color: #7fbfbf\">                    </span><span style=\"color: #000080; text-decoration-color: #000080\">INFO    </span> GPU available: <span style=\"color: #00ff00; text-decoration-color: #00ff00; font-style: italic\">True</span> <span style=\"font-weight: bold\">(</span>cuda<span style=\"font-weight: bold\">)</span>, used: <span style=\"color: #00ff00; text-decoration-color: #00ff00; font-style: italic\">True</span>      <a href=\"file:///home/donato/miniconda3/envs/ccmm/lib/python3.9/site-packages/pytorch_lightning/trainer/trainer.py\" target=\"_blank\"><span style=\"color: #7f7f7f; text-decoration-color: #7f7f7f\">pytorch_lightning.utilities.rank_zero</span></a><span style=\"color: #7f7f7f; text-decoration-color: #7f7f7f\">:</span><a href=\"file:///home/donato/miniconda3/envs/ccmm/lib/python3.9/site-packages/pytorch_lightning/trainer/trainer.py#1751\" target=\"_blank\"><span style=\"color: #7f7f7f; text-decoration-color: #7f7f7f\">1751</span></a>\n",
       "</pre>\n"
      ],
      "text/plain": [
       "\u001b[2;36m                   \u001b[0m\u001b[2;36m \u001b[0m\u001b[34mINFO    \u001b[0m GPU available: \u001b[3;92mTrue\u001b[0m \u001b[1m(\u001b[0mcuda\u001b[1m)\u001b[0m, used: \u001b[3;92mTrue\u001b[0m      \u001b]8;id=351775;file:///home/donato/miniconda3/envs/ccmm/lib/python3.9/site-packages/pytorch_lightning/trainer/trainer.py\u001b\\\u001b[2mpytorch_lightning.utilities.rank_zero\u001b[0m\u001b]8;;\u001b\\\u001b[2m:\u001b[0m\u001b]8;id=817220;file:///home/donato/miniconda3/envs/ccmm/lib/python3.9/site-packages/pytorch_lightning/trainer/trainer.py#1751\u001b\\\u001b[2m1751\u001b[0m\u001b]8;;\u001b\\\n"
      ]
     },
     "metadata": {},
     "output_type": "display_data"
    },
    {
     "data": {
      "text/html": [
       "<pre style=\"white-space:pre;overflow-x:auto;line-height:normal;font-family:Menlo,'DejaVu Sans Mono',consolas,'Courier New',monospace\"><span style=\"color: #7fbfbf; text-decoration-color: #7fbfbf\">                    </span><span style=\"color: #000080; text-decoration-color: #000080\">INFO    </span> TPU available: <span style=\"color: #ff0000; text-decoration-color: #ff0000; font-style: italic\">False</span>, using: <span style=\"color: #008080; text-decoration-color: #008080; font-weight: bold\">0</span> TPU cores    <a href=\"file:///home/donato/miniconda3/envs/ccmm/lib/python3.9/site-packages/pytorch_lightning/trainer/trainer.py\" target=\"_blank\"><span style=\"color: #7f7f7f; text-decoration-color: #7f7f7f\">pytorch_lightning.utilities.rank_zero</span></a><span style=\"color: #7f7f7f; text-decoration-color: #7f7f7f\">:</span><a href=\"file:///home/donato/miniconda3/envs/ccmm/lib/python3.9/site-packages/pytorch_lightning/trainer/trainer.py#1754\" target=\"_blank\"><span style=\"color: #7f7f7f; text-decoration-color: #7f7f7f\">1754</span></a>\n",
       "</pre>\n"
      ],
      "text/plain": [
       "\u001b[2;36m                   \u001b[0m\u001b[2;36m \u001b[0m\u001b[34mINFO    \u001b[0m TPU available: \u001b[3;91mFalse\u001b[0m, using: \u001b[1;36m0\u001b[0m TPU cores    \u001b]8;id=836275;file:///home/donato/miniconda3/envs/ccmm/lib/python3.9/site-packages/pytorch_lightning/trainer/trainer.py\u001b\\\u001b[2mpytorch_lightning.utilities.rank_zero\u001b[0m\u001b]8;;\u001b\\\u001b[2m:\u001b[0m\u001b]8;id=345220;file:///home/donato/miniconda3/envs/ccmm/lib/python3.9/site-packages/pytorch_lightning/trainer/trainer.py#1754\u001b\\\u001b[2m1754\u001b[0m\u001b]8;;\u001b\\\n"
      ]
     },
     "metadata": {},
     "output_type": "display_data"
    },
    {
     "data": {
      "text/html": [
       "<pre style=\"white-space:pre;overflow-x:auto;line-height:normal;font-family:Menlo,'DejaVu Sans Mono',consolas,'Courier New',monospace\"><span style=\"color: #7fbfbf; text-decoration-color: #7fbfbf\">                    </span><span style=\"color: #000080; text-decoration-color: #000080\">INFO    </span> IPU available: <span style=\"color: #ff0000; text-decoration-color: #ff0000; font-style: italic\">False</span>, using: <span style=\"color: #008080; text-decoration-color: #008080; font-weight: bold\">0</span> IPUs         <a href=\"file:///home/donato/miniconda3/envs/ccmm/lib/python3.9/site-packages/pytorch_lightning/trainer/trainer.py\" target=\"_blank\"><span style=\"color: #7f7f7f; text-decoration-color: #7f7f7f\">pytorch_lightning.utilities.rank_zero</span></a><span style=\"color: #7f7f7f; text-decoration-color: #7f7f7f\">:</span><a href=\"file:///home/donato/miniconda3/envs/ccmm/lib/python3.9/site-packages/pytorch_lightning/trainer/trainer.py#1757\" target=\"_blank\"><span style=\"color: #7f7f7f; text-decoration-color: #7f7f7f\">1757</span></a>\n",
       "</pre>\n"
      ],
      "text/plain": [
       "\u001b[2;36m                   \u001b[0m\u001b[2;36m \u001b[0m\u001b[34mINFO    \u001b[0m IPU available: \u001b[3;91mFalse\u001b[0m, using: \u001b[1;36m0\u001b[0m IPUs         \u001b]8;id=358699;file:///home/donato/miniconda3/envs/ccmm/lib/python3.9/site-packages/pytorch_lightning/trainer/trainer.py\u001b\\\u001b[2mpytorch_lightning.utilities.rank_zero\u001b[0m\u001b]8;;\u001b\\\u001b[2m:\u001b[0m\u001b]8;id=834391;file:///home/donato/miniconda3/envs/ccmm/lib/python3.9/site-packages/pytorch_lightning/trainer/trainer.py#1757\u001b\\\u001b[2m1757\u001b[0m\u001b]8;;\u001b\\\n"
      ]
     },
     "metadata": {},
     "output_type": "display_data"
    },
    {
     "data": {
      "text/html": [
       "<pre style=\"white-space:pre;overflow-x:auto;line-height:normal;font-family:Menlo,'DejaVu Sans Mono',consolas,'Courier New',monospace\"><span style=\"color: #7fbfbf; text-decoration-color: #7fbfbf\">                    </span><span style=\"color: #000080; text-decoration-color: #000080\">INFO    </span> HPU available: <span style=\"color: #ff0000; text-decoration-color: #ff0000; font-style: italic\">False</span>, using: <span style=\"color: #008080; text-decoration-color: #008080; font-weight: bold\">0</span> HPUs         <a href=\"file:///home/donato/miniconda3/envs/ccmm/lib/python3.9/site-packages/pytorch_lightning/trainer/trainer.py\" target=\"_blank\"><span style=\"color: #7f7f7f; text-decoration-color: #7f7f7f\">pytorch_lightning.utilities.rank_zero</span></a><span style=\"color: #7f7f7f; text-decoration-color: #7f7f7f\">:</span><a href=\"file:///home/donato/miniconda3/envs/ccmm/lib/python3.9/site-packages/pytorch_lightning/trainer/trainer.py#1760\" target=\"_blank\"><span style=\"color: #7f7f7f; text-decoration-color: #7f7f7f\">1760</span></a>\n",
       "</pre>\n"
      ],
      "text/plain": [
       "\u001b[2;36m                   \u001b[0m\u001b[2;36m \u001b[0m\u001b[34mINFO    \u001b[0m HPU available: \u001b[3;91mFalse\u001b[0m, using: \u001b[1;36m0\u001b[0m HPUs         \u001b]8;id=112606;file:///home/donato/miniconda3/envs/ccmm/lib/python3.9/site-packages/pytorch_lightning/trainer/trainer.py\u001b\\\u001b[2mpytorch_lightning.utilities.rank_zero\u001b[0m\u001b]8;;\u001b\\\u001b[2m:\u001b[0m\u001b]8;id=874815;file:///home/donato/miniconda3/envs/ccmm/lib/python3.9/site-packages/pytorch_lightning/trainer/trainer.py#1760\u001b\\\u001b[2m1760\u001b[0m\u001b]8;;\u001b\\\n"
      ]
     },
     "metadata": {},
     "output_type": "display_data"
    },
    {
     "name": "stderr",
     "output_type": "stream",
     "text": [
      "  0%|          | 0/3 [00:00<?, ?it/s]"
     ]
    },
    {
     "data": {
      "text/html": [
       "<pre style=\"white-space:pre;overflow-x:auto;line-height:normal;font-family:Menlo,'DejaVu Sans Mono',consolas,'Courier New',monospace\"><span style=\"color: #7fbfbf; text-decoration-color: #7fbfbf\">                    </span><span style=\"color: #000080; text-decoration-color: #000080\">INFO    </span> Evaluating interpolated model with lambda: <span style=\"color: #008080; text-decoration-color: #008080; font-weight: bold\">0.0</span>                    <a href=\"file:///media/donato/Extra-storage/Code/model-merging/cycle-consistent-model-merging/src/ccmm/utils/utils.py\" target=\"_blank\"><span style=\"color: #7f7f7f; text-decoration-color: #7f7f7f\">ccmm.utils.utils</span></a><span style=\"color: #7f7f7f; text-decoration-color: #7f7f7f\">:</span><a href=\"file:///media/donato/Extra-storage/Code/model-merging/cycle-consistent-model-merging/src/ccmm/utils/utils.py#168\" target=\"_blank\"><span style=\"color: #7f7f7f; text-decoration-color: #7f7f7f\">168</span></a>\n",
       "</pre>\n"
      ],
      "text/plain": [
       "\u001b[2;36m                   \u001b[0m\u001b[2;36m \u001b[0m\u001b[34mINFO    \u001b[0m Evaluating interpolated model with lambda: \u001b[1;36m0.0\u001b[0m                    \u001b]8;id=880448;file:///media/donato/Extra-storage/Code/model-merging/cycle-consistent-model-merging/src/ccmm/utils/utils.py\u001b\\\u001b[2mccmm.utils.utils\u001b[0m\u001b]8;;\u001b\\\u001b[2m:\u001b[0m\u001b]8;id=93142;file:///media/donato/Extra-storage/Code/model-merging/cycle-consistent-model-merging/src/ccmm/utils/utils.py#168\u001b\\\u001b[2m168\u001b[0m\u001b]8;;\u001b\\\n"
      ]
     },
     "metadata": {},
     "output_type": "display_data"
    },
    {
     "data": {
      "text/html": [
       "<pre style=\"white-space:pre;overflow-x:auto;line-height:normal;font-family:Menlo,'DejaVu Sans Mono',consolas,'Courier New',monospace\">┏━━━━━━━━━━━━━━━━━━━━━━━━━━━┳━━━━━━━━━━━━━━━━━━━━━━━━━━━┓\n",
       "┃<span style=\"font-weight: bold\">        Test metric        </span>┃<span style=\"font-weight: bold\">       DataLoader 0        </span>┃\n",
       "┡━━━━━━━━━━━━━━━━━━━━━━━━━━━╇━━━━━━━━━━━━━━━━━━━━━━━━━━━┩\n",
       "│<span style=\"color: #008080; text-decoration-color: #008080\">         acc/test          </span>│<span style=\"color: #800080; text-decoration-color: #800080\">    0.9811000227928162     </span>│\n",
       "│<span style=\"color: #008080; text-decoration-color: #008080\">         loss/test         </span>│<span style=\"color: #800080; text-decoration-color: #800080\">    0.04600973054766655    </span>│\n",
       "└───────────────────────────┴───────────────────────────┘\n",
       "</pre>\n"
      ],
      "text/plain": [
       "┏━━━━━━━━━━━━━━━━━━━━━━━━━━━┳━━━━━━━━━━━━━━━━━━━━━━━━━━━┓\n",
       "┃\u001b[1m \u001b[0m\u001b[1m       Test metric       \u001b[0m\u001b[1m \u001b[0m┃\u001b[1m \u001b[0m\u001b[1m      DataLoader 0       \u001b[0m\u001b[1m \u001b[0m┃\n",
       "┡━━━━━━━━━━━━━━━━━━━━━━━━━━━╇━━━━━━━━━━━━━━━━━━━━━━━━━━━┩\n",
       "│\u001b[36m \u001b[0m\u001b[36m        acc/test         \u001b[0m\u001b[36m \u001b[0m│\u001b[35m \u001b[0m\u001b[35m   0.9811000227928162    \u001b[0m\u001b[35m \u001b[0m│\n",
       "│\u001b[36m \u001b[0m\u001b[36m        loss/test        \u001b[0m\u001b[36m \u001b[0m│\u001b[35m \u001b[0m\u001b[35m   0.04600973054766655   \u001b[0m\u001b[35m \u001b[0m│\n",
       "└───────────────────────────┴───────────────────────────┘\n"
      ]
     },
     "metadata": {},
     "output_type": "display_data"
    },
    {
     "data": {
      "text/html": [
       "<pre style=\"white-space:pre;overflow-x:auto;line-height:normal;font-family:Menlo,'DejaVu Sans Mono',consolas,'Courier New',monospace\">┏━━━━━━━━━━━━━━━━━━━━━━━━━━━┳━━━━━━━━━━━━━━━━━━━━━━━━━━━┓\n",
       "┃<span style=\"font-weight: bold\">        Test metric        </span>┃<span style=\"font-weight: bold\">       DataLoader 0        </span>┃\n",
       "┡━━━━━━━━━━━━━━━━━━━━━━━━━━━╇━━━━━━━━━━━━━━━━━━━━━━━━━━━┩\n",
       "│<span style=\"color: #008080; text-decoration-color: #008080\">         acc/test          </span>│<span style=\"color: #800080; text-decoration-color: #800080\">    0.9308000206947327     </span>│\n",
       "│<span style=\"color: #008080; text-decoration-color: #008080\">         loss/test         </span>│<span style=\"color: #800080; text-decoration-color: #800080\">    0.42840489745140076    </span>│\n",
       "└───────────────────────────┴───────────────────────────┘\n",
       "</pre>\n"
      ],
      "text/plain": [
       "┏━━━━━━━━━━━━━━━━━━━━━━━━━━━┳━━━━━━━━━━━━━━━━━━━━━━━━━━━┓\n",
       "┃\u001b[1m \u001b[0m\u001b[1m       Test metric       \u001b[0m\u001b[1m \u001b[0m┃\u001b[1m \u001b[0m\u001b[1m      DataLoader 0       \u001b[0m\u001b[1m \u001b[0m┃\n",
       "┡━━━━━━━━━━━━━━━━━━━━━━━━━━━╇━━━━━━━━━━━━━━━━━━━━━━━━━━━┩\n",
       "│\u001b[36m \u001b[0m\u001b[36m        acc/test         \u001b[0m\u001b[36m \u001b[0m│\u001b[35m \u001b[0m\u001b[35m   0.9308000206947327    \u001b[0m\u001b[35m \u001b[0m│\n",
       "│\u001b[36m \u001b[0m\u001b[36m        loss/test        \u001b[0m\u001b[36m \u001b[0m│\u001b[35m \u001b[0m\u001b[35m   0.42840489745140076   \u001b[0m\u001b[35m \u001b[0m│\n",
       "└───────────────────────────┴───────────────────────────┘\n"
      ]
     },
     "metadata": {},
     "output_type": "display_data"
    },
    {
     "name": "stderr",
     "output_type": "stream",
     "text": [
      " 33%|███▎      | 1/3 [00:02<00:05,  2.74s/it]"
     ]
    },
    {
     "data": {
      "text/html": [
       "<pre style=\"white-space:pre;overflow-x:auto;line-height:normal;font-family:Menlo,'DejaVu Sans Mono',consolas,'Courier New',monospace\"><span style=\"color: #7fbfbf; text-decoration-color: #7fbfbf\">2025-01-07 14:17:58 </span><span style=\"color: #000080; text-decoration-color: #000080\">INFO    </span> Evaluating interpolated model with lambda: <span style=\"color: #008080; text-decoration-color: #008080; font-weight: bold\">0.5</span>                    <a href=\"file:///media/donato/Extra-storage/Code/model-merging/cycle-consistent-model-merging/src/ccmm/utils/utils.py\" target=\"_blank\"><span style=\"color: #7f7f7f; text-decoration-color: #7f7f7f\">ccmm.utils.utils</span></a><span style=\"color: #7f7f7f; text-decoration-color: #7f7f7f\">:</span><a href=\"file:///media/donato/Extra-storage/Code/model-merging/cycle-consistent-model-merging/src/ccmm/utils/utils.py#168\" target=\"_blank\"><span style=\"color: #7f7f7f; text-decoration-color: #7f7f7f\">168</span></a>\n",
       "</pre>\n"
      ],
      "text/plain": [
       "\u001b[2;36m2025-01-07 14:17:58\u001b[0m\u001b[2;36m \u001b[0m\u001b[34mINFO    \u001b[0m Evaluating interpolated model with lambda: \u001b[1;36m0.5\u001b[0m                    \u001b]8;id=606268;file:///media/donato/Extra-storage/Code/model-merging/cycle-consistent-model-merging/src/ccmm/utils/utils.py\u001b\\\u001b[2mccmm.utils.utils\u001b[0m\u001b]8;;\u001b\\\u001b[2m:\u001b[0m\u001b]8;id=433500;file:///media/donato/Extra-storage/Code/model-merging/cycle-consistent-model-merging/src/ccmm/utils/utils.py#168\u001b\\\u001b[2m168\u001b[0m\u001b]8;;\u001b\\\n"
      ]
     },
     "metadata": {},
     "output_type": "display_data"
    },
    {
     "data": {
      "text/html": [
       "<pre style=\"white-space:pre;overflow-x:auto;line-height:normal;font-family:Menlo,'DejaVu Sans Mono',consolas,'Courier New',monospace\">┏━━━━━━━━━━━━━━━━━━━━━━━━━━━┳━━━━━━━━━━━━━━━━━━━━━━━━━━━┓\n",
       "┃<span style=\"font-weight: bold\">        Test metric        </span>┃<span style=\"font-weight: bold\">       DataLoader 0        </span>┃\n",
       "┡━━━━━━━━━━━━━━━━━━━━━━━━━━━╇━━━━━━━━━━━━━━━━━━━━━━━━━━━┩\n",
       "│<span style=\"color: #008080; text-decoration-color: #008080\">         acc/test          </span>│<span style=\"color: #800080; text-decoration-color: #800080\">          0.9375           </span>│\n",
       "│<span style=\"color: #008080; text-decoration-color: #008080\">         loss/test         </span>│<span style=\"color: #800080; text-decoration-color: #800080\">    0.2504885792732239     </span>│\n",
       "└───────────────────────────┴───────────────────────────┘\n",
       "</pre>\n"
      ],
      "text/plain": [
       "┏━━━━━━━━━━━━━━━━━━━━━━━━━━━┳━━━━━━━━━━━━━━━━━━━━━━━━━━━┓\n",
       "┃\u001b[1m \u001b[0m\u001b[1m       Test metric       \u001b[0m\u001b[1m \u001b[0m┃\u001b[1m \u001b[0m\u001b[1m      DataLoader 0       \u001b[0m\u001b[1m \u001b[0m┃\n",
       "┡━━━━━━━━━━━━━━━━━━━━━━━━━━━╇━━━━━━━━━━━━━━━━━━━━━━━━━━━┩\n",
       "│\u001b[36m \u001b[0m\u001b[36m        acc/test         \u001b[0m\u001b[36m \u001b[0m│\u001b[35m \u001b[0m\u001b[35m         0.9375          \u001b[0m\u001b[35m \u001b[0m│\n",
       "│\u001b[36m \u001b[0m\u001b[36m        loss/test        \u001b[0m\u001b[36m \u001b[0m│\u001b[35m \u001b[0m\u001b[35m   0.2504885792732239    \u001b[0m\u001b[35m \u001b[0m│\n",
       "└───────────────────────────┴───────────────────────────┘\n"
      ]
     },
     "metadata": {},
     "output_type": "display_data"
    },
    {
     "data": {
      "text/html": [
       "<pre style=\"white-space:pre;overflow-x:auto;line-height:normal;font-family:Menlo,'DejaVu Sans Mono',consolas,'Courier New',monospace\">┏━━━━━━━━━━━━━━━━━━━━━━━━━━━┳━━━━━━━━━━━━━━━━━━━━━━━━━━━┓\n",
       "┃<span style=\"font-weight: bold\">        Test metric        </span>┃<span style=\"font-weight: bold\">       DataLoader 0        </span>┃\n",
       "┡━━━━━━━━━━━━━━━━━━━━━━━━━━━╇━━━━━━━━━━━━━━━━━━━━━━━━━━━┩\n",
       "│<span style=\"color: #008080; text-decoration-color: #008080\">         acc/test          </span>│<span style=\"color: #800080; text-decoration-color: #800080\">    0.9085999727249146     </span>│\n",
       "│<span style=\"color: #008080; text-decoration-color: #008080\">         loss/test         </span>│<span style=\"color: #800080; text-decoration-color: #800080\">    0.34338104724884033    </span>│\n",
       "└───────────────────────────┴───────────────────────────┘\n",
       "</pre>\n"
      ],
      "text/plain": [
       "┏━━━━━━━━━━━━━━━━━━━━━━━━━━━┳━━━━━━━━━━━━━━━━━━━━━━━━━━━┓\n",
       "┃\u001b[1m \u001b[0m\u001b[1m       Test metric       \u001b[0m\u001b[1m \u001b[0m┃\u001b[1m \u001b[0m\u001b[1m      DataLoader 0       \u001b[0m\u001b[1m \u001b[0m┃\n",
       "┡━━━━━━━━━━━━━━━━━━━━━━━━━━━╇━━━━━━━━━━━━━━━━━━━━━━━━━━━┩\n",
       "│\u001b[36m \u001b[0m\u001b[36m        acc/test         \u001b[0m\u001b[36m \u001b[0m│\u001b[35m \u001b[0m\u001b[35m   0.9085999727249146    \u001b[0m\u001b[35m \u001b[0m│\n",
       "│\u001b[36m \u001b[0m\u001b[36m        loss/test        \u001b[0m\u001b[36m \u001b[0m│\u001b[35m \u001b[0m\u001b[35m   0.34338104724884033   \u001b[0m\u001b[35m \u001b[0m│\n",
       "└───────────────────────────┴───────────────────────────┘\n"
      ]
     },
     "metadata": {},
     "output_type": "display_data"
    },
    {
     "name": "stderr",
     "output_type": "stream",
     "text": [
      " 67%|██████▋   | 2/3 [00:04<00:02,  2.44s/it]"
     ]
    },
    {
     "data": {
      "text/html": [
       "<pre style=\"white-space:pre;overflow-x:auto;line-height:normal;font-family:Menlo,'DejaVu Sans Mono',consolas,'Courier New',monospace\"><span style=\"color: #7fbfbf; text-decoration-color: #7fbfbf\">2025-01-07 14:18:00 </span><span style=\"color: #000080; text-decoration-color: #000080\">INFO    </span> Evaluating interpolated model with lambda: <span style=\"color: #008080; text-decoration-color: #008080; font-weight: bold\">1.0</span>                    <a href=\"file:///media/donato/Extra-storage/Code/model-merging/cycle-consistent-model-merging/src/ccmm/utils/utils.py\" target=\"_blank\"><span style=\"color: #7f7f7f; text-decoration-color: #7f7f7f\">ccmm.utils.utils</span></a><span style=\"color: #7f7f7f; text-decoration-color: #7f7f7f\">:</span><a href=\"file:///media/donato/Extra-storage/Code/model-merging/cycle-consistent-model-merging/src/ccmm/utils/utils.py#168\" target=\"_blank\"><span style=\"color: #7f7f7f; text-decoration-color: #7f7f7f\">168</span></a>\n",
       "</pre>\n"
      ],
      "text/plain": [
       "\u001b[2;36m2025-01-07 14:18:00\u001b[0m\u001b[2;36m \u001b[0m\u001b[34mINFO    \u001b[0m Evaluating interpolated model with lambda: \u001b[1;36m1.0\u001b[0m                    \u001b]8;id=304523;file:///media/donato/Extra-storage/Code/model-merging/cycle-consistent-model-merging/src/ccmm/utils/utils.py\u001b\\\u001b[2mccmm.utils.utils\u001b[0m\u001b]8;;\u001b\\\u001b[2m:\u001b[0m\u001b]8;id=181977;file:///media/donato/Extra-storage/Code/model-merging/cycle-consistent-model-merging/src/ccmm/utils/utils.py#168\u001b\\\u001b[2m168\u001b[0m\u001b]8;;\u001b\\\n"
      ]
     },
     "metadata": {},
     "output_type": "display_data"
    },
    {
     "data": {
      "text/html": [
       "<pre style=\"white-space:pre;overflow-x:auto;line-height:normal;font-family:Menlo,'DejaVu Sans Mono',consolas,'Courier New',monospace\">┏━━━━━━━━━━━━━━━━━━━━━━━━━━━┳━━━━━━━━━━━━━━━━━━━━━━━━━━━┓\n",
       "┃<span style=\"font-weight: bold\">        Test metric        </span>┃<span style=\"font-weight: bold\">       DataLoader 0        </span>┃\n",
       "┡━━━━━━━━━━━━━━━━━━━━━━━━━━━╇━━━━━━━━━━━━━━━━━━━━━━━━━━━┩\n",
       "│<span style=\"color: #008080; text-decoration-color: #008080\">         acc/test          </span>│<span style=\"color: #800080; text-decoration-color: #800080\">    0.9769999980926514     </span>│\n",
       "│<span style=\"color: #008080; text-decoration-color: #008080\">         loss/test         </span>│<span style=\"color: #800080; text-decoration-color: #800080\">    0.05489429831504822    </span>│\n",
       "└───────────────────────────┴───────────────────────────┘\n",
       "</pre>\n"
      ],
      "text/plain": [
       "┏━━━━━━━━━━━━━━━━━━━━━━━━━━━┳━━━━━━━━━━━━━━━━━━━━━━━━━━━┓\n",
       "┃\u001b[1m \u001b[0m\u001b[1m       Test metric       \u001b[0m\u001b[1m \u001b[0m┃\u001b[1m \u001b[0m\u001b[1m      DataLoader 0       \u001b[0m\u001b[1m \u001b[0m┃\n",
       "┡━━━━━━━━━━━━━━━━━━━━━━━━━━━╇━━━━━━━━━━━━━━━━━━━━━━━━━━━┩\n",
       "│\u001b[36m \u001b[0m\u001b[36m        acc/test         \u001b[0m\u001b[36m \u001b[0m│\u001b[35m \u001b[0m\u001b[35m   0.9769999980926514    \u001b[0m\u001b[35m \u001b[0m│\n",
       "│\u001b[36m \u001b[0m\u001b[36m        loss/test        \u001b[0m\u001b[36m \u001b[0m│\u001b[35m \u001b[0m\u001b[35m   0.05489429831504822   \u001b[0m\u001b[35m \u001b[0m│\n",
       "└───────────────────────────┴───────────────────────────┘\n"
      ]
     },
     "metadata": {},
     "output_type": "display_data"
    },
    {
     "data": {
      "text/html": [
       "<pre style=\"white-space:pre;overflow-x:auto;line-height:normal;font-family:Menlo,'DejaVu Sans Mono',consolas,'Courier New',monospace\">┏━━━━━━━━━━━━━━━━━━━━━━━━━━━┳━━━━━━━━━━━━━━━━━━━━━━━━━━━┓\n",
       "┃<span style=\"font-weight: bold\">        Test metric        </span>┃<span style=\"font-weight: bold\">       DataLoader 0        </span>┃\n",
       "┡━━━━━━━━━━━━━━━━━━━━━━━━━━━╇━━━━━━━━━━━━━━━━━━━━━━━━━━━┩\n",
       "│<span style=\"color: #008080; text-decoration-color: #008080\">         acc/test          </span>│<span style=\"color: #800080; text-decoration-color: #800080\">    0.9241999983787537     </span>│\n",
       "│<span style=\"color: #008080; text-decoration-color: #008080\">         loss/test         </span>│<span style=\"color: #800080; text-decoration-color: #800080\">    0.49278759956359863    </span>│\n",
       "└───────────────────────────┴───────────────────────────┘\n",
       "</pre>\n"
      ],
      "text/plain": [
       "┏━━━━━━━━━━━━━━━━━━━━━━━━━━━┳━━━━━━━━━━━━━━━━━━━━━━━━━━━┓\n",
       "┃\u001b[1m \u001b[0m\u001b[1m       Test metric       \u001b[0m\u001b[1m \u001b[0m┃\u001b[1m \u001b[0m\u001b[1m      DataLoader 0       \u001b[0m\u001b[1m \u001b[0m┃\n",
       "┡━━━━━━━━━━━━━━━━━━━━━━━━━━━╇━━━━━━━━━━━━━━━━━━━━━━━━━━━┩\n",
       "│\u001b[36m \u001b[0m\u001b[36m        acc/test         \u001b[0m\u001b[36m \u001b[0m│\u001b[35m \u001b[0m\u001b[35m   0.9241999983787537    \u001b[0m\u001b[35m \u001b[0m│\n",
       "│\u001b[36m \u001b[0m\u001b[36m        loss/test        \u001b[0m\u001b[36m \u001b[0m│\u001b[35m \u001b[0m\u001b[35m   0.49278759956359863   \u001b[0m\u001b[35m \u001b[0m│\n",
       "└───────────────────────────┴───────────────────────────┘\n"
      ]
     },
     "metadata": {},
     "output_type": "display_data"
    },
    {
     "name": "stderr",
     "output_type": "stream",
     "text": [
      "100%|██████████| 3/3 [00:07<00:00,  2.43s/it]\n"
     ]
    }
   ],
   "source": [
    "from scripts.evaluate_matched_models import evaluate_pair_of_models\n",
    "\n",
    "restore_original_weights(models, model_orig_weights)\n",
    "\n",
    "updated_params = {fixed_symbol: {permutee_symbol: None}}\n",
    "\n",
    "pylogger.info(f\"Permuting model {permutee_symbol} into {fixed_symbol}.\")\n",
    "\n",
    "# perms[a, b] maps b -> a\n",
    "updated_params[fixed_symbol][permutee_symbol] = apply_permutation_to_statedict(\n",
    "    permutation_spec, func_permutations[fixed_symbol][permutee_symbol], models[permutee_symbol].model.state_dict()\n",
    ")\n",
    "restore_original_weights(models, model_orig_weights)\n",
    "\n",
    "lambdas = [0.0, 0.5, 1.0]\n",
    "\n",
    "func_results = evaluate_pair_of_models(\n",
    "    models,\n",
    "    fixed_symbol,\n",
    "    permutee_symbol,\n",
    "    updated_params,\n",
    "    train_loader,\n",
    "    test_loader,\n",
    "    lambdas,\n",
    "    core_cfg,\n",
    ")"
   ]
  },
  {
   "cell_type": "markdown",
   "metadata": {},
   "source": [
    "### Naive"
   ]
  },
  {
   "cell_type": "code",
   "execution_count": null,
   "metadata": {},
   "outputs": [],
   "source": [
    "restore_original_weights(models, model_orig_weights)"
   ]
  },
  {
   "cell_type": "code",
   "execution_count": null,
   "metadata": {},
   "outputs": [],
   "source": [
    "from ccmm.matching.matcher import DummyMatcher\n",
    "\n",
    "matcher = DummyMatcher(name=\"naive\", permutation_spec=permutation_spec)"
   ]
  },
  {
   "cell_type": "code",
   "execution_count": null,
   "metadata": {},
   "outputs": [],
   "source": [
    "# dicts for permutations and permuted params, D[a][b] refers to the permutation/params to map b -> a\n",
    "naive_permutations = {symb: {other_symb: None for other_symb in symbols.difference(symb)} for symb in symbols}\n",
    "\n",
    "naive_permutations[fixed_symbol][permutee_symbol], perm_history = matcher(\n",
    "    fixed=fixed_model.model, permutee=permutee_model.model\n",
    ")\n",
    "\n",
    "naive_permutations[permutee_symbol][fixed_symbol] = get_inverse_permutations(\n",
    "    naive_permutations[fixed_symbol][permutee_symbol]\n",
    ")"
   ]
  },
  {
   "cell_type": "code",
   "execution_count": null,
   "metadata": {},
   "outputs": [
    {
     "data": {
      "text/html": [
       "<pre style=\"white-space:pre;overflow-x:auto;line-height:normal;font-family:Menlo,'DejaVu Sans Mono',consolas,'Courier New',monospace\"><span style=\"color: #7fbfbf; text-decoration-color: #7fbfbf\">2025-01-07 14:18:03 </span><span style=\"color: #000080; text-decoration-color: #000080\">INFO    </span> Permuting model b into a.                                                   <a href=\"file:///tmp/ipykernel_119418/3939703209.py\" target=\"_blank\"><span style=\"color: #7f7f7f; text-decoration-color: #7f7f7f\">__main__</span></a><span style=\"color: #7f7f7f; text-decoration-color: #7f7f7f\">:</span><a href=\"file:///tmp/ipykernel_119418/3939703209.py#7\" target=\"_blank\"><span style=\"color: #7f7f7f; text-decoration-color: #7f7f7f\">7</span></a>\n",
       "</pre>\n"
      ],
      "text/plain": [
       "\u001b[2;36m2025-01-07 14:18:03\u001b[0m\u001b[2;36m \u001b[0m\u001b[34mINFO    \u001b[0m Permuting model b into a.                                                   \u001b]8;id=363110;file:///tmp/ipykernel_119418/3939703209.py\u001b\\\u001b[2m__main__\u001b[0m\u001b]8;;\u001b\\\u001b[2m:\u001b[0m\u001b]8;id=352203;file:///tmp/ipykernel_119418/3939703209.py#7\u001b\\\u001b[2m7\u001b[0m\u001b]8;;\u001b\\\n"
      ]
     },
     "metadata": {},
     "output_type": "display_data"
    }
   ],
   "source": [
    "from scripts.evaluate_matched_models import evaluate_pair_of_models\n",
    "\n",
    "restore_original_weights(models, model_orig_weights)\n",
    "\n",
    "updated_params = {fixed_symbol: {permutee_symbol: None}}\n",
    "\n",
    "pylogger.info(f\"Permuting model {permutee_symbol} into {fixed_symbol}.\")\n",
    "\n",
    "# perms[a, b] maps b -> a\n",
    "updated_params[fixed_symbol][permutee_symbol] = apply_permutation_to_statedict(\n",
    "    permutation_spec, naive_permutations[fixed_symbol][permutee_symbol], models[permutee_symbol].model.state_dict()\n",
    ")\n",
    "restore_original_weights(models, model_orig_weights)\n",
    "\n",
    "lambdas = [0.0, 0.5, 1]  # np.linspace(0, 1, num=4)"
   ]
  },
  {
   "cell_type": "code",
   "execution_count": null,
   "metadata": {},
   "outputs": [
    {
     "data": {
      "text/html": [
       "<pre style=\"white-space:pre;overflow-x:auto;line-height:normal;font-family:Menlo,'DejaVu Sans Mono',consolas,'Courier New',monospace\"><span style=\"color: #7fbfbf; text-decoration-color: #7fbfbf\">                    </span><span style=\"color: #000080; text-decoration-color: #000080\">INFO    </span> GPU available: <span style=\"color: #00ff00; text-decoration-color: #00ff00; font-style: italic\">True</span> <span style=\"font-weight: bold\">(</span>cuda<span style=\"font-weight: bold\">)</span>, used: <span style=\"color: #00ff00; text-decoration-color: #00ff00; font-style: italic\">True</span>      <a href=\"file:///home/donato/miniconda3/envs/ccmm/lib/python3.9/site-packages/pytorch_lightning/trainer/trainer.py\" target=\"_blank\"><span style=\"color: #7f7f7f; text-decoration-color: #7f7f7f\">pytorch_lightning.utilities.rank_zero</span></a><span style=\"color: #7f7f7f; text-decoration-color: #7f7f7f\">:</span><a href=\"file:///home/donato/miniconda3/envs/ccmm/lib/python3.9/site-packages/pytorch_lightning/trainer/trainer.py#1751\" target=\"_blank\"><span style=\"color: #7f7f7f; text-decoration-color: #7f7f7f\">1751</span></a>\n",
       "</pre>\n"
      ],
      "text/plain": [
       "\u001b[2;36m                   \u001b[0m\u001b[2;36m \u001b[0m\u001b[34mINFO    \u001b[0m GPU available: \u001b[3;92mTrue\u001b[0m \u001b[1m(\u001b[0mcuda\u001b[1m)\u001b[0m, used: \u001b[3;92mTrue\u001b[0m      \u001b]8;id=795511;file:///home/donato/miniconda3/envs/ccmm/lib/python3.9/site-packages/pytorch_lightning/trainer/trainer.py\u001b\\\u001b[2mpytorch_lightning.utilities.rank_zero\u001b[0m\u001b]8;;\u001b\\\u001b[2m:\u001b[0m\u001b]8;id=306917;file:///home/donato/miniconda3/envs/ccmm/lib/python3.9/site-packages/pytorch_lightning/trainer/trainer.py#1751\u001b\\\u001b[2m1751\u001b[0m\u001b]8;;\u001b\\\n"
      ]
     },
     "metadata": {},
     "output_type": "display_data"
    },
    {
     "data": {
      "text/html": [
       "<pre style=\"white-space:pre;overflow-x:auto;line-height:normal;font-family:Menlo,'DejaVu Sans Mono',consolas,'Courier New',monospace\"><span style=\"color: #7fbfbf; text-decoration-color: #7fbfbf\">                    </span><span style=\"color: #000080; text-decoration-color: #000080\">INFO    </span> TPU available: <span style=\"color: #ff0000; text-decoration-color: #ff0000; font-style: italic\">False</span>, using: <span style=\"color: #008080; text-decoration-color: #008080; font-weight: bold\">0</span> TPU cores    <a href=\"file:///home/donato/miniconda3/envs/ccmm/lib/python3.9/site-packages/pytorch_lightning/trainer/trainer.py\" target=\"_blank\"><span style=\"color: #7f7f7f; text-decoration-color: #7f7f7f\">pytorch_lightning.utilities.rank_zero</span></a><span style=\"color: #7f7f7f; text-decoration-color: #7f7f7f\">:</span><a href=\"file:///home/donato/miniconda3/envs/ccmm/lib/python3.9/site-packages/pytorch_lightning/trainer/trainer.py#1754\" target=\"_blank\"><span style=\"color: #7f7f7f; text-decoration-color: #7f7f7f\">1754</span></a>\n",
       "</pre>\n"
      ],
      "text/plain": [
       "\u001b[2;36m                   \u001b[0m\u001b[2;36m \u001b[0m\u001b[34mINFO    \u001b[0m TPU available: \u001b[3;91mFalse\u001b[0m, using: \u001b[1;36m0\u001b[0m TPU cores    \u001b]8;id=516868;file:///home/donato/miniconda3/envs/ccmm/lib/python3.9/site-packages/pytorch_lightning/trainer/trainer.py\u001b\\\u001b[2mpytorch_lightning.utilities.rank_zero\u001b[0m\u001b]8;;\u001b\\\u001b[2m:\u001b[0m\u001b]8;id=501030;file:///home/donato/miniconda3/envs/ccmm/lib/python3.9/site-packages/pytorch_lightning/trainer/trainer.py#1754\u001b\\\u001b[2m1754\u001b[0m\u001b]8;;\u001b\\\n"
      ]
     },
     "metadata": {},
     "output_type": "display_data"
    },
    {
     "data": {
      "text/html": [
       "<pre style=\"white-space:pre;overflow-x:auto;line-height:normal;font-family:Menlo,'DejaVu Sans Mono',consolas,'Courier New',monospace\"><span style=\"color: #7fbfbf; text-decoration-color: #7fbfbf\">                    </span><span style=\"color: #000080; text-decoration-color: #000080\">INFO    </span> IPU available: <span style=\"color: #ff0000; text-decoration-color: #ff0000; font-style: italic\">False</span>, using: <span style=\"color: #008080; text-decoration-color: #008080; font-weight: bold\">0</span> IPUs         <a href=\"file:///home/donato/miniconda3/envs/ccmm/lib/python3.9/site-packages/pytorch_lightning/trainer/trainer.py\" target=\"_blank\"><span style=\"color: #7f7f7f; text-decoration-color: #7f7f7f\">pytorch_lightning.utilities.rank_zero</span></a><span style=\"color: #7f7f7f; text-decoration-color: #7f7f7f\">:</span><a href=\"file:///home/donato/miniconda3/envs/ccmm/lib/python3.9/site-packages/pytorch_lightning/trainer/trainer.py#1757\" target=\"_blank\"><span style=\"color: #7f7f7f; text-decoration-color: #7f7f7f\">1757</span></a>\n",
       "</pre>\n"
      ],
      "text/plain": [
       "\u001b[2;36m                   \u001b[0m\u001b[2;36m \u001b[0m\u001b[34mINFO    \u001b[0m IPU available: \u001b[3;91mFalse\u001b[0m, using: \u001b[1;36m0\u001b[0m IPUs         \u001b]8;id=153671;file:///home/donato/miniconda3/envs/ccmm/lib/python3.9/site-packages/pytorch_lightning/trainer/trainer.py\u001b\\\u001b[2mpytorch_lightning.utilities.rank_zero\u001b[0m\u001b]8;;\u001b\\\u001b[2m:\u001b[0m\u001b]8;id=557821;file:///home/donato/miniconda3/envs/ccmm/lib/python3.9/site-packages/pytorch_lightning/trainer/trainer.py#1757\u001b\\\u001b[2m1757\u001b[0m\u001b]8;;\u001b\\\n"
      ]
     },
     "metadata": {},
     "output_type": "display_data"
    },
    {
     "data": {
      "text/html": [
       "<pre style=\"white-space:pre;overflow-x:auto;line-height:normal;font-family:Menlo,'DejaVu Sans Mono',consolas,'Courier New',monospace\"><span style=\"color: #7fbfbf; text-decoration-color: #7fbfbf\">                    </span><span style=\"color: #000080; text-decoration-color: #000080\">INFO    </span> HPU available: <span style=\"color: #ff0000; text-decoration-color: #ff0000; font-style: italic\">False</span>, using: <span style=\"color: #008080; text-decoration-color: #008080; font-weight: bold\">0</span> HPUs         <a href=\"file:///home/donato/miniconda3/envs/ccmm/lib/python3.9/site-packages/pytorch_lightning/trainer/trainer.py\" target=\"_blank\"><span style=\"color: #7f7f7f; text-decoration-color: #7f7f7f\">pytorch_lightning.utilities.rank_zero</span></a><span style=\"color: #7f7f7f; text-decoration-color: #7f7f7f\">:</span><a href=\"file:///home/donato/miniconda3/envs/ccmm/lib/python3.9/site-packages/pytorch_lightning/trainer/trainer.py#1760\" target=\"_blank\"><span style=\"color: #7f7f7f; text-decoration-color: #7f7f7f\">1760</span></a>\n",
       "</pre>\n"
      ],
      "text/plain": [
       "\u001b[2;36m                   \u001b[0m\u001b[2;36m \u001b[0m\u001b[34mINFO    \u001b[0m HPU available: \u001b[3;91mFalse\u001b[0m, using: \u001b[1;36m0\u001b[0m HPUs         \u001b]8;id=160486;file:///home/donato/miniconda3/envs/ccmm/lib/python3.9/site-packages/pytorch_lightning/trainer/trainer.py\u001b\\\u001b[2mpytorch_lightning.utilities.rank_zero\u001b[0m\u001b]8;;\u001b\\\u001b[2m:\u001b[0m\u001b]8;id=373934;file:///home/donato/miniconda3/envs/ccmm/lib/python3.9/site-packages/pytorch_lightning/trainer/trainer.py#1760\u001b\\\u001b[2m1760\u001b[0m\u001b]8;;\u001b\\\n"
      ]
     },
     "metadata": {},
     "output_type": "display_data"
    },
    {
     "name": "stderr",
     "output_type": "stream",
     "text": [
      "  0%|          | 0/3 [00:00<?, ?it/s]"
     ]
    },
    {
     "data": {
      "text/html": [
       "<pre style=\"white-space:pre;overflow-x:auto;line-height:normal;font-family:Menlo,'DejaVu Sans Mono',consolas,'Courier New',monospace\"><span style=\"color: #7fbfbf; text-decoration-color: #7fbfbf\">                    </span><span style=\"color: #000080; text-decoration-color: #000080\">INFO    </span> Evaluating interpolated model with lambda: <span style=\"color: #008080; text-decoration-color: #008080; font-weight: bold\">0.0</span>                    <a href=\"file:///media/donato/Extra-storage/Code/model-merging/cycle-consistent-model-merging/src/ccmm/utils/utils.py\" target=\"_blank\"><span style=\"color: #7f7f7f; text-decoration-color: #7f7f7f\">ccmm.utils.utils</span></a><span style=\"color: #7f7f7f; text-decoration-color: #7f7f7f\">:</span><a href=\"file:///media/donato/Extra-storage/Code/model-merging/cycle-consistent-model-merging/src/ccmm/utils/utils.py#168\" target=\"_blank\"><span style=\"color: #7f7f7f; text-decoration-color: #7f7f7f\">168</span></a>\n",
       "</pre>\n"
      ],
      "text/plain": [
       "\u001b[2;36m                   \u001b[0m\u001b[2;36m \u001b[0m\u001b[34mINFO    \u001b[0m Evaluating interpolated model with lambda: \u001b[1;36m0.0\u001b[0m                    \u001b]8;id=91815;file:///media/donato/Extra-storage/Code/model-merging/cycle-consistent-model-merging/src/ccmm/utils/utils.py\u001b\\\u001b[2mccmm.utils.utils\u001b[0m\u001b]8;;\u001b\\\u001b[2m:\u001b[0m\u001b]8;id=276296;file:///media/donato/Extra-storage/Code/model-merging/cycle-consistent-model-merging/src/ccmm/utils/utils.py#168\u001b\\\u001b[2m168\u001b[0m\u001b]8;;\u001b\\\n"
      ]
     },
     "metadata": {},
     "output_type": "display_data"
    },
    {
     "data": {
      "text/html": [
       "<pre style=\"white-space:pre;overflow-x:auto;line-height:normal;font-family:Menlo,'DejaVu Sans Mono',consolas,'Courier New',monospace\">┏━━━━━━━━━━━━━━━━━━━━━━━━━━━┳━━━━━━━━━━━━━━━━━━━━━━━━━━━┓\n",
       "┃<span style=\"font-weight: bold\">        Test metric        </span>┃<span style=\"font-weight: bold\">       DataLoader 0        </span>┃\n",
       "┡━━━━━━━━━━━━━━━━━━━━━━━━━━━╇━━━━━━━━━━━━━━━━━━━━━━━━━━━┩\n",
       "│<span style=\"color: #008080; text-decoration-color: #008080\">         acc/test          </span>│<span style=\"color: #800080; text-decoration-color: #800080\">    0.9811000227928162     </span>│\n",
       "│<span style=\"color: #008080; text-decoration-color: #008080\">         loss/test         </span>│<span style=\"color: #800080; text-decoration-color: #800080\">    0.04600973054766655    </span>│\n",
       "└───────────────────────────┴───────────────────────────┘\n",
       "</pre>\n"
      ],
      "text/plain": [
       "┏━━━━━━━━━━━━━━━━━━━━━━━━━━━┳━━━━━━━━━━━━━━━━━━━━━━━━━━━┓\n",
       "┃\u001b[1m \u001b[0m\u001b[1m       Test metric       \u001b[0m\u001b[1m \u001b[0m┃\u001b[1m \u001b[0m\u001b[1m      DataLoader 0       \u001b[0m\u001b[1m \u001b[0m┃\n",
       "┡━━━━━━━━━━━━━━━━━━━━━━━━━━━╇━━━━━━━━━━━━━━━━━━━━━━━━━━━┩\n",
       "│\u001b[36m \u001b[0m\u001b[36m        acc/test         \u001b[0m\u001b[36m \u001b[0m│\u001b[35m \u001b[0m\u001b[35m   0.9811000227928162    \u001b[0m\u001b[35m \u001b[0m│\n",
       "│\u001b[36m \u001b[0m\u001b[36m        loss/test        \u001b[0m\u001b[36m \u001b[0m│\u001b[35m \u001b[0m\u001b[35m   0.04600973054766655   \u001b[0m\u001b[35m \u001b[0m│\n",
       "└───────────────────────────┴───────────────────────────┘\n"
      ]
     },
     "metadata": {},
     "output_type": "display_data"
    },
    {
     "data": {
      "text/html": [
       "<pre style=\"white-space:pre;overflow-x:auto;line-height:normal;font-family:Menlo,'DejaVu Sans Mono',consolas,'Courier New',monospace\">┏━━━━━━━━━━━━━━━━━━━━━━━━━━━┳━━━━━━━━━━━━━━━━━━━━━━━━━━━┓\n",
       "┃<span style=\"font-weight: bold\">        Test metric        </span>┃<span style=\"font-weight: bold\">       DataLoader 0        </span>┃\n",
       "┡━━━━━━━━━━━━━━━━━━━━━━━━━━━╇━━━━━━━━━━━━━━━━━━━━━━━━━━━┩\n",
       "│<span style=\"color: #008080; text-decoration-color: #008080\">         acc/test          </span>│<span style=\"color: #800080; text-decoration-color: #800080\">    0.9308000206947327     </span>│\n",
       "│<span style=\"color: #008080; text-decoration-color: #008080\">         loss/test         </span>│<span style=\"color: #800080; text-decoration-color: #800080\">    0.42840489745140076    </span>│\n",
       "└───────────────────────────┴───────────────────────────┘\n",
       "</pre>\n"
      ],
      "text/plain": [
       "┏━━━━━━━━━━━━━━━━━━━━━━━━━━━┳━━━━━━━━━━━━━━━━━━━━━━━━━━━┓\n",
       "┃\u001b[1m \u001b[0m\u001b[1m       Test metric       \u001b[0m\u001b[1m \u001b[0m┃\u001b[1m \u001b[0m\u001b[1m      DataLoader 0       \u001b[0m\u001b[1m \u001b[0m┃\n",
       "┡━━━━━━━━━━━━━━━━━━━━━━━━━━━╇━━━━━━━━━━━━━━━━━━━━━━━━━━━┩\n",
       "│\u001b[36m \u001b[0m\u001b[36m        acc/test         \u001b[0m\u001b[36m \u001b[0m│\u001b[35m \u001b[0m\u001b[35m   0.9308000206947327    \u001b[0m\u001b[35m \u001b[0m│\n",
       "│\u001b[36m \u001b[0m\u001b[36m        loss/test        \u001b[0m\u001b[36m \u001b[0m│\u001b[35m \u001b[0m\u001b[35m   0.42840489745140076   \u001b[0m\u001b[35m \u001b[0m│\n",
       "└───────────────────────────┴───────────────────────────┘\n"
      ]
     },
     "metadata": {},
     "output_type": "display_data"
    },
    {
     "name": "stderr",
     "output_type": "stream",
     "text": [
      " 33%|███▎      | 1/3 [00:02<00:04,  2.28s/it]"
     ]
    },
    {
     "data": {
      "text/html": [
       "<pre style=\"white-space:pre;overflow-x:auto;line-height:normal;font-family:Menlo,'DejaVu Sans Mono',consolas,'Courier New',monospace\"><span style=\"color: #7fbfbf; text-decoration-color: #7fbfbf\">2025-01-07 14:18:06 </span><span style=\"color: #000080; text-decoration-color: #000080\">INFO    </span> Evaluating interpolated model with lambda: <span style=\"color: #008080; text-decoration-color: #008080; font-weight: bold\">0.5</span>                    <a href=\"file:///media/donato/Extra-storage/Code/model-merging/cycle-consistent-model-merging/src/ccmm/utils/utils.py\" target=\"_blank\"><span style=\"color: #7f7f7f; text-decoration-color: #7f7f7f\">ccmm.utils.utils</span></a><span style=\"color: #7f7f7f; text-decoration-color: #7f7f7f\">:</span><a href=\"file:///media/donato/Extra-storage/Code/model-merging/cycle-consistent-model-merging/src/ccmm/utils/utils.py#168\" target=\"_blank\"><span style=\"color: #7f7f7f; text-decoration-color: #7f7f7f\">168</span></a>\n",
       "</pre>\n"
      ],
      "text/plain": [
       "\u001b[2;36m2025-01-07 14:18:06\u001b[0m\u001b[2;36m \u001b[0m\u001b[34mINFO    \u001b[0m Evaluating interpolated model with lambda: \u001b[1;36m0.5\u001b[0m                    \u001b]8;id=185241;file:///media/donato/Extra-storage/Code/model-merging/cycle-consistent-model-merging/src/ccmm/utils/utils.py\u001b\\\u001b[2mccmm.utils.utils\u001b[0m\u001b]8;;\u001b\\\u001b[2m:\u001b[0m\u001b]8;id=768926;file:///media/donato/Extra-storage/Code/model-merging/cycle-consistent-model-merging/src/ccmm/utils/utils.py#168\u001b\\\u001b[2m168\u001b[0m\u001b]8;;\u001b\\\n"
      ]
     },
     "metadata": {},
     "output_type": "display_data"
    },
    {
     "data": {
      "text/html": [
       "<pre style=\"white-space:pre;overflow-x:auto;line-height:normal;font-family:Menlo,'DejaVu Sans Mono',consolas,'Courier New',monospace\">┏━━━━━━━━━━━━━━━━━━━━━━━━━━━┳━━━━━━━━━━━━━━━━━━━━━━━━━━━┓\n",
       "┃<span style=\"font-weight: bold\">        Test metric        </span>┃<span style=\"font-weight: bold\">       DataLoader 0        </span>┃\n",
       "┡━━━━━━━━━━━━━━━━━━━━━━━━━━━╇━━━━━━━━━━━━━━━━━━━━━━━━━━━┩\n",
       "│<span style=\"color: #008080; text-decoration-color: #008080\">         acc/test          </span>│<span style=\"color: #800080; text-decoration-color: #800080\">    0.21060000360012054    </span>│\n",
       "│<span style=\"color: #008080; text-decoration-color: #008080\">         loss/test         </span>│<span style=\"color: #800080; text-decoration-color: #800080\">     3.092921018600464     </span>│\n",
       "└───────────────────────────┴───────────────────────────┘\n",
       "</pre>\n"
      ],
      "text/plain": [
       "┏━━━━━━━━━━━━━━━━━━━━━━━━━━━┳━━━━━━━━━━━━━━━━━━━━━━━━━━━┓\n",
       "┃\u001b[1m \u001b[0m\u001b[1m       Test metric       \u001b[0m\u001b[1m \u001b[0m┃\u001b[1m \u001b[0m\u001b[1m      DataLoader 0       \u001b[0m\u001b[1m \u001b[0m┃\n",
       "┡━━━━━━━━━━━━━━━━━━━━━━━━━━━╇━━━━━━━━━━━━━━━━━━━━━━━━━━━┩\n",
       "│\u001b[36m \u001b[0m\u001b[36m        acc/test         \u001b[0m\u001b[36m \u001b[0m│\u001b[35m \u001b[0m\u001b[35m   0.21060000360012054   \u001b[0m\u001b[35m \u001b[0m│\n",
       "│\u001b[36m \u001b[0m\u001b[36m        loss/test        \u001b[0m\u001b[36m \u001b[0m│\u001b[35m \u001b[0m\u001b[35m    3.092921018600464    \u001b[0m\u001b[35m \u001b[0m│\n",
       "└───────────────────────────┴───────────────────────────┘\n"
      ]
     },
     "metadata": {},
     "output_type": "display_data"
    },
    {
     "data": {
      "text/html": [
       "<pre style=\"white-space:pre;overflow-x:auto;line-height:normal;font-family:Menlo,'DejaVu Sans Mono',consolas,'Courier New',monospace\">┏━━━━━━━━━━━━━━━━━━━━━━━━━━━┳━━━━━━━━━━━━━━━━━━━━━━━━━━━┓\n",
       "┃<span style=\"font-weight: bold\">        Test metric        </span>┃<span style=\"font-weight: bold\">       DataLoader 0        </span>┃\n",
       "┡━━━━━━━━━━━━━━━━━━━━━━━━━━━╇━━━━━━━━━━━━━━━━━━━━━━━━━━━┩\n",
       "│<span style=\"color: #008080; text-decoration-color: #008080\">         acc/test          </span>│<span style=\"color: #800080; text-decoration-color: #800080\">    0.2443999946117401     </span>│\n",
       "│<span style=\"color: #008080; text-decoration-color: #008080\">         loss/test         </span>│<span style=\"color: #800080; text-decoration-color: #800080\">    3.0487773418426514     </span>│\n",
       "└───────────────────────────┴───────────────────────────┘\n",
       "</pre>\n"
      ],
      "text/plain": [
       "┏━━━━━━━━━━━━━━━━━━━━━━━━━━━┳━━━━━━━━━━━━━━━━━━━━━━━━━━━┓\n",
       "┃\u001b[1m \u001b[0m\u001b[1m       Test metric       \u001b[0m\u001b[1m \u001b[0m┃\u001b[1m \u001b[0m\u001b[1m      DataLoader 0       \u001b[0m\u001b[1m \u001b[0m┃\n",
       "┡━━━━━━━━━━━━━━━━━━━━━━━━━━━╇━━━━━━━━━━━━━━━━━━━━━━━━━━━┩\n",
       "│\u001b[36m \u001b[0m\u001b[36m        acc/test         \u001b[0m\u001b[36m \u001b[0m│\u001b[35m \u001b[0m\u001b[35m   0.2443999946117401    \u001b[0m\u001b[35m \u001b[0m│\n",
       "│\u001b[36m \u001b[0m\u001b[36m        loss/test        \u001b[0m\u001b[36m \u001b[0m│\u001b[35m \u001b[0m\u001b[35m   3.0487773418426514    \u001b[0m\u001b[35m \u001b[0m│\n",
       "└───────────────────────────┴───────────────────────────┘\n"
      ]
     },
     "metadata": {},
     "output_type": "display_data"
    },
    {
     "name": "stderr",
     "output_type": "stream",
     "text": [
      " 67%|██████▋   | 2/3 [00:04<00:02,  2.26s/it]"
     ]
    },
    {
     "data": {
      "text/html": [
       "<pre style=\"white-space:pre;overflow-x:auto;line-height:normal;font-family:Menlo,'DejaVu Sans Mono',consolas,'Courier New',monospace\"><span style=\"color: #7fbfbf; text-decoration-color: #7fbfbf\">2025-01-07 14:18:08 </span><span style=\"color: #000080; text-decoration-color: #000080\">INFO    </span> Evaluating interpolated model with lambda: <span style=\"color: #008080; text-decoration-color: #008080; font-weight: bold\">1</span>                      <a href=\"file:///media/donato/Extra-storage/Code/model-merging/cycle-consistent-model-merging/src/ccmm/utils/utils.py\" target=\"_blank\"><span style=\"color: #7f7f7f; text-decoration-color: #7f7f7f\">ccmm.utils.utils</span></a><span style=\"color: #7f7f7f; text-decoration-color: #7f7f7f\">:</span><a href=\"file:///media/donato/Extra-storage/Code/model-merging/cycle-consistent-model-merging/src/ccmm/utils/utils.py#168\" target=\"_blank\"><span style=\"color: #7f7f7f; text-decoration-color: #7f7f7f\">168</span></a>\n",
       "</pre>\n"
      ],
      "text/plain": [
       "\u001b[2;36m2025-01-07 14:18:08\u001b[0m\u001b[2;36m \u001b[0m\u001b[34mINFO    \u001b[0m Evaluating interpolated model with lambda: \u001b[1;36m1\u001b[0m                      \u001b]8;id=953790;file:///media/donato/Extra-storage/Code/model-merging/cycle-consistent-model-merging/src/ccmm/utils/utils.py\u001b\\\u001b[2mccmm.utils.utils\u001b[0m\u001b]8;;\u001b\\\u001b[2m:\u001b[0m\u001b]8;id=500478;file:///media/donato/Extra-storage/Code/model-merging/cycle-consistent-model-merging/src/ccmm/utils/utils.py#168\u001b\\\u001b[2m168\u001b[0m\u001b]8;;\u001b\\\n"
      ]
     },
     "metadata": {},
     "output_type": "display_data"
    },
    {
     "data": {
      "text/html": [
       "<pre style=\"white-space:pre;overflow-x:auto;line-height:normal;font-family:Menlo,'DejaVu Sans Mono',consolas,'Courier New',monospace\">┏━━━━━━━━━━━━━━━━━━━━━━━━━━━┳━━━━━━━━━━━━━━━━━━━━━━━━━━━┓\n",
       "┃<span style=\"font-weight: bold\">        Test metric        </span>┃<span style=\"font-weight: bold\">       DataLoader 0        </span>┃\n",
       "┡━━━━━━━━━━━━━━━━━━━━━━━━━━━╇━━━━━━━━━━━━━━━━━━━━━━━━━━━┩\n",
       "│<span style=\"color: #008080; text-decoration-color: #008080\">         acc/test          </span>│<span style=\"color: #800080; text-decoration-color: #800080\">    0.9769999980926514     </span>│\n",
       "│<span style=\"color: #008080; text-decoration-color: #008080\">         loss/test         </span>│<span style=\"color: #800080; text-decoration-color: #800080\">    0.05489429831504822    </span>│\n",
       "└───────────────────────────┴───────────────────────────┘\n",
       "</pre>\n"
      ],
      "text/plain": [
       "┏━━━━━━━━━━━━━━━━━━━━━━━━━━━┳━━━━━━━━━━━━━━━━━━━━━━━━━━━┓\n",
       "┃\u001b[1m \u001b[0m\u001b[1m       Test metric       \u001b[0m\u001b[1m \u001b[0m┃\u001b[1m \u001b[0m\u001b[1m      DataLoader 0       \u001b[0m\u001b[1m \u001b[0m┃\n",
       "┡━━━━━━━━━━━━━━━━━━━━━━━━━━━╇━━━━━━━━━━━━━━━━━━━━━━━━━━━┩\n",
       "│\u001b[36m \u001b[0m\u001b[36m        acc/test         \u001b[0m\u001b[36m \u001b[0m│\u001b[35m \u001b[0m\u001b[35m   0.9769999980926514    \u001b[0m\u001b[35m \u001b[0m│\n",
       "│\u001b[36m \u001b[0m\u001b[36m        loss/test        \u001b[0m\u001b[36m \u001b[0m│\u001b[35m \u001b[0m\u001b[35m   0.05489429831504822   \u001b[0m\u001b[35m \u001b[0m│\n",
       "└───────────────────────────┴───────────────────────────┘\n"
      ]
     },
     "metadata": {},
     "output_type": "display_data"
    },
    {
     "data": {
      "text/html": [
       "<pre style=\"white-space:pre;overflow-x:auto;line-height:normal;font-family:Menlo,'DejaVu Sans Mono',consolas,'Courier New',monospace\">┏━━━━━━━━━━━━━━━━━━━━━━━━━━━┳━━━━━━━━━━━━━━━━━━━━━━━━━━━┓\n",
       "┃<span style=\"font-weight: bold\">        Test metric        </span>┃<span style=\"font-weight: bold\">       DataLoader 0        </span>┃\n",
       "┡━━━━━━━━━━━━━━━━━━━━━━━━━━━╇━━━━━━━━━━━━━━━━━━━━━━━━━━━┩\n",
       "│<span style=\"color: #008080; text-decoration-color: #008080\">         acc/test          </span>│<span style=\"color: #800080; text-decoration-color: #800080\">    0.9241999983787537     </span>│\n",
       "│<span style=\"color: #008080; text-decoration-color: #008080\">         loss/test         </span>│<span style=\"color: #800080; text-decoration-color: #800080\">    0.49278753995895386    </span>│\n",
       "└───────────────────────────┴───────────────────────────┘\n",
       "</pre>\n"
      ],
      "text/plain": [
       "┏━━━━━━━━━━━━━━━━━━━━━━━━━━━┳━━━━━━━━━━━━━━━━━━━━━━━━━━━┓\n",
       "┃\u001b[1m \u001b[0m\u001b[1m       Test metric       \u001b[0m\u001b[1m \u001b[0m┃\u001b[1m \u001b[0m\u001b[1m      DataLoader 0       \u001b[0m\u001b[1m \u001b[0m┃\n",
       "┡━━━━━━━━━━━━━━━━━━━━━━━━━━━╇━━━━━━━━━━━━━━━━━━━━━━━━━━━┩\n",
       "│\u001b[36m \u001b[0m\u001b[36m        acc/test         \u001b[0m\u001b[36m \u001b[0m│\u001b[35m \u001b[0m\u001b[35m   0.9241999983787537    \u001b[0m\u001b[35m \u001b[0m│\n",
       "│\u001b[36m \u001b[0m\u001b[36m        loss/test        \u001b[0m\u001b[36m \u001b[0m│\u001b[35m \u001b[0m\u001b[35m   0.49278753995895386   \u001b[0m\u001b[35m \u001b[0m│\n",
       "└───────────────────────────┴───────────────────────────┘\n"
      ]
     },
     "metadata": {},
     "output_type": "display_data"
    },
    {
     "name": "stderr",
     "output_type": "stream",
     "text": [
      "100%|██████████| 3/3 [00:06<00:00,  2.26s/it]\n"
     ]
    }
   ],
   "source": [
    "naive_results = evaluate_pair_of_models(\n",
    "    models,\n",
    "    fixed_symbol,\n",
    "    permutee_symbol,\n",
    "    updated_params,\n",
    "    train_loader,\n",
    "    test_loader,\n",
    "    lambdas,\n",
    "    core_cfg,\n",
    ")"
   ]
  },
  {
   "cell_type": "markdown",
   "metadata": {},
   "source": [
    "### Git Re-Basin"
   ]
  },
  {
   "cell_type": "code",
   "execution_count": null,
   "metadata": {},
   "outputs": [],
   "source": [
    "restore_original_weights(models, model_orig_weights)"
   ]
  },
  {
   "cell_type": "code",
   "execution_count": null,
   "metadata": {},
   "outputs": [
    {
     "name": "stderr",
     "output_type": "stream",
     "text": [
      "Weight matching:   0%|          | 0/100 [00:00<?, ?it/s]"
     ]
    },
    {
     "data": {
      "text/html": [
       "<pre style=\"white-space:pre;overflow-x:auto;line-height:normal;font-family:Menlo,'DejaVu Sans Mono',consolas,'Courier New',monospace\"><span style=\"color: #7fbfbf; text-decoration-color: #7fbfbf\">2025-01-07 14:18:10 </span><span style=\"color: #000080; text-decoration-color: #000080\">INFO    </span> Iteration <span style=\"color: #008080; text-decoration-color: #008080; font-weight: bold\">0</span>, Permutation P_2: <span style=\"color: #008080; text-decoration-color: #008080; font-weight: bold\">183.1544189453125</span>      <a href=\"file:///media/donato/Extra-storage/Code/model-merging/cycle-consistent-model-merging/src/ccmm/matching/weight_matching.py\" target=\"_blank\"><span style=\"color: #7f7f7f; text-decoration-color: #7f7f7f\">ccmm.matching.weight_matching</span></a><span style=\"color: #7f7f7f; text-decoration-color: #7f7f7f\">:</span><a href=\"file:///media/donato/Extra-storage/Code/model-merging/cycle-consistent-model-merging/src/ccmm/matching/weight_matching.py#176\" target=\"_blank\"><span style=\"color: #7f7f7f; text-decoration-color: #7f7f7f\">176</span></a>\n",
       "</pre>\n"
      ],
      "text/plain": [
       "\u001b[2;36m2025-01-07 14:18:10\u001b[0m\u001b[2;36m \u001b[0m\u001b[34mINFO    \u001b[0m Iteration \u001b[1;36m0\u001b[0m, Permutation P_2: \u001b[1;36m183.1544189453125\u001b[0m      \u001b]8;id=704826;file:///media/donato/Extra-storage/Code/model-merging/cycle-consistent-model-merging/src/ccmm/matching/weight_matching.py\u001b\\\u001b[2mccmm.matching.weight_matching\u001b[0m\u001b]8;;\u001b\\\u001b[2m:\u001b[0m\u001b]8;id=358115;file:///media/donato/Extra-storage/Code/model-merging/cycle-consistent-model-merging/src/ccmm/matching/weight_matching.py#176\u001b\\\u001b[2m176\u001b[0m\u001b]8;;\u001b\\\n"
      ]
     },
     "metadata": {},
     "output_type": "display_data"
    },
    {
     "data": {
      "text/html": [
       "<pre style=\"white-space:pre;overflow-x:auto;line-height:normal;font-family:Menlo,'DejaVu Sans Mono',consolas,'Courier New',monospace\"><span style=\"color: #7fbfbf; text-decoration-color: #7fbfbf\">                    </span><span style=\"color: #000080; text-decoration-color: #000080\">INFO    </span> Iteration <span style=\"color: #008080; text-decoration-color: #008080; font-weight: bold\">0</span>, Permutation P_1: <span style=\"color: #008080; text-decoration-color: #008080; font-weight: bold\">163.17140197753906</span>     <a href=\"file:///media/donato/Extra-storage/Code/model-merging/cycle-consistent-model-merging/src/ccmm/matching/weight_matching.py\" target=\"_blank\"><span style=\"color: #7f7f7f; text-decoration-color: #7f7f7f\">ccmm.matching.weight_matching</span></a><span style=\"color: #7f7f7f; text-decoration-color: #7f7f7f\">:</span><a href=\"file:///media/donato/Extra-storage/Code/model-merging/cycle-consistent-model-merging/src/ccmm/matching/weight_matching.py#176\" target=\"_blank\"><span style=\"color: #7f7f7f; text-decoration-color: #7f7f7f\">176</span></a>\n",
       "</pre>\n"
      ],
      "text/plain": [
       "\u001b[2;36m                   \u001b[0m\u001b[2;36m \u001b[0m\u001b[34mINFO    \u001b[0m Iteration \u001b[1;36m0\u001b[0m, Permutation P_1: \u001b[1;36m163.17140197753906\u001b[0m     \u001b]8;id=248193;file:///media/donato/Extra-storage/Code/model-merging/cycle-consistent-model-merging/src/ccmm/matching/weight_matching.py\u001b\\\u001b[2mccmm.matching.weight_matching\u001b[0m\u001b]8;;\u001b\\\u001b[2m:\u001b[0m\u001b]8;id=870364;file:///media/donato/Extra-storage/Code/model-merging/cycle-consistent-model-merging/src/ccmm/matching/weight_matching.py#176\u001b\\\u001b[2m176\u001b[0m\u001b]8;;\u001b\\\n"
      ]
     },
     "metadata": {},
     "output_type": "display_data"
    },
    {
     "data": {
      "text/html": [
       "<pre style=\"white-space:pre;overflow-x:auto;line-height:normal;font-family:Menlo,'DejaVu Sans Mono',consolas,'Courier New',monospace\"><span style=\"color: #7fbfbf; text-decoration-color: #7fbfbf\">                    </span><span style=\"color: #000080; text-decoration-color: #000080\">INFO    </span> Iteration <span style=\"color: #008080; text-decoration-color: #008080; font-weight: bold\">0</span>, Permutation P_0: <span style=\"color: #008080; text-decoration-color: #008080; font-weight: bold\">764.1267700195312</span>      <a href=\"file:///media/donato/Extra-storage/Code/model-merging/cycle-consistent-model-merging/src/ccmm/matching/weight_matching.py\" target=\"_blank\"><span style=\"color: #7f7f7f; text-decoration-color: #7f7f7f\">ccmm.matching.weight_matching</span></a><span style=\"color: #7f7f7f; text-decoration-color: #7f7f7f\">:</span><a href=\"file:///media/donato/Extra-storage/Code/model-merging/cycle-consistent-model-merging/src/ccmm/matching/weight_matching.py#176\" target=\"_blank\"><span style=\"color: #7f7f7f; text-decoration-color: #7f7f7f\">176</span></a>\n",
       "</pre>\n"
      ],
      "text/plain": [
       "\u001b[2;36m                   \u001b[0m\u001b[2;36m \u001b[0m\u001b[34mINFO    \u001b[0m Iteration \u001b[1;36m0\u001b[0m, Permutation P_0: \u001b[1;36m764.1267700195312\u001b[0m      \u001b]8;id=708078;file:///media/donato/Extra-storage/Code/model-merging/cycle-consistent-model-merging/src/ccmm/matching/weight_matching.py\u001b\\\u001b[2mccmm.matching.weight_matching\u001b[0m\u001b]8;;\u001b\\\u001b[2m:\u001b[0m\u001b]8;id=816596;file:///media/donato/Extra-storage/Code/model-merging/cycle-consistent-model-merging/src/ccmm/matching/weight_matching.py#176\u001b\\\u001b[2m176\u001b[0m\u001b]8;;\u001b\\\n"
      ]
     },
     "metadata": {},
     "output_type": "display_data"
    },
    {
     "data": {
      "text/html": [
       "<pre style=\"white-space:pre;overflow-x:auto;line-height:normal;font-family:Menlo,'DejaVu Sans Mono',consolas,'Courier New',monospace\"><span style=\"color: #7fbfbf; text-decoration-color: #7fbfbf\">                    </span><span style=\"color: #000080; text-decoration-color: #000080\">INFO    </span> Iteration <span style=\"color: #008080; text-decoration-color: #008080; font-weight: bold\">0</span>, Permutation P_3: <span style=\"color: #008080; text-decoration-color: #008080; font-weight: bold\">38.42323303222656</span>      <a href=\"file:///media/donato/Extra-storage/Code/model-merging/cycle-consistent-model-merging/src/ccmm/matching/weight_matching.py\" target=\"_blank\"><span style=\"color: #7f7f7f; text-decoration-color: #7f7f7f\">ccmm.matching.weight_matching</span></a><span style=\"color: #7f7f7f; text-decoration-color: #7f7f7f\">:</span><a href=\"file:///media/donato/Extra-storage/Code/model-merging/cycle-consistent-model-merging/src/ccmm/matching/weight_matching.py#176\" target=\"_blank\"><span style=\"color: #7f7f7f; text-decoration-color: #7f7f7f\">176</span></a>\n",
       "</pre>\n"
      ],
      "text/plain": [
       "\u001b[2;36m                   \u001b[0m\u001b[2;36m \u001b[0m\u001b[34mINFO    \u001b[0m Iteration \u001b[1;36m0\u001b[0m, Permutation P_3: \u001b[1;36m38.42323303222656\u001b[0m      \u001b]8;id=102743;file:///media/donato/Extra-storage/Code/model-merging/cycle-consistent-model-merging/src/ccmm/matching/weight_matching.py\u001b\\\u001b[2mccmm.matching.weight_matching\u001b[0m\u001b]8;;\u001b\\\u001b[2m:\u001b[0m\u001b]8;id=84366;file:///media/donato/Extra-storage/Code/model-merging/cycle-consistent-model-merging/src/ccmm/matching/weight_matching.py#176\u001b\\\u001b[2m176\u001b[0m\u001b]8;;\u001b\\\n"
      ]
     },
     "metadata": {},
     "output_type": "display_data"
    },
    {
     "name": "stderr",
     "output_type": "stream",
     "text": [
      "Weight matching:   1%|          | 1/100 [00:00<00:14,  6.91it/s]"
     ]
    },
    {
     "data": {
      "text/html": [
       "<pre style=\"white-space:pre;overflow-x:auto;line-height:normal;font-family:Menlo,'DejaVu Sans Mono',consolas,'Courier New',monospace\"><span style=\"color: #7fbfbf; text-decoration-color: #7fbfbf\">                    </span><span style=\"color: #000080; text-decoration-color: #000080\">INFO    </span> Iteration <span style=\"color: #008080; text-decoration-color: #008080; font-weight: bold\">1</span>, Permutation P_3: <span style=\"color: #008080; text-decoration-color: #008080; font-weight: bold\">0.0</span>                    <a href=\"file:///media/donato/Extra-storage/Code/model-merging/cycle-consistent-model-merging/src/ccmm/matching/weight_matching.py\" target=\"_blank\"><span style=\"color: #7f7f7f; text-decoration-color: #7f7f7f\">ccmm.matching.weight_matching</span></a><span style=\"color: #7f7f7f; text-decoration-color: #7f7f7f\">:</span><a href=\"file:///media/donato/Extra-storage/Code/model-merging/cycle-consistent-model-merging/src/ccmm/matching/weight_matching.py#176\" target=\"_blank\"><span style=\"color: #7f7f7f; text-decoration-color: #7f7f7f\">176</span></a>\n",
       "</pre>\n"
      ],
      "text/plain": [
       "\u001b[2;36m                   \u001b[0m\u001b[2;36m \u001b[0m\u001b[34mINFO    \u001b[0m Iteration \u001b[1;36m1\u001b[0m, Permutation P_3: \u001b[1;36m0.0\u001b[0m                    \u001b]8;id=655932;file:///media/donato/Extra-storage/Code/model-merging/cycle-consistent-model-merging/src/ccmm/matching/weight_matching.py\u001b\\\u001b[2mccmm.matching.weight_matching\u001b[0m\u001b]8;;\u001b\\\u001b[2m:\u001b[0m\u001b]8;id=787624;file:///media/donato/Extra-storage/Code/model-merging/cycle-consistent-model-merging/src/ccmm/matching/weight_matching.py#176\u001b\\\u001b[2m176\u001b[0m\u001b]8;;\u001b\\\n"
      ]
     },
     "metadata": {},
     "output_type": "display_data"
    },
    {
     "data": {
      "text/html": [
       "<pre style=\"white-space:pre;overflow-x:auto;line-height:normal;font-family:Menlo,'DejaVu Sans Mono',consolas,'Courier New',monospace\"><span style=\"color: #7fbfbf; text-decoration-color: #7fbfbf\">                    </span><span style=\"color: #000080; text-decoration-color: #000080\">INFO    </span> Iteration <span style=\"color: #008080; text-decoration-color: #008080; font-weight: bold\">1</span>, Permutation P_2: <span style=\"color: #008080; text-decoration-color: #008080; font-weight: bold\">45.9560546875</span>          <a href=\"file:///media/donato/Extra-storage/Code/model-merging/cycle-consistent-model-merging/src/ccmm/matching/weight_matching.py\" target=\"_blank\"><span style=\"color: #7f7f7f; text-decoration-color: #7f7f7f\">ccmm.matching.weight_matching</span></a><span style=\"color: #7f7f7f; text-decoration-color: #7f7f7f\">:</span><a href=\"file:///media/donato/Extra-storage/Code/model-merging/cycle-consistent-model-merging/src/ccmm/matching/weight_matching.py#176\" target=\"_blank\"><span style=\"color: #7f7f7f; text-decoration-color: #7f7f7f\">176</span></a>\n",
       "</pre>\n"
      ],
      "text/plain": [
       "\u001b[2;36m                   \u001b[0m\u001b[2;36m \u001b[0m\u001b[34mINFO    \u001b[0m Iteration \u001b[1;36m1\u001b[0m, Permutation P_2: \u001b[1;36m45.9560546875\u001b[0m          \u001b]8;id=731687;file:///media/donato/Extra-storage/Code/model-merging/cycle-consistent-model-merging/src/ccmm/matching/weight_matching.py\u001b\\\u001b[2mccmm.matching.weight_matching\u001b[0m\u001b]8;;\u001b\\\u001b[2m:\u001b[0m\u001b]8;id=376176;file:///media/donato/Extra-storage/Code/model-merging/cycle-consistent-model-merging/src/ccmm/matching/weight_matching.py#176\u001b\\\u001b[2m176\u001b[0m\u001b]8;;\u001b\\\n"
      ]
     },
     "metadata": {},
     "output_type": "display_data"
    },
    {
     "data": {
      "text/html": [
       "<pre style=\"white-space:pre;overflow-x:auto;line-height:normal;font-family:Menlo,'DejaVu Sans Mono',consolas,'Courier New',monospace\"><span style=\"color: #7fbfbf; text-decoration-color: #7fbfbf\">                    </span><span style=\"color: #000080; text-decoration-color: #000080\">INFO    </span> Iteration <span style=\"color: #008080; text-decoration-color: #008080; font-weight: bold\">1</span>, Permutation P_0: <span style=\"color: #008080; text-decoration-color: #008080; font-weight: bold\">0.0</span>                    <a href=\"file:///media/donato/Extra-storage/Code/model-merging/cycle-consistent-model-merging/src/ccmm/matching/weight_matching.py\" target=\"_blank\"><span style=\"color: #7f7f7f; text-decoration-color: #7f7f7f\">ccmm.matching.weight_matching</span></a><span style=\"color: #7f7f7f; text-decoration-color: #7f7f7f\">:</span><a href=\"file:///media/donato/Extra-storage/Code/model-merging/cycle-consistent-model-merging/src/ccmm/matching/weight_matching.py#176\" target=\"_blank\"><span style=\"color: #7f7f7f; text-decoration-color: #7f7f7f\">176</span></a>\n",
       "</pre>\n"
      ],
      "text/plain": [
       "\u001b[2;36m                   \u001b[0m\u001b[2;36m \u001b[0m\u001b[34mINFO    \u001b[0m Iteration \u001b[1;36m1\u001b[0m, Permutation P_0: \u001b[1;36m0.0\u001b[0m                    \u001b]8;id=748441;file:///media/donato/Extra-storage/Code/model-merging/cycle-consistent-model-merging/src/ccmm/matching/weight_matching.py\u001b\\\u001b[2mccmm.matching.weight_matching\u001b[0m\u001b]8;;\u001b\\\u001b[2m:\u001b[0m\u001b]8;id=610152;file:///media/donato/Extra-storage/Code/model-merging/cycle-consistent-model-merging/src/ccmm/matching/weight_matching.py#176\u001b\\\u001b[2m176\u001b[0m\u001b]8;;\u001b\\\n"
      ]
     },
     "metadata": {},
     "output_type": "display_data"
    },
    {
     "data": {
      "text/html": [
       "<pre style=\"white-space:pre;overflow-x:auto;line-height:normal;font-family:Menlo,'DejaVu Sans Mono',consolas,'Courier New',monospace\"><span style=\"color: #7fbfbf; text-decoration-color: #7fbfbf\">2025-01-07 14:18:11 </span><span style=\"color: #000080; text-decoration-color: #000080\">INFO    </span> Iteration <span style=\"color: #008080; text-decoration-color: #008080; font-weight: bold\">1</span>, Permutation P_1: <span style=\"color: #008080; text-decoration-color: #008080; font-weight: bold\">184.70089721679688</span>     <a href=\"file:///media/donato/Extra-storage/Code/model-merging/cycle-consistent-model-merging/src/ccmm/matching/weight_matching.py\" target=\"_blank\"><span style=\"color: #7f7f7f; text-decoration-color: #7f7f7f\">ccmm.matching.weight_matching</span></a><span style=\"color: #7f7f7f; text-decoration-color: #7f7f7f\">:</span><a href=\"file:///media/donato/Extra-storage/Code/model-merging/cycle-consistent-model-merging/src/ccmm/matching/weight_matching.py#176\" target=\"_blank\"><span style=\"color: #7f7f7f; text-decoration-color: #7f7f7f\">176</span></a>\n",
       "</pre>\n"
      ],
      "text/plain": [
       "\u001b[2;36m2025-01-07 14:18:11\u001b[0m\u001b[2;36m \u001b[0m\u001b[34mINFO    \u001b[0m Iteration \u001b[1;36m1\u001b[0m, Permutation P_1: \u001b[1;36m184.70089721679688\u001b[0m     \u001b]8;id=103323;file:///media/donato/Extra-storage/Code/model-merging/cycle-consistent-model-merging/src/ccmm/matching/weight_matching.py\u001b\\\u001b[2mccmm.matching.weight_matching\u001b[0m\u001b]8;;\u001b\\\u001b[2m:\u001b[0m\u001b]8;id=280089;file:///media/donato/Extra-storage/Code/model-merging/cycle-consistent-model-merging/src/ccmm/matching/weight_matching.py#176\u001b\\\u001b[2m176\u001b[0m\u001b]8;;\u001b\\\n"
      ]
     },
     "metadata": {},
     "output_type": "display_data"
    },
    {
     "name": "stderr",
     "output_type": "stream",
     "text": [
      "Weight matching:   2%|▏         | 2/100 [00:00<00:17,  5.51it/s]"
     ]
    },
    {
     "data": {
      "text/html": [
       "<pre style=\"white-space:pre;overflow-x:auto;line-height:normal;font-family:Menlo,'DejaVu Sans Mono',consolas,'Courier New',monospace\"><span style=\"color: #7fbfbf; text-decoration-color: #7fbfbf\">                    </span><span style=\"color: #000080; text-decoration-color: #000080\">INFO    </span> Iteration <span style=\"color: #008080; text-decoration-color: #008080; font-weight: bold\">2</span>, Permutation P_0: <span style=\"color: #008080; text-decoration-color: #008080; font-weight: bold\">11.4874267578125</span>       <a href=\"file:///media/donato/Extra-storage/Code/model-merging/cycle-consistent-model-merging/src/ccmm/matching/weight_matching.py\" target=\"_blank\"><span style=\"color: #7f7f7f; text-decoration-color: #7f7f7f\">ccmm.matching.weight_matching</span></a><span style=\"color: #7f7f7f; text-decoration-color: #7f7f7f\">:</span><a href=\"file:///media/donato/Extra-storage/Code/model-merging/cycle-consistent-model-merging/src/ccmm/matching/weight_matching.py#176\" target=\"_blank\"><span style=\"color: #7f7f7f; text-decoration-color: #7f7f7f\">176</span></a>\n",
       "</pre>\n"
      ],
      "text/plain": [
       "\u001b[2;36m                   \u001b[0m\u001b[2;36m \u001b[0m\u001b[34mINFO    \u001b[0m Iteration \u001b[1;36m2\u001b[0m, Permutation P_0: \u001b[1;36m11.4874267578125\u001b[0m       \u001b]8;id=543417;file:///media/donato/Extra-storage/Code/model-merging/cycle-consistent-model-merging/src/ccmm/matching/weight_matching.py\u001b\\\u001b[2mccmm.matching.weight_matching\u001b[0m\u001b]8;;\u001b\\\u001b[2m:\u001b[0m\u001b]8;id=952475;file:///media/donato/Extra-storage/Code/model-merging/cycle-consistent-model-merging/src/ccmm/matching/weight_matching.py#176\u001b\\\u001b[2m176\u001b[0m\u001b]8;;\u001b\\\n"
      ]
     },
     "metadata": {},
     "output_type": "display_data"
    },
    {
     "data": {
      "text/html": [
       "<pre style=\"white-space:pre;overflow-x:auto;line-height:normal;font-family:Menlo,'DejaVu Sans Mono',consolas,'Courier New',monospace\"><span style=\"color: #7fbfbf; text-decoration-color: #7fbfbf\">                    </span><span style=\"color: #000080; text-decoration-color: #000080\">INFO    </span> Iteration <span style=\"color: #008080; text-decoration-color: #008080; font-weight: bold\">2</span>, Permutation P_3: <span style=\"color: #008080; text-decoration-color: #008080; font-weight: bold\">9.719085693359375</span>      <a href=\"file:///media/donato/Extra-storage/Code/model-merging/cycle-consistent-model-merging/src/ccmm/matching/weight_matching.py\" target=\"_blank\"><span style=\"color: #7f7f7f; text-decoration-color: #7f7f7f\">ccmm.matching.weight_matching</span></a><span style=\"color: #7f7f7f; text-decoration-color: #7f7f7f\">:</span><a href=\"file:///media/donato/Extra-storage/Code/model-merging/cycle-consistent-model-merging/src/ccmm/matching/weight_matching.py#176\" target=\"_blank\"><span style=\"color: #7f7f7f; text-decoration-color: #7f7f7f\">176</span></a>\n",
       "</pre>\n"
      ],
      "text/plain": [
       "\u001b[2;36m                   \u001b[0m\u001b[2;36m \u001b[0m\u001b[34mINFO    \u001b[0m Iteration \u001b[1;36m2\u001b[0m, Permutation P_3: \u001b[1;36m9.719085693359375\u001b[0m      \u001b]8;id=611283;file:///media/donato/Extra-storage/Code/model-merging/cycle-consistent-model-merging/src/ccmm/matching/weight_matching.py\u001b\\\u001b[2mccmm.matching.weight_matching\u001b[0m\u001b]8;;\u001b\\\u001b[2m:\u001b[0m\u001b]8;id=901033;file:///media/donato/Extra-storage/Code/model-merging/cycle-consistent-model-merging/src/ccmm/matching/weight_matching.py#176\u001b\\\u001b[2m176\u001b[0m\u001b]8;;\u001b\\\n"
      ]
     },
     "metadata": {},
     "output_type": "display_data"
    },
    {
     "data": {
      "text/html": [
       "<pre style=\"white-space:pre;overflow-x:auto;line-height:normal;font-family:Menlo,'DejaVu Sans Mono',consolas,'Courier New',monospace\"><span style=\"color: #7fbfbf; text-decoration-color: #7fbfbf\">                    </span><span style=\"color: #000080; text-decoration-color: #000080\">INFO    </span> Iteration <span style=\"color: #008080; text-decoration-color: #008080; font-weight: bold\">2</span>, Permutation P_2: <span style=\"color: #008080; text-decoration-color: #008080; font-weight: bold\">82.67184448242188</span>      <a href=\"file:///media/donato/Extra-storage/Code/model-merging/cycle-consistent-model-merging/src/ccmm/matching/weight_matching.py\" target=\"_blank\"><span style=\"color: #7f7f7f; text-decoration-color: #7f7f7f\">ccmm.matching.weight_matching</span></a><span style=\"color: #7f7f7f; text-decoration-color: #7f7f7f\">:</span><a href=\"file:///media/donato/Extra-storage/Code/model-merging/cycle-consistent-model-merging/src/ccmm/matching/weight_matching.py#176\" target=\"_blank\"><span style=\"color: #7f7f7f; text-decoration-color: #7f7f7f\">176</span></a>\n",
       "</pre>\n"
      ],
      "text/plain": [
       "\u001b[2;36m                   \u001b[0m\u001b[2;36m \u001b[0m\u001b[34mINFO    \u001b[0m Iteration \u001b[1;36m2\u001b[0m, Permutation P_2: \u001b[1;36m82.67184448242188\u001b[0m      \u001b]8;id=454374;file:///media/donato/Extra-storage/Code/model-merging/cycle-consistent-model-merging/src/ccmm/matching/weight_matching.py\u001b\\\u001b[2mccmm.matching.weight_matching\u001b[0m\u001b]8;;\u001b\\\u001b[2m:\u001b[0m\u001b]8;id=725781;file:///media/donato/Extra-storage/Code/model-merging/cycle-consistent-model-merging/src/ccmm/matching/weight_matching.py#176\u001b\\\u001b[2m176\u001b[0m\u001b]8;;\u001b\\\n"
      ]
     },
     "metadata": {},
     "output_type": "display_data"
    },
    {
     "data": {
      "text/html": [
       "<pre style=\"white-space:pre;overflow-x:auto;line-height:normal;font-family:Menlo,'DejaVu Sans Mono',consolas,'Courier New',monospace\"><span style=\"color: #7fbfbf; text-decoration-color: #7fbfbf\">                    </span><span style=\"color: #000080; text-decoration-color: #000080\">INFO    </span> Iteration <span style=\"color: #008080; text-decoration-color: #008080; font-weight: bold\">2</span>, Permutation P_1: <span style=\"color: #008080; text-decoration-color: #008080; font-weight: bold\">29.17999267578125</span>      <a href=\"file:///media/donato/Extra-storage/Code/model-merging/cycle-consistent-model-merging/src/ccmm/matching/weight_matching.py\" target=\"_blank\"><span style=\"color: #7f7f7f; text-decoration-color: #7f7f7f\">ccmm.matching.weight_matching</span></a><span style=\"color: #7f7f7f; text-decoration-color: #7f7f7f\">:</span><a href=\"file:///media/donato/Extra-storage/Code/model-merging/cycle-consistent-model-merging/src/ccmm/matching/weight_matching.py#176\" target=\"_blank\"><span style=\"color: #7f7f7f; text-decoration-color: #7f7f7f\">176</span></a>\n",
       "</pre>\n"
      ],
      "text/plain": [
       "\u001b[2;36m                   \u001b[0m\u001b[2;36m \u001b[0m\u001b[34mINFO    \u001b[0m Iteration \u001b[1;36m2\u001b[0m, Permutation P_1: \u001b[1;36m29.17999267578125\u001b[0m      \u001b]8;id=357759;file:///media/donato/Extra-storage/Code/model-merging/cycle-consistent-model-merging/src/ccmm/matching/weight_matching.py\u001b\\\u001b[2mccmm.matching.weight_matching\u001b[0m\u001b]8;;\u001b\\\u001b[2m:\u001b[0m\u001b]8;id=814579;file:///media/donato/Extra-storage/Code/model-merging/cycle-consistent-model-merging/src/ccmm/matching/weight_matching.py#176\u001b\\\u001b[2m176\u001b[0m\u001b]8;;\u001b\\\n"
      ]
     },
     "metadata": {},
     "output_type": "display_data"
    },
    {
     "name": "stderr",
     "output_type": "stream",
     "text": [
      "Weight matching:   3%|▎         | 3/100 [00:00<00:17,  5.58it/s]"
     ]
    },
    {
     "data": {
      "text/html": [
       "<pre style=\"white-space:pre;overflow-x:auto;line-height:normal;font-family:Menlo,'DejaVu Sans Mono',consolas,'Courier New',monospace\"><span style=\"color: #7fbfbf; text-decoration-color: #7fbfbf\">                    </span><span style=\"color: #000080; text-decoration-color: #000080\">INFO    </span> Iteration <span style=\"color: #008080; text-decoration-color: #008080; font-weight: bold\">3</span>, Permutation P_0: <span style=\"color: #008080; text-decoration-color: #008080; font-weight: bold\">3.142822265625</span>         <a href=\"file:///media/donato/Extra-storage/Code/model-merging/cycle-consistent-model-merging/src/ccmm/matching/weight_matching.py\" target=\"_blank\"><span style=\"color: #7f7f7f; text-decoration-color: #7f7f7f\">ccmm.matching.weight_matching</span></a><span style=\"color: #7f7f7f; text-decoration-color: #7f7f7f\">:</span><a href=\"file:///media/donato/Extra-storage/Code/model-merging/cycle-consistent-model-merging/src/ccmm/matching/weight_matching.py#176\" target=\"_blank\"><span style=\"color: #7f7f7f; text-decoration-color: #7f7f7f\">176</span></a>\n",
       "</pre>\n"
      ],
      "text/plain": [
       "\u001b[2;36m                   \u001b[0m\u001b[2;36m \u001b[0m\u001b[34mINFO    \u001b[0m Iteration \u001b[1;36m3\u001b[0m, Permutation P_0: \u001b[1;36m3.142822265625\u001b[0m         \u001b]8;id=737413;file:///media/donato/Extra-storage/Code/model-merging/cycle-consistent-model-merging/src/ccmm/matching/weight_matching.py\u001b\\\u001b[2mccmm.matching.weight_matching\u001b[0m\u001b]8;;\u001b\\\u001b[2m:\u001b[0m\u001b]8;id=749151;file:///media/donato/Extra-storage/Code/model-merging/cycle-consistent-model-merging/src/ccmm/matching/weight_matching.py#176\u001b\\\u001b[2m176\u001b[0m\u001b]8;;\u001b\\\n"
      ]
     },
     "metadata": {},
     "output_type": "display_data"
    },
    {
     "data": {
      "text/html": [
       "<pre style=\"white-space:pre;overflow-x:auto;line-height:normal;font-family:Menlo,'DejaVu Sans Mono',consolas,'Courier New',monospace\"><span style=\"color: #7fbfbf; text-decoration-color: #7fbfbf\">                    </span><span style=\"color: #000080; text-decoration-color: #000080\">INFO    </span> Iteration <span style=\"color: #008080; text-decoration-color: #008080; font-weight: bold\">3</span>, Permutation P_1: <span style=\"color: #008080; text-decoration-color: #008080; font-weight: bold\">3.60882568359375</span>       <a href=\"file:///media/donato/Extra-storage/Code/model-merging/cycle-consistent-model-merging/src/ccmm/matching/weight_matching.py\" target=\"_blank\"><span style=\"color: #7f7f7f; text-decoration-color: #7f7f7f\">ccmm.matching.weight_matching</span></a><span style=\"color: #7f7f7f; text-decoration-color: #7f7f7f\">:</span><a href=\"file:///media/donato/Extra-storage/Code/model-merging/cycle-consistent-model-merging/src/ccmm/matching/weight_matching.py#176\" target=\"_blank\"><span style=\"color: #7f7f7f; text-decoration-color: #7f7f7f\">176</span></a>\n",
       "</pre>\n"
      ],
      "text/plain": [
       "\u001b[2;36m                   \u001b[0m\u001b[2;36m \u001b[0m\u001b[34mINFO    \u001b[0m Iteration \u001b[1;36m3\u001b[0m, Permutation P_1: \u001b[1;36m3.60882568359375\u001b[0m       \u001b]8;id=586140;file:///media/donato/Extra-storage/Code/model-merging/cycle-consistent-model-merging/src/ccmm/matching/weight_matching.py\u001b\\\u001b[2mccmm.matching.weight_matching\u001b[0m\u001b]8;;\u001b\\\u001b[2m:\u001b[0m\u001b]8;id=737864;file:///media/donato/Extra-storage/Code/model-merging/cycle-consistent-model-merging/src/ccmm/matching/weight_matching.py#176\u001b\\\u001b[2m176\u001b[0m\u001b]8;;\u001b\\\n"
      ]
     },
     "metadata": {},
     "output_type": "display_data"
    },
    {
     "data": {
      "text/html": [
       "<pre style=\"white-space:pre;overflow-x:auto;line-height:normal;font-family:Menlo,'DejaVu Sans Mono',consolas,'Courier New',monospace\"><span style=\"color: #7fbfbf; text-decoration-color: #7fbfbf\">                    </span><span style=\"color: #000080; text-decoration-color: #000080\">INFO    </span> Iteration <span style=\"color: #008080; text-decoration-color: #008080; font-weight: bold\">3</span>, Permutation P_3: <span style=\"color: #008080; text-decoration-color: #008080; font-weight: bold\">19.580963134765625</span>     <a href=\"file:///media/donato/Extra-storage/Code/model-merging/cycle-consistent-model-merging/src/ccmm/matching/weight_matching.py\" target=\"_blank\"><span style=\"color: #7f7f7f; text-decoration-color: #7f7f7f\">ccmm.matching.weight_matching</span></a><span style=\"color: #7f7f7f; text-decoration-color: #7f7f7f\">:</span><a href=\"file:///media/donato/Extra-storage/Code/model-merging/cycle-consistent-model-merging/src/ccmm/matching/weight_matching.py#176\" target=\"_blank\"><span style=\"color: #7f7f7f; text-decoration-color: #7f7f7f\">176</span></a>\n",
       "</pre>\n"
      ],
      "text/plain": [
       "\u001b[2;36m                   \u001b[0m\u001b[2;36m \u001b[0m\u001b[34mINFO    \u001b[0m Iteration \u001b[1;36m3\u001b[0m, Permutation P_3: \u001b[1;36m19.580963134765625\u001b[0m     \u001b]8;id=893143;file:///media/donato/Extra-storage/Code/model-merging/cycle-consistent-model-merging/src/ccmm/matching/weight_matching.py\u001b\\\u001b[2mccmm.matching.weight_matching\u001b[0m\u001b]8;;\u001b\\\u001b[2m:\u001b[0m\u001b]8;id=774616;file:///media/donato/Extra-storage/Code/model-merging/cycle-consistent-model-merging/src/ccmm/matching/weight_matching.py#176\u001b\\\u001b[2m176\u001b[0m\u001b]8;;\u001b\\\n"
      ]
     },
     "metadata": {},
     "output_type": "display_data"
    },
    {
     "data": {
      "text/html": [
       "<pre style=\"white-space:pre;overflow-x:auto;line-height:normal;font-family:Menlo,'DejaVu Sans Mono',consolas,'Courier New',monospace\"><span style=\"color: #7fbfbf; text-decoration-color: #7fbfbf\">                    </span><span style=\"color: #000080; text-decoration-color: #000080\">INFO    </span> Iteration <span style=\"color: #008080; text-decoration-color: #008080; font-weight: bold\">3</span>, Permutation P_2: <span style=\"color: #008080; text-decoration-color: #008080; font-weight: bold\">33.452789306640625</span>     <a href=\"file:///media/donato/Extra-storage/Code/model-merging/cycle-consistent-model-merging/src/ccmm/matching/weight_matching.py\" target=\"_blank\"><span style=\"color: #7f7f7f; text-decoration-color: #7f7f7f\">ccmm.matching.weight_matching</span></a><span style=\"color: #7f7f7f; text-decoration-color: #7f7f7f\">:</span><a href=\"file:///media/donato/Extra-storage/Code/model-merging/cycle-consistent-model-merging/src/ccmm/matching/weight_matching.py#176\" target=\"_blank\"><span style=\"color: #7f7f7f; text-decoration-color: #7f7f7f\">176</span></a>\n",
       "</pre>\n"
      ],
      "text/plain": [
       "\u001b[2;36m                   \u001b[0m\u001b[2;36m \u001b[0m\u001b[34mINFO    \u001b[0m Iteration \u001b[1;36m3\u001b[0m, Permutation P_2: \u001b[1;36m33.452789306640625\u001b[0m     \u001b]8;id=520835;file:///media/donato/Extra-storage/Code/model-merging/cycle-consistent-model-merging/src/ccmm/matching/weight_matching.py\u001b\\\u001b[2mccmm.matching.weight_matching\u001b[0m\u001b]8;;\u001b\\\u001b[2m:\u001b[0m\u001b]8;id=368567;file:///media/donato/Extra-storage/Code/model-merging/cycle-consistent-model-merging/src/ccmm/matching/weight_matching.py#176\u001b\\\u001b[2m176\u001b[0m\u001b]8;;\u001b\\\n"
      ]
     },
     "metadata": {},
     "output_type": "display_data"
    },
    {
     "name": "stderr",
     "output_type": "stream",
     "text": [
      "Weight matching:   4%|▍         | 4/100 [00:00<00:14,  6.69it/s]"
     ]
    },
    {
     "data": {
      "text/html": [
       "<pre style=\"white-space:pre;overflow-x:auto;line-height:normal;font-family:Menlo,'DejaVu Sans Mono',consolas,'Courier New',monospace\"><span style=\"color: #7fbfbf; text-decoration-color: #7fbfbf\">                    </span><span style=\"color: #000080; text-decoration-color: #000080\">INFO    </span> Iteration <span style=\"color: #008080; text-decoration-color: #008080; font-weight: bold\">4</span>, Permutation P_2: <span style=\"color: #008080; text-decoration-color: #008080; font-weight: bold\">0.0</span>                    <a href=\"file:///media/donato/Extra-storage/Code/model-merging/cycle-consistent-model-merging/src/ccmm/matching/weight_matching.py\" target=\"_blank\"><span style=\"color: #7f7f7f; text-decoration-color: #7f7f7f\">ccmm.matching.weight_matching</span></a><span style=\"color: #7f7f7f; text-decoration-color: #7f7f7f\">:</span><a href=\"file:///media/donato/Extra-storage/Code/model-merging/cycle-consistent-model-merging/src/ccmm/matching/weight_matching.py#176\" target=\"_blank\"><span style=\"color: #7f7f7f; text-decoration-color: #7f7f7f\">176</span></a>\n",
       "</pre>\n"
      ],
      "text/plain": [
       "\u001b[2;36m                   \u001b[0m\u001b[2;36m \u001b[0m\u001b[34mINFO    \u001b[0m Iteration \u001b[1;36m4\u001b[0m, Permutation P_2: \u001b[1;36m0.0\u001b[0m                    \u001b]8;id=574071;file:///media/donato/Extra-storage/Code/model-merging/cycle-consistent-model-merging/src/ccmm/matching/weight_matching.py\u001b\\\u001b[2mccmm.matching.weight_matching\u001b[0m\u001b]8;;\u001b\\\u001b[2m:\u001b[0m\u001b]8;id=527158;file:///media/donato/Extra-storage/Code/model-merging/cycle-consistent-model-merging/src/ccmm/matching/weight_matching.py#176\u001b\\\u001b[2m176\u001b[0m\u001b]8;;\u001b\\\n"
      ]
     },
     "metadata": {},
     "output_type": "display_data"
    },
    {
     "data": {
      "text/html": [
       "<pre style=\"white-space:pre;overflow-x:auto;line-height:normal;font-family:Menlo,'DejaVu Sans Mono',consolas,'Courier New',monospace\"><span style=\"color: #7fbfbf; text-decoration-color: #7fbfbf\">                    </span><span style=\"color: #000080; text-decoration-color: #000080\">INFO    </span> Iteration <span style=\"color: #008080; text-decoration-color: #008080; font-weight: bold\">4</span>, Permutation P_1: <span style=\"color: #008080; text-decoration-color: #008080; font-weight: bold\">9.91259765625</span>          <a href=\"file:///media/donato/Extra-storage/Code/model-merging/cycle-consistent-model-merging/src/ccmm/matching/weight_matching.py\" target=\"_blank\"><span style=\"color: #7f7f7f; text-decoration-color: #7f7f7f\">ccmm.matching.weight_matching</span></a><span style=\"color: #7f7f7f; text-decoration-color: #7f7f7f\">:</span><a href=\"file:///media/donato/Extra-storage/Code/model-merging/cycle-consistent-model-merging/src/ccmm/matching/weight_matching.py#176\" target=\"_blank\"><span style=\"color: #7f7f7f; text-decoration-color: #7f7f7f\">176</span></a>\n",
       "</pre>\n"
      ],
      "text/plain": [
       "\u001b[2;36m                   \u001b[0m\u001b[2;36m \u001b[0m\u001b[34mINFO    \u001b[0m Iteration \u001b[1;36m4\u001b[0m, Permutation P_1: \u001b[1;36m9.91259765625\u001b[0m          \u001b]8;id=184120;file:///media/donato/Extra-storage/Code/model-merging/cycle-consistent-model-merging/src/ccmm/matching/weight_matching.py\u001b\\\u001b[2mccmm.matching.weight_matching\u001b[0m\u001b]8;;\u001b\\\u001b[2m:\u001b[0m\u001b]8;id=370568;file:///media/donato/Extra-storage/Code/model-merging/cycle-consistent-model-merging/src/ccmm/matching/weight_matching.py#176\u001b\\\u001b[2m176\u001b[0m\u001b]8;;\u001b\\\n"
      ]
     },
     "metadata": {},
     "output_type": "display_data"
    },
    {
     "data": {
      "text/html": [
       "<pre style=\"white-space:pre;overflow-x:auto;line-height:normal;font-family:Menlo,'DejaVu Sans Mono',consolas,'Courier New',monospace\"><span style=\"color: #7fbfbf; text-decoration-color: #7fbfbf\">                    </span><span style=\"color: #000080; text-decoration-color: #000080\">INFO    </span> Iteration <span style=\"color: #008080; text-decoration-color: #008080; font-weight: bold\">4</span>, Permutation P_3: <span style=\"color: #008080; text-decoration-color: #008080; font-weight: bold\">10.47625732421875</span>      <a href=\"file:///media/donato/Extra-storage/Code/model-merging/cycle-consistent-model-merging/src/ccmm/matching/weight_matching.py\" target=\"_blank\"><span style=\"color: #7f7f7f; text-decoration-color: #7f7f7f\">ccmm.matching.weight_matching</span></a><span style=\"color: #7f7f7f; text-decoration-color: #7f7f7f\">:</span><a href=\"file:///media/donato/Extra-storage/Code/model-merging/cycle-consistent-model-merging/src/ccmm/matching/weight_matching.py#176\" target=\"_blank\"><span style=\"color: #7f7f7f; text-decoration-color: #7f7f7f\">176</span></a>\n",
       "</pre>\n"
      ],
      "text/plain": [
       "\u001b[2;36m                   \u001b[0m\u001b[2;36m \u001b[0m\u001b[34mINFO    \u001b[0m Iteration \u001b[1;36m4\u001b[0m, Permutation P_3: \u001b[1;36m10.47625732421875\u001b[0m      \u001b]8;id=573605;file:///media/donato/Extra-storage/Code/model-merging/cycle-consistent-model-merging/src/ccmm/matching/weight_matching.py\u001b\\\u001b[2mccmm.matching.weight_matching\u001b[0m\u001b]8;;\u001b\\\u001b[2m:\u001b[0m\u001b]8;id=412667;file:///media/donato/Extra-storage/Code/model-merging/cycle-consistent-model-merging/src/ccmm/matching/weight_matching.py#176\u001b\\\u001b[2m176\u001b[0m\u001b]8;;\u001b\\\n"
      ]
     },
     "metadata": {},
     "output_type": "display_data"
    },
    {
     "data": {
      "text/html": [
       "<pre style=\"white-space:pre;overflow-x:auto;line-height:normal;font-family:Menlo,'DejaVu Sans Mono',consolas,'Courier New',monospace\"><span style=\"color: #7fbfbf; text-decoration-color: #7fbfbf\">                    </span><span style=\"color: #000080; text-decoration-color: #000080\">INFO    </span> Iteration <span style=\"color: #008080; text-decoration-color: #008080; font-weight: bold\">4</span>, Permutation P_0: <span style=\"color: #008080; text-decoration-color: #008080; font-weight: bold\">1.92822265625</span>          <a href=\"file:///media/donato/Extra-storage/Code/model-merging/cycle-consistent-model-merging/src/ccmm/matching/weight_matching.py\" target=\"_blank\"><span style=\"color: #7f7f7f; text-decoration-color: #7f7f7f\">ccmm.matching.weight_matching</span></a><span style=\"color: #7f7f7f; text-decoration-color: #7f7f7f\">:</span><a href=\"file:///media/donato/Extra-storage/Code/model-merging/cycle-consistent-model-merging/src/ccmm/matching/weight_matching.py#176\" target=\"_blank\"><span style=\"color: #7f7f7f; text-decoration-color: #7f7f7f\">176</span></a>\n",
       "</pre>\n"
      ],
      "text/plain": [
       "\u001b[2;36m                   \u001b[0m\u001b[2;36m \u001b[0m\u001b[34mINFO    \u001b[0m Iteration \u001b[1;36m4\u001b[0m, Permutation P_0: \u001b[1;36m1.92822265625\u001b[0m          \u001b]8;id=625912;file:///media/donato/Extra-storage/Code/model-merging/cycle-consistent-model-merging/src/ccmm/matching/weight_matching.py\u001b\\\u001b[2mccmm.matching.weight_matching\u001b[0m\u001b]8;;\u001b\\\u001b[2m:\u001b[0m\u001b]8;id=430985;file:///media/donato/Extra-storage/Code/model-merging/cycle-consistent-model-merging/src/ccmm/matching/weight_matching.py#176\u001b\\\u001b[2m176\u001b[0m\u001b]8;;\u001b\\\n"
      ]
     },
     "metadata": {},
     "output_type": "display_data"
    },
    {
     "name": "stderr",
     "output_type": "stream",
     "text": [
      "Weight matching:   5%|▌         | 5/100 [00:00<00:13,  7.30it/s]"
     ]
    },
    {
     "data": {
      "text/html": [
       "<pre style=\"white-space:pre;overflow-x:auto;line-height:normal;font-family:Menlo,'DejaVu Sans Mono',consolas,'Courier New',monospace\"><span style=\"color: #7fbfbf; text-decoration-color: #7fbfbf\">                    </span><span style=\"color: #000080; text-decoration-color: #000080\">INFO    </span> Iteration <span style=\"color: #008080; text-decoration-color: #008080; font-weight: bold\">5</span>, Permutation P_2: <span style=\"color: #008080; text-decoration-color: #008080; font-weight: bold\">14.691192626953125</span>     <a href=\"file:///media/donato/Extra-storage/Code/model-merging/cycle-consistent-model-merging/src/ccmm/matching/weight_matching.py\" target=\"_blank\"><span style=\"color: #7f7f7f; text-decoration-color: #7f7f7f\">ccmm.matching.weight_matching</span></a><span style=\"color: #7f7f7f; text-decoration-color: #7f7f7f\">:</span><a href=\"file:///media/donato/Extra-storage/Code/model-merging/cycle-consistent-model-merging/src/ccmm/matching/weight_matching.py#176\" target=\"_blank\"><span style=\"color: #7f7f7f; text-decoration-color: #7f7f7f\">176</span></a>\n",
       "</pre>\n"
      ],
      "text/plain": [
       "\u001b[2;36m                   \u001b[0m\u001b[2;36m \u001b[0m\u001b[34mINFO    \u001b[0m Iteration \u001b[1;36m5\u001b[0m, Permutation P_2: \u001b[1;36m14.691192626953125\u001b[0m     \u001b]8;id=391699;file:///media/donato/Extra-storage/Code/model-merging/cycle-consistent-model-merging/src/ccmm/matching/weight_matching.py\u001b\\\u001b[2mccmm.matching.weight_matching\u001b[0m\u001b]8;;\u001b\\\u001b[2m:\u001b[0m\u001b]8;id=903971;file:///media/donato/Extra-storage/Code/model-merging/cycle-consistent-model-merging/src/ccmm/matching/weight_matching.py#176\u001b\\\u001b[2m176\u001b[0m\u001b]8;;\u001b\\\n"
      ]
     },
     "metadata": {},
     "output_type": "display_data"
    },
    {
     "data": {
      "text/html": [
       "<pre style=\"white-space:pre;overflow-x:auto;line-height:normal;font-family:Menlo,'DejaVu Sans Mono',consolas,'Courier New',monospace\"><span style=\"color: #7fbfbf; text-decoration-color: #7fbfbf\">                    </span><span style=\"color: #000080; text-decoration-color: #000080\">INFO    </span> Iteration <span style=\"color: #008080; text-decoration-color: #008080; font-weight: bold\">5</span>, Permutation P_3: <span style=\"color: #008080; text-decoration-color: #008080; font-weight: bold\">4.6786651611328125</span>     <a href=\"file:///media/donato/Extra-storage/Code/model-merging/cycle-consistent-model-merging/src/ccmm/matching/weight_matching.py\" target=\"_blank\"><span style=\"color: #7f7f7f; text-decoration-color: #7f7f7f\">ccmm.matching.weight_matching</span></a><span style=\"color: #7f7f7f; text-decoration-color: #7f7f7f\">:</span><a href=\"file:///media/donato/Extra-storage/Code/model-merging/cycle-consistent-model-merging/src/ccmm/matching/weight_matching.py#176\" target=\"_blank\"><span style=\"color: #7f7f7f; text-decoration-color: #7f7f7f\">176</span></a>\n",
       "</pre>\n"
      ],
      "text/plain": [
       "\u001b[2;36m                   \u001b[0m\u001b[2;36m \u001b[0m\u001b[34mINFO    \u001b[0m Iteration \u001b[1;36m5\u001b[0m, Permutation P_3: \u001b[1;36m4.6786651611328125\u001b[0m     \u001b]8;id=439349;file:///media/donato/Extra-storage/Code/model-merging/cycle-consistent-model-merging/src/ccmm/matching/weight_matching.py\u001b\\\u001b[2mccmm.matching.weight_matching\u001b[0m\u001b]8;;\u001b\\\u001b[2m:\u001b[0m\u001b]8;id=884199;file:///media/donato/Extra-storage/Code/model-merging/cycle-consistent-model-merging/src/ccmm/matching/weight_matching.py#176\u001b\\\u001b[2m176\u001b[0m\u001b]8;;\u001b\\\n"
      ]
     },
     "metadata": {},
     "output_type": "display_data"
    },
    {
     "data": {
      "text/html": [
       "<pre style=\"white-space:pre;overflow-x:auto;line-height:normal;font-family:Menlo,'DejaVu Sans Mono',consolas,'Courier New',monospace\"><span style=\"color: #7fbfbf; text-decoration-color: #7fbfbf\">                    </span><span style=\"color: #000080; text-decoration-color: #000080\">INFO    </span> Iteration <span style=\"color: #008080; text-decoration-color: #008080; font-weight: bold\">5</span>, Permutation P_1: <span style=\"color: #008080; text-decoration-color: #008080; font-weight: bold\">5.2418212890625</span>        <a href=\"file:///media/donato/Extra-storage/Code/model-merging/cycle-consistent-model-merging/src/ccmm/matching/weight_matching.py\" target=\"_blank\"><span style=\"color: #7f7f7f; text-decoration-color: #7f7f7f\">ccmm.matching.weight_matching</span></a><span style=\"color: #7f7f7f; text-decoration-color: #7f7f7f\">:</span><a href=\"file:///media/donato/Extra-storage/Code/model-merging/cycle-consistent-model-merging/src/ccmm/matching/weight_matching.py#176\" target=\"_blank\"><span style=\"color: #7f7f7f; text-decoration-color: #7f7f7f\">176</span></a>\n",
       "</pre>\n"
      ],
      "text/plain": [
       "\u001b[2;36m                   \u001b[0m\u001b[2;36m \u001b[0m\u001b[34mINFO    \u001b[0m Iteration \u001b[1;36m5\u001b[0m, Permutation P_1: \u001b[1;36m5.2418212890625\u001b[0m        \u001b]8;id=303323;file:///media/donato/Extra-storage/Code/model-merging/cycle-consistent-model-merging/src/ccmm/matching/weight_matching.py\u001b\\\u001b[2mccmm.matching.weight_matching\u001b[0m\u001b]8;;\u001b\\\u001b[2m:\u001b[0m\u001b]8;id=969363;file:///media/donato/Extra-storage/Code/model-merging/cycle-consistent-model-merging/src/ccmm/matching/weight_matching.py#176\u001b\\\u001b[2m176\u001b[0m\u001b]8;;\u001b\\\n"
      ]
     },
     "metadata": {},
     "output_type": "display_data"
    },
    {
     "data": {
      "text/html": [
       "<pre style=\"white-space:pre;overflow-x:auto;line-height:normal;font-family:Menlo,'DejaVu Sans Mono',consolas,'Courier New',monospace\"><span style=\"color: #7fbfbf; text-decoration-color: #7fbfbf\">                    </span><span style=\"color: #000080; text-decoration-color: #000080\">INFO    </span> Iteration <span style=\"color: #008080; text-decoration-color: #008080; font-weight: bold\">5</span>, Permutation P_0: <span style=\"color: #008080; text-decoration-color: #008080; font-weight: bold\">1.2366943359375</span>        <a href=\"file:///media/donato/Extra-storage/Code/model-merging/cycle-consistent-model-merging/src/ccmm/matching/weight_matching.py\" target=\"_blank\"><span style=\"color: #7f7f7f; text-decoration-color: #7f7f7f\">ccmm.matching.weight_matching</span></a><span style=\"color: #7f7f7f; text-decoration-color: #7f7f7f\">:</span><a href=\"file:///media/donato/Extra-storage/Code/model-merging/cycle-consistent-model-merging/src/ccmm/matching/weight_matching.py#176\" target=\"_blank\"><span style=\"color: #7f7f7f; text-decoration-color: #7f7f7f\">176</span></a>\n",
       "</pre>\n"
      ],
      "text/plain": [
       "\u001b[2;36m                   \u001b[0m\u001b[2;36m \u001b[0m\u001b[34mINFO    \u001b[0m Iteration \u001b[1;36m5\u001b[0m, Permutation P_0: \u001b[1;36m1.2366943359375\u001b[0m        \u001b]8;id=3186;file:///media/donato/Extra-storage/Code/model-merging/cycle-consistent-model-merging/src/ccmm/matching/weight_matching.py\u001b\\\u001b[2mccmm.matching.weight_matching\u001b[0m\u001b]8;;\u001b\\\u001b[2m:\u001b[0m\u001b]8;id=720743;file:///media/donato/Extra-storage/Code/model-merging/cycle-consistent-model-merging/src/ccmm/matching/weight_matching.py#176\u001b\\\u001b[2m176\u001b[0m\u001b]8;;\u001b\\\n"
      ]
     },
     "metadata": {},
     "output_type": "display_data"
    },
    {
     "name": "stderr",
     "output_type": "stream",
     "text": [
      "Weight matching:   6%|▌         | 6/100 [00:00<00:12,  7.56it/s]"
     ]
    },
    {
     "data": {
      "text/html": [
       "<pre style=\"white-space:pre;overflow-x:auto;line-height:normal;font-family:Menlo,'DejaVu Sans Mono',consolas,'Courier New',monospace\"><span style=\"color: #7fbfbf; text-decoration-color: #7fbfbf\">                    </span><span style=\"color: #000080; text-decoration-color: #000080\">INFO    </span> Iteration <span style=\"color: #008080; text-decoration-color: #008080; font-weight: bold\">6</span>, Permutation P_3: <span style=\"color: #008080; text-decoration-color: #008080; font-weight: bold\">0.0</span>                    <a href=\"file:///media/donato/Extra-storage/Code/model-merging/cycle-consistent-model-merging/src/ccmm/matching/weight_matching.py\" target=\"_blank\"><span style=\"color: #7f7f7f; text-decoration-color: #7f7f7f\">ccmm.matching.weight_matching</span></a><span style=\"color: #7f7f7f; text-decoration-color: #7f7f7f\">:</span><a href=\"file:///media/donato/Extra-storage/Code/model-merging/cycle-consistent-model-merging/src/ccmm/matching/weight_matching.py#176\" target=\"_blank\"><span style=\"color: #7f7f7f; text-decoration-color: #7f7f7f\">176</span></a>\n",
       "</pre>\n"
      ],
      "text/plain": [
       "\u001b[2;36m                   \u001b[0m\u001b[2;36m \u001b[0m\u001b[34mINFO    \u001b[0m Iteration \u001b[1;36m6\u001b[0m, Permutation P_3: \u001b[1;36m0.0\u001b[0m                    \u001b]8;id=351066;file:///media/donato/Extra-storage/Code/model-merging/cycle-consistent-model-merging/src/ccmm/matching/weight_matching.py\u001b\\\u001b[2mccmm.matching.weight_matching\u001b[0m\u001b]8;;\u001b\\\u001b[2m:\u001b[0m\u001b]8;id=489935;file:///media/donato/Extra-storage/Code/model-merging/cycle-consistent-model-merging/src/ccmm/matching/weight_matching.py#176\u001b\\\u001b[2m176\u001b[0m\u001b]8;;\u001b\\\n"
      ]
     },
     "metadata": {},
     "output_type": "display_data"
    },
    {
     "data": {
      "text/html": [
       "<pre style=\"white-space:pre;overflow-x:auto;line-height:normal;font-family:Menlo,'DejaVu Sans Mono',consolas,'Courier New',monospace\"><span style=\"color: #7fbfbf; text-decoration-color: #7fbfbf\">                    </span><span style=\"color: #000080; text-decoration-color: #000080\">INFO    </span> Iteration <span style=\"color: #008080; text-decoration-color: #008080; font-weight: bold\">6</span>, Permutation P_2: <span style=\"color: #008080; text-decoration-color: #008080; font-weight: bold\">5.672515869140625</span>      <a href=\"file:///media/donato/Extra-storage/Code/model-merging/cycle-consistent-model-merging/src/ccmm/matching/weight_matching.py\" target=\"_blank\"><span style=\"color: #7f7f7f; text-decoration-color: #7f7f7f\">ccmm.matching.weight_matching</span></a><span style=\"color: #7f7f7f; text-decoration-color: #7f7f7f\">:</span><a href=\"file:///media/donato/Extra-storage/Code/model-merging/cycle-consistent-model-merging/src/ccmm/matching/weight_matching.py#176\" target=\"_blank\"><span style=\"color: #7f7f7f; text-decoration-color: #7f7f7f\">176</span></a>\n",
       "</pre>\n"
      ],
      "text/plain": [
       "\u001b[2;36m                   \u001b[0m\u001b[2;36m \u001b[0m\u001b[34mINFO    \u001b[0m Iteration \u001b[1;36m6\u001b[0m, Permutation P_2: \u001b[1;36m5.672515869140625\u001b[0m      \u001b]8;id=454743;file:///media/donato/Extra-storage/Code/model-merging/cycle-consistent-model-merging/src/ccmm/matching/weight_matching.py\u001b\\\u001b[2mccmm.matching.weight_matching\u001b[0m\u001b]8;;\u001b\\\u001b[2m:\u001b[0m\u001b]8;id=247944;file:///media/donato/Extra-storage/Code/model-merging/cycle-consistent-model-merging/src/ccmm/matching/weight_matching.py#176\u001b\\\u001b[2m176\u001b[0m\u001b]8;;\u001b\\\n"
      ]
     },
     "metadata": {},
     "output_type": "display_data"
    },
    {
     "data": {
      "text/html": [
       "<pre style=\"white-space:pre;overflow-x:auto;line-height:normal;font-family:Menlo,'DejaVu Sans Mono',consolas,'Courier New',monospace\"><span style=\"color: #7fbfbf; text-decoration-color: #7fbfbf\">                    </span><span style=\"color: #000080; text-decoration-color: #000080\">INFO    </span> Iteration <span style=\"color: #008080; text-decoration-color: #008080; font-weight: bold\">6</span>, Permutation P_0: <span style=\"color: #008080; text-decoration-color: #008080; font-weight: bold\">0.0</span>                    <a href=\"file:///media/donato/Extra-storage/Code/model-merging/cycle-consistent-model-merging/src/ccmm/matching/weight_matching.py\" target=\"_blank\"><span style=\"color: #7f7f7f; text-decoration-color: #7f7f7f\">ccmm.matching.weight_matching</span></a><span style=\"color: #7f7f7f; text-decoration-color: #7f7f7f\">:</span><a href=\"file:///media/donato/Extra-storage/Code/model-merging/cycle-consistent-model-merging/src/ccmm/matching/weight_matching.py#176\" target=\"_blank\"><span style=\"color: #7f7f7f; text-decoration-color: #7f7f7f\">176</span></a>\n",
       "</pre>\n"
      ],
      "text/plain": [
       "\u001b[2;36m                   \u001b[0m\u001b[2;36m \u001b[0m\u001b[34mINFO    \u001b[0m Iteration \u001b[1;36m6\u001b[0m, Permutation P_0: \u001b[1;36m0.0\u001b[0m                    \u001b]8;id=829291;file:///media/donato/Extra-storage/Code/model-merging/cycle-consistent-model-merging/src/ccmm/matching/weight_matching.py\u001b\\\u001b[2mccmm.matching.weight_matching\u001b[0m\u001b]8;;\u001b\\\u001b[2m:\u001b[0m\u001b]8;id=235536;file:///media/donato/Extra-storage/Code/model-merging/cycle-consistent-model-merging/src/ccmm/matching/weight_matching.py#176\u001b\\\u001b[2m176\u001b[0m\u001b]8;;\u001b\\\n"
      ]
     },
     "metadata": {},
     "output_type": "display_data"
    },
    {
     "data": {
      "text/html": [
       "<pre style=\"white-space:pre;overflow-x:auto;line-height:normal;font-family:Menlo,'DejaVu Sans Mono',consolas,'Courier New',monospace\"><span style=\"color: #7fbfbf; text-decoration-color: #7fbfbf\">                    </span><span style=\"color: #000080; text-decoration-color: #000080\">INFO    </span> Iteration <span style=\"color: #008080; text-decoration-color: #008080; font-weight: bold\">6</span>, Permutation P_1: <span style=\"color: #008080; text-decoration-color: #008080; font-weight: bold\">1.9598388671875</span>        <a href=\"file:///media/donato/Extra-storage/Code/model-merging/cycle-consistent-model-merging/src/ccmm/matching/weight_matching.py\" target=\"_blank\"><span style=\"color: #7f7f7f; text-decoration-color: #7f7f7f\">ccmm.matching.weight_matching</span></a><span style=\"color: #7f7f7f; text-decoration-color: #7f7f7f\">:</span><a href=\"file:///media/donato/Extra-storage/Code/model-merging/cycle-consistent-model-merging/src/ccmm/matching/weight_matching.py#176\" target=\"_blank\"><span style=\"color: #7f7f7f; text-decoration-color: #7f7f7f\">176</span></a>\n",
       "</pre>\n"
      ],
      "text/plain": [
       "\u001b[2;36m                   \u001b[0m\u001b[2;36m \u001b[0m\u001b[34mINFO    \u001b[0m Iteration \u001b[1;36m6\u001b[0m, Permutation P_1: \u001b[1;36m1.9598388671875\u001b[0m        \u001b]8;id=549842;file:///media/donato/Extra-storage/Code/model-merging/cycle-consistent-model-merging/src/ccmm/matching/weight_matching.py\u001b\\\u001b[2mccmm.matching.weight_matching\u001b[0m\u001b]8;;\u001b\\\u001b[2m:\u001b[0m\u001b]8;id=955034;file:///media/donato/Extra-storage/Code/model-merging/cycle-consistent-model-merging/src/ccmm/matching/weight_matching.py#176\u001b\\\u001b[2m176\u001b[0m\u001b]8;;\u001b\\\n"
      ]
     },
     "metadata": {},
     "output_type": "display_data"
    },
    {
     "name": "stderr",
     "output_type": "stream",
     "text": [
      "Weight matching:   7%|▋         | 7/100 [00:01<00:12,  7.24it/s]"
     ]
    },
    {
     "data": {
      "text/html": [
       "<pre style=\"white-space:pre;overflow-x:auto;line-height:normal;font-family:Menlo,'DejaVu Sans Mono',consolas,'Courier New',monospace\"><span style=\"color: #7fbfbf; text-decoration-color: #7fbfbf\">                    </span><span style=\"color: #000080; text-decoration-color: #000080\">INFO    </span> Iteration <span style=\"color: #008080; text-decoration-color: #008080; font-weight: bold\">7</span>, Permutation P_0: <span style=\"color: #008080; text-decoration-color: #008080; font-weight: bold\">0.1470947265625</span>        <a href=\"file:///media/donato/Extra-storage/Code/model-merging/cycle-consistent-model-merging/src/ccmm/matching/weight_matching.py\" target=\"_blank\"><span style=\"color: #7f7f7f; text-decoration-color: #7f7f7f\">ccmm.matching.weight_matching</span></a><span style=\"color: #7f7f7f; text-decoration-color: #7f7f7f\">:</span><a href=\"file:///media/donato/Extra-storage/Code/model-merging/cycle-consistent-model-merging/src/ccmm/matching/weight_matching.py#176\" target=\"_blank\"><span style=\"color: #7f7f7f; text-decoration-color: #7f7f7f\">176</span></a>\n",
       "</pre>\n"
      ],
      "text/plain": [
       "\u001b[2;36m                   \u001b[0m\u001b[2;36m \u001b[0m\u001b[34mINFO    \u001b[0m Iteration \u001b[1;36m7\u001b[0m, Permutation P_0: \u001b[1;36m0.1470947265625\u001b[0m        \u001b]8;id=910262;file:///media/donato/Extra-storage/Code/model-merging/cycle-consistent-model-merging/src/ccmm/matching/weight_matching.py\u001b\\\u001b[2mccmm.matching.weight_matching\u001b[0m\u001b]8;;\u001b\\\u001b[2m:\u001b[0m\u001b]8;id=24120;file:///media/donato/Extra-storage/Code/model-merging/cycle-consistent-model-merging/src/ccmm/matching/weight_matching.py#176\u001b\\\u001b[2m176\u001b[0m\u001b]8;;\u001b\\\n"
      ]
     },
     "metadata": {},
     "output_type": "display_data"
    },
    {
     "data": {
      "text/html": [
       "<pre style=\"white-space:pre;overflow-x:auto;line-height:normal;font-family:Menlo,'DejaVu Sans Mono',consolas,'Courier New',monospace\"><span style=\"color: #7fbfbf; text-decoration-color: #7fbfbf\">                    </span><span style=\"color: #000080; text-decoration-color: #000080\">INFO    </span> Iteration <span style=\"color: #008080; text-decoration-color: #008080; font-weight: bold\">7</span>, Permutation P_3: <span style=\"color: #008080; text-decoration-color: #008080; font-weight: bold\">1.7669677734375</span>        <a href=\"file:///media/donato/Extra-storage/Code/model-merging/cycle-consistent-model-merging/src/ccmm/matching/weight_matching.py\" target=\"_blank\"><span style=\"color: #7f7f7f; text-decoration-color: #7f7f7f\">ccmm.matching.weight_matching</span></a><span style=\"color: #7f7f7f; text-decoration-color: #7f7f7f\">:</span><a href=\"file:///media/donato/Extra-storage/Code/model-merging/cycle-consistent-model-merging/src/ccmm/matching/weight_matching.py#176\" target=\"_blank\"><span style=\"color: #7f7f7f; text-decoration-color: #7f7f7f\">176</span></a>\n",
       "</pre>\n"
      ],
      "text/plain": [
       "\u001b[2;36m                   \u001b[0m\u001b[2;36m \u001b[0m\u001b[34mINFO    \u001b[0m Iteration \u001b[1;36m7\u001b[0m, Permutation P_3: \u001b[1;36m1.7669677734375\u001b[0m        \u001b]8;id=811451;file:///media/donato/Extra-storage/Code/model-merging/cycle-consistent-model-merging/src/ccmm/matching/weight_matching.py\u001b\\\u001b[2mccmm.matching.weight_matching\u001b[0m\u001b]8;;\u001b\\\u001b[2m:\u001b[0m\u001b]8;id=749079;file:///media/donato/Extra-storage/Code/model-merging/cycle-consistent-model-merging/src/ccmm/matching/weight_matching.py#176\u001b\\\u001b[2m176\u001b[0m\u001b]8;;\u001b\\\n"
      ]
     },
     "metadata": {},
     "output_type": "display_data"
    },
    {
     "data": {
      "text/html": [
       "<pre style=\"white-space:pre;overflow-x:auto;line-height:normal;font-family:Menlo,'DejaVu Sans Mono',consolas,'Courier New',monospace\"><span style=\"color: #7fbfbf; text-decoration-color: #7fbfbf\">                    </span><span style=\"color: #000080; text-decoration-color: #000080\">INFO    </span> Iteration <span style=\"color: #008080; text-decoration-color: #008080; font-weight: bold\">7</span>, Permutation P_2: <span style=\"color: #008080; text-decoration-color: #008080; font-weight: bold\">3.1298828125</span>           <a href=\"file:///media/donato/Extra-storage/Code/model-merging/cycle-consistent-model-merging/src/ccmm/matching/weight_matching.py\" target=\"_blank\"><span style=\"color: #7f7f7f; text-decoration-color: #7f7f7f\">ccmm.matching.weight_matching</span></a><span style=\"color: #7f7f7f; text-decoration-color: #7f7f7f\">:</span><a href=\"file:///media/donato/Extra-storage/Code/model-merging/cycle-consistent-model-merging/src/ccmm/matching/weight_matching.py#176\" target=\"_blank\"><span style=\"color: #7f7f7f; text-decoration-color: #7f7f7f\">176</span></a>\n",
       "</pre>\n"
      ],
      "text/plain": [
       "\u001b[2;36m                   \u001b[0m\u001b[2;36m \u001b[0m\u001b[34mINFO    \u001b[0m Iteration \u001b[1;36m7\u001b[0m, Permutation P_2: \u001b[1;36m3.1298828125\u001b[0m           \u001b]8;id=207514;file:///media/donato/Extra-storage/Code/model-merging/cycle-consistent-model-merging/src/ccmm/matching/weight_matching.py\u001b\\\u001b[2mccmm.matching.weight_matching\u001b[0m\u001b]8;;\u001b\\\u001b[2m:\u001b[0m\u001b]8;id=784532;file:///media/donato/Extra-storage/Code/model-merging/cycle-consistent-model-merging/src/ccmm/matching/weight_matching.py#176\u001b\\\u001b[2m176\u001b[0m\u001b]8;;\u001b\\\n"
      ]
     },
     "metadata": {},
     "output_type": "display_data"
    },
    {
     "data": {
      "text/html": [
       "<pre style=\"white-space:pre;overflow-x:auto;line-height:normal;font-family:Menlo,'DejaVu Sans Mono',consolas,'Courier New',monospace\"><span style=\"color: #7fbfbf; text-decoration-color: #7fbfbf\">                    </span><span style=\"color: #000080; text-decoration-color: #000080\">INFO    </span> Iteration <span style=\"color: #008080; text-decoration-color: #008080; font-weight: bold\">7</span>, Permutation P_1: <span style=\"color: #008080; text-decoration-color: #008080; font-weight: bold\">0.769775390625</span>         <a href=\"file:///media/donato/Extra-storage/Code/model-merging/cycle-consistent-model-merging/src/ccmm/matching/weight_matching.py\" target=\"_blank\"><span style=\"color: #7f7f7f; text-decoration-color: #7f7f7f\">ccmm.matching.weight_matching</span></a><span style=\"color: #7f7f7f; text-decoration-color: #7f7f7f\">:</span><a href=\"file:///media/donato/Extra-storage/Code/model-merging/cycle-consistent-model-merging/src/ccmm/matching/weight_matching.py#176\" target=\"_blank\"><span style=\"color: #7f7f7f; text-decoration-color: #7f7f7f\">176</span></a>\n",
       "</pre>\n"
      ],
      "text/plain": [
       "\u001b[2;36m                   \u001b[0m\u001b[2;36m \u001b[0m\u001b[34mINFO    \u001b[0m Iteration \u001b[1;36m7\u001b[0m, Permutation P_1: \u001b[1;36m0.769775390625\u001b[0m         \u001b]8;id=120722;file:///media/donato/Extra-storage/Code/model-merging/cycle-consistent-model-merging/src/ccmm/matching/weight_matching.py\u001b\\\u001b[2mccmm.matching.weight_matching\u001b[0m\u001b]8;;\u001b\\\u001b[2m:\u001b[0m\u001b]8;id=956393;file:///media/donato/Extra-storage/Code/model-merging/cycle-consistent-model-merging/src/ccmm/matching/weight_matching.py#176\u001b\\\u001b[2m176\u001b[0m\u001b]8;;\u001b\\\n"
      ]
     },
     "metadata": {},
     "output_type": "display_data"
    },
    {
     "name": "stderr",
     "output_type": "stream",
     "text": [
      "Weight matching:   8%|▊         | 8/100 [00:01<00:11,  7.82it/s]"
     ]
    },
    {
     "data": {
      "text/html": [
       "<pre style=\"white-space:pre;overflow-x:auto;line-height:normal;font-family:Menlo,'DejaVu Sans Mono',consolas,'Courier New',monospace\"><span style=\"color: #7fbfbf; text-decoration-color: #7fbfbf\">                    </span><span style=\"color: #000080; text-decoration-color: #000080\">INFO    </span> Iteration <span style=\"color: #008080; text-decoration-color: #008080; font-weight: bold\">8</span>, Permutation P_0: <span style=\"color: #008080; text-decoration-color: #008080; font-weight: bold\">0.0380859375</span>           <a href=\"file:///media/donato/Extra-storage/Code/model-merging/cycle-consistent-model-merging/src/ccmm/matching/weight_matching.py\" target=\"_blank\"><span style=\"color: #7f7f7f; text-decoration-color: #7f7f7f\">ccmm.matching.weight_matching</span></a><span style=\"color: #7f7f7f; text-decoration-color: #7f7f7f\">:</span><a href=\"file:///media/donato/Extra-storage/Code/model-merging/cycle-consistent-model-merging/src/ccmm/matching/weight_matching.py#176\" target=\"_blank\"><span style=\"color: #7f7f7f; text-decoration-color: #7f7f7f\">176</span></a>\n",
       "</pre>\n"
      ],
      "text/plain": [
       "\u001b[2;36m                   \u001b[0m\u001b[2;36m \u001b[0m\u001b[34mINFO    \u001b[0m Iteration \u001b[1;36m8\u001b[0m, Permutation P_0: \u001b[1;36m0.0380859375\u001b[0m           \u001b]8;id=335398;file:///media/donato/Extra-storage/Code/model-merging/cycle-consistent-model-merging/src/ccmm/matching/weight_matching.py\u001b\\\u001b[2mccmm.matching.weight_matching\u001b[0m\u001b]8;;\u001b\\\u001b[2m:\u001b[0m\u001b]8;id=539347;file:///media/donato/Extra-storage/Code/model-merging/cycle-consistent-model-merging/src/ccmm/matching/weight_matching.py#176\u001b\\\u001b[2m176\u001b[0m\u001b]8;;\u001b\\\n"
      ]
     },
     "metadata": {},
     "output_type": "display_data"
    },
    {
     "data": {
      "text/html": [
       "<pre style=\"white-space:pre;overflow-x:auto;line-height:normal;font-family:Menlo,'DejaVu Sans Mono',consolas,'Courier New',monospace\"><span style=\"color: #7fbfbf; text-decoration-color: #7fbfbf\">                    </span><span style=\"color: #000080; text-decoration-color: #000080\">INFO    </span> Iteration <span style=\"color: #008080; text-decoration-color: #008080; font-weight: bold\">8</span>, Permutation P_3: <span style=\"color: #008080; text-decoration-color: #008080; font-weight: bold\">1.1312713623046875</span>     <a href=\"file:///media/donato/Extra-storage/Code/model-merging/cycle-consistent-model-merging/src/ccmm/matching/weight_matching.py\" target=\"_blank\"><span style=\"color: #7f7f7f; text-decoration-color: #7f7f7f\">ccmm.matching.weight_matching</span></a><span style=\"color: #7f7f7f; text-decoration-color: #7f7f7f\">:</span><a href=\"file:///media/donato/Extra-storage/Code/model-merging/cycle-consistent-model-merging/src/ccmm/matching/weight_matching.py#176\" target=\"_blank\"><span style=\"color: #7f7f7f; text-decoration-color: #7f7f7f\">176</span></a>\n",
       "</pre>\n"
      ],
      "text/plain": [
       "\u001b[2;36m                   \u001b[0m\u001b[2;36m \u001b[0m\u001b[34mINFO    \u001b[0m Iteration \u001b[1;36m8\u001b[0m, Permutation P_3: \u001b[1;36m1.1312713623046875\u001b[0m     \u001b]8;id=636376;file:///media/donato/Extra-storage/Code/model-merging/cycle-consistent-model-merging/src/ccmm/matching/weight_matching.py\u001b\\\u001b[2mccmm.matching.weight_matching\u001b[0m\u001b]8;;\u001b\\\u001b[2m:\u001b[0m\u001b]8;id=512873;file:///media/donato/Extra-storage/Code/model-merging/cycle-consistent-model-merging/src/ccmm/matching/weight_matching.py#176\u001b\\\u001b[2m176\u001b[0m\u001b]8;;\u001b\\\n"
      ]
     },
     "metadata": {},
     "output_type": "display_data"
    },
    {
     "data": {
      "text/html": [
       "<pre style=\"white-space:pre;overflow-x:auto;line-height:normal;font-family:Menlo,'DejaVu Sans Mono',consolas,'Courier New',monospace\"><span style=\"color: #7fbfbf; text-decoration-color: #7fbfbf\">                    </span><span style=\"color: #000080; text-decoration-color: #000080\">INFO    </span> Iteration <span style=\"color: #008080; text-decoration-color: #008080; font-weight: bold\">8</span>, Permutation P_2: <span style=\"color: #008080; text-decoration-color: #008080; font-weight: bold\">1.156036376953125</span>      <a href=\"file:///media/donato/Extra-storage/Code/model-merging/cycle-consistent-model-merging/src/ccmm/matching/weight_matching.py\" target=\"_blank\"><span style=\"color: #7f7f7f; text-decoration-color: #7f7f7f\">ccmm.matching.weight_matching</span></a><span style=\"color: #7f7f7f; text-decoration-color: #7f7f7f\">:</span><a href=\"file:///media/donato/Extra-storage/Code/model-merging/cycle-consistent-model-merging/src/ccmm/matching/weight_matching.py#176\" target=\"_blank\"><span style=\"color: #7f7f7f; text-decoration-color: #7f7f7f\">176</span></a>\n",
       "</pre>\n"
      ],
      "text/plain": [
       "\u001b[2;36m                   \u001b[0m\u001b[2;36m \u001b[0m\u001b[34mINFO    \u001b[0m Iteration \u001b[1;36m8\u001b[0m, Permutation P_2: \u001b[1;36m1.156036376953125\u001b[0m      \u001b]8;id=54949;file:///media/donato/Extra-storage/Code/model-merging/cycle-consistent-model-merging/src/ccmm/matching/weight_matching.py\u001b\\\u001b[2mccmm.matching.weight_matching\u001b[0m\u001b]8;;\u001b\\\u001b[2m:\u001b[0m\u001b]8;id=549928;file:///media/donato/Extra-storage/Code/model-merging/cycle-consistent-model-merging/src/ccmm/matching/weight_matching.py#176\u001b\\\u001b[2m176\u001b[0m\u001b]8;;\u001b\\\n"
      ]
     },
     "metadata": {},
     "output_type": "display_data"
    },
    {
     "data": {
      "text/html": [
       "<pre style=\"white-space:pre;overflow-x:auto;line-height:normal;font-family:Menlo,'DejaVu Sans Mono',consolas,'Courier New',monospace\"><span style=\"color: #7fbfbf; text-decoration-color: #7fbfbf\">                    </span><span style=\"color: #000080; text-decoration-color: #000080\">INFO    </span> Iteration <span style=\"color: #008080; text-decoration-color: #008080; font-weight: bold\">8</span>, Permutation P_1: <span style=\"color: #008080; text-decoration-color: #008080; font-weight: bold\">0.33587646484375</span>       <a href=\"file:///media/donato/Extra-storage/Code/model-merging/cycle-consistent-model-merging/src/ccmm/matching/weight_matching.py\" target=\"_blank\"><span style=\"color: #7f7f7f; text-decoration-color: #7f7f7f\">ccmm.matching.weight_matching</span></a><span style=\"color: #7f7f7f; text-decoration-color: #7f7f7f\">:</span><a href=\"file:///media/donato/Extra-storage/Code/model-merging/cycle-consistent-model-merging/src/ccmm/matching/weight_matching.py#176\" target=\"_blank\"><span style=\"color: #7f7f7f; text-decoration-color: #7f7f7f\">176</span></a>\n",
       "</pre>\n"
      ],
      "text/plain": [
       "\u001b[2;36m                   \u001b[0m\u001b[2;36m \u001b[0m\u001b[34mINFO    \u001b[0m Iteration \u001b[1;36m8\u001b[0m, Permutation P_1: \u001b[1;36m0.33587646484375\u001b[0m       \u001b]8;id=507137;file:///media/donato/Extra-storage/Code/model-merging/cycle-consistent-model-merging/src/ccmm/matching/weight_matching.py\u001b\\\u001b[2mccmm.matching.weight_matching\u001b[0m\u001b]8;;\u001b\\\u001b[2m:\u001b[0m\u001b]8;id=230938;file:///media/donato/Extra-storage/Code/model-merging/cycle-consistent-model-merging/src/ccmm/matching/weight_matching.py#176\u001b\\\u001b[2m176\u001b[0m\u001b]8;;\u001b\\\n"
      ]
     },
     "metadata": {},
     "output_type": "display_data"
    },
    {
     "name": "stderr",
     "output_type": "stream",
     "text": [
      "Weight matching:   9%|▉         | 9/100 [00:01<00:11,  8.23it/s]"
     ]
    },
    {
     "data": {
      "text/html": [
       "<pre style=\"white-space:pre;overflow-x:auto;line-height:normal;font-family:Menlo,'DejaVu Sans Mono',consolas,'Courier New',monospace\"><span style=\"color: #7fbfbf; text-decoration-color: #7fbfbf\">                    </span><span style=\"color: #000080; text-decoration-color: #000080\">INFO    </span> Iteration <span style=\"color: #008080; text-decoration-color: #008080; font-weight: bold\">9</span>, Permutation P_2: <span style=\"color: #008080; text-decoration-color: #008080; font-weight: bold\">0.466766357421875</span>      <a href=\"file:///media/donato/Extra-storage/Code/model-merging/cycle-consistent-model-merging/src/ccmm/matching/weight_matching.py\" target=\"_blank\"><span style=\"color: #7f7f7f; text-decoration-color: #7f7f7f\">ccmm.matching.weight_matching</span></a><span style=\"color: #7f7f7f; text-decoration-color: #7f7f7f\">:</span><a href=\"file:///media/donato/Extra-storage/Code/model-merging/cycle-consistent-model-merging/src/ccmm/matching/weight_matching.py#176\" target=\"_blank\"><span style=\"color: #7f7f7f; text-decoration-color: #7f7f7f\">176</span></a>\n",
       "</pre>\n"
      ],
      "text/plain": [
       "\u001b[2;36m                   \u001b[0m\u001b[2;36m \u001b[0m\u001b[34mINFO    \u001b[0m Iteration \u001b[1;36m9\u001b[0m, Permutation P_2: \u001b[1;36m0.466766357421875\u001b[0m      \u001b]8;id=137560;file:///media/donato/Extra-storage/Code/model-merging/cycle-consistent-model-merging/src/ccmm/matching/weight_matching.py\u001b\\\u001b[2mccmm.matching.weight_matching\u001b[0m\u001b]8;;\u001b\\\u001b[2m:\u001b[0m\u001b]8;id=979614;file:///media/donato/Extra-storage/Code/model-merging/cycle-consistent-model-merging/src/ccmm/matching/weight_matching.py#176\u001b\\\u001b[2m176\u001b[0m\u001b]8;;\u001b\\\n"
      ]
     },
     "metadata": {},
     "output_type": "display_data"
    },
    {
     "data": {
      "text/html": [
       "<pre style=\"white-space:pre;overflow-x:auto;line-height:normal;font-family:Menlo,'DejaVu Sans Mono',consolas,'Courier New',monospace\"><span style=\"color: #7fbfbf; text-decoration-color: #7fbfbf\">                    </span><span style=\"color: #000080; text-decoration-color: #000080\">INFO    </span> Iteration <span style=\"color: #008080; text-decoration-color: #008080; font-weight: bold\">9</span>, Permutation P_1: <span style=\"color: #008080; text-decoration-color: #008080; font-weight: bold\">0.20623779296875</span>       <a href=\"file:///media/donato/Extra-storage/Code/model-merging/cycle-consistent-model-merging/src/ccmm/matching/weight_matching.py\" target=\"_blank\"><span style=\"color: #7f7f7f; text-decoration-color: #7f7f7f\">ccmm.matching.weight_matching</span></a><span style=\"color: #7f7f7f; text-decoration-color: #7f7f7f\">:</span><a href=\"file:///media/donato/Extra-storage/Code/model-merging/cycle-consistent-model-merging/src/ccmm/matching/weight_matching.py#176\" target=\"_blank\"><span style=\"color: #7f7f7f; text-decoration-color: #7f7f7f\">176</span></a>\n",
       "</pre>\n"
      ],
      "text/plain": [
       "\u001b[2;36m                   \u001b[0m\u001b[2;36m \u001b[0m\u001b[34mINFO    \u001b[0m Iteration \u001b[1;36m9\u001b[0m, Permutation P_1: \u001b[1;36m0.20623779296875\u001b[0m       \u001b]8;id=969196;file:///media/donato/Extra-storage/Code/model-merging/cycle-consistent-model-merging/src/ccmm/matching/weight_matching.py\u001b\\\u001b[2mccmm.matching.weight_matching\u001b[0m\u001b]8;;\u001b\\\u001b[2m:\u001b[0m\u001b]8;id=876461;file:///media/donato/Extra-storage/Code/model-merging/cycle-consistent-model-merging/src/ccmm/matching/weight_matching.py#176\u001b\\\u001b[2m176\u001b[0m\u001b]8;;\u001b\\\n"
      ]
     },
     "metadata": {},
     "output_type": "display_data"
    },
    {
     "data": {
      "text/html": [
       "<pre style=\"white-space:pre;overflow-x:auto;line-height:normal;font-family:Menlo,'DejaVu Sans Mono',consolas,'Courier New',monospace\"><span style=\"color: #7fbfbf; text-decoration-color: #7fbfbf\">2025-01-07 14:18:12 </span><span style=\"color: #000080; text-decoration-color: #000080\">INFO    </span> Iteration <span style=\"color: #008080; text-decoration-color: #008080; font-weight: bold\">9</span>, Permutation P_3: <span style=\"color: #008080; text-decoration-color: #008080; font-weight: bold\">0.9197235107421875</span>     <a href=\"file:///media/donato/Extra-storage/Code/model-merging/cycle-consistent-model-merging/src/ccmm/matching/weight_matching.py\" target=\"_blank\"><span style=\"color: #7f7f7f; text-decoration-color: #7f7f7f\">ccmm.matching.weight_matching</span></a><span style=\"color: #7f7f7f; text-decoration-color: #7f7f7f\">:</span><a href=\"file:///media/donato/Extra-storage/Code/model-merging/cycle-consistent-model-merging/src/ccmm/matching/weight_matching.py#176\" target=\"_blank\"><span style=\"color: #7f7f7f; text-decoration-color: #7f7f7f\">176</span></a>\n",
       "</pre>\n"
      ],
      "text/plain": [
       "\u001b[2;36m2025-01-07 14:18:12\u001b[0m\u001b[2;36m \u001b[0m\u001b[34mINFO    \u001b[0m Iteration \u001b[1;36m9\u001b[0m, Permutation P_3: \u001b[1;36m0.9197235107421875\u001b[0m     \u001b]8;id=383766;file:///media/donato/Extra-storage/Code/model-merging/cycle-consistent-model-merging/src/ccmm/matching/weight_matching.py\u001b\\\u001b[2mccmm.matching.weight_matching\u001b[0m\u001b]8;;\u001b\\\u001b[2m:\u001b[0m\u001b]8;id=394539;file:///media/donato/Extra-storage/Code/model-merging/cycle-consistent-model-merging/src/ccmm/matching/weight_matching.py#176\u001b\\\u001b[2m176\u001b[0m\u001b]8;;\u001b\\\n"
      ]
     },
     "metadata": {},
     "output_type": "display_data"
    },
    {
     "data": {
      "text/html": [
       "<pre style=\"white-space:pre;overflow-x:auto;line-height:normal;font-family:Menlo,'DejaVu Sans Mono',consolas,'Courier New',monospace\"><span style=\"color: #7fbfbf; text-decoration-color: #7fbfbf\">                    </span><span style=\"color: #000080; text-decoration-color: #000080\">INFO    </span> Iteration <span style=\"color: #008080; text-decoration-color: #008080; font-weight: bold\">9</span>, Permutation P_0: <span style=\"color: #008080; text-decoration-color: #008080; font-weight: bold\">0.3179931640625</span>        <a href=\"file:///media/donato/Extra-storage/Code/model-merging/cycle-consistent-model-merging/src/ccmm/matching/weight_matching.py\" target=\"_blank\"><span style=\"color: #7f7f7f; text-decoration-color: #7f7f7f\">ccmm.matching.weight_matching</span></a><span style=\"color: #7f7f7f; text-decoration-color: #7f7f7f\">:</span><a href=\"file:///media/donato/Extra-storage/Code/model-merging/cycle-consistent-model-merging/src/ccmm/matching/weight_matching.py#176\" target=\"_blank\"><span style=\"color: #7f7f7f; text-decoration-color: #7f7f7f\">176</span></a>\n",
       "</pre>\n"
      ],
      "text/plain": [
       "\u001b[2;36m                   \u001b[0m\u001b[2;36m \u001b[0m\u001b[34mINFO    \u001b[0m Iteration \u001b[1;36m9\u001b[0m, Permutation P_0: \u001b[1;36m0.3179931640625\u001b[0m        \u001b]8;id=60358;file:///media/donato/Extra-storage/Code/model-merging/cycle-consistent-model-merging/src/ccmm/matching/weight_matching.py\u001b\\\u001b[2mccmm.matching.weight_matching\u001b[0m\u001b]8;;\u001b\\\u001b[2m:\u001b[0m\u001b]8;id=186243;file:///media/donato/Extra-storage/Code/model-merging/cycle-consistent-model-merging/src/ccmm/matching/weight_matching.py#176\u001b\\\u001b[2m176\u001b[0m\u001b]8;;\u001b\\\n"
      ]
     },
     "metadata": {},
     "output_type": "display_data"
    },
    {
     "name": "stderr",
     "output_type": "stream",
     "text": [
      "Weight matching:  10%|█         | 10/100 [00:01<00:12,  7.35it/s]"
     ]
    },
    {
     "data": {
      "text/html": [
       "<pre style=\"white-space:pre;overflow-x:auto;line-height:normal;font-family:Menlo,'DejaVu Sans Mono',consolas,'Courier New',monospace\"><span style=\"color: #7fbfbf; text-decoration-color: #7fbfbf\">                    </span><span style=\"color: #000080; text-decoration-color: #000080\">INFO    </span> Iteration <span style=\"color: #008080; text-decoration-color: #008080; font-weight: bold\">10</span>, Permutation P_3: <span style=\"color: #008080; text-decoration-color: #008080; font-weight: bold\">0.0</span>                   <a href=\"file:///media/donato/Extra-storage/Code/model-merging/cycle-consistent-model-merging/src/ccmm/matching/weight_matching.py\" target=\"_blank\"><span style=\"color: #7f7f7f; text-decoration-color: #7f7f7f\">ccmm.matching.weight_matching</span></a><span style=\"color: #7f7f7f; text-decoration-color: #7f7f7f\">:</span><a href=\"file:///media/donato/Extra-storage/Code/model-merging/cycle-consistent-model-merging/src/ccmm/matching/weight_matching.py#176\" target=\"_blank\"><span style=\"color: #7f7f7f; text-decoration-color: #7f7f7f\">176</span></a>\n",
       "</pre>\n"
      ],
      "text/plain": [
       "\u001b[2;36m                   \u001b[0m\u001b[2;36m \u001b[0m\u001b[34mINFO    \u001b[0m Iteration \u001b[1;36m10\u001b[0m, Permutation P_3: \u001b[1;36m0.0\u001b[0m                   \u001b]8;id=536163;file:///media/donato/Extra-storage/Code/model-merging/cycle-consistent-model-merging/src/ccmm/matching/weight_matching.py\u001b\\\u001b[2mccmm.matching.weight_matching\u001b[0m\u001b]8;;\u001b\\\u001b[2m:\u001b[0m\u001b]8;id=736144;file:///media/donato/Extra-storage/Code/model-merging/cycle-consistent-model-merging/src/ccmm/matching/weight_matching.py#176\u001b\\\u001b[2m176\u001b[0m\u001b]8;;\u001b\\\n"
      ]
     },
     "metadata": {},
     "output_type": "display_data"
    },
    {
     "data": {
      "text/html": [
       "<pre style=\"white-space:pre;overflow-x:auto;line-height:normal;font-family:Menlo,'DejaVu Sans Mono',consolas,'Courier New',monospace\"><span style=\"color: #7fbfbf; text-decoration-color: #7fbfbf\">                    </span><span style=\"color: #000080; text-decoration-color: #000080\">INFO    </span> Iteration <span style=\"color: #008080; text-decoration-color: #008080; font-weight: bold\">10</span>, Permutation P_0: <span style=\"color: #008080; text-decoration-color: #008080; font-weight: bold\">0.0</span>                   <a href=\"file:///media/donato/Extra-storage/Code/model-merging/cycle-consistent-model-merging/src/ccmm/matching/weight_matching.py\" target=\"_blank\"><span style=\"color: #7f7f7f; text-decoration-color: #7f7f7f\">ccmm.matching.weight_matching</span></a><span style=\"color: #7f7f7f; text-decoration-color: #7f7f7f\">:</span><a href=\"file:///media/donato/Extra-storage/Code/model-merging/cycle-consistent-model-merging/src/ccmm/matching/weight_matching.py#176\" target=\"_blank\"><span style=\"color: #7f7f7f; text-decoration-color: #7f7f7f\">176</span></a>\n",
       "</pre>\n"
      ],
      "text/plain": [
       "\u001b[2;36m                   \u001b[0m\u001b[2;36m \u001b[0m\u001b[34mINFO    \u001b[0m Iteration \u001b[1;36m10\u001b[0m, Permutation P_0: \u001b[1;36m0.0\u001b[0m                   \u001b]8;id=65195;file:///media/donato/Extra-storage/Code/model-merging/cycle-consistent-model-merging/src/ccmm/matching/weight_matching.py\u001b\\\u001b[2mccmm.matching.weight_matching\u001b[0m\u001b]8;;\u001b\\\u001b[2m:\u001b[0m\u001b]8;id=528824;file:///media/donato/Extra-storage/Code/model-merging/cycle-consistent-model-merging/src/ccmm/matching/weight_matching.py#176\u001b\\\u001b[2m176\u001b[0m\u001b]8;;\u001b\\\n"
      ]
     },
     "metadata": {},
     "output_type": "display_data"
    },
    {
     "data": {
      "text/html": [
       "<pre style=\"white-space:pre;overflow-x:auto;line-height:normal;font-family:Menlo,'DejaVu Sans Mono',consolas,'Courier New',monospace\"><span style=\"color: #7fbfbf; text-decoration-color: #7fbfbf\">                    </span><span style=\"color: #000080; text-decoration-color: #000080\">INFO    </span> Iteration <span style=\"color: #008080; text-decoration-color: #008080; font-weight: bold\">10</span>, Permutation P_1: <span style=\"color: #008080; text-decoration-color: #008080; font-weight: bold\">0.30230712890625</span>      <a href=\"file:///media/donato/Extra-storage/Code/model-merging/cycle-consistent-model-merging/src/ccmm/matching/weight_matching.py\" target=\"_blank\"><span style=\"color: #7f7f7f; text-decoration-color: #7f7f7f\">ccmm.matching.weight_matching</span></a><span style=\"color: #7f7f7f; text-decoration-color: #7f7f7f\">:</span><a href=\"file:///media/donato/Extra-storage/Code/model-merging/cycle-consistent-model-merging/src/ccmm/matching/weight_matching.py#176\" target=\"_blank\"><span style=\"color: #7f7f7f; text-decoration-color: #7f7f7f\">176</span></a>\n",
       "</pre>\n"
      ],
      "text/plain": [
       "\u001b[2;36m                   \u001b[0m\u001b[2;36m \u001b[0m\u001b[34mINFO    \u001b[0m Iteration \u001b[1;36m10\u001b[0m, Permutation P_1: \u001b[1;36m0.30230712890625\u001b[0m      \u001b]8;id=456618;file:///media/donato/Extra-storage/Code/model-merging/cycle-consistent-model-merging/src/ccmm/matching/weight_matching.py\u001b\\\u001b[2mccmm.matching.weight_matching\u001b[0m\u001b]8;;\u001b\\\u001b[2m:\u001b[0m\u001b]8;id=879795;file:///media/donato/Extra-storage/Code/model-merging/cycle-consistent-model-merging/src/ccmm/matching/weight_matching.py#176\u001b\\\u001b[2m176\u001b[0m\u001b]8;;\u001b\\\n"
      ]
     },
     "metadata": {},
     "output_type": "display_data"
    },
    {
     "data": {
      "text/html": [
       "<pre style=\"white-space:pre;overflow-x:auto;line-height:normal;font-family:Menlo,'DejaVu Sans Mono',consolas,'Courier New',monospace\"><span style=\"color: #7fbfbf; text-decoration-color: #7fbfbf\">                    </span><span style=\"color: #000080; text-decoration-color: #000080\">INFO    </span> Iteration <span style=\"color: #008080; text-decoration-color: #008080; font-weight: bold\">10</span>, Permutation P_2: <span style=\"color: #008080; text-decoration-color: #008080; font-weight: bold\">0.95562744140625</span>      <a href=\"file:///media/donato/Extra-storage/Code/model-merging/cycle-consistent-model-merging/src/ccmm/matching/weight_matching.py\" target=\"_blank\"><span style=\"color: #7f7f7f; text-decoration-color: #7f7f7f\">ccmm.matching.weight_matching</span></a><span style=\"color: #7f7f7f; text-decoration-color: #7f7f7f\">:</span><a href=\"file:///media/donato/Extra-storage/Code/model-merging/cycle-consistent-model-merging/src/ccmm/matching/weight_matching.py#176\" target=\"_blank\"><span style=\"color: #7f7f7f; text-decoration-color: #7f7f7f\">176</span></a>\n",
       "</pre>\n"
      ],
      "text/plain": [
       "\u001b[2;36m                   \u001b[0m\u001b[2;36m \u001b[0m\u001b[34mINFO    \u001b[0m Iteration \u001b[1;36m10\u001b[0m, Permutation P_2: \u001b[1;36m0.95562744140625\u001b[0m      \u001b]8;id=615441;file:///media/donato/Extra-storage/Code/model-merging/cycle-consistent-model-merging/src/ccmm/matching/weight_matching.py\u001b\\\u001b[2mccmm.matching.weight_matching\u001b[0m\u001b]8;;\u001b\\\u001b[2m:\u001b[0m\u001b]8;id=866883;file:///media/donato/Extra-storage/Code/model-merging/cycle-consistent-model-merging/src/ccmm/matching/weight_matching.py#176\u001b\\\u001b[2m176\u001b[0m\u001b]8;;\u001b\\\n"
      ]
     },
     "metadata": {},
     "output_type": "display_data"
    },
    {
     "data": {
      "text/html": [
       "<pre style=\"white-space:pre;overflow-x:auto;line-height:normal;font-family:Menlo,'DejaVu Sans Mono',consolas,'Courier New',monospace\"><span style=\"color: #7fbfbf; text-decoration-color: #7fbfbf\">                    </span><span style=\"color: #000080; text-decoration-color: #000080\">INFO    </span> Iteration <span style=\"color: #008080; text-decoration-color: #008080; font-weight: bold\">11</span>, Permutation P_0: <span style=\"color: #008080; text-decoration-color: #008080; font-weight: bold\">0.102783203125</span>        <a href=\"file:///media/donato/Extra-storage/Code/model-merging/cycle-consistent-model-merging/src/ccmm/matching/weight_matching.py\" target=\"_blank\"><span style=\"color: #7f7f7f; text-decoration-color: #7f7f7f\">ccmm.matching.weight_matching</span></a><span style=\"color: #7f7f7f; text-decoration-color: #7f7f7f\">:</span><a href=\"file:///media/donato/Extra-storage/Code/model-merging/cycle-consistent-model-merging/src/ccmm/matching/weight_matching.py#176\" target=\"_blank\"><span style=\"color: #7f7f7f; text-decoration-color: #7f7f7f\">176</span></a>\n",
       "</pre>\n"
      ],
      "text/plain": [
       "\u001b[2;36m                   \u001b[0m\u001b[2;36m \u001b[0m\u001b[34mINFO    \u001b[0m Iteration \u001b[1;36m11\u001b[0m, Permutation P_0: \u001b[1;36m0.102783203125\u001b[0m        \u001b]8;id=180556;file:///media/donato/Extra-storage/Code/model-merging/cycle-consistent-model-merging/src/ccmm/matching/weight_matching.py\u001b\\\u001b[2mccmm.matching.weight_matching\u001b[0m\u001b]8;;\u001b\\\u001b[2m:\u001b[0m\u001b]8;id=642002;file:///media/donato/Extra-storage/Code/model-merging/cycle-consistent-model-merging/src/ccmm/matching/weight_matching.py#176\u001b\\\u001b[2m176\u001b[0m\u001b]8;;\u001b\\\n"
      ]
     },
     "metadata": {},
     "output_type": "display_data"
    },
    {
     "data": {
      "text/html": [
       "<pre style=\"white-space:pre;overflow-x:auto;line-height:normal;font-family:Menlo,'DejaVu Sans Mono',consolas,'Courier New',monospace\"><span style=\"color: #7fbfbf; text-decoration-color: #7fbfbf\">                    </span><span style=\"color: #000080; text-decoration-color: #000080\">INFO    </span> Iteration <span style=\"color: #008080; text-decoration-color: #008080; font-weight: bold\">11</span>, Permutation P_1: <span style=\"color: #008080; text-decoration-color: #008080; font-weight: bold\">0.08636474609375</span>      <a href=\"file:///media/donato/Extra-storage/Code/model-merging/cycle-consistent-model-merging/src/ccmm/matching/weight_matching.py\" target=\"_blank\"><span style=\"color: #7f7f7f; text-decoration-color: #7f7f7f\">ccmm.matching.weight_matching</span></a><span style=\"color: #7f7f7f; text-decoration-color: #7f7f7f\">:</span><a href=\"file:///media/donato/Extra-storage/Code/model-merging/cycle-consistent-model-merging/src/ccmm/matching/weight_matching.py#176\" target=\"_blank\"><span style=\"color: #7f7f7f; text-decoration-color: #7f7f7f\">176</span></a>\n",
       "</pre>\n"
      ],
      "text/plain": [
       "\u001b[2;36m                   \u001b[0m\u001b[2;36m \u001b[0m\u001b[34mINFO    \u001b[0m Iteration \u001b[1;36m11\u001b[0m, Permutation P_1: \u001b[1;36m0.08636474609375\u001b[0m      \u001b]8;id=324281;file:///media/donato/Extra-storage/Code/model-merging/cycle-consistent-model-merging/src/ccmm/matching/weight_matching.py\u001b\\\u001b[2mccmm.matching.weight_matching\u001b[0m\u001b]8;;\u001b\\\u001b[2m:\u001b[0m\u001b]8;id=693529;file:///media/donato/Extra-storage/Code/model-merging/cycle-consistent-model-merging/src/ccmm/matching/weight_matching.py#176\u001b\\\u001b[2m176\u001b[0m\u001b]8;;\u001b\\\n"
      ]
     },
     "metadata": {},
     "output_type": "display_data"
    },
    {
     "data": {
      "text/html": [
       "<pre style=\"white-space:pre;overflow-x:auto;line-height:normal;font-family:Menlo,'DejaVu Sans Mono',consolas,'Courier New',monospace\"><span style=\"color: #7fbfbf; text-decoration-color: #7fbfbf\">                    </span><span style=\"color: #000080; text-decoration-color: #000080\">INFO    </span> Iteration <span style=\"color: #008080; text-decoration-color: #008080; font-weight: bold\">11</span>, Permutation P_3: <span style=\"color: #008080; text-decoration-color: #008080; font-weight: bold\">0.2945556640625</span>       <a href=\"file:///media/donato/Extra-storage/Code/model-merging/cycle-consistent-model-merging/src/ccmm/matching/weight_matching.py\" target=\"_blank\"><span style=\"color: #7f7f7f; text-decoration-color: #7f7f7f\">ccmm.matching.weight_matching</span></a><span style=\"color: #7f7f7f; text-decoration-color: #7f7f7f\">:</span><a href=\"file:///media/donato/Extra-storage/Code/model-merging/cycle-consistent-model-merging/src/ccmm/matching/weight_matching.py#176\" target=\"_blank\"><span style=\"color: #7f7f7f; text-decoration-color: #7f7f7f\">176</span></a>\n",
       "</pre>\n"
      ],
      "text/plain": [
       "\u001b[2;36m                   \u001b[0m\u001b[2;36m \u001b[0m\u001b[34mINFO    \u001b[0m Iteration \u001b[1;36m11\u001b[0m, Permutation P_3: \u001b[1;36m0.2945556640625\u001b[0m       \u001b]8;id=92318;file:///media/donato/Extra-storage/Code/model-merging/cycle-consistent-model-merging/src/ccmm/matching/weight_matching.py\u001b\\\u001b[2mccmm.matching.weight_matching\u001b[0m\u001b]8;;\u001b\\\u001b[2m:\u001b[0m\u001b]8;id=947445;file:///media/donato/Extra-storage/Code/model-merging/cycle-consistent-model-merging/src/ccmm/matching/weight_matching.py#176\u001b\\\u001b[2m176\u001b[0m\u001b]8;;\u001b\\\n"
      ]
     },
     "metadata": {},
     "output_type": "display_data"
    },
    {
     "data": {
      "text/html": [
       "<pre style=\"white-space:pre;overflow-x:auto;line-height:normal;font-family:Menlo,'DejaVu Sans Mono',consolas,'Courier New',monospace\"><span style=\"color: #7fbfbf; text-decoration-color: #7fbfbf\">                    </span><span style=\"color: #000080; text-decoration-color: #000080\">INFO    </span> Iteration <span style=\"color: #008080; text-decoration-color: #008080; font-weight: bold\">11</span>, Permutation P_2: <span style=\"color: #008080; text-decoration-color: #008080; font-weight: bold\">0.605926513671875</span>     <a href=\"file:///media/donato/Extra-storage/Code/model-merging/cycle-consistent-model-merging/src/ccmm/matching/weight_matching.py\" target=\"_blank\"><span style=\"color: #7f7f7f; text-decoration-color: #7f7f7f\">ccmm.matching.weight_matching</span></a><span style=\"color: #7f7f7f; text-decoration-color: #7f7f7f\">:</span><a href=\"file:///media/donato/Extra-storage/Code/model-merging/cycle-consistent-model-merging/src/ccmm/matching/weight_matching.py#176\" target=\"_blank\"><span style=\"color: #7f7f7f; text-decoration-color: #7f7f7f\">176</span></a>\n",
       "</pre>\n"
      ],
      "text/plain": [
       "\u001b[2;36m                   \u001b[0m\u001b[2;36m \u001b[0m\u001b[34mINFO    \u001b[0m Iteration \u001b[1;36m11\u001b[0m, Permutation P_2: \u001b[1;36m0.605926513671875\u001b[0m     \u001b]8;id=263659;file:///media/donato/Extra-storage/Code/model-merging/cycle-consistent-model-merging/src/ccmm/matching/weight_matching.py\u001b\\\u001b[2mccmm.matching.weight_matching\u001b[0m\u001b]8;;\u001b\\\u001b[2m:\u001b[0m\u001b]8;id=520603;file:///media/donato/Extra-storage/Code/model-merging/cycle-consistent-model-merging/src/ccmm/matching/weight_matching.py#176\u001b\\\u001b[2m176\u001b[0m\u001b]8;;\u001b\\\n"
      ]
     },
     "metadata": {},
     "output_type": "display_data"
    },
    {
     "name": "stderr",
     "output_type": "stream",
     "text": [
      "Weight matching:  12%|█▏        | 12/100 [00:01<00:14,  6.07it/s]"
     ]
    },
    {
     "data": {
      "text/html": [
       "<pre style=\"white-space:pre;overflow-x:auto;line-height:normal;font-family:Menlo,'DejaVu Sans Mono',consolas,'Courier New',monospace\"><span style=\"color: #7fbfbf; text-decoration-color: #7fbfbf\">                    </span><span style=\"color: #000080; text-decoration-color: #000080\">INFO    </span> Iteration <span style=\"color: #008080; text-decoration-color: #008080; font-weight: bold\">12</span>, Permutation P_1: <span style=\"color: #008080; text-decoration-color: #008080; font-weight: bold\">0.0902099609375</span>       <a href=\"file:///media/donato/Extra-storage/Code/model-merging/cycle-consistent-model-merging/src/ccmm/matching/weight_matching.py\" target=\"_blank\"><span style=\"color: #7f7f7f; text-decoration-color: #7f7f7f\">ccmm.matching.weight_matching</span></a><span style=\"color: #7f7f7f; text-decoration-color: #7f7f7f\">:</span><a href=\"file:///media/donato/Extra-storage/Code/model-merging/cycle-consistent-model-merging/src/ccmm/matching/weight_matching.py#176\" target=\"_blank\"><span style=\"color: #7f7f7f; text-decoration-color: #7f7f7f\">176</span></a>\n",
       "</pre>\n"
      ],
      "text/plain": [
       "\u001b[2;36m                   \u001b[0m\u001b[2;36m \u001b[0m\u001b[34mINFO    \u001b[0m Iteration \u001b[1;36m12\u001b[0m, Permutation P_1: \u001b[1;36m0.0902099609375\u001b[0m       \u001b]8;id=964134;file:///media/donato/Extra-storage/Code/model-merging/cycle-consistent-model-merging/src/ccmm/matching/weight_matching.py\u001b\\\u001b[2mccmm.matching.weight_matching\u001b[0m\u001b]8;;\u001b\\\u001b[2m:\u001b[0m\u001b]8;id=374681;file:///media/donato/Extra-storage/Code/model-merging/cycle-consistent-model-merging/src/ccmm/matching/weight_matching.py#176\u001b\\\u001b[2m176\u001b[0m\u001b]8;;\u001b\\\n"
      ]
     },
     "metadata": {},
     "output_type": "display_data"
    },
    {
     "data": {
      "text/html": [
       "<pre style=\"white-space:pre;overflow-x:auto;line-height:normal;font-family:Menlo,'DejaVu Sans Mono',consolas,'Courier New',monospace\"><span style=\"color: #7fbfbf; text-decoration-color: #7fbfbf\">                    </span><span style=\"color: #000080; text-decoration-color: #000080\">INFO    </span> Iteration <span style=\"color: #008080; text-decoration-color: #008080; font-weight: bold\">12</span>, Permutation P_2: <span style=\"color: #008080; text-decoration-color: #008080; font-weight: bold\">0.032318115234375</span>     <a href=\"file:///media/donato/Extra-storage/Code/model-merging/cycle-consistent-model-merging/src/ccmm/matching/weight_matching.py\" target=\"_blank\"><span style=\"color: #7f7f7f; text-decoration-color: #7f7f7f\">ccmm.matching.weight_matching</span></a><span style=\"color: #7f7f7f; text-decoration-color: #7f7f7f\">:</span><a href=\"file:///media/donato/Extra-storage/Code/model-merging/cycle-consistent-model-merging/src/ccmm/matching/weight_matching.py#176\" target=\"_blank\"><span style=\"color: #7f7f7f; text-decoration-color: #7f7f7f\">176</span></a>\n",
       "</pre>\n"
      ],
      "text/plain": [
       "\u001b[2;36m                   \u001b[0m\u001b[2;36m \u001b[0m\u001b[34mINFO    \u001b[0m Iteration \u001b[1;36m12\u001b[0m, Permutation P_2: \u001b[1;36m0.032318115234375\u001b[0m     \u001b]8;id=646820;file:///media/donato/Extra-storage/Code/model-merging/cycle-consistent-model-merging/src/ccmm/matching/weight_matching.py\u001b\\\u001b[2mccmm.matching.weight_matching\u001b[0m\u001b]8;;\u001b\\\u001b[2m:\u001b[0m\u001b]8;id=482984;file:///media/donato/Extra-storage/Code/model-merging/cycle-consistent-model-merging/src/ccmm/matching/weight_matching.py#176\u001b\\\u001b[2m176\u001b[0m\u001b]8;;\u001b\\\n"
      ]
     },
     "metadata": {},
     "output_type": "display_data"
    },
    {
     "data": {
      "text/html": [
       "<pre style=\"white-space:pre;overflow-x:auto;line-height:normal;font-family:Menlo,'DejaVu Sans Mono',consolas,'Courier New',monospace\"><span style=\"color: #7fbfbf; text-decoration-color: #7fbfbf\">                    </span><span style=\"color: #000080; text-decoration-color: #000080\">INFO    </span> Iteration <span style=\"color: #008080; text-decoration-color: #008080; font-weight: bold\">12</span>, Permutation P_0: <span style=\"color: #008080; text-decoration-color: #008080; font-weight: bold\">0.2601318359375</span>       <a href=\"file:///media/donato/Extra-storage/Code/model-merging/cycle-consistent-model-merging/src/ccmm/matching/weight_matching.py\" target=\"_blank\"><span style=\"color: #7f7f7f; text-decoration-color: #7f7f7f\">ccmm.matching.weight_matching</span></a><span style=\"color: #7f7f7f; text-decoration-color: #7f7f7f\">:</span><a href=\"file:///media/donato/Extra-storage/Code/model-merging/cycle-consistent-model-merging/src/ccmm/matching/weight_matching.py#176\" target=\"_blank\"><span style=\"color: #7f7f7f; text-decoration-color: #7f7f7f\">176</span></a>\n",
       "</pre>\n"
      ],
      "text/plain": [
       "\u001b[2;36m                   \u001b[0m\u001b[2;36m \u001b[0m\u001b[34mINFO    \u001b[0m Iteration \u001b[1;36m12\u001b[0m, Permutation P_0: \u001b[1;36m0.2601318359375\u001b[0m       \u001b]8;id=578843;file:///media/donato/Extra-storage/Code/model-merging/cycle-consistent-model-merging/src/ccmm/matching/weight_matching.py\u001b\\\u001b[2mccmm.matching.weight_matching\u001b[0m\u001b]8;;\u001b\\\u001b[2m:\u001b[0m\u001b]8;id=494479;file:///media/donato/Extra-storage/Code/model-merging/cycle-consistent-model-merging/src/ccmm/matching/weight_matching.py#176\u001b\\\u001b[2m176\u001b[0m\u001b]8;;\u001b\\\n"
      ]
     },
     "metadata": {},
     "output_type": "display_data"
    },
    {
     "data": {
      "text/html": [
       "<pre style=\"white-space:pre;overflow-x:auto;line-height:normal;font-family:Menlo,'DejaVu Sans Mono',consolas,'Courier New',monospace\"><span style=\"color: #7fbfbf; text-decoration-color: #7fbfbf\">                    </span><span style=\"color: #000080; text-decoration-color: #000080\">INFO    </span> Iteration <span style=\"color: #008080; text-decoration-color: #008080; font-weight: bold\">12</span>, Permutation P_3: <span style=\"color: #008080; text-decoration-color: #008080; font-weight: bold\">0.1728057861328125</span>    <a href=\"file:///media/donato/Extra-storage/Code/model-merging/cycle-consistent-model-merging/src/ccmm/matching/weight_matching.py\" target=\"_blank\"><span style=\"color: #7f7f7f; text-decoration-color: #7f7f7f\">ccmm.matching.weight_matching</span></a><span style=\"color: #7f7f7f; text-decoration-color: #7f7f7f\">:</span><a href=\"file:///media/donato/Extra-storage/Code/model-merging/cycle-consistent-model-merging/src/ccmm/matching/weight_matching.py#176\" target=\"_blank\"><span style=\"color: #7f7f7f; text-decoration-color: #7f7f7f\">176</span></a>\n",
       "</pre>\n"
      ],
      "text/plain": [
       "\u001b[2;36m                   \u001b[0m\u001b[2;36m \u001b[0m\u001b[34mINFO    \u001b[0m Iteration \u001b[1;36m12\u001b[0m, Permutation P_3: \u001b[1;36m0.1728057861328125\u001b[0m    \u001b]8;id=669724;file:///media/donato/Extra-storage/Code/model-merging/cycle-consistent-model-merging/src/ccmm/matching/weight_matching.py\u001b\\\u001b[2mccmm.matching.weight_matching\u001b[0m\u001b]8;;\u001b\\\u001b[2m:\u001b[0m\u001b]8;id=553816;file:///media/donato/Extra-storage/Code/model-merging/cycle-consistent-model-merging/src/ccmm/matching/weight_matching.py#176\u001b\\\u001b[2m176\u001b[0m\u001b]8;;\u001b\\\n"
      ]
     },
     "metadata": {},
     "output_type": "display_data"
    },
    {
     "name": "stderr",
     "output_type": "stream",
     "text": [
      "Weight matching:  13%|█▎        | 13/100 [00:01<00:14,  5.90it/s]"
     ]
    },
    {
     "data": {
      "text/html": [
       "<pre style=\"white-space:pre;overflow-x:auto;line-height:normal;font-family:Menlo,'DejaVu Sans Mono',consolas,'Courier New',monospace\"><span style=\"color: #7fbfbf; text-decoration-color: #7fbfbf\">                    </span><span style=\"color: #000080; text-decoration-color: #000080\">INFO    </span> Iteration <span style=\"color: #008080; text-decoration-color: #008080; font-weight: bold\">13</span>, Permutation P_2: <span style=\"color: #008080; text-decoration-color: #008080; font-weight: bold\">0.18975830078125</span>      <a href=\"file:///media/donato/Extra-storage/Code/model-merging/cycle-consistent-model-merging/src/ccmm/matching/weight_matching.py\" target=\"_blank\"><span style=\"color: #7f7f7f; text-decoration-color: #7f7f7f\">ccmm.matching.weight_matching</span></a><span style=\"color: #7f7f7f; text-decoration-color: #7f7f7f\">:</span><a href=\"file:///media/donato/Extra-storage/Code/model-merging/cycle-consistent-model-merging/src/ccmm/matching/weight_matching.py#176\" target=\"_blank\"><span style=\"color: #7f7f7f; text-decoration-color: #7f7f7f\">176</span></a>\n",
       "</pre>\n"
      ],
      "text/plain": [
       "\u001b[2;36m                   \u001b[0m\u001b[2;36m \u001b[0m\u001b[34mINFO    \u001b[0m Iteration \u001b[1;36m13\u001b[0m, Permutation P_2: \u001b[1;36m0.18975830078125\u001b[0m      \u001b]8;id=261097;file:///media/donato/Extra-storage/Code/model-merging/cycle-consistent-model-merging/src/ccmm/matching/weight_matching.py\u001b\\\u001b[2mccmm.matching.weight_matching\u001b[0m\u001b]8;;\u001b\\\u001b[2m:\u001b[0m\u001b]8;id=462328;file:///media/donato/Extra-storage/Code/model-merging/cycle-consistent-model-merging/src/ccmm/matching/weight_matching.py#176\u001b\\\u001b[2m176\u001b[0m\u001b]8;;\u001b\\\n"
      ]
     },
     "metadata": {},
     "output_type": "display_data"
    },
    {
     "data": {
      "text/html": [
       "<pre style=\"white-space:pre;overflow-x:auto;line-height:normal;font-family:Menlo,'DejaVu Sans Mono',consolas,'Courier New',monospace\"><span style=\"color: #7fbfbf; text-decoration-color: #7fbfbf\">                    </span><span style=\"color: #000080; text-decoration-color: #000080\">INFO    </span> Iteration <span style=\"color: #008080; text-decoration-color: #008080; font-weight: bold\">13</span>, Permutation P_0: <span style=\"color: #008080; text-decoration-color: #008080; font-weight: bold\">0.0</span>                   <a href=\"file:///media/donato/Extra-storage/Code/model-merging/cycle-consistent-model-merging/src/ccmm/matching/weight_matching.py\" target=\"_blank\"><span style=\"color: #7f7f7f; text-decoration-color: #7f7f7f\">ccmm.matching.weight_matching</span></a><span style=\"color: #7f7f7f; text-decoration-color: #7f7f7f\">:</span><a href=\"file:///media/donato/Extra-storage/Code/model-merging/cycle-consistent-model-merging/src/ccmm/matching/weight_matching.py#176\" target=\"_blank\"><span style=\"color: #7f7f7f; text-decoration-color: #7f7f7f\">176</span></a>\n",
       "</pre>\n"
      ],
      "text/plain": [
       "\u001b[2;36m                   \u001b[0m\u001b[2;36m \u001b[0m\u001b[34mINFO    \u001b[0m Iteration \u001b[1;36m13\u001b[0m, Permutation P_0: \u001b[1;36m0.0\u001b[0m                   \u001b]8;id=596392;file:///media/donato/Extra-storage/Code/model-merging/cycle-consistent-model-merging/src/ccmm/matching/weight_matching.py\u001b\\\u001b[2mccmm.matching.weight_matching\u001b[0m\u001b]8;;\u001b\\\u001b[2m:\u001b[0m\u001b]8;id=901943;file:///media/donato/Extra-storage/Code/model-merging/cycle-consistent-model-merging/src/ccmm/matching/weight_matching.py#176\u001b\\\u001b[2m176\u001b[0m\u001b]8;;\u001b\\\n"
      ]
     },
     "metadata": {},
     "output_type": "display_data"
    },
    {
     "data": {
      "text/html": [
       "<pre style=\"white-space:pre;overflow-x:auto;line-height:normal;font-family:Menlo,'DejaVu Sans Mono',consolas,'Courier New',monospace\"><span style=\"color: #7fbfbf; text-decoration-color: #7fbfbf\">                    </span><span style=\"color: #000080; text-decoration-color: #000080\">INFO    </span> Iteration <span style=\"color: #008080; text-decoration-color: #008080; font-weight: bold\">13</span>, Permutation P_1: <span style=\"color: #008080; text-decoration-color: #008080; font-weight: bold\">0.42047119140625</span>      <a href=\"file:///media/donato/Extra-storage/Code/model-merging/cycle-consistent-model-merging/src/ccmm/matching/weight_matching.py\" target=\"_blank\"><span style=\"color: #7f7f7f; text-decoration-color: #7f7f7f\">ccmm.matching.weight_matching</span></a><span style=\"color: #7f7f7f; text-decoration-color: #7f7f7f\">:</span><a href=\"file:///media/donato/Extra-storage/Code/model-merging/cycle-consistent-model-merging/src/ccmm/matching/weight_matching.py#176\" target=\"_blank\"><span style=\"color: #7f7f7f; text-decoration-color: #7f7f7f\">176</span></a>\n",
       "</pre>\n"
      ],
      "text/plain": [
       "\u001b[2;36m                   \u001b[0m\u001b[2;36m \u001b[0m\u001b[34mINFO    \u001b[0m Iteration \u001b[1;36m13\u001b[0m, Permutation P_1: \u001b[1;36m0.42047119140625\u001b[0m      \u001b]8;id=797985;file:///media/donato/Extra-storage/Code/model-merging/cycle-consistent-model-merging/src/ccmm/matching/weight_matching.py\u001b\\\u001b[2mccmm.matching.weight_matching\u001b[0m\u001b]8;;\u001b\\\u001b[2m:\u001b[0m\u001b]8;id=251107;file:///media/donato/Extra-storage/Code/model-merging/cycle-consistent-model-merging/src/ccmm/matching/weight_matching.py#176\u001b\\\u001b[2m176\u001b[0m\u001b]8;;\u001b\\\n"
      ]
     },
     "metadata": {},
     "output_type": "display_data"
    },
    {
     "data": {
      "text/html": [
       "<pre style=\"white-space:pre;overflow-x:auto;line-height:normal;font-family:Menlo,'DejaVu Sans Mono',consolas,'Courier New',monospace\"><span style=\"color: #7fbfbf; text-decoration-color: #7fbfbf\">                    </span><span style=\"color: #000080; text-decoration-color: #000080\">INFO    </span> Iteration <span style=\"color: #008080; text-decoration-color: #008080; font-weight: bold\">13</span>, Permutation P_3: <span style=\"color: #008080; text-decoration-color: #008080; font-weight: bold\">0.13409423828125</span>      <a href=\"file:///media/donato/Extra-storage/Code/model-merging/cycle-consistent-model-merging/src/ccmm/matching/weight_matching.py\" target=\"_blank\"><span style=\"color: #7f7f7f; text-decoration-color: #7f7f7f\">ccmm.matching.weight_matching</span></a><span style=\"color: #7f7f7f; text-decoration-color: #7f7f7f\">:</span><a href=\"file:///media/donato/Extra-storage/Code/model-merging/cycle-consistent-model-merging/src/ccmm/matching/weight_matching.py#176\" target=\"_blank\"><span style=\"color: #7f7f7f; text-decoration-color: #7f7f7f\">176</span></a>\n",
       "</pre>\n"
      ],
      "text/plain": [
       "\u001b[2;36m                   \u001b[0m\u001b[2;36m \u001b[0m\u001b[34mINFO    \u001b[0m Iteration \u001b[1;36m13\u001b[0m, Permutation P_3: \u001b[1;36m0.13409423828125\u001b[0m      \u001b]8;id=279338;file:///media/donato/Extra-storage/Code/model-merging/cycle-consistent-model-merging/src/ccmm/matching/weight_matching.py\u001b\\\u001b[2mccmm.matching.weight_matching\u001b[0m\u001b]8;;\u001b\\\u001b[2m:\u001b[0m\u001b]8;id=903120;file:///media/donato/Extra-storage/Code/model-merging/cycle-consistent-model-merging/src/ccmm/matching/weight_matching.py#176\u001b\\\u001b[2m176\u001b[0m\u001b]8;;\u001b\\\n"
      ]
     },
     "metadata": {},
     "output_type": "display_data"
    },
    {
     "name": "stderr",
     "output_type": "stream",
     "text": [
      "Weight matching:  14%|█▍        | 14/100 [00:02<00:15,  5.67it/s]"
     ]
    },
    {
     "data": {
      "text/html": [
       "<pre style=\"white-space:pre;overflow-x:auto;line-height:normal;font-family:Menlo,'DejaVu Sans Mono',consolas,'Courier New',monospace\"><span style=\"color: #7fbfbf; text-decoration-color: #7fbfbf\">                    </span><span style=\"color: #000080; text-decoration-color: #000080\">INFO    </span> Iteration <span style=\"color: #008080; text-decoration-color: #008080; font-weight: bold\">14</span>, Permutation P_0: <span style=\"color: #008080; text-decoration-color: #008080; font-weight: bold\">0.130615234375</span>        <a href=\"file:///media/donato/Extra-storage/Code/model-merging/cycle-consistent-model-merging/src/ccmm/matching/weight_matching.py\" target=\"_blank\"><span style=\"color: #7f7f7f; text-decoration-color: #7f7f7f\">ccmm.matching.weight_matching</span></a><span style=\"color: #7f7f7f; text-decoration-color: #7f7f7f\">:</span><a href=\"file:///media/donato/Extra-storage/Code/model-merging/cycle-consistent-model-merging/src/ccmm/matching/weight_matching.py#176\" target=\"_blank\"><span style=\"color: #7f7f7f; text-decoration-color: #7f7f7f\">176</span></a>\n",
       "</pre>\n"
      ],
      "text/plain": [
       "\u001b[2;36m                   \u001b[0m\u001b[2;36m \u001b[0m\u001b[34mINFO    \u001b[0m Iteration \u001b[1;36m14\u001b[0m, Permutation P_0: \u001b[1;36m0.130615234375\u001b[0m        \u001b]8;id=322204;file:///media/donato/Extra-storage/Code/model-merging/cycle-consistent-model-merging/src/ccmm/matching/weight_matching.py\u001b\\\u001b[2mccmm.matching.weight_matching\u001b[0m\u001b]8;;\u001b\\\u001b[2m:\u001b[0m\u001b]8;id=346442;file:///media/donato/Extra-storage/Code/model-merging/cycle-consistent-model-merging/src/ccmm/matching/weight_matching.py#176\u001b\\\u001b[2m176\u001b[0m\u001b]8;;\u001b\\\n"
      ]
     },
     "metadata": {},
     "output_type": "display_data"
    },
    {
     "data": {
      "text/html": [
       "<pre style=\"white-space:pre;overflow-x:auto;line-height:normal;font-family:Menlo,'DejaVu Sans Mono',consolas,'Courier New',monospace\"><span style=\"color: #7fbfbf; text-decoration-color: #7fbfbf\">                    </span><span style=\"color: #000080; text-decoration-color: #000080\">INFO    </span> Iteration <span style=\"color: #008080; text-decoration-color: #008080; font-weight: bold\">14</span>, Permutation P_3: <span style=\"color: #008080; text-decoration-color: #008080; font-weight: bold\">0.0</span>                   <a href=\"file:///media/donato/Extra-storage/Code/model-merging/cycle-consistent-model-merging/src/ccmm/matching/weight_matching.py\" target=\"_blank\"><span style=\"color: #7f7f7f; text-decoration-color: #7f7f7f\">ccmm.matching.weight_matching</span></a><span style=\"color: #7f7f7f; text-decoration-color: #7f7f7f\">:</span><a href=\"file:///media/donato/Extra-storage/Code/model-merging/cycle-consistent-model-merging/src/ccmm/matching/weight_matching.py#176\" target=\"_blank\"><span style=\"color: #7f7f7f; text-decoration-color: #7f7f7f\">176</span></a>\n",
       "</pre>\n"
      ],
      "text/plain": [
       "\u001b[2;36m                   \u001b[0m\u001b[2;36m \u001b[0m\u001b[34mINFO    \u001b[0m Iteration \u001b[1;36m14\u001b[0m, Permutation P_3: \u001b[1;36m0.0\u001b[0m                   \u001b]8;id=819414;file:///media/donato/Extra-storage/Code/model-merging/cycle-consistent-model-merging/src/ccmm/matching/weight_matching.py\u001b\\\u001b[2mccmm.matching.weight_matching\u001b[0m\u001b]8;;\u001b\\\u001b[2m:\u001b[0m\u001b]8;id=898064;file:///media/donato/Extra-storage/Code/model-merging/cycle-consistent-model-merging/src/ccmm/matching/weight_matching.py#176\u001b\\\u001b[2m176\u001b[0m\u001b]8;;\u001b\\\n"
      ]
     },
     "metadata": {},
     "output_type": "display_data"
    },
    {
     "data": {
      "text/html": [
       "<pre style=\"white-space:pre;overflow-x:auto;line-height:normal;font-family:Menlo,'DejaVu Sans Mono',consolas,'Courier New',monospace\"><span style=\"color: #7fbfbf; text-decoration-color: #7fbfbf\">                    </span><span style=\"color: #000080; text-decoration-color: #000080\">INFO    </span> Iteration <span style=\"color: #008080; text-decoration-color: #008080; font-weight: bold\">14</span>, Permutation P_1: <span style=\"color: #008080; text-decoration-color: #008080; font-weight: bold\">0.012451171875</span>        <a href=\"file:///media/donato/Extra-storage/Code/model-merging/cycle-consistent-model-merging/src/ccmm/matching/weight_matching.py\" target=\"_blank\"><span style=\"color: #7f7f7f; text-decoration-color: #7f7f7f\">ccmm.matching.weight_matching</span></a><span style=\"color: #7f7f7f; text-decoration-color: #7f7f7f\">:</span><a href=\"file:///media/donato/Extra-storage/Code/model-merging/cycle-consistent-model-merging/src/ccmm/matching/weight_matching.py#176\" target=\"_blank\"><span style=\"color: #7f7f7f; text-decoration-color: #7f7f7f\">176</span></a>\n",
       "</pre>\n"
      ],
      "text/plain": [
       "\u001b[2;36m                   \u001b[0m\u001b[2;36m \u001b[0m\u001b[34mINFO    \u001b[0m Iteration \u001b[1;36m14\u001b[0m, Permutation P_1: \u001b[1;36m0.012451171875\u001b[0m        \u001b]8;id=391993;file:///media/donato/Extra-storage/Code/model-merging/cycle-consistent-model-merging/src/ccmm/matching/weight_matching.py\u001b\\\u001b[2mccmm.matching.weight_matching\u001b[0m\u001b]8;;\u001b\\\u001b[2m:\u001b[0m\u001b]8;id=346866;file:///media/donato/Extra-storage/Code/model-merging/cycle-consistent-model-merging/src/ccmm/matching/weight_matching.py#176\u001b\\\u001b[2m176\u001b[0m\u001b]8;;\u001b\\\n"
      ]
     },
     "metadata": {},
     "output_type": "display_data"
    },
    {
     "data": {
      "text/html": [
       "<pre style=\"white-space:pre;overflow-x:auto;line-height:normal;font-family:Menlo,'DejaVu Sans Mono',consolas,'Courier New',monospace\"><span style=\"color: #7fbfbf; text-decoration-color: #7fbfbf\">2025-01-07 14:18:13 </span><span style=\"color: #000080; text-decoration-color: #000080\">INFO    </span> Iteration <span style=\"color: #008080; text-decoration-color: #008080; font-weight: bold\">14</span>, Permutation P_2: <span style=\"color: #008080; text-decoration-color: #008080; font-weight: bold\">0.651580810546875</span>     <a href=\"file:///media/donato/Extra-storage/Code/model-merging/cycle-consistent-model-merging/src/ccmm/matching/weight_matching.py\" target=\"_blank\"><span style=\"color: #7f7f7f; text-decoration-color: #7f7f7f\">ccmm.matching.weight_matching</span></a><span style=\"color: #7f7f7f; text-decoration-color: #7f7f7f\">:</span><a href=\"file:///media/donato/Extra-storage/Code/model-merging/cycle-consistent-model-merging/src/ccmm/matching/weight_matching.py#176\" target=\"_blank\"><span style=\"color: #7f7f7f; text-decoration-color: #7f7f7f\">176</span></a>\n",
       "</pre>\n"
      ],
      "text/plain": [
       "\u001b[2;36m2025-01-07 14:18:13\u001b[0m\u001b[2;36m \u001b[0m\u001b[34mINFO    \u001b[0m Iteration \u001b[1;36m14\u001b[0m, Permutation P_2: \u001b[1;36m0.651580810546875\u001b[0m     \u001b]8;id=96836;file:///media/donato/Extra-storage/Code/model-merging/cycle-consistent-model-merging/src/ccmm/matching/weight_matching.py\u001b\\\u001b[2mccmm.matching.weight_matching\u001b[0m\u001b]8;;\u001b\\\u001b[2m:\u001b[0m\u001b]8;id=424910;file:///media/donato/Extra-storage/Code/model-merging/cycle-consistent-model-merging/src/ccmm/matching/weight_matching.py#176\u001b\\\u001b[2m176\u001b[0m\u001b]8;;\u001b\\\n"
      ]
     },
     "metadata": {},
     "output_type": "display_data"
    },
    {
     "name": "stderr",
     "output_type": "stream",
     "text": [
      "Weight matching:  15%|█▌        | 15/100 [00:02<00:15,  5.66it/s]"
     ]
    },
    {
     "data": {
      "text/html": [
       "<pre style=\"white-space:pre;overflow-x:auto;line-height:normal;font-family:Menlo,'DejaVu Sans Mono',consolas,'Courier New',monospace\"><span style=\"color: #7fbfbf; text-decoration-color: #7fbfbf\">                    </span><span style=\"color: #000080; text-decoration-color: #000080\">INFO    </span> Iteration <span style=\"color: #008080; text-decoration-color: #008080; font-weight: bold\">15</span>, Permutation P_1: <span style=\"color: #008080; text-decoration-color: #008080; font-weight: bold\">0.21563720703125</span>      <a href=\"file:///media/donato/Extra-storage/Code/model-merging/cycle-consistent-model-merging/src/ccmm/matching/weight_matching.py\" target=\"_blank\"><span style=\"color: #7f7f7f; text-decoration-color: #7f7f7f\">ccmm.matching.weight_matching</span></a><span style=\"color: #7f7f7f; text-decoration-color: #7f7f7f\">:</span><a href=\"file:///media/donato/Extra-storage/Code/model-merging/cycle-consistent-model-merging/src/ccmm/matching/weight_matching.py#176\" target=\"_blank\"><span style=\"color: #7f7f7f; text-decoration-color: #7f7f7f\">176</span></a>\n",
       "</pre>\n"
      ],
      "text/plain": [
       "\u001b[2;36m                   \u001b[0m\u001b[2;36m \u001b[0m\u001b[34mINFO    \u001b[0m Iteration \u001b[1;36m15\u001b[0m, Permutation P_1: \u001b[1;36m0.21563720703125\u001b[0m      \u001b]8;id=848656;file:///media/donato/Extra-storage/Code/model-merging/cycle-consistent-model-merging/src/ccmm/matching/weight_matching.py\u001b\\\u001b[2mccmm.matching.weight_matching\u001b[0m\u001b]8;;\u001b\\\u001b[2m:\u001b[0m\u001b]8;id=734014;file:///media/donato/Extra-storage/Code/model-merging/cycle-consistent-model-merging/src/ccmm/matching/weight_matching.py#176\u001b\\\u001b[2m176\u001b[0m\u001b]8;;\u001b\\\n"
      ]
     },
     "metadata": {},
     "output_type": "display_data"
    },
    {
     "data": {
      "text/html": [
       "<pre style=\"white-space:pre;overflow-x:auto;line-height:normal;font-family:Menlo,'DejaVu Sans Mono',consolas,'Courier New',monospace\"><span style=\"color: #7fbfbf; text-decoration-color: #7fbfbf\">                    </span><span style=\"color: #000080; text-decoration-color: #000080\">INFO    </span> Iteration <span style=\"color: #008080; text-decoration-color: #008080; font-weight: bold\">15</span>, Permutation P_3: <span style=\"color: #008080; text-decoration-color: #008080; font-weight: bold\">0.169586181640625</span>     <a href=\"file:///media/donato/Extra-storage/Code/model-merging/cycle-consistent-model-merging/src/ccmm/matching/weight_matching.py\" target=\"_blank\"><span style=\"color: #7f7f7f; text-decoration-color: #7f7f7f\">ccmm.matching.weight_matching</span></a><span style=\"color: #7f7f7f; text-decoration-color: #7f7f7f\">:</span><a href=\"file:///media/donato/Extra-storage/Code/model-merging/cycle-consistent-model-merging/src/ccmm/matching/weight_matching.py#176\" target=\"_blank\"><span style=\"color: #7f7f7f; text-decoration-color: #7f7f7f\">176</span></a>\n",
       "</pre>\n"
      ],
      "text/plain": [
       "\u001b[2;36m                   \u001b[0m\u001b[2;36m \u001b[0m\u001b[34mINFO    \u001b[0m Iteration \u001b[1;36m15\u001b[0m, Permutation P_3: \u001b[1;36m0.169586181640625\u001b[0m     \u001b]8;id=378780;file:///media/donato/Extra-storage/Code/model-merging/cycle-consistent-model-merging/src/ccmm/matching/weight_matching.py\u001b\\\u001b[2mccmm.matching.weight_matching\u001b[0m\u001b]8;;\u001b\\\u001b[2m:\u001b[0m\u001b]8;id=823010;file:///media/donato/Extra-storage/Code/model-merging/cycle-consistent-model-merging/src/ccmm/matching/weight_matching.py#176\u001b\\\u001b[2m176\u001b[0m\u001b]8;;\u001b\\\n"
      ]
     },
     "metadata": {},
     "output_type": "display_data"
    },
    {
     "data": {
      "text/html": [
       "<pre style=\"white-space:pre;overflow-x:auto;line-height:normal;font-family:Menlo,'DejaVu Sans Mono',consolas,'Courier New',monospace\"><span style=\"color: #7fbfbf; text-decoration-color: #7fbfbf\">                    </span><span style=\"color: #000080; text-decoration-color: #000080\">INFO    </span> Iteration <span style=\"color: #008080; text-decoration-color: #008080; font-weight: bold\">15</span>, Permutation P_2: <span style=\"color: #008080; text-decoration-color: #008080; font-weight: bold\">0.55426025390625</span>      <a href=\"file:///media/donato/Extra-storage/Code/model-merging/cycle-consistent-model-merging/src/ccmm/matching/weight_matching.py\" target=\"_blank\"><span style=\"color: #7f7f7f; text-decoration-color: #7f7f7f\">ccmm.matching.weight_matching</span></a><span style=\"color: #7f7f7f; text-decoration-color: #7f7f7f\">:</span><a href=\"file:///media/donato/Extra-storage/Code/model-merging/cycle-consistent-model-merging/src/ccmm/matching/weight_matching.py#176\" target=\"_blank\"><span style=\"color: #7f7f7f; text-decoration-color: #7f7f7f\">176</span></a>\n",
       "</pre>\n"
      ],
      "text/plain": [
       "\u001b[2;36m                   \u001b[0m\u001b[2;36m \u001b[0m\u001b[34mINFO    \u001b[0m Iteration \u001b[1;36m15\u001b[0m, Permutation P_2: \u001b[1;36m0.55426025390625\u001b[0m      \u001b]8;id=189289;file:///media/donato/Extra-storage/Code/model-merging/cycle-consistent-model-merging/src/ccmm/matching/weight_matching.py\u001b\\\u001b[2mccmm.matching.weight_matching\u001b[0m\u001b]8;;\u001b\\\u001b[2m:\u001b[0m\u001b]8;id=403624;file:///media/donato/Extra-storage/Code/model-merging/cycle-consistent-model-merging/src/ccmm/matching/weight_matching.py#176\u001b\\\u001b[2m176\u001b[0m\u001b]8;;\u001b\\\n"
      ]
     },
     "metadata": {},
     "output_type": "display_data"
    },
    {
     "data": {
      "text/html": [
       "<pre style=\"white-space:pre;overflow-x:auto;line-height:normal;font-family:Menlo,'DejaVu Sans Mono',consolas,'Courier New',monospace\"><span style=\"color: #7fbfbf; text-decoration-color: #7fbfbf\">                    </span><span style=\"color: #000080; text-decoration-color: #000080\">INFO    </span> Iteration <span style=\"color: #008080; text-decoration-color: #008080; font-weight: bold\">15</span>, Permutation P_0: <span style=\"color: #008080; text-decoration-color: #008080; font-weight: bold\">0.072998046875</span>        <a href=\"file:///media/donato/Extra-storage/Code/model-merging/cycle-consistent-model-merging/src/ccmm/matching/weight_matching.py\" target=\"_blank\"><span style=\"color: #7f7f7f; text-decoration-color: #7f7f7f\">ccmm.matching.weight_matching</span></a><span style=\"color: #7f7f7f; text-decoration-color: #7f7f7f\">:</span><a href=\"file:///media/donato/Extra-storage/Code/model-merging/cycle-consistent-model-merging/src/ccmm/matching/weight_matching.py#176\" target=\"_blank\"><span style=\"color: #7f7f7f; text-decoration-color: #7f7f7f\">176</span></a>\n",
       "</pre>\n"
      ],
      "text/plain": [
       "\u001b[2;36m                   \u001b[0m\u001b[2;36m \u001b[0m\u001b[34mINFO    \u001b[0m Iteration \u001b[1;36m15\u001b[0m, Permutation P_0: \u001b[1;36m0.072998046875\u001b[0m        \u001b]8;id=287829;file:///media/donato/Extra-storage/Code/model-merging/cycle-consistent-model-merging/src/ccmm/matching/weight_matching.py\u001b\\\u001b[2mccmm.matching.weight_matching\u001b[0m\u001b]8;;\u001b\\\u001b[2m:\u001b[0m\u001b]8;id=958228;file:///media/donato/Extra-storage/Code/model-merging/cycle-consistent-model-merging/src/ccmm/matching/weight_matching.py#176\u001b\\\u001b[2m176\u001b[0m\u001b]8;;\u001b\\\n"
      ]
     },
     "metadata": {},
     "output_type": "display_data"
    },
    {
     "name": "stderr",
     "output_type": "stream",
     "text": [
      "Weight matching:  16%|█▌        | 16/100 [00:02<00:13,  6.17it/s]"
     ]
    },
    {
     "data": {
      "text/html": [
       "<pre style=\"white-space:pre;overflow-x:auto;line-height:normal;font-family:Menlo,'DejaVu Sans Mono',consolas,'Courier New',monospace\"><span style=\"color: #7fbfbf; text-decoration-color: #7fbfbf\">                    </span><span style=\"color: #000080; text-decoration-color: #000080\">INFO    </span> Iteration <span style=\"color: #008080; text-decoration-color: #008080; font-weight: bold\">16</span>, Permutation P_2: <span style=\"color: #008080; text-decoration-color: #008080; font-weight: bold\">0.0</span>                   <a href=\"file:///media/donato/Extra-storage/Code/model-merging/cycle-consistent-model-merging/src/ccmm/matching/weight_matching.py\" target=\"_blank\"><span style=\"color: #7f7f7f; text-decoration-color: #7f7f7f\">ccmm.matching.weight_matching</span></a><span style=\"color: #7f7f7f; text-decoration-color: #7f7f7f\">:</span><a href=\"file:///media/donato/Extra-storage/Code/model-merging/cycle-consistent-model-merging/src/ccmm/matching/weight_matching.py#176\" target=\"_blank\"><span style=\"color: #7f7f7f; text-decoration-color: #7f7f7f\">176</span></a>\n",
       "</pre>\n"
      ],
      "text/plain": [
       "\u001b[2;36m                   \u001b[0m\u001b[2;36m \u001b[0m\u001b[34mINFO    \u001b[0m Iteration \u001b[1;36m16\u001b[0m, Permutation P_2: \u001b[1;36m0.0\u001b[0m                   \u001b]8;id=753664;file:///media/donato/Extra-storage/Code/model-merging/cycle-consistent-model-merging/src/ccmm/matching/weight_matching.py\u001b\\\u001b[2mccmm.matching.weight_matching\u001b[0m\u001b]8;;\u001b\\\u001b[2m:\u001b[0m\u001b]8;id=285263;file:///media/donato/Extra-storage/Code/model-merging/cycle-consistent-model-merging/src/ccmm/matching/weight_matching.py#176\u001b\\\u001b[2m176\u001b[0m\u001b]8;;\u001b\\\n"
      ]
     },
     "metadata": {},
     "output_type": "display_data"
    },
    {
     "data": {
      "text/html": [
       "<pre style=\"white-space:pre;overflow-x:auto;line-height:normal;font-family:Menlo,'DejaVu Sans Mono',consolas,'Courier New',monospace\"><span style=\"color: #7fbfbf; text-decoration-color: #7fbfbf\">                    </span><span style=\"color: #000080; text-decoration-color: #000080\">INFO    </span> Iteration <span style=\"color: #008080; text-decoration-color: #008080; font-weight: bold\">16</span>, Permutation P_1: <span style=\"color: #008080; text-decoration-color: #008080; font-weight: bold\">0.12091064453125</span>      <a href=\"file:///media/donato/Extra-storage/Code/model-merging/cycle-consistent-model-merging/src/ccmm/matching/weight_matching.py\" target=\"_blank\"><span style=\"color: #7f7f7f; text-decoration-color: #7f7f7f\">ccmm.matching.weight_matching</span></a><span style=\"color: #7f7f7f; text-decoration-color: #7f7f7f\">:</span><a href=\"file:///media/donato/Extra-storage/Code/model-merging/cycle-consistent-model-merging/src/ccmm/matching/weight_matching.py#176\" target=\"_blank\"><span style=\"color: #7f7f7f; text-decoration-color: #7f7f7f\">176</span></a>\n",
       "</pre>\n"
      ],
      "text/plain": [
       "\u001b[2;36m                   \u001b[0m\u001b[2;36m \u001b[0m\u001b[34mINFO    \u001b[0m Iteration \u001b[1;36m16\u001b[0m, Permutation P_1: \u001b[1;36m0.12091064453125\u001b[0m      \u001b]8;id=421541;file:///media/donato/Extra-storage/Code/model-merging/cycle-consistent-model-merging/src/ccmm/matching/weight_matching.py\u001b\\\u001b[2mccmm.matching.weight_matching\u001b[0m\u001b]8;;\u001b\\\u001b[2m:\u001b[0m\u001b]8;id=68446;file:///media/donato/Extra-storage/Code/model-merging/cycle-consistent-model-merging/src/ccmm/matching/weight_matching.py#176\u001b\\\u001b[2m176\u001b[0m\u001b]8;;\u001b\\\n"
      ]
     },
     "metadata": {},
     "output_type": "display_data"
    },
    {
     "data": {
      "text/html": [
       "<pre style=\"white-space:pre;overflow-x:auto;line-height:normal;font-family:Menlo,'DejaVu Sans Mono',consolas,'Courier New',monospace\"><span style=\"color: #7fbfbf; text-decoration-color: #7fbfbf\">                    </span><span style=\"color: #000080; text-decoration-color: #000080\">INFO    </span> Iteration <span style=\"color: #008080; text-decoration-color: #008080; font-weight: bold\">16</span>, Permutation P_0: <span style=\"color: #008080; text-decoration-color: #008080; font-weight: bold\">0.0130615234375</span>       <a href=\"file:///media/donato/Extra-storage/Code/model-merging/cycle-consistent-model-merging/src/ccmm/matching/weight_matching.py\" target=\"_blank\"><span style=\"color: #7f7f7f; text-decoration-color: #7f7f7f\">ccmm.matching.weight_matching</span></a><span style=\"color: #7f7f7f; text-decoration-color: #7f7f7f\">:</span><a href=\"file:///media/donato/Extra-storage/Code/model-merging/cycle-consistent-model-merging/src/ccmm/matching/weight_matching.py#176\" target=\"_blank\"><span style=\"color: #7f7f7f; text-decoration-color: #7f7f7f\">176</span></a>\n",
       "</pre>\n"
      ],
      "text/plain": [
       "\u001b[2;36m                   \u001b[0m\u001b[2;36m \u001b[0m\u001b[34mINFO    \u001b[0m Iteration \u001b[1;36m16\u001b[0m, Permutation P_0: \u001b[1;36m0.0130615234375\u001b[0m       \u001b]8;id=260120;file:///media/donato/Extra-storage/Code/model-merging/cycle-consistent-model-merging/src/ccmm/matching/weight_matching.py\u001b\\\u001b[2mccmm.matching.weight_matching\u001b[0m\u001b]8;;\u001b\\\u001b[2m:\u001b[0m\u001b]8;id=653540;file:///media/donato/Extra-storage/Code/model-merging/cycle-consistent-model-merging/src/ccmm/matching/weight_matching.py#176\u001b\\\u001b[2m176\u001b[0m\u001b]8;;\u001b\\\n"
      ]
     },
     "metadata": {},
     "output_type": "display_data"
    },
    {
     "data": {
      "text/html": [
       "<pre style=\"white-space:pre;overflow-x:auto;line-height:normal;font-family:Menlo,'DejaVu Sans Mono',consolas,'Courier New',monospace\"><span style=\"color: #7fbfbf; text-decoration-color: #7fbfbf\">                    </span><span style=\"color: #000080; text-decoration-color: #000080\">INFO    </span> Iteration <span style=\"color: #008080; text-decoration-color: #008080; font-weight: bold\">16</span>, Permutation P_3: <span style=\"color: #008080; text-decoration-color: #008080; font-weight: bold\">0.256317138671875</span>     <a href=\"file:///media/donato/Extra-storage/Code/model-merging/cycle-consistent-model-merging/src/ccmm/matching/weight_matching.py\" target=\"_blank\"><span style=\"color: #7f7f7f; text-decoration-color: #7f7f7f\">ccmm.matching.weight_matching</span></a><span style=\"color: #7f7f7f; text-decoration-color: #7f7f7f\">:</span><a href=\"file:///media/donato/Extra-storage/Code/model-merging/cycle-consistent-model-merging/src/ccmm/matching/weight_matching.py#176\" target=\"_blank\"><span style=\"color: #7f7f7f; text-decoration-color: #7f7f7f\">176</span></a>\n",
       "</pre>\n"
      ],
      "text/plain": [
       "\u001b[2;36m                   \u001b[0m\u001b[2;36m \u001b[0m\u001b[34mINFO    \u001b[0m Iteration \u001b[1;36m16\u001b[0m, Permutation P_3: \u001b[1;36m0.256317138671875\u001b[0m     \u001b]8;id=312969;file:///media/donato/Extra-storage/Code/model-merging/cycle-consistent-model-merging/src/ccmm/matching/weight_matching.py\u001b\\\u001b[2mccmm.matching.weight_matching\u001b[0m\u001b]8;;\u001b\\\u001b[2m:\u001b[0m\u001b]8;id=603444;file:///media/donato/Extra-storage/Code/model-merging/cycle-consistent-model-merging/src/ccmm/matching/weight_matching.py#176\u001b\\\u001b[2m176\u001b[0m\u001b]8;;\u001b\\\n"
      ]
     },
     "metadata": {},
     "output_type": "display_data"
    },
    {
     "name": "stderr",
     "output_type": "stream",
     "text": [
      "Weight matching:  17%|█▋        | 17/100 [00:02<00:13,  6.38it/s]"
     ]
    },
    {
     "data": {
      "text/html": [
       "<pre style=\"white-space:pre;overflow-x:auto;line-height:normal;font-family:Menlo,'DejaVu Sans Mono',consolas,'Courier New',monospace\"><span style=\"color: #7fbfbf; text-decoration-color: #7fbfbf\">                    </span><span style=\"color: #000080; text-decoration-color: #000080\">INFO    </span> Iteration <span style=\"color: #008080; text-decoration-color: #008080; font-weight: bold\">17</span>, Permutation P_0: <span style=\"color: #008080; text-decoration-color: #008080; font-weight: bold\">0.0</span>                   <a href=\"file:///media/donato/Extra-storage/Code/model-merging/cycle-consistent-model-merging/src/ccmm/matching/weight_matching.py\" target=\"_blank\"><span style=\"color: #7f7f7f; text-decoration-color: #7f7f7f\">ccmm.matching.weight_matching</span></a><span style=\"color: #7f7f7f; text-decoration-color: #7f7f7f\">:</span><a href=\"file:///media/donato/Extra-storage/Code/model-merging/cycle-consistent-model-merging/src/ccmm/matching/weight_matching.py#176\" target=\"_blank\"><span style=\"color: #7f7f7f; text-decoration-color: #7f7f7f\">176</span></a>\n",
       "</pre>\n"
      ],
      "text/plain": [
       "\u001b[2;36m                   \u001b[0m\u001b[2;36m \u001b[0m\u001b[34mINFO    \u001b[0m Iteration \u001b[1;36m17\u001b[0m, Permutation P_0: \u001b[1;36m0.0\u001b[0m                   \u001b]8;id=82433;file:///media/donato/Extra-storage/Code/model-merging/cycle-consistent-model-merging/src/ccmm/matching/weight_matching.py\u001b\\\u001b[2mccmm.matching.weight_matching\u001b[0m\u001b]8;;\u001b\\\u001b[2m:\u001b[0m\u001b]8;id=541001;file:///media/donato/Extra-storage/Code/model-merging/cycle-consistent-model-merging/src/ccmm/matching/weight_matching.py#176\u001b\\\u001b[2m176\u001b[0m\u001b]8;;\u001b\\\n"
      ]
     },
     "metadata": {},
     "output_type": "display_data"
    },
    {
     "data": {
      "text/html": [
       "<pre style=\"white-space:pre;overflow-x:auto;line-height:normal;font-family:Menlo,'DejaVu Sans Mono',consolas,'Courier New',monospace\"><span style=\"color: #7fbfbf; text-decoration-color: #7fbfbf\">                    </span><span style=\"color: #000080; text-decoration-color: #000080\">INFO    </span> Iteration <span style=\"color: #008080; text-decoration-color: #008080; font-weight: bold\">17</span>, Permutation P_1: <span style=\"color: #008080; text-decoration-color: #008080; font-weight: bold\">0.0087890625</span>          <a href=\"file:///media/donato/Extra-storage/Code/model-merging/cycle-consistent-model-merging/src/ccmm/matching/weight_matching.py\" target=\"_blank\"><span style=\"color: #7f7f7f; text-decoration-color: #7f7f7f\">ccmm.matching.weight_matching</span></a><span style=\"color: #7f7f7f; text-decoration-color: #7f7f7f\">:</span><a href=\"file:///media/donato/Extra-storage/Code/model-merging/cycle-consistent-model-merging/src/ccmm/matching/weight_matching.py#176\" target=\"_blank\"><span style=\"color: #7f7f7f; text-decoration-color: #7f7f7f\">176</span></a>\n",
       "</pre>\n"
      ],
      "text/plain": [
       "\u001b[2;36m                   \u001b[0m\u001b[2;36m \u001b[0m\u001b[34mINFO    \u001b[0m Iteration \u001b[1;36m17\u001b[0m, Permutation P_1: \u001b[1;36m0.0087890625\u001b[0m          \u001b]8;id=149584;file:///media/donato/Extra-storage/Code/model-merging/cycle-consistent-model-merging/src/ccmm/matching/weight_matching.py\u001b\\\u001b[2mccmm.matching.weight_matching\u001b[0m\u001b]8;;\u001b\\\u001b[2m:\u001b[0m\u001b]8;id=131520;file:///media/donato/Extra-storage/Code/model-merging/cycle-consistent-model-merging/src/ccmm/matching/weight_matching.py#176\u001b\\\u001b[2m176\u001b[0m\u001b]8;;\u001b\\\n"
      ]
     },
     "metadata": {},
     "output_type": "display_data"
    },
    {
     "data": {
      "text/html": [
       "<pre style=\"white-space:pre;overflow-x:auto;line-height:normal;font-family:Menlo,'DejaVu Sans Mono',consolas,'Courier New',monospace\"><span style=\"color: #7fbfbf; text-decoration-color: #7fbfbf\">                    </span><span style=\"color: #000080; text-decoration-color: #000080\">INFO    </span> Iteration <span style=\"color: #008080; text-decoration-color: #008080; font-weight: bold\">17</span>, Permutation P_2: <span style=\"color: #008080; text-decoration-color: #008080; font-weight: bold\">0.74810791015625</span>      <a href=\"file:///media/donato/Extra-storage/Code/model-merging/cycle-consistent-model-merging/src/ccmm/matching/weight_matching.py\" target=\"_blank\"><span style=\"color: #7f7f7f; text-decoration-color: #7f7f7f\">ccmm.matching.weight_matching</span></a><span style=\"color: #7f7f7f; text-decoration-color: #7f7f7f\">:</span><a href=\"file:///media/donato/Extra-storage/Code/model-merging/cycle-consistent-model-merging/src/ccmm/matching/weight_matching.py#176\" target=\"_blank\"><span style=\"color: #7f7f7f; text-decoration-color: #7f7f7f\">176</span></a>\n",
       "</pre>\n"
      ],
      "text/plain": [
       "\u001b[2;36m                   \u001b[0m\u001b[2;36m \u001b[0m\u001b[34mINFO    \u001b[0m Iteration \u001b[1;36m17\u001b[0m, Permutation P_2: \u001b[1;36m0.74810791015625\u001b[0m      \u001b]8;id=412515;file:///media/donato/Extra-storage/Code/model-merging/cycle-consistent-model-merging/src/ccmm/matching/weight_matching.py\u001b\\\u001b[2mccmm.matching.weight_matching\u001b[0m\u001b]8;;\u001b\\\u001b[2m:\u001b[0m\u001b]8;id=360884;file:///media/donato/Extra-storage/Code/model-merging/cycle-consistent-model-merging/src/ccmm/matching/weight_matching.py#176\u001b\\\u001b[2m176\u001b[0m\u001b]8;;\u001b\\\n"
      ]
     },
     "metadata": {},
     "output_type": "display_data"
    },
    {
     "data": {
      "text/html": [
       "<pre style=\"white-space:pre;overflow-x:auto;line-height:normal;font-family:Menlo,'DejaVu Sans Mono',consolas,'Courier New',monospace\"><span style=\"color: #7fbfbf; text-decoration-color: #7fbfbf\">                    </span><span style=\"color: #000080; text-decoration-color: #000080\">INFO    </span> Iteration <span style=\"color: #008080; text-decoration-color: #008080; font-weight: bold\">17</span>, Permutation P_3: <span style=\"color: #008080; text-decoration-color: #008080; font-weight: bold\">0.21600341796875</span>      <a href=\"file:///media/donato/Extra-storage/Code/model-merging/cycle-consistent-model-merging/src/ccmm/matching/weight_matching.py\" target=\"_blank\"><span style=\"color: #7f7f7f; text-decoration-color: #7f7f7f\">ccmm.matching.weight_matching</span></a><span style=\"color: #7f7f7f; text-decoration-color: #7f7f7f\">:</span><a href=\"file:///media/donato/Extra-storage/Code/model-merging/cycle-consistent-model-merging/src/ccmm/matching/weight_matching.py#176\" target=\"_blank\"><span style=\"color: #7f7f7f; text-decoration-color: #7f7f7f\">176</span></a>\n",
       "</pre>\n"
      ],
      "text/plain": [
       "\u001b[2;36m                   \u001b[0m\u001b[2;36m \u001b[0m\u001b[34mINFO    \u001b[0m Iteration \u001b[1;36m17\u001b[0m, Permutation P_3: \u001b[1;36m0.21600341796875\u001b[0m      \u001b]8;id=9333;file:///media/donato/Extra-storage/Code/model-merging/cycle-consistent-model-merging/src/ccmm/matching/weight_matching.py\u001b\\\u001b[2mccmm.matching.weight_matching\u001b[0m\u001b]8;;\u001b\\\u001b[2m:\u001b[0m\u001b]8;id=358434;file:///media/donato/Extra-storage/Code/model-merging/cycle-consistent-model-merging/src/ccmm/matching/weight_matching.py#176\u001b\\\u001b[2m176\u001b[0m\u001b]8;;\u001b\\\n"
      ]
     },
     "metadata": {},
     "output_type": "display_data"
    },
    {
     "name": "stderr",
     "output_type": "stream",
     "text": [
      "Weight matching:  18%|█▊        | 18/100 [00:02<00:14,  5.55it/s]"
     ]
    },
    {
     "data": {
      "text/html": [
       "<pre style=\"white-space:pre;overflow-x:auto;line-height:normal;font-family:Menlo,'DejaVu Sans Mono',consolas,'Courier New',monospace\"><span style=\"color: #7fbfbf; text-decoration-color: #7fbfbf\">                    </span><span style=\"color: #000080; text-decoration-color: #000080\">INFO    </span> Iteration <span style=\"color: #008080; text-decoration-color: #008080; font-weight: bold\">18</span>, Permutation P_1: <span style=\"color: #008080; text-decoration-color: #008080; font-weight: bold\">0.07568359375</span>         <a href=\"file:///media/donato/Extra-storage/Code/model-merging/cycle-consistent-model-merging/src/ccmm/matching/weight_matching.py\" target=\"_blank\"><span style=\"color: #7f7f7f; text-decoration-color: #7f7f7f\">ccmm.matching.weight_matching</span></a><span style=\"color: #7f7f7f; text-decoration-color: #7f7f7f\">:</span><a href=\"file:///media/donato/Extra-storage/Code/model-merging/cycle-consistent-model-merging/src/ccmm/matching/weight_matching.py#176\" target=\"_blank\"><span style=\"color: #7f7f7f; text-decoration-color: #7f7f7f\">176</span></a>\n",
       "</pre>\n"
      ],
      "text/plain": [
       "\u001b[2;36m                   \u001b[0m\u001b[2;36m \u001b[0m\u001b[34mINFO    \u001b[0m Iteration \u001b[1;36m18\u001b[0m, Permutation P_1: \u001b[1;36m0.07568359375\u001b[0m         \u001b]8;id=958343;file:///media/donato/Extra-storage/Code/model-merging/cycle-consistent-model-merging/src/ccmm/matching/weight_matching.py\u001b\\\u001b[2mccmm.matching.weight_matching\u001b[0m\u001b]8;;\u001b\\\u001b[2m:\u001b[0m\u001b]8;id=778390;file:///media/donato/Extra-storage/Code/model-merging/cycle-consistent-model-merging/src/ccmm/matching/weight_matching.py#176\u001b\\\u001b[2m176\u001b[0m\u001b]8;;\u001b\\\n"
      ]
     },
     "metadata": {},
     "output_type": "display_data"
    },
    {
     "data": {
      "text/html": [
       "<pre style=\"white-space:pre;overflow-x:auto;line-height:normal;font-family:Menlo,'DejaVu Sans Mono',consolas,'Courier New',monospace\"><span style=\"color: #7fbfbf; text-decoration-color: #7fbfbf\">                    </span><span style=\"color: #000080; text-decoration-color: #000080\">INFO    </span> Iteration <span style=\"color: #008080; text-decoration-color: #008080; font-weight: bold\">18</span>, Permutation P_2: <span style=\"color: #008080; text-decoration-color: #008080; font-weight: bold\">0.25732421875</span>         <a href=\"file:///media/donato/Extra-storage/Code/model-merging/cycle-consistent-model-merging/src/ccmm/matching/weight_matching.py\" target=\"_blank\"><span style=\"color: #7f7f7f; text-decoration-color: #7f7f7f\">ccmm.matching.weight_matching</span></a><span style=\"color: #7f7f7f; text-decoration-color: #7f7f7f\">:</span><a href=\"file:///media/donato/Extra-storage/Code/model-merging/cycle-consistent-model-merging/src/ccmm/matching/weight_matching.py#176\" target=\"_blank\"><span style=\"color: #7f7f7f; text-decoration-color: #7f7f7f\">176</span></a>\n",
       "</pre>\n"
      ],
      "text/plain": [
       "\u001b[2;36m                   \u001b[0m\u001b[2;36m \u001b[0m\u001b[34mINFO    \u001b[0m Iteration \u001b[1;36m18\u001b[0m, Permutation P_2: \u001b[1;36m0.25732421875\u001b[0m         \u001b]8;id=233143;file:///media/donato/Extra-storage/Code/model-merging/cycle-consistent-model-merging/src/ccmm/matching/weight_matching.py\u001b\\\u001b[2mccmm.matching.weight_matching\u001b[0m\u001b]8;;\u001b\\\u001b[2m:\u001b[0m\u001b]8;id=401740;file:///media/donato/Extra-storage/Code/model-merging/cycle-consistent-model-merging/src/ccmm/matching/weight_matching.py#176\u001b\\\u001b[2m176\u001b[0m\u001b]8;;\u001b\\\n"
      ]
     },
     "metadata": {},
     "output_type": "display_data"
    },
    {
     "data": {
      "text/html": [
       "<pre style=\"white-space:pre;overflow-x:auto;line-height:normal;font-family:Menlo,'DejaVu Sans Mono',consolas,'Courier New',monospace\"><span style=\"color: #7fbfbf; text-decoration-color: #7fbfbf\">                    </span><span style=\"color: #000080; text-decoration-color: #000080\">INFO    </span> Iteration <span style=\"color: #008080; text-decoration-color: #008080; font-weight: bold\">18</span>, Permutation P_3: <span style=\"color: #008080; text-decoration-color: #008080; font-weight: bold\">0.0747833251953125</span>    <a href=\"file:///media/donato/Extra-storage/Code/model-merging/cycle-consistent-model-merging/src/ccmm/matching/weight_matching.py\" target=\"_blank\"><span style=\"color: #7f7f7f; text-decoration-color: #7f7f7f\">ccmm.matching.weight_matching</span></a><span style=\"color: #7f7f7f; text-decoration-color: #7f7f7f\">:</span><a href=\"file:///media/donato/Extra-storage/Code/model-merging/cycle-consistent-model-merging/src/ccmm/matching/weight_matching.py#176\" target=\"_blank\"><span style=\"color: #7f7f7f; text-decoration-color: #7f7f7f\">176</span></a>\n",
       "</pre>\n"
      ],
      "text/plain": [
       "\u001b[2;36m                   \u001b[0m\u001b[2;36m \u001b[0m\u001b[34mINFO    \u001b[0m Iteration \u001b[1;36m18\u001b[0m, Permutation P_3: \u001b[1;36m0.0747833251953125\u001b[0m    \u001b]8;id=986333;file:///media/donato/Extra-storage/Code/model-merging/cycle-consistent-model-merging/src/ccmm/matching/weight_matching.py\u001b\\\u001b[2mccmm.matching.weight_matching\u001b[0m\u001b]8;;\u001b\\\u001b[2m:\u001b[0m\u001b]8;id=683968;file:///media/donato/Extra-storage/Code/model-merging/cycle-consistent-model-merging/src/ccmm/matching/weight_matching.py#176\u001b\\\u001b[2m176\u001b[0m\u001b]8;;\u001b\\\n"
      ]
     },
     "metadata": {},
     "output_type": "display_data"
    },
    {
     "data": {
      "text/html": [
       "<pre style=\"white-space:pre;overflow-x:auto;line-height:normal;font-family:Menlo,'DejaVu Sans Mono',consolas,'Courier New',monospace\"><span style=\"color: #7fbfbf; text-decoration-color: #7fbfbf\">                    </span><span style=\"color: #000080; text-decoration-color: #000080\">INFO    </span> Iteration <span style=\"color: #008080; text-decoration-color: #008080; font-weight: bold\">18</span>, Permutation P_0: <span style=\"color: #008080; text-decoration-color: #008080; font-weight: bold\">0.0</span>                   <a href=\"file:///media/donato/Extra-storage/Code/model-merging/cycle-consistent-model-merging/src/ccmm/matching/weight_matching.py\" target=\"_blank\"><span style=\"color: #7f7f7f; text-decoration-color: #7f7f7f\">ccmm.matching.weight_matching</span></a><span style=\"color: #7f7f7f; text-decoration-color: #7f7f7f\">:</span><a href=\"file:///media/donato/Extra-storage/Code/model-merging/cycle-consistent-model-merging/src/ccmm/matching/weight_matching.py#176\" target=\"_blank\"><span style=\"color: #7f7f7f; text-decoration-color: #7f7f7f\">176</span></a>\n",
       "</pre>\n"
      ],
      "text/plain": [
       "\u001b[2;36m                   \u001b[0m\u001b[2;36m \u001b[0m\u001b[34mINFO    \u001b[0m Iteration \u001b[1;36m18\u001b[0m, Permutation P_0: \u001b[1;36m0.0\u001b[0m                   \u001b]8;id=25386;file:///media/donato/Extra-storage/Code/model-merging/cycle-consistent-model-merging/src/ccmm/matching/weight_matching.py\u001b\\\u001b[2mccmm.matching.weight_matching\u001b[0m\u001b]8;;\u001b\\\u001b[2m:\u001b[0m\u001b]8;id=333715;file:///media/donato/Extra-storage/Code/model-merging/cycle-consistent-model-merging/src/ccmm/matching/weight_matching.py#176\u001b\\\u001b[2m176\u001b[0m\u001b]8;;\u001b\\\n"
      ]
     },
     "metadata": {},
     "output_type": "display_data"
    },
    {
     "name": "stderr",
     "output_type": "stream",
     "text": [
      "Weight matching:  19%|█▉        | 19/100 [00:03<00:14,  5.70it/s]"
     ]
    },
    {
     "data": {
      "text/html": [
       "<pre style=\"white-space:pre;overflow-x:auto;line-height:normal;font-family:Menlo,'DejaVu Sans Mono',consolas,'Courier New',monospace\"><span style=\"color: #7fbfbf; text-decoration-color: #7fbfbf\">                    </span><span style=\"color: #000080; text-decoration-color: #000080\">INFO    </span> Iteration <span style=\"color: #008080; text-decoration-color: #008080; font-weight: bold\">19</span>, Permutation P_3: <span style=\"color: #008080; text-decoration-color: #008080; font-weight: bold\">0.0</span>                   <a href=\"file:///media/donato/Extra-storage/Code/model-merging/cycle-consistent-model-merging/src/ccmm/matching/weight_matching.py\" target=\"_blank\"><span style=\"color: #7f7f7f; text-decoration-color: #7f7f7f\">ccmm.matching.weight_matching</span></a><span style=\"color: #7f7f7f; text-decoration-color: #7f7f7f\">:</span><a href=\"file:///media/donato/Extra-storage/Code/model-merging/cycle-consistent-model-merging/src/ccmm/matching/weight_matching.py#176\" target=\"_blank\"><span style=\"color: #7f7f7f; text-decoration-color: #7f7f7f\">176</span></a>\n",
       "</pre>\n"
      ],
      "text/plain": [
       "\u001b[2;36m                   \u001b[0m\u001b[2;36m \u001b[0m\u001b[34mINFO    \u001b[0m Iteration \u001b[1;36m19\u001b[0m, Permutation P_3: \u001b[1;36m0.0\u001b[0m                   \u001b]8;id=354201;file:///media/donato/Extra-storage/Code/model-merging/cycle-consistent-model-merging/src/ccmm/matching/weight_matching.py\u001b\\\u001b[2mccmm.matching.weight_matching\u001b[0m\u001b]8;;\u001b\\\u001b[2m:\u001b[0m\u001b]8;id=310695;file:///media/donato/Extra-storage/Code/model-merging/cycle-consistent-model-merging/src/ccmm/matching/weight_matching.py#176\u001b\\\u001b[2m176\u001b[0m\u001b]8;;\u001b\\\n"
      ]
     },
     "metadata": {},
     "output_type": "display_data"
    },
    {
     "data": {
      "text/html": [
       "<pre style=\"white-space:pre;overflow-x:auto;line-height:normal;font-family:Menlo,'DejaVu Sans Mono',consolas,'Courier New',monospace\"><span style=\"color: #7fbfbf; text-decoration-color: #7fbfbf\">                    </span><span style=\"color: #000080; text-decoration-color: #000080\">INFO    </span> Iteration <span style=\"color: #008080; text-decoration-color: #008080; font-weight: bold\">19</span>, Permutation P_1: <span style=\"color: #008080; text-decoration-color: #008080; font-weight: bold\">0.01043701171875</span>      <a href=\"file:///media/donato/Extra-storage/Code/model-merging/cycle-consistent-model-merging/src/ccmm/matching/weight_matching.py\" target=\"_blank\"><span style=\"color: #7f7f7f; text-decoration-color: #7f7f7f\">ccmm.matching.weight_matching</span></a><span style=\"color: #7f7f7f; text-decoration-color: #7f7f7f\">:</span><a href=\"file:///media/donato/Extra-storage/Code/model-merging/cycle-consistent-model-merging/src/ccmm/matching/weight_matching.py#176\" target=\"_blank\"><span style=\"color: #7f7f7f; text-decoration-color: #7f7f7f\">176</span></a>\n",
       "</pre>\n"
      ],
      "text/plain": [
       "\u001b[2;36m                   \u001b[0m\u001b[2;36m \u001b[0m\u001b[34mINFO    \u001b[0m Iteration \u001b[1;36m19\u001b[0m, Permutation P_1: \u001b[1;36m0.01043701171875\u001b[0m      \u001b]8;id=667563;file:///media/donato/Extra-storage/Code/model-merging/cycle-consistent-model-merging/src/ccmm/matching/weight_matching.py\u001b\\\u001b[2mccmm.matching.weight_matching\u001b[0m\u001b]8;;\u001b\\\u001b[2m:\u001b[0m\u001b]8;id=693231;file:///media/donato/Extra-storage/Code/model-merging/cycle-consistent-model-merging/src/ccmm/matching/weight_matching.py#176\u001b\\\u001b[2m176\u001b[0m\u001b]8;;\u001b\\\n"
      ]
     },
     "metadata": {},
     "output_type": "display_data"
    },
    {
     "data": {
      "text/html": [
       "<pre style=\"white-space:pre;overflow-x:auto;line-height:normal;font-family:Menlo,'DejaVu Sans Mono',consolas,'Courier New',monospace\"><span style=\"color: #7fbfbf; text-decoration-color: #7fbfbf\">                    </span><span style=\"color: #000080; text-decoration-color: #000080\">INFO    </span> Iteration <span style=\"color: #008080; text-decoration-color: #008080; font-weight: bold\">19</span>, Permutation P_0: <span style=\"color: #008080; text-decoration-color: #008080; font-weight: bold\">0.0</span>                   <a href=\"file:///media/donato/Extra-storage/Code/model-merging/cycle-consistent-model-merging/src/ccmm/matching/weight_matching.py\" target=\"_blank\"><span style=\"color: #7f7f7f; text-decoration-color: #7f7f7f\">ccmm.matching.weight_matching</span></a><span style=\"color: #7f7f7f; text-decoration-color: #7f7f7f\">:</span><a href=\"file:///media/donato/Extra-storage/Code/model-merging/cycle-consistent-model-merging/src/ccmm/matching/weight_matching.py#176\" target=\"_blank\"><span style=\"color: #7f7f7f; text-decoration-color: #7f7f7f\">176</span></a>\n",
       "</pre>\n"
      ],
      "text/plain": [
       "\u001b[2;36m                   \u001b[0m\u001b[2;36m \u001b[0m\u001b[34mINFO    \u001b[0m Iteration \u001b[1;36m19\u001b[0m, Permutation P_0: \u001b[1;36m0.0\u001b[0m                   \u001b]8;id=303520;file:///media/donato/Extra-storage/Code/model-merging/cycle-consistent-model-merging/src/ccmm/matching/weight_matching.py\u001b\\\u001b[2mccmm.matching.weight_matching\u001b[0m\u001b]8;;\u001b\\\u001b[2m:\u001b[0m\u001b]8;id=947365;file:///media/donato/Extra-storage/Code/model-merging/cycle-consistent-model-merging/src/ccmm/matching/weight_matching.py#176\u001b\\\u001b[2m176\u001b[0m\u001b]8;;\u001b\\\n"
      ]
     },
     "metadata": {},
     "output_type": "display_data"
    },
    {
     "data": {
      "text/html": [
       "<pre style=\"white-space:pre;overflow-x:auto;line-height:normal;font-family:Menlo,'DejaVu Sans Mono',consolas,'Courier New',monospace\"><span style=\"color: #7fbfbf; text-decoration-color: #7fbfbf\">                    </span><span style=\"color: #000080; text-decoration-color: #000080\">INFO    </span> Iteration <span style=\"color: #008080; text-decoration-color: #008080; font-weight: bold\">19</span>, Permutation P_2: <span style=\"color: #008080; text-decoration-color: #008080; font-weight: bold\">0.02264404296875</span>      <a href=\"file:///media/donato/Extra-storage/Code/model-merging/cycle-consistent-model-merging/src/ccmm/matching/weight_matching.py\" target=\"_blank\"><span style=\"color: #7f7f7f; text-decoration-color: #7f7f7f\">ccmm.matching.weight_matching</span></a><span style=\"color: #7f7f7f; text-decoration-color: #7f7f7f\">:</span><a href=\"file:///media/donato/Extra-storage/Code/model-merging/cycle-consistent-model-merging/src/ccmm/matching/weight_matching.py#176\" target=\"_blank\"><span style=\"color: #7f7f7f; text-decoration-color: #7f7f7f\">176</span></a>\n",
       "</pre>\n"
      ],
      "text/plain": [
       "\u001b[2;36m                   \u001b[0m\u001b[2;36m \u001b[0m\u001b[34mINFO    \u001b[0m Iteration \u001b[1;36m19\u001b[0m, Permutation P_2: \u001b[1;36m0.02264404296875\u001b[0m      \u001b]8;id=899396;file:///media/donato/Extra-storage/Code/model-merging/cycle-consistent-model-merging/src/ccmm/matching/weight_matching.py\u001b\\\u001b[2mccmm.matching.weight_matching\u001b[0m\u001b]8;;\u001b\\\u001b[2m:\u001b[0m\u001b]8;id=141484;file:///media/donato/Extra-storage/Code/model-merging/cycle-consistent-model-merging/src/ccmm/matching/weight_matching.py#176\u001b\\\u001b[2m176\u001b[0m\u001b]8;;\u001b\\\n"
      ]
     },
     "metadata": {},
     "output_type": "display_data"
    },
    {
     "name": "stderr",
     "output_type": "stream",
     "text": [
      "Weight matching:  20%|██        | 20/100 [00:03<00:14,  5.39it/s]"
     ]
    },
    {
     "data": {
      "text/html": [
       "<pre style=\"white-space:pre;overflow-x:auto;line-height:normal;font-family:Menlo,'DejaVu Sans Mono',consolas,'Courier New',monospace\"><span style=\"color: #7fbfbf; text-decoration-color: #7fbfbf\">                    </span><span style=\"color: #000080; text-decoration-color: #000080\">INFO    </span> Iteration <span style=\"color: #008080; text-decoration-color: #008080; font-weight: bold\">20</span>, Permutation P_0: <span style=\"color: #008080; text-decoration-color: #008080; font-weight: bold\">0.0</span>                   <a href=\"file:///media/donato/Extra-storage/Code/model-merging/cycle-consistent-model-merging/src/ccmm/matching/weight_matching.py\" target=\"_blank\"><span style=\"color: #7f7f7f; text-decoration-color: #7f7f7f\">ccmm.matching.weight_matching</span></a><span style=\"color: #7f7f7f; text-decoration-color: #7f7f7f\">:</span><a href=\"file:///media/donato/Extra-storage/Code/model-merging/cycle-consistent-model-merging/src/ccmm/matching/weight_matching.py#176\" target=\"_blank\"><span style=\"color: #7f7f7f; text-decoration-color: #7f7f7f\">176</span></a>\n",
       "</pre>\n"
      ],
      "text/plain": [
       "\u001b[2;36m                   \u001b[0m\u001b[2;36m \u001b[0m\u001b[34mINFO    \u001b[0m Iteration \u001b[1;36m20\u001b[0m, Permutation P_0: \u001b[1;36m0.0\u001b[0m                   \u001b]8;id=910398;file:///media/donato/Extra-storage/Code/model-merging/cycle-consistent-model-merging/src/ccmm/matching/weight_matching.py\u001b\\\u001b[2mccmm.matching.weight_matching\u001b[0m\u001b]8;;\u001b\\\u001b[2m:\u001b[0m\u001b]8;id=168781;file:///media/donato/Extra-storage/Code/model-merging/cycle-consistent-model-merging/src/ccmm/matching/weight_matching.py#176\u001b\\\u001b[2m176\u001b[0m\u001b]8;;\u001b\\\n"
      ]
     },
     "metadata": {},
     "output_type": "display_data"
    },
    {
     "data": {
      "text/html": [
       "<pre style=\"white-space:pre;overflow-x:auto;line-height:normal;font-family:Menlo,'DejaVu Sans Mono',consolas,'Courier New',monospace\"><span style=\"color: #7fbfbf; text-decoration-color: #7fbfbf\">                    </span><span style=\"color: #000080; text-decoration-color: #000080\">INFO    </span> Iteration <span style=\"color: #008080; text-decoration-color: #008080; font-weight: bold\">20</span>, Permutation P_2: <span style=\"color: #008080; text-decoration-color: #008080; font-weight: bold\">0.0</span>                   <a href=\"file:///media/donato/Extra-storage/Code/model-merging/cycle-consistent-model-merging/src/ccmm/matching/weight_matching.py\" target=\"_blank\"><span style=\"color: #7f7f7f; text-decoration-color: #7f7f7f\">ccmm.matching.weight_matching</span></a><span style=\"color: #7f7f7f; text-decoration-color: #7f7f7f\">:</span><a href=\"file:///media/donato/Extra-storage/Code/model-merging/cycle-consistent-model-merging/src/ccmm/matching/weight_matching.py#176\" target=\"_blank\"><span style=\"color: #7f7f7f; text-decoration-color: #7f7f7f\">176</span></a>\n",
       "</pre>\n"
      ],
      "text/plain": [
       "\u001b[2;36m                   \u001b[0m\u001b[2;36m \u001b[0m\u001b[34mINFO    \u001b[0m Iteration \u001b[1;36m20\u001b[0m, Permutation P_2: \u001b[1;36m0.0\u001b[0m                   \u001b]8;id=110671;file:///media/donato/Extra-storage/Code/model-merging/cycle-consistent-model-merging/src/ccmm/matching/weight_matching.py\u001b\\\u001b[2mccmm.matching.weight_matching\u001b[0m\u001b]8;;\u001b\\\u001b[2m:\u001b[0m\u001b]8;id=328231;file:///media/donato/Extra-storage/Code/model-merging/cycle-consistent-model-merging/src/ccmm/matching/weight_matching.py#176\u001b\\\u001b[2m176\u001b[0m\u001b]8;;\u001b\\\n"
      ]
     },
     "metadata": {},
     "output_type": "display_data"
    },
    {
     "data": {
      "text/html": [
       "<pre style=\"white-space:pre;overflow-x:auto;line-height:normal;font-family:Menlo,'DejaVu Sans Mono',consolas,'Courier New',monospace\"><span style=\"color: #7fbfbf; text-decoration-color: #7fbfbf\">                    </span><span style=\"color: #000080; text-decoration-color: #000080\">INFO    </span> Iteration <span style=\"color: #008080; text-decoration-color: #008080; font-weight: bold\">20</span>, Permutation P_1: <span style=\"color: #008080; text-decoration-color: #008080; font-weight: bold\">0.037109375</span>           <a href=\"file:///media/donato/Extra-storage/Code/model-merging/cycle-consistent-model-merging/src/ccmm/matching/weight_matching.py\" target=\"_blank\"><span style=\"color: #7f7f7f; text-decoration-color: #7f7f7f\">ccmm.matching.weight_matching</span></a><span style=\"color: #7f7f7f; text-decoration-color: #7f7f7f\">:</span><a href=\"file:///media/donato/Extra-storage/Code/model-merging/cycle-consistent-model-merging/src/ccmm/matching/weight_matching.py#176\" target=\"_blank\"><span style=\"color: #7f7f7f; text-decoration-color: #7f7f7f\">176</span></a>\n",
       "</pre>\n"
      ],
      "text/plain": [
       "\u001b[2;36m                   \u001b[0m\u001b[2;36m \u001b[0m\u001b[34mINFO    \u001b[0m Iteration \u001b[1;36m20\u001b[0m, Permutation P_1: \u001b[1;36m0.037109375\u001b[0m           \u001b]8;id=2555;file:///media/donato/Extra-storage/Code/model-merging/cycle-consistent-model-merging/src/ccmm/matching/weight_matching.py\u001b\\\u001b[2mccmm.matching.weight_matching\u001b[0m\u001b]8;;\u001b\\\u001b[2m:\u001b[0m\u001b]8;id=796806;file:///media/donato/Extra-storage/Code/model-merging/cycle-consistent-model-merging/src/ccmm/matching/weight_matching.py#176\u001b\\\u001b[2m176\u001b[0m\u001b]8;;\u001b\\\n"
      ]
     },
     "metadata": {},
     "output_type": "display_data"
    },
    {
     "data": {
      "text/html": [
       "<pre style=\"white-space:pre;overflow-x:auto;line-height:normal;font-family:Menlo,'DejaVu Sans Mono',consolas,'Courier New',monospace\"><span style=\"color: #7fbfbf; text-decoration-color: #7fbfbf\">2025-01-07 14:18:14 </span><span style=\"color: #000080; text-decoration-color: #000080\">INFO    </span> Iteration <span style=\"color: #008080; text-decoration-color: #008080; font-weight: bold\">20</span>, Permutation P_3: <span style=\"color: #008080; text-decoration-color: #008080; font-weight: bold\">0.03118896484375</span>      <a href=\"file:///media/donato/Extra-storage/Code/model-merging/cycle-consistent-model-merging/src/ccmm/matching/weight_matching.py\" target=\"_blank\"><span style=\"color: #7f7f7f; text-decoration-color: #7f7f7f\">ccmm.matching.weight_matching</span></a><span style=\"color: #7f7f7f; text-decoration-color: #7f7f7f\">:</span><a href=\"file:///media/donato/Extra-storage/Code/model-merging/cycle-consistent-model-merging/src/ccmm/matching/weight_matching.py#176\" target=\"_blank\"><span style=\"color: #7f7f7f; text-decoration-color: #7f7f7f\">176</span></a>\n",
       "</pre>\n"
      ],
      "text/plain": [
       "\u001b[2;36m2025-01-07 14:18:14\u001b[0m\u001b[2;36m \u001b[0m\u001b[34mINFO    \u001b[0m Iteration \u001b[1;36m20\u001b[0m, Permutation P_3: \u001b[1;36m0.03118896484375\u001b[0m      \u001b]8;id=107088;file:///media/donato/Extra-storage/Code/model-merging/cycle-consistent-model-merging/src/ccmm/matching/weight_matching.py\u001b\\\u001b[2mccmm.matching.weight_matching\u001b[0m\u001b]8;;\u001b\\\u001b[2m:\u001b[0m\u001b]8;id=614529;file:///media/donato/Extra-storage/Code/model-merging/cycle-consistent-model-merging/src/ccmm/matching/weight_matching.py#176\u001b\\\u001b[2m176\u001b[0m\u001b]8;;\u001b\\\n"
      ]
     },
     "metadata": {},
     "output_type": "display_data"
    },
    {
     "name": "stderr",
     "output_type": "stream",
     "text": [
      "Weight matching:  21%|██        | 21/100 [00:03<00:13,  6.04it/s]"
     ]
    },
    {
     "data": {
      "text/html": [
       "<pre style=\"white-space:pre;overflow-x:auto;line-height:normal;font-family:Menlo,'DejaVu Sans Mono',consolas,'Courier New',monospace\"><span style=\"color: #7fbfbf; text-decoration-color: #7fbfbf\">                    </span><span style=\"color: #000080; text-decoration-color: #000080\">INFO    </span> Iteration <span style=\"color: #008080; text-decoration-color: #008080; font-weight: bold\">21</span>, Permutation P_2: <span style=\"color: #008080; text-decoration-color: #008080; font-weight: bold\">0.02227783203125</span>      <a href=\"file:///media/donato/Extra-storage/Code/model-merging/cycle-consistent-model-merging/src/ccmm/matching/weight_matching.py\" target=\"_blank\"><span style=\"color: #7f7f7f; text-decoration-color: #7f7f7f\">ccmm.matching.weight_matching</span></a><span style=\"color: #7f7f7f; text-decoration-color: #7f7f7f\">:</span><a href=\"file:///media/donato/Extra-storage/Code/model-merging/cycle-consistent-model-merging/src/ccmm/matching/weight_matching.py#176\" target=\"_blank\"><span style=\"color: #7f7f7f; text-decoration-color: #7f7f7f\">176</span></a>\n",
       "</pre>\n"
      ],
      "text/plain": [
       "\u001b[2;36m                   \u001b[0m\u001b[2;36m \u001b[0m\u001b[34mINFO    \u001b[0m Iteration \u001b[1;36m21\u001b[0m, Permutation P_2: \u001b[1;36m0.02227783203125\u001b[0m      \u001b]8;id=710791;file:///media/donato/Extra-storage/Code/model-merging/cycle-consistent-model-merging/src/ccmm/matching/weight_matching.py\u001b\\\u001b[2mccmm.matching.weight_matching\u001b[0m\u001b]8;;\u001b\\\u001b[2m:\u001b[0m\u001b]8;id=207038;file:///media/donato/Extra-storage/Code/model-merging/cycle-consistent-model-merging/src/ccmm/matching/weight_matching.py#176\u001b\\\u001b[2m176\u001b[0m\u001b]8;;\u001b\\\n"
      ]
     },
     "metadata": {},
     "output_type": "display_data"
    },
    {
     "data": {
      "text/html": [
       "<pre style=\"white-space:pre;overflow-x:auto;line-height:normal;font-family:Menlo,'DejaVu Sans Mono',consolas,'Courier New',monospace\"><span style=\"color: #7fbfbf; text-decoration-color: #7fbfbf\">                    </span><span style=\"color: #000080; text-decoration-color: #000080\">INFO    </span> Iteration <span style=\"color: #008080; text-decoration-color: #008080; font-weight: bold\">21</span>, Permutation P_0: <span style=\"color: #008080; text-decoration-color: #008080; font-weight: bold\">0.0</span>                   <a href=\"file:///media/donato/Extra-storage/Code/model-merging/cycle-consistent-model-merging/src/ccmm/matching/weight_matching.py\" target=\"_blank\"><span style=\"color: #7f7f7f; text-decoration-color: #7f7f7f\">ccmm.matching.weight_matching</span></a><span style=\"color: #7f7f7f; text-decoration-color: #7f7f7f\">:</span><a href=\"file:///media/donato/Extra-storage/Code/model-merging/cycle-consistent-model-merging/src/ccmm/matching/weight_matching.py#176\" target=\"_blank\"><span style=\"color: #7f7f7f; text-decoration-color: #7f7f7f\">176</span></a>\n",
       "</pre>\n"
      ],
      "text/plain": [
       "\u001b[2;36m                   \u001b[0m\u001b[2;36m \u001b[0m\u001b[34mINFO    \u001b[0m Iteration \u001b[1;36m21\u001b[0m, Permutation P_0: \u001b[1;36m0.0\u001b[0m                   \u001b]8;id=343512;file:///media/donato/Extra-storage/Code/model-merging/cycle-consistent-model-merging/src/ccmm/matching/weight_matching.py\u001b\\\u001b[2mccmm.matching.weight_matching\u001b[0m\u001b]8;;\u001b\\\u001b[2m:\u001b[0m\u001b]8;id=646283;file:///media/donato/Extra-storage/Code/model-merging/cycle-consistent-model-merging/src/ccmm/matching/weight_matching.py#176\u001b\\\u001b[2m176\u001b[0m\u001b]8;;\u001b\\\n"
      ]
     },
     "metadata": {},
     "output_type": "display_data"
    },
    {
     "data": {
      "text/html": [
       "<pre style=\"white-space:pre;overflow-x:auto;line-height:normal;font-family:Menlo,'DejaVu Sans Mono',consolas,'Courier New',monospace\"><span style=\"color: #7fbfbf; text-decoration-color: #7fbfbf\">                    </span><span style=\"color: #000080; text-decoration-color: #000080\">INFO    </span> Iteration <span style=\"color: #008080; text-decoration-color: #008080; font-weight: bold\">21</span>, Permutation P_1: <span style=\"color: #008080; text-decoration-color: #008080; font-weight: bold\">0.0</span>                   <a href=\"file:///media/donato/Extra-storage/Code/model-merging/cycle-consistent-model-merging/src/ccmm/matching/weight_matching.py\" target=\"_blank\"><span style=\"color: #7f7f7f; text-decoration-color: #7f7f7f\">ccmm.matching.weight_matching</span></a><span style=\"color: #7f7f7f; text-decoration-color: #7f7f7f\">:</span><a href=\"file:///media/donato/Extra-storage/Code/model-merging/cycle-consistent-model-merging/src/ccmm/matching/weight_matching.py#176\" target=\"_blank\"><span style=\"color: #7f7f7f; text-decoration-color: #7f7f7f\">176</span></a>\n",
       "</pre>\n"
      ],
      "text/plain": [
       "\u001b[2;36m                   \u001b[0m\u001b[2;36m \u001b[0m\u001b[34mINFO    \u001b[0m Iteration \u001b[1;36m21\u001b[0m, Permutation P_1: \u001b[1;36m0.0\u001b[0m                   \u001b]8;id=529697;file:///media/donato/Extra-storage/Code/model-merging/cycle-consistent-model-merging/src/ccmm/matching/weight_matching.py\u001b\\\u001b[2mccmm.matching.weight_matching\u001b[0m\u001b]8;;\u001b\\\u001b[2m:\u001b[0m\u001b]8;id=915589;file:///media/donato/Extra-storage/Code/model-merging/cycle-consistent-model-merging/src/ccmm/matching/weight_matching.py#176\u001b\\\u001b[2m176\u001b[0m\u001b]8;;\u001b\\\n"
      ]
     },
     "metadata": {},
     "output_type": "display_data"
    },
    {
     "data": {
      "text/html": [
       "<pre style=\"white-space:pre;overflow-x:auto;line-height:normal;font-family:Menlo,'DejaVu Sans Mono',consolas,'Courier New',monospace\"><span style=\"color: #7fbfbf; text-decoration-color: #7fbfbf\">                    </span><span style=\"color: #000080; text-decoration-color: #000080\">INFO    </span> Iteration <span style=\"color: #008080; text-decoration-color: #008080; font-weight: bold\">21</span>, Permutation P_3: <span style=\"color: #008080; text-decoration-color: #008080; font-weight: bold\">0.00128173828125</span>      <a href=\"file:///media/donato/Extra-storage/Code/model-merging/cycle-consistent-model-merging/src/ccmm/matching/weight_matching.py\" target=\"_blank\"><span style=\"color: #7f7f7f; text-decoration-color: #7f7f7f\">ccmm.matching.weight_matching</span></a><span style=\"color: #7f7f7f; text-decoration-color: #7f7f7f\">:</span><a href=\"file:///media/donato/Extra-storage/Code/model-merging/cycle-consistent-model-merging/src/ccmm/matching/weight_matching.py#176\" target=\"_blank\"><span style=\"color: #7f7f7f; text-decoration-color: #7f7f7f\">176</span></a>\n",
       "</pre>\n"
      ],
      "text/plain": [
       "\u001b[2;36m                   \u001b[0m\u001b[2;36m \u001b[0m\u001b[34mINFO    \u001b[0m Iteration \u001b[1;36m21\u001b[0m, Permutation P_3: \u001b[1;36m0.00128173828125\u001b[0m      \u001b]8;id=220312;file:///media/donato/Extra-storage/Code/model-merging/cycle-consistent-model-merging/src/ccmm/matching/weight_matching.py\u001b\\\u001b[2mccmm.matching.weight_matching\u001b[0m\u001b]8;;\u001b\\\u001b[2m:\u001b[0m\u001b]8;id=823385;file:///media/donato/Extra-storage/Code/model-merging/cycle-consistent-model-merging/src/ccmm/matching/weight_matching.py#176\u001b\\\u001b[2m176\u001b[0m\u001b]8;;\u001b\\\n"
      ]
     },
     "metadata": {},
     "output_type": "display_data"
    },
    {
     "name": "stderr",
     "output_type": "stream",
     "text": [
      "Weight matching:  22%|██▏       | 22/100 [00:03<00:12,  6.48it/s]"
     ]
    },
    {
     "data": {
      "text/html": [
       "<pre style=\"white-space:pre;overflow-x:auto;line-height:normal;font-family:Menlo,'DejaVu Sans Mono',consolas,'Courier New',monospace\"><span style=\"color: #7fbfbf; text-decoration-color: #7fbfbf\">                    </span><span style=\"color: #000080; text-decoration-color: #000080\">INFO    </span> Iteration <span style=\"color: #008080; text-decoration-color: #008080; font-weight: bold\">22</span>, Permutation P_0: <span style=\"color: #008080; text-decoration-color: #008080; font-weight: bold\">0.0</span>                   <a href=\"file:///media/donato/Extra-storage/Code/model-merging/cycle-consistent-model-merging/src/ccmm/matching/weight_matching.py\" target=\"_blank\"><span style=\"color: #7f7f7f; text-decoration-color: #7f7f7f\">ccmm.matching.weight_matching</span></a><span style=\"color: #7f7f7f; text-decoration-color: #7f7f7f\">:</span><a href=\"file:///media/donato/Extra-storage/Code/model-merging/cycle-consistent-model-merging/src/ccmm/matching/weight_matching.py#176\" target=\"_blank\"><span style=\"color: #7f7f7f; text-decoration-color: #7f7f7f\">176</span></a>\n",
       "</pre>\n"
      ],
      "text/plain": [
       "\u001b[2;36m                   \u001b[0m\u001b[2;36m \u001b[0m\u001b[34mINFO    \u001b[0m Iteration \u001b[1;36m22\u001b[0m, Permutation P_0: \u001b[1;36m0.0\u001b[0m                   \u001b]8;id=301754;file:///media/donato/Extra-storage/Code/model-merging/cycle-consistent-model-merging/src/ccmm/matching/weight_matching.py\u001b\\\u001b[2mccmm.matching.weight_matching\u001b[0m\u001b]8;;\u001b\\\u001b[2m:\u001b[0m\u001b]8;id=155197;file:///media/donato/Extra-storage/Code/model-merging/cycle-consistent-model-merging/src/ccmm/matching/weight_matching.py#176\u001b\\\u001b[2m176\u001b[0m\u001b]8;;\u001b\\\n"
      ]
     },
     "metadata": {},
     "output_type": "display_data"
    },
    {
     "data": {
      "text/html": [
       "<pre style=\"white-space:pre;overflow-x:auto;line-height:normal;font-family:Menlo,'DejaVu Sans Mono',consolas,'Courier New',monospace\"><span style=\"color: #7fbfbf; text-decoration-color: #7fbfbf\">                    </span><span style=\"color: #000080; text-decoration-color: #000080\">INFO    </span> Iteration <span style=\"color: #008080; text-decoration-color: #008080; font-weight: bold\">22</span>, Permutation P_3: <span style=\"color: #008080; text-decoration-color: #008080; font-weight: bold\">0.0</span>                   <a href=\"file:///media/donato/Extra-storage/Code/model-merging/cycle-consistent-model-merging/src/ccmm/matching/weight_matching.py\" target=\"_blank\"><span style=\"color: #7f7f7f; text-decoration-color: #7f7f7f\">ccmm.matching.weight_matching</span></a><span style=\"color: #7f7f7f; text-decoration-color: #7f7f7f\">:</span><a href=\"file:///media/donato/Extra-storage/Code/model-merging/cycle-consistent-model-merging/src/ccmm/matching/weight_matching.py#176\" target=\"_blank\"><span style=\"color: #7f7f7f; text-decoration-color: #7f7f7f\">176</span></a>\n",
       "</pre>\n"
      ],
      "text/plain": [
       "\u001b[2;36m                   \u001b[0m\u001b[2;36m \u001b[0m\u001b[34mINFO    \u001b[0m Iteration \u001b[1;36m22\u001b[0m, Permutation P_3: \u001b[1;36m0.0\u001b[0m                   \u001b]8;id=969319;file:///media/donato/Extra-storage/Code/model-merging/cycle-consistent-model-merging/src/ccmm/matching/weight_matching.py\u001b\\\u001b[2mccmm.matching.weight_matching\u001b[0m\u001b]8;;\u001b\\\u001b[2m:\u001b[0m\u001b]8;id=510006;file:///media/donato/Extra-storage/Code/model-merging/cycle-consistent-model-merging/src/ccmm/matching/weight_matching.py#176\u001b\\\u001b[2m176\u001b[0m\u001b]8;;\u001b\\\n"
      ]
     },
     "metadata": {},
     "output_type": "display_data"
    },
    {
     "data": {
      "text/html": [
       "<pre style=\"white-space:pre;overflow-x:auto;line-height:normal;font-family:Menlo,'DejaVu Sans Mono',consolas,'Courier New',monospace\"><span style=\"color: #7fbfbf; text-decoration-color: #7fbfbf\">                    </span><span style=\"color: #000080; text-decoration-color: #000080\">INFO    </span> Iteration <span style=\"color: #008080; text-decoration-color: #008080; font-weight: bold\">22</span>, Permutation P_2: <span style=\"color: #008080; text-decoration-color: #008080; font-weight: bold\">0.002166748046875</span>     <a href=\"file:///media/donato/Extra-storage/Code/model-merging/cycle-consistent-model-merging/src/ccmm/matching/weight_matching.py\" target=\"_blank\"><span style=\"color: #7f7f7f; text-decoration-color: #7f7f7f\">ccmm.matching.weight_matching</span></a><span style=\"color: #7f7f7f; text-decoration-color: #7f7f7f\">:</span><a href=\"file:///media/donato/Extra-storage/Code/model-merging/cycle-consistent-model-merging/src/ccmm/matching/weight_matching.py#176\" target=\"_blank\"><span style=\"color: #7f7f7f; text-decoration-color: #7f7f7f\">176</span></a>\n",
       "</pre>\n"
      ],
      "text/plain": [
       "\u001b[2;36m                   \u001b[0m\u001b[2;36m \u001b[0m\u001b[34mINFO    \u001b[0m Iteration \u001b[1;36m22\u001b[0m, Permutation P_2: \u001b[1;36m0.002166748046875\u001b[0m     \u001b]8;id=804802;file:///media/donato/Extra-storage/Code/model-merging/cycle-consistent-model-merging/src/ccmm/matching/weight_matching.py\u001b\\\u001b[2mccmm.matching.weight_matching\u001b[0m\u001b]8;;\u001b\\\u001b[2m:\u001b[0m\u001b]8;id=341312;file:///media/donato/Extra-storage/Code/model-merging/cycle-consistent-model-merging/src/ccmm/matching/weight_matching.py#176\u001b\\\u001b[2m176\u001b[0m\u001b]8;;\u001b\\\n"
      ]
     },
     "metadata": {},
     "output_type": "display_data"
    },
    {
     "data": {
      "text/html": [
       "<pre style=\"white-space:pre;overflow-x:auto;line-height:normal;font-family:Menlo,'DejaVu Sans Mono',consolas,'Courier New',monospace\"><span style=\"color: #7fbfbf; text-decoration-color: #7fbfbf\">                    </span><span style=\"color: #000080; text-decoration-color: #000080\">INFO    </span> Iteration <span style=\"color: #008080; text-decoration-color: #008080; font-weight: bold\">22</span>, Permutation P_1: <span style=\"color: #008080; text-decoration-color: #008080; font-weight: bold\">0.0</span>                   <a href=\"file:///media/donato/Extra-storage/Code/model-merging/cycle-consistent-model-merging/src/ccmm/matching/weight_matching.py\" target=\"_blank\"><span style=\"color: #7f7f7f; text-decoration-color: #7f7f7f\">ccmm.matching.weight_matching</span></a><span style=\"color: #7f7f7f; text-decoration-color: #7f7f7f\">:</span><a href=\"file:///media/donato/Extra-storage/Code/model-merging/cycle-consistent-model-merging/src/ccmm/matching/weight_matching.py#176\" target=\"_blank\"><span style=\"color: #7f7f7f; text-decoration-color: #7f7f7f\">176</span></a>\n",
       "</pre>\n"
      ],
      "text/plain": [
       "\u001b[2;36m                   \u001b[0m\u001b[2;36m \u001b[0m\u001b[34mINFO    \u001b[0m Iteration \u001b[1;36m22\u001b[0m, Permutation P_1: \u001b[1;36m0.0\u001b[0m                   \u001b]8;id=256522;file:///media/donato/Extra-storage/Code/model-merging/cycle-consistent-model-merging/src/ccmm/matching/weight_matching.py\u001b\\\u001b[2mccmm.matching.weight_matching\u001b[0m\u001b]8;;\u001b\\\u001b[2m:\u001b[0m\u001b]8;id=450269;file:///media/donato/Extra-storage/Code/model-merging/cycle-consistent-model-merging/src/ccmm/matching/weight_matching.py#176\u001b\\\u001b[2m176\u001b[0m\u001b]8;;\u001b\\\n"
      ]
     },
     "metadata": {},
     "output_type": "display_data"
    },
    {
     "name": "stderr",
     "output_type": "stream",
     "text": [
      "Weight matching:  23%|██▎       | 23/100 [00:03<00:11,  6.51it/s]"
     ]
    },
    {
     "data": {
      "text/html": [
       "<pre style=\"white-space:pre;overflow-x:auto;line-height:normal;font-family:Menlo,'DejaVu Sans Mono',consolas,'Courier New',monospace\"><span style=\"color: #7fbfbf; text-decoration-color: #7fbfbf\">                    </span><span style=\"color: #000080; text-decoration-color: #000080\">INFO    </span> Iteration <span style=\"color: #008080; text-decoration-color: #008080; font-weight: bold\">23</span>, Permutation P_1: <span style=\"color: #008080; text-decoration-color: #008080; font-weight: bold\">0.0</span>                   <a href=\"file:///media/donato/Extra-storage/Code/model-merging/cycle-consistent-model-merging/src/ccmm/matching/weight_matching.py\" target=\"_blank\"><span style=\"color: #7f7f7f; text-decoration-color: #7f7f7f\">ccmm.matching.weight_matching</span></a><span style=\"color: #7f7f7f; text-decoration-color: #7f7f7f\">:</span><a href=\"file:///media/donato/Extra-storage/Code/model-merging/cycle-consistent-model-merging/src/ccmm/matching/weight_matching.py#176\" target=\"_blank\"><span style=\"color: #7f7f7f; text-decoration-color: #7f7f7f\">176</span></a>\n",
       "</pre>\n"
      ],
      "text/plain": [
       "\u001b[2;36m                   \u001b[0m\u001b[2;36m \u001b[0m\u001b[34mINFO    \u001b[0m Iteration \u001b[1;36m23\u001b[0m, Permutation P_1: \u001b[1;36m0.0\u001b[0m                   \u001b]8;id=240658;file:///media/donato/Extra-storage/Code/model-merging/cycle-consistent-model-merging/src/ccmm/matching/weight_matching.py\u001b\\\u001b[2mccmm.matching.weight_matching\u001b[0m\u001b]8;;\u001b\\\u001b[2m:\u001b[0m\u001b]8;id=568300;file:///media/donato/Extra-storage/Code/model-merging/cycle-consistent-model-merging/src/ccmm/matching/weight_matching.py#176\u001b\\\u001b[2m176\u001b[0m\u001b]8;;\u001b\\\n"
      ]
     },
     "metadata": {},
     "output_type": "display_data"
    },
    {
     "data": {
      "text/html": [
       "<pre style=\"white-space:pre;overflow-x:auto;line-height:normal;font-family:Menlo,'DejaVu Sans Mono',consolas,'Courier New',monospace\"><span style=\"color: #7fbfbf; text-decoration-color: #7fbfbf\">                    </span><span style=\"color: #000080; text-decoration-color: #000080\">INFO    </span> Iteration <span style=\"color: #008080; text-decoration-color: #008080; font-weight: bold\">23</span>, Permutation P_2: <span style=\"color: #008080; text-decoration-color: #008080; font-weight: bold\">0.0</span>                   <a href=\"file:///media/donato/Extra-storage/Code/model-merging/cycle-consistent-model-merging/src/ccmm/matching/weight_matching.py\" target=\"_blank\"><span style=\"color: #7f7f7f; text-decoration-color: #7f7f7f\">ccmm.matching.weight_matching</span></a><span style=\"color: #7f7f7f; text-decoration-color: #7f7f7f\">:</span><a href=\"file:///media/donato/Extra-storage/Code/model-merging/cycle-consistent-model-merging/src/ccmm/matching/weight_matching.py#176\" target=\"_blank\"><span style=\"color: #7f7f7f; text-decoration-color: #7f7f7f\">176</span></a>\n",
       "</pre>\n"
      ],
      "text/plain": [
       "\u001b[2;36m                   \u001b[0m\u001b[2;36m \u001b[0m\u001b[34mINFO    \u001b[0m Iteration \u001b[1;36m23\u001b[0m, Permutation P_2: \u001b[1;36m0.0\u001b[0m                   \u001b]8;id=164603;file:///media/donato/Extra-storage/Code/model-merging/cycle-consistent-model-merging/src/ccmm/matching/weight_matching.py\u001b\\\u001b[2mccmm.matching.weight_matching\u001b[0m\u001b]8;;\u001b\\\u001b[2m:\u001b[0m\u001b]8;id=842366;file:///media/donato/Extra-storage/Code/model-merging/cycle-consistent-model-merging/src/ccmm/matching/weight_matching.py#176\u001b\\\u001b[2m176\u001b[0m\u001b]8;;\u001b\\\n"
      ]
     },
     "metadata": {},
     "output_type": "display_data"
    },
    {
     "data": {
      "text/html": [
       "<pre style=\"white-space:pre;overflow-x:auto;line-height:normal;font-family:Menlo,'DejaVu Sans Mono',consolas,'Courier New',monospace\"><span style=\"color: #7fbfbf; text-decoration-color: #7fbfbf\">                    </span><span style=\"color: #000080; text-decoration-color: #000080\">INFO    </span> Iteration <span style=\"color: #008080; text-decoration-color: #008080; font-weight: bold\">23</span>, Permutation P_3: <span style=\"color: #008080; text-decoration-color: #008080; font-weight: bold\">0.0</span>                   <a href=\"file:///media/donato/Extra-storage/Code/model-merging/cycle-consistent-model-merging/src/ccmm/matching/weight_matching.py\" target=\"_blank\"><span style=\"color: #7f7f7f; text-decoration-color: #7f7f7f\">ccmm.matching.weight_matching</span></a><span style=\"color: #7f7f7f; text-decoration-color: #7f7f7f\">:</span><a href=\"file:///media/donato/Extra-storage/Code/model-merging/cycle-consistent-model-merging/src/ccmm/matching/weight_matching.py#176\" target=\"_blank\"><span style=\"color: #7f7f7f; text-decoration-color: #7f7f7f\">176</span></a>\n",
       "</pre>\n"
      ],
      "text/plain": [
       "\u001b[2;36m                   \u001b[0m\u001b[2;36m \u001b[0m\u001b[34mINFO    \u001b[0m Iteration \u001b[1;36m23\u001b[0m, Permutation P_3: \u001b[1;36m0.0\u001b[0m                   \u001b]8;id=325989;file:///media/donato/Extra-storage/Code/model-merging/cycle-consistent-model-merging/src/ccmm/matching/weight_matching.py\u001b\\\u001b[2mccmm.matching.weight_matching\u001b[0m\u001b]8;;\u001b\\\u001b[2m:\u001b[0m\u001b]8;id=666334;file:///media/donato/Extra-storage/Code/model-merging/cycle-consistent-model-merging/src/ccmm/matching/weight_matching.py#176\u001b\\\u001b[2m176\u001b[0m\u001b]8;;\u001b\\\n"
      ]
     },
     "metadata": {},
     "output_type": "display_data"
    },
    {
     "data": {
      "text/html": [
       "<pre style=\"white-space:pre;overflow-x:auto;line-height:normal;font-family:Menlo,'DejaVu Sans Mono',consolas,'Courier New',monospace\"><span style=\"color: #7fbfbf; text-decoration-color: #7fbfbf\">                    </span><span style=\"color: #000080; text-decoration-color: #000080\">INFO    </span> Iteration <span style=\"color: #008080; text-decoration-color: #008080; font-weight: bold\">23</span>, Permutation P_0: <span style=\"color: #008080; text-decoration-color: #008080; font-weight: bold\">0.0</span>                   <a href=\"file:///media/donato/Extra-storage/Code/model-merging/cycle-consistent-model-merging/src/ccmm/matching/weight_matching.py\" target=\"_blank\"><span style=\"color: #7f7f7f; text-decoration-color: #7f7f7f\">ccmm.matching.weight_matching</span></a><span style=\"color: #7f7f7f; text-decoration-color: #7f7f7f\">:</span><a href=\"file:///media/donato/Extra-storage/Code/model-merging/cycle-consistent-model-merging/src/ccmm/matching/weight_matching.py#176\" target=\"_blank\"><span style=\"color: #7f7f7f; text-decoration-color: #7f7f7f\">176</span></a>\n",
       "</pre>\n"
      ],
      "text/plain": [
       "\u001b[2;36m                   \u001b[0m\u001b[2;36m \u001b[0m\u001b[34mINFO    \u001b[0m Iteration \u001b[1;36m23\u001b[0m, Permutation P_0: \u001b[1;36m0.0\u001b[0m                   \u001b]8;id=636998;file:///media/donato/Extra-storage/Code/model-merging/cycle-consistent-model-merging/src/ccmm/matching/weight_matching.py\u001b\\\u001b[2mccmm.matching.weight_matching\u001b[0m\u001b]8;;\u001b\\\u001b[2m:\u001b[0m\u001b]8;id=33485;file:///media/donato/Extra-storage/Code/model-merging/cycle-consistent-model-merging/src/ccmm/matching/weight_matching.py#176\u001b\\\u001b[2m176\u001b[0m\u001b]8;;\u001b\\\n"
      ]
     },
     "metadata": {},
     "output_type": "display_data"
    },
    {
     "name": "stderr",
     "output_type": "stream",
     "text": [
      "Weight matching:  23%|██▎       | 23/100 [00:03<00:12,  6.12it/s]"
     ]
    },
    {
     "name": "stdout",
     "output_type": "stream",
     "text": [
      "Function __call__ Took 3.7577 seconds\n"
     ]
    },
    {
     "name": "stderr",
     "output_type": "stream",
     "text": [
      "\n"
     ]
    }
   ],
   "source": [
    "# dicts for permutations and permuted params, D[a][b] refers to the permutation/params to map b -> a\n",
    "gitrebasin_permutations = {symb: {other_symb: None for other_symb in symbols.difference(symb)} for symb in symbols}\n",
    "\n",
    "matcher = GitRebasinMatcher(name=\"git_rebasin\", permutation_spec=permutation_spec)\n",
    "gitrebasin_permutations[fixed_symbol][permutee_symbol], perm_history = matcher(\n",
    "    fixed=fixed_model.model.cpu(), permutee=permutee_model.model.cpu()\n",
    ")\n",
    "\n",
    "gitrebasin_permutations[permutee_symbol][fixed_symbol] = get_inverse_permutations(\n",
    "    gitrebasin_permutations[fixed_symbol][permutee_symbol]\n",
    ")"
   ]
  },
  {
   "cell_type": "code",
   "execution_count": null,
   "metadata": {},
   "outputs": [],
   "source": [
    "# for perm in gitrebasin_permutations[fixed_symbol][permutee_symbol].values():\n",
    "\n",
    "#     plt.imshow(perm_indices_to_perm_matrix(perm), cmap=\"coolwarm\")\n",
    "#     plt.show()"
   ]
  },
  {
   "cell_type": "code",
   "execution_count": null,
   "metadata": {},
   "outputs": [
    {
     "data": {
      "text/html": [
       "<pre style=\"white-space:pre;overflow-x:auto;line-height:normal;font-family:Menlo,'DejaVu Sans Mono',consolas,'Courier New',monospace\"><span style=\"color: #7fbfbf; text-decoration-color: #7fbfbf\">                    </span><span style=\"color: #000080; text-decoration-color: #000080\">INFO    </span> Permuting model b into a.                                                   <a href=\"file:///tmp/ipykernel_119418/290635983.py\" target=\"_blank\"><span style=\"color: #7f7f7f; text-decoration-color: #7f7f7f\">__main__</span></a><span style=\"color: #7f7f7f; text-decoration-color: #7f7f7f\">:</span><a href=\"file:///tmp/ipykernel_119418/290635983.py#7\" target=\"_blank\"><span style=\"color: #7f7f7f; text-decoration-color: #7f7f7f\">7</span></a>\n",
       "</pre>\n"
      ],
      "text/plain": [
       "\u001b[2;36m                   \u001b[0m\u001b[2;36m \u001b[0m\u001b[34mINFO    \u001b[0m Permuting model b into a.                                                   \u001b]8;id=198054;file:///tmp/ipykernel_119418/290635983.py\u001b\\\u001b[2m__main__\u001b[0m\u001b]8;;\u001b\\\u001b[2m:\u001b[0m\u001b]8;id=980863;file:///tmp/ipykernel_119418/290635983.py#7\u001b\\\u001b[2m7\u001b[0m\u001b]8;;\u001b\\\n"
      ]
     },
     "metadata": {},
     "output_type": "display_data"
    },
    {
     "data": {
      "text/html": [
       "<pre style=\"white-space:pre;overflow-x:auto;line-height:normal;font-family:Menlo,'DejaVu Sans Mono',consolas,'Courier New',monospace\"><span style=\"color: #7fbfbf; text-decoration-color: #7fbfbf\">                    </span><span style=\"color: #000080; text-decoration-color: #000080\">INFO    </span> GPU available: <span style=\"color: #00ff00; text-decoration-color: #00ff00; font-style: italic\">True</span> <span style=\"font-weight: bold\">(</span>cuda<span style=\"font-weight: bold\">)</span>, used: <span style=\"color: #00ff00; text-decoration-color: #00ff00; font-style: italic\">True</span>      <a href=\"file:///home/donato/miniconda3/envs/ccmm/lib/python3.9/site-packages/pytorch_lightning/trainer/trainer.py\" target=\"_blank\"><span style=\"color: #7f7f7f; text-decoration-color: #7f7f7f\">pytorch_lightning.utilities.rank_zero</span></a><span style=\"color: #7f7f7f; text-decoration-color: #7f7f7f\">:</span><a href=\"file:///home/donato/miniconda3/envs/ccmm/lib/python3.9/site-packages/pytorch_lightning/trainer/trainer.py#1751\" target=\"_blank\"><span style=\"color: #7f7f7f; text-decoration-color: #7f7f7f\">1751</span></a>\n",
       "</pre>\n"
      ],
      "text/plain": [
       "\u001b[2;36m                   \u001b[0m\u001b[2;36m \u001b[0m\u001b[34mINFO    \u001b[0m GPU available: \u001b[3;92mTrue\u001b[0m \u001b[1m(\u001b[0mcuda\u001b[1m)\u001b[0m, used: \u001b[3;92mTrue\u001b[0m      \u001b]8;id=727532;file:///home/donato/miniconda3/envs/ccmm/lib/python3.9/site-packages/pytorch_lightning/trainer/trainer.py\u001b\\\u001b[2mpytorch_lightning.utilities.rank_zero\u001b[0m\u001b]8;;\u001b\\\u001b[2m:\u001b[0m\u001b]8;id=501836;file:///home/donato/miniconda3/envs/ccmm/lib/python3.9/site-packages/pytorch_lightning/trainer/trainer.py#1751\u001b\\\u001b[2m1751\u001b[0m\u001b]8;;\u001b\\\n"
      ]
     },
     "metadata": {},
     "output_type": "display_data"
    },
    {
     "data": {
      "text/html": [
       "<pre style=\"white-space:pre;overflow-x:auto;line-height:normal;font-family:Menlo,'DejaVu Sans Mono',consolas,'Courier New',monospace\"><span style=\"color: #7fbfbf; text-decoration-color: #7fbfbf\">                    </span><span style=\"color: #000080; text-decoration-color: #000080\">INFO    </span> TPU available: <span style=\"color: #ff0000; text-decoration-color: #ff0000; font-style: italic\">False</span>, using: <span style=\"color: #008080; text-decoration-color: #008080; font-weight: bold\">0</span> TPU cores    <a href=\"file:///home/donato/miniconda3/envs/ccmm/lib/python3.9/site-packages/pytorch_lightning/trainer/trainer.py\" target=\"_blank\"><span style=\"color: #7f7f7f; text-decoration-color: #7f7f7f\">pytorch_lightning.utilities.rank_zero</span></a><span style=\"color: #7f7f7f; text-decoration-color: #7f7f7f\">:</span><a href=\"file:///home/donato/miniconda3/envs/ccmm/lib/python3.9/site-packages/pytorch_lightning/trainer/trainer.py#1754\" target=\"_blank\"><span style=\"color: #7f7f7f; text-decoration-color: #7f7f7f\">1754</span></a>\n",
       "</pre>\n"
      ],
      "text/plain": [
       "\u001b[2;36m                   \u001b[0m\u001b[2;36m \u001b[0m\u001b[34mINFO    \u001b[0m TPU available: \u001b[3;91mFalse\u001b[0m, using: \u001b[1;36m0\u001b[0m TPU cores    \u001b]8;id=162386;file:///home/donato/miniconda3/envs/ccmm/lib/python3.9/site-packages/pytorch_lightning/trainer/trainer.py\u001b\\\u001b[2mpytorch_lightning.utilities.rank_zero\u001b[0m\u001b]8;;\u001b\\\u001b[2m:\u001b[0m\u001b]8;id=211765;file:///home/donato/miniconda3/envs/ccmm/lib/python3.9/site-packages/pytorch_lightning/trainer/trainer.py#1754\u001b\\\u001b[2m1754\u001b[0m\u001b]8;;\u001b\\\n"
      ]
     },
     "metadata": {},
     "output_type": "display_data"
    },
    {
     "data": {
      "text/html": [
       "<pre style=\"white-space:pre;overflow-x:auto;line-height:normal;font-family:Menlo,'DejaVu Sans Mono',consolas,'Courier New',monospace\"><span style=\"color: #7fbfbf; text-decoration-color: #7fbfbf\">                    </span><span style=\"color: #000080; text-decoration-color: #000080\">INFO    </span> IPU available: <span style=\"color: #ff0000; text-decoration-color: #ff0000; font-style: italic\">False</span>, using: <span style=\"color: #008080; text-decoration-color: #008080; font-weight: bold\">0</span> IPUs         <a href=\"file:///home/donato/miniconda3/envs/ccmm/lib/python3.9/site-packages/pytorch_lightning/trainer/trainer.py\" target=\"_blank\"><span style=\"color: #7f7f7f; text-decoration-color: #7f7f7f\">pytorch_lightning.utilities.rank_zero</span></a><span style=\"color: #7f7f7f; text-decoration-color: #7f7f7f\">:</span><a href=\"file:///home/donato/miniconda3/envs/ccmm/lib/python3.9/site-packages/pytorch_lightning/trainer/trainer.py#1757\" target=\"_blank\"><span style=\"color: #7f7f7f; text-decoration-color: #7f7f7f\">1757</span></a>\n",
       "</pre>\n"
      ],
      "text/plain": [
       "\u001b[2;36m                   \u001b[0m\u001b[2;36m \u001b[0m\u001b[34mINFO    \u001b[0m IPU available: \u001b[3;91mFalse\u001b[0m, using: \u001b[1;36m0\u001b[0m IPUs         \u001b]8;id=527516;file:///home/donato/miniconda3/envs/ccmm/lib/python3.9/site-packages/pytorch_lightning/trainer/trainer.py\u001b\\\u001b[2mpytorch_lightning.utilities.rank_zero\u001b[0m\u001b]8;;\u001b\\\u001b[2m:\u001b[0m\u001b]8;id=28882;file:///home/donato/miniconda3/envs/ccmm/lib/python3.9/site-packages/pytorch_lightning/trainer/trainer.py#1757\u001b\\\u001b[2m1757\u001b[0m\u001b]8;;\u001b\\\n"
      ]
     },
     "metadata": {},
     "output_type": "display_data"
    },
    {
     "data": {
      "text/html": [
       "<pre style=\"white-space:pre;overflow-x:auto;line-height:normal;font-family:Menlo,'DejaVu Sans Mono',consolas,'Courier New',monospace\"><span style=\"color: #7fbfbf; text-decoration-color: #7fbfbf\">                    </span><span style=\"color: #000080; text-decoration-color: #000080\">INFO    </span> HPU available: <span style=\"color: #ff0000; text-decoration-color: #ff0000; font-style: italic\">False</span>, using: <span style=\"color: #008080; text-decoration-color: #008080; font-weight: bold\">0</span> HPUs         <a href=\"file:///home/donato/miniconda3/envs/ccmm/lib/python3.9/site-packages/pytorch_lightning/trainer/trainer.py\" target=\"_blank\"><span style=\"color: #7f7f7f; text-decoration-color: #7f7f7f\">pytorch_lightning.utilities.rank_zero</span></a><span style=\"color: #7f7f7f; text-decoration-color: #7f7f7f\">:</span><a href=\"file:///home/donato/miniconda3/envs/ccmm/lib/python3.9/site-packages/pytorch_lightning/trainer/trainer.py#1760\" target=\"_blank\"><span style=\"color: #7f7f7f; text-decoration-color: #7f7f7f\">1760</span></a>\n",
       "</pre>\n"
      ],
      "text/plain": [
       "\u001b[2;36m                   \u001b[0m\u001b[2;36m \u001b[0m\u001b[34mINFO    \u001b[0m HPU available: \u001b[3;91mFalse\u001b[0m, using: \u001b[1;36m0\u001b[0m HPUs         \u001b]8;id=281742;file:///home/donato/miniconda3/envs/ccmm/lib/python3.9/site-packages/pytorch_lightning/trainer/trainer.py\u001b\\\u001b[2mpytorch_lightning.utilities.rank_zero\u001b[0m\u001b]8;;\u001b\\\u001b[2m:\u001b[0m\u001b]8;id=554798;file:///home/donato/miniconda3/envs/ccmm/lib/python3.9/site-packages/pytorch_lightning/trainer/trainer.py#1760\u001b\\\u001b[2m1760\u001b[0m\u001b]8;;\u001b\\\n"
      ]
     },
     "metadata": {},
     "output_type": "display_data"
    },
    {
     "name": "stderr",
     "output_type": "stream",
     "text": [
      "  0%|          | 0/3 [00:00<?, ?it/s]"
     ]
    },
    {
     "data": {
      "text/html": [
       "<pre style=\"white-space:pre;overflow-x:auto;line-height:normal;font-family:Menlo,'DejaVu Sans Mono',consolas,'Courier New',monospace\"><span style=\"color: #7fbfbf; text-decoration-color: #7fbfbf\">                    </span><span style=\"color: #000080; text-decoration-color: #000080\">INFO    </span> Evaluating interpolated model with lambda: <span style=\"color: #008080; text-decoration-color: #008080; font-weight: bold\">0.0</span>                    <a href=\"file:///media/donato/Extra-storage/Code/model-merging/cycle-consistent-model-merging/src/ccmm/utils/utils.py\" target=\"_blank\"><span style=\"color: #7f7f7f; text-decoration-color: #7f7f7f\">ccmm.utils.utils</span></a><span style=\"color: #7f7f7f; text-decoration-color: #7f7f7f\">:</span><a href=\"file:///media/donato/Extra-storage/Code/model-merging/cycle-consistent-model-merging/src/ccmm/utils/utils.py#168\" target=\"_blank\"><span style=\"color: #7f7f7f; text-decoration-color: #7f7f7f\">168</span></a>\n",
       "</pre>\n"
      ],
      "text/plain": [
       "\u001b[2;36m                   \u001b[0m\u001b[2;36m \u001b[0m\u001b[34mINFO    \u001b[0m Evaluating interpolated model with lambda: \u001b[1;36m0.0\u001b[0m                    \u001b]8;id=117434;file:///media/donato/Extra-storage/Code/model-merging/cycle-consistent-model-merging/src/ccmm/utils/utils.py\u001b\\\u001b[2mccmm.utils.utils\u001b[0m\u001b]8;;\u001b\\\u001b[2m:\u001b[0m\u001b]8;id=229506;file:///media/donato/Extra-storage/Code/model-merging/cycle-consistent-model-merging/src/ccmm/utils/utils.py#168\u001b\\\u001b[2m168\u001b[0m\u001b]8;;\u001b\\\n"
      ]
     },
     "metadata": {},
     "output_type": "display_data"
    },
    {
     "data": {
      "text/html": [
       "<pre style=\"white-space:pre;overflow-x:auto;line-height:normal;font-family:Menlo,'DejaVu Sans Mono',consolas,'Courier New',monospace\">┏━━━━━━━━━━━━━━━━━━━━━━━━━━━┳━━━━━━━━━━━━━━━━━━━━━━━━━━━┓\n",
       "┃<span style=\"font-weight: bold\">        Test metric        </span>┃<span style=\"font-weight: bold\">       DataLoader 0        </span>┃\n",
       "┡━━━━━━━━━━━━━━━━━━━━━━━━━━━╇━━━━━━━━━━━━━━━━━━━━━━━━━━━┩\n",
       "│<span style=\"color: #008080; text-decoration-color: #008080\">         acc/test          </span>│<span style=\"color: #800080; text-decoration-color: #800080\">    0.9811000227928162     </span>│\n",
       "│<span style=\"color: #008080; text-decoration-color: #008080\">         loss/test         </span>│<span style=\"color: #800080; text-decoration-color: #800080\">    0.04600973054766655    </span>│\n",
       "└───────────────────────────┴───────────────────────────┘\n",
       "</pre>\n"
      ],
      "text/plain": [
       "┏━━━━━━━━━━━━━━━━━━━━━━━━━━━┳━━━━━━━━━━━━━━━━━━━━━━━━━━━┓\n",
       "┃\u001b[1m \u001b[0m\u001b[1m       Test metric       \u001b[0m\u001b[1m \u001b[0m┃\u001b[1m \u001b[0m\u001b[1m      DataLoader 0       \u001b[0m\u001b[1m \u001b[0m┃\n",
       "┡━━━━━━━━━━━━━━━━━━━━━━━━━━━╇━━━━━━━━━━━━━━━━━━━━━━━━━━━┩\n",
       "│\u001b[36m \u001b[0m\u001b[36m        acc/test         \u001b[0m\u001b[36m \u001b[0m│\u001b[35m \u001b[0m\u001b[35m   0.9811000227928162    \u001b[0m\u001b[35m \u001b[0m│\n",
       "│\u001b[36m \u001b[0m\u001b[36m        loss/test        \u001b[0m\u001b[36m \u001b[0m│\u001b[35m \u001b[0m\u001b[35m   0.04600973054766655   \u001b[0m\u001b[35m \u001b[0m│\n",
       "└───────────────────────────┴───────────────────────────┘\n"
      ]
     },
     "metadata": {},
     "output_type": "display_data"
    },
    {
     "data": {
      "text/html": [
       "<pre style=\"white-space:pre;overflow-x:auto;line-height:normal;font-family:Menlo,'DejaVu Sans Mono',consolas,'Courier New',monospace\">┏━━━━━━━━━━━━━━━━━━━━━━━━━━━┳━━━━━━━━━━━━━━━━━━━━━━━━━━━┓\n",
       "┃<span style=\"font-weight: bold\">        Test metric        </span>┃<span style=\"font-weight: bold\">       DataLoader 0        </span>┃\n",
       "┡━━━━━━━━━━━━━━━━━━━━━━━━━━━╇━━━━━━━━━━━━━━━━━━━━━━━━━━━┩\n",
       "│<span style=\"color: #008080; text-decoration-color: #008080\">         acc/test          </span>│<span style=\"color: #800080; text-decoration-color: #800080\">    0.9308000206947327     </span>│\n",
       "│<span style=\"color: #008080; text-decoration-color: #008080\">         loss/test         </span>│<span style=\"color: #800080; text-decoration-color: #800080\">    0.42840489745140076    </span>│\n",
       "└───────────────────────────┴───────────────────────────┘\n",
       "</pre>\n"
      ],
      "text/plain": [
       "┏━━━━━━━━━━━━━━━━━━━━━━━━━━━┳━━━━━━━━━━━━━━━━━━━━━━━━━━━┓\n",
       "┃\u001b[1m \u001b[0m\u001b[1m       Test metric       \u001b[0m\u001b[1m \u001b[0m┃\u001b[1m \u001b[0m\u001b[1m      DataLoader 0       \u001b[0m\u001b[1m \u001b[0m┃\n",
       "┡━━━━━━━━━━━━━━━━━━━━━━━━━━━╇━━━━━━━━━━━━━━━━━━━━━━━━━━━┩\n",
       "│\u001b[36m \u001b[0m\u001b[36m        acc/test         \u001b[0m\u001b[36m \u001b[0m│\u001b[35m \u001b[0m\u001b[35m   0.9308000206947327    \u001b[0m\u001b[35m \u001b[0m│\n",
       "│\u001b[36m \u001b[0m\u001b[36m        loss/test        \u001b[0m\u001b[36m \u001b[0m│\u001b[35m \u001b[0m\u001b[35m   0.42840489745140076   \u001b[0m\u001b[35m \u001b[0m│\n",
       "└───────────────────────────┴───────────────────────────┘\n"
      ]
     },
     "metadata": {},
     "output_type": "display_data"
    },
    {
     "name": "stderr",
     "output_type": "stream",
     "text": [
      " 33%|███▎      | 1/3 [00:02<00:04,  2.33s/it]"
     ]
    },
    {
     "data": {
      "text/html": [
       "<pre style=\"white-space:pre;overflow-x:auto;line-height:normal;font-family:Menlo,'DejaVu Sans Mono',consolas,'Courier New',monospace\"><span style=\"color: #7fbfbf; text-decoration-color: #7fbfbf\">2025-01-07 14:18:17 </span><span style=\"color: #000080; text-decoration-color: #000080\">INFO    </span> Evaluating interpolated model with lambda: <span style=\"color: #008080; text-decoration-color: #008080; font-weight: bold\">0.5</span>                    <a href=\"file:///media/donato/Extra-storage/Code/model-merging/cycle-consistent-model-merging/src/ccmm/utils/utils.py\" target=\"_blank\"><span style=\"color: #7f7f7f; text-decoration-color: #7f7f7f\">ccmm.utils.utils</span></a><span style=\"color: #7f7f7f; text-decoration-color: #7f7f7f\">:</span><a href=\"file:///media/donato/Extra-storage/Code/model-merging/cycle-consistent-model-merging/src/ccmm/utils/utils.py#168\" target=\"_blank\"><span style=\"color: #7f7f7f; text-decoration-color: #7f7f7f\">168</span></a>\n",
       "</pre>\n"
      ],
      "text/plain": [
       "\u001b[2;36m2025-01-07 14:18:17\u001b[0m\u001b[2;36m \u001b[0m\u001b[34mINFO    \u001b[0m Evaluating interpolated model with lambda: \u001b[1;36m0.5\u001b[0m                    \u001b]8;id=726724;file:///media/donato/Extra-storage/Code/model-merging/cycle-consistent-model-merging/src/ccmm/utils/utils.py\u001b\\\u001b[2mccmm.utils.utils\u001b[0m\u001b]8;;\u001b\\\u001b[2m:\u001b[0m\u001b]8;id=777429;file:///media/donato/Extra-storage/Code/model-merging/cycle-consistent-model-merging/src/ccmm/utils/utils.py#168\u001b\\\u001b[2m168\u001b[0m\u001b]8;;\u001b\\\n"
      ]
     },
     "metadata": {},
     "output_type": "display_data"
    },
    {
     "data": {
      "text/html": [
       "<pre style=\"white-space:pre;overflow-x:auto;line-height:normal;font-family:Menlo,'DejaVu Sans Mono',consolas,'Courier New',monospace\">┏━━━━━━━━━━━━━━━━━━━━━━━━━━━┳━━━━━━━━━━━━━━━━━━━━━━━━━━━┓\n",
       "┃<span style=\"font-weight: bold\">        Test metric        </span>┃<span style=\"font-weight: bold\">       DataLoader 0        </span>┃\n",
       "┡━━━━━━━━━━━━━━━━━━━━━━━━━━━╇━━━━━━━━━━━━━━━━━━━━━━━━━━━┩\n",
       "│<span style=\"color: #008080; text-decoration-color: #008080\">         acc/test          </span>│<span style=\"color: #800080; text-decoration-color: #800080\">    0.9384999871253967     </span>│\n",
       "│<span style=\"color: #008080; text-decoration-color: #008080\">         loss/test         </span>│<span style=\"color: #800080; text-decoration-color: #800080\">    0.2525348365306854     </span>│\n",
       "└───────────────────────────┴───────────────────────────┘\n",
       "</pre>\n"
      ],
      "text/plain": [
       "┏━━━━━━━━━━━━━━━━━━━━━━━━━━━┳━━━━━━━━━━━━━━━━━━━━━━━━━━━┓\n",
       "┃\u001b[1m \u001b[0m\u001b[1m       Test metric       \u001b[0m\u001b[1m \u001b[0m┃\u001b[1m \u001b[0m\u001b[1m      DataLoader 0       \u001b[0m\u001b[1m \u001b[0m┃\n",
       "┡━━━━━━━━━━━━━━━━━━━━━━━━━━━╇━━━━━━━━━━━━━━━━━━━━━━━━━━━┩\n",
       "│\u001b[36m \u001b[0m\u001b[36m        acc/test         \u001b[0m\u001b[36m \u001b[0m│\u001b[35m \u001b[0m\u001b[35m   0.9384999871253967    \u001b[0m\u001b[35m \u001b[0m│\n",
       "│\u001b[36m \u001b[0m\u001b[36m        loss/test        \u001b[0m\u001b[36m \u001b[0m│\u001b[35m \u001b[0m\u001b[35m   0.2525348365306854    \u001b[0m\u001b[35m \u001b[0m│\n",
       "└───────────────────────────┴───────────────────────────┘\n"
      ]
     },
     "metadata": {},
     "output_type": "display_data"
    },
    {
     "data": {
      "text/html": [
       "<pre style=\"white-space:pre;overflow-x:auto;line-height:normal;font-family:Menlo,'DejaVu Sans Mono',consolas,'Courier New',monospace\">┏━━━━━━━━━━━━━━━━━━━━━━━━━━━┳━━━━━━━━━━━━━━━━━━━━━━━━━━━┓\n",
       "┃<span style=\"font-weight: bold\">        Test metric        </span>┃<span style=\"font-weight: bold\">       DataLoader 0        </span>┃\n",
       "┡━━━━━━━━━━━━━━━━━━━━━━━━━━━╇━━━━━━━━━━━━━━━━━━━━━━━━━━━┩\n",
       "│<span style=\"color: #008080; text-decoration-color: #008080\">         acc/test          </span>│<span style=\"color: #800080; text-decoration-color: #800080\">    0.9143999814987183     </span>│\n",
       "│<span style=\"color: #008080; text-decoration-color: #008080\">         loss/test         </span>│<span style=\"color: #800080; text-decoration-color: #800080\">    0.34050846099853516    </span>│\n",
       "└───────────────────────────┴───────────────────────────┘\n",
       "</pre>\n"
      ],
      "text/plain": [
       "┏━━━━━━━━━━━━━━━━━━━━━━━━━━━┳━━━━━━━━━━━━━━━━━━━━━━━━━━━┓\n",
       "┃\u001b[1m \u001b[0m\u001b[1m       Test metric       \u001b[0m\u001b[1m \u001b[0m┃\u001b[1m \u001b[0m\u001b[1m      DataLoader 0       \u001b[0m\u001b[1m \u001b[0m┃\n",
       "┡━━━━━━━━━━━━━━━━━━━━━━━━━━━╇━━━━━━━━━━━━━━━━━━━━━━━━━━━┩\n",
       "│\u001b[36m \u001b[0m\u001b[36m        acc/test         \u001b[0m\u001b[36m \u001b[0m│\u001b[35m \u001b[0m\u001b[35m   0.9143999814987183    \u001b[0m\u001b[35m \u001b[0m│\n",
       "│\u001b[36m \u001b[0m\u001b[36m        loss/test        \u001b[0m\u001b[36m \u001b[0m│\u001b[35m \u001b[0m\u001b[35m   0.34050846099853516   \u001b[0m\u001b[35m \u001b[0m│\n",
       "└───────────────────────────┴───────────────────────────┘\n"
      ]
     },
     "metadata": {},
     "output_type": "display_data"
    },
    {
     "name": "stderr",
     "output_type": "stream",
     "text": [
      " 67%|██████▋   | 2/3 [00:05<00:02,  2.59s/it]"
     ]
    },
    {
     "data": {
      "text/html": [
       "<pre style=\"white-space:pre;overflow-x:auto;line-height:normal;font-family:Menlo,'DejaVu Sans Mono',consolas,'Courier New',monospace\"><span style=\"color: #7fbfbf; text-decoration-color: #7fbfbf\">2025-01-07 14:18:19 </span><span style=\"color: #000080; text-decoration-color: #000080\">INFO    </span> Evaluating interpolated model with lambda: <span style=\"color: #008080; text-decoration-color: #008080; font-weight: bold\">1.0</span>                    <a href=\"file:///media/donato/Extra-storage/Code/model-merging/cycle-consistent-model-merging/src/ccmm/utils/utils.py\" target=\"_blank\"><span style=\"color: #7f7f7f; text-decoration-color: #7f7f7f\">ccmm.utils.utils</span></a><span style=\"color: #7f7f7f; text-decoration-color: #7f7f7f\">:</span><a href=\"file:///media/donato/Extra-storage/Code/model-merging/cycle-consistent-model-merging/src/ccmm/utils/utils.py#168\" target=\"_blank\"><span style=\"color: #7f7f7f; text-decoration-color: #7f7f7f\">168</span></a>\n",
       "</pre>\n"
      ],
      "text/plain": [
       "\u001b[2;36m2025-01-07 14:18:19\u001b[0m\u001b[2;36m \u001b[0m\u001b[34mINFO    \u001b[0m Evaluating interpolated model with lambda: \u001b[1;36m1.0\u001b[0m                    \u001b]8;id=495567;file:///media/donato/Extra-storage/Code/model-merging/cycle-consistent-model-merging/src/ccmm/utils/utils.py\u001b\\\u001b[2mccmm.utils.utils\u001b[0m\u001b]8;;\u001b\\\u001b[2m:\u001b[0m\u001b]8;id=720041;file:///media/donato/Extra-storage/Code/model-merging/cycle-consistent-model-merging/src/ccmm/utils/utils.py#168\u001b\\\u001b[2m168\u001b[0m\u001b]8;;\u001b\\\n"
      ]
     },
     "metadata": {},
     "output_type": "display_data"
    },
    {
     "data": {
      "text/html": [
       "<pre style=\"white-space:pre;overflow-x:auto;line-height:normal;font-family:Menlo,'DejaVu Sans Mono',consolas,'Courier New',monospace\">┏━━━━━━━━━━━━━━━━━━━━━━━━━━━┳━━━━━━━━━━━━━━━━━━━━━━━━━━━┓\n",
       "┃<span style=\"font-weight: bold\">        Test metric        </span>┃<span style=\"font-weight: bold\">       DataLoader 0        </span>┃\n",
       "┡━━━━━━━━━━━━━━━━━━━━━━━━━━━╇━━━━━━━━━━━━━━━━━━━━━━━━━━━┩\n",
       "│<span style=\"color: #008080; text-decoration-color: #008080\">         acc/test          </span>│<span style=\"color: #800080; text-decoration-color: #800080\">    0.9769999980926514     </span>│\n",
       "│<span style=\"color: #008080; text-decoration-color: #008080\">         loss/test         </span>│<span style=\"color: #800080; text-decoration-color: #800080\">    0.05489429831504822    </span>│\n",
       "└───────────────────────────┴───────────────────────────┘\n",
       "</pre>\n"
      ],
      "text/plain": [
       "┏━━━━━━━━━━━━━━━━━━━━━━━━━━━┳━━━━━━━━━━━━━━━━━━━━━━━━━━━┓\n",
       "┃\u001b[1m \u001b[0m\u001b[1m       Test metric       \u001b[0m\u001b[1m \u001b[0m┃\u001b[1m \u001b[0m\u001b[1m      DataLoader 0       \u001b[0m\u001b[1m \u001b[0m┃\n",
       "┡━━━━━━━━━━━━━━━━━━━━━━━━━━━╇━━━━━━━━━━━━━━━━━━━━━━━━━━━┩\n",
       "│\u001b[36m \u001b[0m\u001b[36m        acc/test         \u001b[0m\u001b[36m \u001b[0m│\u001b[35m \u001b[0m\u001b[35m   0.9769999980926514    \u001b[0m\u001b[35m \u001b[0m│\n",
       "│\u001b[36m \u001b[0m\u001b[36m        loss/test        \u001b[0m\u001b[36m \u001b[0m│\u001b[35m \u001b[0m\u001b[35m   0.05489429831504822   \u001b[0m\u001b[35m \u001b[0m│\n",
       "└───────────────────────────┴───────────────────────────┘\n"
      ]
     },
     "metadata": {},
     "output_type": "display_data"
    },
    {
     "data": {
      "text/html": [
       "<pre style=\"white-space:pre;overflow-x:auto;line-height:normal;font-family:Menlo,'DejaVu Sans Mono',consolas,'Courier New',monospace\">┏━━━━━━━━━━━━━━━━━━━━━━━━━━━┳━━━━━━━━━━━━━━━━━━━━━━━━━━━┓\n",
       "┃<span style=\"font-weight: bold\">        Test metric        </span>┃<span style=\"font-weight: bold\">       DataLoader 0        </span>┃\n",
       "┡━━━━━━━━━━━━━━━━━━━━━━━━━━━╇━━━━━━━━━━━━━━━━━━━━━━━━━━━┩\n",
       "│<span style=\"color: #008080; text-decoration-color: #008080\">         acc/test          </span>│<span style=\"color: #800080; text-decoration-color: #800080\">    0.9241999983787537     </span>│\n",
       "│<span style=\"color: #008080; text-decoration-color: #008080\">         loss/test         </span>│<span style=\"color: #800080; text-decoration-color: #800080\">    0.49278751015663147    </span>│\n",
       "└───────────────────────────┴───────────────────────────┘\n",
       "</pre>\n"
      ],
      "text/plain": [
       "┏━━━━━━━━━━━━━━━━━━━━━━━━━━━┳━━━━━━━━━━━━━━━━━━━━━━━━━━━┓\n",
       "┃\u001b[1m \u001b[0m\u001b[1m       Test metric       \u001b[0m\u001b[1m \u001b[0m┃\u001b[1m \u001b[0m\u001b[1m      DataLoader 0       \u001b[0m\u001b[1m \u001b[0m┃\n",
       "┡━━━━━━━━━━━━━━━━━━━━━━━━━━━╇━━━━━━━━━━━━━━━━━━━━━━━━━━━┩\n",
       "│\u001b[36m \u001b[0m\u001b[36m        acc/test         \u001b[0m\u001b[36m \u001b[0m│\u001b[35m \u001b[0m\u001b[35m   0.9241999983787537    \u001b[0m\u001b[35m \u001b[0m│\n",
       "│\u001b[36m \u001b[0m\u001b[36m        loss/test        \u001b[0m\u001b[36m \u001b[0m│\u001b[35m \u001b[0m\u001b[35m   0.49278751015663147   \u001b[0m\u001b[35m \u001b[0m│\n",
       "└───────────────────────────┴───────────────────────────┘\n"
      ]
     },
     "metadata": {},
     "output_type": "display_data"
    },
    {
     "name": "stderr",
     "output_type": "stream",
     "text": [
      "100%|██████████| 3/3 [00:07<00:00,  2.61s/it]\n"
     ]
    }
   ],
   "source": [
    "from scripts.evaluate_matched_models import evaluate_pair_of_models\n",
    "\n",
    "restore_original_weights(models, model_orig_weights)\n",
    "\n",
    "updated_params = {fixed_symbol: {permutee_symbol: None}}\n",
    "\n",
    "pylogger.info(f\"Permuting model {permutee_symbol} into {fixed_symbol}.\")\n",
    "\n",
    "# perms[a, b] maps b -> a\n",
    "updated_params[fixed_symbol][permutee_symbol] = apply_permutation_to_statedict(\n",
    "    permutation_spec, gitrebasin_permutations[fixed_symbol][permutee_symbol], models[permutee_symbol].model.state_dict()\n",
    ")\n",
    "restore_original_weights(models, model_orig_weights)\n",
    "\n",
    "lambdas = [0.0, 0.5, 1.0]\n",
    "\n",
    "gitrebasin_results = evaluate_pair_of_models(\n",
    "    models,\n",
    "    fixed_symbol,\n",
    "    permutee_symbol,\n",
    "    updated_params,\n",
    "    train_loader,\n",
    "    test_loader,\n",
    "    lambdas,\n",
    "    core_cfg,\n",
    ")"
   ]
  },
  {
   "cell_type": "markdown",
   "metadata": {},
   "source": [
    "## QAP"
   ]
  },
  {
   "cell_type": "code",
   "execution_count": null,
   "metadata": {},
   "outputs": [],
   "source": [
    "restore_original_weights(models, model_orig_weights)"
   ]
  },
  {
   "cell_type": "markdown",
   "metadata": {},
   "source": [
    "## Evaluation"
   ]
  },
  {
   "cell_type": "code",
   "execution_count": null,
   "metadata": {},
   "outputs": [
    {
     "data": {
      "image/png": "[encoded data removed]",
      "text/plain": [
       "<Figure size 640x480 with 1 Axes>"
      ]
     },
     "metadata": {},
     "output_type": "display_data"
    }
   ],
   "source": [
    "results = {\"git_rebasin\": gitrebasin_results, \"naive\": naive_results, \"func\": func_results}\n",
    "# plot train and test acc\n",
    "\n",
    "for i, (method, method_results) in enumerate(results.items()):\n",
    "\n",
    "    test_acc = method_results[\"test_acc\"]\n",
    "    train_acc = method_results[\"train_acc\"]\n",
    "\n",
    "    plt.plot(lambdas, train_acc, label=f\"{method}\", linestyle=\"solid\", color=palette.get_colors(3)[i])\n",
    "    plt.plot(lambdas, test_acc, label=f\"{method}\", linestyle=\"dashed\", color=palette.get_colors(3)[i])\n",
    "\n",
    "plt.legend()\n",
    "plt.show()"
   ]
  },
  {
   "cell_type": "code",
   "execution_count": null,
   "metadata": {},
   "outputs": [],
   "source": []
  },
  {
   "cell_type": "code",
   "execution_count": null,
   "metadata": {},
   "outputs": [],
   "source": []
  },
  {
   "cell_type": "code",
   "execution_count": null,
   "metadata": {},
   "outputs": [],
   "source": []
  }
 ],
 "metadata": {
  "kernelspec": {
   "display_name": "ccmm",
   "language": "python",
   "name": "python3"
  },
  "language_info": {
   "codemirror_mode": {
    "name": "ipython",
    "version": 3
   },
   "file_extension": ".py",
   "mimetype": "text/x-python",
   "name": "python",
   "nbconvert_exporter": "python",
   "pygments_lexer": "ipython3",
   "version": "3.9.19"
  }
 },
 "nbformat": 4,
 "nbformat_minor": 2
}
