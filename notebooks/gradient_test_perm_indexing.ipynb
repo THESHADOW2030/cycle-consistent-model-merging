{
 "cells": [
  {
   "cell_type": "code",
   "execution_count": null,
   "metadata": {},
   "outputs": [],
   "source": [
    "import torch"
   ]
  },
  {
   "cell_type": "code",
   "execution_count": null,
   "metadata": {},
   "outputs": [],
   "source": [
    "n = 2\n",
    "d = 3\n",
    "c = 4\n",
    "\n",
    "W = torch.arange(n * d * c).reshape(n, d, c)\n",
    "print(W.shape)\n",
    "W"
   ]
  },
  {
   "cell_type": "code",
   "execution_count": null,
   "metadata": {},
   "outputs": [],
   "source": [
    "def apply_perm(perm, x, axis):\n",
    "    assert perm.shape[0] == perm.shape[1]\n",
    "    assert x.shape[axis] == perm.shape[0]\n",
    "\n",
    "    # Bring the specified axis to the front\n",
    "    x = x.moveaxis(axis, 0)\n",
    "\n",
    "    # Store the original shape and reshape for matrix multiplication\n",
    "    original_shape = x.shape\n",
    "    x = x.reshape(x.shape[0], -1)\n",
    "\n",
    "    # Apply the permutation\n",
    "    x_permuted = perm @ x\n",
    "\n",
    "    # Reshape back to the expanded original shape\n",
    "    x_permuted = x_permuted.reshape(original_shape)\n",
    "\n",
    "    # Move the axis back to its original position\n",
    "    x_permuted = x_permuted.moveaxis(0, axis)\n",
    "\n",
    "    return x_permuted"
   ]
  },
  {
   "cell_type": "code",
   "execution_count": null,
   "metadata": {},
   "outputs": [],
   "source": [
    "from ccmm.matching.utils import perm_indices_to_perm_matrix\n",
    "\n",
    "\n",
    "n = 3\n",
    "d = 5\n",
    "\n",
    "X = torch.arange(n * d).reshape(n, d).float()\n",
    "\n",
    "P_indices = torch.randperm(d)\n",
    "P = perm_indices_to_perm_matrix(P_indices).float()"
   ]
  },
  {
   "cell_type": "code",
   "execution_count": null,
   "metadata": {},
   "outputs": [],
   "source": [
    "X.shape"
   ]
  },
  {
   "cell_type": "code",
   "execution_count": null,
   "metadata": {},
   "outputs": [],
   "source": [
    "P.shape"
   ]
  },
  {
   "cell_type": "code",
   "execution_count": null,
   "metadata": {},
   "outputs": [],
   "source": [
    "# P_{l-1} X^T"
   ]
  },
  {
   "cell_type": "code",
   "execution_count": null,
   "metadata": {},
   "outputs": [],
   "source": [
    "# X ~ (n, d)"
   ]
  },
  {
   "cell_type": "code",
   "execution_count": null,
   "metadata": {},
   "outputs": [],
   "source": [
    "X @ P.T"
   ]
  },
  {
   "cell_type": "code",
   "execution_count": null,
   "metadata": {},
   "outputs": [],
   "source": [
    "X_perm = apply_perm(perm=P, x=X, axis=1)\n",
    "X_perm"
   ]
  },
  {
   "cell_type": "code",
   "execution_count": null,
   "metadata": {},
   "outputs": [],
   "source": []
  }
 ],
 "metadata": {
  "kernelspec": {
   "display_name": "ccmm",
   "language": "python",
   "name": "python3"
  },
  "language_info": {
   "codemirror_mode": {
    "name": "ipython",
    "version": 3
   },
   "file_extension": ".py",
   "mimetype": "text/x-python",
   "name": "python",
   "nbconvert_exporter": "python",
   "pygments_lexer": "ipython3",
   "version": "3.9.17"
  }
 },
 "nbformat": 4,
 "nbformat_minor": 2
}
