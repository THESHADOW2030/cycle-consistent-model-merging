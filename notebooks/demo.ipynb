{
 "cells": [
  {
   "cell_type": "code",
   "execution_count": null,
   "metadata": {},
   "outputs": [],
   "source": [
    "import numpy as np\n",
    "\n",
    "# import svd from numpy.linalg\n",
    "from scipy.linalg import svd\n",
    "\n",
    "import matplotlib.pyplot as plt\n",
    "import scipy.misc\n",
    "\n",
    "from scipy.optimize import linear_sum_assignment"
   ]
  },
  {
   "cell_type": "code",
   "execution_count": null,
   "metadata": {},
   "outputs": [],
   "source": [
    "n_points = 10\n",
    "d = 2\n",
    "\n",
    "X = np.random.rand(n_points, d)\n",
    "\n",
    "R = np.random.rand(d, d)\n",
    "U, _, V = svd(R)\n",
    "R = U @ V.T\n",
    "Y = X @ R\n",
    "Y += 1"
   ]
  },
  {
   "cell_type": "code",
   "execution_count": null,
   "metadata": {},
   "outputs": [],
   "source": [
    "P_gt = np.eye(n_points)[np.random.permutation(n_points)]\n",
    "Y = P_gt @ Y\n",
    "\n",
    "S = np.zeros((n_points**2, n_points**2))\n",
    "for xi in range(n_points):\n",
    "    p_xi = X[xi, :]\n",
    "    for yi in range(n_points):\n",
    "        p_yi = Y[yi, :]\n",
    "        for xj in range(n_points):\n",
    "            p_xj = X[xj, :]\n",
    "            dx = np.linalg.norm(p_xi - p_xj, ord=2)\n",
    "            for yj in range(n_points):\n",
    "                p_yj = Y[yj, :]\n",
    "                dy = np.linalg.norm(p_yi - p_yj, ord=2)\n",
    "                S[xi * n_points + yi, xj * n_points + yj] = np.exp(-np.abs(dx - dy) / 1e-2)\n",
    "\n",
    "evals, evecs = np.linalg.eigh(S)\n",
    "v = evecs[:, np.argmax(evals)]\n",
    "\n",
    "P = v.reshape(n_points, n_points).T\n",
    "\n",
    "row_ind, col_ind = linear_sum_assignment(P.max() - P)\n",
    "P = scipy.sparse.coo_matrix((np.ones(n_points), (row_ind, col_ind)), shape=(n_points, n_points)).toarray()\n",
    "\n",
    "fig, ax = plt.subplots(2, 2, figsize=(4, 4))\n",
    "ax[0][0].scatter(X[:, 0], X[:, 1], c=\"tab:blue\")\n",
    "ax[0][0].scatter(Y[:, 0], Y[:, 1], c=\"tab:red\")\n",
    "ax[0][0].set_title(\"point sets\")\n",
    "cax = ax[0][1].imshow(S)\n",
    "ax[0][1].set_title(\"similarity matrix\")\n",
    "fig.colorbar(cax, ax=ax[0][1])\n",
    "ax[1][0].imshow(P_gt)\n",
    "ax[1][0].set_title(\"GT Perm.\")\n",
    "ax[1][1].imshow(P)\n",
    "ax[1][1].set_title(\"Est. Perm.\")"
   ]
  },
  {
   "cell_type": "code",
   "execution_count": null,
   "metadata": {},
   "outputs": [],
   "source": []
  }
 ],
 "metadata": {
  "kernelspec": {
   "display_name": "ccmm",
   "language": "python",
   "name": "python3"
  },
  "language_info": {
   "codemirror_mode": {
    "name": "ipython",
    "version": 3
   },
   "file_extension": ".py",
   "mimetype": "text/x-python",
   "name": "python",
   "nbconvert_exporter": "python",
   "pygments_lexer": "ipython3",
   "version": "3.9.17"
  }
 },
 "nbformat": 4,
 "nbformat_minor": 2
}
